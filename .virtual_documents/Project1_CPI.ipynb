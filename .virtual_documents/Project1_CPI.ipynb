





# Import Libraries

import pandas as pd
import numpy as np
import datetime as dt
from pathlib import Path
import matplotlib.pyplot as plt
import plotly.graph_objects as go

%matplotlib inline


# Set csv paths 

CPI_data = Path('cpi_data.csv')






# Reading CPI data

CPI_data= Path('cpi_data.csv')
CPI_df = pd.read_csv(CPI_data, index_col='Date', parse_dates=True)
CPI_df.head()



# Count nulls

CPI_df.isnull().sum ()











# Convert 'Date' index to datetime
CPI_df.index = pd.to_datetime(CPI_df.index)

# Convert '1-Month % Change' to percentage
CPI_df['1-Month % Change'] *= 100

# Filter data for November months
november_df = CPI_df[CPI_df.index.month == 11]

# Plotting for November months
november_df.plot(kind='bar', y='1-Month % Change', figsize=(22, 20), legend=None, color='skyblue', title='Consumer Price Index (CPI) - November Months')
plt.xlabel('Date')
plt.ylabel('Monthly Change (%)')
plt.show()


import pandas as pd
import plotly.graph_objects as go

# Assuming CPI_df is your DataFrame
# If not, replace CPI_df with your actual DataFrame name

# Convert 'Date' index to datetime
CPI_df.index = pd.to_datetime(CPI_df.index)

# Calculate '1-Month % Change' using pct_change() method
CPI_df['1-Month % Change'] = CPI_df['Observation Value'].pct_change() * 100

# Drop the first row since the percentage change is undefined for it
CPI_df = CPI_df.dropna()

# Convert '1-Month % Change' to strings with a percentage sign
CPI_df['1-Month % Change'] = CPI_df['1-Month % Change'].map(lambda x: f'{x:.2f}%')

# Create an interactive line plot
fig = go.Figure()

fig.add_trace(go.Scatter(x=CPI_df.index, y=CPI_df['1-Month % Change'], mode='lines', name='Monthly Change (%)'))

fig.update_layout(title='Consumer Price Index (CPI) Over 10 Years', xaxis_title='Date', yaxis_title='Monthly Change (%)')

# Set y-axis tick format to display as percentage
fig.update_yaxes(tickformat='%{text:.2f}%')

# Set x-axis ticks to show every November for each year
november_ticks = CPI_df[CPI_df.index.month == 11].index
fig.update_xaxes(
    tickvals=november_ticks,
    ticktext=november_ticks.strftime('%Y-%m'),  # Format as year-month
)

# Show the plot
fig.show()






