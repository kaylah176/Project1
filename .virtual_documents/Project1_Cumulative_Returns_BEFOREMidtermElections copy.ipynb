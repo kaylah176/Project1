# Import libraries 
import pandas as pd
import csv 
from pathlib import Path
import matplotlib.pyplot as plt
import hvplot.pandas



# Read data
data_paths = [
    Path("cumulative_returns_data.csv"),
    Path("cumulative_returns_data2.csv"),
    Path("cumulative_returns_data3.csv"),
    Path("cumulative_returns_data4.csv"),
    Path("cumulative_returns_data5.csv"),
]
# Join data
combined_df = [pd.read_csv(data_path) for data_path in data_paths]

# Define industries
industries = ['Tech', 'Health', 'Finance', 'Consumer', 'Energy', 'Weapons']

# Define year ranges
year_ranges = ["2015-2016(Republican)", "2017-2018(Republican)", "2019-2020(Democratic)", "2021-2022(Democratic)"]

# Plot each industry individually
for industry in industries:
    plt.figure(figsize=(10, 6))
    plt.title(f"Cumulative Returns for {industry}")
    for year, df in zip(year_ranges, dfs):
        plt.plot(df.index, df[industry], label=f"Year {year}")
    plt.xlabel("Trading Days")
    plt.ylabel("Cumulative Returns")
    plt.legend()
    plt.grid(True)
    plt.show()


# Extract the "Tech" columns
tech_columns_list = [df.filter(like='Tech') for df in combined_df]

# Calculate the average of the "Tech" columns for each DataFrame
tech_average_list = [tech_columns.mean() for tech_columns in tech_columns_list]

# Print the average for each DataFrame
for i, tech_average in enumerate(tech_average_list):
    print(f"Average Tech Columns for DataFrame {i + 1}:", tech_average)


# Extract the "Health" columns
health_columns_list = [df.filter(like='Health') for df in combined_df]

# Calculate the average of the "Tech" columns for each DataFrame
health_average_list = [health_columns.mean() for health_columns in health_columns_list]

# Print the average for each DataFrame
for i, health_average in enumerate(health_average_list):
    print(f"Average Health Columns for DataFrame {i + 1}:", health_average)


# Extract the "Finance" columns
finance_columns_list = [df.filter(like='Finance') for df in combined_df]

# Calculate the average of the "Finance" columns for each DataFrame
finance_average_list = [finance_columns.mean() for finance_columns in finance_columns_list]

# Print the average for each DataFrame
for i, finance_average in enumerate(finance_average_list):
    print(f"Average Finance Columns for DataFrame {i + 1}:", finance_average)


# Extract the "Consumer" columns
consumer_columns_list = [df.filter(like='Consumer') for df in combined_df]

# Calculate the average of the "Consumer" columns for each DataFrame
consumer_average_list = [consumer_columns.mean() for consumer_columns in consumer_columns_list]

# Print the average for each DataFrame
for i, consumer_average in enumerate(consumer_average_list):
    print(f"Average  Columns for DataFrame {i + 1}:", consumer_average)


# Extract the "Energy" columns
energy_columns_list = [df.filter(like='Energy') for df in combined_df]

# Calculate the average of the "Consumer" columns for each DataFrame
energy_average_list = [energy_columns.mean() for energy_columns in energy_columns_list]

# Print the average for each DataFrame
for i, energy_average in enumerate(energy_average_list):
    print(f"Average Columns for DataFrame {i + 1}:", energy_average)


# Extract the "Weapons" columns
weapons_columns_list = [df.filter(like='Weapons') for df in combined_df]

# Calculate the average of the "Weapons" columns for each DataFrame
weapons_average_list = [weapons_columns.mean() for weapons_columns in weapons_columns_list]

# Print the average for each DataFrame
for i, weapons_average in enumerate(weapons_average_list):
    print(f"Average Columns for DataFrame {i + 1}:", weapons_average)


print(weapons_average)
print(energy_average)
print(consumer_average)
print(finance_average)
print(health_average)
print(tech_average)






