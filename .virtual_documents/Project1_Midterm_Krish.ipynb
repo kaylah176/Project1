





import yfinance as yf

# Initial imports
import pandas as pd
import numpy as np
import datetime as dt
from pathlib import Path
import matplotlib.pyplot as plt





# Define the stock ticker and date range: Apple Inc. 
AAPL_stock = 'AAPL'
start_date = '2015-11-01'  # example start date
end_date = '2016-10-31'    # example end date

# Download the stock data
data_AAPL = yf.download(AAPL_stock, start=start_date, end=end_date)

# Print the type of the data
#print(type(data_AAPL))

# Print the first few columns of the data
#print(data_AAPL.iloc[:, :5])  # This prints the first three columns of the DataFrame


# Define the stock ticker and date range: Microsoft 
MSFT_stock = 'MSFT'
start_date = '2015-11-01'  # example start date
end_date = '2016-10-31'    # example end date

# Download the stock data
data_MSFT = yf.download(MSFT_stock, start=start_date, end=end_date)

# Print the type of the data
#print(type(data_MSFT))

# Print the first few columns of the data
#print(data_MSFT.iloc[:, :5])  # This prints the first three columns of the DataFrame


# Define the stock ticker and date range: Google 
GOOG_stock = 'GOOG'
start_date = '2015-11-01'  # example start date
end_date = '2016-10-31'    # example end date

# Download the stock data
data_GOOG = yf.download(GOOG_stock, start=start_date, end=end_date)

# Print the type of the data
#print(type(data_GOOG))

# Print the first few columns of the data
#print(data_GOOG.iloc[:, :5])  # This prints the first three columns of the DataFrame





# Define the stock ticker and date range: Johnson and Johnson 
JNJ_stock = 'JNJ'
start_date = '2015-11-01'  # example start date
end_date = '2016-10-31'    # example end date

# Download the stock data
data_JNJ = yf.download(JNJ_stock, start=start_date, end=end_date)

# Print the type of the data
#print(type(data_JNJ))

# Print the first few columns of the data
#print(data_JNJ.iloc[:, :5])  # This prints the first three columns of the DataFrame


# Define the stock ticker and date range: Pfizer Inc
PFE_stock = 'PFE'
start_date = '2015-11-01'  # example start date
end_date = '2016-10-31'    # example end date

# Download the stock data
data_PFE = yf.download(PFE_stock, start=start_date, end=end_date)

# Print the type of the data
#print(type(data_PFE))

# Print the first few columns of the data
#print(data_PFE.iloc[:, :5])  # This prints the first three columns of the DataFrame


# Define the stock ticker and date range: United Health Group
UNH_stock = 'UNH'
start_date = '2015-11-01'  # example start date
end_date = '2016-10-31'    # example end date

# Download the stock data
data_UNH = yf.download(UNH_stock, start=start_date, end=end_date)

# Print the type of the data
#print(type(data_UNH))

# Print the first few columns of the data
#print(data_UNH.iloc[:, :5])  # This prints the first three columns of the DataFrame





# Define the stock ticker and date range: JPMorgan Chase and Co. 
JPM_stock = 'JPM'
start_date = '2015-11-01'  # example start date
end_date = '2016-10-31'    # example end date

# Download the stock data
data_JPM = yf.download(JPM_stock, start=start_date, end=end_date)

# Print the type of the data
#print(type(data_JPM))

# Print the first few columns of the data
#print(data_JPM.iloc[:, :5])  # This prints the first three columns of the DataFrame


# Define the stock ticker and date range: Bank of America 
BAC_stock = 'BAC'
start_date = '2015-11-01'  # example start date
end_date = '2016-10-31'    # example end date

# Download the stock data
data_BAC = yf.download(BAC_stock, start=start_date, end=end_date)

# Print the type of the data
#print(type(data_BAC))

# Print the first few columns of the data
#print(data_BAC.iloc[:, :5])  # This prints the first three columns of the DataFrame


# Define the stock ticker and date range: Visa
V_stock = 'V'
start_date = '2015-11-01'  # example start date
end_date = '2016-10-31'    # example end date

# Download the stock data
data_V = yf.download(V_stock, start=start_date, end=end_date)

# Print the type of the data
#print(type(data_V))

# Print the first few columns of the data
#print(data_V.iloc[:, :5])  # This prints the first three columns of the DataFrame





# Define the stock ticker and date range: Amazon
AMZN_stock = 'AMZN'
start_date = '2015-11-01'  # example start date
end_date = '2016-10-31'    # example end date

# Download the stock data
data_AMZN = yf.download(AMZN_stock, start=start_date, end=end_date)

# Print the type of the data
#print(type(data_AMZN))

# Print the first few columns of the data
#print(data_AMZN.iloc[:, :5])  # This prints the first three columns of the DataFrame


# Define the stock ticker and date range: Nike
NKE_stock = 'NKE'
start_date = '2015-11-01'  # example start date
end_date = '2016-10-31'    # example end date

# Download the stock data
data_NKE = yf.download(NKE_stock, start=start_date, end=end_date)

# Print the type of the data
#print(type(data_NKE))

# Print the first few columns of the data
#print(data_NKE.iloc[:, :5])  # This prints the first three columns of the DataFrame


# Define the stock ticker and date range: Walt Disney Company 
DIS_stock = 'DIS'
start_date = '2015-11-01'  # example start date
end_date = '2016-10-31'    # example end date

# Download the stock data
data_DIS = yf.download(DIS_stock, start=start_date, end=end_date)

# Print the type of the data
#print(type(data_DIS))

# Print the first few columns of the data
#print(data_DIS.iloc[:, :5])  # This prints the first three columns of the DataFrame





# Define the stock ticker and date range: Exxon Mobile Incorporation
XOM_stock = 'XOM'
start_date = '2015-11-01'  # example start date
end_date = '2016-10-31'    # example end date

# Download the stock data
data_XOM = yf.download(XOM_stock, start=start_date, end=end_date)

# Print the type of the data
#print(type(data_XOM))

# Print the first few columns of the data
#print(data_XOM.iloc[:, :5])  # This prints the first three columns of the DataFrame


# Define the stock ticker and date range: First Solar Inc. 
FSLR_stock = 'FSLR'
start_date = '2015-11-01'  # example start date
end_date = '2016-10-31'    # example end date

# Download the stock data
data_FSLR = yf.download(FSLR_stock, start=start_date, end=end_date)

# Print the type of the data
#print(type(data_FSLR))

# Print the first few columns of the data
#print(data_FSLR.iloc[:, :5])  # This prints the first three columns of the DataFrame


# Define the stock ticker and date range: NextEra Energy Resources
NEE_stock = 'NEE'
start_date = '2015-11-01'  # example start date
end_date = '2016-10-31'    # example end date

# Download the stock data
data_NEE = yf.download(NEE_stock, start=start_date, end=end_date)

# Print the type of the data
#print(type(data_NEE))

# Print the first few columns of the data
#print(data_NEE.iloc[:, :5])  # This prints the first three columns of the DataFrame





# Define the stock ticker and date range: Lockheed Martin Corporation
LMT_stock = 'LMT'
start_date = '2015-11-01'  # example start date
end_date = '2016-10-31'    # example end date

# Download the stock data
data_LMT = yf.download(LMT_stock, start=start_date, end=end_date)

# Print the type of the data
#print(type(data_LMT))

# Print the first few columns of the data
#print(data_LMT.iloc[:, :5])  # This prints the first three columns of the DataFrame


# Define the stock ticker and date range: Raytheon Technologies Corporation
RTX_stock = 'RTX'
start_date = '2015-11-01'  # example start date
end_date = '2016-10-31'    # example end date

# Download the stock data
data_RTX = yf.download(RTX_stock, start=start_date, end=end_date)

# Print the type of the data
#print(type(data_RTX))

# Print the first few columns of the data
#print(data_RTX.iloc[:, :5])  # This prints the first three columns of the DataFrame


# Define the stock ticker and date range: Northrup Grumman Corporation
NOC_stock = 'NOC'
start_date = '2015-11-01'  # example start date
end_date = '2016-10-31'    # example end date

# Download the stock data
data_NOC = yf.download(NOC_stock, start=start_date, end=end_date)

# Print the type of the data
#print(type(data_NOC))

# Print the first few columns of the data
#print(data_NOC.iloc[:, :5])  # This prints the first three columns of the DataFrame





# Combine all stocks into a single Dataframe 
custom_portfolio_df = pd.concat([data_AAPL,data_MSFT,data_GOOG,data_JNJ,data_PFE,data_UNH,data_JPM,data_BAC,data_V,data_AMZN,data_NKE,data_DIS,data_XOM,data_FSLR,data_NEE,data_LMT,data_RTX,data_NOC], axis="columns", join="inner")
custom_portfolio_df.head()


small_df=custom_portfolio_df['Close']
small_df.columns=['AAPL','MSFT', 'GOOG', 'JNJ','PFE','UNH','JPM','BAC','V','AMZN','NKE','DIS','XOM','FSLR','NEE','LMT','RTX','NOC']
small_df





tech_df=small_df[['AAPL','MSFT','GOOG']]
tech_df





health_df=small_df[['JNJ','PFE','UNH']]
health_df





finance_df=small_df[['JPM','BAC','V']]
finance_df





consumer_df=small_df[['AMZN','NKE','DIS']]
consumer_df





energy_df=small_df[['XOM','FSLR','NEE']]
energy_df





weapons_df=small_df[['LMT','RTX','NOC']]
weapons_df





# Calculate daily returns, drop nas, and display the data 
# Tech Daily Returns 
tech_daily = tech_df.pct_change().dropna()
tech_daily.head()

# Healthcare Daily Returns 
health_daily = health_df.pct_change().dropna()
health_daily.head()

# Financials Daily Returns 
finance_daily = finance_df.pct_change().dropna()
finance_daily.head()

# Consumer Discretionary Daily Returns 
consumer_daily = consumer_df.pct_change().dropna()
consumer_daily.head()

# Energy Daily Returns 
energy_daily = energy_df.pct_change().dropna()
energy_daily.head()

# Weapons Manufacturing Daily Returns 
weapons_daily = weapons_df.pct_change().dropna()
weapons_daily.head()

combined_daily_returns = pd.concat([
    tech_daily.head(),
    health_daily.head(),
    finance_daily.head(),
    consumer_daily.head(),
    energy_daily.head(),
    weapons_daily.head()
], axis=1)

# Rename the columns for clarity
combined_daily_returns.columns = ['AAPL','MSFT', 'GOOG', 'JNJ','PFE','UNH','JPM','BAC','V','AMZN','NKE','DIS','XOM','FSLR','NEE','LMT','RTX','NOC']

# Display the combined DataFrame
print(combined_daily_returns.head())

# Set weights
weights = [1/3, 1/3, 1/3]

# Define a dictionary containing the daily returns for each sector
daily_returns_dict = {
    "Tech": tech_daily,
    "Health": health_daily,
    "Finance": finance_daily,
    "Consumer": consumer_daily,
    "Energy": energy_daily,
    "Weapons": weapons_daily
}

# Create an empty dictionary to store the returns for each sector
sector_returns = {}

# Calculate the returns for each sector and store them in the dictionary
for sector, combined_daily_returns in daily_returns_dict.items():
    sector_returns[sector] = (weights * combined_daily_returns).sum(axis=1)

# Create a DataFrame from the sector_returns dictionary
returns_df = pd.DataFrame(sector_returns)

# Display the DataFrame
print(returns_df)








cumulative_returns = (1 + returns_df).cumprod()
print(cumulative_returns)
cumulative_returns.plot(figsize=(10, 6))  # Adjust figsize as needed
plt.title('Cumulative Returns of Each Industry')
plt.xlabel('Date')
plt.ylabel('Cumulative Returns')
plt.grid(True)
plt.legend()
plt.show()





# Calculate the daily standard deviation 
daily_std_dev = np.std(returns_df)
print(daily_std_dev)


# Calculate the annualized standard deviation (252 trading days)
annualized_std = daily_std_dev * np.sqrt(252)

# Plot the Annualized standard deviation
annualized_std.plot.bar(figsize=(10, 6))  # Adjust figsize as needed
plt.title('Annualized Standard Deviation of Each Industry')
plt.xlabel('Industry')
plt.ylabel('Annualized Standard Deviation')
plt.grid(True)
plt.legend()
plt.show()





# Annualized Sharpe Ratios 
sharpe_ratios = (returns_df.mean() * 252) / (returns_df.std() * np.sqrt(252))
sharpe_ratios 

# Visualize the sharpe ratios as a bar plot
sharpe_ratios.plot(kind='bar', color='skyblue', figsize=(10, 6))

# Customizing the plot
plt.title('Sharpe Ratios of Each Industry')
plt.xlabel('Industry')
plt.ylabel('Sharpe Ratio')
plt.xticks(rotation=45)  # Rotate x-axis labels for better readability
plt.grid(axis='y', linestyle='--', alpha=0.7)  # Adding grid lines

# Adding data labels
for i, val in enumerate(sharpe_ratios.values):
    plt.text(i, val, round(val, 2), ha='center', va='bottom')

# Adding horizontal line at Sharpe ratio of 0 for reference
plt.axhline(y=0, color='gray', linestyle='--', linewidth=0.5)

# Show plot
plt.tight_layout()  # Adjust layout to prevent clipping of labels
plt.show()











# Define the stock ticker and date range: Apple Inc. 
AAPL_stock = 'AAPL'
start_date = '2016-11-01'  # example start date
end_date = '2017-10-31'    # example end date

# Download the stock data
data_AAPL = yf.download(AAPL_stock, start=start_date, end=end_date)

# Print the type of the data
#print(type(data_AAPL))

# Print the first few columns of the data
#print(data_AAPL.iloc[:, :5])  # This prints the first three columns of the DataFrame


# Define the stock ticker and date range: Microsoft 
MSFT_stock = 'MSFT'
start_date = '2016-11-01'  # example start date
end_date = '2017-10-31'    # example end date

# Download the stock data
data_MSFT = yf.download(MSFT_stock, start=start_date, end=end_date)

# Print the type of the data
#print(type(data_MSFT))

# Print the first few columns of the data
#print(data_MSFT.iloc[:, :5])  # This prints the first three columns of the DataFrame


# Define the stock ticker and date range: Google 
GOOG_stock = 'GOOG'
start_date = '2022-11-01'  # example start date
end_date = '2023-10-31'    # example end date

# Download the stock data
data_GOOG = yf.download(GOOG_stock, start=start_date, end=end_date)

# Print the type of the data
#print(type(data_GOOG))

# Print the first few columns of the data
#print(data_GOOG.iloc[:, :5])  # This prints the first three columns of the DataFrame





# Define the stock ticker and date range: Johnson and Johnson 
JNJ_stock = 'JNJ'
start_date = '2016-11-01'  # example start date
end_date = '2017-10-31'    # example end date

# Download the stock data
data_JNJ = yf.download(JNJ_stock, start=start_date, end=end_date)

# Print the type of the data
#print(type(data_JNJ))

# Print the first few columns of the data
#print(data_JNJ.iloc[:, :5])  # This prints the first three columns of the DataFrame


# Define the stock ticker and date range: Pfizer Inc
PFE_stock = 'PFE'
start_date = '2016-11-01'  # example start date
end_date = '2017-10-31'    # example end date

# Download the stock data
data_PFE = yf.download(PFE_stock, start=start_date, end=end_date)

# Print the type of the data
#print(type(data_PFE))

# Print the first few columns of the data
#print(data_PFE.iloc[:, :5])  # This prints the first three columns of the DataFrame


# Define the stock ticker and date range: United Health Group
UNH_stock = 'UNH'
start_date = '2016-11-01'  # example start date
end_date = '2017-10-31'    # example end date

# Download the stock data
data_UNH = yf.download(UNH_stock, start=start_date, end=end_date)

# Print the type of the data
#print(type(data_UNH))

# Print the first few columns of the data
#print(data_UNH.iloc[:, :5])  # This prints the first three columns of the DataFrame





# Define the stock ticker and date range: JPMorgan Chase and Co. 
JPM_stock = 'JPM'
start_date = '2016-11-01'  # example start date
end_date = '2017-10-31'    # example end date

# Download the stock data
data_JPM = yf.download(JPM_stock, start=start_date, end=end_date)

# Print the type of the data
#print(type(data_JPM))

# Print the first few columns of the data
#print(data_JPM.iloc[:, :5])  # This prints the first three columns of the DataFrame


# Define the stock ticker and date range: Bank of America 
BAC_stock = 'BAC'
start_date = '2016-11-01'  # example start date
end_date = '2017-10-31'    # example end date

# Download the stock data
data_BAC = yf.download(BAC_stock, start=start_date, end=end_date)

# Print the type of the data
#print(type(data_BAC))

# Print the first few columns of the data
#print(data_BAC.iloc[:, :5])  # This prints the first three columns of the DataFrame


# Define the stock ticker and date range: Visa
V_stock = 'V'
start_date = '2016-11-01'  # example start date
end_date = '2017-10-31'    # example end date

# Download the stock data
data_V = yf.download(V_stock, start=start_date, end=end_date)

# Print the type of the data
#print(type(data_V))

# Print the first few columns of the data
#print(data_V.iloc[:, :5])  # This prints the first three columns of the DataFrame





# Define the stock ticker and date range: Amazon
AMZN_stock = 'AMZN'
start_date = '2016-11-01'  # example start date
end_date = '2017-10-31'    # example end date

# Download the stock data
data_AMZN = yf.download(AMZN_stock, start=start_date, end=end_date)

# Print the type of the data
#print(type(data_AMZN))

# Print the first few columns of the data
#print(data_AMZN.iloc[:, :5])  # This prints the first three columns of the DataFrame


# Define the stock ticker and date range: Nike
NKE_stock = 'NKE'
start_date = '2016-11-01'  # example start date
end_date = '2017-10-31'    # example end date

# Download the stock data
data_NKE = yf.download(NKE_stock, start=start_date, end=end_date)

# Print the type of the data
#print(type(data_NKE))

# Print the first few columns of the data
#print(data_NKE.iloc[:, :5])  # This prints the first three columns of the DataFrame


# Define the stock ticker and date range: Walt Disney Company 
DIS_stock = 'DIS'
start_date = '2016-11-01'  # example start date
end_date = '2017-10-31'    # example end date

# Download the stock data
data_DIS = yf.download(DIS_stock, start=start_date, end=end_date)

# Print the type of the data
#print(type(data_DIS))

# Print the first few columns of the data
#print(data_DIS.iloc[:, :5])  # This prints the first three columns of the DataFrame





# Define the stock ticker and date range: Exxon Mobile Incorporation
XOM_stock = 'XOM'
start_date = '2016-11-01'  # example start date
end_date = '2017-10-31'    # example end date

# Download the stock data
data_XOM = yf.download(XOM_stock, start=start_date, end=end_date)

# Print the type of the data
#print(type(data_XOM))

# Print the first few columns of the data
#print(data_XOM.iloc[:, :5])  # This prints the first three columns of the DataFrame


# Define the stock ticker and date range: First Solar Inc. 
FSLR_stock = 'FSLR'
start_date = '2016-11-01'  # example start date
end_date = '2017-10-31'    # example end date

# Download the stock data
data_FSLR = yf.download(FSLR_stock, start=start_date, end=end_date)

# Print the type of the data
#print(type(data_FSLR))

# Print the first few columns of the data
#print(data_FSLR.iloc[:, :5])  # This prints the first three columns of the DataFrame


# Define the stock ticker and date range: NextEra Energy Resources
NEE_stock = 'NEE'
start_date = '2016-11-01'  # example start date
end_date = '2017-10-31'    # example end date

# Download the stock data
data_NEE = yf.download(NEE_stock, start=start_date, end=end_date)

# Print the type of the data
#print(type(data_NEE))

# Print the first few columns of the data
#print(data_NEE.iloc[:, :5])  # This prints the first three columns of the DataFrame





# Define the stock ticker and date range: Lockheed Martin Corporation
LMT_stock = 'LMT'
start_date = '2016-11-01'  # example start date
end_date = '2017-10-31'    # example end date

# Download the stock data
data_LMT = yf.download(LMT_stock, start=start_date, end=end_date)

# Print the type of the data
#print(type(data_LMT))

# Print the first few columns of the data
#print(data_LMT.iloc[:, :5])  # This prints the first three columns of the DataFrame


# Define the stock ticker and date range: Raytheon Technologies Corporation
RTX_stock = 'RTX'
start_date = '2016-11-01'  # example start date
end_date = '2017-10-31'    # example end date

# Download the stock data
data_RTX = yf.download(RTX_stock, start=start_date, end=end_date)

# Print the type of the data
#print(type(data_RTX))

# Print the first few columns of the data
#print(data_RTX.iloc[:, :5])  # This prints the first three columns of the DataFrame


# Define the stock ticker and date range: Northrup Grumman Corporation
NOC_stock = 'NOC'
start_date = '2016-11-01'  # example start date
end_date = '2017-10-31'    # example end date

# Download the stock data
data_NOC = yf.download(NOC_stock, start=start_date, end=end_date)

# Print the type of the data
#print(type(data_NOC))

# Print the first few columns of the data
#print(data_NOC.iloc[:, :5])  # This prints the first three columns of the DataFrame





# Combine all stocks into a single Dataframe 
custom_portfolio_df = pd.concat([data_AAPL,data_MSFT,data_GOOG,data_JNJ,data_PFE,data_UNH,data_JPM,data_BAC,data_V,data_AMZN,data_NKE,data_DIS,data_XOM,data_FSLR,data_NEE,data_LMT,data_RTX,data_NOC], axis="columns", join="inner")
custom_portfolio_df.head()


small_df=custom_portfolio_df['Close']
small_df.columns=['AAPL','MSFT', 'GOOG', 'JNJ','PFE','UNH','JPM','BAC','V','AMZN','NKE','DIS','XOM','FSLR','NEE','LMT','RTX','NOC']
small_df





tech_df=small_df[['AAPL','MSFT','GOOG']]
tech_df





health_df=small_df[['JNJ','PFE','UNH']]
health_df





finance_df=small_df[['JPM','BAC','V']]
finance_df





consumer_df=small_df[['AMZN','NKE','DIS']]
consumer_df





energy_df=small_df[['XOM','FSLR','NEE']]
energy_df





weapons_df=small_df[['LMT','RTX','NOC']]
weapons_df





# Calculate daily returns, drop nas, and display the data 
# Tech Daily Returns 
tech_daily = tech_df.pct_change().dropna()
tech_daily.head()

# Healthcare Daily Returns 
health_daily = health_df.pct_change().dropna()
health_daily.head()

# Financials Daily Returns 
finance_daily = finance_df.pct_change().dropna()
finance_daily.head()

# Consumer Discretionary Daily Returns 
consumer_daily = consumer_df.pct_change().dropna()
consumer_daily.head()

# Energy Daily Returns 
energy_daily = energy_df.pct_change().dropna()
energy_daily.head()

# Weapons Manufacturing Daily Returns 
weapons_daily = weapons_df.pct_change().dropna()
weapons_daily.head()

combined_daily_returns = pd.concat([
    tech_daily.head(),
    health_daily.head(),
    finance_daily.head(),
    consumer_daily.head(),
    energy_daily.head(),
    weapons_daily.head()
], axis=1)

# Rename the columns for clarity
combined_daily_returns.columns = ['AAPL','MSFT', 'GOOG', 'JNJ','PFE','UNH','JPM','BAC','V','AMZN','NKE','DIS','XOM','FSLR','NEE','LMT','RTX','NOC']

# Display the combined DataFrame
print(combined_daily_returns.head())

# Set weights
weights = [1/3, 1/3, 1/3]

# Define a dictionary containing the daily returns for each sector
daily_returns_dict = {
    "Tech": tech_daily,
    "Health": health_daily,
    "Finance": finance_daily,
    "Consumer": consumer_daily,
    "Energy": energy_daily,
    "Weapons": weapons_daily
}

# Create an empty dictionary to store the returns for each sector
sector_returns = {}

# Calculate the returns for each sector and store them in the dictionary
for sector, combined_daily_returns in daily_returns_dict.items():
    sector_returns[sector] = (weights * combined_daily_returns).sum(axis=1)

# Create a DataFrame from the sector_returns dictionary
returns_df = pd.DataFrame(sector_returns)

# Display the DataFrame
print(returns_df)








cumulative_returns = (1 + returns_df).cumprod()

cumulative_returns.plot(figsize=(10, 6))  # Adjust figsize as needed
plt.title('Cumulative Returns of Each Industry')
plt.xlabel('Date')
plt.ylabel('Cumulative Returns')
plt.grid(True)
plt.legend()
plt.show()





# Calculate the daily standard deviation 
daily_std_dev = np.std(returns_df)
print(daily_std_dev)


# Calculate the annualized standard deviation (252 trading days)
annualized_std = daily_std_dev * np.sqrt(252)

# Plot the Annualized standard deviation
annualized_std.plot.bar(figsize=(10, 6))  # Adjust figsize as needed
plt.title('Annualized Standard Deviation of Each Industry')
plt.xlabel('Industry')
plt.ylabel('Annualized Standard Deviation')
plt.grid(True)
plt.legend()
plt.show()





# Annualized Sharpe Ratios 
sharpe_ratios = (returns_df.mean() * 252) / (returns_df.std() * np.sqrt(252))
sharpe_ratios 

# Visualize the sharpe ratios as a bar plot
sharpe_ratios.plot(kind='bar', color='skyblue', figsize=(10, 6))

# Customizing the plot
plt.title('Sharpe Ratios of Each Industry (Nov 2022 to Oct 2023)')
plt.xlabel('Industry')
plt.ylabel('Sharpe Ratio')
plt.xticks(rotation=45)  # Rotate x-axis labels for better readability
plt.grid(axis='y', linestyle='--', alpha=0.7)  # Adding grid lines

# Adding data labels
for i, val in enumerate(sharpe_ratios.values):
    plt.text(i, val, round(val, 2), ha='center', va='bottom')

# Adding horizontal line at Sharpe ratio of 0 for reference
plt.axhline(y=0, color='gray', linestyle='--', linewidth=0.5)

# Show plot
plt.tight_layout()  # Adjust layout to prevent clipping of labels
plt.show()
