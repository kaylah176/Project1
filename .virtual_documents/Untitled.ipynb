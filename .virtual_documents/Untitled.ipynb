# Import libraries and dependencies


# Load .env enviroment variables


# Set Alpaca API key and secret



# Set the tickers


# Set timeframe


# Set start and end datetimes



