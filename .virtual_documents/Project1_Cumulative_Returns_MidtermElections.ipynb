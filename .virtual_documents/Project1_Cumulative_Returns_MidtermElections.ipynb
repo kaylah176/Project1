# Import libraries 
import pandas as pd
import csv 
from pathlib import Path
import matplotlib.pyplot as plt
import hvplot.pandas






# Read data
data_paths = [
    Path("cumulative_returns_2016_2017_R.csv"),
    Path("cumulative_returns_2018_2019_R.csv"),
    Path("cumulative_returns_2020_2021_D.csv"),
    Path("cumulative_returns_2022_2023_D.csv")
]
# Join data
dfs = [pd.read_csv(data_path) for data_path in data_paths]

# Define industries
industries = ['Tech', 'Health', 'Finance', 'Consumer', 'Energy', 'Weapons']

# Define year ranges
year_ranges = ["2016-2017(Republican)", "2018-2019(Republican)", "2020-2021(Democratic)", "2022-2023(Democraic)"]

# Plot each industry individually
for industry in industries:
    plt.figure(figsize=(10, 6))
    plt.title(f"Cumulative Returns for {industry}")
    for year, df in zip(year_ranges, dfs):
        plt.plot(df.index, df[industry], label=f"Year {year}")
    plt.xlabel("Trading Days")
    plt.ylabel("Cumulative Returns")
    plt.legend()
    plt.grid(True)
    plt.show()


# Assuming df is your DataFrame containing the data
# Extract the "Tech" columns
tech_columns = combined_df.filter(like='Tech')

# Calculate the average of the "Tech" columns
tech_average = tech_columns.mean()

print(tech_average)





# Assuming df is your DataFrame containing the data
# Extract the "Health" columns
health_columns = combined_df.filter(like='Health')

# Calculate the average of the "Tech" columns
health_average = health_columns.mean()

print(health_average)


# Assuming df is your DataFrame containing the data
# Extract the "Finance" columns
finance_columns = combined_df.filter(like='Finance')

# Calculate the average of the "Tech" columns
finance_average = finance_columns.mean()

print(finance_average)


# Assuming df is your DataFrame containing the data
# Extract the "Consumer" columns
consumer_columns = combined_df.filter(like='Consumer')

# Calculate the average of the "Tech" columns
consumer_average = consumer_columns.mean()

print(consumer_average)


# Assuming df is your DataFrame containing the data
# Extract the "Energy" columns
energy_columns = combined_df.filter(like='Energy')

# Calculate the average of the "Tech" columns
energy_average = energy_columns.mean()

print(energy_average)


# Assuming df is your DataFrame containing the data
# Extract the "Weapons" columns
weapons_columns = combined_df.filter(like='Weapons')

# Calculate the average of the "Tech" columns
weapons_average = weapons_columns.mean()

print(weapons_average)


print(weapons_average)
print(energy_average)
print(consumer_average)
print(finance_average)
print(health_average)
print(tech_average)



