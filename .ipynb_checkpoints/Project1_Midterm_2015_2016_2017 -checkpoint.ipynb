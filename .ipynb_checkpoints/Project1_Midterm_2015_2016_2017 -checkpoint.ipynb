{
 "cells": [
  {
   "cell_type": "markdown",
   "id": "d694eeb0",
   "metadata": {},
   "source": [
    "# Create Custom Portfolio: 12 months Before \n",
    "## Time Period: November 2015 to October 2016\n",
    "In this section, we chose three stocks from the top six invested in industries, calculate the returns, and compare the results to determine which industry performed best\n",
    "\n",
    "1. Choose 3 stocks with at last 1 year's worth of historic prices and create a DataFrame of the closing prices and dates for each stock.\n",
    "2. Calculate the weighted returns for the portfolio assuming an equal number of shares for each stock\n",
    "3. Join your portfolio returns to the DataFrame that contains all of the portfolio returns\n",
    "4. Re-run the performance and risk analysis with your portfolio to see how it compares to the others\n",
    "5. Include correlation analysis to determine which stocks (if any) are correlated"
   ]
  },
  {
   "cell_type": "markdown",
   "id": "c6085b36",
   "metadata": {},
   "source": [
    "## Choose 3-5 custom stocks with at last 1 year's worth of historic prices and create a DataFrame of the closing prices and dates for each stock."
   ]
  },
  {
   "cell_type": "code",
   "execution_count": 21,
   "id": "6a008aa5",
   "metadata": {},
   "outputs": [],
   "source": [
    "import yfinance as yf\n",
    "\n",
    "# Initial imports\n",
    "import pandas as pd\n",
    "import numpy as np\n",
    "import datetime as dt\n",
    "from pathlib import Path\n",
    "import matplotlib.pyplot as plt"
   ]
  },
  {
   "cell_type": "markdown",
   "id": "841014a0",
   "metadata": {},
   "source": [
    "## Technology Sector\n",
    "These are the three stocks we chose within the Technology Industry"
   ]
  },
  {
   "cell_type": "code",
   "execution_count": 22,
   "id": "7b32099f",
   "metadata": {},
   "outputs": [
    {
     "name": "stderr",
     "output_type": "stream",
     "text": [
      "[*********************100%%**********************]  1 of 1 completed\n",
      "\n"
     ]
    }
   ],
   "source": [
    "# Define the stock ticker and date range: Apple Inc. \n",
    "AAPL_stock = 'AAPL'\n",
    "start_date = '2015-11-01'  # example start date\n",
    "end_date = '2016-10-31'    # example end date\n",
    "\n",
    "# Download the stock data\n",
    "data_AAPL = yf.download(AAPL_stock, start=start_date, end=end_date)"
   ]
  },
  {
   "cell_type": "code",
   "execution_count": null,
   "id": "2eeb51ad",
   "metadata": {},
   "outputs": [],
   "source": [
    "# Define the stock ticker and date range: Microsoft \n",
    "MSFT_stock = 'MSFT'\n",
    "start_date = '2015-11-01'  # example start date\n",
    "end_date = '2016-10-31'    # example end date\n",
    "\n",
    "# Download the stock data\n",
    "data_MSFT = yf.download(MSFT_stock, start=start_date, end=end_date)"
   ]
  },
  {
   "cell_type": "code",
   "execution_count": 24,
   "id": "29505cc9",
   "metadata": {},
   "outputs": [
    {
     "name": "stderr",
     "output_type": "stream",
     "text": [
      "[*********************100%%**********************]  1 of 1 completed\n"
     ]
    }
   ],
   "source": [
    "# Define the stock ticker and date range: Google \n",
    "GOOG_stock = 'GOOG'\n",
    "start_date = '2015-11-01'  # example start date\n",
    "end_date = '2016-10-31'    # example end date\n",
    "\n",
    "# Download the stock data\n",
    "data_GOOG = yf.download(GOOG_stock, start=start_date, end=end_date)"
   ]
  },
  {
   "cell_type": "markdown",
   "id": "d130962b",
   "metadata": {},
   "source": [
    "## Healthcare Sector \n",
    "These are the three stocks we chose in the Healthcare Industry"
   ]
  },
  {
   "cell_type": "code",
   "execution_count": 25,
   "id": "e03ed623",
   "metadata": {},
   "outputs": [
    {
     "name": "stderr",
     "output_type": "stream",
     "text": [
      "[*********************100%%**********************]  1 of 1 completed\n"
     ]
    }
   ],
   "source": [
    "# Define the stock ticker and date range: Johnson and Johnson \n",
    "JNJ_stock = 'JNJ'\n",
    "start_date = '2015-11-01'  # example start date\n",
    "end_date = '2016-10-31'    # example end date\n",
    "\n",
    "# Download the stock data\n",
    "data_JNJ = yf.download(JNJ_stock, start=start_date, end=end_date)"
   ]
  },
  {
   "cell_type": "code",
   "execution_count": 26,
   "id": "aa561407",
   "metadata": {},
   "outputs": [
    {
     "name": "stderr",
     "output_type": "stream",
     "text": [
      "[*********************100%%**********************]  1 of 1 completed\n"
     ]
    }
   ],
   "source": [
    "# Define the stock ticker and date range: Pfizer Inc\n",
    "PFE_stock = 'PFE'\n",
    "start_date = '2015-11-01'  # example start date\n",
    "end_date = '2016-10-31'    # example end date\n",
    "\n",
    "# Download the stock data\n",
    "data_PFE = yf.download(PFE_stock, start=start_date, end=end_date)"
   ]
  },
  {
   "cell_type": "code",
   "execution_count": 27,
   "id": "30dc468e",
   "metadata": {},
   "outputs": [
    {
     "name": "stderr",
     "output_type": "stream",
     "text": [
      "[*********************100%%**********************]  1 of 1 completed\n"
     ]
    }
   ],
   "source": [
    "# Define the stock ticker and date range: United Health Group\n",
    "UNH_stock = 'UNH'\n",
    "start_date = '2015-11-01'  # example start date\n",
    "end_date = '2016-10-31'    # example end date\n",
    "\n",
    "# Download the stock data\n",
    "data_UNH = yf.download(UNH_stock, start=start_date, end=end_date)"
   ]
  },
  {
   "cell_type": "markdown",
   "id": "f8b69275",
   "metadata": {},
   "source": [
    "## Financials Sector \n",
    "These are the three stocks we chose in the Healthcare Industry"
   ]
  },
  {
   "cell_type": "code",
   "execution_count": 28,
   "id": "ef9694ae",
   "metadata": {},
   "outputs": [
    {
     "name": "stderr",
     "output_type": "stream",
     "text": [
      "[*********************100%%**********************]  1 of 1 completed\n"
     ]
    }
   ],
   "source": [
    "# Define the stock ticker and date range: JPMorgan Chase and Co. \n",
    "JPM_stock = 'JPM'\n",
    "start_date = '2015-11-01'  # example start date\n",
    "end_date = '2016-10-31'    # example end date\n",
    "\n",
    "# Download the stock data\n",
    "data_JPM = yf.download(JPM_stock, start=start_date, end=end_date)"
   ]
  },
  {
   "cell_type": "code",
   "execution_count": 29,
   "id": "0b2987e0",
   "metadata": {},
   "outputs": [
    {
     "name": "stderr",
     "output_type": "stream",
     "text": [
      "[*********************100%%**********************]  1 of 1 completed\n"
     ]
    }
   ],
   "source": [
    "# Define the stock ticker and date range: Bank of America \n",
    "BAC_stock = 'BAC'\n",
    "start_date = '2015-11-01'  # example start date\n",
    "end_date = '2016-10-31'    # example end date\n",
    "\n",
    "# Download the stock data\n",
    "data_BAC = yf.download(BAC_stock, start=start_date, end=end_date)"
   ]
  },
  {
   "cell_type": "code",
   "execution_count": 30,
   "id": "5bafc0b5",
   "metadata": {},
   "outputs": [
    {
     "name": "stderr",
     "output_type": "stream",
     "text": [
      "[*********************100%%**********************]  1 of 1 completed\n"
     ]
    }
   ],
   "source": [
    "# Define the stock ticker and date range: Visa\n",
    "V_stock = 'V'\n",
    "start_date = '2015-11-01'  # example start date\n",
    "end_date = '2016-10-31'    # example end date\n",
    "\n",
    "# Download the stock data\n",
    "data_V = yf.download(V_stock, start=start_date, end=end_date)"
   ]
  },
  {
   "cell_type": "markdown",
   "id": "90a42818",
   "metadata": {},
   "source": [
    "## Consumer Discretionary \n",
    "These are the three stocks we chose in the consumer discretionary industry: Amazon, Nike, and Walt Disney Company"
   ]
  },
  {
   "cell_type": "code",
   "execution_count": 31,
   "id": "4e57c73c",
   "metadata": {},
   "outputs": [
    {
     "name": "stderr",
     "output_type": "stream",
     "text": [
      "[*********************100%%**********************]  1 of 1 completed\n"
     ]
    }
   ],
   "source": [
    "# Define the stock ticker and date range: Amazon\n",
    "AMZN_stock = 'AMZN'\n",
    "start_date = '2015-11-01'  # example start date\n",
    "end_date = '2016-10-31'    # example end date\n",
    "\n",
    "# Download the stock data\n",
    "data_AMZN = yf.download(AMZN_stock, start=start_date, end=end_date)"
   ]
  },
  {
   "cell_type": "code",
   "execution_count": 32,
   "id": "026d881d",
   "metadata": {},
   "outputs": [
    {
     "name": "stderr",
     "output_type": "stream",
     "text": [
      "[*********************100%%**********************]  1 of 1 completed\n"
     ]
    }
   ],
   "source": [
    "# Define the stock ticker and date range: Nike\n",
    "NKE_stock = 'NKE'\n",
    "start_date = '2015-11-01'  # example start date\n",
    "end_date = '2016-10-31'    # example end date\n",
    "\n",
    "# Download the stock data\n",
    "data_NKE = yf.download(NKE_stock, start=start_date, end=end_date)"
   ]
  },
  {
   "cell_type": "code",
   "execution_count": 33,
   "id": "617dea59",
   "metadata": {},
   "outputs": [
    {
     "name": "stderr",
     "output_type": "stream",
     "text": [
      "[*********************100%%**********************]  1 of 1 completed\n"
     ]
    }
   ],
   "source": [
    "# Define the stock ticker and date range: Walt Disney Company \n",
    "DIS_stock = 'DIS'\n",
    "start_date = '2015-11-01'  # example start date\n",
    "end_date = '2016-10-31'    # example end date\n",
    "\n",
    "# Download the stock data\n",
    "data_DIS = yf.download(DIS_stock, start=start_date, end=end_date)"
   ]
  },
  {
   "cell_type": "markdown",
   "id": "a82e2c50",
   "metadata": {},
   "source": [
    "## Energy Sector \n",
    "These are the three stocks we chose in the energy industry: Exxon Mobile Incorporation, First Solar Inc. , NextEra Energy Resources "
   ]
  },
  {
   "cell_type": "code",
   "execution_count": 34,
   "id": "e14f99c2",
   "metadata": {},
   "outputs": [
    {
     "name": "stderr",
     "output_type": "stream",
     "text": [
      "[*********************100%%**********************]  1 of 1 completed\n"
     ]
    }
   ],
   "source": [
    "# Define the stock ticker and date range: Exxon Mobile Incorporation\n",
    "XOM_stock = 'XOM'\n",
    "start_date = '2015-11-01'  # example start date\n",
    "end_date = '2016-10-31'    # example end date\n",
    "\n",
    "# Download the stock data\n",
    "data_XOM = yf.download(XOM_stock, start=start_date, end=end_date)"
   ]
  },
  {
   "cell_type": "code",
   "execution_count": 35,
   "id": "a0b40af8",
   "metadata": {},
   "outputs": [
    {
     "name": "stderr",
     "output_type": "stream",
     "text": [
      "[*********************100%%**********************]  1 of 1 completed\n"
     ]
    }
   ],
   "source": [
    "# Define the stock ticker and date range: First Solar Inc. \n",
    "FSLR_stock = 'FSLR'\n",
    "start_date = '2015-11-01'  # example start date\n",
    "end_date = '2016-10-31'    # example end date\n",
    "\n",
    "# Download the stock data\n",
    "data_FSLR = yf.download(FSLR_stock, start=start_date, end=end_date)"
   ]
  },
  {
   "cell_type": "code",
   "execution_count": 36,
   "id": "40b336a2",
   "metadata": {},
   "outputs": [
    {
     "name": "stderr",
     "output_type": "stream",
     "text": [
      "[*********************100%%**********************]  1 of 1 completed\n"
     ]
    }
   ],
   "source": [
    "# Define the stock ticker and date range: NextEra Energy Resources\n",
    "NEE_stock = 'NEE'\n",
    "start_date = '2015-11-01'  # example start date\n",
    "end_date = '2016-10-31'    # example end date\n",
    "\n",
    "# Download the stock data\n",
    "data_NEE = yf.download(NEE_stock, start=start_date, end=end_date)"
   ]
  },
  {
   "cell_type": "markdown",
   "id": "63844053",
   "metadata": {},
   "source": [
    "## Weapons Manufacturing \n",
    "These are the three stocks we chose in the weapons manufacturing instury: Lockheed Martin Corporation, Raytheon Technologies Corporations (RTX), Northrup Grumman Corporation (NOC) "
   ]
  },
  {
   "cell_type": "code",
   "execution_count": 37,
   "id": "17c5a1b1",
   "metadata": {},
   "outputs": [
    {
     "name": "stderr",
     "output_type": "stream",
     "text": [
      "[*********************100%%**********************]  1 of 1 completed\n"
     ]
    }
   ],
   "source": [
    "# Define the stock ticker and date range: Lockheed Martin Corporation\n",
    "LMT_stock = 'LMT'\n",
    "start_date = '2015-11-01'  # example start date\n",
    "end_date = '2016-10-31'    # example end date\n",
    "\n",
    "# Download the stock data\n",
    "data_LMT = yf.download(LMT_stock, start=start_date, end=end_date)"
   ]
  },
  {
   "cell_type": "code",
   "execution_count": 38,
   "id": "11380938",
   "metadata": {},
   "outputs": [
    {
     "name": "stderr",
     "output_type": "stream",
     "text": [
      "[*********************100%%**********************]  1 of 1 completed\n"
     ]
    }
   ],
   "source": [
    "# Define the stock ticker and date range: Raytheon Technologies Corporation\n",
    "RTX_stock = 'RTX'\n",
    "start_date = '2015-11-01'  # example start date\n",
    "end_date = '2016-10-31'    # example end date\n",
    "\n",
    "# Download the stock data\n",
    "data_RTX = yf.download(RTX_stock, start=start_date, end=end_date)"
   ]
  },
  {
   "cell_type": "code",
   "execution_count": 39,
   "id": "7a69afba",
   "metadata": {},
   "outputs": [
    {
     "name": "stderr",
     "output_type": "stream",
     "text": [
      "[*********************100%%**********************]  1 of 1 completed\n"
     ]
    }
   ],
   "source": [
    "# Define the stock ticker and date range: Northrup Grumman Corporation\n",
    "NOC_stock = 'NOC'\n",
    "start_date = '2015-11-01'  # example start date\n",
    "end_date = '2016-10-31'    # example end date\n",
    "\n",
    "# Download the stock data\n",
    "data_NOC = yf.download(NOC_stock, start=start_date, end=end_date)"
   ]
  },
  {
   "cell_type": "markdown",
   "id": "865c2afa",
   "metadata": {},
   "source": [
    "## Combined Stocks Dataframe"
   ]
  },
  {
   "cell_type": "code",
   "execution_count": 40,
   "id": "edb9dfa8",
   "metadata": {},
   "outputs": [
    {
     "data": {
      "text/html": [
       "<div>\n",
       "<style scoped>\n",
       "    .dataframe tbody tr th:only-of-type {\n",
       "        vertical-align: middle;\n",
       "    }\n",
       "\n",
       "    .dataframe tbody tr th {\n",
       "        vertical-align: top;\n",
       "    }\n",
       "\n",
       "    .dataframe thead th {\n",
       "        text-align: right;\n",
       "    }\n",
       "</style>\n",
       "<table border=\"1\" class=\"dataframe\">\n",
       "  <thead>\n",
       "    <tr style=\"text-align: right;\">\n",
       "      <th></th>\n",
       "      <th>Open</th>\n",
       "      <th>High</th>\n",
       "      <th>Low</th>\n",
       "      <th>Close</th>\n",
       "      <th>Adj Close</th>\n",
       "      <th>Volume</th>\n",
       "      <th>Open</th>\n",
       "      <th>High</th>\n",
       "      <th>Low</th>\n",
       "      <th>Close</th>\n",
       "      <th>...</th>\n",
       "      <th>Low</th>\n",
       "      <th>Close</th>\n",
       "      <th>Adj Close</th>\n",
       "      <th>Volume</th>\n",
       "      <th>Open</th>\n",
       "      <th>High</th>\n",
       "      <th>Low</th>\n",
       "      <th>Close</th>\n",
       "      <th>Adj Close</th>\n",
       "      <th>Volume</th>\n",
       "    </tr>\n",
       "    <tr>\n",
       "      <th>Date</th>\n",
       "      <th></th>\n",
       "      <th></th>\n",
       "      <th></th>\n",
       "      <th></th>\n",
       "      <th></th>\n",
       "      <th></th>\n",
       "      <th></th>\n",
       "      <th></th>\n",
       "      <th></th>\n",
       "      <th></th>\n",
       "      <th></th>\n",
       "      <th></th>\n",
       "      <th></th>\n",
       "      <th></th>\n",
       "      <th></th>\n",
       "      <th></th>\n",
       "      <th></th>\n",
       "      <th></th>\n",
       "      <th></th>\n",
       "      <th></th>\n",
       "      <th></th>\n",
       "    </tr>\n",
       "  </thead>\n",
       "  <tbody>\n",
       "    <tr>\n",
       "      <th>2015-11-02</th>\n",
       "      <td>30.200001</td>\n",
       "      <td>30.340000</td>\n",
       "      <td>29.902500</td>\n",
       "      <td>30.295000</td>\n",
       "      <td>27.427799</td>\n",
       "      <td>128813200</td>\n",
       "      <td>52.849998</td>\n",
       "      <td>53.360001</td>\n",
       "      <td>52.619999</td>\n",
       "      <td>53.240002</td>\n",
       "      <td>...</td>\n",
       "      <td>61.894272</td>\n",
       "      <td>62.548775</td>\n",
       "      <td>51.112911</td>\n",
       "      <td>4874258</td>\n",
       "      <td>188.479996</td>\n",
       "      <td>189.830002</td>\n",
       "      <td>188.009995</td>\n",
       "      <td>189.539993</td>\n",
       "      <td>166.175171</td>\n",
       "      <td>1110800</td>\n",
       "    </tr>\n",
       "    <tr>\n",
       "      <th>2015-11-03</th>\n",
       "      <td>30.197500</td>\n",
       "      <td>30.872499</td>\n",
       "      <td>30.174999</td>\n",
       "      <td>30.642500</td>\n",
       "      <td>27.742416</td>\n",
       "      <td>182076000</td>\n",
       "      <td>52.930000</td>\n",
       "      <td>54.389999</td>\n",
       "      <td>52.900002</td>\n",
       "      <td>54.150002</td>\n",
       "      <td>...</td>\n",
       "      <td>62.177471</td>\n",
       "      <td>62.932663</td>\n",
       "      <td>51.426613</td>\n",
       "      <td>4910010</td>\n",
       "      <td>189.110001</td>\n",
       "      <td>189.320007</td>\n",
       "      <td>186.520004</td>\n",
       "      <td>186.639999</td>\n",
       "      <td>163.632690</td>\n",
       "      <td>941400</td>\n",
       "    </tr>\n",
       "    <tr>\n",
       "      <th>2015-11-04</th>\n",
       "      <td>30.782499</td>\n",
       "      <td>30.955000</td>\n",
       "      <td>30.405001</td>\n",
       "      <td>30.500000</td>\n",
       "      <td>27.613400</td>\n",
       "      <td>179544400</td>\n",
       "      <td>54.180000</td>\n",
       "      <td>54.880001</td>\n",
       "      <td>54.060001</td>\n",
       "      <td>54.400002</td>\n",
       "      <td>...</td>\n",
       "      <td>62.932663</td>\n",
       "      <td>63.140339</td>\n",
       "      <td>51.596329</td>\n",
       "      <td>4951483</td>\n",
       "      <td>187.289993</td>\n",
       "      <td>188.449997</td>\n",
       "      <td>185.410004</td>\n",
       "      <td>186.169998</td>\n",
       "      <td>163.220596</td>\n",
       "      <td>1088700</td>\n",
       "    </tr>\n",
       "    <tr>\n",
       "      <th>2015-11-05</th>\n",
       "      <td>30.462500</td>\n",
       "      <td>30.672501</td>\n",
       "      <td>30.045000</td>\n",
       "      <td>30.230000</td>\n",
       "      <td>27.486111</td>\n",
       "      <td>158210800</td>\n",
       "      <td>54.490002</td>\n",
       "      <td>54.700001</td>\n",
       "      <td>54.000000</td>\n",
       "      <td>54.380001</td>\n",
       "      <td>...</td>\n",
       "      <td>62.756451</td>\n",
       "      <td>63.436123</td>\n",
       "      <td>51.838028</td>\n",
       "      <td>4500684</td>\n",
       "      <td>186.419998</td>\n",
       "      <td>187.500000</td>\n",
       "      <td>185.470001</td>\n",
       "      <td>186.419998</td>\n",
       "      <td>163.439819</td>\n",
       "      <td>703300</td>\n",
       "    </tr>\n",
       "    <tr>\n",
       "      <th>2015-11-06</th>\n",
       "      <td>30.277500</td>\n",
       "      <td>30.452499</td>\n",
       "      <td>30.155001</td>\n",
       "      <td>30.264999</td>\n",
       "      <td>27.517931</td>\n",
       "      <td>132169200</td>\n",
       "      <td>54.090000</td>\n",
       "      <td>54.980000</td>\n",
       "      <td>53.959999</td>\n",
       "      <td>54.919998</td>\n",
       "      <td>...</td>\n",
       "      <td>62.485840</td>\n",
       "      <td>63.436123</td>\n",
       "      <td>51.838028</td>\n",
       "      <td>4346074</td>\n",
       "      <td>186.020004</td>\n",
       "      <td>186.410004</td>\n",
       "      <td>183.119995</td>\n",
       "      <td>184.009995</td>\n",
       "      <td>161.326889</td>\n",
       "      <td>1421500</td>\n",
       "    </tr>\n",
       "  </tbody>\n",
       "</table>\n",
       "<p>5 rows × 108 columns</p>\n",
       "</div>"
      ],
      "text/plain": [
       "                 Open       High        Low      Close  Adj Close     Volume  \\\n",
       "Date                                                                           \n",
       "2015-11-02  30.200001  30.340000  29.902500  30.295000  27.427799  128813200   \n",
       "2015-11-03  30.197500  30.872499  30.174999  30.642500  27.742416  182076000   \n",
       "2015-11-04  30.782499  30.955000  30.405001  30.500000  27.613400  179544400   \n",
       "2015-11-05  30.462500  30.672501  30.045000  30.230000  27.486111  158210800   \n",
       "2015-11-06  30.277500  30.452499  30.155001  30.264999  27.517931  132169200   \n",
       "\n",
       "                 Open       High        Low      Close  ...        Low  \\\n",
       "Date                                                    ...              \n",
       "2015-11-02  52.849998  53.360001  52.619999  53.240002  ...  61.894272   \n",
       "2015-11-03  52.930000  54.389999  52.900002  54.150002  ...  62.177471   \n",
       "2015-11-04  54.180000  54.880001  54.060001  54.400002  ...  62.932663   \n",
       "2015-11-05  54.490002  54.700001  54.000000  54.380001  ...  62.756451   \n",
       "2015-11-06  54.090000  54.980000  53.959999  54.919998  ...  62.485840   \n",
       "\n",
       "                Close  Adj Close   Volume        Open        High         Low  \\\n",
       "Date                                                                            \n",
       "2015-11-02  62.548775  51.112911  4874258  188.479996  189.830002  188.009995   \n",
       "2015-11-03  62.932663  51.426613  4910010  189.110001  189.320007  186.520004   \n",
       "2015-11-04  63.140339  51.596329  4951483  187.289993  188.449997  185.410004   \n",
       "2015-11-05  63.436123  51.838028  4500684  186.419998  187.500000  185.470001   \n",
       "2015-11-06  63.436123  51.838028  4346074  186.020004  186.410004  183.119995   \n",
       "\n",
       "                 Close   Adj Close   Volume  \n",
       "Date                                         \n",
       "2015-11-02  189.539993  166.175171  1110800  \n",
       "2015-11-03  186.639999  163.632690   941400  \n",
       "2015-11-04  186.169998  163.220596  1088700  \n",
       "2015-11-05  186.419998  163.439819   703300  \n",
       "2015-11-06  184.009995  161.326889  1421500  \n",
       "\n",
       "[5 rows x 108 columns]"
      ]
     },
     "execution_count": 40,
     "metadata": {},
     "output_type": "execute_result"
    }
   ],
   "source": [
    "# Combine all stocks into a single Dataframe \n",
    "custom_portfolio_df = pd.concat([data_AAPL,data_MSFT,data_GOOG,data_JNJ,data_PFE,data_UNH,data_JPM,data_BAC,data_V,data_AMZN,data_NKE,data_DIS,data_XOM,data_FSLR,data_NEE,data_LMT,data_RTX,data_NOC], axis=\"columns\", join=\"inner\")\n",
    "custom_portfolio_df.head()"
   ]
  },
  {
   "cell_type": "code",
   "execution_count": 41,
   "id": "5ad1cadd",
   "metadata": {},
   "outputs": [
    {
     "data": {
      "text/html": [
       "<div>\n",
       "<style scoped>\n",
       "    .dataframe tbody tr th:only-of-type {\n",
       "        vertical-align: middle;\n",
       "    }\n",
       "\n",
       "    .dataframe tbody tr th {\n",
       "        vertical-align: top;\n",
       "    }\n",
       "\n",
       "    .dataframe thead th {\n",
       "        text-align: right;\n",
       "    }\n",
       "</style>\n",
       "<table border=\"1\" class=\"dataframe\">\n",
       "  <thead>\n",
       "    <tr style=\"text-align: right;\">\n",
       "      <th></th>\n",
       "      <th>AAPL</th>\n",
       "      <th>MSFT</th>\n",
       "      <th>GOOG</th>\n",
       "      <th>JNJ</th>\n",
       "      <th>PFE</th>\n",
       "      <th>UNH</th>\n",
       "      <th>JPM</th>\n",
       "      <th>BAC</th>\n",
       "      <th>V</th>\n",
       "      <th>AMZN</th>\n",
       "      <th>NKE</th>\n",
       "      <th>DIS</th>\n",
       "      <th>XOM</th>\n",
       "      <th>FSLR</th>\n",
       "      <th>NEE</th>\n",
       "      <th>LMT</th>\n",
       "      <th>RTX</th>\n",
       "      <th>NOC</th>\n",
       "    </tr>\n",
       "    <tr>\n",
       "      <th>Date</th>\n",
       "      <th></th>\n",
       "      <th></th>\n",
       "      <th></th>\n",
       "      <th></th>\n",
       "      <th></th>\n",
       "      <th></th>\n",
       "      <th></th>\n",
       "      <th></th>\n",
       "      <th></th>\n",
       "      <th></th>\n",
       "      <th></th>\n",
       "      <th></th>\n",
       "      <th></th>\n",
       "      <th></th>\n",
       "      <th></th>\n",
       "      <th></th>\n",
       "      <th></th>\n",
       "      <th></th>\n",
       "    </tr>\n",
       "  </thead>\n",
       "  <tbody>\n",
       "    <tr>\n",
       "      <th>2015-11-02</th>\n",
       "      <td>30.295000</td>\n",
       "      <td>53.240002</td>\n",
       "      <td>36.055500</td>\n",
       "      <td>102.169998</td>\n",
       "      <td>33.263756</td>\n",
       "      <td>118.690002</td>\n",
       "      <td>65.540001</td>\n",
       "      <td>17.059999</td>\n",
       "      <td>75.220001</td>\n",
       "      <td>31.417500</td>\n",
       "      <td>65.595001</td>\n",
       "      <td>115.040001</td>\n",
       "      <td>85.279999</td>\n",
       "      <td>57.779999</td>\n",
       "      <td>25.557501</td>\n",
       "      <td>220.589996</td>\n",
       "      <td>62.548775</td>\n",
       "      <td>189.539993</td>\n",
       "    </tr>\n",
       "    <tr>\n",
       "      <th>2015-11-03</th>\n",
       "      <td>30.642500</td>\n",
       "      <td>54.150002</td>\n",
       "      <td>36.108002</td>\n",
       "      <td>101.959999</td>\n",
       "      <td>33.178368</td>\n",
       "      <td>117.660004</td>\n",
       "      <td>65.779999</td>\n",
       "      <td>17.180000</td>\n",
       "      <td>77.900002</td>\n",
       "      <td>31.265499</td>\n",
       "      <td>65.699997</td>\n",
       "      <td>115.540001</td>\n",
       "      <td>86.849998</td>\n",
       "      <td>58.349998</td>\n",
       "      <td>25.577499</td>\n",
       "      <td>218.899994</td>\n",
       "      <td>62.932663</td>\n",
       "      <td>186.639999</td>\n",
       "    </tr>\n",
       "    <tr>\n",
       "      <th>2015-11-04</th>\n",
       "      <td>30.500000</td>\n",
       "      <td>54.400002</td>\n",
       "      <td>36.405499</td>\n",
       "      <td>101.940002</td>\n",
       "      <td>32.390892</td>\n",
       "      <td>114.639999</td>\n",
       "      <td>65.849998</td>\n",
       "      <td>17.010000</td>\n",
       "      <td>78.349998</td>\n",
       "      <td>32.047501</td>\n",
       "      <td>65.180000</td>\n",
       "      <td>113.250000</td>\n",
       "      <td>85.980003</td>\n",
       "      <td>58.660000</td>\n",
       "      <td>25.805000</td>\n",
       "      <td>218.830002</td>\n",
       "      <td>63.140339</td>\n",
       "      <td>186.169998</td>\n",
       "    </tr>\n",
       "    <tr>\n",
       "      <th>2015-11-05</th>\n",
       "      <td>30.230000</td>\n",
       "      <td>54.380001</td>\n",
       "      <td>36.562500</td>\n",
       "      <td>102.330002</td>\n",
       "      <td>32.400379</td>\n",
       "      <td>116.230003</td>\n",
       "      <td>66.440002</td>\n",
       "      <td>17.309999</td>\n",
       "      <td>79.260002</td>\n",
       "      <td>32.782501</td>\n",
       "      <td>65.930000</td>\n",
       "      <td>113.000000</td>\n",
       "      <td>84.809998</td>\n",
       "      <td>58.330002</td>\n",
       "      <td>25.525000</td>\n",
       "      <td>218.600006</td>\n",
       "      <td>63.436123</td>\n",
       "      <td>186.419998</td>\n",
       "    </tr>\n",
       "    <tr>\n",
       "      <th>2015-11-06</th>\n",
       "      <td>30.264999</td>\n",
       "      <td>54.919998</td>\n",
       "      <td>36.688000</td>\n",
       "      <td>101.919998</td>\n",
       "      <td>32.191650</td>\n",
       "      <td>114.809998</td>\n",
       "      <td>68.459999</td>\n",
       "      <td>17.950001</td>\n",
       "      <td>78.750000</td>\n",
       "      <td>32.968498</td>\n",
       "      <td>65.889999</td>\n",
       "      <td>115.669998</td>\n",
       "      <td>84.470001</td>\n",
       "      <td>59.669998</td>\n",
       "      <td>24.709999</td>\n",
       "      <td>216.630005</td>\n",
       "      <td>63.436123</td>\n",
       "      <td>184.009995</td>\n",
       "    </tr>\n",
       "    <tr>\n",
       "      <th>...</th>\n",
       "      <td>...</td>\n",
       "      <td>...</td>\n",
       "      <td>...</td>\n",
       "      <td>...</td>\n",
       "      <td>...</td>\n",
       "      <td>...</td>\n",
       "      <td>...</td>\n",
       "      <td>...</td>\n",
       "      <td>...</td>\n",
       "      <td>...</td>\n",
       "      <td>...</td>\n",
       "      <td>...</td>\n",
       "      <td>...</td>\n",
       "      <td>...</td>\n",
       "      <td>...</td>\n",
       "      <td>...</td>\n",
       "      <td>...</td>\n",
       "      <td>...</td>\n",
       "    </tr>\n",
       "    <tr>\n",
       "      <th>2016-10-24</th>\n",
       "      <td>29.412500</td>\n",
       "      <td>61.000000</td>\n",
       "      <td>40.655499</td>\n",
       "      <td>113.610001</td>\n",
       "      <td>30.483871</td>\n",
       "      <td>144.690002</td>\n",
       "      <td>68.870003</td>\n",
       "      <td>16.770000</td>\n",
       "      <td>83.169998</td>\n",
       "      <td>41.904499</td>\n",
       "      <td>51.869999</td>\n",
       "      <td>93.370003</td>\n",
       "      <td>86.910004</td>\n",
       "      <td>40.869999</td>\n",
       "      <td>31.094999</td>\n",
       "      <td>232.160004</td>\n",
       "      <td>62.630585</td>\n",
       "      <td>216.460007</td>\n",
       "    </tr>\n",
       "    <tr>\n",
       "      <th>2016-10-25</th>\n",
       "      <td>29.562500</td>\n",
       "      <td>60.990002</td>\n",
       "      <td>40.383499</td>\n",
       "      <td>113.959999</td>\n",
       "      <td>30.626186</td>\n",
       "      <td>143.779999</td>\n",
       "      <td>68.800003</td>\n",
       "      <td>16.719999</td>\n",
       "      <td>82.029999</td>\n",
       "      <td>41.758999</td>\n",
       "      <td>51.049999</td>\n",
       "      <td>92.750000</td>\n",
       "      <td>86.720001</td>\n",
       "      <td>40.680000</td>\n",
       "      <td>31.379999</td>\n",
       "      <td>249.259995</td>\n",
       "      <td>63.788548</td>\n",
       "      <td>219.529999</td>\n",
       "    </tr>\n",
       "    <tr>\n",
       "      <th>2016-10-26</th>\n",
       "      <td>28.897499</td>\n",
       "      <td>60.630001</td>\n",
       "      <td>39.953499</td>\n",
       "      <td>114.559998</td>\n",
       "      <td>30.740038</td>\n",
       "      <td>142.229996</td>\n",
       "      <td>69.129997</td>\n",
       "      <td>16.870001</td>\n",
       "      <td>81.750000</td>\n",
       "      <td>41.129501</td>\n",
       "      <td>51.970001</td>\n",
       "      <td>93.489998</td>\n",
       "      <td>87.089996</td>\n",
       "      <td>41.110001</td>\n",
       "      <td>31.549999</td>\n",
       "      <td>250.089996</td>\n",
       "      <td>63.568283</td>\n",
       "      <td>228.050003</td>\n",
       "    </tr>\n",
       "    <tr>\n",
       "      <th>2016-10-27</th>\n",
       "      <td>28.620001</td>\n",
       "      <td>60.099998</td>\n",
       "      <td>39.767502</td>\n",
       "      <td>115.699997</td>\n",
       "      <td>30.815939</td>\n",
       "      <td>141.940002</td>\n",
       "      <td>69.230003</td>\n",
       "      <td>16.910000</td>\n",
       "      <td>81.919998</td>\n",
       "      <td>40.917999</td>\n",
       "      <td>51.889999</td>\n",
       "      <td>94.019997</td>\n",
       "      <td>86.919998</td>\n",
       "      <td>41.060001</td>\n",
       "      <td>31.280001</td>\n",
       "      <td>248.529999</td>\n",
       "      <td>62.976715</td>\n",
       "      <td>225.350006</td>\n",
       "    </tr>\n",
       "    <tr>\n",
       "      <th>2016-10-28</th>\n",
       "      <td>28.430000</td>\n",
       "      <td>59.869999</td>\n",
       "      <td>39.768501</td>\n",
       "      <td>115.330002</td>\n",
       "      <td>30.294119</td>\n",
       "      <td>140.350006</td>\n",
       "      <td>69.110001</td>\n",
       "      <td>16.680000</td>\n",
       "      <td>82.220001</td>\n",
       "      <td>38.816002</td>\n",
       "      <td>52.020000</td>\n",
       "      <td>93.849998</td>\n",
       "      <td>84.779999</td>\n",
       "      <td>40.650002</td>\n",
       "      <td>31.432501</td>\n",
       "      <td>248.000000</td>\n",
       "      <td>64.090622</td>\n",
       "      <td>228.380005</td>\n",
       "    </tr>\n",
       "  </tbody>\n",
       "</table>\n",
       "<p>251 rows × 18 columns</p>\n",
       "</div>"
      ],
      "text/plain": [
       "                 AAPL       MSFT       GOOG         JNJ        PFE  \\\n",
       "Date                                                                 \n",
       "2015-11-02  30.295000  53.240002  36.055500  102.169998  33.263756   \n",
       "2015-11-03  30.642500  54.150002  36.108002  101.959999  33.178368   \n",
       "2015-11-04  30.500000  54.400002  36.405499  101.940002  32.390892   \n",
       "2015-11-05  30.230000  54.380001  36.562500  102.330002  32.400379   \n",
       "2015-11-06  30.264999  54.919998  36.688000  101.919998  32.191650   \n",
       "...               ...        ...        ...         ...        ...   \n",
       "2016-10-24  29.412500  61.000000  40.655499  113.610001  30.483871   \n",
       "2016-10-25  29.562500  60.990002  40.383499  113.959999  30.626186   \n",
       "2016-10-26  28.897499  60.630001  39.953499  114.559998  30.740038   \n",
       "2016-10-27  28.620001  60.099998  39.767502  115.699997  30.815939   \n",
       "2016-10-28  28.430000  59.869999  39.768501  115.330002  30.294119   \n",
       "\n",
       "                   UNH        JPM        BAC          V       AMZN        NKE  \\\n",
       "Date                                                                            \n",
       "2015-11-02  118.690002  65.540001  17.059999  75.220001  31.417500  65.595001   \n",
       "2015-11-03  117.660004  65.779999  17.180000  77.900002  31.265499  65.699997   \n",
       "2015-11-04  114.639999  65.849998  17.010000  78.349998  32.047501  65.180000   \n",
       "2015-11-05  116.230003  66.440002  17.309999  79.260002  32.782501  65.930000   \n",
       "2015-11-06  114.809998  68.459999  17.950001  78.750000  32.968498  65.889999   \n",
       "...                ...        ...        ...        ...        ...        ...   \n",
       "2016-10-24  144.690002  68.870003  16.770000  83.169998  41.904499  51.869999   \n",
       "2016-10-25  143.779999  68.800003  16.719999  82.029999  41.758999  51.049999   \n",
       "2016-10-26  142.229996  69.129997  16.870001  81.750000  41.129501  51.970001   \n",
       "2016-10-27  141.940002  69.230003  16.910000  81.919998  40.917999  51.889999   \n",
       "2016-10-28  140.350006  69.110001  16.680000  82.220001  38.816002  52.020000   \n",
       "\n",
       "                   DIS        XOM       FSLR        NEE         LMT  \\\n",
       "Date                                                                  \n",
       "2015-11-02  115.040001  85.279999  57.779999  25.557501  220.589996   \n",
       "2015-11-03  115.540001  86.849998  58.349998  25.577499  218.899994   \n",
       "2015-11-04  113.250000  85.980003  58.660000  25.805000  218.830002   \n",
       "2015-11-05  113.000000  84.809998  58.330002  25.525000  218.600006   \n",
       "2015-11-06  115.669998  84.470001  59.669998  24.709999  216.630005   \n",
       "...                ...        ...        ...        ...         ...   \n",
       "2016-10-24   93.370003  86.910004  40.869999  31.094999  232.160004   \n",
       "2016-10-25   92.750000  86.720001  40.680000  31.379999  249.259995   \n",
       "2016-10-26   93.489998  87.089996  41.110001  31.549999  250.089996   \n",
       "2016-10-27   94.019997  86.919998  41.060001  31.280001  248.529999   \n",
       "2016-10-28   93.849998  84.779999  40.650002  31.432501  248.000000   \n",
       "\n",
       "                  RTX         NOC  \n",
       "Date                               \n",
       "2015-11-02  62.548775  189.539993  \n",
       "2015-11-03  62.932663  186.639999  \n",
       "2015-11-04  63.140339  186.169998  \n",
       "2015-11-05  63.436123  186.419998  \n",
       "2015-11-06  63.436123  184.009995  \n",
       "...               ...         ...  \n",
       "2016-10-24  62.630585  216.460007  \n",
       "2016-10-25  63.788548  219.529999  \n",
       "2016-10-26  63.568283  228.050003  \n",
       "2016-10-27  62.976715  225.350006  \n",
       "2016-10-28  64.090622  228.380005  \n",
       "\n",
       "[251 rows x 18 columns]"
      ]
     },
     "execution_count": 41,
     "metadata": {},
     "output_type": "execute_result"
    }
   ],
   "source": [
    "small_df=custom_portfolio_df['Close']\n",
    "small_df.columns=['AAPL','MSFT', 'GOOG', 'JNJ','PFE','UNH','JPM','BAC','V','AMZN','NKE','DIS','XOM','FSLR','NEE','LMT','RTX','NOC']\n",
    "small_df"
   ]
  },
  {
   "cell_type": "markdown",
   "id": "1fc284ec",
   "metadata": {},
   "source": [
    "### Technology Dataframe"
   ]
  },
  {
   "cell_type": "code",
   "execution_count": 42,
   "id": "113cdc10",
   "metadata": {},
   "outputs": [
    {
     "data": {
      "text/html": [
       "<div>\n",
       "<style scoped>\n",
       "    .dataframe tbody tr th:only-of-type {\n",
       "        vertical-align: middle;\n",
       "    }\n",
       "\n",
       "    .dataframe tbody tr th {\n",
       "        vertical-align: top;\n",
       "    }\n",
       "\n",
       "    .dataframe thead th {\n",
       "        text-align: right;\n",
       "    }\n",
       "</style>\n",
       "<table border=\"1\" class=\"dataframe\">\n",
       "  <thead>\n",
       "    <tr style=\"text-align: right;\">\n",
       "      <th></th>\n",
       "      <th>AAPL</th>\n",
       "      <th>MSFT</th>\n",
       "      <th>GOOG</th>\n",
       "    </tr>\n",
       "    <tr>\n",
       "      <th>Date</th>\n",
       "      <th></th>\n",
       "      <th></th>\n",
       "      <th></th>\n",
       "    </tr>\n",
       "  </thead>\n",
       "  <tbody>\n",
       "    <tr>\n",
       "      <th>2015-11-02</th>\n",
       "      <td>30.295000</td>\n",
       "      <td>53.240002</td>\n",
       "      <td>36.055500</td>\n",
       "    </tr>\n",
       "    <tr>\n",
       "      <th>2015-11-03</th>\n",
       "      <td>30.642500</td>\n",
       "      <td>54.150002</td>\n",
       "      <td>36.108002</td>\n",
       "    </tr>\n",
       "    <tr>\n",
       "      <th>2015-11-04</th>\n",
       "      <td>30.500000</td>\n",
       "      <td>54.400002</td>\n",
       "      <td>36.405499</td>\n",
       "    </tr>\n",
       "    <tr>\n",
       "      <th>2015-11-05</th>\n",
       "      <td>30.230000</td>\n",
       "      <td>54.380001</td>\n",
       "      <td>36.562500</td>\n",
       "    </tr>\n",
       "    <tr>\n",
       "      <th>2015-11-06</th>\n",
       "      <td>30.264999</td>\n",
       "      <td>54.919998</td>\n",
       "      <td>36.688000</td>\n",
       "    </tr>\n",
       "    <tr>\n",
       "      <th>...</th>\n",
       "      <td>...</td>\n",
       "      <td>...</td>\n",
       "      <td>...</td>\n",
       "    </tr>\n",
       "    <tr>\n",
       "      <th>2016-10-24</th>\n",
       "      <td>29.412500</td>\n",
       "      <td>61.000000</td>\n",
       "      <td>40.655499</td>\n",
       "    </tr>\n",
       "    <tr>\n",
       "      <th>2016-10-25</th>\n",
       "      <td>29.562500</td>\n",
       "      <td>60.990002</td>\n",
       "      <td>40.383499</td>\n",
       "    </tr>\n",
       "    <tr>\n",
       "      <th>2016-10-26</th>\n",
       "      <td>28.897499</td>\n",
       "      <td>60.630001</td>\n",
       "      <td>39.953499</td>\n",
       "    </tr>\n",
       "    <tr>\n",
       "      <th>2016-10-27</th>\n",
       "      <td>28.620001</td>\n",
       "      <td>60.099998</td>\n",
       "      <td>39.767502</td>\n",
       "    </tr>\n",
       "    <tr>\n",
       "      <th>2016-10-28</th>\n",
       "      <td>28.430000</td>\n",
       "      <td>59.869999</td>\n",
       "      <td>39.768501</td>\n",
       "    </tr>\n",
       "  </tbody>\n",
       "</table>\n",
       "<p>251 rows × 3 columns</p>\n",
       "</div>"
      ],
      "text/plain": [
       "                 AAPL       MSFT       GOOG\n",
       "Date                                       \n",
       "2015-11-02  30.295000  53.240002  36.055500\n",
       "2015-11-03  30.642500  54.150002  36.108002\n",
       "2015-11-04  30.500000  54.400002  36.405499\n",
       "2015-11-05  30.230000  54.380001  36.562500\n",
       "2015-11-06  30.264999  54.919998  36.688000\n",
       "...               ...        ...        ...\n",
       "2016-10-24  29.412500  61.000000  40.655499\n",
       "2016-10-25  29.562500  60.990002  40.383499\n",
       "2016-10-26  28.897499  60.630001  39.953499\n",
       "2016-10-27  28.620001  60.099998  39.767502\n",
       "2016-10-28  28.430000  59.869999  39.768501\n",
       "\n",
       "[251 rows x 3 columns]"
      ]
     },
     "execution_count": 42,
     "metadata": {},
     "output_type": "execute_result"
    }
   ],
   "source": [
    "tech_df=small_df[['AAPL','MSFT','GOOG']]\n",
    "tech_df"
   ]
  },
  {
   "cell_type": "markdown",
   "id": "207a644b",
   "metadata": {},
   "source": [
    "### Healthcare Dataframe"
   ]
  },
  {
   "cell_type": "code",
   "execution_count": 43,
   "id": "4d62722b",
   "metadata": {},
   "outputs": [
    {
     "data": {
      "text/html": [
       "<div>\n",
       "<style scoped>\n",
       "    .dataframe tbody tr th:only-of-type {\n",
       "        vertical-align: middle;\n",
       "    }\n",
       "\n",
       "    .dataframe tbody tr th {\n",
       "        vertical-align: top;\n",
       "    }\n",
       "\n",
       "    .dataframe thead th {\n",
       "        text-align: right;\n",
       "    }\n",
       "</style>\n",
       "<table border=\"1\" class=\"dataframe\">\n",
       "  <thead>\n",
       "    <tr style=\"text-align: right;\">\n",
       "      <th></th>\n",
       "      <th>JNJ</th>\n",
       "      <th>PFE</th>\n",
       "      <th>UNH</th>\n",
       "    </tr>\n",
       "    <tr>\n",
       "      <th>Date</th>\n",
       "      <th></th>\n",
       "      <th></th>\n",
       "      <th></th>\n",
       "    </tr>\n",
       "  </thead>\n",
       "  <tbody>\n",
       "    <tr>\n",
       "      <th>2015-11-02</th>\n",
       "      <td>102.169998</td>\n",
       "      <td>33.263756</td>\n",
       "      <td>118.690002</td>\n",
       "    </tr>\n",
       "    <tr>\n",
       "      <th>2015-11-03</th>\n",
       "      <td>101.959999</td>\n",
       "      <td>33.178368</td>\n",
       "      <td>117.660004</td>\n",
       "    </tr>\n",
       "    <tr>\n",
       "      <th>2015-11-04</th>\n",
       "      <td>101.940002</td>\n",
       "      <td>32.390892</td>\n",
       "      <td>114.639999</td>\n",
       "    </tr>\n",
       "    <tr>\n",
       "      <th>2015-11-05</th>\n",
       "      <td>102.330002</td>\n",
       "      <td>32.400379</td>\n",
       "      <td>116.230003</td>\n",
       "    </tr>\n",
       "    <tr>\n",
       "      <th>2015-11-06</th>\n",
       "      <td>101.919998</td>\n",
       "      <td>32.191650</td>\n",
       "      <td>114.809998</td>\n",
       "    </tr>\n",
       "    <tr>\n",
       "      <th>...</th>\n",
       "      <td>...</td>\n",
       "      <td>...</td>\n",
       "      <td>...</td>\n",
       "    </tr>\n",
       "    <tr>\n",
       "      <th>2016-10-24</th>\n",
       "      <td>113.610001</td>\n",
       "      <td>30.483871</td>\n",
       "      <td>144.690002</td>\n",
       "    </tr>\n",
       "    <tr>\n",
       "      <th>2016-10-25</th>\n",
       "      <td>113.959999</td>\n",
       "      <td>30.626186</td>\n",
       "      <td>143.779999</td>\n",
       "    </tr>\n",
       "    <tr>\n",
       "      <th>2016-10-26</th>\n",
       "      <td>114.559998</td>\n",
       "      <td>30.740038</td>\n",
       "      <td>142.229996</td>\n",
       "    </tr>\n",
       "    <tr>\n",
       "      <th>2016-10-27</th>\n",
       "      <td>115.699997</td>\n",
       "      <td>30.815939</td>\n",
       "      <td>141.940002</td>\n",
       "    </tr>\n",
       "    <tr>\n",
       "      <th>2016-10-28</th>\n",
       "      <td>115.330002</td>\n",
       "      <td>30.294119</td>\n",
       "      <td>140.350006</td>\n",
       "    </tr>\n",
       "  </tbody>\n",
       "</table>\n",
       "<p>251 rows × 3 columns</p>\n",
       "</div>"
      ],
      "text/plain": [
       "                   JNJ        PFE         UNH\n",
       "Date                                         \n",
       "2015-11-02  102.169998  33.263756  118.690002\n",
       "2015-11-03  101.959999  33.178368  117.660004\n",
       "2015-11-04  101.940002  32.390892  114.639999\n",
       "2015-11-05  102.330002  32.400379  116.230003\n",
       "2015-11-06  101.919998  32.191650  114.809998\n",
       "...                ...        ...         ...\n",
       "2016-10-24  113.610001  30.483871  144.690002\n",
       "2016-10-25  113.959999  30.626186  143.779999\n",
       "2016-10-26  114.559998  30.740038  142.229996\n",
       "2016-10-27  115.699997  30.815939  141.940002\n",
       "2016-10-28  115.330002  30.294119  140.350006\n",
       "\n",
       "[251 rows x 3 columns]"
      ]
     },
     "execution_count": 43,
     "metadata": {},
     "output_type": "execute_result"
    }
   ],
   "source": [
    "health_df=small_df[['JNJ','PFE','UNH']]\n",
    "health_df"
   ]
  },
  {
   "cell_type": "markdown",
   "id": "47efb6b4",
   "metadata": {},
   "source": [
    "### Financials Dataframe"
   ]
  },
  {
   "cell_type": "code",
   "execution_count": 44,
   "id": "b573adae",
   "metadata": {},
   "outputs": [
    {
     "data": {
      "text/html": [
       "<div>\n",
       "<style scoped>\n",
       "    .dataframe tbody tr th:only-of-type {\n",
       "        vertical-align: middle;\n",
       "    }\n",
       "\n",
       "    .dataframe tbody tr th {\n",
       "        vertical-align: top;\n",
       "    }\n",
       "\n",
       "    .dataframe thead th {\n",
       "        text-align: right;\n",
       "    }\n",
       "</style>\n",
       "<table border=\"1\" class=\"dataframe\">\n",
       "  <thead>\n",
       "    <tr style=\"text-align: right;\">\n",
       "      <th></th>\n",
       "      <th>JPM</th>\n",
       "      <th>BAC</th>\n",
       "      <th>V</th>\n",
       "    </tr>\n",
       "    <tr>\n",
       "      <th>Date</th>\n",
       "      <th></th>\n",
       "      <th></th>\n",
       "      <th></th>\n",
       "    </tr>\n",
       "  </thead>\n",
       "  <tbody>\n",
       "    <tr>\n",
       "      <th>2015-11-02</th>\n",
       "      <td>65.540001</td>\n",
       "      <td>17.059999</td>\n",
       "      <td>75.220001</td>\n",
       "    </tr>\n",
       "    <tr>\n",
       "      <th>2015-11-03</th>\n",
       "      <td>65.779999</td>\n",
       "      <td>17.180000</td>\n",
       "      <td>77.900002</td>\n",
       "    </tr>\n",
       "    <tr>\n",
       "      <th>2015-11-04</th>\n",
       "      <td>65.849998</td>\n",
       "      <td>17.010000</td>\n",
       "      <td>78.349998</td>\n",
       "    </tr>\n",
       "    <tr>\n",
       "      <th>2015-11-05</th>\n",
       "      <td>66.440002</td>\n",
       "      <td>17.309999</td>\n",
       "      <td>79.260002</td>\n",
       "    </tr>\n",
       "    <tr>\n",
       "      <th>2015-11-06</th>\n",
       "      <td>68.459999</td>\n",
       "      <td>17.950001</td>\n",
       "      <td>78.750000</td>\n",
       "    </tr>\n",
       "    <tr>\n",
       "      <th>...</th>\n",
       "      <td>...</td>\n",
       "      <td>...</td>\n",
       "      <td>...</td>\n",
       "    </tr>\n",
       "    <tr>\n",
       "      <th>2016-10-24</th>\n",
       "      <td>68.870003</td>\n",
       "      <td>16.770000</td>\n",
       "      <td>83.169998</td>\n",
       "    </tr>\n",
       "    <tr>\n",
       "      <th>2016-10-25</th>\n",
       "      <td>68.800003</td>\n",
       "      <td>16.719999</td>\n",
       "      <td>82.029999</td>\n",
       "    </tr>\n",
       "    <tr>\n",
       "      <th>2016-10-26</th>\n",
       "      <td>69.129997</td>\n",
       "      <td>16.870001</td>\n",
       "      <td>81.750000</td>\n",
       "    </tr>\n",
       "    <tr>\n",
       "      <th>2016-10-27</th>\n",
       "      <td>69.230003</td>\n",
       "      <td>16.910000</td>\n",
       "      <td>81.919998</td>\n",
       "    </tr>\n",
       "    <tr>\n",
       "      <th>2016-10-28</th>\n",
       "      <td>69.110001</td>\n",
       "      <td>16.680000</td>\n",
       "      <td>82.220001</td>\n",
       "    </tr>\n",
       "  </tbody>\n",
       "</table>\n",
       "<p>251 rows × 3 columns</p>\n",
       "</div>"
      ],
      "text/plain": [
       "                  JPM        BAC          V\n",
       "Date                                       \n",
       "2015-11-02  65.540001  17.059999  75.220001\n",
       "2015-11-03  65.779999  17.180000  77.900002\n",
       "2015-11-04  65.849998  17.010000  78.349998\n",
       "2015-11-05  66.440002  17.309999  79.260002\n",
       "2015-11-06  68.459999  17.950001  78.750000\n",
       "...               ...        ...        ...\n",
       "2016-10-24  68.870003  16.770000  83.169998\n",
       "2016-10-25  68.800003  16.719999  82.029999\n",
       "2016-10-26  69.129997  16.870001  81.750000\n",
       "2016-10-27  69.230003  16.910000  81.919998\n",
       "2016-10-28  69.110001  16.680000  82.220001\n",
       "\n",
       "[251 rows x 3 columns]"
      ]
     },
     "execution_count": 44,
     "metadata": {},
     "output_type": "execute_result"
    }
   ],
   "source": [
    "finance_df=small_df[['JPM','BAC','V']]\n",
    "finance_df"
   ]
  },
  {
   "cell_type": "markdown",
   "id": "976f8d9d",
   "metadata": {},
   "source": [
    "### Consumer Discretionary Dataframe"
   ]
  },
  {
   "cell_type": "code",
   "execution_count": 45,
   "id": "fad14ba4",
   "metadata": {},
   "outputs": [
    {
     "data": {
      "text/html": [
       "<div>\n",
       "<style scoped>\n",
       "    .dataframe tbody tr th:only-of-type {\n",
       "        vertical-align: middle;\n",
       "    }\n",
       "\n",
       "    .dataframe tbody tr th {\n",
       "        vertical-align: top;\n",
       "    }\n",
       "\n",
       "    .dataframe thead th {\n",
       "        text-align: right;\n",
       "    }\n",
       "</style>\n",
       "<table border=\"1\" class=\"dataframe\">\n",
       "  <thead>\n",
       "    <tr style=\"text-align: right;\">\n",
       "      <th></th>\n",
       "      <th>AMZN</th>\n",
       "      <th>NKE</th>\n",
       "      <th>DIS</th>\n",
       "    </tr>\n",
       "    <tr>\n",
       "      <th>Date</th>\n",
       "      <th></th>\n",
       "      <th></th>\n",
       "      <th></th>\n",
       "    </tr>\n",
       "  </thead>\n",
       "  <tbody>\n",
       "    <tr>\n",
       "      <th>2015-11-02</th>\n",
       "      <td>31.417500</td>\n",
       "      <td>65.595001</td>\n",
       "      <td>115.040001</td>\n",
       "    </tr>\n",
       "    <tr>\n",
       "      <th>2015-11-03</th>\n",
       "      <td>31.265499</td>\n",
       "      <td>65.699997</td>\n",
       "      <td>115.540001</td>\n",
       "    </tr>\n",
       "    <tr>\n",
       "      <th>2015-11-04</th>\n",
       "      <td>32.047501</td>\n",
       "      <td>65.180000</td>\n",
       "      <td>113.250000</td>\n",
       "    </tr>\n",
       "    <tr>\n",
       "      <th>2015-11-05</th>\n",
       "      <td>32.782501</td>\n",
       "      <td>65.930000</td>\n",
       "      <td>113.000000</td>\n",
       "    </tr>\n",
       "    <tr>\n",
       "      <th>2015-11-06</th>\n",
       "      <td>32.968498</td>\n",
       "      <td>65.889999</td>\n",
       "      <td>115.669998</td>\n",
       "    </tr>\n",
       "    <tr>\n",
       "      <th>...</th>\n",
       "      <td>...</td>\n",
       "      <td>...</td>\n",
       "      <td>...</td>\n",
       "    </tr>\n",
       "    <tr>\n",
       "      <th>2016-10-24</th>\n",
       "      <td>41.904499</td>\n",
       "      <td>51.869999</td>\n",
       "      <td>93.370003</td>\n",
       "    </tr>\n",
       "    <tr>\n",
       "      <th>2016-10-25</th>\n",
       "      <td>41.758999</td>\n",
       "      <td>51.049999</td>\n",
       "      <td>92.750000</td>\n",
       "    </tr>\n",
       "    <tr>\n",
       "      <th>2016-10-26</th>\n",
       "      <td>41.129501</td>\n",
       "      <td>51.970001</td>\n",
       "      <td>93.489998</td>\n",
       "    </tr>\n",
       "    <tr>\n",
       "      <th>2016-10-27</th>\n",
       "      <td>40.917999</td>\n",
       "      <td>51.889999</td>\n",
       "      <td>94.019997</td>\n",
       "    </tr>\n",
       "    <tr>\n",
       "      <th>2016-10-28</th>\n",
       "      <td>38.816002</td>\n",
       "      <td>52.020000</td>\n",
       "      <td>93.849998</td>\n",
       "    </tr>\n",
       "  </tbody>\n",
       "</table>\n",
       "<p>251 rows × 3 columns</p>\n",
       "</div>"
      ],
      "text/plain": [
       "                 AMZN        NKE         DIS\n",
       "Date                                        \n",
       "2015-11-02  31.417500  65.595001  115.040001\n",
       "2015-11-03  31.265499  65.699997  115.540001\n",
       "2015-11-04  32.047501  65.180000  113.250000\n",
       "2015-11-05  32.782501  65.930000  113.000000\n",
       "2015-11-06  32.968498  65.889999  115.669998\n",
       "...               ...        ...         ...\n",
       "2016-10-24  41.904499  51.869999   93.370003\n",
       "2016-10-25  41.758999  51.049999   92.750000\n",
       "2016-10-26  41.129501  51.970001   93.489998\n",
       "2016-10-27  40.917999  51.889999   94.019997\n",
       "2016-10-28  38.816002  52.020000   93.849998\n",
       "\n",
       "[251 rows x 3 columns]"
      ]
     },
     "execution_count": 45,
     "metadata": {},
     "output_type": "execute_result"
    }
   ],
   "source": [
    "consumer_df=small_df[['AMZN','NKE','DIS']]\n",
    "consumer_df"
   ]
  },
  {
   "cell_type": "markdown",
   "id": "1c98df3c",
   "metadata": {},
   "source": [
    "### Energy Dataframe "
   ]
  },
  {
   "cell_type": "code",
   "execution_count": 46,
   "id": "8a2ccb20",
   "metadata": {},
   "outputs": [
    {
     "data": {
      "text/html": [
       "<div>\n",
       "<style scoped>\n",
       "    .dataframe tbody tr th:only-of-type {\n",
       "        vertical-align: middle;\n",
       "    }\n",
       "\n",
       "    .dataframe tbody tr th {\n",
       "        vertical-align: top;\n",
       "    }\n",
       "\n",
       "    .dataframe thead th {\n",
       "        text-align: right;\n",
       "    }\n",
       "</style>\n",
       "<table border=\"1\" class=\"dataframe\">\n",
       "  <thead>\n",
       "    <tr style=\"text-align: right;\">\n",
       "      <th></th>\n",
       "      <th>XOM</th>\n",
       "      <th>FSLR</th>\n",
       "      <th>NEE</th>\n",
       "    </tr>\n",
       "    <tr>\n",
       "      <th>Date</th>\n",
       "      <th></th>\n",
       "      <th></th>\n",
       "      <th></th>\n",
       "    </tr>\n",
       "  </thead>\n",
       "  <tbody>\n",
       "    <tr>\n",
       "      <th>2015-11-02</th>\n",
       "      <td>85.279999</td>\n",
       "      <td>57.779999</td>\n",
       "      <td>25.557501</td>\n",
       "    </tr>\n",
       "    <tr>\n",
       "      <th>2015-11-03</th>\n",
       "      <td>86.849998</td>\n",
       "      <td>58.349998</td>\n",
       "      <td>25.577499</td>\n",
       "    </tr>\n",
       "    <tr>\n",
       "      <th>2015-11-04</th>\n",
       "      <td>85.980003</td>\n",
       "      <td>58.660000</td>\n",
       "      <td>25.805000</td>\n",
       "    </tr>\n",
       "    <tr>\n",
       "      <th>2015-11-05</th>\n",
       "      <td>84.809998</td>\n",
       "      <td>58.330002</td>\n",
       "      <td>25.525000</td>\n",
       "    </tr>\n",
       "    <tr>\n",
       "      <th>2015-11-06</th>\n",
       "      <td>84.470001</td>\n",
       "      <td>59.669998</td>\n",
       "      <td>24.709999</td>\n",
       "    </tr>\n",
       "    <tr>\n",
       "      <th>...</th>\n",
       "      <td>...</td>\n",
       "      <td>...</td>\n",
       "      <td>...</td>\n",
       "    </tr>\n",
       "    <tr>\n",
       "      <th>2016-10-24</th>\n",
       "      <td>86.910004</td>\n",
       "      <td>40.869999</td>\n",
       "      <td>31.094999</td>\n",
       "    </tr>\n",
       "    <tr>\n",
       "      <th>2016-10-25</th>\n",
       "      <td>86.720001</td>\n",
       "      <td>40.680000</td>\n",
       "      <td>31.379999</td>\n",
       "    </tr>\n",
       "    <tr>\n",
       "      <th>2016-10-26</th>\n",
       "      <td>87.089996</td>\n",
       "      <td>41.110001</td>\n",
       "      <td>31.549999</td>\n",
       "    </tr>\n",
       "    <tr>\n",
       "      <th>2016-10-27</th>\n",
       "      <td>86.919998</td>\n",
       "      <td>41.060001</td>\n",
       "      <td>31.280001</td>\n",
       "    </tr>\n",
       "    <tr>\n",
       "      <th>2016-10-28</th>\n",
       "      <td>84.779999</td>\n",
       "      <td>40.650002</td>\n",
       "      <td>31.432501</td>\n",
       "    </tr>\n",
       "  </tbody>\n",
       "</table>\n",
       "<p>251 rows × 3 columns</p>\n",
       "</div>"
      ],
      "text/plain": [
       "                  XOM       FSLR        NEE\n",
       "Date                                       \n",
       "2015-11-02  85.279999  57.779999  25.557501\n",
       "2015-11-03  86.849998  58.349998  25.577499\n",
       "2015-11-04  85.980003  58.660000  25.805000\n",
       "2015-11-05  84.809998  58.330002  25.525000\n",
       "2015-11-06  84.470001  59.669998  24.709999\n",
       "...               ...        ...        ...\n",
       "2016-10-24  86.910004  40.869999  31.094999\n",
       "2016-10-25  86.720001  40.680000  31.379999\n",
       "2016-10-26  87.089996  41.110001  31.549999\n",
       "2016-10-27  86.919998  41.060001  31.280001\n",
       "2016-10-28  84.779999  40.650002  31.432501\n",
       "\n",
       "[251 rows x 3 columns]"
      ]
     },
     "execution_count": 46,
     "metadata": {},
     "output_type": "execute_result"
    }
   ],
   "source": [
    "energy_df=small_df[['XOM','FSLR','NEE']]\n",
    "energy_df"
   ]
  },
  {
   "cell_type": "markdown",
   "id": "47726a63",
   "metadata": {},
   "source": [
    "### Weapons Manufacturing Dataframe"
   ]
  },
  {
   "cell_type": "code",
   "execution_count": 47,
   "id": "46d57326",
   "metadata": {},
   "outputs": [
    {
     "data": {
      "text/html": [
       "<div>\n",
       "<style scoped>\n",
       "    .dataframe tbody tr th:only-of-type {\n",
       "        vertical-align: middle;\n",
       "    }\n",
       "\n",
       "    .dataframe tbody tr th {\n",
       "        vertical-align: top;\n",
       "    }\n",
       "\n",
       "    .dataframe thead th {\n",
       "        text-align: right;\n",
       "    }\n",
       "</style>\n",
       "<table border=\"1\" class=\"dataframe\">\n",
       "  <thead>\n",
       "    <tr style=\"text-align: right;\">\n",
       "      <th></th>\n",
       "      <th>LMT</th>\n",
       "      <th>RTX</th>\n",
       "      <th>NOC</th>\n",
       "    </tr>\n",
       "    <tr>\n",
       "      <th>Date</th>\n",
       "      <th></th>\n",
       "      <th></th>\n",
       "      <th></th>\n",
       "    </tr>\n",
       "  </thead>\n",
       "  <tbody>\n",
       "    <tr>\n",
       "      <th>2015-11-02</th>\n",
       "      <td>220.589996</td>\n",
       "      <td>62.548775</td>\n",
       "      <td>189.539993</td>\n",
       "    </tr>\n",
       "    <tr>\n",
       "      <th>2015-11-03</th>\n",
       "      <td>218.899994</td>\n",
       "      <td>62.932663</td>\n",
       "      <td>186.639999</td>\n",
       "    </tr>\n",
       "    <tr>\n",
       "      <th>2015-11-04</th>\n",
       "      <td>218.830002</td>\n",
       "      <td>63.140339</td>\n",
       "      <td>186.169998</td>\n",
       "    </tr>\n",
       "    <tr>\n",
       "      <th>2015-11-05</th>\n",
       "      <td>218.600006</td>\n",
       "      <td>63.436123</td>\n",
       "      <td>186.419998</td>\n",
       "    </tr>\n",
       "    <tr>\n",
       "      <th>2015-11-06</th>\n",
       "      <td>216.630005</td>\n",
       "      <td>63.436123</td>\n",
       "      <td>184.009995</td>\n",
       "    </tr>\n",
       "    <tr>\n",
       "      <th>...</th>\n",
       "      <td>...</td>\n",
       "      <td>...</td>\n",
       "      <td>...</td>\n",
       "    </tr>\n",
       "    <tr>\n",
       "      <th>2016-10-24</th>\n",
       "      <td>232.160004</td>\n",
       "      <td>62.630585</td>\n",
       "      <td>216.460007</td>\n",
       "    </tr>\n",
       "    <tr>\n",
       "      <th>2016-10-25</th>\n",
       "      <td>249.259995</td>\n",
       "      <td>63.788548</td>\n",
       "      <td>219.529999</td>\n",
       "    </tr>\n",
       "    <tr>\n",
       "      <th>2016-10-26</th>\n",
       "      <td>250.089996</td>\n",
       "      <td>63.568283</td>\n",
       "      <td>228.050003</td>\n",
       "    </tr>\n",
       "    <tr>\n",
       "      <th>2016-10-27</th>\n",
       "      <td>248.529999</td>\n",
       "      <td>62.976715</td>\n",
       "      <td>225.350006</td>\n",
       "    </tr>\n",
       "    <tr>\n",
       "      <th>2016-10-28</th>\n",
       "      <td>248.000000</td>\n",
       "      <td>64.090622</td>\n",
       "      <td>228.380005</td>\n",
       "    </tr>\n",
       "  </tbody>\n",
       "</table>\n",
       "<p>251 rows × 3 columns</p>\n",
       "</div>"
      ],
      "text/plain": [
       "                   LMT        RTX         NOC\n",
       "Date                                         \n",
       "2015-11-02  220.589996  62.548775  189.539993\n",
       "2015-11-03  218.899994  62.932663  186.639999\n",
       "2015-11-04  218.830002  63.140339  186.169998\n",
       "2015-11-05  218.600006  63.436123  186.419998\n",
       "2015-11-06  216.630005  63.436123  184.009995\n",
       "...                ...        ...         ...\n",
       "2016-10-24  232.160004  62.630585  216.460007\n",
       "2016-10-25  249.259995  63.788548  219.529999\n",
       "2016-10-26  250.089996  63.568283  228.050003\n",
       "2016-10-27  248.529999  62.976715  225.350006\n",
       "2016-10-28  248.000000  64.090622  228.380005\n",
       "\n",
       "[251 rows x 3 columns]"
      ]
     },
     "execution_count": 47,
     "metadata": {},
     "output_type": "execute_result"
    }
   ],
   "source": [
    "weapons_df=small_df[['LMT','RTX','NOC']]\n",
    "weapons_df"
   ]
  },
  {
   "cell_type": "markdown",
   "id": "a9e9f3a5",
   "metadata": {},
   "source": [
    "# Calculate: Daily Returns and Weighted Returns"
   ]
  },
  {
   "cell_type": "code",
   "execution_count": 48,
   "id": "13e5d5c4",
   "metadata": {},
   "outputs": [
    {
     "name": "stdout",
     "output_type": "stream",
     "text": [
      "                AAPL      MSFT      GOOG       JNJ       PFE       UNH  \\\n",
      "Date                                                                     \n",
      "2015-11-03  0.011471  0.017092  0.001456 -0.002055 -0.002567 -0.008678   \n",
      "2015-11-04 -0.004650  0.004617  0.008239 -0.000196 -0.023735 -0.025667   \n",
      "2015-11-05 -0.008852 -0.000368  0.004313  0.003826  0.000293  0.013870   \n",
      "2015-11-06  0.001158  0.009930  0.003432 -0.004007 -0.006442 -0.012217   \n",
      "2015-11-09 -0.004048 -0.013838 -0.012088 -0.010597 -0.008252 -0.004790   \n",
      "\n",
      "                 JPM       BAC         V      AMZN       NKE       DIS  \\\n",
      "Date                                                                     \n",
      "2015-11-03  0.003662  0.007034  0.035629 -0.004838  0.001601  0.004346   \n",
      "2015-11-04  0.001064 -0.009895  0.005777  0.025012 -0.007915 -0.019820   \n",
      "2015-11-05  0.008960  0.017637  0.011615  0.022935  0.011507 -0.002208   \n",
      "2015-11-06  0.030403  0.036973 -0.006435  0.005674 -0.000607  0.023628   \n",
      "2015-11-09 -0.015630 -0.015042 -0.009016 -0.005884 -0.009865  0.006484   \n",
      "\n",
      "                 XOM      FSLR       NEE       LMT       RTX       NOC  \n",
      "Date                                                                    \n",
      "2015-11-03  0.018410  0.009865  0.000782 -0.007661  0.006137 -0.015300  \n",
      "2015-11-04 -0.010017  0.005313  0.008895 -0.000320  0.003300 -0.002518  \n",
      "2015-11-05 -0.013608 -0.005626 -0.010851 -0.001051  0.004685  0.001343  \n",
      "2015-11-06 -0.004009  0.022973 -0.031930 -0.009012  0.000000 -0.012928  \n",
      "2015-11-09 -0.029833 -0.021451  0.000708 -0.008909 -0.011309 -0.012771  \n",
      "                Tech    Health   Finance  Consumer    Energy   Weapons\n",
      "Date                                                                  \n",
      "2015-11-03  0.010006 -0.004433  0.015442  0.000370  0.009686 -0.005608\n",
      "2015-11-04  0.002735 -0.016533 -0.001018 -0.000908  0.001397  0.000154\n",
      "2015-11-05 -0.001636  0.005996  0.012737  0.010745 -0.010028  0.001659\n",
      "2015-11-06  0.004840 -0.007555  0.020314  0.009565 -0.004322 -0.007313\n",
      "2015-11-09 -0.009991 -0.007880 -0.013229 -0.003088 -0.016859 -0.010997\n",
      "...              ...       ...       ...       ...       ...       ...\n",
      "2016-10-24  0.016218 -0.001578  0.007168  0.009636 -0.007966  0.006170\n",
      "2016-10-25 -0.000585  0.000487 -0.005902 -0.008640  0.000777  0.035443\n",
      "2016-10-26 -0.013015 -0.000599  0.003451  0.003642  0.006751  0.012896\n",
      "2016-10-27 -0.007667  0.003460  0.001966 -0.000338 -0.003909 -0.009128\n",
      "2016-10-28 -0.003480 -0.010444 -0.003891 -0.016891 -0.009910  0.009667\n",
      "\n",
      "[250 rows x 6 columns]\n"
     ]
    }
   ],
   "source": [
    "# Calculate daily returns, drop nas, and display the data \n",
    "# Tech Daily Returns \n",
    "tech_daily = tech_df.pct_change().dropna()\n",
    "tech_daily.head()\n",
    "\n",
    "# Healthcare Daily Returns \n",
    "health_daily = health_df.pct_change().dropna()\n",
    "health_daily.head()\n",
    "\n",
    "# Financials Daily Returns \n",
    "finance_daily = finance_df.pct_change().dropna()\n",
    "finance_daily.head()\n",
    "\n",
    "# Consumer Discretionary Daily Returns \n",
    "consumer_daily = consumer_df.pct_change().dropna()\n",
    "consumer_daily.head()\n",
    "\n",
    "# Energy Daily Returns \n",
    "energy_daily = energy_df.pct_change().dropna()\n",
    "energy_daily.head()\n",
    "\n",
    "# Weapons Manufacturing Daily Returns \n",
    "weapons_daily = weapons_df.pct_change().dropna()\n",
    "weapons_daily.head()\n",
    "\n",
    "combined_daily_returns = pd.concat([\n",
    "    tech_daily.head(),\n",
    "    health_daily.head(),\n",
    "    finance_daily.head(),\n",
    "    consumer_daily.head(),\n",
    "    energy_daily.head(),\n",
    "    weapons_daily.head()\n",
    "], axis=1)\n",
    "\n",
    "# Rename the columns for clarity\n",
    "combined_daily_returns.columns = ['AAPL','MSFT', 'GOOG', 'JNJ','PFE','UNH','JPM','BAC','V','AMZN','NKE','DIS','XOM','FSLR','NEE','LMT','RTX','NOC']\n",
    "\n",
    "# Display the combined DataFrame\n",
    "print(combined_daily_returns.head())\n",
    "\n",
    "# Set weights\n",
    "weights = [1/3, 1/3, 1/3]\n",
    "\n",
    "# Define a dictionary containing the daily returns for each sector\n",
    "daily_returns_dict = {\n",
    "    \"Tech\": tech_daily,\n",
    "    \"Health\": health_daily,\n",
    "    \"Finance\": finance_daily,\n",
    "    \"Consumer\": consumer_daily,\n",
    "    \"Energy\": energy_daily,\n",
    "    \"Weapons\": weapons_daily\n",
    "}\n",
    "\n",
    "# Create an empty dictionary to store the returns for each sector\n",
    "sector_returns = {}\n",
    "\n",
    "# Calculate the returns for each sector and store them in the dictionary\n",
    "for sector, combined_daily_returns in daily_returns_dict.items():\n",
    "    sector_returns[sector] = (weights * combined_daily_returns).sum(axis=1)\n",
    "\n",
    "# Create a DataFrame from the sector_returns dictionary\n",
    "returns_df = pd.DataFrame(sector_returns)\n",
    "\n",
    "# Display the DataFrame\n",
    "print(returns_df)"
   ]
  },
  {
   "cell_type": "markdown",
   "id": "cca746b4",
   "metadata": {},
   "source": [
    "# Risk Analysis Performance \n",
    "1. Cumulative Returns\n",
    "2. Annualized Standard Deviation \n",
    "3. Annualized Sharpe Ratios (Reward to Risk)\n",
    "4. Covariance and Variance \n",
    "5. BETA"
   ]
  },
  {
   "cell_type": "markdown",
   "id": "ed664118",
   "metadata": {},
   "source": [
    "## Cumulative Returns"
   ]
  },
  {
   "cell_type": "code",
   "execution_count": 49,
   "id": "9a28a027",
   "metadata": {},
   "outputs": [
    {
     "name": "stdout",
     "output_type": "stream",
     "text": [
      "                Tech    Health   Finance  Consumer    Energy   Weapons\n",
      "Date                                                                  \n",
      "2015-11-03  1.010006  0.995567  1.015442  1.000370  1.009686  0.994392\n",
      "2015-11-04  1.012769  0.979107  1.014408  0.999462  1.011096  0.994545\n",
      "2015-11-05  1.011112  0.984978  1.027328  1.010200  1.000957  0.996195\n",
      "2015-11-06  1.016006  0.977536  1.048197  1.019863  0.996631  0.988909\n",
      "2015-11-09  1.005855  0.969833  1.034331  1.016713  0.979829  0.978035\n",
      "...              ...       ...       ...       ...       ...       ...\n",
      "2016-10-24  1.086780  1.081015  1.051959  0.961533  0.979997  1.067928\n",
      "2016-10-25  1.086144  1.081541  1.045751  0.953225  0.980758  1.105778\n",
      "2016-10-26  1.072008  1.080893  1.049361  0.956697  0.987380  1.120037\n",
      "2016-10-27  1.063789  1.084633  1.051423  0.956374  0.983521  1.109814\n",
      "2016-10-28  1.060087  1.073305  1.047332  0.940220  0.973774  1.120542\n",
      "\n",
      "[250 rows x 6 columns]\n"
     ]
    },
    {
     "data": {
      "image/png": "[encoded data removed]",
      "text/plain": [
       "<Figure size 1000x600 with 1 Axes>"
      ]
     },
     "metadata": {},
     "output_type": "display_data"
    }
   ],
   "source": [
    "cumulative_returns = (1 + returns_df).cumprod()\n",
    "print(cumulative_returns) \n",
    "\n",
    "# Export and save Cumulative Returns dataframe into a csv file \n",
    "cumulative_returns.to_csv('cumulative_returns_data3.csv', index=False)\n",
    "\n",
    "cumulative_returns.plot(figsize=(10, 6))  # Adjust figsize as needed\n",
    "plt.title('Cumulative Returns of Each Industry')\n",
    "plt.xlabel('Date')\n",
    "plt.ylabel('Cumulative Returns')\n",
    "plt.grid(True)\n",
    "plt.legend()\n",
    "plt.show()"
   ]
  },
  {
   "cell_type": "markdown",
   "id": "9be59e2e",
   "metadata": {},
   "source": [
    "## Annualized Standard Deviation "
   ]
  },
  {
   "cell_type": "code",
   "execution_count": 50,
   "id": "def340b9",
   "metadata": {},
   "outputs": [
    {
     "name": "stdout",
     "output_type": "stream",
     "text": [
      "Tech        0.011833\n",
      "Health      0.008553\n",
      "Finance     0.014817\n",
      "Consumer    0.011392\n",
      "Energy      0.012652\n",
      "Weapons     0.008464\n",
      "dtype: float64\n"
     ]
    }
   ],
   "source": [
    "# Calculate the daily standard deviation \n",
    "daily_std_dev = np.std(returns_df)\n",
    "print(daily_std_dev)"
   ]
  },
  {
   "cell_type": "code",
   "execution_count": 51,
   "id": "ec4468c4",
   "metadata": {},
   "outputs": [
    {
     "name": "stderr",
     "output_type": "stream",
     "text": [
      "No artists with labels found to put in legend.  Note that artists whose label start with an underscore are ignored when legend() is called with no argument.\n"
     ]
    },
    {
     "data": {
      "image/png": "[encoded data removed]",
      "text/plain": [
       "<Figure size 1000x600 with 1 Axes>"
      ]
     },
     "metadata": {},
     "output_type": "display_data"
    }
   ],
   "source": [
    "# Calculate the annualized standard deviation (252 trading days)\n",
    "annualized_std = daily_std_dev * np.sqrt(252)\n",
    "\n",
    "# Plot the Annualized standard deviation\n",
    "annualized_std.plot.bar(figsize=(10, 6))  # Adjust figsize as needed\n",
    "plt.title('Annualized Standard Deviation of Each Industry')\n",
    "plt.xlabel('Industry')\n",
    "plt.ylabel('Annualized Standard Deviation')\n",
    "plt.grid(True)\n",
    "plt.legend()\n",
    "plt.show()"
   ]
  },
  {
   "cell_type": "markdown",
   "id": "f75cba56",
   "metadata": {},
   "source": [
    "## Sharpe Ratios"
   ]
  },
  {
   "cell_type": "code",
   "execution_count": 52,
   "id": "f06123ff",
   "metadata": {},
   "outputs": [
    {
     "data": {
      "image/png": "[encoded data removed]",
      "text/plain": [
       "<Figure size 1000x600 with 1 Axes>"
      ]
     },
     "metadata": {},
     "output_type": "display_data"
    }
   ],
   "source": [
    "# Annualized Sharpe Ratios \n",
    "sharpe_ratios = (returns_df.mean() * 252) / (returns_df.std() * np.sqrt(252))\n",
    "sharpe_ratios \n",
    "\n",
    "# Save the Sharpe Ratios dataset into a csv file \n",
    "sharpe_ratios.to_csv('sharperatios2015_2016.csv', index=False)\n",
    "\n",
    "# Visualize the sharpe ratios as a bar plot\n",
    "sharpe_ratios.plot(kind='bar', color='skyblue', figsize=(10, 6))\n",
    "\n",
    "# Customizing the plot\n",
    "plt.title('Sharpe Ratios of Each Industry')\n",
    "plt.xlabel('Industry')\n",
    "plt.ylabel('Sharpe Ratio')\n",
    "plt.xticks(rotation=45)  # Rotate x-axis labels for better readability\n",
    "plt.grid(axis='y', linestyle='--', alpha=0.7)  # Adding grid lines\n",
    "\n",
    "# Adding data labels\n",
    "for i, val in enumerate(sharpe_ratios.values):\n",
    "    plt.text(i, val, round(val, 2), ha='center', va='bottom')\n",
    "\n",
    "# Adding horizontal line at Sharpe ratio of 0 for reference\n",
    "plt.axhline(y=0, color='gray', linestyle='--', linewidth=0.5)\n",
    "\n",
    "# Show plot\n",
    "plt.tight_layout()  # Adjust layout to prevent clipping of labels\n",
    "plt.show()"
   ]
  },
  {
   "cell_type": "markdown",
   "id": "101dc808",
   "metadata": {},
   "source": [
    "# Create Custom Portfolio: 12 months After \n",
    "## Time Period: November 2016 to October 2017\n",
    "In this section, we chose three stocks from the top six invested in industries, calculate the returns, and compare the results to determine which industry performed best\n",
    "\n",
    "1. Choose 3 stocks with at last 1 year's worth of historic prices and create a DataFrame of the closing prices and dates for each stock.\n",
    "2. Calculate the weighted returns for the portfolio assuming an equal number of shares for each stock\n",
    "3. Join your portfolio returns to the DataFrame that contains all of the portfolio returns\n",
    "4. Re-run the performance and risk analysis with your portfolio to see how it compares to the others\n",
    "5. Include correlation analysis to determine which stocks (if any) are correlated"
   ]
  },
  {
   "cell_type": "markdown",
   "id": "5dd4a065",
   "metadata": {},
   "source": [
    "## Choose 3-5 custom stocks with at last 1 year's worth of historic prices and create a DataFrame of the closing prices and dates for each stock."
   ]
  },
  {
   "cell_type": "markdown",
   "id": "ffd08ed1",
   "metadata": {},
   "source": [
    "## Technology Sector\n",
    "These are the three stocks we chose within the Technology Industry"
   ]
  },
  {
   "cell_type": "code",
   "execution_count": null,
   "id": "c1cb2135",
   "metadata": {},
   "outputs": [],
   "source": [
    "# Define the stock ticker and date range: Apple Inc. \n",
    "AAPL_stock = 'AAPL'\n",
    "start_date = '2016-11-01'  # example start date\n",
    "end_date = '2017-10-31'    # example end date\n",
    "\n",
    "# Download the stock data\n",
    "data_AAPL = yf.download(AAPL_stock, start=start_date, end=end_date)\n",
    "\n",
    "# Print the type of the data\n",
    "#print(type(data_AAPL))\n",
    "\n",
    "# Print the first few columns of the data\n",
    "#print(data_AAPL.iloc[:, :5])  # This prints the first three columns of the DataFrame"
   ]
  },
  {
   "cell_type": "code",
   "execution_count": null,
   "id": "339fc1d9",
   "metadata": {},
   "outputs": [],
   "source": [
    "# Define the stock ticker and date range: Microsoft \n",
    "MSFT_stock = 'MSFT'\n",
    "start_date = '2016-11-01'  # example start date\n",
    "end_date = '2017-10-31'    # example end date\n",
    "\n",
    "# Download the stock data\n",
    "data_MSFT = yf.download(MSFT_stock, start=start_date, end=end_date)\n",
    "\n",
    "# Print the type of the data\n",
    "#print(type(data_MSFT))\n",
    "\n",
    "# Print the first few columns of the data\n",
    "#print(data_MSFT.iloc[:, :5])  # This prints the first three columns of the DataFrame"
   ]
  },
  {
   "cell_type": "code",
   "execution_count": null,
   "id": "030ba095",
   "metadata": {},
   "outputs": [],
   "source": [
    "# Define the stock ticker and date range: Google \n",
    "GOOG_stock = 'GOOG'\n",
    "start_date = '2016-11-01'  # example start date\n",
    "end_date = '2017-10-31'    # example end date\n",
    "\n",
    "# Download the stock data\n",
    "data_GOOG = yf.download(GOOG_stock, start=start_date, end=end_date)\n",
    "\n",
    "# Print the type of the data\n",
    "#print(type(data_GOOG))\n",
    "\n",
    "# Print the first few columns of the data\n",
    "#print(data_GOOG.iloc[:, :5])  # This prints the first three columns of the DataFrame"
   ]
  },
  {
   "cell_type": "markdown",
   "id": "9d0cffac",
   "metadata": {},
   "source": [
    "## Healthcare Sector \n",
    "These are the three stocks we chose in the Healthcare Industry"
   ]
  },
  {
   "cell_type": "code",
   "execution_count": null,
   "id": "fe9106ad",
   "metadata": {},
   "outputs": [],
   "source": [
    "# Define the stock ticker and date range: Johnson and Johnson \n",
    "JNJ_stock = 'JNJ'\n",
    "start_date = '2016-11-01'  # example start date\n",
    "end_date = '2017-10-31'    # example end date\n",
    "\n",
    "# Download the stock data\n",
    "data_JNJ = yf.download(JNJ_stock, start=start_date, end=end_date)\n",
    "\n",
    "# Print the type of the data\n",
    "#print(type(data_JNJ))\n",
    "\n",
    "# Print the first few columns of the data\n",
    "#print(data_JNJ.iloc[:, :5])  # This prints the first three columns of the DataFrame"
   ]
  },
  {
   "cell_type": "code",
   "execution_count": null,
   "id": "fc30c9fc",
   "metadata": {},
   "outputs": [],
   "source": [
    "# Define the stock ticker and date range: Pfizer Inc\n",
    "PFE_stock = 'PFE'\n",
    "start_date = '2016-11-01'  # example start date\n",
    "end_date = '2017-10-31'    # example end date\n",
    "\n",
    "# Download the stock data\n",
    "data_PFE = yf.download(PFE_stock, start=start_date, end=end_date)\n",
    "\n",
    "# Print the type of the data\n",
    "#print(type(data_PFE))\n",
    "\n",
    "# Print the first few columns of the data\n",
    "#print(data_PFE.iloc[:, :5])  # This prints the first three columns of the DataFrame"
   ]
  },
  {
   "cell_type": "code",
   "execution_count": null,
   "id": "729df1d3",
   "metadata": {},
   "outputs": [],
   "source": [
    "# Define the stock ticker and date range: United Health Group\n",
    "UNH_stock = 'UNH'\n",
    "start_date = '2016-11-01'  # example start date\n",
    "end_date = '2017-10-31'    # example end date\n",
    "\n",
    "# Download the stock data\n",
    "data_UNH = yf.download(UNH_stock, start=start_date, end=end_date)\n",
    "\n",
    "# Print the type of the data\n",
    "#print(type(data_UNH))\n",
    "\n",
    "# Print the first few columns of the data\n",
    "#print(data_UNH.iloc[:, :5])  # This prints the first three columns of the DataFrame"
   ]
  },
  {
   "cell_type": "markdown",
   "id": "9e2f32d7",
   "metadata": {},
   "source": [
    "# Financials Sector \n",
    "These are the three stocks we chose in the Healthcare Industry"
   ]
  },
  {
   "cell_type": "code",
   "execution_count": null,
   "id": "7790e755",
   "metadata": {},
   "outputs": [],
   "source": [
    "# Define the stock ticker and date range: JPMorgan Chase and Co. \n",
    "JPM_stock = 'JPM'\n",
    "start_date = '2016-11-01'  # example start date\n",
    "end_date = '2017-10-31'    # example end date\n",
    "\n",
    "# Download the stock data\n",
    "data_JPM = yf.download(JPM_stock, start=start_date, end=end_date)\n",
    "\n",
    "# Print the type of the data\n",
    "#print(type(data_JPM))\n",
    "\n",
    "# Print the first few columns of the data\n",
    "#print(data_JPM.iloc[:, :5])  # This prints the first three columns of the DataFrame"
   ]
  },
  {
   "cell_type": "code",
   "execution_count": null,
   "id": "530a84fc",
   "metadata": {},
   "outputs": [],
   "source": [
    "# Define the stock ticker and date range: Bank of America \n",
    "BAC_stock = 'BAC'\n",
    "start_date = '2016-11-01'  # example start date\n",
    "end_date = '2017-10-31'    # example end date\n",
    "\n",
    "# Download the stock data\n",
    "data_BAC = yf.download(BAC_stock, start=start_date, end=end_date)\n",
    "\n",
    "# Print the type of the data\n",
    "#print(type(data_BAC))\n",
    "\n",
    "# Print the first few columns of the data\n",
    "#print(data_BAC.iloc[:, :5])  # This prints the first three columns of the DataFrame"
   ]
  },
  {
   "cell_type": "code",
   "execution_count": null,
   "id": "eecbef7e",
   "metadata": {},
   "outputs": [],
   "source": [
    "# Define the stock ticker and date range: Visa\n",
    "V_stock = 'V'\n",
    "start_date = '2016-11-01'  # example start date\n",
    "end_date = '2017-10-31'    # example end date\n",
    "\n",
    "# Download the stock data\n",
    "data_V = yf.download(V_stock, start=start_date, end=end_date)\n",
    "\n",
    "# Print the type of the data\n",
    "#print(type(data_V))\n",
    "\n",
    "# Print the first few columns of the data\n",
    "#print(data_V.iloc[:, :5])  # This prints the first three columns of the DataFrame"
   ]
  },
  {
   "cell_type": "markdown",
   "id": "cf2a3487",
   "metadata": {},
   "source": [
    "## Consumer Discretionary \n",
    "These are the three stocks we chose in the consumer discretionary industry: Amazon, Nike, and Walt Disney Company"
   ]
  },
  {
   "cell_type": "code",
   "execution_count": null,
   "id": "898cb861",
   "metadata": {},
   "outputs": [],
   "source": [
    "# Define the stock ticker and date range: Amazon\n",
    "AMZN_stock = 'AMZN'\n",
    "start_date = '2016-11-01'  # example start date\n",
    "end_date = '2017-10-31'    # example end date\n",
    "\n",
    "# Download the stock data\n",
    "data_AMZN = yf.download(AMZN_stock, start=start_date, end=end_date)\n",
    "\n",
    "# Print the type of the data\n",
    "#print(type(data_AMZN))\n",
    "\n",
    "# Print the first few columns of the data\n",
    "#print(data_AMZN.iloc[:, :5])  # This prints the first three columns of the DataFrame"
   ]
  },
  {
   "cell_type": "code",
   "execution_count": null,
   "id": "15ccfc36",
   "metadata": {},
   "outputs": [],
   "source": [
    "# Define the stock ticker and date range: Nike\n",
    "NKE_stock = 'NKE'\n",
    "start_date = '2016-11-01'  # example start date\n",
    "end_date = '2017-10-31'    # example end date\n",
    "\n",
    "# Download the stock data\n",
    "data_NKE = yf.download(NKE_stock, start=start_date, end=end_date)\n",
    "\n",
    "# Print the type of the data\n",
    "#print(type(data_NKE))\n",
    "\n",
    "# Print the first few columns of the data\n",
    "#print(data_NKE.iloc[:, :5])  # This prints the first three columns of the DataFrame"
   ]
  },
  {
   "cell_type": "code",
   "execution_count": null,
   "id": "4f38dcf7",
   "metadata": {},
   "outputs": [],
   "source": [
    "# Define the stock ticker and date range: Walt Disney Company \n",
    "DIS_stock = 'DIS'\n",
    "start_date = '2016-11-01'  # example start date\n",
    "end_date = '2017-10-31'    # example end date\n",
    "\n",
    "# Download the stock data\n",
    "data_DIS = yf.download(DIS_stock, start=start_date, end=end_date)\n",
    "\n",
    "# Print the type of the data\n",
    "#print(type(data_DIS))\n",
    "\n",
    "# Print the first few columns of the data\n",
    "#print(data_DIS.iloc[:, :5])  # This prints the first three columns of the DataFrame"
   ]
  },
  {
   "cell_type": "markdown",
   "id": "e62c069d",
   "metadata": {},
   "source": [
    "## Energy Sector \n",
    "These are the three stocks we chose in the energy industry: Exxon Mobile Incorporation, First Solar Inc. , NextEra Energy Resources "
   ]
  },
  {
   "cell_type": "code",
   "execution_count": null,
   "id": "897e7473",
   "metadata": {},
   "outputs": [],
   "source": [
    "# Define the stock ticker and date range: Exxon Mobile Incorporation\n",
    "XOM_stock = 'XOM'\n",
    "start_date = '2016-11-01'  # example start date\n",
    "end_date = '2017-10-31'    # example end date\n",
    "\n",
    "# Download the stock data\n",
    "data_XOM = yf.download(XOM_stock, start=start_date, end=end_date)\n",
    "\n",
    "# Print the type of the data\n",
    "#print(type(data_XOM))\n",
    "\n",
    "# Print the first few columns of the data\n",
    "#print(data_XOM.iloc[:, :5])  # This prints the first three columns of the DataFrame"
   ]
  },
  {
   "cell_type": "code",
   "execution_count": null,
   "id": "6d779524",
   "metadata": {},
   "outputs": [],
   "source": [
    "# Define the stock ticker and date range: First Solar Inc. \n",
    "FSLR_stock = 'FSLR'\n",
    "start_date = '2016-11-01'  # example start date\n",
    "end_date = '2017-10-31'    # example end date\n",
    "\n",
    "# Download the stock data\n",
    "data_FSLR = yf.download(FSLR_stock, start=start_date, end=end_date)\n",
    "\n",
    "# Print the type of the data\n",
    "#print(type(data_FSLR))\n",
    "\n",
    "# Print the first few columns of the data\n",
    "#print(data_FSLR.iloc[:, :5])  # This prints the first three columns of the DataFrame"
   ]
  },
  {
   "cell_type": "code",
   "execution_count": null,
   "id": "787f1f4b",
   "metadata": {},
   "outputs": [],
   "source": [
    "# Define the stock ticker and date range: NextEra Energy Resources\n",
    "NEE_stock = 'NEE'\n",
    "start_date = '2016-11-01'  # example start date\n",
    "end_date = '2017-10-31'    # example end date\n",
    "\n",
    "# Download the stock data\n",
    "data_NEE = yf.download(NEE_stock, start=start_date, end=end_date)\n",
    "\n",
    "# Print the type of the data\n",
    "#print(type(data_NEE))\n",
    "\n",
    "# Print the first few columns of the data\n",
    "#print(data_NEE.iloc[:, :5])  # This prints the first three columns of the DataFrame"
   ]
  },
  {
   "cell_type": "markdown",
   "id": "5dc220fc",
   "metadata": {},
   "source": [
    "## Weapons Manufacturing \n",
    "These are the three stocks we chose in the weapons manufacturing instury: Lockheed Martin Corporation, Raytheon Technologies Corporations (RTX), Northrup Grumman Corporation (NOC)  "
   ]
  },
  {
   "cell_type": "code",
   "execution_count": null,
   "id": "1464dad3",
   "metadata": {},
   "outputs": [],
   "source": [
    "# Define the stock ticker and date range: Lockheed Martin Corporation\n",
    "LMT_stock = 'LMT'\n",
    "start_date = '2016-11-01'  # example start date\n",
    "end_date = '2017-10-31'    # example end date\n",
    "\n",
    "# Download the stock data\n",
    "data_LMT = yf.download(LMT_stock, start=start_date, end=end_date)\n",
    "\n",
    "# Print the type of the data\n",
    "#print(type(data_LMT))\n",
    "\n",
    "# Print the first few columns of the data\n",
    "#print(data_LMT.iloc[:, :5])  # This prints the first three columns of the DataFrame"
   ]
  },
  {
   "cell_type": "code",
   "execution_count": null,
   "id": "194551fa",
   "metadata": {},
   "outputs": [],
   "source": [
    "# Define the stock ticker and date range: Raytheon Technologies Corporation\n",
    "RTX_stock = 'RTX'\n",
    "start_date = '2016-11-01'  # example start date\n",
    "end_date = '2017-10-31'    # example end date\n",
    "\n",
    "# Download the stock data\n",
    "data_RTX = yf.download(RTX_stock, start=start_date, end=end_date)\n",
    "\n",
    "# Print the type of the data\n",
    "#print(type(data_RTX))\n",
    "\n",
    "# Print the first few columns of the data\n",
    "#print(data_RTX.iloc[:, :5])  # This prints the first three columns of the DataFrame"
   ]
  },
  {
   "cell_type": "code",
   "execution_count": null,
   "id": "5fb44776",
   "metadata": {},
   "outputs": [],
   "source": [
    "# Define the stock ticker and date range: Northrup Grumman Corporation\n",
    "NOC_stock = 'NOC'\n",
    "start_date = '2016-11-01'  # example start date\n",
    "end_date = '2017-10-31'    # example end date\n",
    "\n",
    "# Download the stock data\n",
    "data_NOC = yf.download(NOC_stock, start=start_date, end=end_date)\n",
    "\n",
    "# Print the type of the data\n",
    "#print(type(data_NOC))\n",
    "\n",
    "# Print the first few columns of the data\n",
    "#print(data_NOC.iloc[:, :5])  # This prints the first three columns of the DataFrame"
   ]
  },
  {
   "cell_type": "markdown",
   "id": "6045156b",
   "metadata": {},
   "source": [
    "## Combined Stocks Dataframe"
   ]
  },
  {
   "cell_type": "code",
   "execution_count": null,
   "id": "ab75fa83",
   "metadata": {},
   "outputs": [],
   "source": [
    "# Combine all stocks into a single Dataframe \n",
    "custom_portfolio_df = pd.concat([data_AAPL,data_MSFT,data_GOOG,data_JNJ,data_PFE,data_UNH,data_JPM,data_BAC,data_V,data_AMZN,data_NKE,data_DIS,data_XOM,data_FSLR,data_NEE,data_LMT,data_RTX,data_NOC], axis=\"columns\", join=\"inner\")\n",
    "custom_portfolio_df.head()"
   ]
  },
  {
   "cell_type": "code",
   "execution_count": null,
   "id": "d7cf0814",
   "metadata": {},
   "outputs": [],
   "source": [
    "small_df=custom_portfolio_df['Close']\n",
    "small_df.columns=['AAPL','MSFT', 'GOOG', 'JNJ','PFE','UNH','JPM','BAC','V','AMZN','NKE','DIS','XOM','FSLR','NEE','LMT','RTX','NOC']\n",
    "small_df"
   ]
  },
  {
   "cell_type": "markdown",
   "id": "b0fc1c0d",
   "metadata": {},
   "source": [
    "### Technology Dataframe"
   ]
  },
  {
   "cell_type": "code",
   "execution_count": null,
   "id": "830368e1",
   "metadata": {},
   "outputs": [],
   "source": [
    "tech_df=small_df[['AAPL','MSFT','GOOG']]\n",
    "tech_df"
   ]
  },
  {
   "cell_type": "markdown",
   "id": "33f6cff9",
   "metadata": {},
   "source": [
    "### Healthcare Dataframe"
   ]
  },
  {
   "cell_type": "code",
   "execution_count": null,
   "id": "9acf36f1",
   "metadata": {},
   "outputs": [],
   "source": [
    "health_df=small_df[['JNJ','PFE','UNH']]\n",
    "health_df"
   ]
  },
  {
   "cell_type": "markdown",
   "id": "f9df2883",
   "metadata": {},
   "source": [
    "### Financials Dataframe"
   ]
  },
  {
   "cell_type": "code",
   "execution_count": null,
   "id": "6e6a96b0",
   "metadata": {},
   "outputs": [],
   "source": [
    "finance_df=small_df[['JPM','BAC','V']]\n",
    "finance_df"
   ]
  },
  {
   "cell_type": "markdown",
   "id": "bb3bd9c7",
   "metadata": {},
   "source": [
    "### Consumer Discretionary Dataframe"
   ]
  },
  {
   "cell_type": "code",
   "execution_count": null,
   "id": "aa5e2b55",
   "metadata": {},
   "outputs": [],
   "source": [
    "consumer_df=small_df[['AMZN','NKE','DIS']]\n",
    "consumer_df"
   ]
  },
  {
   "cell_type": "markdown",
   "id": "af32c207",
   "metadata": {},
   "source": [
    "### Energy Dataframe "
   ]
  },
  {
   "cell_type": "code",
   "execution_count": null,
   "id": "b040c8e8",
   "metadata": {},
   "outputs": [],
   "source": [
    "energy_df=small_df[['XOM','FSLR','NEE']]\n",
    "energy_df"
   ]
  },
  {
   "cell_type": "markdown",
   "id": "b03a2e73",
   "metadata": {},
   "source": [
    "### Weapons Manufacturing Dataframe "
   ]
  },
  {
   "cell_type": "code",
   "execution_count": null,
   "id": "38ee2014",
   "metadata": {},
   "outputs": [],
   "source": [
    "weapons_df=small_df[['LMT','RTX','NOC']]\n",
    "weapons_df"
   ]
  },
  {
   "cell_type": "markdown",
   "id": "adddb6d9",
   "metadata": {},
   "source": [
    "# Calculate: Daily Returns and Weighted Returns"
   ]
  },
  {
   "cell_type": "code",
   "execution_count": null,
   "id": "696e6920",
   "metadata": {},
   "outputs": [],
   "source": [
    "# Calculate daily returns, drop nas, and display the data \n",
    "# Tech Daily Returns \n",
    "tech_daily = tech_df.pct_change().dropna()\n",
    "tech_daily.head()\n",
    "\n",
    "# Healthcare Daily Returns \n",
    "health_daily = health_df.pct_change().dropna()\n",
    "health_daily.head()\n",
    "\n",
    "# Financials Daily Returns \n",
    "finance_daily = finance_df.pct_change().dropna()\n",
    "finance_daily.head()\n",
    "\n",
    "# Consumer Discretionary Daily Returns \n",
    "consumer_daily = consumer_df.pct_change().dropna()\n",
    "consumer_daily.head()\n",
    "\n",
    "# Energy Daily Returns \n",
    "energy_daily = energy_df.pct_change().dropna()\n",
    "energy_daily.head()\n",
    "\n",
    "# Weapons Manufacturing Daily Returns \n",
    "weapons_daily = weapons_df.pct_change().dropna()\n",
    "weapons_daily.head()\n",
    "\n",
    "combined_daily_returns = pd.concat([\n",
    "    tech_daily.head(),\n",
    "    health_daily.head(),\n",
    "    finance_daily.head(),\n",
    "    consumer_daily.head(),\n",
    "    energy_daily.head(),\n",
    "    weapons_daily.head()\n",
    "], axis=1)\n",
    "\n",
    "# Rename the columns for clarity\n",
    "combined_daily_returns.columns = ['AAPL','MSFT', 'GOOG', 'JNJ','PFE','UNH','JPM','BAC','V','AMZN','NKE','DIS','XOM','FSLR','NEE','LMT','RTX','NOC']\n",
    "\n",
    "# Display the combined DataFrame\n",
    "print(combined_daily_returns.head())\n",
    "\n",
    "# Set weights\n",
    "weights = [1/3, 1/3, 1/3]\n",
    "\n",
    "# Define a dictionary containing the daily returns for each sector\n",
    "daily_returns_dict = {\n",
    "    \"Tech\": tech_daily,\n",
    "    \"Health\": health_daily,\n",
    "    \"Finance\": finance_daily,\n",
    "    \"Consumer\": consumer_daily,\n",
    "    \"Energy\": energy_daily,\n",
    "    \"Weapons\": weapons_daily\n",
    "}\n",
    "\n",
    "# Create an empty dictionary to store the returns for each sector\n",
    "sector_returns = {}\n",
    "\n",
    "# Calculate the returns for each sector and store them in the dictionary\n",
    "for sector, combined_daily_returns in daily_returns_dict.items():\n",
    "    sector_returns[sector] = (weights * combined_daily_returns).sum(axis=1)\n",
    "\n",
    "# Create a DataFrame from the sector_returns dictionary\n",
    "returns_df = pd.DataFrame(sector_returns)\n",
    "\n",
    "# Display the DataFrame\n",
    "print(returns_df)"
   ]
  },
  {
   "cell_type": "markdown",
   "id": "f7aae5ac",
   "metadata": {},
   "source": [
    "# Risk Analysis Performance \n",
    "1. Cumulative Returns\n",
    "2. Annualized Standard Deviation \n",
    "3. Annualized Sharpe Ratios (Reward to Risk)\n",
    "4. Covariance and Variance \n",
    "5. BETA"
   ]
  },
  {
   "cell_type": "markdown",
   "id": "36d08f26",
   "metadata": {},
   "source": [
    "## Cumulative Returns"
   ]
  },
  {
   "cell_type": "code",
   "execution_count": null,
   "id": "980bb279",
   "metadata": {},
   "outputs": [],
   "source": [
    "cumulative_returns = (1 + returns_df).cumprod()\n",
    "\n",
    "# Export and save Cumulative Returns dataframe into a csv file \n",
    "cumulative_returns.to_csv('cumulative_returns_data3.csv', index=False)\n",
    "\n",
    "cumulative_returns.plot(figsize=(10, 6))  # Adjust figsize as needed\n",
    "plt.title('Cumulative Returns of Each Industry')\n",
    "plt.xlabel('Date')\n",
    "plt.ylabel('Cumulative Returns')\n",
    "plt.grid(True)\n",
    "plt.legend()\n",
    "plt.show()"
   ]
  },
  {
   "cell_type": "markdown",
   "id": "18352997",
   "metadata": {},
   "source": [
    "## Annualized Standard Deviation"
   ]
  },
  {
   "cell_type": "code",
   "execution_count": null,
   "id": "4d90ed70",
   "metadata": {},
   "outputs": [],
   "source": [
    "# Calculate the daily standard deviation \n",
    "daily_std_dev = np.std(returns_df)\n",
    "print(daily_std_dev)"
   ]
  },
  {
   "cell_type": "code",
   "execution_count": null,
   "id": "71d4da57",
   "metadata": {},
   "outputs": [],
   "source": [
    "# Calculate the annualized standard deviation (252 trading days)\n",
    "annualized_std = daily_std_dev * np.sqrt(252)\n",
    "\n",
    "# Plot the Annualized standard deviation\n",
    "annualized_std.plot.bar(figsize=(10, 6))  # Adjust figsize as needed\n",
    "plt.title('Annualized Standard Deviation of Each Industry')\n",
    "plt.xlabel('Industry')\n",
    "plt.ylabel('Annualized Standard Deviation')\n",
    "plt.grid(True)\n",
    "plt.legend()\n",
    "plt.show()"
   ]
  },
  {
   "cell_type": "markdown",
   "id": "77fb2009",
   "metadata": {},
   "source": [
    "# Sharpe Ratios "
   ]
  },
  {
   "cell_type": "code",
   "execution_count": null,
   "id": "d75dcbe1",
   "metadata": {},
   "outputs": [],
   "source": [
    "# Annualized Sharpe Ratios \n",
    "sharpe_ratios = (returns_df.mean() * 252) / (returns_df.std() * np.sqrt(252))\n",
    "sharpe_ratios \n",
    "\n",
    "# Visualize the sharpe ratios as a bar plot\n",
    "sharpe_ratios.plot(kind='bar', color='skyblue', figsize=(10, 6))\n",
    "\n",
    "# Customizing the plot\n",
    "plt.title('Sharpe Ratios of Each Industry (Nov 2022 to Oct 2023)')\n",
    "plt.xlabel('Industry')\n",
    "plt.ylabel('Sharpe Ratio')\n",
    "plt.xticks(rotation=45)  # Rotate x-axis labels for better readability\n",
    "plt.grid(axis='y', linestyle='--', alpha=0.7)  # Adding grid lines\n",
    "\n",
    "# Adding data labels\n",
    "for i, val in enumerate(sharpe_ratios.values):\n",
    "    plt.text(i, val, round(val, 2), ha='center', va='bottom')\n",
    "\n",
    "# Adding horizontal line at Sharpe ratio of 0 for reference\n",
    "plt.axhline(y=0, color='gray', linestyle='--', linewidth=0.5)\n",
    "\n",
    "# Show plot\n",
    "plt.tight_layout()  # Adjust layout to prevent clipping of labels\n",
    "plt.show()"
   ]
  }
 ],
 "metadata": {
  "kernelspec": {
   "display_name": "Python 3 (ipykernel)",
   "language": "python",
   "name": "python3"
  },
  "language_info": {
   "codemirror_mode": {
    "name": "ipython",
    "version": 3
   },
   "file_extension": ".py",
   "mimetype": "text/x-python",
   "name": "python",
   "nbconvert_exporter": "python",
   "pygments_lexer": "ipython3",
   "version": "3.9.18"
  }
 },
 "nbformat": 4,
 "nbformat_minor": 5
}
