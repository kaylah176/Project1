{
 "cells": [
  {
   "cell_type": "markdown",
   "id": "d694eeb0",
   "metadata": {},
   "source": [
    "# Create Custom Portfolio: 12 months Before \n",
    "## Time Period: November 2013 to October 2014\n",
    "In this section, we chose three stocks from the top six invested in industries, calculate the returns, and compare the results to determine which industry performed best\n",
    "\n",
    "1. Choose 3 stocks with at last 1 year's worth of historic prices and create a DataFrame of the closing prices and dates for each stock.\n",
    "2. Calculate the weighted returns for the portfolio assuming an equal number of shares for each stock\n",
    "3. Join your portfolio returns to the DataFrame that contains all of the portfolio returns\n",
    "4. Re-run the performance and risk analysis with your portfolio to see how it compares to the others\n",
    "5. Include correlation analysis to determine which stocks (if any) are correlated"
   ]
  },
  {
   "cell_type": "markdown",
   "id": "c6085b36",
   "metadata": {},
   "source": [
    "## Choose 3-5 custom stocks with at last 1 year's worth of historic prices and create a DataFrame of the closing prices and dates for each stock."
   ]
  },
  {
   "cell_type": "code",
   "execution_count": 4,
   "id": "6a008aa5",
   "metadata": {},
   "outputs": [],
   "source": [
    "import yfinance as yf\n",
    "\n",
    "# Initial imports\n",
    "import pandas as pd\n",
    "import numpy as np\n",
    "import datetime as dt\n",
    "from pathlib import Path\n",
    "import matplotlib.pyplot as plt"
   ]
  },
  {
   "cell_type": "markdown",
   "id": "841014a0",
   "metadata": {},
   "source": [
    "## Technology Sector\n",
    "These are the three stocks we chose within the Technology Industry"
   ]
  },
  {
   "cell_type": "code",
   "execution_count": 5,
   "id": "7b32099f",
   "metadata": {},
   "outputs": [
    {
     "name": "stderr",
     "output_type": "stream",
     "text": [
      "[*********************100%%**********************]  1 of 1 completed\n"
     ]
    }
   ],
   "source": [
    "# Define the stock ticker and date range: Apple Inc. \n",
    "AAPL_stock = 'AAPL'\n",
    "start_date = '2013-11-01'  # example start date\n",
    "end_date = '2014-10-31'    # example end date\n",
    "\n",
    "# Download the stock data\n",
    "data_AAPL = yf.download(AAPL_stock, start=start_date, end=end_date)\n",
    "\n",
    "# Print the type of the data\n",
    "#print(type(data_AAPL))\n",
    "\n",
    "# Print the first few columns of the data\n",
    "#print(data_AAPL.iloc[:, :5])  # This prints the first three columns of the DataFrame"
   ]
  },
  {
   "cell_type": "code",
   "execution_count": 6,
   "id": "2eeb51ad",
   "metadata": {},
   "outputs": [
    {
     "name": "stderr",
     "output_type": "stream",
     "text": [
      "[*********************100%%**********************]  1 of 1 completed\n"
     ]
    }
   ],
   "source": [
    "# Define the stock ticker and date range: Microsoft \n",
    "MSFT_stock = 'MSFT'\n",
    "start_date = '2013-11-01'  # example start date\n",
    "end_date = '2014-10-31'    # example end date\n",
    "\n",
    "# Download the stock data\n",
    "data_MSFT = yf.download(MSFT_stock, start=start_date, end=end_date)\n",
    "\n",
    "# Print the type of the data\n",
    "#print(type(data_MSFT))\n",
    "\n",
    "# Print the first few columns of the data\n",
    "#print(data_MSFT.iloc[:, :5])  # This prints the first three columns of the DataFrame"
   ]
  },
  {
   "cell_type": "code",
   "execution_count": 7,
   "id": "29505cc9",
   "metadata": {},
   "outputs": [
    {
     "name": "stderr",
     "output_type": "stream",
     "text": [
      "[*********************100%%**********************]  1 of 1 completed\n"
     ]
    }
   ],
   "source": [
    "# Define the stock ticker and date range: Google \n",
    "GOOG_stock = 'GOOG'\n",
    "start_date = '2013-11-01'  # example start date\n",
    "end_date = '2014-10-31'    # example end date\n",
    "\n",
    "# Download the stock data\n",
    "data_GOOG = yf.download(GOOG_stock, start=start_date, end=end_date)\n",
    "\n",
    "# Print the type of the data\n",
    "#print(type(data_GOOG))\n",
    "\n",
    "# Print the first few columns of the data\n",
    "#print(data_GOOG.iloc[:, :5])  # This prints the first three columns of the DataFrame"
   ]
  },
  {
   "cell_type": "markdown",
   "id": "d130962b",
   "metadata": {},
   "source": [
    "## Healthcare Sector \n",
    "These are the three stocks we chose in the Healthcare Industry"
   ]
  },
  {
   "cell_type": "code",
   "execution_count": 8,
   "id": "e03ed623",
   "metadata": {},
   "outputs": [
    {
     "name": "stderr",
     "output_type": "stream",
     "text": [
      "[*********************100%%**********************]  1 of 1 completed\n"
     ]
    }
   ],
   "source": [
    "# Define the stock ticker and date range: Johnson and Johnson \n",
    "JNJ_stock = 'JNJ'\n",
    "start_date = '2013-11-01'  # example start date\n",
    "end_date = '2014-10-31'    # example end date\n",
    "\n",
    "# Download the stock data\n",
    "data_JNJ = yf.download(JNJ_stock, start=start_date, end=end_date)\n",
    "\n",
    "# Print the type of the data\n",
    "#print(type(data_JNJ))\n",
    "\n",
    "# Print the first few columns of the data\n",
    "#print(data_JNJ.iloc[:, :5])  # This prints the first three columns of the DataFrame"
   ]
  },
  {
   "cell_type": "code",
   "execution_count": 9,
   "id": "aa561407",
   "metadata": {},
   "outputs": [
    {
     "name": "stderr",
     "output_type": "stream",
     "text": [
      "[*********************100%%**********************]  1 of 1 completed\n"
     ]
    }
   ],
   "source": [
    "# Define the stock ticker and date range: Pfizer Inc\n",
    "PFE_stock = 'PFE'\n",
    "start_date = '2013-11-01'  # example start date\n",
    "end_date = '2014-10-31'    # example end date\n",
    "\n",
    "# Download the stock data\n",
    "data_PFE = yf.download(PFE_stock, start=start_date, end=end_date)\n",
    "\n",
    "# Print the type of the data\n",
    "#print(type(data_PFE))\n",
    "\n",
    "# Print the first few columns of the data\n",
    "#print(data_PFE.iloc[:, :5])  # This prints the first three columns of the DataFrame"
   ]
  },
  {
   "cell_type": "code",
   "execution_count": 10,
   "id": "30dc468e",
   "metadata": {},
   "outputs": [
    {
     "name": "stderr",
     "output_type": "stream",
     "text": [
      "[*********************100%%**********************]  1 of 1 completed\n"
     ]
    }
   ],
   "source": [
    "# Define the stock ticker and date range: United Health Group\n",
    "UNH_stock = 'UNH'\n",
    "start_date = '2013-11-01'  # example start date\n",
    "end_date = '2014-10-31'    # example end date\n",
    "\n",
    "# Download the stock data\n",
    "data_UNH = yf.download(UNH_stock, start=start_date, end=end_date)\n",
    "\n",
    "# Print the type of the data\n",
    "#print(type(data_UNH))\n",
    "\n",
    "# Print the first few columns of the data\n",
    "#print(data_UNH.iloc[:, :5])  # This prints the first three columns of the DataFrame"
   ]
  },
  {
   "cell_type": "markdown",
   "id": "f8b69275",
   "metadata": {},
   "source": [
    "## Financials Sector \n",
    "These are the three stocks we chose in the Healthcare Industry"
   ]
  },
  {
   "cell_type": "code",
   "execution_count": 11,
   "id": "ef9694ae",
   "metadata": {},
   "outputs": [
    {
     "name": "stderr",
     "output_type": "stream",
     "text": [
      "[*********************100%%**********************]  1 of 1 completed\n"
     ]
    }
   ],
   "source": [
    "# Define the stock ticker and date range: JPMorgan Chase and Co. \n",
    "JPM_stock = 'JPM'\n",
    "start_date = '2013-11-01'  # example start date\n",
    "end_date = '2014-10-31'    # example end date\n",
    "\n",
    "# Download the stock data\n",
    "data_JPM = yf.download(JPM_stock, start=start_date, end=end_date)\n",
    "\n",
    "# Print the type of the data\n",
    "#print(type(data_JPM))\n",
    "\n",
    "# Print the first few columns of the data\n",
    "#print(data_JPM.iloc[:, :5])  # This prints the first three columns of the DataFrame"
   ]
  },
  {
   "cell_type": "code",
   "execution_count": 12,
   "id": "0b2987e0",
   "metadata": {},
   "outputs": [
    {
     "name": "stderr",
     "output_type": "stream",
     "text": [
      "[*********************100%%**********************]  1 of 1 completed\n"
     ]
    }
   ],
   "source": [
    "# Define the stock ticker and date range: Bank of America \n",
    "BAC_stock = 'BAC'\n",
    "start_date = '2013-11-01'  # example start date\n",
    "end_date = '2014-10-31'    # example end date\n",
    "\n",
    "# Download the stock data\n",
    "data_BAC = yf.download(BAC_stock, start=start_date, end=end_date)\n",
    "\n",
    "# Print the type of the data\n",
    "#print(type(data_BAC))\n",
    "\n",
    "# Print the first few columns of the data\n",
    "#print(data_BAC.iloc[:, :5])  # This prints the first three columns of the DataFrame"
   ]
  },
  {
   "cell_type": "code",
   "execution_count": 13,
   "id": "5bafc0b5",
   "metadata": {},
   "outputs": [
    {
     "name": "stderr",
     "output_type": "stream",
     "text": [
      "[*********************100%%**********************]  1 of 1 completed\n"
     ]
    }
   ],
   "source": [
    "# Define the stock ticker and date range: Visa\n",
    "V_stock = 'V'\n",
    "start_date = '2013-11-01'  # example start date\n",
    "end_date = '2014-10-31'    # example end date\n",
    "\n",
    "# Download the stock data\n",
    "data_V = yf.download(V_stock, start=start_date, end=end_date)\n",
    "\n",
    "# Print the type of the data\n",
    "#print(type(data_V))\n",
    "\n",
    "# Print the first few columns of the data\n",
    "#print(data_V.iloc[:, :5])  # This prints the first three columns of the DataFrame"
   ]
  },
  {
   "cell_type": "markdown",
   "id": "90a42818",
   "metadata": {},
   "source": [
    "## Consumer Discretionary \n",
    "These are the three stocks we chose in the consumer discretionary industry: Amazon, Nike, and Walt Disney Company"
   ]
  },
  {
   "cell_type": "code",
   "execution_count": 14,
   "id": "4e57c73c",
   "metadata": {},
   "outputs": [
    {
     "name": "stderr",
     "output_type": "stream",
     "text": [
      "[*********************100%%**********************]  1 of 1 completed\n"
     ]
    }
   ],
   "source": [
    "# Define the stock ticker and date range: Amazon\n",
    "AMZN_stock = 'AMZN'\n",
    "start_date = '2013-11-01'  # example start date\n",
    "end_date = '2014-10-31'    # example end date\n",
    "\n",
    "# Download the stock data\n",
    "data_AMZN = yf.download(AMZN_stock, start=start_date, end=end_date)\n",
    "\n",
    "# Print the type of the data\n",
    "#print(type(data_AMZN))\n",
    "\n",
    "# Print the first few columns of the data\n",
    "#print(data_AMZN.iloc[:, :5])  # This prints the first three columns of the DataFrame"
   ]
  },
  {
   "cell_type": "code",
   "execution_count": 15,
   "id": "026d881d",
   "metadata": {},
   "outputs": [
    {
     "name": "stderr",
     "output_type": "stream",
     "text": [
      "[*********************100%%**********************]  1 of 1 completed\n"
     ]
    }
   ],
   "source": [
    "# Define the stock ticker and date range: Nike\n",
    "NKE_stock = 'NKE'\n",
    "start_date = '2013-11-01'  # example start date\n",
    "end_date = '2014-10-31'    # example end date\n",
    "\n",
    "# Download the stock data\n",
    "data_NKE = yf.download(NKE_stock, start=start_date, end=end_date)\n",
    "\n",
    "# Print the type of the data\n",
    "#print(type(data_NKE))\n",
    "\n",
    "# Print the first few columns of the data\n",
    "#print(data_NKE.iloc[:, :5])  # This prints the first three columns of the DataFrame"
   ]
  },
  {
   "cell_type": "code",
   "execution_count": 16,
   "id": "617dea59",
   "metadata": {},
   "outputs": [
    {
     "name": "stderr",
     "output_type": "stream",
     "text": [
      "[*********************100%%**********************]  1 of 1 completed\n"
     ]
    }
   ],
   "source": [
    "# Define the stock ticker and date range: Walt Disney Company \n",
    "DIS_stock = 'DIS'\n",
    "start_date = '2013-11-01'  # example start date\n",
    "end_date = '2014-10-31'    # example end date\n",
    "\n",
    "# Download the stock data\n",
    "data_DIS = yf.download(DIS_stock, start=start_date, end=end_date)\n",
    "\n",
    "# Print the type of the data\n",
    "#print(type(data_DIS))\n",
    "\n",
    "# Print the first few columns of the data\n",
    "#print(data_DIS.iloc[:, :5])  # This prints the first three columns of the DataFrame"
   ]
  },
  {
   "cell_type": "markdown",
   "id": "a82e2c50",
   "metadata": {},
   "source": [
    "## Energy Sector \n",
    "These are the three stocks we chose in the energy industry: Exxon Mobile Incorporation, First Solar Inc. , NextEra Energy Resources "
   ]
  },
  {
   "cell_type": "code",
   "execution_count": 17,
   "id": "e14f99c2",
   "metadata": {},
   "outputs": [
    {
     "name": "stderr",
     "output_type": "stream",
     "text": [
      "[*********************100%%**********************]  1 of 1 completed\n"
     ]
    }
   ],
   "source": [
    "# Define the stock ticker and date range: Exxon Mobile Incorporation\n",
    "XOM_stock = 'XOM'\n",
    "start_date = '2013-11-01'  # example start date\n",
    "end_date = '2014-10-31'    # example end date\n",
    "\n",
    "# Download the stock data\n",
    "data_XOM = yf.download(XOM_stock, start=start_date, end=end_date)\n",
    "\n",
    "# Print the type of the data\n",
    "#print(type(data_XOM))\n",
    "\n",
    "# Print the first few columns of the data\n",
    "#print(data_XOM.iloc[:, :5])  # This prints the first three columns of the DataFrame"
   ]
  },
  {
   "cell_type": "code",
   "execution_count": 18,
   "id": "a0b40af8",
   "metadata": {},
   "outputs": [
    {
     "name": "stderr",
     "output_type": "stream",
     "text": [
      "[*********************100%%**********************]  1 of 1 completed\n"
     ]
    }
   ],
   "source": [
    "# Define the stock ticker and date range: First Solar Inc. \n",
    "FSLR_stock = 'FSLR'\n",
    "start_date = '2013-11-01'  # example start date\n",
    "end_date = '2014-10-31'    # example end date\n",
    "\n",
    "# Download the stock data\n",
    "data_FSLR = yf.download(FSLR_stock, start=start_date, end=end_date)\n",
    "\n",
    "# Print the type of the data\n",
    "#print(type(data_FSLR))\n",
    "\n",
    "# Print the first few columns of the data\n",
    "#print(data_FSLR.iloc[:, :5])  # This prints the first three columns of the DataFrame"
   ]
  },
  {
   "cell_type": "code",
   "execution_count": 19,
   "id": "40b336a2",
   "metadata": {},
   "outputs": [
    {
     "name": "stderr",
     "output_type": "stream",
     "text": [
      "[*********************100%%**********************]  1 of 1 completed\n"
     ]
    }
   ],
   "source": [
    "# Define the stock ticker and date range: NextEra Energy Resources\n",
    "NEE_stock = 'NEE'\n",
    "start_date = '2013-11-01'  # example start date\n",
    "end_date = '2014-10-31'    # example end date\n",
    "\n",
    "# Download the stock data\n",
    "data_NEE = yf.download(NEE_stock, start=start_date, end=end_date)\n",
    "\n",
    "# Print the type of the data\n",
    "#print(type(data_NEE))\n",
    "\n",
    "# Print the first few columns of the data\n",
    "#print(data_NEE.iloc[:, :5])  # This prints the first three columns of the DataFrame"
   ]
  },
  {
   "cell_type": "markdown",
   "id": "63844053",
   "metadata": {},
   "source": [
    "## Weapons Manufacturing \n",
    "These are the three stocks we chose in the weapons manufacturing instury: Lockheed Martin Corporation, Raytheon Technologies Corporations (RTX), Northrup Grumman Corporation (NOC) "
   ]
  },
  {
   "cell_type": "code",
   "execution_count": 20,
   "id": "17c5a1b1",
   "metadata": {},
   "outputs": [
    {
     "name": "stderr",
     "output_type": "stream",
     "text": [
      "[*********************100%%**********************]  1 of 1 completed\n"
     ]
    }
   ],
   "source": [
    "# Define the stock ticker and date range: Lockheed Martin Corporation\n",
    "LMT_stock = 'LMT'\n",
    "start_date = '2013-11-01'  # example start date\n",
    "end_date = '2014-10-31'    # example end date\n",
    "\n",
    "# Download the stock data\n",
    "data_LMT = yf.download(LMT_stock, start=start_date, end=end_date)\n",
    "\n",
    "# Print the type of the data\n",
    "#print(type(data_LMT))\n",
    "\n",
    "# Print the first few columns of the data\n",
    "#print(data_LMT.iloc[:, :5])  # This prints the first three columns of the DataFrame"
   ]
  },
  {
   "cell_type": "code",
   "execution_count": 21,
   "id": "11380938",
   "metadata": {},
   "outputs": [
    {
     "name": "stderr",
     "output_type": "stream",
     "text": [
      "[*********************100%%**********************]  1 of 1 completed\n"
     ]
    }
   ],
   "source": [
    "# Define the stock ticker and date range: Raytheon Technologies Corporation\n",
    "RTX_stock = 'RTX'\n",
    "start_date = '2013-11-01'  # example start date\n",
    "end_date = '2014-10-31'    # example end date\n",
    "\n",
    "# Download the stock data\n",
    "data_RTX = yf.download(RTX_stock, start=start_date, end=end_date)\n",
    "\n",
    "# Print the type of the data\n",
    "#print(type(data_RTX))\n",
    "\n",
    "# Print the first few columns of the data\n",
    "#print(data_RTX.iloc[:, :5])  # This prints the first three columns of the DataFrame"
   ]
  },
  {
   "cell_type": "code",
   "execution_count": 22,
   "id": "7a69afba",
   "metadata": {},
   "outputs": [
    {
     "name": "stderr",
     "output_type": "stream",
     "text": [
      "[*********************100%%**********************]  1 of 1 completed\n"
     ]
    }
   ],
   "source": [
    "# Define the stock ticker and date range: Northrup Grumman Corporation\n",
    "NOC_stock = 'NOC'\n",
    "start_date = '2013-11-01'  # example start date\n",
    "end_date = '2014-10-31'    # example end date\n",
    "\n",
    "# Download the stock data\n",
    "data_NOC = yf.download(NOC_stock, start=start_date, end=end_date)\n",
    "\n",
    "# Print the type of the data\n",
    "#print(type(data_NOC))\n",
    "\n",
    "# Print the first few columns of the data\n",
    "#print(data_NOC.iloc[:, :5])  # This prints the first three columns of the DataFrame"
   ]
  },
  {
   "cell_type": "markdown",
   "id": "865c2afa",
   "metadata": {},
   "source": [
    "## Combined Stocks Dataframe"
   ]
  },
  {
   "cell_type": "code",
   "execution_count": 23,
   "id": "edb9dfa8",
   "metadata": {},
   "outputs": [
    {
     "data": {
      "text/html": [
       "<div>\n",
       "<style scoped>\n",
       "    .dataframe tbody tr th:only-of-type {\n",
       "        vertical-align: middle;\n",
       "    }\n",
       "\n",
       "    .dataframe tbody tr th {\n",
       "        vertical-align: top;\n",
       "    }\n",
       "\n",
       "    .dataframe thead th {\n",
       "        text-align: right;\n",
       "    }\n",
       "</style>\n",
       "<table border=\"1\" class=\"dataframe\">\n",
       "  <thead>\n",
       "    <tr style=\"text-align: right;\">\n",
       "      <th></th>\n",
       "      <th>Open</th>\n",
       "      <th>High</th>\n",
       "      <th>Low</th>\n",
       "      <th>Close</th>\n",
       "      <th>Adj Close</th>\n",
       "      <th>Volume</th>\n",
       "      <th>Open</th>\n",
       "      <th>High</th>\n",
       "      <th>Low</th>\n",
       "      <th>Close</th>\n",
       "      <th>...</th>\n",
       "      <th>Low</th>\n",
       "      <th>Close</th>\n",
       "      <th>Adj Close</th>\n",
       "      <th>Volume</th>\n",
       "      <th>Open</th>\n",
       "      <th>High</th>\n",
       "      <th>Low</th>\n",
       "      <th>Close</th>\n",
       "      <th>Adj Close</th>\n",
       "      <th>Volume</th>\n",
       "    </tr>\n",
       "    <tr>\n",
       "      <th>Date</th>\n",
       "      <th></th>\n",
       "      <th></th>\n",
       "      <th></th>\n",
       "      <th></th>\n",
       "      <th></th>\n",
       "      <th></th>\n",
       "      <th></th>\n",
       "      <th></th>\n",
       "      <th></th>\n",
       "      <th></th>\n",
       "      <th></th>\n",
       "      <th></th>\n",
       "      <th></th>\n",
       "      <th></th>\n",
       "      <th></th>\n",
       "      <th></th>\n",
       "      <th></th>\n",
       "      <th></th>\n",
       "      <th></th>\n",
       "      <th></th>\n",
       "      <th></th>\n",
       "    </tr>\n",
       "  </thead>\n",
       "  <tbody>\n",
       "    <tr>\n",
       "      <th>2013-11-01</th>\n",
       "      <td>18.715000</td>\n",
       "      <td>18.742857</td>\n",
       "      <td>18.422857</td>\n",
       "      <td>18.572500</td>\n",
       "      <td>16.187838</td>\n",
       "      <td>274890000</td>\n",
       "      <td>35.669998</td>\n",
       "      <td>35.689999</td>\n",
       "      <td>35.389999</td>\n",
       "      <td>35.529999</td>\n",
       "      <td>...</td>\n",
       "      <td>66.966644</td>\n",
       "      <td>67.658905</td>\n",
       "      <td>52.899136</td>\n",
       "      <td>3989979</td>\n",
       "      <td>107.570000</td>\n",
       "      <td>109.410004</td>\n",
       "      <td>107.529999</td>\n",
       "      <td>108.120003</td>\n",
       "      <td>90.986099</td>\n",
       "      <td>1947400</td>\n",
       "    </tr>\n",
       "    <tr>\n",
       "      <th>2013-11-04</th>\n",
       "      <td>18.610714</td>\n",
       "      <td>18.815001</td>\n",
       "      <td>18.528929</td>\n",
       "      <td>18.812500</td>\n",
       "      <td>16.397026</td>\n",
       "      <td>244627600</td>\n",
       "      <td>35.590000</td>\n",
       "      <td>35.980000</td>\n",
       "      <td>35.549999</td>\n",
       "      <td>35.939999</td>\n",
       "      <td>...</td>\n",
       "      <td>67.640022</td>\n",
       "      <td>67.954689</td>\n",
       "      <td>53.130394</td>\n",
       "      <td>3644689</td>\n",
       "      <td>108.449997</td>\n",
       "      <td>109.250000</td>\n",
       "      <td>108.360001</td>\n",
       "      <td>108.650002</td>\n",
       "      <td>91.432091</td>\n",
       "      <td>1126100</td>\n",
       "    </tr>\n",
       "    <tr>\n",
       "      <th>2013-11-05</th>\n",
       "      <td>18.735001</td>\n",
       "      <td>18.888929</td>\n",
       "      <td>18.678572</td>\n",
       "      <td>18.766071</td>\n",
       "      <td>16.356560</td>\n",
       "      <td>265213200</td>\n",
       "      <td>35.790001</td>\n",
       "      <td>36.709999</td>\n",
       "      <td>35.770000</td>\n",
       "      <td>36.639999</td>\n",
       "      <td>...</td>\n",
       "      <td>67.155441</td>\n",
       "      <td>67.765892</td>\n",
       "      <td>52.982784</td>\n",
       "      <td>3638174</td>\n",
       "      <td>108.489998</td>\n",
       "      <td>109.650002</td>\n",
       "      <td>108.209999</td>\n",
       "      <td>109.120003</td>\n",
       "      <td>91.827621</td>\n",
       "      <td>788200</td>\n",
       "    </tr>\n",
       "    <tr>\n",
       "      <th>2013-11-06</th>\n",
       "      <td>18.719643</td>\n",
       "      <td>18.745001</td>\n",
       "      <td>18.507143</td>\n",
       "      <td>18.604286</td>\n",
       "      <td>16.310217</td>\n",
       "      <td>223375600</td>\n",
       "      <td>37.240002</td>\n",
       "      <td>38.220001</td>\n",
       "      <td>37.060001</td>\n",
       "      <td>38.180000</td>\n",
       "      <td>...</td>\n",
       "      <td>68.030205</td>\n",
       "      <td>68.388924</td>\n",
       "      <td>53.469898</td>\n",
       "      <td>5005827</td>\n",
       "      <td>109.330002</td>\n",
       "      <td>109.889999</td>\n",
       "      <td>108.610001</td>\n",
       "      <td>109.620003</td>\n",
       "      <td>92.248367</td>\n",
       "      <td>773000</td>\n",
       "    </tr>\n",
       "    <tr>\n",
       "      <th>2013-11-07</th>\n",
       "      <td>18.556429</td>\n",
       "      <td>18.685356</td>\n",
       "      <td>18.299286</td>\n",
       "      <td>18.303213</td>\n",
       "      <td>16.046267</td>\n",
       "      <td>262620400</td>\n",
       "      <td>37.959999</td>\n",
       "      <td>38.009998</td>\n",
       "      <td>37.430000</td>\n",
       "      <td>37.500000</td>\n",
       "      <td>...</td>\n",
       "      <td>67.394585</td>\n",
       "      <td>67.507866</td>\n",
       "      <td>52.781044</td>\n",
       "      <td>4029704</td>\n",
       "      <td>109.680000</td>\n",
       "      <td>110.470001</td>\n",
       "      <td>108.580002</td>\n",
       "      <td>108.669998</td>\n",
       "      <td>91.448914</td>\n",
       "      <td>1088800</td>\n",
       "    </tr>\n",
       "  </tbody>\n",
       "</table>\n",
       "<p>5 rows × 108 columns</p>\n",
       "</div>"
      ],
      "text/plain": [
       "                 Open       High        Low      Close  Adj Close     Volume  \\\n",
       "Date                                                                           \n",
       "2013-11-01  18.715000  18.742857  18.422857  18.572500  16.187838  274890000   \n",
       "2013-11-04  18.610714  18.815001  18.528929  18.812500  16.397026  244627600   \n",
       "2013-11-05  18.735001  18.888929  18.678572  18.766071  16.356560  265213200   \n",
       "2013-11-06  18.719643  18.745001  18.507143  18.604286  16.310217  223375600   \n",
       "2013-11-07  18.556429  18.685356  18.299286  18.303213  16.046267  262620400   \n",
       "\n",
       "                 Open       High        Low      Close  ...        Low  \\\n",
       "Date                                                    ...              \n",
       "2013-11-01  35.669998  35.689999  35.389999  35.529999  ...  66.966644   \n",
       "2013-11-04  35.590000  35.980000  35.549999  35.939999  ...  67.640022   \n",
       "2013-11-05  35.790001  36.709999  35.770000  36.639999  ...  67.155441   \n",
       "2013-11-06  37.240002  38.220001  37.060001  38.180000  ...  68.030205   \n",
       "2013-11-07  37.959999  38.009998  37.430000  37.500000  ...  67.394585   \n",
       "\n",
       "                Close  Adj Close   Volume        Open        High         Low  \\\n",
       "Date                                                                            \n",
       "2013-11-01  67.658905  52.899136  3989979  107.570000  109.410004  107.529999   \n",
       "2013-11-04  67.954689  53.130394  3644689  108.449997  109.250000  108.360001   \n",
       "2013-11-05  67.765892  52.982784  3638174  108.489998  109.650002  108.209999   \n",
       "2013-11-06  68.388924  53.469898  5005827  109.330002  109.889999  108.610001   \n",
       "2013-11-07  67.507866  52.781044  4029704  109.680000  110.470001  108.580002   \n",
       "\n",
       "                 Close  Adj Close   Volume  \n",
       "Date                                        \n",
       "2013-11-01  108.120003  90.986099  1947400  \n",
       "2013-11-04  108.650002  91.432091  1126100  \n",
       "2013-11-05  109.120003  91.827621   788200  \n",
       "2013-11-06  109.620003  92.248367   773000  \n",
       "2013-11-07  108.669998  91.448914  1088800  \n",
       "\n",
       "[5 rows x 108 columns]"
      ]
     },
     "execution_count": 23,
     "metadata": {},
     "output_type": "execute_result"
    }
   ],
   "source": [
    "# Combine all stocks into a single Dataframe \n",
    "custom_portfolio_df = pd.concat([data_AAPL,data_MSFT,data_GOOG,data_JNJ,data_PFE,data_UNH,data_JPM,data_BAC,data_V,data_AMZN,data_NKE,data_DIS,data_XOM,data_FSLR,data_NEE,data_LMT,data_RTX,data_NOC], axis=\"columns\", join=\"inner\")\n",
    "custom_portfolio_df.head()"
   ]
  },
  {
   "cell_type": "code",
   "execution_count": 24,
   "id": "5ad1cadd",
   "metadata": {},
   "outputs": [
    {
     "data": {
      "text/html": [
       "<div>\n",
       "<style scoped>\n",
       "    .dataframe tbody tr th:only-of-type {\n",
       "        vertical-align: middle;\n",
       "    }\n",
       "\n",
       "    .dataframe tbody tr th {\n",
       "        vertical-align: top;\n",
       "    }\n",
       "\n",
       "    .dataframe thead th {\n",
       "        text-align: right;\n",
       "    }\n",
       "</style>\n",
       "<table border=\"1\" class=\"dataframe\">\n",
       "  <thead>\n",
       "    <tr style=\"text-align: right;\">\n",
       "      <th></th>\n",
       "      <th>AAPL</th>\n",
       "      <th>MSFT</th>\n",
       "      <th>GOOG</th>\n",
       "      <th>JNJ</th>\n",
       "      <th>PFE</th>\n",
       "      <th>UNH</th>\n",
       "      <th>JPM</th>\n",
       "      <th>BAC</th>\n",
       "      <th>V</th>\n",
       "      <th>AMZN</th>\n",
       "      <th>NKE</th>\n",
       "      <th>DIS</th>\n",
       "      <th>XOM</th>\n",
       "      <th>FSLR</th>\n",
       "      <th>NEE</th>\n",
       "      <th>LMT</th>\n",
       "      <th>RTX</th>\n",
       "      <th>NOC</th>\n",
       "    </tr>\n",
       "    <tr>\n",
       "      <th>Date</th>\n",
       "      <th></th>\n",
       "      <th></th>\n",
       "      <th></th>\n",
       "      <th></th>\n",
       "      <th></th>\n",
       "      <th></th>\n",
       "      <th></th>\n",
       "      <th></th>\n",
       "      <th></th>\n",
       "      <th></th>\n",
       "      <th></th>\n",
       "      <th></th>\n",
       "      <th></th>\n",
       "      <th></th>\n",
       "      <th></th>\n",
       "      <th></th>\n",
       "      <th></th>\n",
       "      <th></th>\n",
       "    </tr>\n",
       "  </thead>\n",
       "  <tbody>\n",
       "    <tr>\n",
       "      <th>2013-11-01</th>\n",
       "      <td>18.572500</td>\n",
       "      <td>35.529999</td>\n",
       "      <td>25.580118</td>\n",
       "      <td>93.370003</td>\n",
       "      <td>29.573055</td>\n",
       "      <td>68.629997</td>\n",
       "      <td>52.509998</td>\n",
       "      <td>14.020000</td>\n",
       "      <td>49.790001</td>\n",
       "      <td>17.950001</td>\n",
       "      <td>38.029999</td>\n",
       "      <td>69.010002</td>\n",
       "      <td>89.820000</td>\n",
       "      <td>59.139999</td>\n",
       "      <td>22.035000</td>\n",
       "      <td>134.550003</td>\n",
       "      <td>67.658905</td>\n",
       "      <td>108.120003</td>\n",
       "    </tr>\n",
       "    <tr>\n",
       "      <th>2013-11-04</th>\n",
       "      <td>18.812500</td>\n",
       "      <td>35.939999</td>\n",
       "      <td>25.556955</td>\n",
       "      <td>93.029999</td>\n",
       "      <td>29.658443</td>\n",
       "      <td>68.949997</td>\n",
       "      <td>52.040001</td>\n",
       "      <td>14.040000</td>\n",
       "      <td>49.105000</td>\n",
       "      <td>17.937000</td>\n",
       "      <td>38.185001</td>\n",
       "      <td>68.809998</td>\n",
       "      <td>92.099998</td>\n",
       "      <td>61.830002</td>\n",
       "      <td>22.022499</td>\n",
       "      <td>135.740005</td>\n",
       "      <td>67.954689</td>\n",
       "      <td>108.650002</td>\n",
       "    </tr>\n",
       "    <tr>\n",
       "      <th>2013-11-05</th>\n",
       "      <td>18.766071</td>\n",
       "      <td>36.639999</td>\n",
       "      <td>25.442635</td>\n",
       "      <td>92.809998</td>\n",
       "      <td>29.639469</td>\n",
       "      <td>68.720001</td>\n",
       "      <td>51.950001</td>\n",
       "      <td>13.930000</td>\n",
       "      <td>49.342499</td>\n",
       "      <td>17.944500</td>\n",
       "      <td>38.599998</td>\n",
       "      <td>68.849998</td>\n",
       "      <td>91.989998</td>\n",
       "      <td>62.119999</td>\n",
       "      <td>21.815001</td>\n",
       "      <td>135.470001</td>\n",
       "      <td>67.765892</td>\n",
       "      <td>109.120003</td>\n",
       "    </tr>\n",
       "    <tr>\n",
       "      <th>2013-11-06</th>\n",
       "      <td>18.604286</td>\n",
       "      <td>38.180000</td>\n",
       "      <td>25.473270</td>\n",
       "      <td>93.040001</td>\n",
       "      <td>29.383303</td>\n",
       "      <td>70.290001</td>\n",
       "      <td>52.099998</td>\n",
       "      <td>13.960000</td>\n",
       "      <td>49.755001</td>\n",
       "      <td>17.809000</td>\n",
       "      <td>38.380001</td>\n",
       "      <td>69.000000</td>\n",
       "      <td>93.220001</td>\n",
       "      <td>61.150002</td>\n",
       "      <td>22.087500</td>\n",
       "      <td>136.869995</td>\n",
       "      <td>68.388924</td>\n",
       "      <td>109.620003</td>\n",
       "    </tr>\n",
       "    <tr>\n",
       "      <th>2013-11-07</th>\n",
       "      <td>18.303213</td>\n",
       "      <td>37.500000</td>\n",
       "      <td>25.104652</td>\n",
       "      <td>92.690002</td>\n",
       "      <td>29.326376</td>\n",
       "      <td>69.760002</td>\n",
       "      <td>51.650002</td>\n",
       "      <td>13.800000</td>\n",
       "      <td>49.025002</td>\n",
       "      <td>17.177999</td>\n",
       "      <td>37.849998</td>\n",
       "      <td>67.150002</td>\n",
       "      <td>91.959999</td>\n",
       "      <td>58.130001</td>\n",
       "      <td>21.750000</td>\n",
       "      <td>136.199997</td>\n",
       "      <td>67.507866</td>\n",
       "      <td>108.669998</td>\n",
       "    </tr>\n",
       "    <tr>\n",
       "      <th>...</th>\n",
       "      <td>...</td>\n",
       "      <td>...</td>\n",
       "      <td>...</td>\n",
       "      <td>...</td>\n",
       "      <td>...</td>\n",
       "      <td>...</td>\n",
       "      <td>...</td>\n",
       "      <td>...</td>\n",
       "      <td>...</td>\n",
       "      <td>...</td>\n",
       "      <td>...</td>\n",
       "      <td>...</td>\n",
       "      <td>...</td>\n",
       "      <td>...</td>\n",
       "      <td>...</td>\n",
       "      <td>...</td>\n",
       "      <td>...</td>\n",
       "      <td>...</td>\n",
       "    </tr>\n",
       "    <tr>\n",
       "      <th>2014-10-24</th>\n",
       "      <td>26.305000</td>\n",
       "      <td>46.130001</td>\n",
       "      <td>26.915106</td>\n",
       "      <td>103.129997</td>\n",
       "      <td>27.618595</td>\n",
       "      <td>91.639999</td>\n",
       "      <td>58.740002</td>\n",
       "      <td>16.719999</td>\n",
       "      <td>53.369999</td>\n",
       "      <td>14.353000</td>\n",
       "      <td>45.450001</td>\n",
       "      <td>88.610001</td>\n",
       "      <td>94.489998</td>\n",
       "      <td>56.439999</td>\n",
       "      <td>24.590000</td>\n",
       "      <td>181.330002</td>\n",
       "      <td>65.336693</td>\n",
       "      <td>130.789993</td>\n",
       "    </tr>\n",
       "    <tr>\n",
       "      <th>2014-10-27</th>\n",
       "      <td>26.277500</td>\n",
       "      <td>45.910000</td>\n",
       "      <td>26.964470</td>\n",
       "      <td>104.070000</td>\n",
       "      <td>27.542694</td>\n",
       "      <td>92.129997</td>\n",
       "      <td>58.639999</td>\n",
       "      <td>16.590000</td>\n",
       "      <td>53.352501</td>\n",
       "      <td>14.498500</td>\n",
       "      <td>45.820000</td>\n",
       "      <td>88.449997</td>\n",
       "      <td>93.709999</td>\n",
       "      <td>54.290001</td>\n",
       "      <td>24.522499</td>\n",
       "      <td>183.000000</td>\n",
       "      <td>65.569542</td>\n",
       "      <td>130.789993</td>\n",
       "    </tr>\n",
       "    <tr>\n",
       "      <th>2014-10-28</th>\n",
       "      <td>26.684999</td>\n",
       "      <td>46.490002</td>\n",
       "      <td>27.369856</td>\n",
       "      <td>104.790001</td>\n",
       "      <td>27.599621</td>\n",
       "      <td>92.639999</td>\n",
       "      <td>59.630001</td>\n",
       "      <td>16.799999</td>\n",
       "      <td>54.177502</td>\n",
       "      <td>14.779500</td>\n",
       "      <td>46.224998</td>\n",
       "      <td>89.930000</td>\n",
       "      <td>95.099998</td>\n",
       "      <td>57.380001</td>\n",
       "      <td>24.782499</td>\n",
       "      <td>185.550003</td>\n",
       "      <td>66.878540</td>\n",
       "      <td>134.199997</td>\n",
       "    </tr>\n",
       "    <tr>\n",
       "      <th>2014-10-29</th>\n",
       "      <td>26.834999</td>\n",
       "      <td>46.619999</td>\n",
       "      <td>27.391296</td>\n",
       "      <td>105.559998</td>\n",
       "      <td>27.979128</td>\n",
       "      <td>92.959999</td>\n",
       "      <td>59.290001</td>\n",
       "      <td>16.990000</td>\n",
       "      <td>53.665001</td>\n",
       "      <td>14.706000</td>\n",
       "      <td>45.974998</td>\n",
       "      <td>89.529999</td>\n",
       "      <td>94.589996</td>\n",
       "      <td>56.160000</td>\n",
       "      <td>24.650000</td>\n",
       "      <td>186.429993</td>\n",
       "      <td>66.614220</td>\n",
       "      <td>135.660004</td>\n",
       "    </tr>\n",
       "    <tr>\n",
       "      <th>2014-10-30</th>\n",
       "      <td>26.745001</td>\n",
       "      <td>46.049999</td>\n",
       "      <td>27.440163</td>\n",
       "      <td>107.040001</td>\n",
       "      <td>28.311195</td>\n",
       "      <td>93.879997</td>\n",
       "      <td>59.389999</td>\n",
       "      <td>17.030001</td>\n",
       "      <td>59.162498</td>\n",
       "      <td>14.953500</td>\n",
       "      <td>46.500000</td>\n",
       "      <td>90.220001</td>\n",
       "      <td>94.449997</td>\n",
       "      <td>56.099998</td>\n",
       "      <td>24.977501</td>\n",
       "      <td>189.289993</td>\n",
       "      <td>66.922592</td>\n",
       "      <td>137.289993</td>\n",
       "    </tr>\n",
       "  </tbody>\n",
       "</table>\n",
       "<p>251 rows × 18 columns</p>\n",
       "</div>"
      ],
      "text/plain": [
       "                 AAPL       MSFT       GOOG         JNJ        PFE        UNH  \\\n",
       "Date                                                                            \n",
       "2013-11-01  18.572500  35.529999  25.580118   93.370003  29.573055  68.629997   \n",
       "2013-11-04  18.812500  35.939999  25.556955   93.029999  29.658443  68.949997   \n",
       "2013-11-05  18.766071  36.639999  25.442635   92.809998  29.639469  68.720001   \n",
       "2013-11-06  18.604286  38.180000  25.473270   93.040001  29.383303  70.290001   \n",
       "2013-11-07  18.303213  37.500000  25.104652   92.690002  29.326376  69.760002   \n",
       "...               ...        ...        ...         ...        ...        ...   \n",
       "2014-10-24  26.305000  46.130001  26.915106  103.129997  27.618595  91.639999   \n",
       "2014-10-27  26.277500  45.910000  26.964470  104.070000  27.542694  92.129997   \n",
       "2014-10-28  26.684999  46.490002  27.369856  104.790001  27.599621  92.639999   \n",
       "2014-10-29  26.834999  46.619999  27.391296  105.559998  27.979128  92.959999   \n",
       "2014-10-30  26.745001  46.049999  27.440163  107.040001  28.311195  93.879997   \n",
       "\n",
       "                  JPM        BAC          V       AMZN        NKE        DIS  \\\n",
       "Date                                                                           \n",
       "2013-11-01  52.509998  14.020000  49.790001  17.950001  38.029999  69.010002   \n",
       "2013-11-04  52.040001  14.040000  49.105000  17.937000  38.185001  68.809998   \n",
       "2013-11-05  51.950001  13.930000  49.342499  17.944500  38.599998  68.849998   \n",
       "2013-11-06  52.099998  13.960000  49.755001  17.809000  38.380001  69.000000   \n",
       "2013-11-07  51.650002  13.800000  49.025002  17.177999  37.849998  67.150002   \n",
       "...               ...        ...        ...        ...        ...        ...   \n",
       "2014-10-24  58.740002  16.719999  53.369999  14.353000  45.450001  88.610001   \n",
       "2014-10-27  58.639999  16.590000  53.352501  14.498500  45.820000  88.449997   \n",
       "2014-10-28  59.630001  16.799999  54.177502  14.779500  46.224998  89.930000   \n",
       "2014-10-29  59.290001  16.990000  53.665001  14.706000  45.974998  89.529999   \n",
       "2014-10-30  59.389999  17.030001  59.162498  14.953500  46.500000  90.220001   \n",
       "\n",
       "                  XOM       FSLR        NEE         LMT        RTX         NOC  \n",
       "Date                                                                            \n",
       "2013-11-01  89.820000  59.139999  22.035000  134.550003  67.658905  108.120003  \n",
       "2013-11-04  92.099998  61.830002  22.022499  135.740005  67.954689  108.650002  \n",
       "2013-11-05  91.989998  62.119999  21.815001  135.470001  67.765892  109.120003  \n",
       "2013-11-06  93.220001  61.150002  22.087500  136.869995  68.388924  109.620003  \n",
       "2013-11-07  91.959999  58.130001  21.750000  136.199997  67.507866  108.669998  \n",
       "...               ...        ...        ...         ...        ...         ...  \n",
       "2014-10-24  94.489998  56.439999  24.590000  181.330002  65.336693  130.789993  \n",
       "2014-10-27  93.709999  54.290001  24.522499  183.000000  65.569542  130.789993  \n",
       "2014-10-28  95.099998  57.380001  24.782499  185.550003  66.878540  134.199997  \n",
       "2014-10-29  94.589996  56.160000  24.650000  186.429993  66.614220  135.660004  \n",
       "2014-10-30  94.449997  56.099998  24.977501  189.289993  66.922592  137.289993  \n",
       "\n",
       "[251 rows x 18 columns]"
      ]
     },
     "execution_count": 24,
     "metadata": {},
     "output_type": "execute_result"
    }
   ],
   "source": [
    "small_df=custom_portfolio_df['Close']\n",
    "small_df.columns=['AAPL','MSFT', 'GOOG', 'JNJ','PFE','UNH','JPM','BAC','V','AMZN','NKE','DIS','XOM','FSLR','NEE','LMT','RTX','NOC']\n",
    "small_df"
   ]
  },
  {
   "cell_type": "markdown",
   "id": "1fc284ec",
   "metadata": {},
   "source": [
    "### Technology Dataframe"
   ]
  },
  {
   "cell_type": "code",
   "execution_count": 25,
   "id": "113cdc10",
   "metadata": {},
   "outputs": [
    {
     "data": {
      "text/html": [
       "<div>\n",
       "<style scoped>\n",
       "    .dataframe tbody tr th:only-of-type {\n",
       "        vertical-align: middle;\n",
       "    }\n",
       "\n",
       "    .dataframe tbody tr th {\n",
       "        vertical-align: top;\n",
       "    }\n",
       "\n",
       "    .dataframe thead th {\n",
       "        text-align: right;\n",
       "    }\n",
       "</style>\n",
       "<table border=\"1\" class=\"dataframe\">\n",
       "  <thead>\n",
       "    <tr style=\"text-align: right;\">\n",
       "      <th></th>\n",
       "      <th>AAPL</th>\n",
       "      <th>MSFT</th>\n",
       "      <th>GOOG</th>\n",
       "    </tr>\n",
       "    <tr>\n",
       "      <th>Date</th>\n",
       "      <th></th>\n",
       "      <th></th>\n",
       "      <th></th>\n",
       "    </tr>\n",
       "  </thead>\n",
       "  <tbody>\n",
       "    <tr>\n",
       "      <th>2013-11-01</th>\n",
       "      <td>18.572500</td>\n",
       "      <td>35.529999</td>\n",
       "      <td>25.580118</td>\n",
       "    </tr>\n",
       "    <tr>\n",
       "      <th>2013-11-04</th>\n",
       "      <td>18.812500</td>\n",
       "      <td>35.939999</td>\n",
       "      <td>25.556955</td>\n",
       "    </tr>\n",
       "    <tr>\n",
       "      <th>2013-11-05</th>\n",
       "      <td>18.766071</td>\n",
       "      <td>36.639999</td>\n",
       "      <td>25.442635</td>\n",
       "    </tr>\n",
       "    <tr>\n",
       "      <th>2013-11-06</th>\n",
       "      <td>18.604286</td>\n",
       "      <td>38.180000</td>\n",
       "      <td>25.473270</td>\n",
       "    </tr>\n",
       "    <tr>\n",
       "      <th>2013-11-07</th>\n",
       "      <td>18.303213</td>\n",
       "      <td>37.500000</td>\n",
       "      <td>25.104652</td>\n",
       "    </tr>\n",
       "    <tr>\n",
       "      <th>...</th>\n",
       "      <td>...</td>\n",
       "      <td>...</td>\n",
       "      <td>...</td>\n",
       "    </tr>\n",
       "    <tr>\n",
       "      <th>2014-10-24</th>\n",
       "      <td>26.305000</td>\n",
       "      <td>46.130001</td>\n",
       "      <td>26.915106</td>\n",
       "    </tr>\n",
       "    <tr>\n",
       "      <th>2014-10-27</th>\n",
       "      <td>26.277500</td>\n",
       "      <td>45.910000</td>\n",
       "      <td>26.964470</td>\n",
       "    </tr>\n",
       "    <tr>\n",
       "      <th>2014-10-28</th>\n",
       "      <td>26.684999</td>\n",
       "      <td>46.490002</td>\n",
       "      <td>27.369856</td>\n",
       "    </tr>\n",
       "    <tr>\n",
       "      <th>2014-10-29</th>\n",
       "      <td>26.834999</td>\n",
       "      <td>46.619999</td>\n",
       "      <td>27.391296</td>\n",
       "    </tr>\n",
       "    <tr>\n",
       "      <th>2014-10-30</th>\n",
       "      <td>26.745001</td>\n",
       "      <td>46.049999</td>\n",
       "      <td>27.440163</td>\n",
       "    </tr>\n",
       "  </tbody>\n",
       "</table>\n",
       "<p>251 rows × 3 columns</p>\n",
       "</div>"
      ],
      "text/plain": [
       "                 AAPL       MSFT       GOOG\n",
       "Date                                       \n",
       "2013-11-01  18.572500  35.529999  25.580118\n",
       "2013-11-04  18.812500  35.939999  25.556955\n",
       "2013-11-05  18.766071  36.639999  25.442635\n",
       "2013-11-06  18.604286  38.180000  25.473270\n",
       "2013-11-07  18.303213  37.500000  25.104652\n",
       "...               ...        ...        ...\n",
       "2014-10-24  26.305000  46.130001  26.915106\n",
       "2014-10-27  26.277500  45.910000  26.964470\n",
       "2014-10-28  26.684999  46.490002  27.369856\n",
       "2014-10-29  26.834999  46.619999  27.391296\n",
       "2014-10-30  26.745001  46.049999  27.440163\n",
       "\n",
       "[251 rows x 3 columns]"
      ]
     },
     "execution_count": 25,
     "metadata": {},
     "output_type": "execute_result"
    }
   ],
   "source": [
    "tech_df=small_df[['AAPL','MSFT','GOOG']]\n",
    "tech_df"
   ]
  },
  {
   "cell_type": "markdown",
   "id": "207a644b",
   "metadata": {},
   "source": [
    "### Healthcare Dataframe"
   ]
  },
  {
   "cell_type": "code",
   "execution_count": 26,
   "id": "4d62722b",
   "metadata": {},
   "outputs": [
    {
     "data": {
      "text/html": [
       "<div>\n",
       "<style scoped>\n",
       "    .dataframe tbody tr th:only-of-type {\n",
       "        vertical-align: middle;\n",
       "    }\n",
       "\n",
       "    .dataframe tbody tr th {\n",
       "        vertical-align: top;\n",
       "    }\n",
       "\n",
       "    .dataframe thead th {\n",
       "        text-align: right;\n",
       "    }\n",
       "</style>\n",
       "<table border=\"1\" class=\"dataframe\">\n",
       "  <thead>\n",
       "    <tr style=\"text-align: right;\">\n",
       "      <th></th>\n",
       "      <th>JNJ</th>\n",
       "      <th>PFE</th>\n",
       "      <th>UNH</th>\n",
       "    </tr>\n",
       "    <tr>\n",
       "      <th>Date</th>\n",
       "      <th></th>\n",
       "      <th></th>\n",
       "      <th></th>\n",
       "    </tr>\n",
       "  </thead>\n",
       "  <tbody>\n",
       "    <tr>\n",
       "      <th>2013-11-01</th>\n",
       "      <td>93.370003</td>\n",
       "      <td>29.573055</td>\n",
       "      <td>68.629997</td>\n",
       "    </tr>\n",
       "    <tr>\n",
       "      <th>2013-11-04</th>\n",
       "      <td>93.029999</td>\n",
       "      <td>29.658443</td>\n",
       "      <td>68.949997</td>\n",
       "    </tr>\n",
       "    <tr>\n",
       "      <th>2013-11-05</th>\n",
       "      <td>92.809998</td>\n",
       "      <td>29.639469</td>\n",
       "      <td>68.720001</td>\n",
       "    </tr>\n",
       "    <tr>\n",
       "      <th>2013-11-06</th>\n",
       "      <td>93.040001</td>\n",
       "      <td>29.383303</td>\n",
       "      <td>70.290001</td>\n",
       "    </tr>\n",
       "    <tr>\n",
       "      <th>2013-11-07</th>\n",
       "      <td>92.690002</td>\n",
       "      <td>29.326376</td>\n",
       "      <td>69.760002</td>\n",
       "    </tr>\n",
       "    <tr>\n",
       "      <th>...</th>\n",
       "      <td>...</td>\n",
       "      <td>...</td>\n",
       "      <td>...</td>\n",
       "    </tr>\n",
       "    <tr>\n",
       "      <th>2014-10-24</th>\n",
       "      <td>103.129997</td>\n",
       "      <td>27.618595</td>\n",
       "      <td>91.639999</td>\n",
       "    </tr>\n",
       "    <tr>\n",
       "      <th>2014-10-27</th>\n",
       "      <td>104.070000</td>\n",
       "      <td>27.542694</td>\n",
       "      <td>92.129997</td>\n",
       "    </tr>\n",
       "    <tr>\n",
       "      <th>2014-10-28</th>\n",
       "      <td>104.790001</td>\n",
       "      <td>27.599621</td>\n",
       "      <td>92.639999</td>\n",
       "    </tr>\n",
       "    <tr>\n",
       "      <th>2014-10-29</th>\n",
       "      <td>105.559998</td>\n",
       "      <td>27.979128</td>\n",
       "      <td>92.959999</td>\n",
       "    </tr>\n",
       "    <tr>\n",
       "      <th>2014-10-30</th>\n",
       "      <td>107.040001</td>\n",
       "      <td>28.311195</td>\n",
       "      <td>93.879997</td>\n",
       "    </tr>\n",
       "  </tbody>\n",
       "</table>\n",
       "<p>251 rows × 3 columns</p>\n",
       "</div>"
      ],
      "text/plain": [
       "                   JNJ        PFE        UNH\n",
       "Date                                        \n",
       "2013-11-01   93.370003  29.573055  68.629997\n",
       "2013-11-04   93.029999  29.658443  68.949997\n",
       "2013-11-05   92.809998  29.639469  68.720001\n",
       "2013-11-06   93.040001  29.383303  70.290001\n",
       "2013-11-07   92.690002  29.326376  69.760002\n",
       "...                ...        ...        ...\n",
       "2014-10-24  103.129997  27.618595  91.639999\n",
       "2014-10-27  104.070000  27.542694  92.129997\n",
       "2014-10-28  104.790001  27.599621  92.639999\n",
       "2014-10-29  105.559998  27.979128  92.959999\n",
       "2014-10-30  107.040001  28.311195  93.879997\n",
       "\n",
       "[251 rows x 3 columns]"
      ]
     },
     "execution_count": 26,
     "metadata": {},
     "output_type": "execute_result"
    }
   ],
   "source": [
    "health_df=small_df[['JNJ','PFE','UNH']]\n",
    "health_df"
   ]
  },
  {
   "cell_type": "markdown",
   "id": "47efb6b4",
   "metadata": {},
   "source": [
    "### Financials Dataframe"
   ]
  },
  {
   "cell_type": "code",
   "execution_count": 27,
   "id": "b573adae",
   "metadata": {},
   "outputs": [
    {
     "data": {
      "text/html": [
       "<div>\n",
       "<style scoped>\n",
       "    .dataframe tbody tr th:only-of-type {\n",
       "        vertical-align: middle;\n",
       "    }\n",
       "\n",
       "    .dataframe tbody tr th {\n",
       "        vertical-align: top;\n",
       "    }\n",
       "\n",
       "    .dataframe thead th {\n",
       "        text-align: right;\n",
       "    }\n",
       "</style>\n",
       "<table border=\"1\" class=\"dataframe\">\n",
       "  <thead>\n",
       "    <tr style=\"text-align: right;\">\n",
       "      <th></th>\n",
       "      <th>JPM</th>\n",
       "      <th>BAC</th>\n",
       "      <th>V</th>\n",
       "    </tr>\n",
       "    <tr>\n",
       "      <th>Date</th>\n",
       "      <th></th>\n",
       "      <th></th>\n",
       "      <th></th>\n",
       "    </tr>\n",
       "  </thead>\n",
       "  <tbody>\n",
       "    <tr>\n",
       "      <th>2013-11-01</th>\n",
       "      <td>52.509998</td>\n",
       "      <td>14.020000</td>\n",
       "      <td>49.790001</td>\n",
       "    </tr>\n",
       "    <tr>\n",
       "      <th>2013-11-04</th>\n",
       "      <td>52.040001</td>\n",
       "      <td>14.040000</td>\n",
       "      <td>49.105000</td>\n",
       "    </tr>\n",
       "    <tr>\n",
       "      <th>2013-11-05</th>\n",
       "      <td>51.950001</td>\n",
       "      <td>13.930000</td>\n",
       "      <td>49.342499</td>\n",
       "    </tr>\n",
       "    <tr>\n",
       "      <th>2013-11-06</th>\n",
       "      <td>52.099998</td>\n",
       "      <td>13.960000</td>\n",
       "      <td>49.755001</td>\n",
       "    </tr>\n",
       "    <tr>\n",
       "      <th>2013-11-07</th>\n",
       "      <td>51.650002</td>\n",
       "      <td>13.800000</td>\n",
       "      <td>49.025002</td>\n",
       "    </tr>\n",
       "    <tr>\n",
       "      <th>...</th>\n",
       "      <td>...</td>\n",
       "      <td>...</td>\n",
       "      <td>...</td>\n",
       "    </tr>\n",
       "    <tr>\n",
       "      <th>2014-10-24</th>\n",
       "      <td>58.740002</td>\n",
       "      <td>16.719999</td>\n",
       "      <td>53.369999</td>\n",
       "    </tr>\n",
       "    <tr>\n",
       "      <th>2014-10-27</th>\n",
       "      <td>58.639999</td>\n",
       "      <td>16.590000</td>\n",
       "      <td>53.352501</td>\n",
       "    </tr>\n",
       "    <tr>\n",
       "      <th>2014-10-28</th>\n",
       "      <td>59.630001</td>\n",
       "      <td>16.799999</td>\n",
       "      <td>54.177502</td>\n",
       "    </tr>\n",
       "    <tr>\n",
       "      <th>2014-10-29</th>\n",
       "      <td>59.290001</td>\n",
       "      <td>16.990000</td>\n",
       "      <td>53.665001</td>\n",
       "    </tr>\n",
       "    <tr>\n",
       "      <th>2014-10-30</th>\n",
       "      <td>59.389999</td>\n",
       "      <td>17.030001</td>\n",
       "      <td>59.162498</td>\n",
       "    </tr>\n",
       "  </tbody>\n",
       "</table>\n",
       "<p>251 rows × 3 columns</p>\n",
       "</div>"
      ],
      "text/plain": [
       "                  JPM        BAC          V\n",
       "Date                                       \n",
       "2013-11-01  52.509998  14.020000  49.790001\n",
       "2013-11-04  52.040001  14.040000  49.105000\n",
       "2013-11-05  51.950001  13.930000  49.342499\n",
       "2013-11-06  52.099998  13.960000  49.755001\n",
       "2013-11-07  51.650002  13.800000  49.025002\n",
       "...               ...        ...        ...\n",
       "2014-10-24  58.740002  16.719999  53.369999\n",
       "2014-10-27  58.639999  16.590000  53.352501\n",
       "2014-10-28  59.630001  16.799999  54.177502\n",
       "2014-10-29  59.290001  16.990000  53.665001\n",
       "2014-10-30  59.389999  17.030001  59.162498\n",
       "\n",
       "[251 rows x 3 columns]"
      ]
     },
     "execution_count": 27,
     "metadata": {},
     "output_type": "execute_result"
    }
   ],
   "source": [
    "finance_df=small_df[['JPM','BAC','V']]\n",
    "finance_df"
   ]
  },
  {
   "cell_type": "markdown",
   "id": "976f8d9d",
   "metadata": {},
   "source": [
    "### Consumer Discretionary Dataframe"
   ]
  },
  {
   "cell_type": "code",
   "execution_count": 28,
   "id": "fad14ba4",
   "metadata": {},
   "outputs": [
    {
     "data": {
      "text/html": [
       "<div>\n",
       "<style scoped>\n",
       "    .dataframe tbody tr th:only-of-type {\n",
       "        vertical-align: middle;\n",
       "    }\n",
       "\n",
       "    .dataframe tbody tr th {\n",
       "        vertical-align: top;\n",
       "    }\n",
       "\n",
       "    .dataframe thead th {\n",
       "        text-align: right;\n",
       "    }\n",
       "</style>\n",
       "<table border=\"1\" class=\"dataframe\">\n",
       "  <thead>\n",
       "    <tr style=\"text-align: right;\">\n",
       "      <th></th>\n",
       "      <th>AMZN</th>\n",
       "      <th>NKE</th>\n",
       "      <th>DIS</th>\n",
       "    </tr>\n",
       "    <tr>\n",
       "      <th>Date</th>\n",
       "      <th></th>\n",
       "      <th></th>\n",
       "      <th></th>\n",
       "    </tr>\n",
       "  </thead>\n",
       "  <tbody>\n",
       "    <tr>\n",
       "      <th>2013-11-01</th>\n",
       "      <td>17.950001</td>\n",
       "      <td>38.029999</td>\n",
       "      <td>69.010002</td>\n",
       "    </tr>\n",
       "    <tr>\n",
       "      <th>2013-11-04</th>\n",
       "      <td>17.937000</td>\n",
       "      <td>38.185001</td>\n",
       "      <td>68.809998</td>\n",
       "    </tr>\n",
       "    <tr>\n",
       "      <th>2013-11-05</th>\n",
       "      <td>17.944500</td>\n",
       "      <td>38.599998</td>\n",
       "      <td>68.849998</td>\n",
       "    </tr>\n",
       "    <tr>\n",
       "      <th>2013-11-06</th>\n",
       "      <td>17.809000</td>\n",
       "      <td>38.380001</td>\n",
       "      <td>69.000000</td>\n",
       "    </tr>\n",
       "    <tr>\n",
       "      <th>2013-11-07</th>\n",
       "      <td>17.177999</td>\n",
       "      <td>37.849998</td>\n",
       "      <td>67.150002</td>\n",
       "    </tr>\n",
       "    <tr>\n",
       "      <th>...</th>\n",
       "      <td>...</td>\n",
       "      <td>...</td>\n",
       "      <td>...</td>\n",
       "    </tr>\n",
       "    <tr>\n",
       "      <th>2014-10-24</th>\n",
       "      <td>14.353000</td>\n",
       "      <td>45.450001</td>\n",
       "      <td>88.610001</td>\n",
       "    </tr>\n",
       "    <tr>\n",
       "      <th>2014-10-27</th>\n",
       "      <td>14.498500</td>\n",
       "      <td>45.820000</td>\n",
       "      <td>88.449997</td>\n",
       "    </tr>\n",
       "    <tr>\n",
       "      <th>2014-10-28</th>\n",
       "      <td>14.779500</td>\n",
       "      <td>46.224998</td>\n",
       "      <td>89.930000</td>\n",
       "    </tr>\n",
       "    <tr>\n",
       "      <th>2014-10-29</th>\n",
       "      <td>14.706000</td>\n",
       "      <td>45.974998</td>\n",
       "      <td>89.529999</td>\n",
       "    </tr>\n",
       "    <tr>\n",
       "      <th>2014-10-30</th>\n",
       "      <td>14.953500</td>\n",
       "      <td>46.500000</td>\n",
       "      <td>90.220001</td>\n",
       "    </tr>\n",
       "  </tbody>\n",
       "</table>\n",
       "<p>251 rows × 3 columns</p>\n",
       "</div>"
      ],
      "text/plain": [
       "                 AMZN        NKE        DIS\n",
       "Date                                       \n",
       "2013-11-01  17.950001  38.029999  69.010002\n",
       "2013-11-04  17.937000  38.185001  68.809998\n",
       "2013-11-05  17.944500  38.599998  68.849998\n",
       "2013-11-06  17.809000  38.380001  69.000000\n",
       "2013-11-07  17.177999  37.849998  67.150002\n",
       "...               ...        ...        ...\n",
       "2014-10-24  14.353000  45.450001  88.610001\n",
       "2014-10-27  14.498500  45.820000  88.449997\n",
       "2014-10-28  14.779500  46.224998  89.930000\n",
       "2014-10-29  14.706000  45.974998  89.529999\n",
       "2014-10-30  14.953500  46.500000  90.220001\n",
       "\n",
       "[251 rows x 3 columns]"
      ]
     },
     "execution_count": 28,
     "metadata": {},
     "output_type": "execute_result"
    }
   ],
   "source": [
    "consumer_df=small_df[['AMZN','NKE','DIS']]\n",
    "consumer_df"
   ]
  },
  {
   "cell_type": "markdown",
   "id": "1c98df3c",
   "metadata": {},
   "source": [
    "### Energy Dataframe "
   ]
  },
  {
   "cell_type": "code",
   "execution_count": 29,
   "id": "8a2ccb20",
   "metadata": {},
   "outputs": [
    {
     "data": {
      "text/html": [
       "<div>\n",
       "<style scoped>\n",
       "    .dataframe tbody tr th:only-of-type {\n",
       "        vertical-align: middle;\n",
       "    }\n",
       "\n",
       "    .dataframe tbody tr th {\n",
       "        vertical-align: top;\n",
       "    }\n",
       "\n",
       "    .dataframe thead th {\n",
       "        text-align: right;\n",
       "    }\n",
       "</style>\n",
       "<table border=\"1\" class=\"dataframe\">\n",
       "  <thead>\n",
       "    <tr style=\"text-align: right;\">\n",
       "      <th></th>\n",
       "      <th>XOM</th>\n",
       "      <th>FSLR</th>\n",
       "      <th>NEE</th>\n",
       "    </tr>\n",
       "    <tr>\n",
       "      <th>Date</th>\n",
       "      <th></th>\n",
       "      <th></th>\n",
       "      <th></th>\n",
       "    </tr>\n",
       "  </thead>\n",
       "  <tbody>\n",
       "    <tr>\n",
       "      <th>2013-11-01</th>\n",
       "      <td>89.820000</td>\n",
       "      <td>59.139999</td>\n",
       "      <td>22.035000</td>\n",
       "    </tr>\n",
       "    <tr>\n",
       "      <th>2013-11-04</th>\n",
       "      <td>92.099998</td>\n",
       "      <td>61.830002</td>\n",
       "      <td>22.022499</td>\n",
       "    </tr>\n",
       "    <tr>\n",
       "      <th>2013-11-05</th>\n",
       "      <td>91.989998</td>\n",
       "      <td>62.119999</td>\n",
       "      <td>21.815001</td>\n",
       "    </tr>\n",
       "    <tr>\n",
       "      <th>2013-11-06</th>\n",
       "      <td>93.220001</td>\n",
       "      <td>61.150002</td>\n",
       "      <td>22.087500</td>\n",
       "    </tr>\n",
       "    <tr>\n",
       "      <th>2013-11-07</th>\n",
       "      <td>91.959999</td>\n",
       "      <td>58.130001</td>\n",
       "      <td>21.750000</td>\n",
       "    </tr>\n",
       "    <tr>\n",
       "      <th>...</th>\n",
       "      <td>...</td>\n",
       "      <td>...</td>\n",
       "      <td>...</td>\n",
       "    </tr>\n",
       "    <tr>\n",
       "      <th>2014-10-24</th>\n",
       "      <td>94.489998</td>\n",
       "      <td>56.439999</td>\n",
       "      <td>24.590000</td>\n",
       "    </tr>\n",
       "    <tr>\n",
       "      <th>2014-10-27</th>\n",
       "      <td>93.709999</td>\n",
       "      <td>54.290001</td>\n",
       "      <td>24.522499</td>\n",
       "    </tr>\n",
       "    <tr>\n",
       "      <th>2014-10-28</th>\n",
       "      <td>95.099998</td>\n",
       "      <td>57.380001</td>\n",
       "      <td>24.782499</td>\n",
       "    </tr>\n",
       "    <tr>\n",
       "      <th>2014-10-29</th>\n",
       "      <td>94.589996</td>\n",
       "      <td>56.160000</td>\n",
       "      <td>24.650000</td>\n",
       "    </tr>\n",
       "    <tr>\n",
       "      <th>2014-10-30</th>\n",
       "      <td>94.449997</td>\n",
       "      <td>56.099998</td>\n",
       "      <td>24.977501</td>\n",
       "    </tr>\n",
       "  </tbody>\n",
       "</table>\n",
       "<p>251 rows × 3 columns</p>\n",
       "</div>"
      ],
      "text/plain": [
       "                  XOM       FSLR        NEE\n",
       "Date                                       \n",
       "2013-11-01  89.820000  59.139999  22.035000\n",
       "2013-11-04  92.099998  61.830002  22.022499\n",
       "2013-11-05  91.989998  62.119999  21.815001\n",
       "2013-11-06  93.220001  61.150002  22.087500\n",
       "2013-11-07  91.959999  58.130001  21.750000\n",
       "...               ...        ...        ...\n",
       "2014-10-24  94.489998  56.439999  24.590000\n",
       "2014-10-27  93.709999  54.290001  24.522499\n",
       "2014-10-28  95.099998  57.380001  24.782499\n",
       "2014-10-29  94.589996  56.160000  24.650000\n",
       "2014-10-30  94.449997  56.099998  24.977501\n",
       "\n",
       "[251 rows x 3 columns]"
      ]
     },
     "execution_count": 29,
     "metadata": {},
     "output_type": "execute_result"
    }
   ],
   "source": [
    "energy_df=small_df[['XOM','FSLR','NEE']]\n",
    "energy_df"
   ]
  },
  {
   "cell_type": "markdown",
   "id": "47726a63",
   "metadata": {},
   "source": [
    "### Weapons Manufacturing Dataframe"
   ]
  },
  {
   "cell_type": "code",
   "execution_count": 30,
   "id": "46d57326",
   "metadata": {},
   "outputs": [
    {
     "data": {
      "text/html": [
       "<div>\n",
       "<style scoped>\n",
       "    .dataframe tbody tr th:only-of-type {\n",
       "        vertical-align: middle;\n",
       "    }\n",
       "\n",
       "    .dataframe tbody tr th {\n",
       "        vertical-align: top;\n",
       "    }\n",
       "\n",
       "    .dataframe thead th {\n",
       "        text-align: right;\n",
       "    }\n",
       "</style>\n",
       "<table border=\"1\" class=\"dataframe\">\n",
       "  <thead>\n",
       "    <tr style=\"text-align: right;\">\n",
       "      <th></th>\n",
       "      <th>LMT</th>\n",
       "      <th>RTX</th>\n",
       "      <th>NOC</th>\n",
       "    </tr>\n",
       "    <tr>\n",
       "      <th>Date</th>\n",
       "      <th></th>\n",
       "      <th></th>\n",
       "      <th></th>\n",
       "    </tr>\n",
       "  </thead>\n",
       "  <tbody>\n",
       "    <tr>\n",
       "      <th>2013-11-01</th>\n",
       "      <td>134.550003</td>\n",
       "      <td>67.658905</td>\n",
       "      <td>108.120003</td>\n",
       "    </tr>\n",
       "    <tr>\n",
       "      <th>2013-11-04</th>\n",
       "      <td>135.740005</td>\n",
       "      <td>67.954689</td>\n",
       "      <td>108.650002</td>\n",
       "    </tr>\n",
       "    <tr>\n",
       "      <th>2013-11-05</th>\n",
       "      <td>135.470001</td>\n",
       "      <td>67.765892</td>\n",
       "      <td>109.120003</td>\n",
       "    </tr>\n",
       "    <tr>\n",
       "      <th>2013-11-06</th>\n",
       "      <td>136.869995</td>\n",
       "      <td>68.388924</td>\n",
       "      <td>109.620003</td>\n",
       "    </tr>\n",
       "    <tr>\n",
       "      <th>2013-11-07</th>\n",
       "      <td>136.199997</td>\n",
       "      <td>67.507866</td>\n",
       "      <td>108.669998</td>\n",
       "    </tr>\n",
       "    <tr>\n",
       "      <th>...</th>\n",
       "      <td>...</td>\n",
       "      <td>...</td>\n",
       "      <td>...</td>\n",
       "    </tr>\n",
       "    <tr>\n",
       "      <th>2014-10-24</th>\n",
       "      <td>181.330002</td>\n",
       "      <td>65.336693</td>\n",
       "      <td>130.789993</td>\n",
       "    </tr>\n",
       "    <tr>\n",
       "      <th>2014-10-27</th>\n",
       "      <td>183.000000</td>\n",
       "      <td>65.569542</td>\n",
       "      <td>130.789993</td>\n",
       "    </tr>\n",
       "    <tr>\n",
       "      <th>2014-10-28</th>\n",
       "      <td>185.550003</td>\n",
       "      <td>66.878540</td>\n",
       "      <td>134.199997</td>\n",
       "    </tr>\n",
       "    <tr>\n",
       "      <th>2014-10-29</th>\n",
       "      <td>186.429993</td>\n",
       "      <td>66.614220</td>\n",
       "      <td>135.660004</td>\n",
       "    </tr>\n",
       "    <tr>\n",
       "      <th>2014-10-30</th>\n",
       "      <td>189.289993</td>\n",
       "      <td>66.922592</td>\n",
       "      <td>137.289993</td>\n",
       "    </tr>\n",
       "  </tbody>\n",
       "</table>\n",
       "<p>251 rows × 3 columns</p>\n",
       "</div>"
      ],
      "text/plain": [
       "                   LMT        RTX         NOC\n",
       "Date                                         \n",
       "2013-11-01  134.550003  67.658905  108.120003\n",
       "2013-11-04  135.740005  67.954689  108.650002\n",
       "2013-11-05  135.470001  67.765892  109.120003\n",
       "2013-11-06  136.869995  68.388924  109.620003\n",
       "2013-11-07  136.199997  67.507866  108.669998\n",
       "...                ...        ...         ...\n",
       "2014-10-24  181.330002  65.336693  130.789993\n",
       "2014-10-27  183.000000  65.569542  130.789993\n",
       "2014-10-28  185.550003  66.878540  134.199997\n",
       "2014-10-29  186.429993  66.614220  135.660004\n",
       "2014-10-30  189.289993  66.922592  137.289993\n",
       "\n",
       "[251 rows x 3 columns]"
      ]
     },
     "execution_count": 30,
     "metadata": {},
     "output_type": "execute_result"
    }
   ],
   "source": [
    "weapons_df=small_df[['LMT','RTX','NOC']]\n",
    "weapons_df"
   ]
  },
  {
   "cell_type": "markdown",
   "id": "a9e9f3a5",
   "metadata": {},
   "source": [
    "# Calculate: Daily Returns and Weighted Returns"
   ]
  },
  {
   "cell_type": "code",
   "execution_count": 31,
   "id": "13e5d5c4",
   "metadata": {},
   "outputs": [
    {
     "name": "stdout",
     "output_type": "stream",
     "text": [
      "                AAPL      MSFT      GOOG       JNJ       PFE       UNH  \\\n",
      "Date                                                                     \n",
      "2013-11-04  0.012922  0.011540 -0.000906 -0.003641  0.002887  0.004663   \n",
      "2013-11-05 -0.002468  0.019477 -0.004473 -0.002365 -0.000640 -0.003336   \n",
      "2013-11-06 -0.008621  0.042031  0.001204  0.002478 -0.008643  0.022846   \n",
      "2013-11-07 -0.016183 -0.017810 -0.014471 -0.003762 -0.001937 -0.007540   \n",
      "2013-11-08  0.015747  0.007467  0.008016  0.014673  0.013264  0.010608   \n",
      "\n",
      "                 JPM       BAC         V      AMZN       NKE       DIS  \\\n",
      "Date                                                                     \n",
      "2013-11-04 -0.008951  0.001426 -0.013758 -0.000724  0.004076 -0.002898   \n",
      "2013-11-05 -0.001729 -0.007835  0.004837  0.000418  0.010868  0.000581   \n",
      "2013-11-06  0.002887  0.002154  0.008360 -0.007551 -0.005699  0.002179   \n",
      "2013-11-07 -0.008637 -0.011461 -0.014672 -0.035432 -0.013809 -0.026812   \n",
      "2013-11-08  0.044724  0.037681  0.011168  0.019647  0.018758  0.021296   \n",
      "\n",
      "                 XOM      FSLR       NEE       LMT       RTX       NOC  \n",
      "Date                                                                    \n",
      "2013-11-04  0.025384  0.045485 -0.000567  0.008844  0.004372  0.004902  \n",
      "2013-11-05 -0.001194  0.004690 -0.009422 -0.001989 -0.002778  0.004326  \n",
      "2013-11-06  0.013371 -0.015615  0.012491  0.010334  0.009194  0.004582  \n",
      "2013-11-07 -0.013516 -0.049387 -0.015280 -0.004895 -0.012883 -0.008666  \n",
      "2013-11-08  0.008373  0.040771  0.001379  0.014024  0.011933  0.018957  \n",
      "                Tech    Health   Finance  Consumer    Energy   Weapons\n",
      "Date                                                                  \n",
      "2013-11-04  0.007852  0.001303 -0.007094  0.000151  0.023434  0.006039\n",
      "2013-11-05  0.004179 -0.002113 -0.001576  0.003956 -0.001975 -0.000147\n",
      "2013-11-06  0.011538  0.005561  0.004467 -0.003691  0.003416  0.008037\n",
      "2013-11-07 -0.016155 -0.004413 -0.011590 -0.025351 -0.026061 -0.008815\n",
      "2013-11-08  0.010410  0.012848  0.031191  0.019900  0.016841  0.014971\n",
      "...              ...       ...       ...       ...       ...       ...\n",
      "2014-10-24  0.006885  0.011171  0.005069 -0.023497  0.004262  0.007387\n",
      "2014-10-27 -0.001327  0.003905 -0.003268  0.005491 -0.016364  0.004258\n",
      "2014-10-28  0.014392  0.004840  0.015001  0.014984  0.027451  0.019990\n",
      "2014-10-29  0.003067  0.008184 -0.001284 -0.004943 -0.010657  0.003890\n",
      "2014-10-30 -0.004599  0.011929  0.035494  0.011985  0.003579  0.010662\n",
      "\n",
      "[250 rows x 6 columns]\n"
     ]
    }
   ],
   "source": [
    "# Calculate daily returns, drop nas, and display the data \n",
    "# Tech Daily Returns \n",
    "tech_daily = tech_df.pct_change().dropna()\n",
    "tech_daily.head()\n",
    "\n",
    "# Healthcare Daily Returns \n",
    "health_daily = health_df.pct_change().dropna()\n",
    "health_daily.head()\n",
    "\n",
    "# Financials Daily Returns \n",
    "finance_daily = finance_df.pct_change().dropna()\n",
    "finance_daily.head()\n",
    "\n",
    "# Consumer Discretionary Daily Returns \n",
    "consumer_daily = consumer_df.pct_change().dropna()\n",
    "consumer_daily.head()\n",
    "\n",
    "# Energy Daily Returns \n",
    "energy_daily = energy_df.pct_change().dropna()\n",
    "energy_daily.head()\n",
    "\n",
    "# Weapons Manufacturing Daily Returns \n",
    "weapons_daily = weapons_df.pct_change().dropna()\n",
    "weapons_daily.head()\n",
    "\n",
    "combined_daily_returns = pd.concat([\n",
    "    tech_daily.head(),\n",
    "    health_daily.head(),\n",
    "    finance_daily.head(),\n",
    "    consumer_daily.head(),\n",
    "    energy_daily.head(),\n",
    "    weapons_daily.head()\n",
    "], axis=1)\n",
    "\n",
    "# Rename the columns for clarity\n",
    "combined_daily_returns.columns = ['AAPL','MSFT', 'GOOG', 'JNJ','PFE','UNH','JPM','BAC','V','AMZN','NKE','DIS','XOM','FSLR','NEE','LMT','RTX','NOC']\n",
    "\n",
    "# Display the combined DataFrame\n",
    "print(combined_daily_returns.head())\n",
    "\n",
    "# Set weights\n",
    "weights = [1/3, 1/3, 1/3]\n",
    "\n",
    "# Define a dictionary containing the daily returns for each sector\n",
    "daily_returns_dict = {\n",
    "    \"Tech\": tech_daily,\n",
    "    \"Health\": health_daily,\n",
    "    \"Finance\": finance_daily,\n",
    "    \"Consumer\": consumer_daily,\n",
    "    \"Energy\": energy_daily,\n",
    "    \"Weapons\": weapons_daily\n",
    "}\n",
    "\n",
    "# Create an empty dictionary to store the returns for each sector\n",
    "sector_returns = {}\n",
    "\n",
    "# Calculate the returns for each sector and store them in the dictionary\n",
    "for sector, combined_daily_returns in daily_returns_dict.items():\n",
    "    sector_returns[sector] = (weights * combined_daily_returns).sum(axis=1)\n",
    "\n",
    "# Create a DataFrame from the sector_returns dictionary\n",
    "returns_df = pd.DataFrame(sector_returns)\n",
    "\n",
    "# Display the DataFrame\n",
    "print(returns_df)"
   ]
  },
  {
   "cell_type": "markdown",
   "id": "cca746b4",
   "metadata": {},
   "source": [
    "# Risk Analysis Performance \n",
    "1. Cumulative Returns\n",
    "2. Annualized Standard Deviation \n",
    "3. Annualized Sharpe Ratios (Reward to Risk)\n",
    "4. Covariance and Variance \n",
    "5. BETA"
   ]
  },
  {
   "cell_type": "markdown",
   "id": "ed664118",
   "metadata": {},
   "source": [
    "## Cumulative Returns"
   ]
  },
  {
   "cell_type": "code",
   "execution_count": 32,
   "id": "9a28a027",
   "metadata": {},
   "outputs": [
    {
     "name": "stdout",
     "output_type": "stream",
     "text": [
      "                Tech    Health   Finance  Consumer    Energy   Weapons\n",
      "Date                                                                  \n",
      "2013-11-04  1.007852  1.001303  0.992906  1.000151  1.023434  1.006039\n",
      "2013-11-05  1.012064  0.999187  0.991341  1.004108  1.021412  1.005891\n",
      "2013-11-06  1.023741  1.004743  0.995770  1.000402  1.024901  1.013975\n",
      "2013-11-07  1.007202  1.000309  0.984229  0.975041  0.998191  1.005037\n",
      "2013-11-08  1.017687  1.013161  1.014928  0.994444  1.015002  1.020084\n",
      "...              ...       ...       ...       ...       ...       ...\n",
      "2014-10-24  1.258368  1.118363  1.133549  1.083192  1.062428  1.166401\n",
      "2014-10-27  1.256698  1.122730  1.129844  1.089140  1.045042  1.171367\n",
      "2014-10-28  1.274784  1.128164  1.146793  1.105460  1.073729  1.194783\n",
      "2014-10-29  1.278694  1.137397  1.145320  1.099995  1.062286  1.199430\n",
      "2014-10-30  1.272814  1.150965  1.185972  1.113179  1.066088  1.212219\n",
      "\n",
      "[250 rows x 6 columns]\n"
     ]
    },
    {
     "data": {
      "image/png": "[encoded data removed]",
      "text/plain": [
       "<Figure size 1000x600 with 1 Axes>"
      ]
     },
     "metadata": {},
     "output_type": "display_data"
    }
   ],
   "source": [
    "cumulative_returns = (1 + returns_df).cumprod()\n",
    "print(cumulative_returns)\n",
    "cumulative_returns.plot(figsize=(10, 6))  # Adjust figsize as needed\n",
    "plt.title('Cumulative Returns of Each Industry')\n",
    "plt.xlabel('Date')\n",
    "plt.ylabel('Cumulative Returns')\n",
    "plt.grid(True)\n",
    "plt.legend()\n",
    "plt.show()"
   ]
  },
  {
   "cell_type": "markdown",
   "id": "9be59e2e",
   "metadata": {},
   "source": [
    "## Annualized Standard Deviation "
   ]
  },
  {
   "cell_type": "code",
   "execution_count": 33,
   "id": "def340b9",
   "metadata": {},
   "outputs": [
    {
     "name": "stdout",
     "output_type": "stream",
     "text": [
      "Tech        0.009298\n",
      "Health      0.008015\n",
      "Finance     0.010410\n",
      "Consumer    0.012041\n",
      "Energy      0.011994\n",
      "Weapons     0.009370\n",
      "dtype: float64\n"
     ]
    },
    {
     "name": "stderr",
     "output_type": "stream",
     "text": [
      "/Applications/Utilities/anaconda3/lib/python3.11/site-packages/numpy/core/fromnumeric.py:3643: FutureWarning: The behavior of DataFrame.std with axis=None is deprecated, in a future version this will reduce over both axes and return a scalar. To retain the old behavior, pass axis=0 (or do not pass axis)\n",
      "  return std(axis=axis, dtype=dtype, out=out, ddof=ddof, **kwargs)\n"
     ]
    }
   ],
   "source": [
    "# Calculate the daily standard deviation \n",
    "daily_std_dev = np.std(returns_df)\n",
    "print(daily_std_dev)"
   ]
  },
  {
   "cell_type": "code",
   "execution_count": 34,
   "id": "ec4468c4",
   "metadata": {},
   "outputs": [
    {
     "name": "stderr",
     "output_type": "stream",
     "text": [
      "No artists with labels found to put in legend.  Note that artists whose label start with an underscore are ignored when legend() is called with no argument.\n"
     ]
    },
    {
     "data": {
      "image/png": "[encoded data removed]",
      "text/plain": [
       "<Figure size 1000x600 with 1 Axes>"
      ]
     },
     "metadata": {},
     "output_type": "display_data"
    }
   ],
   "source": [
    "# Calculate the annualized standard deviation (252 trading days)\n",
    "annualized_std = daily_std_dev * np.sqrt(252)\n",
    "\n",
    "# Plot the Annualized standard deviation\n",
    "annualized_std.plot.bar(figsize=(10, 6))  # Adjust figsize as needed\n",
    "plt.title('Annualized Standard Deviation of Each Industry')\n",
    "plt.xlabel('Industry')\n",
    "plt.ylabel('Annualized Standard Deviation')\n",
    "plt.grid(True)\n",
    "plt.legend()\n",
    "plt.show()"
   ]
  },
  {
   "cell_type": "markdown",
   "id": "564149cb",
   "metadata": {},
   "source": [
    "## Sharpe Ratios"
   ]
  },
  {
   "cell_type": "code",
   "execution_count": 35,
   "id": "f06123ff",
   "metadata": {},
   "outputs": [
    {
     "data": {
      "image/png": "[encoded data removed]",
      "text/plain": [
       "<Figure size 1000x600 with 1 Axes>"
      ]
     },
     "metadata": {},
     "output_type": "display_data"
    }
   ],
   "source": [
    "# Annualized Sharpe Ratios \n",
    "sharpe_ratios = (returns_df.mean() * 252) / (returns_df.std() * np.sqrt(252))\n",
    "sharpe_ratios \n",
    "\n",
    "# Visualize the sharpe ratios as a bar plot\n",
    "sharpe_ratios.plot(kind='bar', color='skyblue', figsize=(10, 6))\n",
    "\n",
    "# Customizing the plot\n",
    "plt.title('Sharpe Ratios of Each Industry')\n",
    "plt.xlabel('Industry')\n",
    "plt.ylabel('Sharpe Ratio')\n",
    "plt.xticks(rotation=45)  # Rotate x-axis labels for better readability\n",
    "plt.grid(axis='y', linestyle='--', alpha=0.7)  # Adding grid lines\n",
    "\n",
    "# Adding data labels\n",
    "for i, val in enumerate(sharpe_ratios.values):\n",
    "    plt.text(i, val, round(val, 2), ha='center', va='bottom')\n",
    "\n",
    "# Adding horizontal line at Sharpe ratio of 0 for reference\n",
    "plt.axhline(y=0, color='gray', linestyle='--', linewidth=0.5)\n",
    "\n",
    "# Show plot\n",
    "plt.tight_layout()  # Adjust layout to prevent clipping of labels\n",
    "plt.show()"
   ]
  },
  {
   "cell_type": "markdown",
   "id": "12476f96",
   "metadata": {},
   "source": [
    "# Create Custom Portfolio: 12 months After \n",
    "## Time Period: November 2014 to October 2015\n",
    "In this section, we chose three stocks from the top six invested in industries, calculate the returns, and compare the results to determine which industry performed best\n",
    "\n",
    "1. Choose 3 stocks with at last 1 year's worth of historic prices and create a DataFrame of the closing prices and dates for each stock.\n",
    "2. Calculate the weighted returns for the portfolio assuming an equal number of shares for each stock\n",
    "3. Join your portfolio returns to the DataFrame that contains all of the portfolio returns\n",
    "4. Re-run the performance and risk analysis with your portfolio to see how it compares to the others\n",
    "5. Include correlation analysis to determine which stocks (if any) are correlated"
   ]
  },
  {
   "cell_type": "markdown",
   "id": "f8c70912",
   "metadata": {},
   "source": [
    "## Choose 3-5 custom stocks with at last 1 year's worth of historic prices and create a DataFrame of the closing prices and dates for each stock."
   ]
  },
  {
   "cell_type": "markdown",
   "id": "02368518",
   "metadata": {},
   "source": [
    "## Technology Sector\n",
    "These are the three stocks we chose within the Technology Industry"
   ]
  },
  {
   "cell_type": "code",
   "execution_count": 36,
   "id": "cf4f09be",
   "metadata": {},
   "outputs": [
    {
     "name": "stderr",
     "output_type": "stream",
     "text": [
      "[*********************100%%**********************]  1 of 1 completed\n"
     ]
    }
   ],
   "source": [
    "# Define the stock ticker and date range: Apple Inc. \n",
    "AAPL_stock = 'AAPL'\n",
    "start_date = '2014-11-01'  # example start date\n",
    "end_date = '2015-10-31'    # example end date\n",
    "\n",
    "# Download the stock data\n",
    "data_AAPL = yf.download(AAPL_stock, start=start_date, end=end_date)\n",
    "\n",
    "# Print the type of the data\n",
    "#print(type(data_AAPL))\n",
    "\n",
    "# Print the first few columns of the data\n",
    "#print(data_AAPL.iloc[:, :5])  # This prints the first three columns of the DataFrame"
   ]
  },
  {
   "cell_type": "code",
   "execution_count": 37,
   "id": "22002c4e",
   "metadata": {},
   "outputs": [
    {
     "name": "stderr",
     "output_type": "stream",
     "text": [
      "[*********************100%%**********************]  1 of 1 completed\n"
     ]
    }
   ],
   "source": [
    "# Define the stock ticker and date range: Microsoft \n",
    "MSFT_stock = 'MSFT'\n",
    "start_date = '2014-11-01'  # example start date\n",
    "end_date = '2015-10-31'    # example end date\n",
    "\n",
    "# Download the stock data\n",
    "data_MSFT = yf.download(MSFT_stock, start=start_date, end=end_date)\n",
    "\n",
    "# Print the type of the data\n",
    "#print(type(data_MSFT))\n",
    "\n",
    "# Print the first few columns of the data\n",
    "#print(data_MSFT.iloc[:, :5])  # This prints the first three columns of the DataFrame"
   ]
  },
  {
   "cell_type": "code",
   "execution_count": 38,
   "id": "e6a213b3",
   "metadata": {},
   "outputs": [
    {
     "name": "stderr",
     "output_type": "stream",
     "text": [
      "[*********************100%%**********************]  1 of 1 completed\n"
     ]
    }
   ],
   "source": [
    "# Define the stock ticker and date range: Google \n",
    "GOOG_stock = 'GOOG'\n",
    "start_date = '2014-11-01'  # example start date\n",
    "end_date = '2015-10-31'    # example end date\n",
    "\n",
    "# Download the stock data\n",
    "data_GOOG = yf.download(GOOG_stock, start=start_date, end=end_date)\n",
    "\n",
    "# Print the type of the data\n",
    "#print(type(data_GOOG))\n",
    "\n",
    "# Print the first few columns of the data\n",
    "#print(data_GOOG.iloc[:, :5])  # This prints the first three columns of the DataFrame"
   ]
  },
  {
   "cell_type": "markdown",
   "id": "e830a599",
   "metadata": {},
   "source": [
    "## Healthcare Sector \n",
    "These are the three stocks we chose in the Healthcare Industry"
   ]
  },
  {
   "cell_type": "code",
   "execution_count": 39,
   "id": "80822cff",
   "metadata": {},
   "outputs": [
    {
     "name": "stderr",
     "output_type": "stream",
     "text": [
      "[*********************100%%**********************]  1 of 1 completed\n"
     ]
    }
   ],
   "source": [
    "# Define the stock ticker and date range: Johnson and Johnson \n",
    "JNJ_stock = 'JNJ'\n",
    "start_date = '2014-11-01'  # example start date\n",
    "end_date = '2015-10-31'    # example end date\n",
    "\n",
    "# Download the stock data\n",
    "data_JNJ = yf.download(JNJ_stock, start=start_date, end=end_date)\n",
    "\n",
    "# Print the type of the data\n",
    "#print(type(data_JNJ))\n",
    "\n",
    "# Print the first few columns of the data\n",
    "#print(data_JNJ.iloc[:, :5])  # This prints the first three columns of the DataFrame"
   ]
  },
  {
   "cell_type": "code",
   "execution_count": 40,
   "id": "ea06a252",
   "metadata": {},
   "outputs": [
    {
     "name": "stderr",
     "output_type": "stream",
     "text": [
      "[*********************100%%**********************]  1 of 1 completed\n"
     ]
    }
   ],
   "source": [
    "# Define the stock ticker and date range: Pfizer Inc\n",
    "PFE_stock = 'PFE'\n",
    "start_date = '2014-11-01'  # example start date\n",
    "end_date = '2015-10-31'    # example end date\n",
    "\n",
    "# Download the stock data\n",
    "data_PFE = yf.download(PFE_stock, start=start_date, end=end_date)\n",
    "\n",
    "# Print the type of the data\n",
    "#print(type(data_PFE))\n",
    "\n",
    "# Print the first few columns of the data\n",
    "#print(data_PFE.iloc[:, :5])  # This prints the first three columns of the DataFrame"
   ]
  },
  {
   "cell_type": "code",
   "execution_count": 41,
   "id": "4795bd12",
   "metadata": {},
   "outputs": [
    {
     "name": "stderr",
     "output_type": "stream",
     "text": [
      "[*********************100%%**********************]  1 of 1 completed\n"
     ]
    }
   ],
   "source": [
    "# Define the stock ticker and date range: United Health Group\n",
    "UNH_stock = 'UNH'\n",
    "start_date = '2014-11-01'  # example start date\n",
    "end_date = '2015-10-31'    # example end date\n",
    "\n",
    "# Download the stock data\n",
    "data_UNH = yf.download(UNH_stock, start=start_date, end=end_date)\n",
    "\n",
    "# Print the type of the data\n",
    "#print(type(data_UNH))\n",
    "\n",
    "# Print the first few columns of the data\n",
    "#print(data_UNH.iloc[:, :5])  # This prints the first three columns of the DataFrame"
   ]
  },
  {
   "cell_type": "markdown",
   "id": "a110ef1f",
   "metadata": {},
   "source": [
    "# Financials Sector \n",
    "These are the three stocks we chose in the Healthcare Industry"
   ]
  },
  {
   "cell_type": "code",
   "execution_count": 42,
   "id": "c17c4ae6",
   "metadata": {},
   "outputs": [
    {
     "name": "stderr",
     "output_type": "stream",
     "text": [
      "[*********************100%%**********************]  1 of 1 completed\n"
     ]
    }
   ],
   "source": [
    "# Define the stock ticker and date range: JPMorgan Chase and Co. \n",
    "JPM_stock = 'JPM'\n",
    "start_date = '2014-11-01'  # example start date\n",
    "end_date = '2015-10-31'    # example end date\n",
    "\n",
    "# Download the stock data\n",
    "data_JPM = yf.download(JPM_stock, start=start_date, end=end_date)\n",
    "\n",
    "# Print the type of the data\n",
    "#print(type(data_JPM))\n",
    "\n",
    "# Print the first few columns of the data\n",
    "#print(data_JPM.iloc[:, :5])  # This prints the first three columns of the DataFrame"
   ]
  },
  {
   "cell_type": "code",
   "execution_count": 43,
   "id": "af9f37b8",
   "metadata": {},
   "outputs": [
    {
     "name": "stderr",
     "output_type": "stream",
     "text": [
      "[*********************100%%**********************]  1 of 1 completed\n"
     ]
    }
   ],
   "source": [
    "# Define the stock ticker and date range: Bank of America \n",
    "BAC_stock = 'BAC'\n",
    "start_date = '2014-11-01'  # example start date\n",
    "end_date = '2015-10-31'    # example end date\n",
    "\n",
    "# Download the stock data\n",
    "data_BAC = yf.download(BAC_stock, start=start_date, end=end_date)\n",
    "\n",
    "# Print the type of the data\n",
    "#print(type(data_BAC))\n",
    "\n",
    "# Print the first few columns of the data\n",
    "#print(data_BAC.iloc[:, :5])  # This prints the first three columns of the DataFrame"
   ]
  },
  {
   "cell_type": "code",
   "execution_count": 44,
   "id": "4f470cb4",
   "metadata": {},
   "outputs": [
    {
     "name": "stderr",
     "output_type": "stream",
     "text": [
      "[*********************100%%**********************]  1 of 1 completed\n"
     ]
    }
   ],
   "source": [
    "# Define the stock ticker and date range: Visa\n",
    "V_stock = 'V'\n",
    "start_date = '2014-11-01'  # example start date\n",
    "end_date = '2015-10-31'    # example end date\n",
    "\n",
    "# Download the stock data\n",
    "data_V = yf.download(V_stock, start=start_date, end=end_date)\n",
    "\n",
    "# Print the type of the data\n",
    "#print(type(data_V))\n",
    "\n",
    "# Print the first few columns of the data\n",
    "#print(data_V.iloc[:, :5])  # This prints the first three columns of the DataFrame"
   ]
  },
  {
   "cell_type": "markdown",
   "id": "ae9d5190",
   "metadata": {},
   "source": [
    "## Consumer Discretionary \n",
    "These are the three stocks we chose in the consumer discretionary industry: Amazon, Nike, and Walt Disney Company"
   ]
  },
  {
   "cell_type": "code",
   "execution_count": 45,
   "id": "bddd7f63",
   "metadata": {},
   "outputs": [
    {
     "name": "stderr",
     "output_type": "stream",
     "text": [
      "[*********************100%%**********************]  1 of 1 completed\n"
     ]
    }
   ],
   "source": [
    "# Define the stock ticker and date range: Amazon\n",
    "AMZN_stock = 'AMZN'\n",
    "start_date = '2014-11-01'  # example start date\n",
    "end_date = '2015-10-31'    # example end date\n",
    "\n",
    "# Download the stock data\n",
    "data_AMZN = yf.download(AMZN_stock, start=start_date, end=end_date)\n",
    "\n",
    "# Print the type of the data\n",
    "#print(type(data_AMZN))\n",
    "\n",
    "# Print the first few columns of the data\n",
    "#print(data_AMZN.iloc[:, :5])  # This prints the first three columns of the DataFrame"
   ]
  },
  {
   "cell_type": "code",
   "execution_count": 46,
   "id": "9bc080f8",
   "metadata": {},
   "outputs": [
    {
     "name": "stderr",
     "output_type": "stream",
     "text": [
      "[*********************100%%**********************]  1 of 1 completed\n"
     ]
    }
   ],
   "source": [
    "# Define the stock ticker and date range: Nike\n",
    "NKE_stock = 'NKE'\n",
    "start_date = '2014-11-01'  # example start date\n",
    "end_date = '2015-10-31'    # example end date\n",
    "\n",
    "# Download the stock data\n",
    "data_NKE = yf.download(NKE_stock, start=start_date, end=end_date)\n",
    "\n",
    "# Print the type of the data\n",
    "#print(type(data_NKE))\n",
    "\n",
    "# Print the first few columns of the data\n",
    "#print(data_NKE.iloc[:, :5])  # This prints the first three columns of the DataFrame"
   ]
  },
  {
   "cell_type": "code",
   "execution_count": 47,
   "id": "df2ca7b9",
   "metadata": {},
   "outputs": [
    {
     "name": "stderr",
     "output_type": "stream",
     "text": [
      "[*********************100%%**********************]  1 of 1 completed\n"
     ]
    }
   ],
   "source": [
    "# Define the stock ticker and date range: Walt Disney Company \n",
    "DIS_stock = 'DIS'\n",
    "start_date = '2014-11-01'  # example start date\n",
    "end_date = '2015-10-31'    # example end date\n",
    "\n",
    "# Download the stock data\n",
    "data_DIS = yf.download(DIS_stock, start=start_date, end=end_date)\n",
    "\n",
    "# Print the type of the data\n",
    "#print(type(data_DIS))\n",
    "\n",
    "# Print the first few columns of the data\n",
    "#print(data_DIS.iloc[:, :5])  # This prints the first three columns of the DataFrame"
   ]
  },
  {
   "cell_type": "markdown",
   "id": "6d0507e1",
   "metadata": {},
   "source": [
    "## Energy Sector \n",
    "These are the three stocks we chose in the energy industry: Exxon Mobile Incorporation, First Solar Inc. , NextEra Energy Resources "
   ]
  },
  {
   "cell_type": "code",
   "execution_count": 48,
   "id": "3457e5e1",
   "metadata": {},
   "outputs": [
    {
     "name": "stderr",
     "output_type": "stream",
     "text": [
      "[*********************100%%**********************]  1 of 1 completed\n"
     ]
    }
   ],
   "source": [
    "# Define the stock ticker and date range: Exxon Mobile Incorporation\n",
    "XOM_stock = 'XOM'\n",
    "start_date = '2014-11-01'  # example start date\n",
    "end_date = '2015-10-31'    # example end date\n",
    "\n",
    "# Download the stock data\n",
    "data_XOM = yf.download(XOM_stock, start=start_date, end=end_date)\n",
    "\n",
    "# Print the type of the data\n",
    "#print(type(data_XOM))\n",
    "\n",
    "# Print the first few columns of the data\n",
    "#print(data_XOM.iloc[:, :5])  # This prints the first three columns of the DataFrame"
   ]
  },
  {
   "cell_type": "code",
   "execution_count": 49,
   "id": "eabb2ace",
   "metadata": {},
   "outputs": [
    {
     "name": "stderr",
     "output_type": "stream",
     "text": [
      "[*********************100%%**********************]  1 of 1 completed\n"
     ]
    }
   ],
   "source": [
    "# Define the stock ticker and date range: First Solar Inc. \n",
    "FSLR_stock = 'FSLR'\n",
    "start_date = '2014-11-01'  # example start date\n",
    "end_date = '2015-10-31'    # example end date\n",
    "\n",
    "# Download the stock data\n",
    "data_FSLR = yf.download(FSLR_stock, start=start_date, end=end_date)\n",
    "\n",
    "# Print the type of the data\n",
    "#print(type(data_FSLR))\n",
    "\n",
    "# Print the first few columns of the data\n",
    "#print(data_FSLR.iloc[:, :5])  # This prints the first three columns of the DataFrame"
   ]
  },
  {
   "cell_type": "code",
   "execution_count": 50,
   "id": "45f73404",
   "metadata": {},
   "outputs": [
    {
     "name": "stderr",
     "output_type": "stream",
     "text": [
      "[*********************100%%**********************]  1 of 1 completed\n"
     ]
    }
   ],
   "source": [
    "# Define the stock ticker and date range: NextEra Energy Resources\n",
    "NEE_stock = 'NEE'\n",
    "start_date = '2014-11-01'  # example start date\n",
    "end_date = '2015-10-31'    # example end date\n",
    "\n",
    "# Download the stock data\n",
    "data_NEE = yf.download(NEE_stock, start=start_date, end=end_date)\n",
    "\n",
    "# Print the type of the data\n",
    "#print(type(data_NEE))\n",
    "\n",
    "# Print the first few columns of the data\n",
    "#print(data_NEE.iloc[:, :5])  # This prints the first three columns of the DataFrame"
   ]
  },
  {
   "cell_type": "markdown",
   "id": "06a0c0d3",
   "metadata": {},
   "source": [
    "## Weapons Manufacturing \n",
    "These are the three stocks we chose in the weapons manufacturing instury: Lockheed Martin Corporation, Raytheon Technologies Corporations (RTX), Northrup Grumman Corporation (NOC)  "
   ]
  },
  {
   "cell_type": "code",
   "execution_count": 51,
   "id": "ae9c85d0",
   "metadata": {},
   "outputs": [
    {
     "name": "stderr",
     "output_type": "stream",
     "text": [
      "[*********************100%%**********************]  1 of 1 completed\n"
     ]
    }
   ],
   "source": [
    "# Define the stock ticker and date range: Lockheed Martin Corporation\n",
    "LMT_stock = 'LMT'\n",
    "start_date = '2014-11-01'  # example start date\n",
    "end_date = '2015-10-31'    # example end date\n",
    "\n",
    "# Download the stock data\n",
    "data_LMT = yf.download(LMT_stock, start=start_date, end=end_date)\n",
    "\n",
    "# Print the type of the data\n",
    "#print(type(data_LMT))\n",
    "\n",
    "# Print the first few columns of the data\n",
    "#print(data_LMT.iloc[:, :5])  # This prints the first three columns of the DataFrame"
   ]
  },
  {
   "cell_type": "code",
   "execution_count": 52,
   "id": "f56e7621",
   "metadata": {},
   "outputs": [
    {
     "name": "stderr",
     "output_type": "stream",
     "text": [
      "[*********************100%%**********************]  1 of 1 completed\n"
     ]
    }
   ],
   "source": [
    "# Define the stock ticker and date range: Raytheon Technologies Corporation\n",
    "RTX_stock = 'RTX'\n",
    "start_date = '2014-11-01'  # example start date\n",
    "end_date = '2015-10-31'    # example end date\n",
    "\n",
    "# Download the stock data\n",
    "data_RTX = yf.download(RTX_stock, start=start_date, end=end_date)\n",
    "\n",
    "# Print the type of the data\n",
    "#print(type(data_RTX))\n",
    "\n",
    "# Print the first few columns of the data\n",
    "#print(data_RTX.iloc[:, :5])  # This prints the first three columns of the DataFrame"
   ]
  },
  {
   "cell_type": "code",
   "execution_count": 53,
   "id": "e6166192",
   "metadata": {},
   "outputs": [
    {
     "name": "stderr",
     "output_type": "stream",
     "text": [
      "[*********************100%%**********************]  1 of 1 completed\n"
     ]
    }
   ],
   "source": [
    "# Define the stock ticker and date range: Northrup Grumman Corporation\n",
    "NOC_stock = 'NOC'\n",
    "start_date = '2014-11-01'  # example start date\n",
    "end_date = '2015-10-31'    # example end date\n",
    "\n",
    "# Download the stock data\n",
    "data_NOC = yf.download(NOC_stock, start=start_date, end=end_date)\n",
    "\n",
    "# Print the type of the data\n",
    "#print(type(data_NOC))\n",
    "\n",
    "# Print the first few columns of the data\n",
    "#print(data_NOC.iloc[:, :5])  # This prints the first three columns of the DataFrame"
   ]
  }
 ],
 "metadata": {
  "kernelspec": {
   "display_name": "Python 3 (ipykernel)",
   "language": "python",
   "name": "python3"
  },
  "language_info": {
   "codemirror_mode": {
    "name": "ipython",
    "version": 3
   },
   "file_extension": ".py",
   "mimetype": "text/x-python",
   "name": "python",
   "nbconvert_exporter": "python",
   "pygments_lexer": "ipython3",
   "version": "3.11.7"
  }
 },
 "nbformat": 4,
 "nbformat_minor": 5
}
