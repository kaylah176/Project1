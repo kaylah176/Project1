{
 "cells": [
  {
   "cell_type": "markdown",
   "id": "d694eeb0",
   "metadata": {},
   "source": [
    "# Create Custom Portfolio: 12 months Before \n",
    "## Time Period: November 2021 to October 2022\n",
    "In this section, we chose three stocks from the top six invested in industries, calculate the returns, and compare the results to determine which industry performed best\n",
    "\n",
    "1. Choose 3 stocks with at last 1 year's worth of historic prices and create a DataFrame of the closing prices and dates for each stock.\n",
    "2. Calculate the weighted returns for the portfolio assuming an equal number of shares for each stock\n",
    "3. Join your portfolio returns to the DataFrame that contains all of the portfolio returns\n",
    "4. Re-run the performance and risk analysis with your portfolio to see how it compares to the others\n",
    "5. Include correlation analysis to determine which stocks (if any) are correlated"
   ]
  },
  {
   "cell_type": "markdown",
   "id": "c6085b36",
   "metadata": {},
   "source": [
    "## Choose 3-5 custom stocks with at last 1 year's worth of historic prices and create a DataFrame of the closing prices and dates for each stock."
   ]
  },
  {
   "cell_type": "code",
   "execution_count": 1,
   "id": "6a008aa5",
   "metadata": {},
   "outputs": [],
   "source": [
    "import yfinance as yf\n",
    "\n",
    "# Initial imports\n",
    "import pandas as pd\n",
    "import numpy as np\n",
    "import datetime as dt\n",
    "from pathlib import Path\n",
    "import matplotlib.pyplot as plt"
   ]
  },
  {
   "cell_type": "markdown",
   "id": "841014a0",
   "metadata": {},
   "source": [
    "## Technology Sector\n",
    "These are the three stocks we chose within the Technology Industry"
   ]
  },
  {
   "cell_type": "code",
   "execution_count": 2,
   "id": "7b32099f",
   "metadata": {},
   "outputs": [
    {
     "name": "stderr",
     "output_type": "stream",
     "text": [
      "[*********************100%%**********************]  1 of 1 completed\n"
     ]
    }
   ],
   "source": [
    "# Define the stock ticker and date range: Apple Inc. \n",
    "AAPL_stock = 'AAPL'\n",
    "start_date = '2021-11-01'  # example start date\n",
    "end_date = '2022-10-31'    # example end date\n",
    "\n",
    "# Download the stock data\n",
    "data_AAPL = yf.download(AAPL_stock, start=start_date, end=end_date)\n",
    "\n",
    "# Print the type of the data\n",
    "#print(type(data_AAPL))\n",
    "\n",
    "# Print the first few columns of the data\n",
    "#print(data_AAPL.iloc[:, :5])  # This prints the first three columns of the DataFrame"
   ]
  },
  {
   "cell_type": "code",
   "execution_count": 3,
   "id": "2eeb51ad",
   "metadata": {},
   "outputs": [
    {
     "name": "stderr",
     "output_type": "stream",
     "text": [
      "[*********************100%%**********************]  1 of 1 completed\n"
     ]
    }
   ],
   "source": [
    "# Define the stock ticker and date range: Microsoft \n",
    "MSFT_stock = 'MSFT'\n",
    "start_date = '2021-11-01'  # example start date\n",
    "end_date = '2022-10-31'    # example end date\n",
    "\n",
    "# Download the stock data\n",
    "data_MSFT = yf.download(MSFT_stock, start=start_date, end=end_date)\n",
    "\n",
    "# Print the type of the data\n",
    "#print(type(data_MSFT))\n",
    "\n",
    "# Print the first few columns of the data\n",
    "#print(data_MSFT.iloc[:, :5])  # This prints the first three columns of the DataFrame"
   ]
  },
  {
   "cell_type": "code",
   "execution_count": 4,
   "id": "29505cc9",
   "metadata": {},
   "outputs": [
    {
     "name": "stderr",
     "output_type": "stream",
     "text": [
      "[*********************100%%**********************]  1 of 1 completed\n"
     ]
    }
   ],
   "source": [
    "# Define the stock ticker and date range: Google \n",
    "GOOG_stock = 'GOOG'\n",
    "start_date = '2021-11-01'  # example start date\n",
    "end_date = '2022-10-31'    # example end date\n",
    "\n",
    "# Download the stock data\n",
    "data_GOOG = yf.download(GOOG_stock, start=start_date, end=end_date)\n",
    "\n",
    "# Print the type of the data\n",
    "#print(type(data_GOOG))\n",
    "\n",
    "# Print the first few columns of the data\n",
    "#print(data_GOOG.iloc[:, :5])  # This prints the first three columns of the DataFrame"
   ]
  },
  {
   "cell_type": "markdown",
   "id": "d130962b",
   "metadata": {},
   "source": [
    "## Healthcare Sector \n",
    "These are the three stocks we chose in the Healthcare Industry"
   ]
  },
  {
   "cell_type": "code",
   "execution_count": 5,
   "id": "e03ed623",
   "metadata": {},
   "outputs": [
    {
     "name": "stderr",
     "output_type": "stream",
     "text": [
      "[*********************100%%**********************]  1 of 1 completed\n"
     ]
    }
   ],
   "source": [
    "# Define the stock ticker and date range: Johnson and Johnson \n",
    "JNJ_stock = 'JNJ'\n",
    "start_date = '2021-11-01'  # example start date\n",
    "end_date = '2022-10-31'    # example end date\n",
    "\n",
    "# Download the stock data\n",
    "data_JNJ = yf.download(JNJ_stock, start=start_date, end=end_date)\n",
    "\n",
    "# Print the type of the data\n",
    "#print(type(data_JNJ))\n",
    "\n",
    "# Print the first few columns of the data\n",
    "#print(data_JNJ.iloc[:, :5])  # This prints the first three columns of the DataFrame"
   ]
  },
  {
   "cell_type": "code",
   "execution_count": 6,
   "id": "aa561407",
   "metadata": {},
   "outputs": [
    {
     "name": "stderr",
     "output_type": "stream",
     "text": [
      "[*********************100%%**********************]  1 of 1 completed\n"
     ]
    }
   ],
   "source": [
    "# Define the stock ticker and date range: Pfizer Inc\n",
    "PFE_stock = 'PFE'\n",
    "start_date = '2021-11-01'  # example start date\n",
    "end_date = '2022-10-31'    # example end date\n",
    "\n",
    "# Download the stock data\n",
    "data_PFE = yf.download(PFE_stock, start=start_date, end=end_date)\n",
    "\n",
    "# Print the type of the data\n",
    "#print(type(data_PFE))\n",
    "\n",
    "# Print the first few columns of the data\n",
    "#print(data_PFE.iloc[:, :5])  # This prints the first three columns of the DataFrame"
   ]
  },
  {
   "cell_type": "code",
   "execution_count": 7,
   "id": "30dc468e",
   "metadata": {},
   "outputs": [
    {
     "name": "stderr",
     "output_type": "stream",
     "text": [
      "[*********************100%%**********************]  1 of 1 completed\n"
     ]
    }
   ],
   "source": [
    "# Define the stock ticker and date range: United Health Group\n",
    "UNH_stock = 'UNH'\n",
    "start_date = '2021-11-01'  # example start date\n",
    "end_date = '2022-10-31'    # example end date\n",
    "\n",
    "# Download the stock data\n",
    "data_UNH = yf.download(UNH_stock, start=start_date, end=end_date)\n",
    "\n",
    "# Print the type of the data\n",
    "#print(type(data_UNH))\n",
    "\n",
    "# Print the first few columns of the data\n",
    "#print(data_UNH.iloc[:, :5])  # This prints the first three columns of the DataFrame"
   ]
  },
  {
   "cell_type": "markdown",
   "id": "f8b69275",
   "metadata": {},
   "source": [
    "## Financials Sector \n",
    "These are the three stocks we chose in the Healthcare Industry"
   ]
  },
  {
   "cell_type": "code",
   "execution_count": 8,
   "id": "ef9694ae",
   "metadata": {},
   "outputs": [
    {
     "name": "stderr",
     "output_type": "stream",
     "text": [
      "[*********************100%%**********************]  1 of 1 completed\n"
     ]
    }
   ],
   "source": [
    "# Define the stock ticker and date range: JPMorgan Chase and Co. \n",
    "JPM_stock = 'JPM'\n",
    "start_date = '2021-11-01'  # example start date\n",
    "end_date = '2022-10-31'    # example end date\n",
    "\n",
    "# Download the stock data\n",
    "data_JPM = yf.download(JPM_stock, start=start_date, end=end_date)\n",
    "\n",
    "# Print the type of the data\n",
    "#print(type(data_JPM))\n",
    "\n",
    "# Print the first few columns of the data\n",
    "#print(data_JPM.iloc[:, :5])  # This prints the first three columns of the DataFrame"
   ]
  },
  {
   "cell_type": "code",
   "execution_count": 9,
   "id": "0b2987e0",
   "metadata": {},
   "outputs": [
    {
     "name": "stderr",
     "output_type": "stream",
     "text": [
      "[*********************100%%**********************]  1 of 1 completed\n"
     ]
    }
   ],
   "source": [
    "# Define the stock ticker and date range: Bank of America \n",
    "BAC_stock = 'BAC'\n",
    "start_date = '2021-11-01'  # example start date\n",
    "end_date = '2022-10-31'    # example end date\n",
    "\n",
    "# Download the stock data\n",
    "data_BAC = yf.download(BAC_stock, start=start_date, end=end_date)\n",
    "\n",
    "# Print the type of the data\n",
    "#print(type(data_BAC))\n",
    "\n",
    "# Print the first few columns of the data\n",
    "#print(data_BAC.iloc[:, :5])  # This prints the first three columns of the DataFrame"
   ]
  },
  {
   "cell_type": "code",
   "execution_count": 10,
   "id": "5bafc0b5",
   "metadata": {},
   "outputs": [
    {
     "name": "stderr",
     "output_type": "stream",
     "text": [
      "[*********************100%%**********************]  1 of 1 completed\n"
     ]
    }
   ],
   "source": [
    "# Define the stock ticker and date range: Visa\n",
    "V_stock = 'V'\n",
    "start_date = '2021-11-01'  # example start date\n",
    "end_date = '2022-10-31'    # example end date\n",
    "\n",
    "# Download the stock data\n",
    "data_V = yf.download(V_stock, start=start_date, end=end_date)\n",
    "\n",
    "# Print the type of the data\n",
    "#print(type(data_V))\n",
    "\n",
    "# Print the first few columns of the data\n",
    "#print(data_V.iloc[:, :5])  # This prints the first three columns of the DataFrame"
   ]
  },
  {
   "cell_type": "markdown",
   "id": "90a42818",
   "metadata": {},
   "source": [
    "## Consumer Discretionary \n",
    "These are the three stocks we chose in the consumer discretionary industry: Amazon, Nike, and Walt Disney Company"
   ]
  },
  {
   "cell_type": "code",
   "execution_count": 11,
   "id": "4e57c73c",
   "metadata": {},
   "outputs": [
    {
     "name": "stderr",
     "output_type": "stream",
     "text": [
      "[*********************100%%**********************]  1 of 1 completed\n"
     ]
    }
   ],
   "source": [
    "# Define the stock ticker and date range: Amazon\n",
    "AMZN_stock = 'AMZN'\n",
    "start_date = '2021-11-01'  # example start date\n",
    "end_date = '2022-10-31'    # example end date\n",
    "\n",
    "# Download the stock data\n",
    "data_AMZN = yf.download(AMZN_stock, start=start_date, end=end_date)\n",
    "\n",
    "# Print the type of the data\n",
    "#print(type(data_AMZN))\n",
    "\n",
    "# Print the first few columns of the data\n",
    "#print(data_AMZN.iloc[:, :5])  # This prints the first three columns of the DataFrame"
   ]
  },
  {
   "cell_type": "code",
   "execution_count": 12,
   "id": "026d881d",
   "metadata": {},
   "outputs": [
    {
     "name": "stderr",
     "output_type": "stream",
     "text": [
      "[*********************100%%**********************]  1 of 1 completed\n"
     ]
    }
   ],
   "source": [
    "# Define the stock ticker and date range: Nike\n",
    "NKE_stock = 'NKE'\n",
    "start_date = '2021-11-01'  # example start date\n",
    "end_date = '2022-10-31'    # example end date\n",
    "\n",
    "# Download the stock data\n",
    "data_NKE = yf.download(NKE_stock, start=start_date, end=end_date)\n",
    "\n",
    "# Print the type of the data\n",
    "#print(type(data_NKE))\n",
    "\n",
    "# Print the first few columns of the data\n",
    "#print(data_NKE.iloc[:, :5])  # This prints the first three columns of the DataFrame"
   ]
  },
  {
   "cell_type": "code",
   "execution_count": 13,
   "id": "617dea59",
   "metadata": {},
   "outputs": [
    {
     "name": "stderr",
     "output_type": "stream",
     "text": [
      "[*********************100%%**********************]  1 of 1 completed\n"
     ]
    }
   ],
   "source": [
    "# Define the stock ticker and date range: Walt Disney Company \n",
    "DIS_stock = 'DIS'\n",
    "start_date = '2021-11-01'  # example start date\n",
    "end_date = '2022-10-31'    # example end date\n",
    "\n",
    "# Download the stock data\n",
    "data_DIS = yf.download(DIS_stock, start=start_date, end=end_date)\n",
    "\n",
    "# Print the type of the data\n",
    "#print(type(data_DIS))\n",
    "\n",
    "# Print the first few columns of the data\n",
    "#print(data_DIS.iloc[:, :5])  # This prints the first three columns of the DataFrame"
   ]
  },
  {
   "cell_type": "markdown",
   "id": "a82e2c50",
   "metadata": {},
   "source": [
    "## Energy Sector \n",
    "These are the three stocks we chose in the energy industry: Exxon Mobile Incorporation, First Solar Inc. , NextEra Energy Resources "
   ]
  },
  {
   "cell_type": "code",
   "execution_count": 14,
   "id": "e14f99c2",
   "metadata": {},
   "outputs": [
    {
     "name": "stderr",
     "output_type": "stream",
     "text": [
      "[*********************100%%**********************]  1 of 1 completed\n"
     ]
    }
   ],
   "source": [
    "# Define the stock ticker and date range: Exxon Mobile Incorporation\n",
    "XOM_stock = 'XOM'\n",
    "start_date = '2021-11-01'  # example start date\n",
    "end_date = '2022-10-31'    # example end date\n",
    "\n",
    "# Download the stock data\n",
    "data_XOM = yf.download(XOM_stock, start=start_date, end=end_date)\n",
    "\n",
    "# Print the type of the data\n",
    "#print(type(data_XOM))\n",
    "\n",
    "# Print the first few columns of the data\n",
    "#print(data_XOM.iloc[:, :5])  # This prints the first three columns of the DataFrame"
   ]
  },
  {
   "cell_type": "code",
   "execution_count": 50,
   "id": "a0b40af8",
   "metadata": {},
   "outputs": [
    {
     "name": "stderr",
     "output_type": "stream",
     "text": [
      "[*********************100%%**********************]  1 of 1 completed\n"
     ]
    }
   ],
   "source": [
    "# Define the stock ticker and date range: First Solar Inc. \n",
    "FSLR_stock = 'FSLR'\n",
    "start_date = '2021-11-01'  # example start date\n",
    "end_date = '2022-10-31'    # example end date\n",
    "\n",
    "# Download the stock data\n",
    "data_FSLR = yf.download(FSLR_stock, start=start_date, end=end_date)\n",
    "\n",
    "# Print the type of the data\n",
    "#print(type(data_FSLR))\n",
    "\n",
    "# Print the first few columns of the data\n",
    "#print(data_FSLR.iloc[:, :5])  # This prints the first three columns of the DataFrame"
   ]
  },
  {
   "cell_type": "code",
   "execution_count": 51,
   "id": "40b336a2",
   "metadata": {},
   "outputs": [
    {
     "name": "stderr",
     "output_type": "stream",
     "text": [
      "[*********************100%%**********************]  1 of 1 completed\n"
     ]
    }
   ],
   "source": [
    "# Define the stock ticker and date range: NextEra Energy Resources\n",
    "NEE_stock = 'NEE'\n",
    "start_date = '2021-11-01'  # example start date\n",
    "end_date = '2022-10-31'    # example end date\n",
    "\n",
    "# Download the stock data\n",
    "data_NEE = yf.download(NEE_stock, start=start_date, end=end_date)\n",
    "\n",
    "# Print the type of the data\n",
    "#print(type(data_NEE))\n",
    "\n",
    "# Print the first few columns of the data\n",
    "#print(data_NEE.iloc[:, :5])  # This prints the first three columns of the DataFrame"
   ]
  },
  {
   "cell_type": "markdown",
   "id": "63844053",
   "metadata": {},
   "source": [
    "## Weapons Manufacturing \n",
    "These are the three stocks we chose in the weapons manufacturing instury: Lockheed Martin Corporation, Raytheon Technologies Corporations (RTX), Northrup Grumman Corporation (NOC) "
   ]
  },
  {
   "cell_type": "code",
   "execution_count": 53,
   "id": "17c5a1b1",
   "metadata": {},
   "outputs": [
    {
     "name": "stderr",
     "output_type": "stream",
     "text": [
      "[*********************100%%**********************]  1 of 1 completed\n"
     ]
    }
   ],
   "source": [
    "# Define the stock ticker and date range: Lockheed Martin Corporation\n",
    "LMT_stock = 'LMT'\n",
    "start_date = '2021-11-01'  # example start date\n",
    "end_date = '2022-10-31'    # example end date\n",
    "\n",
    "# Download the stock data\n",
    "data_LMT = yf.download(LMT_stock, start=start_date, end=end_date)\n",
    "\n",
    "# Print the type of the data\n",
    "#print(type(data_LMT))\n",
    "\n",
    "# Print the first few columns of the data\n",
    "#print(data_LMT.iloc[:, :5])  # This prints the first three columns of the DataFrame"
   ]
  },
  {
   "cell_type": "code",
   "execution_count": 56,
   "id": "11380938",
   "metadata": {},
   "outputs": [
    {
     "name": "stderr",
     "output_type": "stream",
     "text": [
      "[*********************100%%**********************]  1 of 1 completed\n"
     ]
    }
   ],
   "source": [
    "# Define the stock ticker and date range: Raytheon Technologies Corporation\n",
    "RTX_stock = 'RTX'\n",
    "start_date = '2021-11-01'  # example start date\n",
    "end_date = '2022-10-31'    # example end date\n",
    "\n",
    "# Download the stock data\n",
    "data_RTX = yf.download(RTX_stock, start=start_date, end=end_date)\n",
    "\n",
    "# Print the type of the data\n",
    "#print(type(data_RTX))\n",
    "\n",
    "# Print the first few columns of the data\n",
    "#print(data_RTX.iloc[:, :5])  # This prints the first three columns of the DataFrame"
   ]
  },
  {
   "cell_type": "code",
   "execution_count": 58,
   "id": "7a69afba",
   "metadata": {},
   "outputs": [
    {
     "name": "stderr",
     "output_type": "stream",
     "text": [
      "[*********************100%%**********************]  1 of 1 completed\n"
     ]
    }
   ],
   "source": [
    "# Define the stock ticker and date range: Northrup Grumman Corporation\n",
    "NOC_stock = 'NOC'\n",
    "start_date = '2021-11-01'  # example start date\n",
    "end_date = '2022-10-31'    # example end date\n",
    "\n",
    "# Download the stock data\n",
    "data_NOC = yf.download(NOC_stock, start=start_date, end=end_date)\n",
    "\n",
    "# Print the type of the data\n",
    "#print(type(data_NOC))\n",
    "\n",
    "# Print the first few columns of the data\n",
    "#print(data_NOC.iloc[:, :5])  # This prints the first three columns of the DataFrame"
   ]
  },
  {
   "cell_type": "markdown",
   "id": "865c2afa",
   "metadata": {},
   "source": [
    "## Combined Stocks Dataframe"
   ]
  },
  {
   "cell_type": "code",
   "execution_count": 20,
   "id": "edb9dfa8",
   "metadata": {},
   "outputs": [
    {
     "data": {
      "text/html": [
       "<div>\n",
       "<style scoped>\n",
       "    .dataframe tbody tr th:only-of-type {\n",
       "        vertical-align: middle;\n",
       "    }\n",
       "\n",
       "    .dataframe tbody tr th {\n",
       "        vertical-align: top;\n",
       "    }\n",
       "\n",
       "    .dataframe thead th {\n",
       "        text-align: right;\n",
       "    }\n",
       "</style>\n",
       "<table border=\"1\" class=\"dataframe\">\n",
       "  <thead>\n",
       "    <tr style=\"text-align: right;\">\n",
       "      <th></th>\n",
       "      <th>Open</th>\n",
       "      <th>High</th>\n",
       "      <th>Low</th>\n",
       "      <th>Close</th>\n",
       "      <th>Adj Close</th>\n",
       "      <th>Volume</th>\n",
       "      <th>Open</th>\n",
       "      <th>High</th>\n",
       "      <th>Low</th>\n",
       "      <th>Close</th>\n",
       "      <th>...</th>\n",
       "      <th>Low</th>\n",
       "      <th>Close</th>\n",
       "      <th>Adj Close</th>\n",
       "      <th>Volume</th>\n",
       "      <th>Open</th>\n",
       "      <th>High</th>\n",
       "      <th>Low</th>\n",
       "      <th>Close</th>\n",
       "      <th>Adj Close</th>\n",
       "      <th>Volume</th>\n",
       "    </tr>\n",
       "    <tr>\n",
       "      <th>Date</th>\n",
       "      <th></th>\n",
       "      <th></th>\n",
       "      <th></th>\n",
       "      <th></th>\n",
       "      <th></th>\n",
       "      <th></th>\n",
       "      <th></th>\n",
       "      <th></th>\n",
       "      <th></th>\n",
       "      <th></th>\n",
       "      <th></th>\n",
       "      <th></th>\n",
       "      <th></th>\n",
       "      <th></th>\n",
       "      <th></th>\n",
       "      <th></th>\n",
       "      <th></th>\n",
       "      <th></th>\n",
       "      <th></th>\n",
       "      <th></th>\n",
       "      <th></th>\n",
       "    </tr>\n",
       "  </thead>\n",
       "  <tbody>\n",
       "    <tr>\n",
       "      <th>2021-11-01</th>\n",
       "      <td>148.990005</td>\n",
       "      <td>149.699997</td>\n",
       "      <td>147.800003</td>\n",
       "      <td>148.960007</td>\n",
       "      <td>147.062637</td>\n",
       "      <td>74588300</td>\n",
       "      <td>331.359985</td>\n",
       "      <td>331.489990</td>\n",
       "      <td>326.369995</td>\n",
       "      <td>329.369995</td>\n",
       "      <td>...</td>\n",
       "      <td>87.959999</td>\n",
       "      <td>88.550003</td>\n",
       "      <td>83.818245</td>\n",
       "      <td>4588800</td>\n",
       "      <td>357.000000</td>\n",
       "      <td>360.799988</td>\n",
       "      <td>352.920013</td>\n",
       "      <td>354.850006</td>\n",
       "      <td>342.598907</td>\n",
       "      <td>777800</td>\n",
       "    </tr>\n",
       "    <tr>\n",
       "      <th>2021-11-02</th>\n",
       "      <td>148.660004</td>\n",
       "      <td>151.570007</td>\n",
       "      <td>148.649994</td>\n",
       "      <td>150.020004</td>\n",
       "      <td>148.109131</td>\n",
       "      <td>69122000</td>\n",
       "      <td>330.309998</td>\n",
       "      <td>333.450012</td>\n",
       "      <td>330.000000</td>\n",
       "      <td>333.130005</td>\n",
       "      <td>...</td>\n",
       "      <td>87.199997</td>\n",
       "      <td>87.800003</td>\n",
       "      <td>83.108330</td>\n",
       "      <td>4554100</td>\n",
       "      <td>357.000000</td>\n",
       "      <td>358.269989</td>\n",
       "      <td>350.339996</td>\n",
       "      <td>353.200012</td>\n",
       "      <td>341.005890</td>\n",
       "      <td>933300</td>\n",
       "    </tr>\n",
       "    <tr>\n",
       "      <th>2021-11-03</th>\n",
       "      <td>150.389999</td>\n",
       "      <td>151.970001</td>\n",
       "      <td>149.820007</td>\n",
       "      <td>151.490005</td>\n",
       "      <td>149.560394</td>\n",
       "      <td>54511500</td>\n",
       "      <td>333.899994</td>\n",
       "      <td>334.899994</td>\n",
       "      <td>330.649994</td>\n",
       "      <td>334.000000</td>\n",
       "      <td>...</td>\n",
       "      <td>86.949997</td>\n",
       "      <td>88.669998</td>\n",
       "      <td>83.931816</td>\n",
       "      <td>4148500</td>\n",
       "      <td>350.019989</td>\n",
       "      <td>354.750000</td>\n",
       "      <td>349.500000</td>\n",
       "      <td>354.109985</td>\n",
       "      <td>341.884491</td>\n",
       "      <td>675300</td>\n",
       "    </tr>\n",
       "    <tr>\n",
       "      <th>2021-11-04</th>\n",
       "      <td>151.580002</td>\n",
       "      <td>152.429993</td>\n",
       "      <td>150.639999</td>\n",
       "      <td>150.960007</td>\n",
       "      <td>149.037140</td>\n",
       "      <td>60394600</td>\n",
       "      <td>332.890015</td>\n",
       "      <td>336.540009</td>\n",
       "      <td>329.510010</td>\n",
       "      <td>336.440002</td>\n",
       "      <td>...</td>\n",
       "      <td>87.760002</td>\n",
       "      <td>88.059998</td>\n",
       "      <td>83.354424</td>\n",
       "      <td>3711700</td>\n",
       "      <td>353.269989</td>\n",
       "      <td>359.540009</td>\n",
       "      <td>353.269989</td>\n",
       "      <td>356.660004</td>\n",
       "      <td>344.346436</td>\n",
       "      <td>988900</td>\n",
       "    </tr>\n",
       "    <tr>\n",
       "      <th>2021-11-05</th>\n",
       "      <td>151.889999</td>\n",
       "      <td>152.199997</td>\n",
       "      <td>150.059998</td>\n",
       "      <td>151.279999</td>\n",
       "      <td>149.571045</td>\n",
       "      <td>65463900</td>\n",
       "      <td>338.510010</td>\n",
       "      <td>338.790009</td>\n",
       "      <td>334.420013</td>\n",
       "      <td>336.059998</td>\n",
       "      <td>...</td>\n",
       "      <td>89.059998</td>\n",
       "      <td>91.180000</td>\n",
       "      <td>86.307693</td>\n",
       "      <td>4330400</td>\n",
       "      <td>361.000000</td>\n",
       "      <td>366.540009</td>\n",
       "      <td>358.529999</td>\n",
       "      <td>364.369995</td>\n",
       "      <td>351.790253</td>\n",
       "      <td>1105800</td>\n",
       "    </tr>\n",
       "  </tbody>\n",
       "</table>\n",
       "<p>5 rows × 108 columns</p>\n",
       "</div>"
      ],
      "text/plain": [
       "                  Open        High         Low       Close   Adj Close  \\\n",
       "Date                                                                     \n",
       "2021-11-01  148.990005  149.699997  147.800003  148.960007  147.062637   \n",
       "2021-11-02  148.660004  151.570007  148.649994  150.020004  148.109131   \n",
       "2021-11-03  150.389999  151.970001  149.820007  151.490005  149.560394   \n",
       "2021-11-04  151.580002  152.429993  150.639999  150.960007  149.037140   \n",
       "2021-11-05  151.889999  152.199997  150.059998  151.279999  149.571045   \n",
       "\n",
       "              Volume        Open        High         Low       Close  ...  \\\n",
       "Date                                                                  ...   \n",
       "2021-11-01  74588300  331.359985  331.489990  326.369995  329.369995  ...   \n",
       "2021-11-02  69122000  330.309998  333.450012  330.000000  333.130005  ...   \n",
       "2021-11-03  54511500  333.899994  334.899994  330.649994  334.000000  ...   \n",
       "2021-11-04  60394600  332.890015  336.540009  329.510010  336.440002  ...   \n",
       "2021-11-05  65463900  338.510010  338.790009  334.420013  336.059998  ...   \n",
       "\n",
       "                  Low      Close  Adj Close   Volume        Open        High  \\\n",
       "Date                                                                           \n",
       "2021-11-01  87.959999  88.550003  83.818245  4588800  357.000000  360.799988   \n",
       "2021-11-02  87.199997  87.800003  83.108330  4554100  357.000000  358.269989   \n",
       "2021-11-03  86.949997  88.669998  83.931816  4148500  350.019989  354.750000   \n",
       "2021-11-04  87.760002  88.059998  83.354424  3711700  353.269989  359.540009   \n",
       "2021-11-05  89.059998  91.180000  86.307693  4330400  361.000000  366.540009   \n",
       "\n",
       "                   Low       Close   Adj Close   Volume  \n",
       "Date                                                     \n",
       "2021-11-01  352.920013  354.850006  342.598907   777800  \n",
       "2021-11-02  350.339996  353.200012  341.005890   933300  \n",
       "2021-11-03  349.500000  354.109985  341.884491   675300  \n",
       "2021-11-04  353.269989  356.660004  344.346436   988900  \n",
       "2021-11-05  358.529999  364.369995  351.790253  1105800  \n",
       "\n",
       "[5 rows x 108 columns]"
      ]
     },
     "execution_count": 20,
     "metadata": {},
     "output_type": "execute_result"
    }
   ],
   "source": [
    "# Combine all stocks into a single Dataframe \n",
    "custom_portfolio_df = pd.concat([data_AAPL,data_MSFT,data_GOOG,data_JNJ,data_PFE,data_UNH,data_JPM,data_BAC,data_V,data_AMZN,data_NKE,data_DIS,data_XOM,data_FSLR,data_NEE,data_LMT,data_RTX,data_NOC], axis=\"columns\", join=\"inner\")\n",
    "custom_portfolio_df.head()"
   ]
  },
  {
   "cell_type": "code",
   "execution_count": 21,
   "id": "5ad1cadd",
   "metadata": {},
   "outputs": [
    {
     "data": {
      "text/html": [
       "<div>\n",
       "<style scoped>\n",
       "    .dataframe tbody tr th:only-of-type {\n",
       "        vertical-align: middle;\n",
       "    }\n",
       "\n",
       "    .dataframe tbody tr th {\n",
       "        vertical-align: top;\n",
       "    }\n",
       "\n",
       "    .dataframe thead th {\n",
       "        text-align: right;\n",
       "    }\n",
       "</style>\n",
       "<table border=\"1\" class=\"dataframe\">\n",
       "  <thead>\n",
       "    <tr style=\"text-align: right;\">\n",
       "      <th></th>\n",
       "      <th>AAPL</th>\n",
       "      <th>MSFT</th>\n",
       "      <th>GOOG</th>\n",
       "      <th>JNJ</th>\n",
       "      <th>PFE</th>\n",
       "      <th>UNH</th>\n",
       "      <th>JPM</th>\n",
       "      <th>BAC</th>\n",
       "      <th>V</th>\n",
       "      <th>AMZN</th>\n",
       "      <th>NKE</th>\n",
       "      <th>DIS</th>\n",
       "      <th>XOM</th>\n",
       "      <th>FSLR</th>\n",
       "      <th>NEE</th>\n",
       "      <th>LMT</th>\n",
       "      <th>RTX</th>\n",
       "      <th>NOC</th>\n",
       "    </tr>\n",
       "    <tr>\n",
       "      <th>Date</th>\n",
       "      <th></th>\n",
       "      <th></th>\n",
       "      <th></th>\n",
       "      <th></th>\n",
       "      <th></th>\n",
       "      <th></th>\n",
       "      <th></th>\n",
       "      <th></th>\n",
       "      <th></th>\n",
       "      <th></th>\n",
       "      <th></th>\n",
       "      <th></th>\n",
       "      <th></th>\n",
       "      <th></th>\n",
       "      <th></th>\n",
       "      <th></th>\n",
       "      <th></th>\n",
       "      <th></th>\n",
       "    </tr>\n",
       "  </thead>\n",
       "  <tbody>\n",
       "    <tr>\n",
       "      <th>2021-11-01</th>\n",
       "      <td>148.960007</td>\n",
       "      <td>329.369995</td>\n",
       "      <td>143.774002</td>\n",
       "      <td>163.020004</td>\n",
       "      <td>43.639999</td>\n",
       "      <td>454.109985</td>\n",
       "      <td>169.800003</td>\n",
       "      <td>47.849998</td>\n",
       "      <td>212.460007</td>\n",
       "      <td>165.905502</td>\n",
       "      <td>166.330002</td>\n",
       "      <td>170.190002</td>\n",
       "      <td>65.629997</td>\n",
       "      <td>121.139999</td>\n",
       "      <td>85.589996</td>\n",
       "      <td>330.929993</td>\n",
       "      <td>88.550003</td>\n",
       "      <td>354.850006</td>\n",
       "    </tr>\n",
       "    <tr>\n",
       "      <th>2021-11-02</th>\n",
       "      <td>150.020004</td>\n",
       "      <td>333.130005</td>\n",
       "      <td>145.863007</td>\n",
       "      <td>165.589996</td>\n",
       "      <td>45.450001</td>\n",
       "      <td>452.040009</td>\n",
       "      <td>170.470001</td>\n",
       "      <td>47.880001</td>\n",
       "      <td>209.139999</td>\n",
       "      <td>165.637497</td>\n",
       "      <td>167.830002</td>\n",
       "      <td>169.830002</td>\n",
       "      <td>64.820000</td>\n",
       "      <td>118.650002</td>\n",
       "      <td>85.419998</td>\n",
       "      <td>326.309998</td>\n",
       "      <td>87.800003</td>\n",
       "      <td>353.200012</td>\n",
       "    </tr>\n",
       "    <tr>\n",
       "      <th>2021-11-03</th>\n",
       "      <td>151.490005</td>\n",
       "      <td>334.000000</td>\n",
       "      <td>146.789993</td>\n",
       "      <td>165.059998</td>\n",
       "      <td>44.820000</td>\n",
       "      <td>457.329987</td>\n",
       "      <td>170.529999</td>\n",
       "      <td>48.369999</td>\n",
       "      <td>208.100006</td>\n",
       "      <td>169.199997</td>\n",
       "      <td>172.500000</td>\n",
       "      <td>170.080002</td>\n",
       "      <td>63.930000</td>\n",
       "      <td>116.830002</td>\n",
       "      <td>85.239998</td>\n",
       "      <td>331.350006</td>\n",
       "      <td>88.669998</td>\n",
       "      <td>354.109985</td>\n",
       "    </tr>\n",
       "    <tr>\n",
       "      <th>2021-11-04</th>\n",
       "      <td>150.960007</td>\n",
       "      <td>336.440002</td>\n",
       "      <td>148.682999</td>\n",
       "      <td>164.600006</td>\n",
       "      <td>43.849998</td>\n",
       "      <td>456.760010</td>\n",
       "      <td>168.289993</td>\n",
       "      <td>47.330002</td>\n",
       "      <td>208.779999</td>\n",
       "      <td>173.850006</td>\n",
       "      <td>175.440002</td>\n",
       "      <td>170.279999</td>\n",
       "      <td>64.410004</td>\n",
       "      <td>116.660004</td>\n",
       "      <td>84.760002</td>\n",
       "      <td>335.500000</td>\n",
       "      <td>88.059998</td>\n",
       "      <td>356.660004</td>\n",
       "    </tr>\n",
       "    <tr>\n",
       "      <th>2021-11-05</th>\n",
       "      <td>151.279999</td>\n",
       "      <td>336.059998</td>\n",
       "      <td>149.240997</td>\n",
       "      <td>163.429993</td>\n",
       "      <td>48.610001</td>\n",
       "      <td>455.809998</td>\n",
       "      <td>168.050003</td>\n",
       "      <td>46.970001</td>\n",
       "      <td>216.669998</td>\n",
       "      <td>175.949493</td>\n",
       "      <td>177.509995</td>\n",
       "      <td>175.630005</td>\n",
       "      <td>65.019997</td>\n",
       "      <td>116.309998</td>\n",
       "      <td>85.529999</td>\n",
       "      <td>339.890015</td>\n",
       "      <td>91.180000</td>\n",
       "      <td>364.369995</td>\n",
       "    </tr>\n",
       "    <tr>\n",
       "      <th>...</th>\n",
       "      <td>...</td>\n",
       "      <td>...</td>\n",
       "      <td>...</td>\n",
       "      <td>...</td>\n",
       "      <td>...</td>\n",
       "      <td>...</td>\n",
       "      <td>...</td>\n",
       "      <td>...</td>\n",
       "      <td>...</td>\n",
       "      <td>...</td>\n",
       "      <td>...</td>\n",
       "      <td>...</td>\n",
       "      <td>...</td>\n",
       "      <td>...</td>\n",
       "      <td>...</td>\n",
       "      <td>...</td>\n",
       "      <td>...</td>\n",
       "      <td>...</td>\n",
       "    </tr>\n",
       "    <tr>\n",
       "      <th>2022-10-24</th>\n",
       "      <td>149.449997</td>\n",
       "      <td>247.250000</td>\n",
       "      <td>102.970001</td>\n",
       "      <td>170.979996</td>\n",
       "      <td>45.540001</td>\n",
       "      <td>541.599976</td>\n",
       "      <td>122.379997</td>\n",
       "      <td>35.070000</td>\n",
       "      <td>190.710007</td>\n",
       "      <td>119.820000</td>\n",
       "      <td>88.010002</td>\n",
       "      <td>101.720001</td>\n",
       "      <td>106.599998</td>\n",
       "      <td>124.570000</td>\n",
       "      <td>73.279999</td>\n",
       "      <td>457.459991</td>\n",
       "      <td>89.730003</td>\n",
       "      <td>525.960022</td>\n",
       "    </tr>\n",
       "    <tr>\n",
       "      <th>2022-10-25</th>\n",
       "      <td>152.339996</td>\n",
       "      <td>250.660004</td>\n",
       "      <td>104.930000</td>\n",
       "      <td>170.710007</td>\n",
       "      <td>45.590000</td>\n",
       "      <td>540.219971</td>\n",
       "      <td>122.699997</td>\n",
       "      <td>35.389999</td>\n",
       "      <td>194.380005</td>\n",
       "      <td>120.599998</td>\n",
       "      <td>91.720001</td>\n",
       "      <td>104.360001</td>\n",
       "      <td>105.879997</td>\n",
       "      <td>127.150002</td>\n",
       "      <td>75.860001</td>\n",
       "      <td>460.149994</td>\n",
       "      <td>88.360001</td>\n",
       "      <td>526.750000</td>\n",
       "    </tr>\n",
       "    <tr>\n",
       "      <th>2022-10-26</th>\n",
       "      <td>149.350006</td>\n",
       "      <td>231.320007</td>\n",
       "      <td>94.820000</td>\n",
       "      <td>172.210007</td>\n",
       "      <td>46.060001</td>\n",
       "      <td>543.169983</td>\n",
       "      <td>124.110001</td>\n",
       "      <td>35.700001</td>\n",
       "      <td>203.330002</td>\n",
       "      <td>115.660004</td>\n",
       "      <td>92.389999</td>\n",
       "      <td>104.629997</td>\n",
       "      <td>107.139999</td>\n",
       "      <td>131.399994</td>\n",
       "      <td>75.599998</td>\n",
       "      <td>462.559998</td>\n",
       "      <td>90.519997</td>\n",
       "      <td>530.989990</td>\n",
       "    </tr>\n",
       "    <tr>\n",
       "      <th>2022-10-27</th>\n",
       "      <td>144.800003</td>\n",
       "      <td>226.750000</td>\n",
       "      <td>92.599998</td>\n",
       "      <td>172.309998</td>\n",
       "      <td>45.740002</td>\n",
       "      <td>541.799988</td>\n",
       "      <td>124.599998</td>\n",
       "      <td>35.869999</td>\n",
       "      <td>204.289993</td>\n",
       "      <td>110.959999</td>\n",
       "      <td>90.540001</td>\n",
       "      <td>104.440002</td>\n",
       "      <td>107.550003</td>\n",
       "      <td>131.179993</td>\n",
       "      <td>75.470001</td>\n",
       "      <td>471.929993</td>\n",
       "      <td>91.800003</td>\n",
       "      <td>535.510010</td>\n",
       "    </tr>\n",
       "    <tr>\n",
       "      <th>2022-10-28</th>\n",
       "      <td>155.740005</td>\n",
       "      <td>235.869995</td>\n",
       "      <td>96.580002</td>\n",
       "      <td>174.869995</td>\n",
       "      <td>47.430000</td>\n",
       "      <td>551.239990</td>\n",
       "      <td>126.080002</td>\n",
       "      <td>36.180000</td>\n",
       "      <td>209.339996</td>\n",
       "      <td>103.410004</td>\n",
       "      <td>93.830002</td>\n",
       "      <td>105.949997</td>\n",
       "      <td>110.699997</td>\n",
       "      <td>132.669998</td>\n",
       "      <td>79.029999</td>\n",
       "      <td>484.869995</td>\n",
       "      <td>95.080002</td>\n",
       "      <td>548.109985</td>\n",
       "    </tr>\n",
       "  </tbody>\n",
       "</table>\n",
       "<p>251 rows × 18 columns</p>\n",
       "</div>"
      ],
      "text/plain": [
       "                  AAPL        MSFT        GOOG         JNJ        PFE  \\\n",
       "Date                                                                    \n",
       "2021-11-01  148.960007  329.369995  143.774002  163.020004  43.639999   \n",
       "2021-11-02  150.020004  333.130005  145.863007  165.589996  45.450001   \n",
       "2021-11-03  151.490005  334.000000  146.789993  165.059998  44.820000   \n",
       "2021-11-04  150.960007  336.440002  148.682999  164.600006  43.849998   \n",
       "2021-11-05  151.279999  336.059998  149.240997  163.429993  48.610001   \n",
       "...                ...         ...         ...         ...        ...   \n",
       "2022-10-24  149.449997  247.250000  102.970001  170.979996  45.540001   \n",
       "2022-10-25  152.339996  250.660004  104.930000  170.710007  45.590000   \n",
       "2022-10-26  149.350006  231.320007   94.820000  172.210007  46.060001   \n",
       "2022-10-27  144.800003  226.750000   92.599998  172.309998  45.740002   \n",
       "2022-10-28  155.740005  235.869995   96.580002  174.869995  47.430000   \n",
       "\n",
       "                   UNH         JPM        BAC           V        AMZN  \\\n",
       "Date                                                                    \n",
       "2021-11-01  454.109985  169.800003  47.849998  212.460007  165.905502   \n",
       "2021-11-02  452.040009  170.470001  47.880001  209.139999  165.637497   \n",
       "2021-11-03  457.329987  170.529999  48.369999  208.100006  169.199997   \n",
       "2021-11-04  456.760010  168.289993  47.330002  208.779999  173.850006   \n",
       "2021-11-05  455.809998  168.050003  46.970001  216.669998  175.949493   \n",
       "...                ...         ...        ...         ...         ...   \n",
       "2022-10-24  541.599976  122.379997  35.070000  190.710007  119.820000   \n",
       "2022-10-25  540.219971  122.699997  35.389999  194.380005  120.599998   \n",
       "2022-10-26  543.169983  124.110001  35.700001  203.330002  115.660004   \n",
       "2022-10-27  541.799988  124.599998  35.869999  204.289993  110.959999   \n",
       "2022-10-28  551.239990  126.080002  36.180000  209.339996  103.410004   \n",
       "\n",
       "                   NKE         DIS         XOM        FSLR        NEE  \\\n",
       "Date                                                                    \n",
       "2021-11-01  166.330002  170.190002   65.629997  121.139999  85.589996   \n",
       "2021-11-02  167.830002  169.830002   64.820000  118.650002  85.419998   \n",
       "2021-11-03  172.500000  170.080002   63.930000  116.830002  85.239998   \n",
       "2021-11-04  175.440002  170.279999   64.410004  116.660004  84.760002   \n",
       "2021-11-05  177.509995  175.630005   65.019997  116.309998  85.529999   \n",
       "...                ...         ...         ...         ...        ...   \n",
       "2022-10-24   88.010002  101.720001  106.599998  124.570000  73.279999   \n",
       "2022-10-25   91.720001  104.360001  105.879997  127.150002  75.860001   \n",
       "2022-10-26   92.389999  104.629997  107.139999  131.399994  75.599998   \n",
       "2022-10-27   90.540001  104.440002  107.550003  131.179993  75.470001   \n",
       "2022-10-28   93.830002  105.949997  110.699997  132.669998  79.029999   \n",
       "\n",
       "                   LMT        RTX         NOC  \n",
       "Date                                           \n",
       "2021-11-01  330.929993  88.550003  354.850006  \n",
       "2021-11-02  326.309998  87.800003  353.200012  \n",
       "2021-11-03  331.350006  88.669998  354.109985  \n",
       "2021-11-04  335.500000  88.059998  356.660004  \n",
       "2021-11-05  339.890015  91.180000  364.369995  \n",
       "...                ...        ...         ...  \n",
       "2022-10-24  457.459991  89.730003  525.960022  \n",
       "2022-10-25  460.149994  88.360001  526.750000  \n",
       "2022-10-26  462.559998  90.519997  530.989990  \n",
       "2022-10-27  471.929993  91.800003  535.510010  \n",
       "2022-10-28  484.869995  95.080002  548.109985  \n",
       "\n",
       "[251 rows x 18 columns]"
      ]
     },
     "execution_count": 21,
     "metadata": {},
     "output_type": "execute_result"
    }
   ],
   "source": [
    "small_df=custom_portfolio_df['Close']\n",
    "small_df.columns=['AAPL','MSFT', 'GOOG', 'JNJ','PFE','UNH','JPM','BAC','V','AMZN','NKE','DIS','XOM','FSLR','NEE','LMT','RTX','NOC']\n",
    "small_df"
   ]
  },
  {
   "cell_type": "markdown",
   "id": "1fc284ec",
   "metadata": {},
   "source": [
    "### Technology Dataframe"
   ]
  },
  {
   "cell_type": "code",
   "execution_count": 22,
   "id": "113cdc10",
   "metadata": {},
   "outputs": [
    {
     "data": {
      "text/html": [
       "<div>\n",
       "<style scoped>\n",
       "    .dataframe tbody tr th:only-of-type {\n",
       "        vertical-align: middle;\n",
       "    }\n",
       "\n",
       "    .dataframe tbody tr th {\n",
       "        vertical-align: top;\n",
       "    }\n",
       "\n",
       "    .dataframe thead th {\n",
       "        text-align: right;\n",
       "    }\n",
       "</style>\n",
       "<table border=\"1\" class=\"dataframe\">\n",
       "  <thead>\n",
       "    <tr style=\"text-align: right;\">\n",
       "      <th></th>\n",
       "      <th>AAPL</th>\n",
       "      <th>MSFT</th>\n",
       "      <th>GOOG</th>\n",
       "    </tr>\n",
       "    <tr>\n",
       "      <th>Date</th>\n",
       "      <th></th>\n",
       "      <th></th>\n",
       "      <th></th>\n",
       "    </tr>\n",
       "  </thead>\n",
       "  <tbody>\n",
       "    <tr>\n",
       "      <th>2021-11-01</th>\n",
       "      <td>148.960007</td>\n",
       "      <td>329.369995</td>\n",
       "      <td>143.774002</td>\n",
       "    </tr>\n",
       "    <tr>\n",
       "      <th>2021-11-02</th>\n",
       "      <td>150.020004</td>\n",
       "      <td>333.130005</td>\n",
       "      <td>145.863007</td>\n",
       "    </tr>\n",
       "    <tr>\n",
       "      <th>2021-11-03</th>\n",
       "      <td>151.490005</td>\n",
       "      <td>334.000000</td>\n",
       "      <td>146.789993</td>\n",
       "    </tr>\n",
       "    <tr>\n",
       "      <th>2021-11-04</th>\n",
       "      <td>150.960007</td>\n",
       "      <td>336.440002</td>\n",
       "      <td>148.682999</td>\n",
       "    </tr>\n",
       "    <tr>\n",
       "      <th>2021-11-05</th>\n",
       "      <td>151.279999</td>\n",
       "      <td>336.059998</td>\n",
       "      <td>149.240997</td>\n",
       "    </tr>\n",
       "    <tr>\n",
       "      <th>...</th>\n",
       "      <td>...</td>\n",
       "      <td>...</td>\n",
       "      <td>...</td>\n",
       "    </tr>\n",
       "    <tr>\n",
       "      <th>2022-10-24</th>\n",
       "      <td>149.449997</td>\n",
       "      <td>247.250000</td>\n",
       "      <td>102.970001</td>\n",
       "    </tr>\n",
       "    <tr>\n",
       "      <th>2022-10-25</th>\n",
       "      <td>152.339996</td>\n",
       "      <td>250.660004</td>\n",
       "      <td>104.930000</td>\n",
       "    </tr>\n",
       "    <tr>\n",
       "      <th>2022-10-26</th>\n",
       "      <td>149.350006</td>\n",
       "      <td>231.320007</td>\n",
       "      <td>94.820000</td>\n",
       "    </tr>\n",
       "    <tr>\n",
       "      <th>2022-10-27</th>\n",
       "      <td>144.800003</td>\n",
       "      <td>226.750000</td>\n",
       "      <td>92.599998</td>\n",
       "    </tr>\n",
       "    <tr>\n",
       "      <th>2022-10-28</th>\n",
       "      <td>155.740005</td>\n",
       "      <td>235.869995</td>\n",
       "      <td>96.580002</td>\n",
       "    </tr>\n",
       "  </tbody>\n",
       "</table>\n",
       "<p>251 rows × 3 columns</p>\n",
       "</div>"
      ],
      "text/plain": [
       "                  AAPL        MSFT        GOOG\n",
       "Date                                          \n",
       "2021-11-01  148.960007  329.369995  143.774002\n",
       "2021-11-02  150.020004  333.130005  145.863007\n",
       "2021-11-03  151.490005  334.000000  146.789993\n",
       "2021-11-04  150.960007  336.440002  148.682999\n",
       "2021-11-05  151.279999  336.059998  149.240997\n",
       "...                ...         ...         ...\n",
       "2022-10-24  149.449997  247.250000  102.970001\n",
       "2022-10-25  152.339996  250.660004  104.930000\n",
       "2022-10-26  149.350006  231.320007   94.820000\n",
       "2022-10-27  144.800003  226.750000   92.599998\n",
       "2022-10-28  155.740005  235.869995   96.580002\n",
       "\n",
       "[251 rows x 3 columns]"
      ]
     },
     "execution_count": 22,
     "metadata": {},
     "output_type": "execute_result"
    }
   ],
   "source": [
    "tech_df=small_df[['AAPL','MSFT','GOOG']]\n",
    "tech_df"
   ]
  },
  {
   "cell_type": "markdown",
   "id": "207a644b",
   "metadata": {},
   "source": [
    "### Healthcare Dataframe"
   ]
  },
  {
   "cell_type": "code",
   "execution_count": 23,
   "id": "4d62722b",
   "metadata": {},
   "outputs": [
    {
     "data": {
      "text/html": [
       "<div>\n",
       "<style scoped>\n",
       "    .dataframe tbody tr th:only-of-type {\n",
       "        vertical-align: middle;\n",
       "    }\n",
       "\n",
       "    .dataframe tbody tr th {\n",
       "        vertical-align: top;\n",
       "    }\n",
       "\n",
       "    .dataframe thead th {\n",
       "        text-align: right;\n",
       "    }\n",
       "</style>\n",
       "<table border=\"1\" class=\"dataframe\">\n",
       "  <thead>\n",
       "    <tr style=\"text-align: right;\">\n",
       "      <th></th>\n",
       "      <th>JNJ</th>\n",
       "      <th>PFE</th>\n",
       "      <th>UNH</th>\n",
       "    </tr>\n",
       "    <tr>\n",
       "      <th>Date</th>\n",
       "      <th></th>\n",
       "      <th></th>\n",
       "      <th></th>\n",
       "    </tr>\n",
       "  </thead>\n",
       "  <tbody>\n",
       "    <tr>\n",
       "      <th>2021-11-01</th>\n",
       "      <td>163.020004</td>\n",
       "      <td>43.639999</td>\n",
       "      <td>454.109985</td>\n",
       "    </tr>\n",
       "    <tr>\n",
       "      <th>2021-11-02</th>\n",
       "      <td>165.589996</td>\n",
       "      <td>45.450001</td>\n",
       "      <td>452.040009</td>\n",
       "    </tr>\n",
       "    <tr>\n",
       "      <th>2021-11-03</th>\n",
       "      <td>165.059998</td>\n",
       "      <td>44.820000</td>\n",
       "      <td>457.329987</td>\n",
       "    </tr>\n",
       "    <tr>\n",
       "      <th>2021-11-04</th>\n",
       "      <td>164.600006</td>\n",
       "      <td>43.849998</td>\n",
       "      <td>456.760010</td>\n",
       "    </tr>\n",
       "    <tr>\n",
       "      <th>2021-11-05</th>\n",
       "      <td>163.429993</td>\n",
       "      <td>48.610001</td>\n",
       "      <td>455.809998</td>\n",
       "    </tr>\n",
       "    <tr>\n",
       "      <th>...</th>\n",
       "      <td>...</td>\n",
       "      <td>...</td>\n",
       "      <td>...</td>\n",
       "    </tr>\n",
       "    <tr>\n",
       "      <th>2022-10-24</th>\n",
       "      <td>170.979996</td>\n",
       "      <td>45.540001</td>\n",
       "      <td>541.599976</td>\n",
       "    </tr>\n",
       "    <tr>\n",
       "      <th>2022-10-25</th>\n",
       "      <td>170.710007</td>\n",
       "      <td>45.590000</td>\n",
       "      <td>540.219971</td>\n",
       "    </tr>\n",
       "    <tr>\n",
       "      <th>2022-10-26</th>\n",
       "      <td>172.210007</td>\n",
       "      <td>46.060001</td>\n",
       "      <td>543.169983</td>\n",
       "    </tr>\n",
       "    <tr>\n",
       "      <th>2022-10-27</th>\n",
       "      <td>172.309998</td>\n",
       "      <td>45.740002</td>\n",
       "      <td>541.799988</td>\n",
       "    </tr>\n",
       "    <tr>\n",
       "      <th>2022-10-28</th>\n",
       "      <td>174.869995</td>\n",
       "      <td>47.430000</td>\n",
       "      <td>551.239990</td>\n",
       "    </tr>\n",
       "  </tbody>\n",
       "</table>\n",
       "<p>251 rows × 3 columns</p>\n",
       "</div>"
      ],
      "text/plain": [
       "                   JNJ        PFE         UNH\n",
       "Date                                         \n",
       "2021-11-01  163.020004  43.639999  454.109985\n",
       "2021-11-02  165.589996  45.450001  452.040009\n",
       "2021-11-03  165.059998  44.820000  457.329987\n",
       "2021-11-04  164.600006  43.849998  456.760010\n",
       "2021-11-05  163.429993  48.610001  455.809998\n",
       "...                ...        ...         ...\n",
       "2022-10-24  170.979996  45.540001  541.599976\n",
       "2022-10-25  170.710007  45.590000  540.219971\n",
       "2022-10-26  172.210007  46.060001  543.169983\n",
       "2022-10-27  172.309998  45.740002  541.799988\n",
       "2022-10-28  174.869995  47.430000  551.239990\n",
       "\n",
       "[251 rows x 3 columns]"
      ]
     },
     "execution_count": 23,
     "metadata": {},
     "output_type": "execute_result"
    }
   ],
   "source": [
    "health_df=small_df[['JNJ','PFE','UNH']]\n",
    "health_df"
   ]
  },
  {
   "cell_type": "markdown",
   "id": "47efb6b4",
   "metadata": {},
   "source": [
    "### Financials Dataframe"
   ]
  },
  {
   "cell_type": "code",
   "execution_count": 24,
   "id": "b573adae",
   "metadata": {},
   "outputs": [
    {
     "data": {
      "text/html": [
       "<div>\n",
       "<style scoped>\n",
       "    .dataframe tbody tr th:only-of-type {\n",
       "        vertical-align: middle;\n",
       "    }\n",
       "\n",
       "    .dataframe tbody tr th {\n",
       "        vertical-align: top;\n",
       "    }\n",
       "\n",
       "    .dataframe thead th {\n",
       "        text-align: right;\n",
       "    }\n",
       "</style>\n",
       "<table border=\"1\" class=\"dataframe\">\n",
       "  <thead>\n",
       "    <tr style=\"text-align: right;\">\n",
       "      <th></th>\n",
       "      <th>JPM</th>\n",
       "      <th>BAC</th>\n",
       "      <th>V</th>\n",
       "    </tr>\n",
       "    <tr>\n",
       "      <th>Date</th>\n",
       "      <th></th>\n",
       "      <th></th>\n",
       "      <th></th>\n",
       "    </tr>\n",
       "  </thead>\n",
       "  <tbody>\n",
       "    <tr>\n",
       "      <th>2021-11-01</th>\n",
       "      <td>169.800003</td>\n",
       "      <td>47.849998</td>\n",
       "      <td>212.460007</td>\n",
       "    </tr>\n",
       "    <tr>\n",
       "      <th>2021-11-02</th>\n",
       "      <td>170.470001</td>\n",
       "      <td>47.880001</td>\n",
       "      <td>209.139999</td>\n",
       "    </tr>\n",
       "    <tr>\n",
       "      <th>2021-11-03</th>\n",
       "      <td>170.529999</td>\n",
       "      <td>48.369999</td>\n",
       "      <td>208.100006</td>\n",
       "    </tr>\n",
       "    <tr>\n",
       "      <th>2021-11-04</th>\n",
       "      <td>168.289993</td>\n",
       "      <td>47.330002</td>\n",
       "      <td>208.779999</td>\n",
       "    </tr>\n",
       "    <tr>\n",
       "      <th>2021-11-05</th>\n",
       "      <td>168.050003</td>\n",
       "      <td>46.970001</td>\n",
       "      <td>216.669998</td>\n",
       "    </tr>\n",
       "    <tr>\n",
       "      <th>...</th>\n",
       "      <td>...</td>\n",
       "      <td>...</td>\n",
       "      <td>...</td>\n",
       "    </tr>\n",
       "    <tr>\n",
       "      <th>2022-10-24</th>\n",
       "      <td>122.379997</td>\n",
       "      <td>35.070000</td>\n",
       "      <td>190.710007</td>\n",
       "    </tr>\n",
       "    <tr>\n",
       "      <th>2022-10-25</th>\n",
       "      <td>122.699997</td>\n",
       "      <td>35.389999</td>\n",
       "      <td>194.380005</td>\n",
       "    </tr>\n",
       "    <tr>\n",
       "      <th>2022-10-26</th>\n",
       "      <td>124.110001</td>\n",
       "      <td>35.700001</td>\n",
       "      <td>203.330002</td>\n",
       "    </tr>\n",
       "    <tr>\n",
       "      <th>2022-10-27</th>\n",
       "      <td>124.599998</td>\n",
       "      <td>35.869999</td>\n",
       "      <td>204.289993</td>\n",
       "    </tr>\n",
       "    <tr>\n",
       "      <th>2022-10-28</th>\n",
       "      <td>126.080002</td>\n",
       "      <td>36.180000</td>\n",
       "      <td>209.339996</td>\n",
       "    </tr>\n",
       "  </tbody>\n",
       "</table>\n",
       "<p>251 rows × 3 columns</p>\n",
       "</div>"
      ],
      "text/plain": [
       "                   JPM        BAC           V\n",
       "Date                                         \n",
       "2021-11-01  169.800003  47.849998  212.460007\n",
       "2021-11-02  170.470001  47.880001  209.139999\n",
       "2021-11-03  170.529999  48.369999  208.100006\n",
       "2021-11-04  168.289993  47.330002  208.779999\n",
       "2021-11-05  168.050003  46.970001  216.669998\n",
       "...                ...        ...         ...\n",
       "2022-10-24  122.379997  35.070000  190.710007\n",
       "2022-10-25  122.699997  35.389999  194.380005\n",
       "2022-10-26  124.110001  35.700001  203.330002\n",
       "2022-10-27  124.599998  35.869999  204.289993\n",
       "2022-10-28  126.080002  36.180000  209.339996\n",
       "\n",
       "[251 rows x 3 columns]"
      ]
     },
     "execution_count": 24,
     "metadata": {},
     "output_type": "execute_result"
    }
   ],
   "source": [
    "finance_df=small_df[['JPM','BAC','V']]\n",
    "finance_df"
   ]
  },
  {
   "cell_type": "markdown",
   "id": "976f8d9d",
   "metadata": {},
   "source": [
    "### Consumer Discretionary Dataframe"
   ]
  },
  {
   "cell_type": "code",
   "execution_count": 25,
   "id": "fad14ba4",
   "metadata": {},
   "outputs": [
    {
     "data": {
      "text/html": [
       "<div>\n",
       "<style scoped>\n",
       "    .dataframe tbody tr th:only-of-type {\n",
       "        vertical-align: middle;\n",
       "    }\n",
       "\n",
       "    .dataframe tbody tr th {\n",
       "        vertical-align: top;\n",
       "    }\n",
       "\n",
       "    .dataframe thead th {\n",
       "        text-align: right;\n",
       "    }\n",
       "</style>\n",
       "<table border=\"1\" class=\"dataframe\">\n",
       "  <thead>\n",
       "    <tr style=\"text-align: right;\">\n",
       "      <th></th>\n",
       "      <th>AMZN</th>\n",
       "      <th>NKE</th>\n",
       "      <th>DIS</th>\n",
       "    </tr>\n",
       "    <tr>\n",
       "      <th>Date</th>\n",
       "      <th></th>\n",
       "      <th></th>\n",
       "      <th></th>\n",
       "    </tr>\n",
       "  </thead>\n",
       "  <tbody>\n",
       "    <tr>\n",
       "      <th>2021-11-01</th>\n",
       "      <td>165.905502</td>\n",
       "      <td>166.330002</td>\n",
       "      <td>170.190002</td>\n",
       "    </tr>\n",
       "    <tr>\n",
       "      <th>2021-11-02</th>\n",
       "      <td>165.637497</td>\n",
       "      <td>167.830002</td>\n",
       "      <td>169.830002</td>\n",
       "    </tr>\n",
       "    <tr>\n",
       "      <th>2021-11-03</th>\n",
       "      <td>169.199997</td>\n",
       "      <td>172.500000</td>\n",
       "      <td>170.080002</td>\n",
       "    </tr>\n",
       "    <tr>\n",
       "      <th>2021-11-04</th>\n",
       "      <td>173.850006</td>\n",
       "      <td>175.440002</td>\n",
       "      <td>170.279999</td>\n",
       "    </tr>\n",
       "    <tr>\n",
       "      <th>2021-11-05</th>\n",
       "      <td>175.949493</td>\n",
       "      <td>177.509995</td>\n",
       "      <td>175.630005</td>\n",
       "    </tr>\n",
       "    <tr>\n",
       "      <th>...</th>\n",
       "      <td>...</td>\n",
       "      <td>...</td>\n",
       "      <td>...</td>\n",
       "    </tr>\n",
       "    <tr>\n",
       "      <th>2022-10-24</th>\n",
       "      <td>119.820000</td>\n",
       "      <td>88.010002</td>\n",
       "      <td>101.720001</td>\n",
       "    </tr>\n",
       "    <tr>\n",
       "      <th>2022-10-25</th>\n",
       "      <td>120.599998</td>\n",
       "      <td>91.720001</td>\n",
       "      <td>104.360001</td>\n",
       "    </tr>\n",
       "    <tr>\n",
       "      <th>2022-10-26</th>\n",
       "      <td>115.660004</td>\n",
       "      <td>92.389999</td>\n",
       "      <td>104.629997</td>\n",
       "    </tr>\n",
       "    <tr>\n",
       "      <th>2022-10-27</th>\n",
       "      <td>110.959999</td>\n",
       "      <td>90.540001</td>\n",
       "      <td>104.440002</td>\n",
       "    </tr>\n",
       "    <tr>\n",
       "      <th>2022-10-28</th>\n",
       "      <td>103.410004</td>\n",
       "      <td>93.830002</td>\n",
       "      <td>105.949997</td>\n",
       "    </tr>\n",
       "  </tbody>\n",
       "</table>\n",
       "<p>251 rows × 3 columns</p>\n",
       "</div>"
      ],
      "text/plain": [
       "                  AMZN         NKE         DIS\n",
       "Date                                          \n",
       "2021-11-01  165.905502  166.330002  170.190002\n",
       "2021-11-02  165.637497  167.830002  169.830002\n",
       "2021-11-03  169.199997  172.500000  170.080002\n",
       "2021-11-04  173.850006  175.440002  170.279999\n",
       "2021-11-05  175.949493  177.509995  175.630005\n",
       "...                ...         ...         ...\n",
       "2022-10-24  119.820000   88.010002  101.720001\n",
       "2022-10-25  120.599998   91.720001  104.360001\n",
       "2022-10-26  115.660004   92.389999  104.629997\n",
       "2022-10-27  110.959999   90.540001  104.440002\n",
       "2022-10-28  103.410004   93.830002  105.949997\n",
       "\n",
       "[251 rows x 3 columns]"
      ]
     },
     "execution_count": 25,
     "metadata": {},
     "output_type": "execute_result"
    }
   ],
   "source": [
    "consumer_df=small_df[['AMZN','NKE','DIS']]\n",
    "consumer_df"
   ]
  },
  {
   "cell_type": "markdown",
   "id": "1c98df3c",
   "metadata": {},
   "source": [
    "### Energy Dataframe "
   ]
  },
  {
   "cell_type": "code",
   "execution_count": 26,
   "id": "8a2ccb20",
   "metadata": {},
   "outputs": [
    {
     "data": {
      "text/html": [
       "<div>\n",
       "<style scoped>\n",
       "    .dataframe tbody tr th:only-of-type {\n",
       "        vertical-align: middle;\n",
       "    }\n",
       "\n",
       "    .dataframe tbody tr th {\n",
       "        vertical-align: top;\n",
       "    }\n",
       "\n",
       "    .dataframe thead th {\n",
       "        text-align: right;\n",
       "    }\n",
       "</style>\n",
       "<table border=\"1\" class=\"dataframe\">\n",
       "  <thead>\n",
       "    <tr style=\"text-align: right;\">\n",
       "      <th></th>\n",
       "      <th>XOM</th>\n",
       "      <th>FSLR</th>\n",
       "      <th>NEE</th>\n",
       "    </tr>\n",
       "    <tr>\n",
       "      <th>Date</th>\n",
       "      <th></th>\n",
       "      <th></th>\n",
       "      <th></th>\n",
       "    </tr>\n",
       "  </thead>\n",
       "  <tbody>\n",
       "    <tr>\n",
       "      <th>2021-11-01</th>\n",
       "      <td>65.629997</td>\n",
       "      <td>121.139999</td>\n",
       "      <td>85.589996</td>\n",
       "    </tr>\n",
       "    <tr>\n",
       "      <th>2021-11-02</th>\n",
       "      <td>64.820000</td>\n",
       "      <td>118.650002</td>\n",
       "      <td>85.419998</td>\n",
       "    </tr>\n",
       "    <tr>\n",
       "      <th>2021-11-03</th>\n",
       "      <td>63.930000</td>\n",
       "      <td>116.830002</td>\n",
       "      <td>85.239998</td>\n",
       "    </tr>\n",
       "    <tr>\n",
       "      <th>2021-11-04</th>\n",
       "      <td>64.410004</td>\n",
       "      <td>116.660004</td>\n",
       "      <td>84.760002</td>\n",
       "    </tr>\n",
       "    <tr>\n",
       "      <th>2021-11-05</th>\n",
       "      <td>65.019997</td>\n",
       "      <td>116.309998</td>\n",
       "      <td>85.529999</td>\n",
       "    </tr>\n",
       "    <tr>\n",
       "      <th>...</th>\n",
       "      <td>...</td>\n",
       "      <td>...</td>\n",
       "      <td>...</td>\n",
       "    </tr>\n",
       "    <tr>\n",
       "      <th>2022-10-24</th>\n",
       "      <td>106.599998</td>\n",
       "      <td>124.570000</td>\n",
       "      <td>73.279999</td>\n",
       "    </tr>\n",
       "    <tr>\n",
       "      <th>2022-10-25</th>\n",
       "      <td>105.879997</td>\n",
       "      <td>127.150002</td>\n",
       "      <td>75.860001</td>\n",
       "    </tr>\n",
       "    <tr>\n",
       "      <th>2022-10-26</th>\n",
       "      <td>107.139999</td>\n",
       "      <td>131.399994</td>\n",
       "      <td>75.599998</td>\n",
       "    </tr>\n",
       "    <tr>\n",
       "      <th>2022-10-27</th>\n",
       "      <td>107.550003</td>\n",
       "      <td>131.179993</td>\n",
       "      <td>75.470001</td>\n",
       "    </tr>\n",
       "    <tr>\n",
       "      <th>2022-10-28</th>\n",
       "      <td>110.699997</td>\n",
       "      <td>132.669998</td>\n",
       "      <td>79.029999</td>\n",
       "    </tr>\n",
       "  </tbody>\n",
       "</table>\n",
       "<p>251 rows × 3 columns</p>\n",
       "</div>"
      ],
      "text/plain": [
       "                   XOM        FSLR        NEE\n",
       "Date                                         \n",
       "2021-11-01   65.629997  121.139999  85.589996\n",
       "2021-11-02   64.820000  118.650002  85.419998\n",
       "2021-11-03   63.930000  116.830002  85.239998\n",
       "2021-11-04   64.410004  116.660004  84.760002\n",
       "2021-11-05   65.019997  116.309998  85.529999\n",
       "...                ...         ...        ...\n",
       "2022-10-24  106.599998  124.570000  73.279999\n",
       "2022-10-25  105.879997  127.150002  75.860001\n",
       "2022-10-26  107.139999  131.399994  75.599998\n",
       "2022-10-27  107.550003  131.179993  75.470001\n",
       "2022-10-28  110.699997  132.669998  79.029999\n",
       "\n",
       "[251 rows x 3 columns]"
      ]
     },
     "execution_count": 26,
     "metadata": {},
     "output_type": "execute_result"
    }
   ],
   "source": [
    "energy_df=small_df[['XOM','FSLR','NEE']]\n",
    "energy_df"
   ]
  },
  {
   "cell_type": "markdown",
   "id": "47726a63",
   "metadata": {},
   "source": [
    "### Weapons Manufacturing Dataframe"
   ]
  },
  {
   "cell_type": "code",
   "execution_count": 27,
   "id": "46d57326",
   "metadata": {},
   "outputs": [
    {
     "data": {
      "text/html": [
       "<div>\n",
       "<style scoped>\n",
       "    .dataframe tbody tr th:only-of-type {\n",
       "        vertical-align: middle;\n",
       "    }\n",
       "\n",
       "    .dataframe tbody tr th {\n",
       "        vertical-align: top;\n",
       "    }\n",
       "\n",
       "    .dataframe thead th {\n",
       "        text-align: right;\n",
       "    }\n",
       "</style>\n",
       "<table border=\"1\" class=\"dataframe\">\n",
       "  <thead>\n",
       "    <tr style=\"text-align: right;\">\n",
       "      <th></th>\n",
       "      <th>LMT</th>\n",
       "      <th>RTX</th>\n",
       "      <th>NOC</th>\n",
       "    </tr>\n",
       "    <tr>\n",
       "      <th>Date</th>\n",
       "      <th></th>\n",
       "      <th></th>\n",
       "      <th></th>\n",
       "    </tr>\n",
       "  </thead>\n",
       "  <tbody>\n",
       "    <tr>\n",
       "      <th>2021-11-01</th>\n",
       "      <td>330.929993</td>\n",
       "      <td>88.550003</td>\n",
       "      <td>354.850006</td>\n",
       "    </tr>\n",
       "    <tr>\n",
       "      <th>2021-11-02</th>\n",
       "      <td>326.309998</td>\n",
       "      <td>87.800003</td>\n",
       "      <td>353.200012</td>\n",
       "    </tr>\n",
       "    <tr>\n",
       "      <th>2021-11-03</th>\n",
       "      <td>331.350006</td>\n",
       "      <td>88.669998</td>\n",
       "      <td>354.109985</td>\n",
       "    </tr>\n",
       "    <tr>\n",
       "      <th>2021-11-04</th>\n",
       "      <td>335.500000</td>\n",
       "      <td>88.059998</td>\n",
       "      <td>356.660004</td>\n",
       "    </tr>\n",
       "    <tr>\n",
       "      <th>2021-11-05</th>\n",
       "      <td>339.890015</td>\n",
       "      <td>91.180000</td>\n",
       "      <td>364.369995</td>\n",
       "    </tr>\n",
       "    <tr>\n",
       "      <th>...</th>\n",
       "      <td>...</td>\n",
       "      <td>...</td>\n",
       "      <td>...</td>\n",
       "    </tr>\n",
       "    <tr>\n",
       "      <th>2022-10-24</th>\n",
       "      <td>457.459991</td>\n",
       "      <td>89.730003</td>\n",
       "      <td>525.960022</td>\n",
       "    </tr>\n",
       "    <tr>\n",
       "      <th>2022-10-25</th>\n",
       "      <td>460.149994</td>\n",
       "      <td>88.360001</td>\n",
       "      <td>526.750000</td>\n",
       "    </tr>\n",
       "    <tr>\n",
       "      <th>2022-10-26</th>\n",
       "      <td>462.559998</td>\n",
       "      <td>90.519997</td>\n",
       "      <td>530.989990</td>\n",
       "    </tr>\n",
       "    <tr>\n",
       "      <th>2022-10-27</th>\n",
       "      <td>471.929993</td>\n",
       "      <td>91.800003</td>\n",
       "      <td>535.510010</td>\n",
       "    </tr>\n",
       "    <tr>\n",
       "      <th>2022-10-28</th>\n",
       "      <td>484.869995</td>\n",
       "      <td>95.080002</td>\n",
       "      <td>548.109985</td>\n",
       "    </tr>\n",
       "  </tbody>\n",
       "</table>\n",
       "<p>251 rows × 3 columns</p>\n",
       "</div>"
      ],
      "text/plain": [
       "                   LMT        RTX         NOC\n",
       "Date                                         \n",
       "2021-11-01  330.929993  88.550003  354.850006\n",
       "2021-11-02  326.309998  87.800003  353.200012\n",
       "2021-11-03  331.350006  88.669998  354.109985\n",
       "2021-11-04  335.500000  88.059998  356.660004\n",
       "2021-11-05  339.890015  91.180000  364.369995\n",
       "...                ...        ...         ...\n",
       "2022-10-24  457.459991  89.730003  525.960022\n",
       "2022-10-25  460.149994  88.360001  526.750000\n",
       "2022-10-26  462.559998  90.519997  530.989990\n",
       "2022-10-27  471.929993  91.800003  535.510010\n",
       "2022-10-28  484.869995  95.080002  548.109985\n",
       "\n",
       "[251 rows x 3 columns]"
      ]
     },
     "execution_count": 27,
     "metadata": {},
     "output_type": "execute_result"
    }
   ],
   "source": [
    "weapons_df=small_df[['LMT','RTX','NOC']]\n",
    "weapons_df"
   ]
  },
  {
   "cell_type": "markdown",
   "id": "a9e9f3a5",
   "metadata": {},
   "source": [
    "# Calculate: Daily Returns and Weighted Returns"
   ]
  },
  {
   "cell_type": "code",
   "execution_count": 28,
   "id": "13e5d5c4",
   "metadata": {},
   "outputs": [
    {
     "name": "stdout",
     "output_type": "stream",
     "text": [
      "                AAPL      MSFT      GOOG       JNJ       PFE       UNH  \\\n",
      "Date                                                                     \n",
      "2021-11-02  0.007116  0.011416  0.014530  0.015765  0.041476 -0.004558   \n",
      "2021-11-03  0.009799  0.002612  0.006355 -0.003201 -0.013861  0.011702   \n",
      "2021-11-04 -0.003499  0.007305  0.012896 -0.002787 -0.021642 -0.001246   \n",
      "2021-11-05  0.002120 -0.001129  0.003753 -0.007108  0.108552 -0.002080   \n",
      "2021-11-08 -0.005553  0.002767  0.000740 -0.003427 -0.005760  0.014940   \n",
      "\n",
      "                 JPM       BAC         V      AMZN       NKE       DIS  \\\n",
      "Date                                                                     \n",
      "2021-11-02  0.003946  0.000627 -0.015627 -0.001615  0.009018 -0.002115   \n",
      "2021-11-03  0.000352  0.010234 -0.004973  0.021508  0.027826  0.001472   \n",
      "2021-11-04 -0.013136 -0.021501  0.003268  0.027482  0.017043  0.001176   \n",
      "2021-11-05 -0.001426 -0.007606  0.037791  0.012076  0.011799  0.031419   \n",
      "2021-11-08  0.006010  0.007877  0.017631 -0.008528 -0.031885  0.007060   \n",
      "\n",
      "                 XOM      FSLR       NEE       LMT       RTX       NOC  \n",
      "Date                                                                    \n",
      "2021-11-02 -0.012342 -0.020555 -0.001986 -0.013961 -0.008470 -0.004650  \n",
      "2021-11-03 -0.013730 -0.015339 -0.002107  0.015445  0.009909  0.002576  \n",
      "2021-11-04  0.007508 -0.001455 -0.005631  0.012525 -0.006879  0.007201  \n",
      "2021-11-05  0.009470 -0.003000  0.009084  0.013085  0.035430  0.021617  \n",
      "2021-11-08  0.010766 -0.011005 -0.010990  0.005561 -0.005155 -0.003019  \n",
      "                Tech    Health   Finance  Consumer    Energy   Weapons\n",
      "Date                                                                  \n",
      "2021-11-02  0.011021  0.017561 -0.003685  0.001763 -0.011628 -0.009027\n",
      "2021-11-03  0.006255 -0.001787  0.001871  0.016935 -0.010392  0.009310\n",
      "2021-11-04  0.005568 -0.008558 -0.010456  0.015234  0.000141  0.004282\n",
      "2021-11-05  0.001581  0.033121  0.009586  0.018431  0.005185  0.023378\n",
      "2021-11-08 -0.000682  0.001918  0.010506 -0.011118 -0.003743 -0.000871\n",
      "...              ...       ...       ...       ...       ...       ...\n",
      "2022-10-24  0.016891  0.013775  0.002149 -0.001494  0.015269  0.008674\n",
      "2022-10-25  0.017388 -0.001010  0.010328  0.024873  0.016388 -0.002629\n",
      "2022-10-26 -0.064378  0.008186  0.022098 -0.010357  0.013966  0.012577\n",
      "2022-10-27 -0.024545 -0.002963  0.004477 -0.020825  0.000144  0.014303\n",
      "2022-10-28  0.052918  0.023076  0.015080 -0.005749  0.029273  0.028893\n",
      "\n",
      "[250 rows x 6 columns]\n"
     ]
    }
   ],
   "source": [
    "# Calculate daily returns, drop nas, and display the data \n",
    "# Tech Daily Returns \n",
    "tech_daily = tech_df.pct_change().dropna()\n",
    "tech_daily.head()\n",
    "\n",
    "# Healthcare Daily Returns \n",
    "health_daily = health_df.pct_change().dropna()\n",
    "health_daily.head()\n",
    "\n",
    "# Financials Daily Returns \n",
    "finance_daily = finance_df.pct_change().dropna()\n",
    "finance_daily.head()\n",
    "\n",
    "# Consumer Discretionary Daily Returns \n",
    "consumer_daily = consumer_df.pct_change().dropna()\n",
    "consumer_daily.head()\n",
    "\n",
    "# Energy Daily Returns \n",
    "energy_daily = energy_df.pct_change().dropna()\n",
    "energy_daily.head()\n",
    "\n",
    "# Weapons Manufacturing Daily Returns \n",
    "weapons_daily = weapons_df.pct_change().dropna()\n",
    "weapons_daily.head()\n",
    "\n",
    "combined_daily_returns = pd.concat([\n",
    "    tech_daily.head(),\n",
    "    health_daily.head(),\n",
    "    finance_daily.head(),\n",
    "    consumer_daily.head(),\n",
    "    energy_daily.head(),\n",
    "    weapons_daily.head()\n",
    "], axis=1)\n",
    "\n",
    "# Rename the columns for clarity\n",
    "combined_daily_returns.columns = ['AAPL','MSFT', 'GOOG', 'JNJ','PFE','UNH','JPM','BAC','V','AMZN','NKE','DIS','XOM','FSLR','NEE','LMT','RTX','NOC']\n",
    "\n",
    "# Display the combined DataFrame\n",
    "print(combined_daily_returns.head())\n",
    "\n",
    "# Set weights\n",
    "weights = [1/3, 1/3, 1/3]\n",
    "\n",
    "# Define a dictionary containing the daily returns for each sector\n",
    "daily_returns_dict = {\n",
    "    \"Tech\": tech_daily,\n",
    "    \"Health\": health_daily,\n",
    "    \"Finance\": finance_daily,\n",
    "    \"Consumer\": consumer_daily,\n",
    "    \"Energy\": energy_daily,\n",
    "    \"Weapons\": weapons_daily\n",
    "}\n",
    "\n",
    "# Create an empty dictionary to store the returns for each sector\n",
    "sector_returns = {}\n",
    "\n",
    "# Calculate the returns for each sector and store them in the dictionary\n",
    "for sector, combined_daily_returns in daily_returns_dict.items():\n",
    "    sector_returns[sector] = (weights * combined_daily_returns).sum(axis=1)\n",
    "\n",
    "# Create a DataFrame from the sector_returns dictionary\n",
    "returns_df = pd.DataFrame(sector_returns)\n",
    "\n",
    "# Display the DataFrame\n",
    "print(returns_df)"
   ]
  },
  {
   "cell_type": "markdown",
   "id": "cca746b4",
   "metadata": {},
   "source": [
    "# Risk Analysis Performance \n",
    "1. Cumulative Returns\n",
    "2. Annualized Standard Deviation \n",
    "3. Annualized Sharpe Ratios (Reward to Risk)\n",
    "4. Covariance and Variance \n",
    "5. BETA"
   ]
  },
  {
   "cell_type": "markdown",
   "id": "ed664118",
   "metadata": {},
   "source": [
    "## Cumulative Returns"
   ]
  },
  {
   "cell_type": "code",
   "execution_count": 29,
   "id": "9a28a027",
   "metadata": {},
   "outputs": [
    {
     "name": "stdout",
     "output_type": "stream",
     "text": [
      "                Tech    Health   Finance  Consumer    Energy   Weapons\n",
      "Date                                                                  \n",
      "2021-11-02  1.011021  1.017561  0.996315  1.001763  0.988372  0.990973\n",
      "2021-11-03  1.017345  1.015743  0.998180  1.018728  0.978101  1.000199\n",
      "2021-11-04  1.023009  1.007050  0.987742  1.034247  0.978239  1.004482\n",
      "2021-11-05  1.024626  1.040404  0.997211  1.053309  0.983311  1.027965\n",
      "2021-11-08  1.023928  1.042400  1.007688  1.041599  0.979630  1.027069\n",
      "...              ...       ...       ...       ...       ...       ...\n",
      "2022-10-24  0.820021  1.106498  0.787679  0.622888  1.170935  1.284713\n",
      "2022-10-25  0.834280  1.105380  0.795813  0.638381  1.190125  1.281336\n",
      "2022-10-26  0.780571  1.114429  0.813400  0.631769  1.206746  1.297452\n",
      "2022-10-27  0.761412  1.111127  0.817041  0.618612  1.206920  1.316010\n",
      "2022-10-28  0.801704  1.136767  0.829362  0.615056  1.242250  1.354033\n",
      "\n",
      "[250 rows x 6 columns]\n"
     ]
    },
    {
     "data": {
      "image/png": "[encoded data removed]",
      "text/plain": [
       "<Figure size 1000x600 with 1 Axes>"
      ]
     },
     "metadata": {},
     "output_type": "display_data"
    }
   ],
   "source": [
    "cumulative_returns = (1 + returns_df).cumprod()\n",
    "print(cumulative_returns)\n",
    "cumulative_returns.plot(figsize=(10, 6))  # Adjust figsize as needed\n",
    "plt.title('Cumulative Returns of Each Industry')\n",
    "plt.xlabel('Date')\n",
    "plt.ylabel('Cumulative Returns')\n",
    "plt.grid(True)\n",
    "plt.legend()\n",
    "plt.show()"
   ]
  },
  {
   "cell_type": "markdown",
   "id": "9be59e2e",
   "metadata": {},
   "source": [
    "## Annualized Standard Deviation "
   ]
  },
  {
   "cell_type": "code",
   "execution_count": 30,
   "id": "def340b9",
   "metadata": {},
   "outputs": [
    {
     "name": "stdout",
     "output_type": "stream",
     "text": [
      "Tech        0.020121\n",
      "Health      0.012234\n",
      "Finance     0.017361\n",
      "Consumer    0.021787\n",
      "Energy      0.017499\n",
      "Weapons     0.015614\n",
      "dtype: float64\n"
     ]
    }
   ],
   "source": [
    "# Calculate the daily standard deviation \n",
    "daily_std_dev = np.std(returns_df)\n",
    "print(daily_std_dev)"
   ]
  },
  {
   "cell_type": "code",
   "execution_count": 31,
   "id": "ec4468c4",
   "metadata": {},
   "outputs": [
    {
     "name": "stderr",
     "output_type": "stream",
     "text": [
      "No artists with labels found to put in legend.  Note that artists whose label start with an underscore are ignored when legend() is called with no argument.\n"
     ]
    },
    {
     "data": {
      "image/png": "[encoded data removed]",
      "text/plain": [
       "<Figure size 1000x600 with 1 Axes>"
      ]
     },
     "metadata": {},
     "output_type": "display_data"
    }
   ],
   "source": [
    "# Calculate the annualized standard deviation (252 trading days)\n",
    "annualized_std = daily_std_dev * np.sqrt(252)\n",
    "\n",
    "# Plot the Annualized standard deviation\n",
    "annualized_std.plot.bar(figsize=(10, 6))  # Adjust figsize as needed\n",
    "plt.title('Annualized Standard Deviation of Each Industry')\n",
    "plt.xlabel('Industry')\n",
    "plt.ylabel('Annualized Standard Deviation')\n",
    "plt.grid(True)\n",
    "plt.legend()\n",
    "plt.show()"
   ]
  },
  {
   "cell_type": "markdown",
   "id": "564149cb",
   "metadata": {},
   "source": [
    "## Sharpe Ratios"
   ]
  },
  {
   "cell_type": "code",
   "execution_count": 32,
   "id": "f06123ff",
   "metadata": {},
   "outputs": [
    {
     "data": {
      "image/png": "[encoded data removed]",
      "text/plain": [
       "<Figure size 1000x600 with 1 Axes>"
      ]
     },
     "metadata": {},
     "output_type": "display_data"
    }
   ],
   "source": [
    "# Annualized Sharpe Ratios \n",
    "sharpe_ratios = (returns_df.mean() * 252) / (returns_df.std() * np.sqrt(252))\n",
    "sharpe_ratios \n",
    "\n",
    "# Visualize the sharpe ratios as a bar plot\n",
    "sharpe_ratios.plot(kind='bar', color='skyblue', figsize=(10, 6))\n",
    "\n",
    "# Customizing the plot\n",
    "plt.title('Sharpe Ratios of Each Industry')\n",
    "plt.xlabel('Industry')\n",
    "plt.ylabel('Sharpe Ratio')\n",
    "plt.xticks(rotation=45)  # Rotate x-axis labels for better readability\n",
    "plt.grid(axis='y', linestyle='--', alpha=0.7)  # Adding grid lines\n",
    "\n",
    "# Adding data labels\n",
    "for i, val in enumerate(sharpe_ratios.values):\n",
    "    plt.text(i, val, round(val, 2), ha='center', va='bottom')\n",
    "\n",
    "# Adding horizontal line at Sharpe ratio of 0 for reference\n",
    "plt.axhline(y=0, color='gray', linestyle='--', linewidth=0.5)\n",
    "\n",
    "# Show plot\n",
    "plt.tight_layout()  # Adjust layout to prevent clipping of labels\n",
    "plt.show()"
   ]
  },
  {
   "cell_type": "markdown",
   "id": "12476f96",
   "metadata": {},
   "source": [
    "# Create Custom Portfolio: 12 months After \n",
    "## Time Period: November 2022 to October 2023\n",
    "In this section, we chose three stocks from the top six invested in industries, calculate the returns, and compare the results to determine which industry performed best\n",
    "\n",
    "1. Choose 3 stocks with at last 1 year's worth of historic prices and create a DataFrame of the closing prices and dates for each stock.\n",
    "2. Calculate the weighted returns for the portfolio assuming an equal number of shares for each stock\n",
    "3. Join your portfolio returns to the DataFrame that contains all of the portfolio returns\n",
    "4. Re-run the performance and risk analysis with your portfolio to see how it compares to the others\n",
    "5. Include correlation analysis to determine which stocks (if any) are correlated"
   ]
  },
  {
   "cell_type": "markdown",
   "id": "f8c70912",
   "metadata": {},
   "source": [
    "## Choose 3-5 custom stocks with at last 1 year's worth of historic prices and create a DataFrame of the closing prices and dates for each stock."
   ]
  },
  {
   "cell_type": "markdown",
   "id": "02368518",
   "metadata": {},
   "source": [
    "## Technology Sector\n",
    "These are the three stocks we chose within the Technology Industry"
   ]
  },
  {
   "cell_type": "code",
   "execution_count": 35,
   "id": "cf4f09be",
   "metadata": {},
   "outputs": [
    {
     "name": "stderr",
     "output_type": "stream",
     "text": [
      "[*********************100%%**********************]  1 of 1 completed\n"
     ]
    }
   ],
   "source": [
    "# Define the stock ticker and date range: Apple Inc. \n",
    "AAPL_stock = 'AAPL'\n",
    "start_date = '2022-11-01'  # example start date\n",
    "end_date = '2023-10-31'    # example end date\n",
    "\n",
    "# Download the stock data\n",
    "data_AAPL = yf.download(AAPL_stock, start=start_date, end=end_date)\n",
    "\n",
    "# Print the type of the data\n",
    "#print(type(data_AAPL))\n",
    "\n",
    "# Print the first few columns of the data\n",
    "#print(data_AAPL.iloc[:, :5])  # This prints the first three columns of the DataFrame"
   ]
  },
  {
   "cell_type": "code",
   "execution_count": 36,
   "id": "22002c4e",
   "metadata": {},
   "outputs": [
    {
     "name": "stderr",
     "output_type": "stream",
     "text": [
      "[*********************100%%**********************]  1 of 1 completed\n"
     ]
    }
   ],
   "source": [
    "# Define the stock ticker and date range: Microsoft \n",
    "MSFT_stock = 'MSFT'\n",
    "start_date = '2022-11-01'  # example start date\n",
    "end_date = '2023-10-31'    # example end date\n",
    "\n",
    "# Download the stock data\n",
    "data_MSFT = yf.download(MSFT_stock, start=start_date, end=end_date)\n",
    "\n",
    "# Print the type of the data\n",
    "#print(type(data_MSFT))\n",
    "\n",
    "# Print the first few columns of the data\n",
    "#print(data_MSFT.iloc[:, :5])  # This prints the first three columns of the DataFrame"
   ]
  },
  {
   "cell_type": "code",
   "execution_count": 37,
   "id": "e6a213b3",
   "metadata": {},
   "outputs": [
    {
     "name": "stderr",
     "output_type": "stream",
     "text": [
      "[*********************100%%**********************]  1 of 1 completed\n"
     ]
    }
   ],
   "source": [
    "# Define the stock ticker and date range: Google \n",
    "GOOG_stock = 'GOOG'\n",
    "start_date = '2022-11-01'  # example start date\n",
    "end_date = '2023-10-31'    # example end date\n",
    "\n",
    "# Download the stock data\n",
    "data_GOOG = yf.download(GOOG_stock, start=start_date, end=end_date)\n",
    "\n",
    "# Print the type of the data\n",
    "#print(type(data_GOOG))\n",
    "\n",
    "# Print the first few columns of the data\n",
    "#print(data_GOOG.iloc[:, :5])  # This prints the first three columns of the DataFrame"
   ]
  },
  {
   "cell_type": "markdown",
   "id": "e830a599",
   "metadata": {},
   "source": [
    "## Healthcare Sector \n",
    "These are the three stocks we chose in the Healthcare Industry"
   ]
  },
  {
   "cell_type": "code",
   "execution_count": 38,
   "id": "80822cff",
   "metadata": {},
   "outputs": [
    {
     "name": "stderr",
     "output_type": "stream",
     "text": [
      "[*********************100%%**********************]  1 of 1 completed\n"
     ]
    }
   ],
   "source": [
    "# Define the stock ticker and date range: Johnson and Johnson \n",
    "JNJ_stock = 'JNJ'\n",
    "start_date = '2022-11-01'  # example start date\n",
    "end_date = '2023-10-31'    # example end date\n",
    "\n",
    "# Download the stock data\n",
    "data_JNJ = yf.download(JNJ_stock, start=start_date, end=end_date)\n",
    "\n",
    "# Print the type of the data\n",
    "#print(type(data_JNJ))\n",
    "\n",
    "# Print the first few columns of the data\n",
    "#print(data_JNJ.iloc[:, :5])  # This prints the first three columns of the DataFrame"
   ]
  },
  {
   "cell_type": "code",
   "execution_count": 39,
   "id": "ea06a252",
   "metadata": {},
   "outputs": [
    {
     "name": "stderr",
     "output_type": "stream",
     "text": [
      "[*********************100%%**********************]  1 of 1 completed\n"
     ]
    }
   ],
   "source": [
    "# Define the stock ticker and date range: Pfizer Inc\n",
    "PFE_stock = 'PFE'\n",
    "start_date = '2022-11-01'  # example start date\n",
    "end_date = '2023-10-31'    # example end date\n",
    "\n",
    "# Download the stock data\n",
    "data_PFE = yf.download(PFE_stock, start=start_date, end=end_date)\n",
    "\n",
    "# Print the type of the data\n",
    "#print(type(data_PFE))\n",
    "\n",
    "# Print the first few columns of the data\n",
    "#print(data_PFE.iloc[:, :5])  # This prints the first three columns of the DataFrame"
   ]
  },
  {
   "cell_type": "code",
   "execution_count": 40,
   "id": "4795bd12",
   "metadata": {},
   "outputs": [
    {
     "name": "stderr",
     "output_type": "stream",
     "text": [
      "[*********************100%%**********************]  1 of 1 completed\n"
     ]
    }
   ],
   "source": [
    "# Define the stock ticker and date range: United Health Group\n",
    "UNH_stock = 'UNH'\n",
    "start_date = '2022-11-01'  # example start date\n",
    "end_date = '2023-10-31'    # example end date\n",
    "\n",
    "# Download the stock data\n",
    "data_UNH = yf.download(UNH_stock, start=start_date, end=end_date)\n",
    "\n",
    "# Print the type of the data\n",
    "#print(type(data_UNH))\n",
    "\n",
    "# Print the first few columns of the data\n",
    "#print(data_UNH.iloc[:, :5])  # This prints the first three columns of the DataFrame"
   ]
  },
  {
   "cell_type": "markdown",
   "id": "a110ef1f",
   "metadata": {},
   "source": [
    "# Financials Sector \n",
    "These are the three stocks we chose in the Healthcare Industry"
   ]
  },
  {
   "cell_type": "code",
   "execution_count": 41,
   "id": "c17c4ae6",
   "metadata": {},
   "outputs": [
    {
     "name": "stderr",
     "output_type": "stream",
     "text": [
      "[*********************100%%**********************]  1 of 1 completed\n"
     ]
    }
   ],
   "source": [
    "# Define the stock ticker and date range: JPMorgan Chase and Co. \n",
    "JPM_stock = 'JPM'\n",
    "start_date = '2022-11-01'  # example start date\n",
    "end_date = '2023-10-31'    # example end date\n",
    "\n",
    "# Download the stock data\n",
    "data_JPM = yf.download(JPM_stock, start=start_date, end=end_date)\n",
    "\n",
    "# Print the type of the data\n",
    "#print(type(data_JPM))\n",
    "\n",
    "# Print the first few columns of the data\n",
    "#print(data_JPM.iloc[:, :5])  # This prints the first three columns of the DataFrame"
   ]
  },
  {
   "cell_type": "code",
   "execution_count": 42,
   "id": "af9f37b8",
   "metadata": {},
   "outputs": [
    {
     "name": "stderr",
     "output_type": "stream",
     "text": [
      "[*********************100%%**********************]  1 of 1 completed\n"
     ]
    }
   ],
   "source": [
    "# Define the stock ticker and date range: Bank of America \n",
    "BAC_stock = 'BAC'\n",
    "start_date = '2022-11-01'  # example start date\n",
    "end_date = '2023-10-31'    # example end date\n",
    "\n",
    "# Download the stock data\n",
    "data_BAC = yf.download(BAC_stock, start=start_date, end=end_date)\n",
    "\n",
    "# Print the type of the data\n",
    "#print(type(data_BAC))\n",
    "\n",
    "# Print the first few columns of the data\n",
    "#print(data_BAC.iloc[:, :5])  # This prints the first three columns of the DataFrame"
   ]
  },
  {
   "cell_type": "code",
   "execution_count": 43,
   "id": "4f470cb4",
   "metadata": {},
   "outputs": [
    {
     "name": "stderr",
     "output_type": "stream",
     "text": [
      "[*********************100%%**********************]  1 of 1 completed\n"
     ]
    }
   ],
   "source": [
    "# Define the stock ticker and date range: Visa\n",
    "V_stock = 'V'\n",
    "start_date = '2022-11-01'  # example start date\n",
    "end_date = '2023-10-31'    # example end date\n",
    "\n",
    "# Download the stock data\n",
    "data_V = yf.download(V_stock, start=start_date, end=end_date)\n",
    "\n",
    "# Print the type of the data\n",
    "#print(type(data_V))\n",
    "\n",
    "# Print the first few columns of the data\n",
    "#print(data_V.iloc[:, :5])  # This prints the first three columns of the DataFrame"
   ]
  },
  {
   "cell_type": "markdown",
   "id": "ae9d5190",
   "metadata": {},
   "source": [
    "## Consumer Discretionary \n",
    "These are the three stocks we chose in the consumer discretionary industry: Amazon, Nike, and Walt Disney Company"
   ]
  },
  {
   "cell_type": "code",
   "execution_count": 44,
   "id": "bddd7f63",
   "metadata": {},
   "outputs": [
    {
     "name": "stderr",
     "output_type": "stream",
     "text": [
      "[*********************100%%**********************]  1 of 1 completed\n"
     ]
    }
   ],
   "source": [
    "# Define the stock ticker and date range: Amazon\n",
    "AMZN_stock = 'AMZN'\n",
    "start_date = '2022-11-01'  # example start date\n",
    "end_date = '2023-10-31'    # example end date\n",
    "\n",
    "# Download the stock data\n",
    "data_AMZN = yf.download(AMZN_stock, start=start_date, end=end_date)\n",
    "\n",
    "# Print the type of the data\n",
    "#print(type(data_AMZN))\n",
    "\n",
    "# Print the first few columns of the data\n",
    "#print(data_AMZN.iloc[:, :5])  # This prints the first three columns of the DataFrame"
   ]
  },
  {
   "cell_type": "code",
   "execution_count": 45,
   "id": "9bc080f8",
   "metadata": {},
   "outputs": [
    {
     "name": "stderr",
     "output_type": "stream",
     "text": [
      "[*********************100%%**********************]  1 of 1 completed\n"
     ]
    }
   ],
   "source": [
    "# Define the stock ticker and date range: Nike\n",
    "NKE_stock = 'NKE'\n",
    "start_date = '2022-11-01'  # example start date\n",
    "end_date = '2023-10-31'    # example end date\n",
    "\n",
    "# Download the stock data\n",
    "data_NKE = yf.download(NKE_stock, start=start_date, end=end_date)\n",
    "\n",
    "# Print the type of the data\n",
    "#print(type(data_NKE))\n",
    "\n",
    "# Print the first few columns of the data\n",
    "#print(data_NKE.iloc[:, :5])  # This prints the first three columns of the DataFrame"
   ]
  },
  {
   "cell_type": "code",
   "execution_count": 46,
   "id": "df2ca7b9",
   "metadata": {},
   "outputs": [
    {
     "name": "stderr",
     "output_type": "stream",
     "text": [
      "[*********************100%%**********************]  1 of 1 completed\n"
     ]
    }
   ],
   "source": [
    "# Define the stock ticker and date range: Walt Disney Company \n",
    "DIS_stock = 'DIS'\n",
    "start_date = '2022-11-01'  # example start date\n",
    "end_date = '2023-10-31'    # example end date\n",
    "\n",
    "# Download the stock data\n",
    "data_DIS = yf.download(DIS_stock, start=start_date, end=end_date)\n",
    "\n",
    "# Print the type of the data\n",
    "#print(type(data_DIS))\n",
    "\n",
    "# Print the first few columns of the data\n",
    "#print(data_DIS.iloc[:, :5])  # This prints the first three columns of the DataFrame"
   ]
  },
  {
   "cell_type": "markdown",
   "id": "6d0507e1",
   "metadata": {},
   "source": [
    "## Energy Sector \n",
    "These are the three stocks we chose in the energy industry: Exxon Mobile Incorporation, First Solar Inc. , NextEra Energy Resources "
   ]
  },
  {
   "cell_type": "code",
   "execution_count": 47,
   "id": "3457e5e1",
   "metadata": {},
   "outputs": [
    {
     "name": "stderr",
     "output_type": "stream",
     "text": [
      "[*********************100%%**********************]  1 of 1 completed\n"
     ]
    }
   ],
   "source": [
    "# Define the stock ticker and date range: Exxon Mobile Incorporation\n",
    "XOM_stock = 'XOM'\n",
    "start_date = '2022-11-01'  # example start date\n",
    "end_date = '2023-10-31'    # example end date\n",
    "\n",
    "# Download the stock data\n",
    "data_XOM = yf.download(XOM_stock, start=start_date, end=end_date)\n",
    "\n",
    "# Print the type of the data\n",
    "#print(type(data_XOM))\n",
    "\n",
    "# Print the first few columns of the data\n",
    "#print(data_XOM.iloc[:, :5])  # This prints the first three columns of the DataFrame"
   ]
  },
  {
   "cell_type": "code",
   "execution_count": 49,
   "id": "eabb2ace",
   "metadata": {},
   "outputs": [
    {
     "name": "stderr",
     "output_type": "stream",
     "text": [
      "[*********************100%%**********************]  1 of 1 completed\n"
     ]
    }
   ],
   "source": [
    "# Define the stock ticker and date range: First Solar Inc. \n",
    "FSLR_stock = 'FSLR'\n",
    "start_date = '2022-11-01'  # example start date\n",
    "end_date = '2023-10-31'    # example end date\n",
    "\n",
    "# Download the stock data\n",
    "data_FSLR = yf.download(FSLR_stock, start=start_date, end=end_date)\n",
    "\n",
    "# Print the type of the data\n",
    "#print(type(data_FSLR))\n",
    "\n",
    "# Print the first few columns of the data\n",
    "#print(data_FSLR.iloc[:, :5])  # This prints the first three columns of the DataFrame"
   ]
  },
  {
   "cell_type": "code",
   "execution_count": 52,
   "id": "45f73404",
   "metadata": {},
   "outputs": [
    {
     "name": "stderr",
     "output_type": "stream",
     "text": [
      "[*********************100%%**********************]  1 of 1 completed\n"
     ]
    }
   ],
   "source": [
    "# Define the stock ticker and date range: NextEra Energy Resources\n",
    "NEE_stock = 'NEE'\n",
    "start_date = '2022-11-01'  # example start date\n",
    "end_date = '2023-10-31'    # example end date\n",
    "\n",
    "# Download the stock data\n",
    "data_NEE = yf.download(NEE_stock, start=start_date, end=end_date)\n",
    "\n",
    "# Print the type of the data\n",
    "#print(type(data_NEE))\n",
    "\n",
    "# Print the first few columns of the data\n",
    "#print(data_NEE.iloc[:, :5])  # This prints the first three columns of the DataFrame"
   ]
  },
  {
   "cell_type": "markdown",
   "id": "06a0c0d3",
   "metadata": {},
   "source": [
    "## Weapons Manufacturing \n",
    "These are the three stocks we chose in the weapons manufacturing instury: Lockheed Martin Corporation, Raytheon Technologies Corporations (RTX), Northrup Grumman Corporation (NOC)  "
   ]
  },
  {
   "cell_type": "code",
   "execution_count": 55,
   "id": "ae9c85d0",
   "metadata": {},
   "outputs": [
    {
     "name": "stderr",
     "output_type": "stream",
     "text": [
      "[*********************100%%**********************]  1 of 1 completed\n"
     ]
    }
   ],
   "source": [
    "# Define the stock ticker and date range: Lockheed Martin Corporation\n",
    "LMT_stock = 'LMT'\n",
    "start_date = '2022-11-01'  # example start date\n",
    "end_date = '2023-10-31'    # example end date\n",
    "\n",
    "# Download the stock data\n",
    "data_LMT = yf.download(LMT_stock, start=start_date, end=end_date)\n",
    "\n",
    "# Print the type of the data\n",
    "#print(type(data_LMT))\n",
    "\n",
    "# Print the first few columns of the data\n",
    "#print(data_LMT.iloc[:, :5])  # This prints the first three columns of the DataFrame"
   ]
  },
  {
   "cell_type": "code",
   "execution_count": 57,
   "id": "f56e7621",
   "metadata": {},
   "outputs": [
    {
     "name": "stderr",
     "output_type": "stream",
     "text": [
      "[*********************100%%**********************]  1 of 1 completed\n"
     ]
    }
   ],
   "source": [
    "# Define the stock ticker and date range: Raytheon Technologies Corporation\n",
    "RTX_stock = 'RTX'\n",
    "start_date = '2022-11-01'  # example start date\n",
    "end_date = '2023-10-31'    # example end date\n",
    "\n",
    "# Download the stock data\n",
    "data_RTX = yf.download(RTX_stock, start=start_date, end=end_date)\n",
    "\n",
    "# Print the type of the data\n",
    "#print(type(data_RTX))\n",
    "\n",
    "# Print the first few columns of the data\n",
    "#print(data_RTX.iloc[:, :5])  # This prints the first three columns of the DataFrame"
   ]
  },
  {
   "cell_type": "code",
   "execution_count": 59,
   "id": "e6166192",
   "metadata": {},
   "outputs": [
    {
     "name": "stderr",
     "output_type": "stream",
     "text": [
      "[*********************100%%**********************]  1 of 1 completed\n"
     ]
    }
   ],
   "source": [
    "# Define the stock ticker and date range: Northrup Grumman Corporation\n",
    "NOC_stock = 'NOC'\n",
    "start_date = '2022-11-01'  # example start date\n",
    "end_date = '2023-10-31'    # example end date\n",
    "\n",
    "# Download the stock data\n",
    "data_NOC = yf.download(NOC_stock, start=start_date, end=end_date)\n",
    "\n",
    "# Print the type of the data\n",
    "#print(type(data_NOC))\n",
    "\n",
    "# Print the first few columns of the data\n",
    "#print(data_NOC.iloc[:, :5])  # This prints the first three columns of the DataFrame"
   ]
  },
  {
   "cell_type": "code",
   "execution_count": null,
   "id": "8c6d8bbf",
   "metadata": {},
   "outputs": [],
   "source": []
  }
 ],
 "metadata": {
  "kernelspec": {
   "display_name": "Python 3 (ipykernel)",
   "language": "python",
   "name": "python3"
  },
  "language_info": {
   "codemirror_mode": {
    "name": "ipython",
    "version": 3
   },
   "file_extension": ".py",
   "mimetype": "text/x-python",
   "name": "python",
   "nbconvert_exporter": "python",
   "pygments_lexer": "ipython3",
   "version": "3.9.18"
  }
 },
 "nbformat": 4,
 "nbformat_minor": 5
}
