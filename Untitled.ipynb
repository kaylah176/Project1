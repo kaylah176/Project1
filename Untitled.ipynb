{
 "cells": [
  {
   "cell_type": "code",
   "execution_count": null,
   "id": "5222d094-e513-46d2-ad59-4c485dc7626a",
   "metadata": {},
   "outputs": [],
   "source": [
    "# Import libraries and dependencies"
   ]
  },
  {
   "cell_type": "code",
   "execution_count": null,
   "id": "9219368b-d02d-42e6-be50-205f5f84445b",
   "metadata": {},
   "outputs": [],
   "source": [
    "# Load .env enviroment variables"
   ]
  },
  {
   "cell_type": "code",
   "execution_count": null,
   "id": "81590fe0-8104-4272-9207-2eb22be7e64b",
   "metadata": {},
   "outputs": [],
   "source": [
    "# Set Alpaca API key and secret\n"
   ]
  },
  {
   "cell_type": "code",
   "execution_count": 1,
   "id": "f483961e-3653-4e11-b228-3fa7250ac33e",
   "metadata": {},
   "outputs": [],
   "source": [
    "# Set the tickers"
   ]
  },
  {
   "cell_type": "code",
   "execution_count": 2,
   "id": "ab57e4c7-ddbe-437d-9355-62b364f7df1e",
   "metadata": {},
   "outputs": [],
   "source": [
    "# Set timeframe"
   ]
  },
  {
   "cell_type": "code",
   "execution_count": 3,
   "id": "5d1c9900-dbe8-4499-b224-becb9d2e8724",
   "metadata": {},
   "outputs": [],
   "source": [
    "# Set start and end datetimes"
   ]
  },
  {
   "cell_type": "code",
   "execution_count": null,
   "id": "0fb0e3a0-7eb6-4dfb-a39e-d84dde295a91",
   "metadata": {},
   "outputs": [],
   "source": []
  }
 ],
 "metadata": {
  "kernelspec": {
   "display_name": "Python 3 (ipykernel)",
   "language": "python",
   "name": "python3"
  },
  "language_info": {
   "codemirror_mode": {
    "name": "ipython",
    "version": 3
   },
   "file_extension": ".py",
   "mimetype": "text/x-python",
   "name": "python",
   "nbconvert_exporter": "python",
   "pygments_lexer": "ipython3",
   "version": "3.10.13"
  }
 },
 "nbformat": 4,
 "nbformat_minor": 5
}
