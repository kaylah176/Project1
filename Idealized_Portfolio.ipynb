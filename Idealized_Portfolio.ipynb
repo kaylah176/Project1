{
 "cells": [
  {
   "cell_type": "markdown",
   "id": "2ce6ad5e",
   "metadata": {},
   "source": [
    "# Creating an Ideal Portfolio\n",
    "We want to create a top performing portfolio with only the top two industries that have the highest cumulative returns "
   ]
  },
  {
   "cell_type": "code",
   "execution_count": 1,
   "id": "c58437bd",
   "metadata": {},
   "outputs": [],
   "source": [
    "# Initial imports\n",
    "import pandas as pd\n",
    "import numpy as np\n",
    "import datetime as dt\n",
    "from pathlib import Path\n",
    "import matplotlib.pyplot as plt"
   ]
  },
  {
   "cell_type": "code",
   "execution_count": 2,
   "id": "3ac7a0de",
   "metadata": {},
   "outputs": [],
   "source": [
    "# Calculate the Average of all Cumulative returns \n",
    "Data1 = Path(\"/Users/kaylahoffman/Desktop/Project1/cumulative_returns_data.csv\")\n",
    "cumulative1_df = pd.read_csv(Data1)\n",
    "\n",
    "Data2 = Path(\"/Users/kaylahoffman/Desktop/Project1/cumulative_returns_data2.csv\")\n",
    "cumulative2_df = pd.read_csv(Data2)\n",
    "\n",
    "Data3 = Path(\"/Users/kaylahoffman/Desktop/Project1/cumulative_returns_data3.csv\")\n",
    "cumulative3_df = pd.read_csv(Data3)\n",
    "\n",
    "Data4 = Path(\"/Users/kaylahoffman/Desktop/Project1/cumulative_returns_data4.csv\")\n",
    "cumulative4_df = pd.read_csv(Data4)\n",
    "\n",
    "Data5 = Path(\"/Users/kaylahoffman/Desktop/Project1/cumulative_returns_data5.csv\")\n",
    "cumulative5_df = pd.read_csv(Data5)"
   ]
  },
  {
   "cell_type": "code",
   "execution_count": 3,
   "id": "24af7e88",
   "metadata": {},
   "outputs": [
    {
     "data": {
      "text/html": [
       "<div>\n",
       "<style scoped>\n",
       "    .dataframe tbody tr th:only-of-type {\n",
       "        vertical-align: middle;\n",
       "    }\n",
       "\n",
       "    .dataframe tbody tr th {\n",
       "        vertical-align: top;\n",
       "    }\n",
       "\n",
       "    .dataframe thead th {\n",
       "        text-align: right;\n",
       "    }\n",
       "</style>\n",
       "<table border=\"1\" class=\"dataframe\">\n",
       "  <thead>\n",
       "    <tr style=\"text-align: right;\">\n",
       "      <th></th>\n",
       "      <th>Tech</th>\n",
       "      <th>Health</th>\n",
       "      <th>Finance</th>\n",
       "      <th>Consumer</th>\n",
       "      <th>Energy</th>\n",
       "      <th>Weapons</th>\n",
       "    </tr>\n",
       "  </thead>\n",
       "  <tbody>\n",
       "    <tr>\n",
       "      <th>0</th>\n",
       "      <td>1.011021</td>\n",
       "      <td>1.017561</td>\n",
       "      <td>0.996315</td>\n",
       "      <td>1.001763</td>\n",
       "      <td>0.988372</td>\n",
       "      <td>0.990973</td>\n",
       "    </tr>\n",
       "    <tr>\n",
       "      <th>1</th>\n",
       "      <td>1.017345</td>\n",
       "      <td>1.015743</td>\n",
       "      <td>0.998180</td>\n",
       "      <td>1.018728</td>\n",
       "      <td>0.978101</td>\n",
       "      <td>1.000199</td>\n",
       "    </tr>\n",
       "    <tr>\n",
       "      <th>2</th>\n",
       "      <td>1.023009</td>\n",
       "      <td>1.007050</td>\n",
       "      <td>0.987742</td>\n",
       "      <td>1.034247</td>\n",
       "      <td>0.978239</td>\n",
       "      <td>1.004482</td>\n",
       "    </tr>\n",
       "    <tr>\n",
       "      <th>3</th>\n",
       "      <td>1.024626</td>\n",
       "      <td>1.040404</td>\n",
       "      <td>0.997211</td>\n",
       "      <td>1.053309</td>\n",
       "      <td>0.983311</td>\n",
       "      <td>1.027965</td>\n",
       "    </tr>\n",
       "    <tr>\n",
       "      <th>4</th>\n",
       "      <td>1.023928</td>\n",
       "      <td>1.042400</td>\n",
       "      <td>1.007688</td>\n",
       "      <td>1.041599</td>\n",
       "      <td>0.979630</td>\n",
       "      <td>1.027069</td>\n",
       "    </tr>\n",
       "  </tbody>\n",
       "</table>\n",
       "</div>"
      ],
      "text/plain": [
       "       Tech    Health   Finance  Consumer    Energy   Weapons\n",
       "0  1.011021  1.017561  0.996315  1.001763  0.988372  0.990973\n",
       "1  1.017345  1.015743  0.998180  1.018728  0.978101  1.000199\n",
       "2  1.023009  1.007050  0.987742  1.034247  0.978239  1.004482\n",
       "3  1.024626  1.040404  0.997211  1.053309  0.983311  1.027965\n",
       "4  1.023928  1.042400  1.007688  1.041599  0.979630  1.027069"
      ]
     },
     "execution_count": 3,
     "metadata": {},
     "output_type": "execute_result"
    }
   ],
   "source": [
    "# Combine all cumulative returns data \n",
    "combined_df = pd.concat([cumulative1_df,cumulative2_df,cumulative3_df,cumulative4_df,cumulative5_df], axis='rows')\n",
    "\n",
    "# Display the combined DataFrame\n",
    "combined_df.head()"
   ]
  },
  {
   "cell_type": "code",
   "execution_count": 4,
   "id": "95f1514a",
   "metadata": {},
   "outputs": [
    {
     "name": "stdout",
     "output_type": "stream",
     "text": [
      "Tech    1.117667\n",
      "dtype: float64\n"
     ]
    }
   ],
   "source": [
    "# Assuming df is your DataFrame containing the data\n",
    "# Extract the \"Tech\" columns\n",
    "tech_columns = combined_df.filter(like='Tech')\n",
    "\n",
    "# Calculate the average of the \"Tech\" columns\n",
    "tech_average = tech_columns.mean()\n",
    "\n",
    "print(tech_average)"
   ]
  },
  {
   "cell_type": "code",
   "execution_count": 5,
   "id": "fdc077aa",
   "metadata": {},
   "outputs": [
    {
     "name": "stdout",
     "output_type": "stream",
     "text": [
      "Health    1.094335\n",
      "dtype: float64\n"
     ]
    }
   ],
   "source": [
    "# Assuming df is your DataFrame containing the data\n",
    "# Extract the \"Health\" columns\n",
    "health_columns = combined_df.filter(like='Health')\n",
    "\n",
    "# Calculate the average of the \"Tech\" columns\n",
    "health_average = health_columns.mean()\n",
    "\n",
    "print(health_average)"
   ]
  },
  {
   "cell_type": "code",
   "execution_count": 6,
   "id": "bb702931",
   "metadata": {},
   "outputs": [
    {
     "name": "stdout",
     "output_type": "stream",
     "text": [
      "Finance    1.049386\n",
      "dtype: float64\n"
     ]
    }
   ],
   "source": [
    "# Assuming df is your DataFrame containing the data\n",
    "# Extract the \"Finance\" columns\n",
    "finance_columns = combined_df.filter(like='Finance')\n",
    "\n",
    "# Calculate the average of the \"Tech\" columns\n",
    "finance_average = finance_columns.mean()\n",
    "\n",
    "print(finance_average)"
   ]
  },
  {
   "cell_type": "code",
   "execution_count": 7,
   "id": "659970dc",
   "metadata": {},
   "outputs": [
    {
     "name": "stdout",
     "output_type": "stream",
     "text": [
      "Consumer    1.034884\n",
      "dtype: float64\n"
     ]
    }
   ],
   "source": [
    "# Assuming df is your DataFrame containing the data\n",
    "# Extract the \"Consumer\" columns\n",
    "consumer_columns = combined_df.filter(like='Consumer')\n",
    "\n",
    "# Calculate the average of the \"Tech\" columns\n",
    "consumer_average = consumer_columns.mean()\n",
    "\n",
    "print(consumer_average)"
   ]
  },
  {
   "cell_type": "code",
   "execution_count": 8,
   "id": "db4ee294",
   "metadata": {},
   "outputs": [
    {
     "name": "stdout",
     "output_type": "stream",
     "text": [
      "Energy    1.046224\n",
      "dtype: float64\n"
     ]
    }
   ],
   "source": [
    "# Assuming df is your DataFrame containing the data\n",
    "# Extract the \"Energy\" columns\n",
    "energy_columns = combined_df.filter(like='Energy')\n",
    "\n",
    "# Calculate the average of the \"Tech\" columns\n",
    "energy_average = energy_columns.mean()\n",
    "\n",
    "print(energy_average)"
   ]
  },
  {
   "cell_type": "code",
   "execution_count": 9,
   "id": "9648bde6",
   "metadata": {},
   "outputs": [
    {
     "name": "stdout",
     "output_type": "stream",
     "text": [
      "Weapons    1.087985\n",
      "dtype: float64\n"
     ]
    }
   ],
   "source": [
    "# Assuming df is your DataFrame containing the data\n",
    "# Extract the \"Weapons\" columns\n",
    "weapons_columns = combined_df.filter(like='Weapons')\n",
    "\n",
    "# Calculate the average of the \"Tech\" columns\n",
    "weapons_average = weapons_columns.mean()\n",
    "\n",
    "print(weapons_average)"
   ]
  },
  {
   "cell_type": "code",
   "execution_count": 10,
   "id": "d37cee0b",
   "metadata": {},
   "outputs": [
    {
     "name": "stderr",
     "output_type": "stream",
     "text": [
      "/Users/kaylahoffman/miniconda3/lib/python3.9/site-packages/numpy/core/fromnumeric.py:59: RuntimeWarning: overflow encountered in accumulate\n",
      "  return bound(*args, **kwds)\n",
      "/Users/kaylahoffman/miniconda3/lib/python3.9/site-packages/matplotlib/axes/_base.py:2923: RuntimeWarning: overflow encountered in scalar add\n",
      "  x0, x1 = inverse_trans.transform([x0t - delta, x1t + delta])\n"
     ]
    },
    {
     "data": {
      "image/png": "[encoded data removed]",
      "text/plain": [
       "<Figure size 1000x600 with 1 Axes>"
      ]
     },
     "metadata": {},
     "output_type": "display_data"
    }
   ],
   "source": [
    "cumulative_returns = (1 + combined_df).cumprod()\n",
    "\n",
    "cumulative_returns.plot(figsize=(10, 6))  # Adjust figsize as needed\n",
    "plt.title('Cumulative Returns of Each Industry')\n",
    "plt.xlabel('Date')\n",
    "plt.ylabel('Cumulative Returns')\n",
    "plt.grid(True)\n",
    "plt.legend()\n",
    "plt.show()"
   ]
  },
  {
   "cell_type": "markdown",
   "id": "d348fc2d",
   "metadata": {},
   "source": [
    "# Monte Carlo Simulations"
   ]
  },
  {
   "cell_type": "code",
   "execution_count": 11,
   "id": "90a67a54",
   "metadata": {},
   "outputs": [],
   "source": [
    "# Initial imports\n",
    "import os\n",
    "import requests\n",
    "import pandas as pd\n",
    "from dotenv import load_dotenv\n",
    "import alpaca_trade_api as tradeapi\n",
    "from MCForecastTools import MCSimulation\n",
    "\n",
    "%matplotlib inline"
   ]
  },
  {
   "cell_type": "code",
   "execution_count": 12,
   "id": "34501754",
   "metadata": {},
   "outputs": [],
   "source": [
    "# Set start and end dates of five years back from today.\n",
    "# Sample results may vary from the solution based on the time frame chosen\n",
    "start_date = pd.Timestamp('2018-10-31', tz='America/New_York').isoformat()\n",
    "end_date = pd.Timestamp('2023-10-31', tz='America/New_York').isoformat()"
   ]
  },
  {
   "cell_type": "code",
   "execution_count": 13,
   "id": "cf64fe3a",
   "metadata": {},
   "outputs": [],
   "source": [
    "# Specify the path to your .env file\n",
    "dotenv_path = '/Users/kaylahoffman/Desktop/Financial_Planning/Module_5_Instructions/Financial_Planning_Code/api.env'\n",
    "\n",
    "# Load .env enviroment variables\n",
    "load_dotenv(dotenv_path)\n",
    "\n",
    "# Load environment variables\n",
    "load_dotenv(dotenv_path)\n",
    "\n",
    "# Access Alpaca API key ID\n",
    "alpaca_api_key_id = os.getenv(\"APCA_API_KEY_ID\")\n",
    "alpaca_secret_key = os.getenv(\"APCA_API_SECRET_KEY\")\n",
    "\n",
    "# Create the Alpaca API object\n",
    "alpaca = tradeapi.REST(\n",
    "    alpaca_api_key_id,\n",
    "    alpaca_secret_key,\n",
    "    api_version=\"v2\")"
   ]
  },
  {
   "cell_type": "code",
   "execution_count": 15,
   "id": "612e8319",
   "metadata": {},
   "outputs": [],
   "source": [
    "# Get 5 years' worth of historical data for SPY and AGG\n",
    "#tickers = [\"AAPL\",\"GOOG\",\"MSFT\",\"JNJ\",\"PFE\",\"UNH\",\"JPM\",\"BAC\",\"V\"]\n",
    "\n",
    "timeframe = \"1Day\"\n",
    "\n",
    "# Define the tickers and corresponding weights\n",
    "tickers = ['AAPL', 'GOOGL', 'MSFT', 'AMZN', ]  # Example tickers\n",
    "weights = [0.25, 0.40, 0.25, 0.25]  # Example weights (25% each)\n",
    "\n",
    "# Get bars data for the tickers\n",
    "df_ticker = alpaca.get_bars(\n",
    "    tickers,\n",
    "    timeframe,\n",
    "    start=start_date,\n",
    "    end=end_date\n",
    ").df"
   ]
  },
  {
   "cell_type": "code",
   "execution_count": 16,
   "id": "ff8b0063",
   "metadata": {},
   "outputs": [
    {
     "data": {
      "text/html": [
       "<div>\n",
       "<style scoped>\n",
       "    .dataframe tbody tr th:only-of-type {\n",
       "        vertical-align: middle;\n",
       "    }\n",
       "\n",
       "    .dataframe tbody tr th {\n",
       "        vertical-align: top;\n",
       "    }\n",
       "\n",
       "    .dataframe thead tr th {\n",
       "        text-align: left;\n",
       "    }\n",
       "\n",
       "    .dataframe thead tr:last-of-type th {\n",
       "        text-align: right;\n",
       "    }\n",
       "</style>\n",
       "<table border=\"1\" class=\"dataframe\">\n",
       "  <thead>\n",
       "    <tr>\n",
       "      <th></th>\n",
       "      <th colspan=\"7\" halign=\"left\">AAPL</th>\n",
       "      <th colspan=\"3\" halign=\"left\">GOOG</th>\n",
       "      <th>...</th>\n",
       "      <th colspan=\"3\" halign=\"left\">BAC</th>\n",
       "      <th colspan=\"7\" halign=\"left\">V</th>\n",
       "    </tr>\n",
       "    <tr>\n",
       "      <th></th>\n",
       "      <th>close</th>\n",
       "      <th>high</th>\n",
       "      <th>low</th>\n",
       "      <th>trade_count</th>\n",
       "      <th>open</th>\n",
       "      <th>volume</th>\n",
       "      <th>vwap</th>\n",
       "      <th>close</th>\n",
       "      <th>high</th>\n",
       "      <th>low</th>\n",
       "      <th>...</th>\n",
       "      <th>open</th>\n",
       "      <th>volume</th>\n",
       "      <th>vwap</th>\n",
       "      <th>close</th>\n",
       "      <th>high</th>\n",
       "      <th>low</th>\n",
       "      <th>trade_count</th>\n",
       "      <th>open</th>\n",
       "      <th>volume</th>\n",
       "      <th>vwap</th>\n",
       "    </tr>\n",
       "    <tr>\n",
       "      <th>timestamp</th>\n",
       "      <th></th>\n",
       "      <th></th>\n",
       "      <th></th>\n",
       "      <th></th>\n",
       "      <th></th>\n",
       "      <th></th>\n",
       "      <th></th>\n",
       "      <th></th>\n",
       "      <th></th>\n",
       "      <th></th>\n",
       "      <th></th>\n",
       "      <th></th>\n",
       "      <th></th>\n",
       "      <th></th>\n",
       "      <th></th>\n",
       "      <th></th>\n",
       "      <th></th>\n",
       "      <th></th>\n",
       "      <th></th>\n",
       "      <th></th>\n",
       "      <th></th>\n",
       "    </tr>\n",
       "  </thead>\n",
       "  <tbody>\n",
       "    <tr>\n",
       "      <th>2018-10-31 04:00:00+00:00</th>\n",
       "      <td>218.86</td>\n",
       "      <td>220.45</td>\n",
       "      <td>216.62</td>\n",
       "      <td>301129</td>\n",
       "      <td>216.88</td>\n",
       "      <td>42444508</td>\n",
       "      <td>218.856231</td>\n",
       "      <td>NaN</td>\n",
       "      <td>NaN</td>\n",
       "      <td>NaN</td>\n",
       "      <td>...</td>\n",
       "      <td>NaN</td>\n",
       "      <td>NaN</td>\n",
       "      <td>NaN</td>\n",
       "      <td>NaN</td>\n",
       "      <td>NaN</td>\n",
       "      <td>NaN</td>\n",
       "      <td>NaN</td>\n",
       "      <td>NaN</td>\n",
       "      <td>NaN</td>\n",
       "      <td>NaN</td>\n",
       "    </tr>\n",
       "    <tr>\n",
       "      <th>2018-11-01 04:00:00+00:00</th>\n",
       "      <td>222.22</td>\n",
       "      <td>222.36</td>\n",
       "      <td>216.81</td>\n",
       "      <td>505926</td>\n",
       "      <td>219.05</td>\n",
       "      <td>59915448</td>\n",
       "      <td>217.683523</td>\n",
       "      <td>NaN</td>\n",
       "      <td>NaN</td>\n",
       "      <td>NaN</td>\n",
       "      <td>...</td>\n",
       "      <td>NaN</td>\n",
       "      <td>NaN</td>\n",
       "      <td>NaN</td>\n",
       "      <td>NaN</td>\n",
       "      <td>NaN</td>\n",
       "      <td>NaN</td>\n",
       "      <td>NaN</td>\n",
       "      <td>NaN</td>\n",
       "      <td>NaN</td>\n",
       "      <td>NaN</td>\n",
       "    </tr>\n",
       "    <tr>\n",
       "      <th>2018-11-02 04:00:00+00:00</th>\n",
       "      <td>207.48</td>\n",
       "      <td>213.65</td>\n",
       "      <td>205.43</td>\n",
       "      <td>756041</td>\n",
       "      <td>209.55</td>\n",
       "      <td>95135063</td>\n",
       "      <td>208.088580</td>\n",
       "      <td>NaN</td>\n",
       "      <td>NaN</td>\n",
       "      <td>NaN</td>\n",
       "      <td>...</td>\n",
       "      <td>NaN</td>\n",
       "      <td>NaN</td>\n",
       "      <td>NaN</td>\n",
       "      <td>NaN</td>\n",
       "      <td>NaN</td>\n",
       "      <td>NaN</td>\n",
       "      <td>NaN</td>\n",
       "      <td>NaN</td>\n",
       "      <td>NaN</td>\n",
       "      <td>NaN</td>\n",
       "    </tr>\n",
       "    <tr>\n",
       "      <th>2018-11-05 05:00:00+00:00</th>\n",
       "      <td>201.59</td>\n",
       "      <td>204.39</td>\n",
       "      <td>198.17</td>\n",
       "      <td>569649</td>\n",
       "      <td>204.26</td>\n",
       "      <td>68848036</td>\n",
       "      <td>200.964339</td>\n",
       "      <td>NaN</td>\n",
       "      <td>NaN</td>\n",
       "      <td>NaN</td>\n",
       "      <td>...</td>\n",
       "      <td>NaN</td>\n",
       "      <td>NaN</td>\n",
       "      <td>NaN</td>\n",
       "      <td>NaN</td>\n",
       "      <td>NaN</td>\n",
       "      <td>NaN</td>\n",
       "      <td>NaN</td>\n",
       "      <td>NaN</td>\n",
       "      <td>NaN</td>\n",
       "      <td>NaN</td>\n",
       "    </tr>\n",
       "    <tr>\n",
       "      <th>2018-11-06 05:00:00+00:00</th>\n",
       "      <td>203.77</td>\n",
       "      <td>204.72</td>\n",
       "      <td>201.69</td>\n",
       "      <td>253890</td>\n",
       "      <td>201.92</td>\n",
       "      <td>34030512</td>\n",
       "      <td>203.264572</td>\n",
       "      <td>NaN</td>\n",
       "      <td>NaN</td>\n",
       "      <td>NaN</td>\n",
       "      <td>...</td>\n",
       "      <td>NaN</td>\n",
       "      <td>NaN</td>\n",
       "      <td>NaN</td>\n",
       "      <td>NaN</td>\n",
       "      <td>NaN</td>\n",
       "      <td>NaN</td>\n",
       "      <td>NaN</td>\n",
       "      <td>NaN</td>\n",
       "      <td>NaN</td>\n",
       "      <td>NaN</td>\n",
       "    </tr>\n",
       "  </tbody>\n",
       "</table>\n",
       "<p>5 rows × 63 columns</p>\n",
       "</div>"
      ],
      "text/plain": [
       "                             AAPL                                      \\\n",
       "                            close    high     low trade_count    open   \n",
       "timestamp                                                               \n",
       "2018-10-31 04:00:00+00:00  218.86  220.45  216.62      301129  216.88   \n",
       "2018-11-01 04:00:00+00:00  222.22  222.36  216.81      505926  219.05   \n",
       "2018-11-02 04:00:00+00:00  207.48  213.65  205.43      756041  209.55   \n",
       "2018-11-05 05:00:00+00:00  201.59  204.39  198.17      569649  204.26   \n",
       "2018-11-06 05:00:00+00:00  203.77  204.72  201.69      253890  201.92   \n",
       "\n",
       "                                                 GOOG           ...  BAC  \\\n",
       "                             volume        vwap close high low  ... open   \n",
       "timestamp                                                       ...        \n",
       "2018-10-31 04:00:00+00:00  42444508  218.856231   NaN  NaN NaN  ...  NaN   \n",
       "2018-11-01 04:00:00+00:00  59915448  217.683523   NaN  NaN NaN  ...  NaN   \n",
       "2018-11-02 04:00:00+00:00  95135063  208.088580   NaN  NaN NaN  ...  NaN   \n",
       "2018-11-05 05:00:00+00:00  68848036  200.964339   NaN  NaN NaN  ...  NaN   \n",
       "2018-11-06 05:00:00+00:00  34030512  203.264572   NaN  NaN NaN  ...  NaN   \n",
       "\n",
       "                                          V                                   \\\n",
       "                          volume vwap close high low trade_count open volume   \n",
       "timestamp                                                                      \n",
       "2018-10-31 04:00:00+00:00    NaN  NaN   NaN  NaN NaN         NaN  NaN    NaN   \n",
       "2018-11-01 04:00:00+00:00    NaN  NaN   NaN  NaN NaN         NaN  NaN    NaN   \n",
       "2018-11-02 04:00:00+00:00    NaN  NaN   NaN  NaN NaN         NaN  NaN    NaN   \n",
       "2018-11-05 05:00:00+00:00    NaN  NaN   NaN  NaN NaN         NaN  NaN    NaN   \n",
       "2018-11-06 05:00:00+00:00    NaN  NaN   NaN  NaN NaN         NaN  NaN    NaN   \n",
       "\n",
       "                                \n",
       "                          vwap  \n",
       "timestamp                       \n",
       "2018-10-31 04:00:00+00:00  NaN  \n",
       "2018-11-01 04:00:00+00:00  NaN  \n",
       "2018-11-02 04:00:00+00:00  NaN  \n",
       "2018-11-05 05:00:00+00:00  NaN  \n",
       "2018-11-06 05:00:00+00:00  NaN  \n",
       "\n",
       "[5 rows x 63 columns]"
      ]
     },
     "execution_count": 16,
     "metadata": {},
     "output_type": "execute_result"
    }
   ],
   "source": [
    "# Reorganize the DataFrame\n",
    "AAPL = df_ticker[df_ticker['symbol']=='AAPL'].drop('symbol', axis=1)\n",
    "GOOG = df_ticker[df_ticker['symbol']=='GOOG'].drop('symbol', axis=1)\n",
    "MSFT = df_ticker[df_ticker['symbol']=='MSFT'].drop('symbol', axis=1)\n",
    "JNJ = df_ticker[df_ticker['symbol']=='JNJ'].drop('symbol', axis=1)\n",
    "PFE = df_ticker[df_ticker['symbol']=='PFE'].drop('symbol', axis=1)\n",
    "UNH = df_ticker[df_ticker['symbol']=='UNH'].drop('symbol', axis=1)\n",
    "JPM = df_ticker[df_ticker['symbol']=='JPM'].drop('symbol', axis=1)\n",
    "BAC = df_ticker[df_ticker['symbol']=='BAC'].drop('symbol', axis=1)\n",
    "V = df_ticker[df_ticker['symbol']=='V'].drop('symbol', axis=1)\n",
    "\n",
    "# Concatenate the ticker DataFrames\n",
    "df_ticker = pd.concat([AAPL,GOOG,MSFT,JNJ,PFE,UNH,JPM,BAC,V], axis=1, keys=[\"AAPL\",\"GOOG\",\"MSFT\",\"JNJ\",\"PFE\",\"UNH\",\"JPM\",\"BAC\",\"V\"])\n",
    "\n",
    "# Display sample data\n",
    "df_ticker.head()"
   ]
  },
  {
   "cell_type": "code",
   "execution_count": null,
   "id": "bf806ae3",
   "metadata": {},
   "outputs": [],
   "source": [
    "# Create and empty DataFrame for closing prices\n",
    "df_closing_prices = pd.DataFrame()\n",
    "\n",
    "# Fetch the closing prices of KO and TSLA\n",
    "df_closing_prices[\"AAPL\"] = df_ticker[\"AAPL\"][\"close\"]\n",
    "df_closing_prices[\"GOOG\"] = df_ticker[\"GOOG\"][\"close\"]\n",
    "df_closing_prices[\"MSFT\"] = df_ticker[\"MSFT\"][\"close\"]\n",
    "df_closing_prices[\"JNJ\"] = df_ticker[\"JNJ\"][\"close\"]\n",
    "df_closing_prices[\"PFE\"] = df_ticker[\"PFE\"][\"close\"]\n",
    "df_closing_prices[\"UNH\"] = df_ticker[\"UNH\"][\"close\"]\n",
    "df_closing_prices[\"JPM\"] = df_ticker[\"JPM\"][\"close\"]\n",
    "df_closing_prices[\"BAC\"] = df_ticker[\"BAC\"][\"close\"]\n",
    "df_closing_prices[\"V\"] = df_ticker[\"V\"][\"close\"]\n",
    "\n",
    "# Check for NaN values in the 'V' column\n",
    "# You need to explain \n",
    "v_nan_indices = df_closing_prices['V'].isna()\n",
    "average_V = df_closing_prices['V'].mean()\n",
    "df_closing_prices['V'] = df_closing_prices['V'].fillna(average_V)\n",
    "\n",
    "# Drop the time component of the date\n",
    "df_closing_prices.index = df_closing_prices.index.date\n",
    "\n",
    "# Ensure the index is in datetime format\n",
    "df_closing_prices.index = pd.to_datetime(df_closing_prices.index)\n",
    "\n",
    "df_closing_prices "
   ]
  },
  {
   "cell_type": "code",
   "execution_count": null,
   "id": "cd08a77e",
   "metadata": {},
   "outputs": [],
   "source": [
    "# Configuring a Monte Carlo simulation to forecast 30 years cumulative returns\n",
    "# Weights for each stock are assumed to be equal \n",
    "MC_two_year = MCSimulation(\n",
    "    portfolio_data = df_ticker,\n",
    "    num_simulation = 200,\n",
    "    num_trading_days = 252*2\n",
    ")"
   ]
  },
  {
   "cell_type": "code",
   "execution_count": null,
   "id": "8395133a",
   "metadata": {},
   "outputs": [],
   "source": [
    "# Printing the simulation input data\n",
    "MC_two_year.portfolio_data.head()"
   ]
  },
  {
   "cell_type": "code",
   "execution_count": null,
   "id": "a742e8ee",
   "metadata": {},
   "outputs": [],
   "source": [
    "# Running a Monte Carlo simulation to forecast 30 years cumulative returns\n",
    "MC_thirty_year.calc_cumulative_return()"
   ]
  },
  {
   "cell_type": "code",
   "execution_count": null,
   "id": "a2dbceab",
   "metadata": {},
   "outputs": [],
   "source": [
    "import matplotlib.pyplot as plt\n",
    "\n",
    "# Set the figure size\n",
    "plt.figure(figsize=(12, 8))\n",
    "\n",
    "# Get the matplotlib Axes object\n",
    "ax = MC_thirty_year.plot_simulation()\n",
    "\n",
    "# Customize the plot\n",
    "for line in ax.lines:\n",
    "    line.set_linewidth(0.5)  # Adjust line width\n",
    "\n",
    "# Set title and labels\n",
    "plt.title('Monte Carlo Simulation of 30-Year Cumulative Returns', fontsize=16)\n",
    "plt.xlabel('Trading Days', fontsize=14)\n",
    "plt.ylabel('Portfolio Value', fontsize=14)\n",
    "\n",
    "# Add grid\n",
    "plt.grid(True)\n",
    "\n",
    "# Show plot\n",
    "plt.show()"
   ]
  }
 ],
 "metadata": {
  "kernelspec": {
   "display_name": "Python 3 (ipykernel)",
   "language": "python",
   "name": "python3"
  },
  "language_info": {
   "codemirror_mode": {
    "name": "ipython",
    "version": 3
   },
   "file_extension": ".py",
   "mimetype": "text/x-python",
   "name": "python",
   "nbconvert_exporter": "python",
   "pygments_lexer": "ipython3",
   "version": "3.9.18"
  }
 },
 "nbformat": 4,
 "nbformat_minor": 5
}
