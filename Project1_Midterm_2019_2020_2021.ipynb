{
 "cells": [
  {
   "cell_type": "markdown",
   "id": "d694eeb0",
   "metadata": {},
   "source": [
    "# Create Custom Portfolio: 12 months Before \n",
    "## Time Period: November 2019 to October 2020\n",
    "In this section, we chose three stocks from the top six invested in industries, calculate the returns, and compare the results to determine which industry performed best\n",
    "\n",
    "1. Choose 3 stocks with at last 1 year's worth of historic prices and create a DataFrame of the closing prices and dates for each stock.\n",
    "2. Calculate the weighted returns for the portfolio assuming an equal number of shares for each stock\n",
    "3. Join your portfolio returns to the DataFrame that contains all of the portfolio returns\n",
    "4. Re-run the performance and risk analysis with your portfolio to see how it compares to the others\n",
    "5. Include correlation analysis to determine which stocks (if any) are correlated"
   ]
  },
  {
   "cell_type": "markdown",
   "id": "c6085b36",
   "metadata": {},
   "source": [
    "## Choose 3-5 custom stocks with at last 1 year's worth of historic prices and create a DataFrame of the closing prices and dates for each stock."
   ]
  },
  {
   "cell_type": "code",
<<<<<<< HEAD
   "execution_count": 65,
=======
   "execution_count": 1,
>>>>>>> ea7a963a2c7f22a9d6396b5e0fa4bb5a99e02dee
   "id": "6a008aa5",
   "metadata": {},
   "outputs": [],
   "source": [
    "import yfinance as yf\n",
    "\n",
    "# Initial imports\n",
    "import pandas as pd\n",
    "import numpy as np\n",
    "import datetime as dt\n",
    "from pathlib import Path\n",
    "import matplotlib.pyplot as plt"
   ]
  },
  {
   "cell_type": "markdown",
   "id": "841014a0",
   "metadata": {},
   "source": [
    "## Technology Sector\n",
    "These are the three stocks we chose within the Technology Industry"
   ]
  },
  {
   "cell_type": "code",
<<<<<<< HEAD
   "execution_count": 66,
=======
   "execution_count": 2,
>>>>>>> ea7a963a2c7f22a9d6396b5e0fa4bb5a99e02dee
   "id": "7b32099f",
   "metadata": {},
   "outputs": [
    {
     "name": "stderr",
     "output_type": "stream",
     "text": [
      "[*********************100%%**********************]  1 of 1 completed"
     ]
    },
    {
     "name": "stdout",
     "output_type": "stream",
     "text": [
      "<class 'pandas.core.frame.DataFrame'>\n",
      "                  Open        High         Low       Close   Adj Close\n",
      "Date                                                                  \n",
      "2019-11-01   62.384998   63.982498   62.290001   63.955002   62.041336\n",
      "2019-11-04   64.332497   64.462502   63.845001   64.375000   62.448780\n",
      "2019-11-05   64.262497   64.547501   64.080002   64.282501   62.359047\n",
      "2019-11-06   64.192497   64.372498   63.842499   64.309998   62.385715\n",
      "2019-11-07   64.684998   65.087502   64.527496   64.857498   63.105713\n",
      "...                ...         ...         ...         ...         ...\n",
      "2020-10-26  114.010002  116.550003  112.879997  115.050003  112.714836\n",
      "2020-10-27  115.489998  117.279999  114.540001  116.599998  114.233368\n",
      "2020-10-28  115.050003  115.430000  111.099998  111.199997  108.942978\n",
      "2020-10-29  112.370003  116.930000  112.199997  115.320000  112.979355\n",
      "2020-10-30  111.059998  111.989998  107.720001  108.860001  106.650459\n",
      "\n",
      "[252 rows x 5 columns]\n"
     ]
    },
    {
     "name": "stderr",
     "output_type": "stream",
     "text": [
      "\n"
     ]
    }
   ],
   "source": [
    "# Define the stock ticker and date range: Apple Inc. \n",
    "AAPL_stock = 'AAPL'\n",
    "start_date = '2019-11-01'  # example start date\n",
    "end_date = '2020-10-31'    # example end date\n",
    "\n",
    "# Download the stock data\n",
<<<<<<< HEAD
    "data_AAPL = yf.download(AAPL_stock, start=start_date, end=end_date)"
=======
    "data_AAPL = yf.download(AAPL_stock, start=start_date, end=end_date)\n",
    "\n",
    "# Print the type of the data\n",
    "print(type(data_AAPL))\n",
    "\n",
    "# Print the first few columns of the data\n",
    "print(data_AAPL.iloc[:, :5])  # This prints the first three columns of the DataFrame"
>>>>>>> ea7a963a2c7f22a9d6396b5e0fa4bb5a99e02dee
   ]
  },
  {
   "cell_type": "code",
<<<<<<< HEAD
   "execution_count": 67,
=======
   "execution_count": 3,
>>>>>>> ea7a963a2c7f22a9d6396b5e0fa4bb5a99e02dee
   "id": "2eeb51ad",
   "metadata": {},
   "outputs": [
    {
     "name": "stderr",
     "output_type": "stream",
     "text": [
      "[*********************100%%**********************]  1 of 1 completed"
     ]
    },
    {
     "name": "stdout",
     "output_type": "stream",
     "text": [
      "<class 'pandas.core.frame.DataFrame'>\n",
      "                  Open        High         Low       Close   Adj Close\n",
      "Date                                                                  \n",
      "2019-11-01  144.259995  144.419998  142.970001  143.720001  138.024399\n",
      "2019-11-04  144.830002  145.000000  144.160004  144.550003  138.821487\n",
      "2019-11-05  144.970001  145.020004  143.910004  144.460007  138.735092\n",
      "2019-11-06  144.369995  144.520004  143.199997  144.059998  138.350922\n",
      "2019-11-07  143.839996  144.880005  143.770004  144.259995  138.542984\n",
      "...                ...         ...         ...         ...         ...\n",
      "2020-10-26  213.850006  216.339996  208.100006  210.080002  204.051453\n",
      "2020-10-27  211.589996  214.669998  210.330002  213.250000  207.130447\n",
      "2020-10-28  207.669998  208.839996  202.100006  202.679993  196.863785\n",
      "2020-10-29  204.070007  207.360001  203.369995  204.720001  198.845230\n",
      "2020-10-30  203.500000  204.289993  199.619995  202.470001  196.659821\n",
      "\n",
      "[252 rows x 5 columns]\n"
     ]
    },
    {
     "name": "stderr",
     "output_type": "stream",
     "text": [
      "\n"
     ]
    }
   ],
   "source": [
    "# Define the stock ticker and date range: Microsoft \n",
    "MSFT_stock = 'MSFT'\n",
    "start_date = '2019-11-01'  # example start date\n",
    "end_date = '2020-10-31'    # example end date\n",
    "\n",
    "# Download the stock data\n",
<<<<<<< HEAD
    "data_MSFT = yf.download(MSFT_stock, start=start_date, end=end_date)"
=======
    "data_MSFT = yf.download(MSFT_stock, start=start_date, end=end_date)\n",
    "\n",
    "# Print the type of the data\n",
    "print(type(data_MSFT))\n",
    "\n",
    "# Print the first few columns of the data\n",
    "print(data_MSFT.iloc[:, :5])  # This prints the first three columns of the DataFrame"
>>>>>>> ea7a963a2c7f22a9d6396b5e0fa4bb5a99e02dee
   ]
  },
  {
   "cell_type": "code",
<<<<<<< HEAD
   "execution_count": 68,
=======
   "execution_count": 4,
>>>>>>> ea7a963a2c7f22a9d6396b5e0fa4bb5a99e02dee
   "id": "29505cc9",
   "metadata": {},
   "outputs": [
    {
     "name": "stderr",
     "output_type": "stream",
     "text": [
      "[*********************100%%**********************]  1 of 1 completed"
     ]
    },
    {
     "name": "stdout",
     "output_type": "stream",
     "text": [
      "<class 'pandas.core.frame.DataFrame'>\n",
      "                 Open       High        Low      Close  Adj Close\n",
      "Date                                                             \n",
      "2019-11-01  63.250000  63.730999  63.025002  63.687000  63.687000\n",
      "2019-11-04  63.822498  64.706497  63.817749  64.568497  64.568497\n",
      "2019-11-05  64.644501  64.946503  64.561447  64.601501  64.601501\n",
      "2019-11-06  64.473000  64.686501  64.125000  64.589996  64.589996\n",
      "2019-11-07  64.713997  66.186996  64.712250  65.443001  65.443001\n",
      "...               ...        ...        ...        ...        ...\n",
      "2020-10-26  81.250504  81.912003  78.824997  79.522499  79.522499\n",
      "2020-10-27  79.783501  80.342247  79.139000  80.212997  80.212997\n",
      "2020-10-28  77.987000  78.067497  75.731003  75.831001  75.831001\n",
      "2020-10-29  76.117996  79.685501  76.112000  78.362000  78.362000\n",
      "2020-10-30  83.605499  84.349998  80.223000  81.050499  81.050499\n",
      "\n",
      "[252 rows x 5 columns]\n"
     ]
    },
    {
     "name": "stderr",
     "output_type": "stream",
     "text": [
      "\n"
     ]
    }
   ],
   "source": [
    "# Define the stock ticker and date range: Google \n",
    "GOOG_stock = 'GOOG'\n",
    "start_date = '2019-11-01'  # example start date\n",
    "end_date = '2020-10-31'    # example end date\n",
    "\n",
    "# Download the stock data\n",
<<<<<<< HEAD
    "data_GOOG = yf.download(GOOG_stock, start=start_date, end=end_date)"
=======
    "data_GOOG = yf.download(GOOG_stock, start=start_date, end=end_date)\n",
    "\n",
    "# Print the type of the data\n",
    "print(type(data_GOOG))\n",
    "\n",
    "# Print the first few columns of the data\n",
    "print(data_GOOG.iloc[:, :5])  # This prints the first three columns of the DataFrame"
>>>>>>> ea7a963a2c7f22a9d6396b5e0fa4bb5a99e02dee
   ]
  },
  {
   "cell_type": "markdown",
   "id": "d130962b",
   "metadata": {},
   "source": [
    "## Healthcare Sector \n",
    "These are the three stocks we chose in the Healthcare Industry"
   ]
  },
  {
   "cell_type": "code",
<<<<<<< HEAD
   "execution_count": 69,
=======
   "execution_count": 5,
>>>>>>> ea7a963a2c7f22a9d6396b5e0fa4bb5a99e02dee
   "id": "e03ed623",
   "metadata": {},
   "outputs": [
    {
     "name": "stderr",
     "output_type": "stream",
     "text": [
      "[*********************100%%**********************]  1 of 1 completed"
     ]
    },
    {
     "name": "stdout",
     "output_type": "stream",
     "text": [
      "<class 'pandas.core.frame.DataFrame'>\n",
      "                  Open        High         Low       Close   Adj Close\n",
      "Date                                                                  \n",
      "2019-11-01  132.050003  133.000000  131.139999  131.199997  117.012161\n",
      "2019-11-04  131.800003  131.949997  130.089996  130.229996  116.147064\n",
      "2019-11-05  130.529999  131.470001  129.679993  130.419998  116.316521\n",
      "2019-11-06  130.419998  131.479996  129.699997  130.960007  116.798126\n",
      "2019-11-07  131.729996  132.380005  131.009995  131.429993  117.217262\n",
      "...                ...         ...         ...         ...         ...\n",
      "2020-10-26  144.429993  144.770004  142.750000  143.970001  131.889252\n",
      "2020-10-27  143.740005  144.289993  142.919998  143.149994  131.138077\n",
      "2020-10-28  141.429993  141.979996  138.179993  138.360001  126.749992\n",
      "2020-10-29  138.000000  138.699997  136.050003  137.190002  125.678200\n",
      "2020-10-30  136.679993  137.539993  133.649994  137.110001  125.604897\n",
      "\n",
      "[252 rows x 5 columns]\n"
     ]
    },
    {
     "name": "stderr",
     "output_type": "stream",
     "text": [
      "\n"
     ]
    }
   ],
   "source": [
    "# Define the stock ticker and date range: Johnson and Johnson \n",
    "JNJ_stock = 'JNJ'\n",
    "start_date = '2019-11-01'  # example start date\n",
    "end_date = '2020-10-31'    # example end date\n",
    "\n",
    "# Download the stock data\n",
<<<<<<< HEAD
    "data_JNJ = yf.download(JNJ_stock, start=start_date, end=end_date)"
=======
    "data_JNJ = yf.download(JNJ_stock, start=start_date, end=end_date)\n",
    "\n",
    "# Print the type of the data\n",
    "print(type(data_JNJ))\n",
    "\n",
    "# Print the first few columns of the data\n",
    "print(data_JNJ.iloc[:, :5])  # This prints the first three columns of the DataFrame"
>>>>>>> ea7a963a2c7f22a9d6396b5e0fa4bb5a99e02dee
   ]
  },
  {
   "cell_type": "code",
<<<<<<< HEAD
   "execution_count": 70,
=======
   "execution_count": 6,
>>>>>>> ea7a963a2c7f22a9d6396b5e0fa4bb5a99e02dee
   "id": "aa561407",
   "metadata": {},
   "outputs": [
    {
     "name": "stderr",
     "output_type": "stream",
     "text": [
      "[*********************100%%**********************]  1 of 1 completed"
     ]
    },
    {
     "name": "stdout",
     "output_type": "stream",
     "text": [
      "<class 'pandas.core.frame.DataFrame'>\n",
      "                 Open       High        Low      Close  Adj Close\n",
      "Date                                                             \n",
      "2019-11-01  36.707779  36.944973  36.423149  36.423149  30.444281\n",
      "2019-11-04  36.726753  36.755219  36.081593  36.081593  30.158791\n",
      "2019-11-05  36.081593  36.148006  35.550285  35.559772  29.722631\n",
      "2019-11-06  35.683113  35.796963  35.436432  35.683113  29.825724\n",
      "2019-11-07  35.483871  35.654648  34.990513  35.018974  29.553490\n",
      "...               ...        ...        ...        ...        ...\n",
      "2020-10-26  35.929790  36.072105  35.559772  35.977230  31.280781\n",
      "2020-10-27  35.142315  36.166985  34.981026  35.512333  30.876566\n",
      "2020-10-28  34.914612  35.227703  33.510437  33.633778  29.243240\n",
      "2020-10-29  33.662239  33.814041  32.827324  33.472485  29.103006\n",
      "2020-10-30  33.434536  33.709679  33.055027  33.662239  29.267986\n",
      "\n",
      "[252 rows x 5 columns]\n"
     ]
    },
    {
     "name": "stderr",
     "output_type": "stream",
     "text": [
      "\n"
     ]
    }
   ],
   "source": [
    "# Define the stock ticker and date range: Pfizer Inc\n",
    "PFE_stock = 'PFE'\n",
    "start_date = '2019-11-01'  # example start date\n",
    "end_date = '2020-10-31'    # example end date\n",
    "\n",
    "# Download the stock data\n",
<<<<<<< HEAD
    "data_PFE = yf.download(PFE_stock, start=start_date, end=end_date)"
=======
    "data_PFE = yf.download(PFE_stock, start=start_date, end=end_date)\n",
    "\n",
    "# Print the type of the data\n",
    "print(type(data_PFE))\n",
    "\n",
    "# Print the first few columns of the data\n",
    "print(data_PFE.iloc[:, :5])  # This prints the first three columns of the DataFrame"
>>>>>>> ea7a963a2c7f22a9d6396b5e0fa4bb5a99e02dee
   ]
  },
  {
   "cell_type": "code",
<<<<<<< HEAD
   "execution_count": 71,
=======
   "execution_count": 7,
>>>>>>> ea7a963a2c7f22a9d6396b5e0fa4bb5a99e02dee
   "id": "30dc468e",
   "metadata": {},
   "outputs": [
    {
     "name": "stderr",
     "output_type": "stream",
     "text": [
      "[*********************100%%**********************]  1 of 1 completed"
     ]
    },
    {
     "name": "stdout",
     "output_type": "stream",
     "text": [
      "<class 'pandas.core.frame.DataFrame'>\n",
      "                  Open        High         Low       Close   Adj Close\n",
      "Date                                                                  \n",
      "2019-11-01  253.990005  256.329987  252.160004  252.210007  237.097351\n",
      "2019-11-04  253.630005  253.830002  249.910004  251.250000  236.194824\n",
      "2019-11-05  253.740005  254.270004  250.089996  250.300003  235.301773\n",
      "2019-11-06  249.710007  251.990005  249.089996  250.520004  235.508575\n",
      "2019-11-07  251.949997  256.750000  251.259995  256.459991  241.092636\n",
      "...                ...         ...         ...         ...         ...\n",
      "2020-10-26  326.320007  327.750000  318.540009  323.059998  308.776001\n",
      "2020-10-27  323.059998  323.500000  319.429993  320.510010  306.338684\n",
      "2020-10-28  313.329987  317.809998  307.440002  308.000000  294.381775\n",
      "2020-10-29  306.589996  309.480011  301.459991  303.679993  290.252777\n",
      "2020-10-30  303.230011  307.170013  299.600006  305.140015  291.648315\n",
      "\n",
      "[252 rows x 5 columns]\n"
     ]
    },
    {
     "name": "stderr",
     "output_type": "stream",
     "text": [
      "\n"
     ]
    }
   ],
   "source": [
    "# Define the stock ticker and date range: United Health Group\n",
    "UNH_stock = 'UNH'\n",
    "start_date = '2019-11-01'  # example start date\n",
    "end_date = '2020-10-31'    # example end date\n",
    "\n",
    "# Download the stock data\n",
<<<<<<< HEAD
    "data_UNH = yf.download(UNH_stock, start=start_date, end=end_date)"
=======
    "data_UNH = yf.download(UNH_stock, start=start_date, end=end_date)\n",
    "\n",
    "# Print the type of the data\n",
    "print(type(data_UNH))\n",
    "\n",
    "# Print the first few columns of the data\n",
    "print(data_UNH.iloc[:, :5])  # This prints the first three columns of the DataFrame"
>>>>>>> ea7a963a2c7f22a9d6396b5e0fa4bb5a99e02dee
   ]
  },
  {
   "cell_type": "markdown",
   "id": "f8b69275",
   "metadata": {},
   "source": [
    "## Financials Sector \n",
    "These are the three stocks we chose in the Healthcare Industry"
   ]
  },
  {
   "cell_type": "code",
<<<<<<< HEAD
   "execution_count": 72,
=======
   "execution_count": 8,
>>>>>>> ea7a963a2c7f22a9d6396b5e0fa4bb5a99e02dee
   "id": "ef9694ae",
   "metadata": {},
   "outputs": [
    {
     "name": "stderr",
     "output_type": "stream",
     "text": [
      "[*********************100%%**********************]  1 of 1 completed"
     ]
    },
    {
     "name": "stdout",
     "output_type": "stream",
     "text": [
      "<class 'pandas.core.frame.DataFrame'>\n",
      "                  Open        High         Low       Close   Adj Close\n",
      "Date                                                                  \n",
      "2019-11-01  126.199997  127.989998  126.019997  127.800003  112.550034\n",
      "2019-11-04  129.080002  129.419998  128.559998  128.820007  113.448341\n",
      "2019-11-05  129.389999  130.300003  128.839996  129.100006  113.694946\n",
      "2019-11-06  128.690002  129.839996  128.580002  129.300003  113.871063\n",
      "2019-11-07  130.429993  131.289993  129.919998  130.000000  114.487534\n",
      "...                ...         ...         ...         ...         ...\n",
      "2020-10-26  102.650002  102.699997  100.250000  101.239998   92.397171\n",
      "2020-10-27  100.510002  100.919998   99.160004   99.330002   90.654007\n",
      "2020-10-28   97.500000   98.300003   96.070000   96.540001   88.107712\n",
      "2020-10-29   96.120003   97.980003   95.239998   97.169998   88.682663\n",
      "2020-10-30   97.910004   98.419998   96.230003   98.040001   89.476685\n",
      "\n",
      "[252 rows x 5 columns]\n"
     ]
    },
    {
     "name": "stderr",
     "output_type": "stream",
     "text": [
      "\n"
     ]
    }
   ],
   "source": [
    "# Define the stock ticker and date range: JPMorgan Chase and Co. \n",
    "JPM_stock = 'JPM'\n",
    "start_date = '2019-11-01'  # example start date\n",
    "end_date = '2020-10-31'    # example end date\n",
    "\n",
    "# Download the stock data\n",
<<<<<<< HEAD
    "data_JPM = yf.download(JPM_stock, start=start_date, end=end_date)"
=======
    "data_JPM = yf.download(JPM_stock, start=start_date, end=end_date)\n",
    "\n",
    "# Print the type of the data\n",
    "print(type(data_JPM))\n",
    "\n",
    "# Print the first few columns of the data\n",
    "print(data_JPM.iloc[:, :5])  # This prints the first three columns of the DataFrame"
>>>>>>> ea7a963a2c7f22a9d6396b5e0fa4bb5a99e02dee
   ]
  },
  {
   "cell_type": "code",
<<<<<<< HEAD
   "execution_count": 73,
=======
   "execution_count": 9,
>>>>>>> ea7a963a2c7f22a9d6396b5e0fa4bb5a99e02dee
   "id": "0b2987e0",
   "metadata": {},
   "outputs": [
    {
     "name": "stderr",
     "output_type": "stream",
     "text": [
      "[*********************100%%**********************]  1 of 1 completed"
     ]
    },
    {
     "name": "stdout",
     "output_type": "stream",
     "text": [
      "<class 'pandas.core.frame.DataFrame'>\n",
      "                 Open       High        Low      Close  Adj Close\n",
      "Date                                                             \n",
      "2019-11-01  31.700001  31.840000  31.370001  31.799999  28.640137\n",
      "2019-11-04  32.240002  32.500000  32.099998  32.400002  29.180523\n",
      "2019-11-05  32.509998  33.090000  32.500000  32.820000  29.558783\n",
      "2019-11-06  32.759998  33.060001  32.669998  32.790001  29.531767\n",
      "2019-11-07  33.110001  33.599998  33.009998  33.230000  29.928043\n",
      "...               ...        ...        ...        ...        ...\n",
      "2020-10-26  24.469999  24.580000  24.150000  24.540001  22.676840\n",
      "2020-10-27  24.290001  24.389999  23.809999  23.850000  22.039228\n",
      "2020-10-28  23.410000  23.660000  23.120001  23.469999  21.688080\n",
      "2020-10-29  23.360001  23.750000  23.120001  23.540001  21.752764\n",
      "2020-10-30  23.490000  23.840000  23.240000  23.700001  21.900616\n",
      "\n",
      "[252 rows x 5 columns]\n"
     ]
    },
    {
     "name": "stderr",
     "output_type": "stream",
     "text": [
      "\n"
     ]
    }
   ],
   "source": [
    "# Define the stock ticker and date range: Bank of America \n",
    "BAC_stock = 'BAC'\n",
    "start_date = '2019-11-01'  # example start date\n",
    "end_date = '2020-10-31'    # example end date\n",
    "\n",
    "# Download the stock data\n",
<<<<<<< HEAD
    "data_BAC = yf.download(BAC_stock, start=start_date, end=end_date)"
=======
    "data_BAC = yf.download(BAC_stock, start=start_date, end=end_date)\n",
    "\n",
    "# Print the type of the data\n",
    "print(type(data_BAC))\n",
    "\n",
    "# Print the first few columns of the data\n",
    "print(data_BAC.iloc[:, :5])  # This prints the first three columns of the DataFrame"
>>>>>>> ea7a963a2c7f22a9d6396b5e0fa4bb5a99e02dee
   ]
  },
  {
   "cell_type": "code",
<<<<<<< HEAD
   "execution_count": 74,
=======
   "execution_count": 10,
>>>>>>> ea7a963a2c7f22a9d6396b5e0fa4bb5a99e02dee
   "id": "5bafc0b5",
   "metadata": {},
   "outputs": [
    {
     "name": "stderr",
     "output_type": "stream",
     "text": [
      "[*********************100%%**********************]  1 of 1 completed"
     ]
    },
    {
     "name": "stdout",
     "output_type": "stream",
     "text": [
      "<class 'pandas.core.frame.DataFrame'>\n",
      "                  Open        High         Low       Close   Adj Close\n",
      "Date                                                                  \n",
      "2019-11-01  180.130005  181.320007  179.559998  180.929993  175.364655\n",
      "2019-11-04  182.080002  182.399994  178.809998  178.949997  173.445557\n",
      "2019-11-05  179.070007  179.559998  175.179993  176.369995  170.944916\n",
      "2019-11-06  176.369995  178.190002  176.139999  176.770004  171.332642\n",
      "2019-11-07  177.350006  180.649994  176.850006  178.429993  172.941559\n",
      "...                ...         ...         ...         ...         ...\n",
      "2020-10-26  196.000000  196.419998  190.720001  193.070007  188.314728\n",
      "2020-10-27  193.000000  193.699997  189.220001  190.059998  185.378876\n",
      "2020-10-28  183.979996  184.699997  179.339996  180.869995  176.415192\n",
      "2020-10-29  183.000000  187.000000  179.339996  184.869995  180.316681\n",
      "2020-10-30  182.660004  184.220001  179.229996  181.710007  177.234497\n",
      "\n",
      "[252 rows x 5 columns]\n"
     ]
    },
    {
     "name": "stderr",
     "output_type": "stream",
     "text": [
      "\n"
     ]
    }
   ],
   "source": [
    "# Define the stock ticker and date range: Visa\n",
    "V_stock = 'V'\n",
    "start_date = '2019-11-01'  # example start date\n",
    "end_date = '2020-10-31'    # example end date\n",
    "\n",
    "# Download the stock data\n",
<<<<<<< HEAD
    "data_V = yf.download(V_stock, start=start_date, end=end_date)"
=======
    "data_V = yf.download(V_stock, start=start_date, end=end_date)\n",
    "\n",
    "# Print the type of the data\n",
    "print(type(data_V))\n",
    "\n",
    "# Print the first few columns of the data\n",
    "print(data_V.iloc[:, :5])  # This prints the first three columns of the DataFrame"
>>>>>>> ea7a963a2c7f22a9d6396b5e0fa4bb5a99e02dee
   ]
  },
  {
   "cell_type": "markdown",
   "id": "90a42818",
   "metadata": {},
   "source": [
    "## Consumer Discretionary \n",
    "These are the three stocks we chose in the consumer discretionary industry: Amazon, Nike, and Walt Disney Company"
   ]
  },
  {
   "cell_type": "code",
<<<<<<< HEAD
   "execution_count": 75,
=======
   "execution_count": 11,
>>>>>>> ea7a963a2c7f22a9d6396b5e0fa4bb5a99e02dee
   "id": "4e57c73c",
   "metadata": {},
   "outputs": [
    {
     "name": "stderr",
     "output_type": "stream",
     "text": [
      "[*********************100%%**********************]  1 of 1 completed"
     ]
    },
    {
     "name": "stdout",
     "output_type": "stream",
     "text": [
      "<class 'pandas.core.frame.DataFrame'>\n",
      "                  Open        High         Low       Close   Adj Close\n",
      "Date                                                                  \n",
      "2019-11-01   89.400497   89.872498   89.260498   89.571999   89.571999\n",
      "2019-11-04   90.050499   90.752998   90.050499   90.233002   90.233002\n",
      "2019-11-05   90.458000   90.512497   89.699997   90.085503   90.085503\n",
      "2019-11-06   90.050003   90.125000   89.429001   89.788498   89.788498\n",
      "2019-11-07   90.188004   90.294998   89.174004   89.410004   89.410004\n",
      "...                ...         ...         ...         ...         ...\n",
      "2020-10-26  159.936996  164.149002  157.664993  160.352005  160.352005\n",
      "2020-10-27  161.246994  164.582993  160.565002  164.316498  164.316498\n",
      "2020-10-28  162.464996  163.201004  158.123505  158.139008  158.139008\n",
      "2020-10-29  160.063507  162.862503  158.199997  160.550507  160.550507\n",
      "2020-10-30  157.887497  158.350006  150.949997  151.807495  151.807495\n",
      "\n",
      "[252 rows x 5 columns]\n"
     ]
    },
    {
     "name": "stderr",
     "output_type": "stream",
     "text": [
      "\n"
     ]
    }
   ],
   "source": [
    "# Define the stock ticker and date range: Amazon\n",
    "AMZN_stock = 'AMZN'\n",
    "start_date = '2019-11-01'  # example start date\n",
    "end_date = '2020-10-31'    # example end date\n",
    "\n",
    "# Download the stock data\n",
<<<<<<< HEAD
    "data_AMZN = yf.download(AMZN_stock, start=start_date, end=end_date)"
=======
    "data_AMZN = yf.download(AMZN_stock, start=start_date, end=end_date)\n",
    "\n",
    "# Print the type of the data\n",
    "print(type(data_AMZN))\n",
    "\n",
    "# Print the first few columns of the data\n",
    "print(data_AMZN.iloc[:, :5])  # This prints the first three columns of the DataFrame"
>>>>>>> ea7a963a2c7f22a9d6396b5e0fa4bb5a99e02dee
   ]
  },
  {
   "cell_type": "code",
<<<<<<< HEAD
   "execution_count": 76,
=======
   "execution_count": 12,
>>>>>>> ea7a963a2c7f22a9d6396b5e0fa4bb5a99e02dee
   "id": "026d881d",
   "metadata": {},
   "outputs": [
    {
     "name": "stderr",
     "output_type": "stream",
     "text": [
      "[*********************100%%**********************]  1 of 1 completed"
     ]
    },
    {
     "name": "stdout",
     "output_type": "stream",
     "text": [
      "<class 'pandas.core.frame.DataFrame'>\n",
      "                  Open        High         Low       Close   Adj Close\n",
      "Date                                                                  \n",
      "2019-11-01   90.180000   90.529999   89.000000   89.180000   85.416977\n",
      "2019-11-04   90.129997   90.559998   89.320000   89.860001   86.068291\n",
      "2019-11-05   90.150002   90.339996   89.540001   89.879997   86.087433\n",
      "2019-11-06   90.639999   90.720001   88.739998   89.480003   85.704338\n",
      "2019-11-07   90.470001   90.599998   89.769997   90.400002   86.585510\n",
      "...                ...         ...         ...         ...         ...\n",
      "2020-10-26  129.059998  129.619995  126.680000  128.369995  124.199081\n",
      "2020-10-27  128.779999  129.490005  127.900002  127.989998  123.831413\n",
      "2020-10-28  125.279999  126.400002  121.040001  122.080002  118.113441\n",
      "2020-10-29  122.279999  124.190002  121.150002  122.860001  118.868111\n",
      "2020-10-30  123.660004  123.660004  118.800003  120.080002  116.178436\n",
      "\n",
      "[252 rows x 5 columns]\n"
     ]
    },
    {
     "name": "stderr",
     "output_type": "stream",
     "text": [
      "\n"
     ]
    }
   ],
   "source": [
    "# Define the stock ticker and date range: Nike\n",
    "NKE_stock = 'NKE'\n",
    "start_date = '2019-11-01'  # example start date\n",
    "end_date = '2020-10-31'    # example end date\n",
    "\n",
    "# Download the stock data\n",
<<<<<<< HEAD
    "data_NKE = yf.download(NKE_stock, start=start_date, end=end_date)"
=======
    "data_NKE = yf.download(NKE_stock, start=start_date, end=end_date)\n",
    "\n",
    "# Print the type of the data\n",
    "print(type(data_NKE))\n",
    "\n",
    "# Print the first few columns of the data\n",
    "print(data_NKE.iloc[:, :5])  # This prints the first three columns of the DataFrame"
>>>>>>> ea7a963a2c7f22a9d6396b5e0fa4bb5a99e02dee
   ]
  },
  {
   "cell_type": "code",
<<<<<<< HEAD
   "execution_count": 77,
=======
   "execution_count": 13,
>>>>>>> ea7a963a2c7f22a9d6396b5e0fa4bb5a99e02dee
   "id": "617dea59",
   "metadata": {},
   "outputs": [
    {
     "name": "stderr",
     "output_type": "stream",
     "text": [
      "[*********************100%%**********************]  1 of 1 completed"
     ]
    },
    {
     "name": "stdout",
     "output_type": "stream",
     "text": [
      "<class 'pandas.core.frame.DataFrame'>\n",
      "                  Open        High         Low       Close   Adj Close\n",
      "Date                                                                  \n",
      "2019-11-01  130.990005  132.800003  130.509995  132.750000  131.530716\n",
      "2019-11-04  134.119995  134.139999  132.470001  132.919998  131.699158\n",
      "2019-11-05  132.770004  132.770004  130.889999  131.449997  130.242661\n",
      "2019-11-06  131.600006  131.660004  130.660004  131.270004  130.064316\n",
      "2019-11-07  132.350006  133.699997  131.750000  132.960007  131.738815\n",
      "...                ...         ...         ...         ...         ...\n",
      "2020-10-26  127.110001  127.110001  122.949997  124.059998  123.656990\n",
      "2020-10-27  124.029999  124.610001  123.029999  123.309998  122.909424\n",
      "2020-10-28  121.010002  121.529999  118.320000  118.470001  118.085152\n",
      "2020-10-29  118.160004  122.629997  117.230003  121.540001  121.145180\n",
      "2020-10-30  120.639999  121.750000  119.089996  121.250000  120.856117\n",
      "\n",
      "[252 rows x 5 columns]\n"
     ]
    },
    {
     "name": "stderr",
     "output_type": "stream",
     "text": [
      "\n"
     ]
    }
   ],
   "source": [
    "# Define the stock ticker and date range: Walt Disney Company \n",
    "DIS_stock = 'DIS'\n",
    "start_date = '2019-11-01'  # example start date\n",
    "end_date = '2020-10-31'    # example end date\n",
    "\n",
    "# Download the stock data\n",
<<<<<<< HEAD
    "data_DIS = yf.download(DIS_stock, start=start_date, end=end_date)"
=======
    "data_DIS = yf.download(DIS_stock, start=start_date, end=end_date)\n",
    "\n",
    "# Print the type of the data\n",
    "print(type(data_DIS))\n",
    "\n",
    "# Print the first few columns of the data\n",
    "print(data_DIS.iloc[:, :5])  # This prints the first three columns of the DataFrame"
>>>>>>> ea7a963a2c7f22a9d6396b5e0fa4bb5a99e02dee
   ]
  },
  {
   "cell_type": "markdown",
   "id": "a82e2c50",
   "metadata": {},
   "source": [
    "## Energy Sector \n",
    "These are the three stocks we chose in the energy industry: Exxon Mobile Incorporation, First Solar Inc. , NextEra Energy Resources "
   ]
  },
  {
   "cell_type": "code",
<<<<<<< HEAD
   "execution_count": 78,
=======
   "execution_count": 14,
>>>>>>> ea7a963a2c7f22a9d6396b5e0fa4bb5a99e02dee
   "id": "e14f99c2",
   "metadata": {},
   "outputs": [
    {
     "name": "stderr",
     "output_type": "stream",
     "text": [
      "[*********************100%%**********************]  1 of 1 completed"
     ]
    },
    {
     "name": "stdout",
     "output_type": "stream",
     "text": [
      "<class 'pandas.core.frame.DataFrame'>\n",
      "                 Open       High        Low      Close  Adj Close\n",
      "Date                                                             \n",
      "2019-11-01  68.389999  69.610001  68.309998  69.599998  55.801048\n",
      "2019-11-04  70.070000  71.870003  69.940002  71.669998  57.460644\n",
      "2019-11-05  72.040001  73.120003  71.849998  73.089996  58.599113\n",
      "2019-11-06  72.730003  72.870003  71.199997  71.489998  57.316330\n",
      "2019-11-07  72.029999  73.029999  72.000000  73.010002  58.534988\n",
      "...               ...        ...        ...        ...        ...\n",
      "2020-10-26  33.610001  33.770000  32.950001  33.349998  28.533182\n",
      "2020-10-27  33.150002  33.200001  32.700001  32.820000  28.079729\n",
      "2020-10-28  32.099998  32.380001  31.520000  31.570000  27.010269\n",
      "2020-10-29  31.410000  33.130001  31.110001  32.970001  28.208061\n",
      "2020-10-30  32.410000  33.139999  32.009998  32.619999  27.908609\n",
      "\n",
      "[252 rows x 5 columns]\n"
     ]
    },
    {
     "name": "stderr",
     "output_type": "stream",
     "text": [
      "\n"
     ]
    }
   ],
   "source": [
    "# Define the stock ticker and date range: Exxon Mobile Incorporation\n",
    "XOM_stock = 'XOM'\n",
    "start_date = '2019-11-01'  # example start date\n",
    "end_date = '2020-10-31'    # example end date\n",
    "\n",
    "# Download the stock data\n",
<<<<<<< HEAD
    "data_XOM = yf.download(XOM_stock, start=start_date, end=end_date)"
=======
    "data_XOM = yf.download(XOM_stock, start=start_date, end=end_date)\n",
    "\n",
    "# Print the type of the data\n",
    "print(type(data_XOM))\n",
    "\n",
    "# Print the first few columns of the data\n",
    "print(data_XOM.iloc[:, :5])  # This prints the first three columns of the DataFrame"
>>>>>>> ea7a963a2c7f22a9d6396b5e0fa4bb5a99e02dee
   ]
  },
  {
   "cell_type": "code",
<<<<<<< HEAD
   "execution_count": 79,
=======
   "execution_count": 15,
>>>>>>> ea7a963a2c7f22a9d6396b5e0fa4bb5a99e02dee
   "id": "a0b40af8",
   "metadata": {},
   "outputs": [
    {
     "name": "stderr",
     "output_type": "stream",
     "text": [
      "[*********************100%%**********************]  1 of 1 completed"
     ]
    },
    {
     "name": "stdout",
     "output_type": "stream",
     "text": [
      "<class 'pandas.core.frame.DataFrame'>\n",
      "                 Open       High        Low      Close  Adj Close\n",
      "Date                                                             \n",
      "2019-11-01  52.259998  52.599998  51.430000  52.580002  52.580002\n",
      "2019-11-04  53.790001  54.419998  52.680000  53.060001  53.060001\n",
      "2019-11-05  53.119999  54.389999  52.820000  53.869999  53.869999\n",
      "2019-11-06  53.860001  54.720001  52.880001  53.360001  53.360001\n",
      "2019-11-07  53.759998  54.299999  52.250000  52.630001  52.630001\n",
      "...               ...        ...        ...        ...        ...\n",
      "2020-10-26  82.650002  85.110001  80.669998  83.750000  83.750000\n",
      "2020-10-27  83.120003  84.510002  81.449997  82.389999  82.389999\n",
      "2020-10-28  92.330002  97.930000  90.209999  93.309998  93.309998\n",
      "2020-10-29  91.150002  92.879997  86.750000  87.459999  87.459999\n",
      "2020-10-30  86.839996  88.099998  81.709999  87.050003  87.050003\n",
      "\n",
      "[252 rows x 5 columns]\n"
     ]
    },
    {
     "name": "stderr",
     "output_type": "stream",
     "text": [
      "\n"
     ]
    }
   ],
   "source": [
    "# Define the stock ticker and date range: First Solar Inc. \n",
    "FSLR_stock = 'FSLR'\n",
    "start_date = '2019-11-01'  # example start date\n",
    "end_date = '2020-10-31'    # example end date\n",
    "\n",
    "# Download the stock data\n",
<<<<<<< HEAD
    "data_FSLR = yf.download(FSLR_stock, start=start_date, end=end_date)"
=======
    "data_FSLR = yf.download(FSLR_stock, start=start_date, end=end_date)\n",
    "\n",
    "# Print the type of the data\n",
    "print(type(data_FSLR))\n",
    "\n",
    "# Print the first few columns of the data\n",
    "print(data_FSLR.iloc[:, :5])  # This prints the first three columns of the DataFrame"
>>>>>>> ea7a963a2c7f22a9d6396b5e0fa4bb5a99e02dee
   ]
  },
  {
   "cell_type": "code",
<<<<<<< HEAD
   "execution_count": 80,
=======
   "execution_count": 16,
>>>>>>> ea7a963a2c7f22a9d6396b5e0fa4bb5a99e02dee
   "id": "40b336a2",
   "metadata": {},
   "outputs": [
    {
     "name": "stderr",
     "output_type": "stream",
     "text": [
      "[*********************100%%**********************]  1 of 1 completed"
     ]
    },
    {
     "name": "stdout",
     "output_type": "stream",
     "text": [
      "<class 'pandas.core.frame.DataFrame'>\n",
      "                 Open       High        Low      Close  Adj Close\n",
      "Date                                                             \n",
      "2019-11-01  59.672501  59.722500  58.772499  58.927502  53.630638\n",
      "2019-11-04  58.807499  58.807499  57.047501  57.400002  52.240433\n",
      "2019-11-05  56.852501  57.325001  56.177502  56.777500  51.673893\n",
      "2019-11-06  56.875000  57.125000  56.650002  56.872501  51.760349\n",
      "2019-11-07  56.654999  56.660000  55.165001  55.772499  50.759220\n",
      "...               ...        ...        ...        ...        ...\n",
      "2020-10-26  75.320000  75.737503  74.394997  75.662498  70.327507\n",
      "2020-10-27  76.139999  76.430000  75.019997  75.779999  70.436729\n",
      "2020-10-28  74.739998  76.050003  74.290001  74.459999  69.209785\n",
      "2020-10-29  74.379997  75.029999  72.940002  74.010002  68.791527\n",
      "2020-10-30  73.730003  74.349998  72.500000  73.209999  68.047913\n",
      "\n",
      "[252 rows x 5 columns]\n"
     ]
    },
    {
     "name": "stderr",
     "output_type": "stream",
     "text": [
      "\n"
     ]
    }
   ],
   "source": [
    "# Define the stock ticker and date range: NextEra Energy Resources\n",
    "NEE_stock = 'NEE'\n",
    "start_date = '2019-11-01'  # example start date\n",
    "end_date = '2020-10-31'    # example end date\n",
    "\n",
    "# Download the stock data\n",
<<<<<<< HEAD
    "data_NEE = yf.download(NEE_stock, start=start_date, end=end_date)"
=======
    "data_NEE = yf.download(NEE_stock, start=start_date, end=end_date)\n",
    "\n",
    "# Print the type of the data\n",
    "print(type(data_NEE))\n",
    "\n",
    "# Print the first few columns of the data\n",
    "print(data_NEE.iloc[:, :5])  # This prints the first three columns of the DataFrame"
>>>>>>> ea7a963a2c7f22a9d6396b5e0fa4bb5a99e02dee
   ]
  },
  {
   "cell_type": "markdown",
   "id": "63844053",
   "metadata": {},
   "source": [
    "## Weapons Manufacturing \n",
    "These are the three stocks we chose in the weapons manufacturing instury: Lockheed Martin Corporation, Raytheon Technologies Corporations (RTX), Northrup Grumman Corporation (NOC) "
   ]
  },
  {
   "cell_type": "code",
<<<<<<< HEAD
   "execution_count": 81,
=======
   "execution_count": 17,
>>>>>>> ea7a963a2c7f22a9d6396b5e0fa4bb5a99e02dee
   "id": "17c5a1b1",
   "metadata": {},
   "outputs": [
    {
     "name": "stderr",
     "output_type": "stream",
     "text": [
      "[*********************100%%**********************]  1 of 1 completed"
     ]
    },
    {
     "name": "stdout",
     "output_type": "stream",
     "text": [
      "<class 'pandas.core.frame.DataFrame'>\n",
      "                  Open        High         Low       Close   Adj Close\n",
      "Date                                                                  \n",
      "2019-11-01  378.109985  380.950012  376.940002  379.170013  338.332825\n",
      "2019-11-04  379.929993  380.779999  372.179993  374.480011  334.147949\n",
      "2019-11-05  374.059998  375.769989  371.309998  373.630005  333.389465\n",
      "2019-11-06  374.489990  379.929993  374.029999  379.790009  338.886017\n",
      "2019-11-07  380.339996  382.739990  377.910004  378.750000  337.958069\n",
      "...                ...         ...         ...         ...         ...\n",
      "2020-10-26  369.429993  369.869995  362.500000  368.549988  337.010742\n",
      "2020-10-27  367.000000  367.980011  360.809998  362.429993  331.414490\n",
      "2020-10-28  356.869995  360.000000  350.450012  350.859985  320.834656\n",
      "2020-10-29  350.000000  356.230011  348.290009  352.440002  322.279419\n",
      "2020-10-30  350.640015  353.730011  345.649994  350.130005  320.167084\n",
      "\n",
      "[252 rows x 5 columns]\n"
     ]
    },
    {
     "name": "stderr",
     "output_type": "stream",
     "text": [
      "\n"
     ]
    }
   ],
   "source": [
    "# Define the stock ticker and date range: Lockheed Martin Corporation\n",
    "LMT_stock = 'LMT'\n",
    "start_date = '2019-11-01'  # example start date\n",
    "end_date = '2020-10-31'    # example end date\n",
    "\n",
    "# Download the stock data\n",
<<<<<<< HEAD
    "data_LMT = yf.download(LMT_stock, start=start_date, end=end_date)"
=======
    "data_LMT = yf.download(LMT_stock, start=start_date, end=end_date)\n",
    "\n",
    "# Print the type of the data\n",
    "print(type(data_LMT))\n",
    "\n",
    "# Print the first few columns of the data\n",
    "print(data_LMT.iloc[:, :5])  # This prints the first three columns of the DataFrame"
>>>>>>> ea7a963a2c7f22a9d6396b5e0fa4bb5a99e02dee
   ]
  },
  {
   "cell_type": "code",
<<<<<<< HEAD
   "execution_count": 82,
=======
   "execution_count": 18,
>>>>>>> ea7a963a2c7f22a9d6396b5e0fa4bb5a99e02dee
   "id": "11380938",
   "metadata": {},
   "outputs": [
    {
     "name": "stderr",
     "output_type": "stream",
     "text": [
      "[*********************100%%**********************]  1 of 1 completed"
     ]
    },
    {
     "name": "stdout",
     "output_type": "stream",
     "text": [
      "<class 'pandas.core.frame.DataFrame'>\n",
      "                 Open       High        Low      Close  Adj Close\n",
      "Date                                                             \n",
      "2019-11-01  90.868469  92.378853  90.837006  92.309631  83.006599\n",
      "2019-11-04  92.819382  93.134048  92.133415  92.831970  83.476288\n",
      "2019-11-05  92.926369  93.499054  92.322212  93.045944  83.668701\n",
      "2019-11-06  93.027061  93.379486  92.592827  93.335434  83.929008\n",
      "2019-11-07  93.656387  93.989929  93.423538  93.599747  84.166687\n",
      "...               ...        ...        ...        ...        ...\n",
      "2020-10-26  61.650002  61.750000  59.880001  60.810001  56.119102\n",
      "2020-10-27  59.770000  59.799999  56.439999  56.529999  52.169266\n",
      "2020-10-28  55.200001  56.070000  52.250000  52.340000  48.302475\n",
      "2020-10-29  52.500000  53.480000  51.919998  53.139999  49.040768\n",
      "2020-10-30  53.119999  54.450001  52.919998  54.320000  50.129745\n",
      "\n",
      "[252 rows x 5 columns]\n"
     ]
    },
    {
     "name": "stderr",
     "output_type": "stream",
     "text": [
      "\n"
     ]
    }
   ],
   "source": [
    "# Define the stock ticker and date range: Raytheon Technologies Corporation\n",
    "RTX_stock = 'RTX'\n",
    "start_date = '2019-11-01'  # example start date\n",
    "end_date = '2020-10-31'    # example end date\n",
    "\n",
    "# Download the stock data\n",
<<<<<<< HEAD
    "data_RTX = yf.download(RTX_stock, start=start_date, end=end_date)"
=======
    "data_RTX = yf.download(RTX_stock, start=start_date, end=end_date)\n",
    "\n",
    "# Print the type of the data\n",
    "print(type(data_RTX))\n",
    "\n",
    "# Print the first few columns of the data\n",
    "print(data_RTX.iloc[:, :5])  # This prints the first three columns of the DataFrame"
>>>>>>> ea7a963a2c7f22a9d6396b5e0fa4bb5a99e02dee
   ]
  },
  {
   "cell_type": "code",
<<<<<<< HEAD
   "execution_count": 83,
=======
   "execution_count": 19,
>>>>>>> ea7a963a2c7f22a9d6396b5e0fa4bb5a99e02dee
   "id": "7a69afba",
   "metadata": {},
   "outputs": [
    {
     "name": "stderr",
     "output_type": "stream",
     "text": [
      "[*********************100%%**********************]  1 of 1 completed"
     ]
    },
    {
     "name": "stdout",
     "output_type": "stream",
     "text": [
      "<class 'pandas.core.frame.DataFrame'>\n",
      "                  Open        High         Low       Close   Adj Close\n",
      "Date                                                                  \n",
      "2019-11-01  353.350006  355.959991  351.130005  352.130005  328.674683\n",
      "2019-11-04  353.649994  353.649994  338.459991  340.670013  317.977997\n",
      "2019-11-05  340.000000  343.170013  335.940002  337.850006  315.345825\n",
      "2019-11-06  339.179993  344.369995  338.100006  344.019989  321.104858\n",
      "2019-11-07  344.010010  345.320007  341.160004  343.429993  320.554199\n",
      "...                ...         ...         ...         ...         ...\n",
      "2020-10-26  305.399994  312.350006  301.700012  309.839996  293.804718\n",
      "2020-10-27  308.670013  309.010010  302.070007  302.119995  286.484314\n",
      "2020-10-28  299.579987  304.250000  293.540009  293.660004  278.462158\n",
      "2020-10-29  292.540009  297.690002  291.250000  292.390015  277.257874\n",
      "2020-10-30  290.869995  293.920013  285.130005  289.820007  274.820923\n",
      "\n",
      "[252 rows x 5 columns]\n"
     ]
    },
    {
     "name": "stderr",
     "output_type": "stream",
     "text": [
      "\n"
     ]
    }
   ],
   "source": [
    "# Define the stock ticker and date range: Northrup Grumman Corporation\n",
    "NOC_stock = 'NOC'\n",
    "start_date = '2019-11-01'  # example start date\n",
    "end_date = '2020-10-31'    # example end date\n",
    "\n",
    "# Download the stock data\n",
<<<<<<< HEAD
    "data_NOC = yf.download(NOC_stock, start=start_date, end=end_date)"
=======
    "data_NOC = yf.download(NOC_stock, start=start_date, end=end_date)\n",
    "\n",
    "# Print the type of the data\n",
    "print(type(data_NOC))\n",
    "\n",
    "# Print the first few columns of the data\n",
    "print(data_NOC.iloc[:, :5])  # This prints the first three columns of the DataFrame"
>>>>>>> ea7a963a2c7f22a9d6396b5e0fa4bb5a99e02dee
   ]
  },
  {
   "cell_type": "markdown",
   "id": "865c2afa",
   "metadata": {},
   "source": [
    "## Combined Stocks Dataframe"
   ]
  },
  {
   "cell_type": "code",
<<<<<<< HEAD
   "execution_count": 84,
=======
   "execution_count": 20,
>>>>>>> ea7a963a2c7f22a9d6396b5e0fa4bb5a99e02dee
   "id": "edb9dfa8",
   "metadata": {},
   "outputs": [
    {
     "data": {
      "text/html": [
       "<div>\n",
       "<style scoped>\n",
       "    .dataframe tbody tr th:only-of-type {\n",
       "        vertical-align: middle;\n",
       "    }\n",
       "\n",
       "    .dataframe tbody tr th {\n",
       "        vertical-align: top;\n",
       "    }\n",
       "\n",
       "    .dataframe thead th {\n",
       "        text-align: right;\n",
       "    }\n",
       "</style>\n",
       "<table border=\"1\" class=\"dataframe\">\n",
       "  <thead>\n",
       "    <tr style=\"text-align: right;\">\n",
       "      <th></th>\n",
       "      <th>Open</th>\n",
       "      <th>High</th>\n",
       "      <th>Low</th>\n",
       "      <th>Close</th>\n",
       "      <th>Adj Close</th>\n",
       "      <th>Volume</th>\n",
       "      <th>Open</th>\n",
       "      <th>High</th>\n",
       "      <th>Low</th>\n",
       "      <th>Close</th>\n",
       "      <th>...</th>\n",
       "      <th>Low</th>\n",
       "      <th>Close</th>\n",
       "      <th>Adj Close</th>\n",
       "      <th>Volume</th>\n",
       "      <th>Open</th>\n",
       "      <th>High</th>\n",
       "      <th>Low</th>\n",
       "      <th>Close</th>\n",
       "      <th>Adj Close</th>\n",
       "      <th>Volume</th>\n",
       "    </tr>\n",
       "    <tr>\n",
       "      <th>Date</th>\n",
       "      <th></th>\n",
       "      <th></th>\n",
       "      <th></th>\n",
       "      <th></th>\n",
       "      <th></th>\n",
       "      <th></th>\n",
       "      <th></th>\n",
       "      <th></th>\n",
       "      <th></th>\n",
       "      <th></th>\n",
       "      <th></th>\n",
       "      <th></th>\n",
       "      <th></th>\n",
       "      <th></th>\n",
       "      <th></th>\n",
       "      <th></th>\n",
       "      <th></th>\n",
       "      <th></th>\n",
       "      <th></th>\n",
       "      <th></th>\n",
       "      <th></th>\n",
       "    </tr>\n",
       "  </thead>\n",
       "  <tbody>\n",
       "    <tr>\n",
       "      <th>2019-11-01</th>\n",
       "      <td>62.384998</td>\n",
       "      <td>63.982498</td>\n",
       "      <td>62.290001</td>\n",
       "      <td>63.955002</td>\n",
       "      <td>62.041336</td>\n",
       "      <td>151125200</td>\n",
       "      <td>144.259995</td>\n",
       "      <td>144.419998</td>\n",
       "      <td>142.970001</td>\n",
       "      <td>143.720001</td>\n",
       "      <td>...</td>\n",
       "      <td>90.837006</td>\n",
       "      <td>92.309631</td>\n",
       "      <td>83.006599</td>\n",
       "      <td>6444348</td>\n",
       "      <td>353.350006</td>\n",
       "      <td>355.959991</td>\n",
       "      <td>351.130005</td>\n",
       "      <td>352.130005</td>\n",
       "      <td>328.674683</td>\n",
       "      <td>1167500</td>\n",
       "    </tr>\n",
       "    <tr>\n",
       "      <th>2019-11-04</th>\n",
       "      <td>64.332497</td>\n",
       "      <td>64.462502</td>\n",
       "      <td>63.845001</td>\n",
       "      <td>64.375000</td>\n",
       "      <td>62.448780</td>\n",
       "      <td>103272000</td>\n",
       "      <td>144.830002</td>\n",
       "      <td>145.000000</td>\n",
       "      <td>144.160004</td>\n",
       "      <td>144.550003</td>\n",
       "      <td>...</td>\n",
       "      <td>92.133415</td>\n",
       "      <td>92.831970</td>\n",
       "      <td>83.476288</td>\n",
       "      <td>6823166</td>\n",
       "      <td>353.649994</td>\n",
       "      <td>353.649994</td>\n",
       "      <td>338.459991</td>\n",
       "      <td>340.670013</td>\n",
       "      <td>317.977997</td>\n",
       "      <td>1984800</td>\n",
       "    </tr>\n",
       "    <tr>\n",
       "      <th>2019-11-05</th>\n",
       "      <td>64.262497</td>\n",
       "      <td>64.547501</td>\n",
       "      <td>64.080002</td>\n",
       "      <td>64.282501</td>\n",
       "      <td>62.359047</td>\n",
       "      <td>79897600</td>\n",
       "      <td>144.970001</td>\n",
       "      <td>145.020004</td>\n",
       "      <td>143.910004</td>\n",
       "      <td>144.460007</td>\n",
       "      <td>...</td>\n",
       "      <td>92.322212</td>\n",
       "      <td>93.045944</td>\n",
       "      <td>83.668701</td>\n",
       "      <td>6453406</td>\n",
       "      <td>340.000000</td>\n",
       "      <td>343.170013</td>\n",
       "      <td>335.940002</td>\n",
       "      <td>337.850006</td>\n",
       "      <td>315.345825</td>\n",
       "      <td>2410700</td>\n",
       "    </tr>\n",
       "    <tr>\n",
       "      <th>2019-11-06</th>\n",
       "      <td>64.192497</td>\n",
       "      <td>64.372498</td>\n",
       "      <td>63.842499</td>\n",
       "      <td>64.309998</td>\n",
       "      <td>62.385715</td>\n",
       "      <td>75864400</td>\n",
       "      <td>144.369995</td>\n",
       "      <td>144.520004</td>\n",
       "      <td>143.199997</td>\n",
       "      <td>144.059998</td>\n",
       "      <td>...</td>\n",
       "      <td>92.592827</td>\n",
       "      <td>93.335434</td>\n",
       "      <td>83.929008</td>\n",
       "      <td>5015679</td>\n",
       "      <td>339.179993</td>\n",
       "      <td>344.369995</td>\n",
       "      <td>338.100006</td>\n",
       "      <td>344.019989</td>\n",
       "      <td>321.104858</td>\n",
       "      <td>1168000</td>\n",
       "    </tr>\n",
       "    <tr>\n",
       "      <th>2019-11-07</th>\n",
       "      <td>64.684998</td>\n",
       "      <td>65.087502</td>\n",
       "      <td>64.527496</td>\n",
       "      <td>64.857498</td>\n",
       "      <td>63.105713</td>\n",
       "      <td>94940400</td>\n",
       "      <td>143.839996</td>\n",
       "      <td>144.880005</td>\n",
       "      <td>143.770004</td>\n",
       "      <td>144.259995</td>\n",
       "      <td>...</td>\n",
       "      <td>93.423538</td>\n",
       "      <td>93.599747</td>\n",
       "      <td>84.166687</td>\n",
       "      <td>4407092</td>\n",
       "      <td>344.010010</td>\n",
       "      <td>345.320007</td>\n",
       "      <td>341.160004</td>\n",
       "      <td>343.429993</td>\n",
       "      <td>320.554199</td>\n",
       "      <td>1154900</td>\n",
       "    </tr>\n",
       "  </tbody>\n",
       "</table>\n",
       "<p>5 rows × 108 columns</p>\n",
       "</div>"
      ],
      "text/plain": [
       "                 Open       High        Low      Close  Adj Close     Volume  \\\n",
       "Date                                                                           \n",
       "2019-11-01  62.384998  63.982498  62.290001  63.955002  62.041336  151125200   \n",
       "2019-11-04  64.332497  64.462502  63.845001  64.375000  62.448780  103272000   \n",
       "2019-11-05  64.262497  64.547501  64.080002  64.282501  62.359047   79897600   \n",
       "2019-11-06  64.192497  64.372498  63.842499  64.309998  62.385715   75864400   \n",
       "2019-11-07  64.684998  65.087502  64.527496  64.857498  63.105713   94940400   \n",
       "\n",
       "                  Open        High         Low       Close  ...        Low  \\\n",
       "Date                                                        ...              \n",
       "2019-11-01  144.259995  144.419998  142.970001  143.720001  ...  90.837006   \n",
       "2019-11-04  144.830002  145.000000  144.160004  144.550003  ...  92.133415   \n",
       "2019-11-05  144.970001  145.020004  143.910004  144.460007  ...  92.322212   \n",
       "2019-11-06  144.369995  144.520004  143.199997  144.059998  ...  92.592827   \n",
       "2019-11-07  143.839996  144.880005  143.770004  144.259995  ...  93.423538   \n",
       "\n",
       "                Close  Adj Close   Volume        Open        High         Low  \\\n",
       "Date                                                                            \n",
       "2019-11-01  92.309631  83.006599  6444348  353.350006  355.959991  351.130005   \n",
       "2019-11-04  92.831970  83.476288  6823166  353.649994  353.649994  338.459991   \n",
       "2019-11-05  93.045944  83.668701  6453406  340.000000  343.170013  335.940002   \n",
       "2019-11-06  93.335434  83.929008  5015679  339.179993  344.369995  338.100006   \n",
       "2019-11-07  93.599747  84.166687  4407092  344.010010  345.320007  341.160004   \n",
       "\n",
       "                 Close   Adj Close   Volume  \n",
       "Date                                         \n",
       "2019-11-01  352.130005  328.674683  1167500  \n",
       "2019-11-04  340.670013  317.977997  1984800  \n",
       "2019-11-05  337.850006  315.345825  2410700  \n",
       "2019-11-06  344.019989  321.104858  1168000  \n",
       "2019-11-07  343.429993  320.554199  1154900  \n",
       "\n",
       "[5 rows x 108 columns]"
      ]
     },
<<<<<<< HEAD
     "execution_count": 84,
=======
     "execution_count": 20,
>>>>>>> ea7a963a2c7f22a9d6396b5e0fa4bb5a99e02dee
     "metadata": {},
     "output_type": "execute_result"
    }
   ],
   "source": [
    "# Combine all stocks into a single Dataframe \n",
    "custom_portfolio_df = pd.concat([data_AAPL,data_MSFT,data_GOOG,data_JNJ,data_PFE,data_UNH,data_JPM,data_BAC,data_V,data_AMZN,data_NKE,data_DIS,data_XOM,data_FSLR,data_NEE,data_LMT,data_RTX,data_NOC], axis=\"columns\", join=\"inner\")\n",
    "custom_portfolio_df.head()"
   ]
  },
  {
   "cell_type": "code",
<<<<<<< HEAD
   "execution_count": 85,
=======
   "execution_count": 21,
>>>>>>> ea7a963a2c7f22a9d6396b5e0fa4bb5a99e02dee
   "id": "5ad1cadd",
   "metadata": {},
   "outputs": [
    {
     "data": {
      "text/html": [
       "<div>\n",
       "<style scoped>\n",
       "    .dataframe tbody tr th:only-of-type {\n",
       "        vertical-align: middle;\n",
       "    }\n",
       "\n",
       "    .dataframe tbody tr th {\n",
       "        vertical-align: top;\n",
       "    }\n",
       "\n",
       "    .dataframe thead th {\n",
       "        text-align: right;\n",
       "    }\n",
       "</style>\n",
       "<table border=\"1\" class=\"dataframe\">\n",
       "  <thead>\n",
       "    <tr style=\"text-align: right;\">\n",
       "      <th></th>\n",
       "      <th>AAPL</th>\n",
       "      <th>MSFT</th>\n",
       "      <th>GOOG</th>\n",
       "      <th>JNJ</th>\n",
       "      <th>PFE</th>\n",
       "      <th>UNH</th>\n",
       "      <th>JPM</th>\n",
       "      <th>BAC</th>\n",
       "      <th>V</th>\n",
       "      <th>AMZN</th>\n",
       "      <th>NKE</th>\n",
       "      <th>DIS</th>\n",
       "      <th>XOM</th>\n",
       "      <th>FSLR</th>\n",
       "      <th>NEE</th>\n",
       "      <th>LMT</th>\n",
       "      <th>RTX</th>\n",
       "      <th>NOC</th>\n",
       "    </tr>\n",
       "    <tr>\n",
       "      <th>Date</th>\n",
       "      <th></th>\n",
       "      <th></th>\n",
       "      <th></th>\n",
       "      <th></th>\n",
       "      <th></th>\n",
       "      <th></th>\n",
       "      <th></th>\n",
       "      <th></th>\n",
       "      <th></th>\n",
       "      <th></th>\n",
       "      <th></th>\n",
       "      <th></th>\n",
       "      <th></th>\n",
       "      <th></th>\n",
       "      <th></th>\n",
       "      <th></th>\n",
       "      <th></th>\n",
       "      <th></th>\n",
       "    </tr>\n",
       "  </thead>\n",
       "  <tbody>\n",
       "    <tr>\n",
       "      <th>2019-11-01</th>\n",
       "      <td>63.955002</td>\n",
       "      <td>143.720001</td>\n",
       "      <td>63.687000</td>\n",
       "      <td>131.199997</td>\n",
       "      <td>36.423149</td>\n",
       "      <td>252.210007</td>\n",
       "      <td>127.800003</td>\n",
       "      <td>31.799999</td>\n",
       "      <td>180.929993</td>\n",
       "      <td>89.571999</td>\n",
       "      <td>89.180000</td>\n",
       "      <td>132.750000</td>\n",
       "      <td>69.599998</td>\n",
       "      <td>52.580002</td>\n",
       "      <td>58.927502</td>\n",
       "      <td>379.170013</td>\n",
       "      <td>92.309631</td>\n",
       "      <td>352.130005</td>\n",
       "    </tr>\n",
       "    <tr>\n",
       "      <th>2019-11-04</th>\n",
       "      <td>64.375000</td>\n",
       "      <td>144.550003</td>\n",
       "      <td>64.568497</td>\n",
       "      <td>130.229996</td>\n",
       "      <td>36.081593</td>\n",
       "      <td>251.250000</td>\n",
       "      <td>128.820007</td>\n",
       "      <td>32.400002</td>\n",
       "      <td>178.949997</td>\n",
       "      <td>90.233002</td>\n",
       "      <td>89.860001</td>\n",
       "      <td>132.919998</td>\n",
       "      <td>71.669998</td>\n",
       "      <td>53.060001</td>\n",
       "      <td>57.400002</td>\n",
       "      <td>374.480011</td>\n",
       "      <td>92.831970</td>\n",
       "      <td>340.670013</td>\n",
       "    </tr>\n",
       "    <tr>\n",
       "      <th>2019-11-05</th>\n",
       "      <td>64.282501</td>\n",
       "      <td>144.460007</td>\n",
       "      <td>64.601501</td>\n",
       "      <td>130.419998</td>\n",
       "      <td>35.559772</td>\n",
       "      <td>250.300003</td>\n",
       "      <td>129.100006</td>\n",
       "      <td>32.820000</td>\n",
       "      <td>176.369995</td>\n",
       "      <td>90.085503</td>\n",
       "      <td>89.879997</td>\n",
       "      <td>131.449997</td>\n",
       "      <td>73.089996</td>\n",
       "      <td>53.869999</td>\n",
       "      <td>56.777500</td>\n",
       "      <td>373.630005</td>\n",
       "      <td>93.045944</td>\n",
       "      <td>337.850006</td>\n",
       "    </tr>\n",
       "    <tr>\n",
       "      <th>2019-11-06</th>\n",
       "      <td>64.309998</td>\n",
       "      <td>144.059998</td>\n",
       "      <td>64.589996</td>\n",
       "      <td>130.960007</td>\n",
       "      <td>35.683113</td>\n",
       "      <td>250.520004</td>\n",
       "      <td>129.300003</td>\n",
       "      <td>32.790001</td>\n",
       "      <td>176.770004</td>\n",
       "      <td>89.788498</td>\n",
       "      <td>89.480003</td>\n",
       "      <td>131.270004</td>\n",
       "      <td>71.489998</td>\n",
       "      <td>53.360001</td>\n",
       "      <td>56.872501</td>\n",
       "      <td>379.790009</td>\n",
       "      <td>93.335434</td>\n",
       "      <td>344.019989</td>\n",
       "    </tr>\n",
       "    <tr>\n",
       "      <th>2019-11-07</th>\n",
       "      <td>64.857498</td>\n",
       "      <td>144.259995</td>\n",
       "      <td>65.443001</td>\n",
       "      <td>131.429993</td>\n",
       "      <td>35.018974</td>\n",
       "      <td>256.459991</td>\n",
       "      <td>130.000000</td>\n",
       "      <td>33.230000</td>\n",
       "      <td>178.429993</td>\n",
       "      <td>89.410004</td>\n",
       "      <td>90.400002</td>\n",
       "      <td>132.960007</td>\n",
       "      <td>73.010002</td>\n",
       "      <td>52.630001</td>\n",
       "      <td>55.772499</td>\n",
       "      <td>378.750000</td>\n",
       "      <td>93.599747</td>\n",
       "      <td>343.429993</td>\n",
       "    </tr>\n",
       "    <tr>\n",
       "      <th>...</th>\n",
       "      <td>...</td>\n",
       "      <td>...</td>\n",
       "      <td>...</td>\n",
       "      <td>...</td>\n",
       "      <td>...</td>\n",
       "      <td>...</td>\n",
       "      <td>...</td>\n",
       "      <td>...</td>\n",
       "      <td>...</td>\n",
       "      <td>...</td>\n",
       "      <td>...</td>\n",
       "      <td>...</td>\n",
       "      <td>...</td>\n",
       "      <td>...</td>\n",
       "      <td>...</td>\n",
       "      <td>...</td>\n",
       "      <td>...</td>\n",
       "      <td>...</td>\n",
       "    </tr>\n",
       "    <tr>\n",
       "      <th>2020-10-26</th>\n",
       "      <td>115.050003</td>\n",
       "      <td>210.080002</td>\n",
       "      <td>79.522499</td>\n",
       "      <td>143.970001</td>\n",
       "      <td>35.977230</td>\n",
       "      <td>323.059998</td>\n",
       "      <td>101.239998</td>\n",
       "      <td>24.540001</td>\n",
       "      <td>193.070007</td>\n",
       "      <td>160.352005</td>\n",
       "      <td>128.369995</td>\n",
       "      <td>124.059998</td>\n",
       "      <td>33.349998</td>\n",
       "      <td>83.750000</td>\n",
       "      <td>75.662498</td>\n",
       "      <td>368.549988</td>\n",
       "      <td>60.810001</td>\n",
       "      <td>309.839996</td>\n",
       "    </tr>\n",
       "    <tr>\n",
       "      <th>2020-10-27</th>\n",
       "      <td>116.599998</td>\n",
       "      <td>213.250000</td>\n",
       "      <td>80.212997</td>\n",
       "      <td>143.149994</td>\n",
       "      <td>35.512333</td>\n",
       "      <td>320.510010</td>\n",
       "      <td>99.330002</td>\n",
       "      <td>23.850000</td>\n",
       "      <td>190.059998</td>\n",
       "      <td>164.316498</td>\n",
       "      <td>127.989998</td>\n",
       "      <td>123.309998</td>\n",
       "      <td>32.820000</td>\n",
       "      <td>82.389999</td>\n",
       "      <td>75.779999</td>\n",
       "      <td>362.429993</td>\n",
       "      <td>56.529999</td>\n",
       "      <td>302.119995</td>\n",
       "    </tr>\n",
       "    <tr>\n",
       "      <th>2020-10-28</th>\n",
       "      <td>111.199997</td>\n",
       "      <td>202.679993</td>\n",
       "      <td>75.831001</td>\n",
       "      <td>138.360001</td>\n",
       "      <td>33.633778</td>\n",
       "      <td>308.000000</td>\n",
       "      <td>96.540001</td>\n",
       "      <td>23.469999</td>\n",
       "      <td>180.869995</td>\n",
       "      <td>158.139008</td>\n",
       "      <td>122.080002</td>\n",
       "      <td>118.470001</td>\n",
       "      <td>31.570000</td>\n",
       "      <td>93.309998</td>\n",
       "      <td>74.459999</td>\n",
       "      <td>350.859985</td>\n",
       "      <td>52.340000</td>\n",
       "      <td>293.660004</td>\n",
       "    </tr>\n",
       "    <tr>\n",
       "      <th>2020-10-29</th>\n",
       "      <td>115.320000</td>\n",
       "      <td>204.720001</td>\n",
       "      <td>78.362000</td>\n",
       "      <td>137.190002</td>\n",
       "      <td>33.472485</td>\n",
       "      <td>303.679993</td>\n",
       "      <td>97.169998</td>\n",
       "      <td>23.540001</td>\n",
       "      <td>184.869995</td>\n",
       "      <td>160.550507</td>\n",
       "      <td>122.860001</td>\n",
       "      <td>121.540001</td>\n",
       "      <td>32.970001</td>\n",
       "      <td>87.459999</td>\n",
       "      <td>74.010002</td>\n",
       "      <td>352.440002</td>\n",
       "      <td>53.139999</td>\n",
       "      <td>292.390015</td>\n",
       "    </tr>\n",
       "    <tr>\n",
       "      <th>2020-10-30</th>\n",
       "      <td>108.860001</td>\n",
       "      <td>202.470001</td>\n",
       "      <td>81.050499</td>\n",
       "      <td>137.110001</td>\n",
       "      <td>33.662239</td>\n",
       "      <td>305.140015</td>\n",
       "      <td>98.040001</td>\n",
       "      <td>23.700001</td>\n",
       "      <td>181.710007</td>\n",
       "      <td>151.807495</td>\n",
       "      <td>120.080002</td>\n",
       "      <td>121.250000</td>\n",
       "      <td>32.619999</td>\n",
       "      <td>87.050003</td>\n",
       "      <td>73.209999</td>\n",
       "      <td>350.130005</td>\n",
       "      <td>54.320000</td>\n",
       "      <td>289.820007</td>\n",
       "    </tr>\n",
       "  </tbody>\n",
       "</table>\n",
       "<p>252 rows × 18 columns</p>\n",
       "</div>"
      ],
      "text/plain": [
       "                  AAPL        MSFT       GOOG         JNJ        PFE  \\\n",
       "Date                                                                   \n",
       "2019-11-01   63.955002  143.720001  63.687000  131.199997  36.423149   \n",
       "2019-11-04   64.375000  144.550003  64.568497  130.229996  36.081593   \n",
       "2019-11-05   64.282501  144.460007  64.601501  130.419998  35.559772   \n",
       "2019-11-06   64.309998  144.059998  64.589996  130.960007  35.683113   \n",
       "2019-11-07   64.857498  144.259995  65.443001  131.429993  35.018974   \n",
       "...                ...         ...        ...         ...        ...   \n",
       "2020-10-26  115.050003  210.080002  79.522499  143.970001  35.977230   \n",
       "2020-10-27  116.599998  213.250000  80.212997  143.149994  35.512333   \n",
       "2020-10-28  111.199997  202.679993  75.831001  138.360001  33.633778   \n",
       "2020-10-29  115.320000  204.720001  78.362000  137.190002  33.472485   \n",
       "2020-10-30  108.860001  202.470001  81.050499  137.110001  33.662239   \n",
       "\n",
       "                   UNH         JPM        BAC           V        AMZN  \\\n",
       "Date                                                                    \n",
       "2019-11-01  252.210007  127.800003  31.799999  180.929993   89.571999   \n",
       "2019-11-04  251.250000  128.820007  32.400002  178.949997   90.233002   \n",
       "2019-11-05  250.300003  129.100006  32.820000  176.369995   90.085503   \n",
       "2019-11-06  250.520004  129.300003  32.790001  176.770004   89.788498   \n",
       "2019-11-07  256.459991  130.000000  33.230000  178.429993   89.410004   \n",
       "...                ...         ...        ...         ...         ...   \n",
       "2020-10-26  323.059998  101.239998  24.540001  193.070007  160.352005   \n",
       "2020-10-27  320.510010   99.330002  23.850000  190.059998  164.316498   \n",
       "2020-10-28  308.000000   96.540001  23.469999  180.869995  158.139008   \n",
       "2020-10-29  303.679993   97.169998  23.540001  184.869995  160.550507   \n",
       "2020-10-30  305.140015   98.040001  23.700001  181.710007  151.807495   \n",
       "\n",
       "                   NKE         DIS        XOM       FSLR        NEE  \\\n",
       "Date                                                                  \n",
       "2019-11-01   89.180000  132.750000  69.599998  52.580002  58.927502   \n",
       "2019-11-04   89.860001  132.919998  71.669998  53.060001  57.400002   \n",
       "2019-11-05   89.879997  131.449997  73.089996  53.869999  56.777500   \n",
       "2019-11-06   89.480003  131.270004  71.489998  53.360001  56.872501   \n",
       "2019-11-07   90.400002  132.960007  73.010002  52.630001  55.772499   \n",
       "...                ...         ...        ...        ...        ...   \n",
       "2020-10-26  128.369995  124.059998  33.349998  83.750000  75.662498   \n",
       "2020-10-27  127.989998  123.309998  32.820000  82.389999  75.779999   \n",
       "2020-10-28  122.080002  118.470001  31.570000  93.309998  74.459999   \n",
       "2020-10-29  122.860001  121.540001  32.970001  87.459999  74.010002   \n",
       "2020-10-30  120.080002  121.250000  32.619999  87.050003  73.209999   \n",
       "\n",
       "                   LMT        RTX         NOC  \n",
       "Date                                           \n",
       "2019-11-01  379.170013  92.309631  352.130005  \n",
       "2019-11-04  374.480011  92.831970  340.670013  \n",
       "2019-11-05  373.630005  93.045944  337.850006  \n",
       "2019-11-06  379.790009  93.335434  344.019989  \n",
       "2019-11-07  378.750000  93.599747  343.429993  \n",
       "...                ...        ...         ...  \n",
       "2020-10-26  368.549988  60.810001  309.839996  \n",
       "2020-10-27  362.429993  56.529999  302.119995  \n",
       "2020-10-28  350.859985  52.340000  293.660004  \n",
       "2020-10-29  352.440002  53.139999  292.390015  \n",
       "2020-10-30  350.130005  54.320000  289.820007  \n",
       "\n",
       "[252 rows x 18 columns]"
      ]
     },
<<<<<<< HEAD
     "execution_count": 85,
=======
     "execution_count": 21,
>>>>>>> ea7a963a2c7f22a9d6396b5e0fa4bb5a99e02dee
     "metadata": {},
     "output_type": "execute_result"
    }
   ],
   "source": [
    "small_df=custom_portfolio_df['Close']\n",
    "small_df.columns=['AAPL','MSFT', 'GOOG', 'JNJ','PFE','UNH','JPM','BAC','V','AMZN','NKE','DIS','XOM','FSLR','NEE','LMT','RTX','NOC']\n",
    "small_df"
   ]
  },
  {
   "cell_type": "markdown",
   "id": "1fc284ec",
   "metadata": {},
   "source": [
    "### Technology Dataframe"
   ]
  },
  {
   "cell_type": "code",
<<<<<<< HEAD
   "execution_count": 86,
=======
   "execution_count": 22,
>>>>>>> ea7a963a2c7f22a9d6396b5e0fa4bb5a99e02dee
   "id": "113cdc10",
   "metadata": {},
   "outputs": [
    {
     "data": {
      "text/html": [
       "<div>\n",
       "<style scoped>\n",
       "    .dataframe tbody tr th:only-of-type {\n",
       "        vertical-align: middle;\n",
       "    }\n",
       "\n",
       "    .dataframe tbody tr th {\n",
       "        vertical-align: top;\n",
       "    }\n",
       "\n",
       "    .dataframe thead th {\n",
       "        text-align: right;\n",
       "    }\n",
       "</style>\n",
       "<table border=\"1\" class=\"dataframe\">\n",
       "  <thead>\n",
       "    <tr style=\"text-align: right;\">\n",
       "      <th></th>\n",
       "      <th>AAPL</th>\n",
       "      <th>MSFT</th>\n",
       "      <th>GOOG</th>\n",
       "    </tr>\n",
       "    <tr>\n",
       "      <th>Date</th>\n",
       "      <th></th>\n",
       "      <th></th>\n",
       "      <th></th>\n",
       "    </tr>\n",
       "  </thead>\n",
       "  <tbody>\n",
       "    <tr>\n",
       "      <th>2019-11-01</th>\n",
       "      <td>63.955002</td>\n",
       "      <td>143.720001</td>\n",
       "      <td>63.687000</td>\n",
       "    </tr>\n",
       "    <tr>\n",
       "      <th>2019-11-04</th>\n",
       "      <td>64.375000</td>\n",
       "      <td>144.550003</td>\n",
       "      <td>64.568497</td>\n",
       "    </tr>\n",
       "    <tr>\n",
       "      <th>2019-11-05</th>\n",
       "      <td>64.282501</td>\n",
       "      <td>144.460007</td>\n",
       "      <td>64.601501</td>\n",
       "    </tr>\n",
       "    <tr>\n",
       "      <th>2019-11-06</th>\n",
       "      <td>64.309998</td>\n",
       "      <td>144.059998</td>\n",
       "      <td>64.589996</td>\n",
       "    </tr>\n",
       "    <tr>\n",
       "      <th>2019-11-07</th>\n",
       "      <td>64.857498</td>\n",
       "      <td>144.259995</td>\n",
       "      <td>65.443001</td>\n",
       "    </tr>\n",
       "    <tr>\n",
       "      <th>...</th>\n",
       "      <td>...</td>\n",
       "      <td>...</td>\n",
       "      <td>...</td>\n",
       "    </tr>\n",
       "    <tr>\n",
       "      <th>2020-10-26</th>\n",
       "      <td>115.050003</td>\n",
       "      <td>210.080002</td>\n",
       "      <td>79.522499</td>\n",
       "    </tr>\n",
       "    <tr>\n",
       "      <th>2020-10-27</th>\n",
       "      <td>116.599998</td>\n",
       "      <td>213.250000</td>\n",
       "      <td>80.212997</td>\n",
       "    </tr>\n",
       "    <tr>\n",
       "      <th>2020-10-28</th>\n",
       "      <td>111.199997</td>\n",
       "      <td>202.679993</td>\n",
       "      <td>75.831001</td>\n",
       "    </tr>\n",
       "    <tr>\n",
       "      <th>2020-10-29</th>\n",
       "      <td>115.320000</td>\n",
       "      <td>204.720001</td>\n",
       "      <td>78.362000</td>\n",
       "    </tr>\n",
       "    <tr>\n",
       "      <th>2020-10-30</th>\n",
       "      <td>108.860001</td>\n",
       "      <td>202.470001</td>\n",
       "      <td>81.050499</td>\n",
       "    </tr>\n",
       "  </tbody>\n",
       "</table>\n",
       "<p>252 rows × 3 columns</p>\n",
       "</div>"
      ],
      "text/plain": [
       "                  AAPL        MSFT       GOOG\n",
       "Date                                         \n",
       "2019-11-01   63.955002  143.720001  63.687000\n",
       "2019-11-04   64.375000  144.550003  64.568497\n",
       "2019-11-05   64.282501  144.460007  64.601501\n",
       "2019-11-06   64.309998  144.059998  64.589996\n",
       "2019-11-07   64.857498  144.259995  65.443001\n",
       "...                ...         ...        ...\n",
       "2020-10-26  115.050003  210.080002  79.522499\n",
       "2020-10-27  116.599998  213.250000  80.212997\n",
       "2020-10-28  111.199997  202.679993  75.831001\n",
       "2020-10-29  115.320000  204.720001  78.362000\n",
       "2020-10-30  108.860001  202.470001  81.050499\n",
       "\n",
       "[252 rows x 3 columns]"
      ]
     },
<<<<<<< HEAD
     "execution_count": 86,
=======
     "execution_count": 22,
>>>>>>> ea7a963a2c7f22a9d6396b5e0fa4bb5a99e02dee
     "metadata": {},
     "output_type": "execute_result"
    }
   ],
   "source": [
    "tech_df=small_df[['AAPL','MSFT','GOOG']]\n",
    "tech_df"
   ]
  },
  {
   "cell_type": "markdown",
   "id": "207a644b",
   "metadata": {},
   "source": [
    "### Healthcare Dataframe"
   ]
  },
  {
   "cell_type": "code",
<<<<<<< HEAD
   "execution_count": 87,
=======
   "execution_count": 23,
>>>>>>> ea7a963a2c7f22a9d6396b5e0fa4bb5a99e02dee
   "id": "4d62722b",
   "metadata": {},
   "outputs": [
    {
     "data": {
      "text/html": [
       "<div>\n",
       "<style scoped>\n",
       "    .dataframe tbody tr th:only-of-type {\n",
       "        vertical-align: middle;\n",
       "    }\n",
       "\n",
       "    .dataframe tbody tr th {\n",
       "        vertical-align: top;\n",
       "    }\n",
       "\n",
       "    .dataframe thead th {\n",
       "        text-align: right;\n",
       "    }\n",
       "</style>\n",
       "<table border=\"1\" class=\"dataframe\">\n",
       "  <thead>\n",
       "    <tr style=\"text-align: right;\">\n",
       "      <th></th>\n",
       "      <th>JNJ</th>\n",
       "      <th>PFE</th>\n",
       "      <th>UNH</th>\n",
       "    </tr>\n",
       "    <tr>\n",
       "      <th>Date</th>\n",
       "      <th></th>\n",
       "      <th></th>\n",
       "      <th></th>\n",
       "    </tr>\n",
       "  </thead>\n",
       "  <tbody>\n",
       "    <tr>\n",
       "      <th>2019-11-01</th>\n",
       "      <td>131.199997</td>\n",
       "      <td>36.423149</td>\n",
       "      <td>252.210007</td>\n",
       "    </tr>\n",
       "    <tr>\n",
       "      <th>2019-11-04</th>\n",
       "      <td>130.229996</td>\n",
       "      <td>36.081593</td>\n",
       "      <td>251.250000</td>\n",
       "    </tr>\n",
       "    <tr>\n",
       "      <th>2019-11-05</th>\n",
       "      <td>130.419998</td>\n",
       "      <td>35.559772</td>\n",
       "      <td>250.300003</td>\n",
       "    </tr>\n",
       "    <tr>\n",
       "      <th>2019-11-06</th>\n",
       "      <td>130.960007</td>\n",
       "      <td>35.683113</td>\n",
       "      <td>250.520004</td>\n",
       "    </tr>\n",
       "    <tr>\n",
       "      <th>2019-11-07</th>\n",
       "      <td>131.429993</td>\n",
       "      <td>35.018974</td>\n",
       "      <td>256.459991</td>\n",
       "    </tr>\n",
       "    <tr>\n",
       "      <th>...</th>\n",
       "      <td>...</td>\n",
       "      <td>...</td>\n",
       "      <td>...</td>\n",
       "    </tr>\n",
       "    <tr>\n",
       "      <th>2020-10-26</th>\n",
       "      <td>143.970001</td>\n",
       "      <td>35.977230</td>\n",
       "      <td>323.059998</td>\n",
       "    </tr>\n",
       "    <tr>\n",
       "      <th>2020-10-27</th>\n",
       "      <td>143.149994</td>\n",
       "      <td>35.512333</td>\n",
       "      <td>320.510010</td>\n",
       "    </tr>\n",
       "    <tr>\n",
       "      <th>2020-10-28</th>\n",
       "      <td>138.360001</td>\n",
       "      <td>33.633778</td>\n",
       "      <td>308.000000</td>\n",
       "    </tr>\n",
       "    <tr>\n",
       "      <th>2020-10-29</th>\n",
       "      <td>137.190002</td>\n",
       "      <td>33.472485</td>\n",
       "      <td>303.679993</td>\n",
       "    </tr>\n",
       "    <tr>\n",
       "      <th>2020-10-30</th>\n",
       "      <td>137.110001</td>\n",
       "      <td>33.662239</td>\n",
       "      <td>305.140015</td>\n",
       "    </tr>\n",
       "  </tbody>\n",
       "</table>\n",
       "<p>252 rows × 3 columns</p>\n",
       "</div>"
      ],
      "text/plain": [
       "                   JNJ        PFE         UNH\n",
       "Date                                         \n",
       "2019-11-01  131.199997  36.423149  252.210007\n",
       "2019-11-04  130.229996  36.081593  251.250000\n",
       "2019-11-05  130.419998  35.559772  250.300003\n",
       "2019-11-06  130.960007  35.683113  250.520004\n",
       "2019-11-07  131.429993  35.018974  256.459991\n",
       "...                ...        ...         ...\n",
       "2020-10-26  143.970001  35.977230  323.059998\n",
       "2020-10-27  143.149994  35.512333  320.510010\n",
       "2020-10-28  138.360001  33.633778  308.000000\n",
       "2020-10-29  137.190002  33.472485  303.679993\n",
       "2020-10-30  137.110001  33.662239  305.140015\n",
       "\n",
       "[252 rows x 3 columns]"
      ]
     },
<<<<<<< HEAD
     "execution_count": 87,
=======
     "execution_count": 23,
>>>>>>> ea7a963a2c7f22a9d6396b5e0fa4bb5a99e02dee
     "metadata": {},
     "output_type": "execute_result"
    }
   ],
   "source": [
    "health_df=small_df[['JNJ','PFE','UNH']]\n",
    "health_df"
   ]
  },
  {
   "cell_type": "markdown",
   "id": "47efb6b4",
   "metadata": {},
   "source": [
    "### Financials Dataframe"
   ]
  },
  {
   "cell_type": "code",
<<<<<<< HEAD
   "execution_count": 88,
=======
   "execution_count": 24,
>>>>>>> ea7a963a2c7f22a9d6396b5e0fa4bb5a99e02dee
   "id": "b573adae",
   "metadata": {},
   "outputs": [
    {
     "data": {
      "text/html": [
       "<div>\n",
       "<style scoped>\n",
       "    .dataframe tbody tr th:only-of-type {\n",
       "        vertical-align: middle;\n",
       "    }\n",
       "\n",
       "    .dataframe tbody tr th {\n",
       "        vertical-align: top;\n",
       "    }\n",
       "\n",
       "    .dataframe thead th {\n",
       "        text-align: right;\n",
       "    }\n",
       "</style>\n",
       "<table border=\"1\" class=\"dataframe\">\n",
       "  <thead>\n",
       "    <tr style=\"text-align: right;\">\n",
       "      <th></th>\n",
       "      <th>JPM</th>\n",
       "      <th>BAC</th>\n",
       "      <th>V</th>\n",
       "    </tr>\n",
       "    <tr>\n",
       "      <th>Date</th>\n",
       "      <th></th>\n",
       "      <th></th>\n",
       "      <th></th>\n",
       "    </tr>\n",
       "  </thead>\n",
       "  <tbody>\n",
       "    <tr>\n",
       "      <th>2019-11-01</th>\n",
       "      <td>127.800003</td>\n",
       "      <td>31.799999</td>\n",
       "      <td>180.929993</td>\n",
       "    </tr>\n",
       "    <tr>\n",
       "      <th>2019-11-04</th>\n",
       "      <td>128.820007</td>\n",
       "      <td>32.400002</td>\n",
       "      <td>178.949997</td>\n",
       "    </tr>\n",
       "    <tr>\n",
       "      <th>2019-11-05</th>\n",
       "      <td>129.100006</td>\n",
       "      <td>32.820000</td>\n",
       "      <td>176.369995</td>\n",
       "    </tr>\n",
       "    <tr>\n",
       "      <th>2019-11-06</th>\n",
       "      <td>129.300003</td>\n",
       "      <td>32.790001</td>\n",
       "      <td>176.770004</td>\n",
       "    </tr>\n",
       "    <tr>\n",
       "      <th>2019-11-07</th>\n",
       "      <td>130.000000</td>\n",
       "      <td>33.230000</td>\n",
       "      <td>178.429993</td>\n",
       "    </tr>\n",
       "    <tr>\n",
       "      <th>...</th>\n",
       "      <td>...</td>\n",
       "      <td>...</td>\n",
       "      <td>...</td>\n",
       "    </tr>\n",
       "    <tr>\n",
       "      <th>2020-10-26</th>\n",
       "      <td>101.239998</td>\n",
       "      <td>24.540001</td>\n",
       "      <td>193.070007</td>\n",
       "    </tr>\n",
       "    <tr>\n",
       "      <th>2020-10-27</th>\n",
       "      <td>99.330002</td>\n",
       "      <td>23.850000</td>\n",
       "      <td>190.059998</td>\n",
       "    </tr>\n",
       "    <tr>\n",
       "      <th>2020-10-28</th>\n",
       "      <td>96.540001</td>\n",
       "      <td>23.469999</td>\n",
       "      <td>180.869995</td>\n",
       "    </tr>\n",
       "    <tr>\n",
       "      <th>2020-10-29</th>\n",
       "      <td>97.169998</td>\n",
       "      <td>23.540001</td>\n",
       "      <td>184.869995</td>\n",
       "    </tr>\n",
       "    <tr>\n",
       "      <th>2020-10-30</th>\n",
       "      <td>98.040001</td>\n",
       "      <td>23.700001</td>\n",
       "      <td>181.710007</td>\n",
       "    </tr>\n",
       "  </tbody>\n",
       "</table>\n",
       "<p>252 rows × 3 columns</p>\n",
       "</div>"
      ],
      "text/plain": [
       "                   JPM        BAC           V\n",
       "Date                                         \n",
       "2019-11-01  127.800003  31.799999  180.929993\n",
       "2019-11-04  128.820007  32.400002  178.949997\n",
       "2019-11-05  129.100006  32.820000  176.369995\n",
       "2019-11-06  129.300003  32.790001  176.770004\n",
       "2019-11-07  130.000000  33.230000  178.429993\n",
       "...                ...        ...         ...\n",
       "2020-10-26  101.239998  24.540001  193.070007\n",
       "2020-10-27   99.330002  23.850000  190.059998\n",
       "2020-10-28   96.540001  23.469999  180.869995\n",
       "2020-10-29   97.169998  23.540001  184.869995\n",
       "2020-10-30   98.040001  23.700001  181.710007\n",
       "\n",
       "[252 rows x 3 columns]"
      ]
     },
<<<<<<< HEAD
     "execution_count": 88,
=======
     "execution_count": 24,
>>>>>>> ea7a963a2c7f22a9d6396b5e0fa4bb5a99e02dee
     "metadata": {},
     "output_type": "execute_result"
    }
   ],
   "source": [
    "finance_df=small_df[['JPM','BAC','V']]\n",
    "finance_df"
   ]
  },
  {
   "cell_type": "markdown",
   "id": "976f8d9d",
   "metadata": {},
   "source": [
    "### Consumer Discretionary Dataframe"
   ]
  },
  {
   "cell_type": "code",
<<<<<<< HEAD
   "execution_count": 89,
=======
   "execution_count": 25,
>>>>>>> ea7a963a2c7f22a9d6396b5e0fa4bb5a99e02dee
   "id": "fad14ba4",
   "metadata": {},
   "outputs": [
    {
     "data": {
      "text/html": [
       "<div>\n",
       "<style scoped>\n",
       "    .dataframe tbody tr th:only-of-type {\n",
       "        vertical-align: middle;\n",
       "    }\n",
       "\n",
       "    .dataframe tbody tr th {\n",
       "        vertical-align: top;\n",
       "    }\n",
       "\n",
       "    .dataframe thead th {\n",
       "        text-align: right;\n",
       "    }\n",
       "</style>\n",
       "<table border=\"1\" class=\"dataframe\">\n",
       "  <thead>\n",
       "    <tr style=\"text-align: right;\">\n",
       "      <th></th>\n",
       "      <th>AMZN</th>\n",
       "      <th>NKE</th>\n",
       "      <th>DIS</th>\n",
       "    </tr>\n",
       "    <tr>\n",
       "      <th>Date</th>\n",
       "      <th></th>\n",
       "      <th></th>\n",
       "      <th></th>\n",
       "    </tr>\n",
       "  </thead>\n",
       "  <tbody>\n",
       "    <tr>\n",
       "      <th>2019-11-01</th>\n",
       "      <td>89.571999</td>\n",
       "      <td>89.180000</td>\n",
       "      <td>132.750000</td>\n",
       "    </tr>\n",
       "    <tr>\n",
       "      <th>2019-11-04</th>\n",
       "      <td>90.233002</td>\n",
       "      <td>89.860001</td>\n",
       "      <td>132.919998</td>\n",
       "    </tr>\n",
       "    <tr>\n",
       "      <th>2019-11-05</th>\n",
       "      <td>90.085503</td>\n",
       "      <td>89.879997</td>\n",
       "      <td>131.449997</td>\n",
       "    </tr>\n",
       "    <tr>\n",
       "      <th>2019-11-06</th>\n",
       "      <td>89.788498</td>\n",
       "      <td>89.480003</td>\n",
       "      <td>131.270004</td>\n",
       "    </tr>\n",
       "    <tr>\n",
       "      <th>2019-11-07</th>\n",
       "      <td>89.410004</td>\n",
       "      <td>90.400002</td>\n",
       "      <td>132.960007</td>\n",
       "    </tr>\n",
       "    <tr>\n",
       "      <th>...</th>\n",
       "      <td>...</td>\n",
       "      <td>...</td>\n",
       "      <td>...</td>\n",
       "    </tr>\n",
       "    <tr>\n",
       "      <th>2020-10-26</th>\n",
       "      <td>160.352005</td>\n",
       "      <td>128.369995</td>\n",
       "      <td>124.059998</td>\n",
       "    </tr>\n",
       "    <tr>\n",
       "      <th>2020-10-27</th>\n",
       "      <td>164.316498</td>\n",
       "      <td>127.989998</td>\n",
       "      <td>123.309998</td>\n",
       "    </tr>\n",
       "    <tr>\n",
       "      <th>2020-10-28</th>\n",
       "      <td>158.139008</td>\n",
       "      <td>122.080002</td>\n",
       "      <td>118.470001</td>\n",
       "    </tr>\n",
       "    <tr>\n",
       "      <th>2020-10-29</th>\n",
       "      <td>160.550507</td>\n",
       "      <td>122.860001</td>\n",
       "      <td>121.540001</td>\n",
       "    </tr>\n",
       "    <tr>\n",
       "      <th>2020-10-30</th>\n",
       "      <td>151.807495</td>\n",
       "      <td>120.080002</td>\n",
       "      <td>121.250000</td>\n",
       "    </tr>\n",
       "  </tbody>\n",
       "</table>\n",
       "<p>252 rows × 3 columns</p>\n",
       "</div>"
      ],
      "text/plain": [
       "                  AMZN         NKE         DIS\n",
       "Date                                          \n",
       "2019-11-01   89.571999   89.180000  132.750000\n",
       "2019-11-04   90.233002   89.860001  132.919998\n",
       "2019-11-05   90.085503   89.879997  131.449997\n",
       "2019-11-06   89.788498   89.480003  131.270004\n",
       "2019-11-07   89.410004   90.400002  132.960007\n",
       "...                ...         ...         ...\n",
       "2020-10-26  160.352005  128.369995  124.059998\n",
       "2020-10-27  164.316498  127.989998  123.309998\n",
       "2020-10-28  158.139008  122.080002  118.470001\n",
       "2020-10-29  160.550507  122.860001  121.540001\n",
       "2020-10-30  151.807495  120.080002  121.250000\n",
       "\n",
       "[252 rows x 3 columns]"
      ]
     },
<<<<<<< HEAD
     "execution_count": 89,
=======
     "execution_count": 25,
>>>>>>> ea7a963a2c7f22a9d6396b5e0fa4bb5a99e02dee
     "metadata": {},
     "output_type": "execute_result"
    }
   ],
   "source": [
    "consumer_df=small_df[['AMZN','NKE','DIS']]\n",
    "consumer_df"
   ]
  },
  {
   "cell_type": "markdown",
   "id": "1c98df3c",
   "metadata": {},
   "source": [
    "### Energy Dataframe "
   ]
  },
  {
   "cell_type": "code",
<<<<<<< HEAD
   "execution_count": 90,
=======
   "execution_count": 26,
>>>>>>> ea7a963a2c7f22a9d6396b5e0fa4bb5a99e02dee
   "id": "8a2ccb20",
   "metadata": {},
   "outputs": [
    {
     "data": {
      "text/html": [
       "<div>\n",
       "<style scoped>\n",
       "    .dataframe tbody tr th:only-of-type {\n",
       "        vertical-align: middle;\n",
       "    }\n",
       "\n",
       "    .dataframe tbody tr th {\n",
       "        vertical-align: top;\n",
       "    }\n",
       "\n",
       "    .dataframe thead th {\n",
       "        text-align: right;\n",
       "    }\n",
       "</style>\n",
       "<table border=\"1\" class=\"dataframe\">\n",
       "  <thead>\n",
       "    <tr style=\"text-align: right;\">\n",
       "      <th></th>\n",
       "      <th>XOM</th>\n",
       "      <th>FSLR</th>\n",
       "      <th>NEE</th>\n",
       "    </tr>\n",
       "    <tr>\n",
       "      <th>Date</th>\n",
       "      <th></th>\n",
       "      <th></th>\n",
       "      <th></th>\n",
       "    </tr>\n",
       "  </thead>\n",
       "  <tbody>\n",
       "    <tr>\n",
       "      <th>2019-11-01</th>\n",
       "      <td>69.599998</td>\n",
       "      <td>52.580002</td>\n",
       "      <td>58.927502</td>\n",
       "    </tr>\n",
       "    <tr>\n",
       "      <th>2019-11-04</th>\n",
       "      <td>71.669998</td>\n",
       "      <td>53.060001</td>\n",
       "      <td>57.400002</td>\n",
       "    </tr>\n",
       "    <tr>\n",
       "      <th>2019-11-05</th>\n",
       "      <td>73.089996</td>\n",
       "      <td>53.869999</td>\n",
       "      <td>56.777500</td>\n",
       "    </tr>\n",
       "    <tr>\n",
       "      <th>2019-11-06</th>\n",
       "      <td>71.489998</td>\n",
       "      <td>53.360001</td>\n",
       "      <td>56.872501</td>\n",
       "    </tr>\n",
       "    <tr>\n",
       "      <th>2019-11-07</th>\n",
       "      <td>73.010002</td>\n",
       "      <td>52.630001</td>\n",
       "      <td>55.772499</td>\n",
       "    </tr>\n",
       "    <tr>\n",
       "      <th>...</th>\n",
       "      <td>...</td>\n",
       "      <td>...</td>\n",
       "      <td>...</td>\n",
       "    </tr>\n",
       "    <tr>\n",
       "      <th>2020-10-26</th>\n",
       "      <td>33.349998</td>\n",
       "      <td>83.750000</td>\n",
       "      <td>75.662498</td>\n",
       "    </tr>\n",
       "    <tr>\n",
       "      <th>2020-10-27</th>\n",
       "      <td>32.820000</td>\n",
       "      <td>82.389999</td>\n",
       "      <td>75.779999</td>\n",
       "    </tr>\n",
       "    <tr>\n",
       "      <th>2020-10-28</th>\n",
       "      <td>31.570000</td>\n",
       "      <td>93.309998</td>\n",
       "      <td>74.459999</td>\n",
       "    </tr>\n",
       "    <tr>\n",
       "      <th>2020-10-29</th>\n",
       "      <td>32.970001</td>\n",
       "      <td>87.459999</td>\n",
       "      <td>74.010002</td>\n",
       "    </tr>\n",
       "    <tr>\n",
       "      <th>2020-10-30</th>\n",
       "      <td>32.619999</td>\n",
       "      <td>87.050003</td>\n",
       "      <td>73.209999</td>\n",
       "    </tr>\n",
       "  </tbody>\n",
       "</table>\n",
       "<p>252 rows × 3 columns</p>\n",
       "</div>"
      ],
      "text/plain": [
       "                  XOM       FSLR        NEE\n",
       "Date                                       \n",
       "2019-11-01  69.599998  52.580002  58.927502\n",
       "2019-11-04  71.669998  53.060001  57.400002\n",
       "2019-11-05  73.089996  53.869999  56.777500\n",
       "2019-11-06  71.489998  53.360001  56.872501\n",
       "2019-11-07  73.010002  52.630001  55.772499\n",
       "...               ...        ...        ...\n",
       "2020-10-26  33.349998  83.750000  75.662498\n",
       "2020-10-27  32.820000  82.389999  75.779999\n",
       "2020-10-28  31.570000  93.309998  74.459999\n",
       "2020-10-29  32.970001  87.459999  74.010002\n",
       "2020-10-30  32.619999  87.050003  73.209999\n",
       "\n",
       "[252 rows x 3 columns]"
      ]
     },
<<<<<<< HEAD
     "execution_count": 90,
=======
     "execution_count": 26,
>>>>>>> ea7a963a2c7f22a9d6396b5e0fa4bb5a99e02dee
     "metadata": {},
     "output_type": "execute_result"
    }
   ],
   "source": [
    "energy_df=small_df[['XOM','FSLR','NEE']]\n",
    "energy_df"
   ]
  },
  {
   "cell_type": "markdown",
   "id": "47726a63",
   "metadata": {},
   "source": [
    "### Weapons Manufacturing Dataframe"
   ]
  },
  {
   "cell_type": "code",
<<<<<<< HEAD
   "execution_count": 91,
=======
   "execution_count": 27,
>>>>>>> ea7a963a2c7f22a9d6396b5e0fa4bb5a99e02dee
   "id": "46d57326",
   "metadata": {},
   "outputs": [
    {
     "data": {
      "text/html": [
       "<div>\n",
       "<style scoped>\n",
       "    .dataframe tbody tr th:only-of-type {\n",
       "        vertical-align: middle;\n",
       "    }\n",
       "\n",
       "    .dataframe tbody tr th {\n",
       "        vertical-align: top;\n",
       "    }\n",
       "\n",
       "    .dataframe thead th {\n",
       "        text-align: right;\n",
       "    }\n",
       "</style>\n",
       "<table border=\"1\" class=\"dataframe\">\n",
       "  <thead>\n",
       "    <tr style=\"text-align: right;\">\n",
       "      <th></th>\n",
       "      <th>LMT</th>\n",
       "      <th>RTX</th>\n",
       "      <th>NOC</th>\n",
       "    </tr>\n",
       "    <tr>\n",
       "      <th>Date</th>\n",
       "      <th></th>\n",
       "      <th></th>\n",
       "      <th></th>\n",
       "    </tr>\n",
       "  </thead>\n",
       "  <tbody>\n",
       "    <tr>\n",
       "      <th>2019-11-01</th>\n",
       "      <td>379.170013</td>\n",
       "      <td>92.309631</td>\n",
       "      <td>352.130005</td>\n",
       "    </tr>\n",
       "    <tr>\n",
       "      <th>2019-11-04</th>\n",
       "      <td>374.480011</td>\n",
       "      <td>92.831970</td>\n",
       "      <td>340.670013</td>\n",
       "    </tr>\n",
       "    <tr>\n",
       "      <th>2019-11-05</th>\n",
       "      <td>373.630005</td>\n",
       "      <td>93.045944</td>\n",
       "      <td>337.850006</td>\n",
       "    </tr>\n",
       "    <tr>\n",
       "      <th>2019-11-06</th>\n",
       "      <td>379.790009</td>\n",
       "      <td>93.335434</td>\n",
       "      <td>344.019989</td>\n",
       "    </tr>\n",
       "    <tr>\n",
       "      <th>2019-11-07</th>\n",
       "      <td>378.750000</td>\n",
       "      <td>93.599747</td>\n",
       "      <td>343.429993</td>\n",
       "    </tr>\n",
       "    <tr>\n",
       "      <th>...</th>\n",
       "      <td>...</td>\n",
       "      <td>...</td>\n",
       "      <td>...</td>\n",
       "    </tr>\n",
       "    <tr>\n",
       "      <th>2020-10-26</th>\n",
       "      <td>368.549988</td>\n",
       "      <td>60.810001</td>\n",
       "      <td>309.839996</td>\n",
       "    </tr>\n",
       "    <tr>\n",
       "      <th>2020-10-27</th>\n",
       "      <td>362.429993</td>\n",
       "      <td>56.529999</td>\n",
       "      <td>302.119995</td>\n",
       "    </tr>\n",
       "    <tr>\n",
       "      <th>2020-10-28</th>\n",
       "      <td>350.859985</td>\n",
       "      <td>52.340000</td>\n",
       "      <td>293.660004</td>\n",
       "    </tr>\n",
       "    <tr>\n",
       "      <th>2020-10-29</th>\n",
       "      <td>352.440002</td>\n",
       "      <td>53.139999</td>\n",
       "      <td>292.390015</td>\n",
       "    </tr>\n",
       "    <tr>\n",
       "      <th>2020-10-30</th>\n",
       "      <td>350.130005</td>\n",
       "      <td>54.320000</td>\n",
       "      <td>289.820007</td>\n",
       "    </tr>\n",
       "  </tbody>\n",
       "</table>\n",
       "<p>252 rows × 3 columns</p>\n",
       "</div>"
      ],
      "text/plain": [
       "                   LMT        RTX         NOC\n",
       "Date                                         \n",
       "2019-11-01  379.170013  92.309631  352.130005\n",
       "2019-11-04  374.480011  92.831970  340.670013\n",
       "2019-11-05  373.630005  93.045944  337.850006\n",
       "2019-11-06  379.790009  93.335434  344.019989\n",
       "2019-11-07  378.750000  93.599747  343.429993\n",
       "...                ...        ...         ...\n",
       "2020-10-26  368.549988  60.810001  309.839996\n",
       "2020-10-27  362.429993  56.529999  302.119995\n",
       "2020-10-28  350.859985  52.340000  293.660004\n",
       "2020-10-29  352.440002  53.139999  292.390015\n",
       "2020-10-30  350.130005  54.320000  289.820007\n",
       "\n",
       "[252 rows x 3 columns]"
      ]
     },
<<<<<<< HEAD
     "execution_count": 91,
=======
     "execution_count": 27,
>>>>>>> ea7a963a2c7f22a9d6396b5e0fa4bb5a99e02dee
     "metadata": {},
     "output_type": "execute_result"
    }
   ],
   "source": [
    "weapons_df=small_df[['LMT','RTX','NOC']]\n",
    "weapons_df"
   ]
  },
  {
   "cell_type": "markdown",
   "id": "a9e9f3a5",
   "metadata": {},
   "source": [
    "# Calculate: Daily Returns and Weighted Returns"
   ]
  },
  {
   "cell_type": "code",
<<<<<<< HEAD
   "execution_count": 130,
=======
   "execution_count": 28,
>>>>>>> ea7a963a2c7f22a9d6396b5e0fa4bb5a99e02dee
   "id": "13e5d5c4",
   "metadata": {},
   "outputs": [
    {
     "name": "stdout",
     "output_type": "stream",
     "text": [
      "                AAPL      MSFT      GOOG       JNJ       PFE       UNH  \\\n",
      "Date                                                                     \n",
      "2020-11-03  0.015354  0.020264  0.014871 -0.001370 -0.001104  0.029638   \n",
      "2020-11-04  0.040837  0.048249  0.059944  0.006498  0.031500  0.103345   \n",
      "2020-11-05  0.035494  0.031887  0.008141  0.002583 -0.025181 -0.000451   \n",
      "2020-11-06 -0.002856  0.001926 -0.000919  0.017816  0.000275 -0.019582   \n",
      "2020-11-09 -0.019968 -0.023824  0.000710  0.026924  0.076923  0.007310   \n",
      "\n",
      "                 JPM       BAC         V      AMZN       NKE       DIS  \\\n",
      "Date                                                                     \n",
      "2020-11-03  0.031521  0.025332  0.019487  0.014622  0.017975  0.032382   \n",
      "2020-11-04 -0.030558 -0.040907  0.029893  0.063230  0.022072  0.008466   \n",
      "2020-11-05  0.040898  0.039274  0.018920  0.024942  0.018533  0.015112   \n",
      "2020-11-06 -0.013321 -0.012190  0.004200 -0.003200 -0.006168  0.003938   \n",
      "2020-11-09  0.135392  0.141917  0.071598 -0.050623  0.000388  0.118704   \n",
      "\n",
      "                 XOM      FSLR       NEE       LMT       RTX       NOC  \n",
      "Date                                                                    \n",
      "2020-11-03 -0.017064 -0.018562  0.011846  0.031269  0.023139  0.027610  \n",
      "2020-11-04 -0.005388 -0.085511 -0.035517  0.023993 -0.003857  0.035496  \n",
      "2020-11-05 -0.001806  0.089245  0.019504 -0.020045  0.025695 -0.026106  \n",
      "2020-11-06 -0.011758  0.015765  0.012977 -0.009405  0.004804 -0.019649  \n",
      "2020-11-09  0.126602 -0.024470 -0.002773  0.007418  0.109802 -0.000265  \n",
      "                Tech    Health   Finance  Consumer    Energy   Weapons\n",
      "Date                                                                  \n",
      "2020-11-03  0.016829  0.009055  0.025447  0.021659 -0.007927  0.027340\n",
      "2020-11-04  0.049676  0.047115 -0.013857  0.031256 -0.042139  0.018544\n",
      "2020-11-05  0.025174 -0.007683  0.033031  0.019529  0.035648 -0.006819\n",
      "2020-11-06 -0.000616 -0.000497 -0.007104 -0.001810  0.005661 -0.008083\n",
      "2020-11-09 -0.014361  0.037053  0.116302  0.022823  0.033119  0.038985\n",
      "...              ...       ...       ...       ...       ...       ...\n",
      "2021-10-25 -0.000867  0.000901  0.001770  0.005088  0.014832 -0.000156\n",
      "2021-10-26  0.005826  0.010379  0.001118  0.004777  0.012079 -0.055397\n",
      "2021-10-27  0.029111 -0.009408 -0.036401 -0.006134 -0.006504 -0.008052\n",
      "2021-10-28  0.008868  0.001258  0.001093  0.009901  0.029598 -0.024777\n",
      "2021-10-29  0.006304  0.008066  0.002146 -0.002633  0.001460 -0.001618\n",
      "\n",
      "[250 rows x 6 columns]\n"
     ]
    }
   ],
   "source": [
    "# Calculate daily returns, drop nas, and display the data \n",
    "# Tech Daily Returns \n",
    "tech_daily = tech_df.pct_change().dropna()\n",
    "tech_daily.head()\n",
    "\n",
    "# Healthcare Daily Returns \n",
    "health_daily = health_df.pct_change().dropna()\n",
    "health_daily.head()\n",
    "\n",
    "# Financials Daily Returns \n",
    "finance_daily = finance_df.pct_change().dropna()\n",
    "finance_daily.head()\n",
    "\n",
    "# Consumer Discretionary Daily Returns \n",
    "consumer_daily = consumer_df.pct_change().dropna()\n",
    "consumer_daily.head()\n",
    "\n",
    "# Energy Daily Returns \n",
    "energy_daily = energy_df.pct_change().dropna()\n",
    "energy_daily.head()\n",
    "\n",
    "# Weapons Manufacturing Daily Returns \n",
    "weapons_daily = weapons_df.pct_change().dropna()\n",
    "weapons_daily.head()\n",
    "\n",
    "combined_daily_returns = pd.concat([\n",
    "    tech_daily.head(),\n",
    "    health_daily.head(),\n",
    "    finance_daily.head(),\n",
    "    consumer_daily.head(),\n",
    "    energy_daily.head(),\n",
    "    weapons_daily.head()\n",
    "], axis=1)\n",
    "\n",
    "# Rename the columns for clarity\n",
    "combined_daily_returns.columns = ['AAPL','MSFT', 'GOOG', 'JNJ','PFE','UNH','JPM','BAC','V','AMZN','NKE','DIS','XOM','FSLR','NEE','LMT','RTX','NOC']\n",
    "\n",
    "# Display the combined DataFrame\n",
    "print(combined_daily_returns.head())\n",
    "\n",
    "# Set weights\n",
    "weights = [1/3, 1/3, 1/3]\n",
    "\n",
    "# Define a dictionary containing the daily returns for each sector\n",
    "daily_returns_dict = {\n",
    "    \"Tech\": tech_daily,\n",
    "    \"Health\": health_daily,\n",
    "    \"Finance\": finance_daily,\n",
    "    \"Consumer\": consumer_daily,\n",
    "    \"Energy\": energy_daily,\n",
    "    \"Weapons\": weapons_daily\n",
    "}\n",
    "\n",
    "# Create an empty dictionary to store the returns for each sector\n",
    "sector_returns = {}\n",
    "\n",
    "# Calculate the returns for each sector and store them in the dictionary\n",
    "for sector, combined_daily_returns in daily_returns_dict.items():\n",
    "    sector_returns[sector] = (weights * combined_daily_returns).sum(axis=1)\n",
    "\n",
    "# Create a DataFrame from the sector_returns dictionary\n",
    "returns_df = pd.DataFrame(sector_returns)\n",
    "\n",
    "# Display the DataFrame\n",
    "print(returns_df)\n",
    "\n",
    "# Save the Sharpe Ratios dataset into a csv file \n",
    "returns_df.to_csv('sharperatios2019_2020.csv', index=False)"
   ]
  },
  {
   "cell_type": "markdown",
   "id": "cca746b4",
   "metadata": {},
   "source": [
    "# Risk Analysis Performance \n",
    "1. Cumulative Returns\n",
    "2. Annualized Standard Deviation \n",
    "3. Annualized Sharpe Ratios (Reward to Risk)\n",
    "4. Covariance and Variance \n",
    "5. BETA"
   ]
  },
  {
   "cell_type": "markdown",
   "id": "ed664118",
   "metadata": {},
   "source": [
    "## Cumulative Returns"
   ]
  },
  {
   "cell_type": "code",
<<<<<<< HEAD
   "execution_count": 93,
=======
   "execution_count": 29,
>>>>>>> ea7a963a2c7f22a9d6396b5e0fa4bb5a99e02dee
   "id": "9a28a027",
   "metadata": {},
   "outputs": [
    {
     "name": "stdout",
     "output_type": "stream",
     "text": [
      "                Tech    Health   Finance  Consumer    Energy   Weapons\n",
      "Date                                                                  \n",
      "2019-11-04  1.008728  0.993141  1.005302  1.005428  1.004316  0.986915\n",
      "2019-11-05  1.008207  0.987585  1.005543  1.001249  1.012429  0.984203\n",
      "2019-11-06  1.007360  0.990379  1.006516  0.998206  1.002411  0.996624\n",
      "2019-11-07  1.015120  0.993247  1.015985  1.004508  0.998481  0.996085\n",
      "2019-11-08  1.020682  0.999116  1.018306  1.014480  0.982589  1.005605\n",
      "...              ...       ...       ...       ...       ...       ...\n",
      "2020-10-26  1.501306  1.134338  0.879530  1.377247  1.038138  0.846330\n",
      "2020-10-27  1.519945  1.124314  0.861185  1.384463  1.027556  0.814761\n",
      "2020-10-28  1.443690  1.077321  0.834668  1.327690  1.053942  0.778356\n",
      "2020-10-29  1.482426  1.067525  0.843466  1.348735  1.045373  0.782368\n",
      "2020-10-30  1.466267  1.071046  0.843089  1.313007  1.036274  0.784157\n",
      "\n",
      "[251 rows x 6 columns]\n"
     ]
    },
    {
     "data": {
      "image/png": "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",
      "text/plain": [
       "<Figure size 1000x600 with 1 Axes>"
      ]
     },
     "metadata": {},
     "output_type": "display_data"
    }
   ],
   "source": [
    "cumulative_returns = (1 + returns_df).cumprod()\n",
    "print(cumulative_returns)\n",
    "\n",
    "# Export and save Cumulative Returns dataframe into a csv file \n",
    "cumulative_returns.to_csv('cumulative_returns_data5.csv', index=False)\n",
    "\n",
    "cumulative_returns.plot(figsize=(10, 6))  # Adjust figsize as needed\n",
    "plt.title('Cumulative Returns of Each Industry')\n",
    "plt.xlabel('Date')\n",
    "plt.ylabel('Cumulative Returns')\n",
    "plt.grid(True)\n",
    "plt.legend()\n",
    "plt.show()"
   ]
  },
  {
   "cell_type": "markdown",
   "id": "9be59e2e",
   "metadata": {},
   "source": [
    "## Annualized Standard Deviation "
   ]
  },
  {
   "cell_type": "code",
<<<<<<< HEAD
   "execution_count": 94,
=======
   "execution_count": 30,
>>>>>>> ea7a963a2c7f22a9d6396b5e0fa4bb5a99e02dee
   "id": "def340b9",
   "metadata": {},
   "outputs": [
    {
     "name": "stdout",
     "output_type": "stream",
     "text": [
      "Tech        0.024934\n",
      "Health      0.020716\n",
      "Finance     0.029716\n",
      "Consumer    0.021379\n",
      "Energy      0.024756\n",
      "Weapons     0.025119\n",
      "dtype: float64\n"
     ]
    },
    {
     "name": "stderr",
     "output_type": "stream",
     "text": [
      "/Applications/Utilities/anaconda3/lib/python3.11/site-packages/numpy/core/fromnumeric.py:3643: FutureWarning: The behavior of DataFrame.std with axis=None is deprecated, in a future version this will reduce over both axes and return a scalar. To retain the old behavior, pass axis=0 (or do not pass axis)\n",
      "  return std(axis=axis, dtype=dtype, out=out, ddof=ddof, **kwargs)\n"
     ]
    }
   ],
   "source": [
    "# Calculate the daily standard deviation \n",
    "daily_std_dev = np.std(returns_df)\n",
    "print(daily_std_dev)"
   ]
  },
  {
   "cell_type": "code",
<<<<<<< HEAD
   "execution_count": 95,
=======
   "execution_count": 31,
>>>>>>> ea7a963a2c7f22a9d6396b5e0fa4bb5a99e02dee
   "id": "ec4468c4",
   "metadata": {},
   "outputs": [
    {
     "name": "stderr",
     "output_type": "stream",
     "text": [
      "No artists with labels found to put in legend.  Note that artists whose label start with an underscore are ignored when legend() is called with no argument.\n"
     ]
    },
    {
     "data": {
      "image/png": "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",
      "text/plain": [
       "<Figure size 1000x600 with 1 Axes>"
      ]
     },
     "metadata": {},
     "output_type": "display_data"
    }
   ],
   "source": [
    "# Calculate the annualized standard deviation (252 trading days)\n",
    "annualized_std = daily_std_dev * np.sqrt(252)\n",
    "\n",
    "# Plot the Annualized standard deviation\n",
    "annualized_std.plot.bar(figsize=(10, 6))  # Adjust figsize as needed\n",
    "plt.title('Annualized Standard Deviation of Each Industry')\n",
    "plt.xlabel('Industry')\n",
    "plt.ylabel('Annualized Standard Deviation')\n",
    "plt.grid(True)\n",
    "plt.legend()\n",
    "plt.show()"
   ]
  },
  {
   "cell_type": "markdown",
   "id": "f75cba56",
   "metadata": {},
   "source": [
    "## Sharpe Ratios"
   ]
  },
  {
   "cell_type": "code",
<<<<<<< HEAD
   "execution_count": 96,
=======
   "execution_count": 32,
>>>>>>> ea7a963a2c7f22a9d6396b5e0fa4bb5a99e02dee
   "id": "f06123ff",
   "metadata": {},
   "outputs": [
    {
     "data": {
      "image/png": "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",
      "text/plain": [
       "<Figure size 1000x600 with 1 Axes>"
      ]
     },
     "metadata": {},
     "output_type": "display_data"
    }
   ],
   "source": [
    "# Annualized Sharpe Ratios \n",
    "sharpe_ratios = (returns_df.mean() * 252) / (returns_df.std() * np.sqrt(252))\n",
    "sharpe_ratios \n",
    "\n",
    "# Save the Sharpe Ratios dataset into a csv file \n",
    "sharpe_ratios.to_csv('sharperatios2019_2020.csv', index=False)\n",
    "\n",
    "# Visualize the sharpe ratios as a bar plot\n",
    "sharpe_ratios.plot(kind='bar', color='skyblue', figsize=(10, 6))\n",
    "\n",
    "# Customizing the plot\n",
    "plt.title('Sharpe Ratios of Each Industry')\n",
    "plt.xlabel('Industry')\n",
    "plt.ylabel('Sharpe Ratio')\n",
    "plt.xticks(rotation=45)  # Rotate x-axis labels for better readability\n",
    "plt.grid(axis='y', linestyle='--', alpha=0.7)  # Adding grid lines\n",
    "\n",
    "# Adding data labels\n",
    "for i, val in enumerate(sharpe_ratios.values):\n",
    "    plt.text(i, val, round(val, 2), ha='center', va='bottom')\n",
    "\n",
    "# Adding horizontal line at Sharpe ratio of 0 for reference\n",
    "plt.axhline(y=0, color='gray', linestyle='--', linewidth=0.5)\n",
    "\n",
    "# Show plot\n",
    "plt.tight_layout()  # Adjust layout to prevent clipping of labels\n",
    "plt.show()"
   ]
  },
  {
   "cell_type": "markdown",
   "id": "101dc808",
   "metadata": {},
   "source": [
    "# Create Custom Portfolio: 12 months After \n",
    "## Time Period: November 2020 to October 2021 - COVID \n",
    "In this section, we chose three stocks from the top six invested in industries, calculate the returns, and compare the results to determine which industry performed best\n",
    "\n",
    "1. Choose 3 stocks with at last 1 year's worth of historic prices and create a DataFrame of the closing prices and dates for each stock.\n",
    "2. Calculate the weighted returns for the portfolio assuming an equal number of shares for each stock\n",
    "3. Join your portfolio returns to the DataFrame that contains all of the portfolio returns\n",
    "4. Re-run the performance and risk analysis with your portfolio to see how it compares to the others\n",
    "5. Include correlation analysis to determine which stocks (if any) are correlated"
   ]
  },
  {
   "cell_type": "markdown",
   "id": "5dd4a065",
   "metadata": {},
   "source": [
    "## Choose 3-5 custom stocks with at last 1 year's worth of historic prices and create a DataFrame of the closing prices and dates for each stock."
   ]
  },
  {
   "cell_type": "markdown",
   "id": "ffd08ed1",
   "metadata": {},
   "source": [
    "## Technology Sector\n",
    "These are the three stocks we chose within the Technology Industry"
   ]
  },
  {
   "cell_type": "code",
   "execution_count": 97,
   "id": "c1cb2135",
   "metadata": {},
   "outputs": [
    {
     "name": "stderr",
     "output_type": "stream",
     "text": [
      "[*********************100%%**********************]  1 of 1 completed"
     ]
    },
    {
     "name": "stdout",
     "output_type": "stream",
     "text": [
      "<class 'pandas.core.frame.DataFrame'>\n",
      "                  Open        High         Low       Close   Adj Close\n",
      "Date                                                                  \n",
      "2020-11-02  109.110001  110.680000  107.320000  108.769997  106.562302\n",
      "2020-11-03  109.660004  111.489998  108.730003  110.440002  108.198395\n",
      "2020-11-04  114.139999  115.589996  112.349998  114.949997  112.616859\n",
      "2020-11-05  117.949997  119.620003  116.870003  119.029999  116.614059\n",
      "2020-11-06  118.320000  119.199997  116.129997  118.690002  116.481567\n",
      "...                ...         ...         ...         ...         ...\n",
      "2021-10-25  148.679993  149.369995  147.619995  148.639999  146.559692\n",
      "2021-10-26  149.330002  150.839996  149.009995  149.320007  147.230179\n",
      "2021-10-27  149.360001  149.729996  148.490005  148.850006  146.766739\n",
      "2021-10-28  149.820007  153.169998  149.720001  152.570007  150.434677\n",
      "2021-10-29  147.220001  149.940002  146.410004  149.800003  147.703430\n",
      "\n",
      "[251 rows x 5 columns]\n"
     ]
    },
    {
     "name": "stderr",
     "output_type": "stream",
     "text": [
      "\n"
     ]
    }
   ],
   "source": [
    "# Define the stock ticker and date range: Apple Inc. \n",
    "AAPL_stock = 'AAPL'\n",
    "start_date = '2020-11-01'  # example start date\n",
    "end_date = '2021-10-31'    # example end date\n",
    "\n",
    "# Download the stock data\n",
    "data_AAPL = yf.download(AAPL_stock, start=start_date, end=end_date)\n",
    "\n",
    "# Print the type of the data\n",
    "print(type(data_AAPL))\n",
    "\n",
    "# Print the first few columns of the data\n",
    "print(data_AAPL.iloc[:, :5])  # This prints the first three columns of the DataFrame"
   ]
  },
  {
   "cell_type": "code",
   "execution_count": 98,
   "id": "339fc1d9",
   "metadata": {},
   "outputs": [
    {
     "name": "stderr",
     "output_type": "stream",
     "text": [
      "[*********************100%%**********************]  1 of 1 completed"
     ]
    },
    {
     "name": "stdout",
     "output_type": "stream",
     "text": [
      "<class 'pandas.core.frame.DataFrame'>\n",
      "                  Open        High         Low       Close   Adj Close\n",
      "Date                                                                  \n",
      "2020-11-02  204.289993  205.279999  200.119995  202.330002  196.523834\n",
      "2020-11-03  203.889999  208.119995  203.119995  206.429993  200.506134\n",
      "2020-11-04  214.020004  218.320007  212.419998  216.389999  210.180359\n",
      "2020-11-05  222.039993  224.119995  221.149994  223.289993  216.882324\n",
      "2020-11-06  222.259995  224.360001  218.029999  223.720001  217.300049\n",
      "...                ...         ...         ...         ...         ...\n",
      "2021-10-25  309.359985  309.399994  306.459991  308.130005  302.034027\n",
      "2021-10-26  311.000000  312.399994  308.600006  310.109985  303.974823\n",
      "2021-10-27  316.000000  326.100006  316.000000  323.170013  316.776489\n",
      "2021-10-28  324.329987  324.869995  321.359985  324.350006  317.933075\n",
      "2021-10-29  324.130005  332.000000  323.899994  331.619995  325.059265\n",
      "\n",
      "[251 rows x 5 columns]\n"
     ]
    },
    {
     "name": "stderr",
     "output_type": "stream",
     "text": [
      "\n"
     ]
    }
   ],
   "source": [
    "# Define the stock ticker and date range: Microsoft \n",
    "MSFT_stock = 'MSFT'\n",
    "start_date = '2020-11-01'  # example start date\n",
    "end_date = '2021-10-31'    # example end date\n",
    "\n",
    "# Download the stock data\n",
    "data_MSFT = yf.download(MSFT_stock, start=start_date, end=end_date)\n",
    "\n",
    "# Print the type of the data\n",
    "print(type(data_MSFT))\n",
    "\n",
    "# Print the first few columns of the data\n",
    "print(data_MSFT.iloc[:, :5])  # This prints the first three columns of the DataFrame"
   ]
  },
  {
   "cell_type": "code",
   "execution_count": 99,
   "id": "030ba095",
   "metadata": {},
   "outputs": [
    {
     "name": "stderr",
     "output_type": "stream",
     "text": [
      "[*********************100%%**********************]  1 of 1 completed"
     ]
    },
    {
     "name": "stdout",
     "output_type": "stream",
     "text": [
      "<class 'pandas.core.frame.DataFrame'>\n",
      "                  Open        High         Low       Close   Adj Close\n",
      "Date                                                                  \n",
      "2020-11-02   81.407997   83.038498   80.801498   81.301498   81.301498\n",
      "2020-11-03   81.588997   83.084999   80.831001   82.510498   82.510498\n",
      "2020-11-04   85.514000   88.568253   85.301498   87.456497   87.456497\n",
      "2020-11-05   89.050003   89.681999   87.525497   88.168503   88.168503\n",
      "2020-11-06   87.697502   88.621498   87.017502   88.087502   88.087502\n",
      "...                ...         ...         ...         ...         ...\n",
      "2021-10-25  138.810501  139.205795  136.748505  138.772995  138.772995\n",
      "2021-10-26  140.606003  140.839493  139.005493  139.671997  139.671997\n",
      "2021-10-27  139.902496  149.117996  139.902496  146.427505  146.427505\n",
      "2021-10-28  147.298996  147.424500  144.763504  146.128998  146.128998\n",
      "2021-10-29  145.520004  148.613007  145.166504  148.270493  148.270493\n",
      "\n",
      "[251 rows x 5 columns]\n"
     ]
    },
    {
     "name": "stderr",
     "output_type": "stream",
     "text": [
      "\n"
     ]
    }
   ],
   "source": [
    "# Define the stock ticker and date range: Google \n",
    "GOOG_stock = 'GOOG'\n",
    "start_date = '2020-11-01'  # example start date\n",
    "end_date = '2021-10-31'    # example end date\n",
    "\n",
    "# Download the stock data\n",
    "data_GOOG = yf.download(GOOG_stock, start=start_date, end=end_date)\n",
    "\n",
    "# Print the type of the data\n",
    "print(type(data_GOOG))\n",
    "\n",
    "# Print the first few columns of the data\n",
    "print(data_GOOG.iloc[:, :5])  # This prints the first three columns of the DataFrame"
   ]
  },
  {
   "cell_type": "markdown",
   "id": "9d0cffac",
   "metadata": {},
   "source": [
    "## Healthcare Sector \n",
    "These are the three stocks we chose in the Healthcare Industry"
   ]
  },
  {
   "cell_type": "code",
   "execution_count": 100,
   "id": "fe9106ad",
   "metadata": {},
   "outputs": [
    {
     "name": "stderr",
     "output_type": "stream",
     "text": [
      "[*********************100%%**********************]  1 of 1 completed"
     ]
    },
    {
     "name": "stdout",
     "output_type": "stream",
     "text": [
      "<class 'pandas.core.frame.DataFrame'>\n",
      "                  Open        High         Low       Close   Adj Close\n",
      "Date                                                                  \n",
      "2020-11-02  138.979996  139.009995  137.490005  138.690002  127.052338\n",
      "2020-11-03  140.020004  140.960007  137.779999  138.500000  126.878242\n",
      "2020-11-04  139.490005  142.539993  138.699997  139.399994  127.702744\n",
      "2020-11-05  140.550003  141.830002  139.259995  139.759995  128.032532\n",
      "2020-11-06  140.399994  143.190002  139.649994  142.250000  130.313599\n",
      "...                ...         ...         ...         ...         ...\n",
      "2021-10-25  163.720001  164.309998  161.710007  164.080002  154.160965\n",
      "2021-10-26  164.559998  166.029999  164.050003  165.750000  155.729996\n",
      "2021-10-27  165.679993  165.759995  163.309998  163.740005  153.841507\n",
      "2021-10-28  163.770004  165.199997  162.320007  162.850006  153.005325\n",
      "2021-10-29  162.350006  163.250000  160.610001  162.880005  153.033508\n",
      "\n",
      "[251 rows x 5 columns]\n"
     ]
    },
    {
     "name": "stderr",
     "output_type": "stream",
     "text": [
      "\n"
     ]
    }
   ],
   "source": [
    "# Define the stock ticker and date range: Johnson and Johnson \n",
    "JNJ_stock = 'JNJ'\n",
    "start_date = '2020-11-01'  # example start date\n",
    "end_date = '2021-10-31'    # example end date\n",
    "\n",
    "# Download the stock data\n",
    "data_JNJ = yf.download(JNJ_stock, start=start_date, end=end_date)\n",
    "\n",
    "# Print the type of the data\n",
    "print(type(data_JNJ))\n",
    "\n",
    "# Print the first few columns of the data\n",
    "print(data_JNJ.iloc[:, :5])  # This prints the first three columns of the DataFrame"
   ]
  },
  {
   "cell_type": "code",
   "execution_count": 101,
   "id": "fc30c9fc",
   "metadata": {},
   "outputs": [
    {
     "name": "stderr",
     "output_type": "stream",
     "text": [
      "[*********************100%%**********************]  1 of 1 completed"
     ]
    },
    {
     "name": "stdout",
     "output_type": "stream",
     "text": [
      "<class 'pandas.core.frame.DataFrame'>\n",
      "                 Open       High        Low      Close  Adj Close\n",
      "Date                                                             \n",
      "2020-11-02  34.089184  34.392788  33.719166  34.373814  29.886673\n",
      "2020-11-03  34.563568  34.743832  34.231499  34.335861  29.853670\n",
      "2020-11-04  35.161289  36.166985  35.066414  35.417458  30.794085\n",
      "2020-11-05  35.341557  35.388992  34.525616  34.525616  30.327379\n",
      "2020-11-06  34.525616  34.838711  34.240986  34.535103  30.335712\n",
      "...               ...        ...        ...        ...        ...\n",
      "2021-10-25  43.200001  43.240002  42.570000  43.150002  39.043381\n",
      "2021-10-26  43.330002  43.759998  42.919998  43.560001  39.414360\n",
      "2021-10-27  43.459999  43.560001  42.680000  42.970001  38.880516\n",
      "2021-10-28  42.950001  43.669998  42.939999  43.180000  39.070518\n",
      "2021-10-29  43.090000  43.830002  42.860001  43.740002  39.577229\n",
      "\n",
      "[251 rows x 5 columns]\n"
     ]
    },
    {
     "name": "stderr",
     "output_type": "stream",
     "text": [
      "\n"
     ]
    }
   ],
   "source": [
    "# Define the stock ticker and date range: Pfizer Inc\n",
    "PFE_stock = 'PFE'\n",
    "start_date = '2020-11-01'  # example start date\n",
    "end_date = '2021-10-31'    # example end date\n",
    "\n",
    "# Download the stock data\n",
    "data_PFE = yf.download(PFE_stock, start=start_date, end=end_date)\n",
    "\n",
    "# Print the type of the data\n",
    "print(type(data_PFE))\n",
    "\n",
    "# Print the first few columns of the data\n",
    "print(data_PFE.iloc[:, :5])  # This prints the first three columns of the DataFrame"
   ]
  },
  {
   "cell_type": "code",
   "execution_count": 102,
   "id": "729df1d3",
   "metadata": {},
   "outputs": [
    {
     "name": "stderr",
     "output_type": "stream",
     "text": [
      "[*********************100%%**********************]  1 of 1 completed"
     ]
    },
    {
     "name": "stdout",
     "output_type": "stream",
     "text": [
      "<class 'pandas.core.frame.DataFrame'>\n",
      "                  Open        High         Low       Close   Adj Close\n",
      "Date                                                                  \n",
      "2020-11-02  312.640015  312.640015  307.359985  312.100006  298.300507\n",
      "2020-11-03  317.470001  326.440002  315.019989  321.350006  307.141510\n",
      "2020-11-04  345.230011  360.440002  341.140015  354.559998  338.883179\n",
      "2020-11-05  358.070007  360.980011  349.679993  354.399994  338.730225\n",
      "2020-11-06  350.359985  352.000000  344.570007  347.459991  332.097107\n",
      "...                ...         ...         ...         ...         ...\n",
      "2021-10-25  450.000000  452.640015  446.440002  449.489990  435.802399\n",
      "2021-10-26  450.489990  457.709991  447.589996  454.640015  440.795624\n",
      "2021-10-27  454.640015  460.440002  453.480011  453.480011  439.670929\n",
      "2021-10-28  453.000000  457.899994  452.519989  455.440002  441.571228\n",
      "2021-10-29  454.410004  461.390015  453.059998  460.470001  446.448120\n",
      "\n",
      "[251 rows x 5 columns]\n"
     ]
    },
    {
     "name": "stderr",
     "output_type": "stream",
     "text": [
      "\n"
     ]
    }
   ],
   "source": [
    "# Define the stock ticker and date range: United Health Group\n",
    "UNH_stock = 'UNH'\n",
    "start_date = '2020-11-01'  # example start date\n",
    "end_date = '2021-10-31'    # example end date\n",
    "\n",
    "# Download the stock data\n",
    "data_UNH = yf.download(UNH_stock, start=start_date, end=end_date)\n",
    "\n",
    "# Print the type of the data\n",
    "print(type(data_UNH))\n",
    "\n",
    "# Print the first few columns of the data\n",
    "print(data_UNH.iloc[:, :5])  # This prints the first three columns of the DataFrame"
   ]
  },
  {
   "cell_type": "markdown",
   "id": "9e2f32d7",
   "metadata": {},
   "source": [
    "# Financials Sector \n",
    "These are the three stocks we chose in the Healthcare Industry"
   ]
  },
  {
   "cell_type": "code",
   "execution_count": 103,
   "id": "7790e755",
   "metadata": {},
   "outputs": [
    {
     "name": "stderr",
     "output_type": "stream",
     "text": [
      "[*********************100%%**********************]  1 of 1 completed"
     ]
    },
    {
     "name": "stdout",
     "output_type": "stream",
     "text": [
      "<class 'pandas.core.frame.DataFrame'>\n",
      "                  Open        High         Low       Close   Adj Close\n",
      "Date                                                                  \n",
      "2020-11-02   99.389999  100.879997   97.860001  100.250000   91.493645\n",
      "2020-11-03  103.019997  104.739998  102.690002  103.410004   94.377647\n",
      "2020-11-04  101.000000  102.070000   98.930000  100.250000   91.493645\n",
      "2020-11-05  101.059998  105.099998  101.000000  104.349998   95.235527\n",
      "2020-11-06  105.029999  105.099998  102.389999  102.959999   93.966942\n",
      "...                ...         ...         ...         ...         ...\n",
      "2021-10-25  172.710007  172.960007  170.479996  170.940002  159.926956\n",
      "2021-10-26  171.000000  172.490005  170.539993  171.399994  160.357315\n",
      "2021-10-27  170.320007  170.699997  167.339996  167.830002  157.017334\n",
      "2021-10-28  168.300003  170.509995  167.960007  170.360001  159.384369\n",
      "2021-10-29  171.179993  172.240005  169.389999  169.889999  158.944595\n",
      "\n",
      "[251 rows x 5 columns]\n"
     ]
    },
    {
     "name": "stderr",
     "output_type": "stream",
     "text": [
      "\n"
     ]
    }
   ],
   "source": [
    "# Define the stock ticker and date range: JPMorgan Chase and Co. \n",
    "JPM_stock = 'JPM'\n",
    "start_date = '2020-11-01'  # example start date\n",
    "end_date = '2021-10-31'    # example end date\n",
    "\n",
    "# Download the stock data\n",
    "data_JPM = yf.download(JPM_stock, start=start_date, end=end_date)\n",
    "\n",
    "# Print the type of the data\n",
    "print(type(data_JPM))\n",
    "\n",
    "# Print the first few columns of the data\n",
    "print(data_JPM.iloc[:, :5])  # This prints the first three columns of the DataFrame"
   ]
  },
  {
   "cell_type": "code",
   "execution_count": 104,
   "id": "530a84fc",
   "metadata": {},
   "outputs": [
    {
     "name": "stderr",
     "output_type": "stream",
     "text": [
      "[*********************100%%**********************]  1 of 1 completed"
     ]
    },
    {
     "name": "stdout",
     "output_type": "stream",
     "text": [
      "<class 'pandas.core.frame.DataFrame'>\n",
      "                 Open       High        Low      Close  Adj Close\n",
      "Date                                                             \n",
      "2020-11-02  23.889999  24.260000  23.469999  24.080000  22.251764\n",
      "2020-11-03  24.580000  24.940001  24.510000  24.690001  22.815454\n",
      "2020-11-04  23.889999  24.139999  23.270000  23.680000  21.882133\n",
      "2020-11-05  23.900000  24.790001  23.860001  24.610001  22.741526\n",
      "2020-11-06  24.930000  24.959999  24.230000  24.309999  22.464300\n",
      "...               ...        ...        ...        ...        ...\n",
      "2021-10-25  47.799999  47.980000  47.200001  47.509998  44.811279\n",
      "2021-10-26  47.660000  48.430000  47.439999  47.959999  45.235722\n",
      "2021-10-27  47.480000  48.169998  47.029999  47.040001  44.367981\n",
      "2021-10-28  47.590000  48.000000  47.299999  47.779999  45.065948\n",
      "2021-10-29  47.750000  48.130001  47.520000  47.779999  45.065948\n",
      "\n",
      "[251 rows x 5 columns]\n"
     ]
    },
    {
     "name": "stderr",
     "output_type": "stream",
     "text": [
      "\n"
     ]
    }
   ],
   "source": [
    "# Define the stock ticker and date range: Bank of America \n",
    "BAC_stock = 'BAC'\n",
    "start_date = '2020-11-01'  # example start date\n",
    "end_date = '2021-10-31'    # example end date\n",
    "\n",
    "# Download the stock data\n",
    "data_BAC = yf.download(BAC_stock, start=start_date, end=end_date)\n",
    "\n",
    "# Print the type of the data\n",
    "print(type(data_BAC))\n",
    "\n",
    "# Print the first few columns of the data\n",
    "print(data_BAC.iloc[:, :5])  # This prints the first three columns of the DataFrame"
   ]
  },
  {
   "cell_type": "code",
   "execution_count": 105,
   "id": "eecbef7e",
   "metadata": {},
   "outputs": [
    {
     "name": "stderr",
     "output_type": "stream",
     "text": [
      "[*********************100%%**********************]  1 of 1 completed"
     ]
    },
    {
     "name": "stdout",
     "output_type": "stream",
     "text": [
      "<class 'pandas.core.frame.DataFrame'>\n",
      "                  Open        High         Low       Close   Adj Close\n",
      "Date                                                                  \n",
      "2020-11-02  184.509995  186.919998  183.889999  184.740005  180.189865\n",
      "2020-11-03  186.830002  189.529999  185.160004  188.339996  183.701218\n",
      "2020-11-04  192.889999  196.880005  191.529999  193.970001  189.192566\n",
      "2020-11-05  198.360001  200.990005  197.289993  197.639999  192.772141\n",
      "2020-11-06  197.350006  199.679993  195.429993  198.470001  193.581741\n",
      "...                ...         ...         ...         ...         ...\n",
      "2021-10-25  233.449997  234.860001  232.289993  233.880005  229.462723\n",
      "2021-10-26  235.529999  236.960007  231.330002  231.820007  227.441620\n",
      "2021-10-27  224.750000  224.750000  215.660004  215.779999  211.704605\n",
      "2021-10-28  219.250000  219.990005  209.009995  209.839996  205.876785\n",
      "2021-10-29  209.210007  213.669998  208.539993  211.770004  207.770355\n",
      "\n",
      "[251 rows x 5 columns]\n"
     ]
    },
    {
     "name": "stderr",
     "output_type": "stream",
     "text": [
      "\n"
     ]
    }
   ],
   "source": [
    "# Define the stock ticker and date range: Visa\n",
    "V_stock = 'V'\n",
    "start_date = '2020-11-01'  # example start date\n",
    "end_date = '2021-10-31'    # example end date\n",
    "\n",
    "# Download the stock data\n",
    "data_V = yf.download(V_stock, start=start_date, end=end_date)\n",
    "\n",
    "# Print the type of the data\n",
    "print(type(data_V))\n",
    "\n",
    "# Print the first few columns of the data\n",
    "print(data_V.iloc[:, :5])  # This prints the first three columns of the DataFrame"
   ]
  },
  {
   "cell_type": "markdown",
   "id": "cf2a3487",
   "metadata": {},
   "source": [
    "## Consumer Discretionary \n",
    "These are the three stocks we chose in the consumer discretionary industry: Amazon, Nike, and Walt Disney Company"
   ]
  },
  {
   "cell_type": "code",
   "execution_count": 106,
   "id": "898cb861",
   "metadata": {},
   "outputs": [
    {
     "name": "stderr",
     "output_type": "stream",
     "text": [
      "[*********************100%%**********************]  1 of 1 completed"
     ]
    },
    {
     "name": "stdout",
     "output_type": "stream",
     "text": [
      "<class 'pandas.core.frame.DataFrame'>\n",
      "                  Open        High         Low       Close   Adj Close\n",
      "Date                                                                  \n",
      "2020-11-02  153.087006  153.985504  147.505997  150.223999  150.223999\n",
      "2020-11-03  150.926498  153.744995  149.048996  152.420502  152.420502\n",
      "2020-11-04  157.999496  162.242493  156.986496  162.057999  162.057999\n",
      "2020-11-05  165.998505  168.339996  164.444000  166.100006  166.100006\n",
      "2020-11-06  165.231995  166.100006  161.600006  165.568497  165.568497\n",
      "...                ...         ...         ...         ...         ...\n",
      "2021-10-25  166.750000  167.389999  164.884995  166.018494  166.018494\n",
      "2021-10-26  167.475494  170.806000  167.199005  168.803497  168.803497\n",
      "2021-10-27  169.399994  171.850006  168.572495  169.624496  169.624496\n",
      "2021-10-28  170.104996  173.949997  169.300003  172.328506  172.328506\n",
      "2021-10-29  165.001007  168.740997  163.666000  168.621506  168.621506\n",
      "\n",
      "[251 rows x 5 columns]\n"
     ]
    },
    {
     "name": "stderr",
     "output_type": "stream",
     "text": [
      "\n"
     ]
    }
   ],
   "source": [
    "# Define the stock ticker and date range: Amazon\n",
    "AMZN_stock = 'AMZN'\n",
    "start_date = '2020-11-01'  # example start date\n",
    "end_date = '2021-10-31'    # example end date\n",
    "\n",
    "# Download the stock data\n",
    "data_AMZN = yf.download(AMZN_stock, start=start_date, end=end_date)\n",
    "\n",
    "# Print the type of the data\n",
    "print(type(data_AMZN))\n",
    "\n",
    "# Print the first few columns of the data\n",
    "print(data_AMZN.iloc[:, :5])  # This prints the first three columns of the DataFrame"
   ]
  },
  {
   "cell_type": "code",
   "execution_count": 107,
   "id": "15ccfc36",
   "metadata": {},
   "outputs": [
    {
     "name": "stderr",
     "output_type": "stream",
     "text": [
      "[*********************100%%**********************]  1 of 1 completed"
     ]
    },
    {
     "name": "stdout",
     "output_type": "stream",
     "text": [
      "<class 'pandas.core.frame.DataFrame'>\n",
      "                  Open        High         Low       Close   Adj Close\n",
      "Date                                                                  \n",
      "2020-11-02  122.370003  124.099998  121.099998  122.389999  118.413368\n",
      "2020-11-03  124.010002  125.500000  123.190002  124.589996  120.541893\n",
      "2020-11-04  125.330002  128.929993  125.260002  127.339996  123.202545\n",
      "2020-11-05  129.190002  130.410004  128.460007  129.699997  125.485847\n",
      "2020-11-06  129.910004  129.910004  128.350006  128.899994  124.711830\n",
      "...                ...         ...         ...         ...         ...\n",
      "2021-10-25  163.229996  164.729996  162.660004  164.220001  160.113266\n",
      "2021-10-26  164.820007  165.449997  163.119995  163.789993  159.694000\n",
      "2021-10-27  163.649994  164.059998  161.660004  162.350006  158.290039\n",
      "2021-10-28  163.009995  164.600006  162.809998  164.460007  160.347260\n",
      "2021-10-29  163.059998  167.630005  163.000000  167.289993  163.106491\n",
      "\n",
      "[251 rows x 5 columns]\n"
     ]
    },
    {
     "name": "stderr",
     "output_type": "stream",
     "text": [
      "\n"
     ]
    }
   ],
   "source": [
    "# Define the stock ticker and date range: Nike\n",
    "NKE_stock = 'NKE'\n",
    "start_date = '2020-11-01'  # example start date\n",
    "end_date = '2021-10-31'    # example end date\n",
    "\n",
    "# Download the stock data\n",
    "data_NKE = yf.download(NKE_stock, start=start_date, end=end_date)\n",
    "\n",
    "# Print the type of the data\n",
    "print(type(data_NKE))\n",
    "\n",
    "# Print the first few columns of the data\n",
    "print(data_NKE.iloc[:, :5])  # This prints the first three columns of the DataFrame"
   ]
  },
  {
   "cell_type": "code",
   "execution_count": 108,
   "id": "4f38dcf7",
   "metadata": {},
   "outputs": [
    {
     "name": "stderr",
     "output_type": "stream",
     "text": [
      "[*********************100%%**********************]  1 of 1 completed"
     ]
    },
    {
     "name": "stdout",
     "output_type": "stream",
     "text": [
      "<class 'pandas.core.frame.DataFrame'>\n",
      "                  Open        High         Low       Close   Adj Close\n",
      "Date                                                                  \n",
      "2020-11-02  122.239998  122.930000  119.809998  120.129997  119.739754\n",
      "2020-11-03  121.610001  125.070000  121.370003  124.019997  123.617119\n",
      "2020-11-04  123.580002  126.860001  123.410004  125.070000  124.663712\n",
      "2020-11-05  126.779999  128.619995  125.800003  126.959999  126.547569\n",
      "2020-11-06  126.260002  128.039993  124.610001  127.459999  127.045944\n",
      "...                ...         ...         ...         ...         ...\n",
      "2021-10-25  169.899994  172.570007  169.029999  172.009995  171.451218\n",
      "2021-10-26  172.949997  173.119995  170.710007  172.039993  171.481125\n",
      "2021-10-27  171.770004  172.039993  169.429993  169.550003  168.999222\n",
      "2021-10-28  169.479996  170.350006  168.600006  169.679993  169.128784\n",
      "2021-10-29  169.020004  170.460007  168.149994  169.070007  168.520782\n",
      "\n",
      "[251 rows x 5 columns]\n"
     ]
    },
    {
     "name": "stderr",
     "output_type": "stream",
     "text": [
      "\n"
     ]
    }
   ],
   "source": [
    "# Define the stock ticker and date range: Walt Disney Company \n",
    "DIS_stock = 'DIS'\n",
    "start_date = '2020-11-01'  # example start date\n",
    "end_date = '2021-10-31'    # example end date\n",
    "\n",
    "# Download the stock data\n",
    "data_DIS = yf.download(DIS_stock, start=start_date, end=end_date)\n",
    "\n",
    "# Print the type of the data\n",
    "print(type(data_DIS))\n",
    "\n",
    "# Print the first few columns of the data\n",
    "print(data_DIS.iloc[:, :5])  # This prints the first three columns of the DataFrame"
   ]
  },
  {
   "cell_type": "markdown",
   "id": "e62c069d",
   "metadata": {},
   "source": [
    "## Energy Sector \n",
    "These are the three stocks we chose in the energy industry: Exxon Mobile Incorporation, First Solar Inc. , NextEra Energy Resources "
   ]
  },
  {
   "cell_type": "code",
   "execution_count": 109,
   "id": "897e7473",
   "metadata": {},
   "outputs": [
    {
     "name": "stderr",
     "output_type": "stream",
     "text": [
      "[*********************100%%**********************]  1 of 1 completed"
     ]
    },
    {
     "name": "stdout",
     "output_type": "stream",
     "text": [
      "<class 'pandas.core.frame.DataFrame'>\n",
      "                 Open       High        Low      Close  Adj Close\n",
      "Date                                                             \n",
      "2020-11-02  33.139999  34.459999  32.570000  33.990002  29.080744\n",
      "2020-11-03  34.490002  34.490002  33.130001  33.410000  28.584513\n",
      "2020-11-04  33.270000  34.139999  32.529999  33.230000  28.430508\n",
      "2020-11-05  33.369999  33.919998  33.139999  33.169998  28.379171\n",
      "2020-11-06  33.099998  33.660000  32.619999  32.779999  28.045506\n",
      "...               ...        ...        ...        ...        ...\n",
      "2021-10-25  63.720001  64.419998  63.580002  64.349998  59.057507\n",
      "2021-10-26  64.489998  65.940002  64.360001  65.839996  60.424950\n",
      "2021-10-27  65.160004  65.250000  63.980000  64.129997  58.855595\n",
      "2021-10-28  63.820000  64.470001  63.630001  64.309998  59.020790\n",
      "2021-10-29  65.050003  65.360001  64.330002  64.470001  59.167637\n",
      "\n",
      "[251 rows x 5 columns]\n"
     ]
    },
    {
     "name": "stderr",
     "output_type": "stream",
     "text": [
      "\n"
     ]
    }
   ],
   "source": [
    "# Define the stock ticker and date range: Exxon Mobile Incorporation\n",
    "XOM_stock = 'XOM'\n",
    "start_date = '2020-11-01'  # example start date\n",
    "end_date = '2021-10-31'    # example end date\n",
    "\n",
    "# Download the stock data\n",
    "data_XOM = yf.download(XOM_stock, start=start_date, end=end_date)\n",
    "\n",
    "# Print the type of the data\n",
    "print(type(data_XOM))\n",
    "\n",
    "# Print the first few columns of the data\n",
    "print(data_XOM.iloc[:, :5])  # This prints the first three columns of the DataFrame"
   ]
  },
  {
   "cell_type": "code",
   "execution_count": 110,
   "id": "6d779524",
   "metadata": {},
   "outputs": [
    {
     "name": "stderr",
     "output_type": "stream",
     "text": [
      "[*********************100%%**********************]  1 of 1 completed"
     ]
    },
    {
     "name": "stdout",
     "output_type": "stream",
     "text": [
      "<class 'pandas.core.frame.DataFrame'>\n",
      "                  Open        High         Low       Close   Adj Close\n",
      "Date                                                                  \n",
      "2020-11-02   89.000000   90.879997   87.199997   88.889999   88.889999\n",
      "2020-11-03   89.519997   90.720001   85.000000   87.239998   87.239998\n",
      "2020-11-04   82.260002   83.540001   77.769997   79.779999   79.779999\n",
      "2020-11-05   82.309998   88.660004   82.010002   86.900002   86.900002\n",
      "2020-11-06   88.750000   90.730003   86.339996   88.269997   88.269997\n",
      "...                ...         ...         ...         ...         ...\n",
      "2021-10-25  107.529999  109.580002  106.580002  109.040001  109.040001\n",
      "2021-10-26  109.800003  110.900002  106.989998  108.940002  108.940002\n",
      "2021-10-27  114.300003  116.589996  110.099998  110.230003  110.230003\n",
      "2021-10-28  111.500000  118.059998  111.029999  117.879997  117.879997\n",
      "2021-10-29  116.870003  120.900002  116.599998  119.589996  119.589996\n",
      "\n",
      "[251 rows x 5 columns]\n"
     ]
    },
    {
     "name": "stderr",
     "output_type": "stream",
     "text": [
      "\n"
     ]
    }
   ],
   "source": [
    "# Define the stock ticker and date range: First Solar Inc. \n",
    "FSLR_stock = 'FSLR'\n",
    "start_date = '2020-11-01'  # example start date\n",
    "end_date = '2021-10-31'    # example end date\n",
    "\n",
    "# Download the stock data\n",
    "data_FSLR = yf.download(FSLR_stock, start=start_date, end=end_date)\n",
    "\n",
    "# Print the type of the data\n",
    "print(type(data_FSLR))\n",
    "\n",
    "# Print the first few columns of the data\n",
    "print(data_FSLR.iloc[:, :5])  # This prints the first three columns of the DataFrame"
   ]
  },
  {
   "cell_type": "code",
   "execution_count": 111,
   "id": "787f1f4b",
   "metadata": {},
   "outputs": [
    {
     "name": "stderr",
     "output_type": "stream",
     "text": [
      "[*********************100%%**********************]  1 of 1 completed"
     ]
    },
    {
     "name": "stdout",
     "output_type": "stream",
     "text": [
      "<class 'pandas.core.frame.DataFrame'>\n",
      "                 Open       High        Low      Close  Adj Close\n",
      "Date                                                             \n",
      "2020-11-02  74.099998  75.449997  73.720001  75.129997  69.832550\n",
      "2020-11-03  76.050003  76.930000  75.389999  76.019997  70.659798\n",
      "2020-11-04  74.510002  74.910004  73.000000  73.320000  68.150177\n",
      "2020-11-05  75.300003  76.250000  74.489998  74.750000  69.479347\n",
      "2020-11-06  75.000000  76.059998  74.120003  75.720001  70.380951\n",
      "...               ...        ...        ...        ...        ...\n",
      "2021-10-25  84.400002  84.809998  83.930000  84.290001  79.909348\n",
      "2021-10-26  84.410004  86.279999  84.370003  85.470001  81.028015\n",
      "2021-10-27  86.010002  86.349998  84.760002  85.010002  80.591927\n",
      "2021-10-28  84.919998  86.489998  84.730003  86.419998  81.928635\n",
      "2021-10-29  86.169998  86.459999  84.940002  85.330002  80.895294\n",
      "\n",
      "[251 rows x 5 columns]\n"
     ]
    },
    {
     "name": "stderr",
     "output_type": "stream",
     "text": [
      "\n"
     ]
    }
   ],
   "source": [
    "# Define the stock ticker and date range: NextEra Energy Resources\n",
    "NEE_stock = 'NEE'\n",
    "start_date = '2020-11-01'  # example start date\n",
    "end_date = '2021-10-31'    # example end date\n",
    "\n",
    "# Download the stock data\n",
    "data_NEE = yf.download(NEE_stock, start=start_date, end=end_date)\n",
    "\n",
    "# Print the type of the data\n",
    "print(type(data_NEE))\n",
    "\n",
    "# Print the first few columns of the data\n",
    "print(data_NEE.iloc[:, :5])  # This prints the first three columns of the DataFrame"
   ]
  },
  {
   "cell_type": "markdown",
   "id": "5dc220fc",
   "metadata": {},
   "source": [
    "## Weapons Manufacturing \n",
    "These are the three stocks we chose in the weapons manufacturing instury: Lockheed Martin Corporation, Raytheon Technologies Corporations (RTX), Northrup Grumman Corporation (NOC)  "
   ]
  },
  {
   "cell_type": "code",
   "execution_count": 112,
   "id": "1464dad3",
   "metadata": {},
   "outputs": [
    {
     "name": "stderr",
     "output_type": "stream",
     "text": [
      "[*********************100%%**********************]  1 of 1 completed"
     ]
    },
    {
     "name": "stdout",
     "output_type": "stream",
     "text": [
      "<class 'pandas.core.frame.DataFrame'>\n",
      "                  Open        High         Low       Close   Adj Close\n",
      "Date                                                                  \n",
      "2020-11-02  356.119995  359.910004  350.720001  352.420013  322.261139\n",
      "2020-11-03  357.130005  366.200012  356.209991  363.440002  332.338074\n",
      "2020-11-04  371.070007  381.459991  369.510010  372.160004  340.311859\n",
      "2020-11-05  374.549988  376.500000  363.769989  364.700012  333.490265\n",
      "2020-11-06  363.299988  363.730011  357.950012  361.269989  330.353760\n",
      "...                ...         ...         ...         ...         ...\n",
      "2021-10-25  375.910004  378.100006  374.609985  376.329987  354.091187\n",
      "2021-10-26  348.329987  351.200012  326.000000  331.910004  312.296204\n",
      "2021-10-27  333.000000  336.429993  330.540009  330.940002  311.383484\n",
      "2021-10-28  330.000000  334.859985  325.140015  331.390015  311.806915\n",
      "2021-10-29  330.000000  334.359985  328.839996  332.320007  312.681946\n",
      "\n",
      "[251 rows x 5 columns]\n"
     ]
    },
    {
     "name": "stderr",
     "output_type": "stream",
     "text": [
      "\n"
     ]
    }
   ],
   "source": [
    "# Define the stock ticker and date range: Lockheed Martin Corporation\n",
    "LMT_stock = 'LMT'\n",
    "start_date = '2020-11-01'  # example start date\n",
    "end_date = '2021-10-31'    # example end date\n",
    "\n",
    "# Download the stock data\n",
    "data_LMT = yf.download(LMT_stock, start=start_date, end=end_date)\n",
    "\n",
    "# Print the type of the data\n",
    "print(type(data_LMT))\n",
    "\n",
    "# Print the first few columns of the data\n",
    "print(data_LMT.iloc[:, :5])  # This prints the first three columns of the DataFrame"
   ]
  },
  {
   "cell_type": "code",
   "execution_count": 113,
   "id": "194551fa",
   "metadata": {},
   "outputs": [
    {
     "name": "stderr",
     "output_type": "stream",
     "text": [
      "[*********************100%%**********************]  1 of 1 completed"
     ]
    },
    {
     "name": "stdout",
     "output_type": "stream",
     "text": [
      "<class 'pandas.core.frame.DataFrame'>\n",
      "                 Open       High        Low      Close  Adj Close\n",
      "Date                                                             \n",
      "2020-11-02  55.400002  56.000000  53.910000  55.750000  51.449440\n",
      "2020-11-03  56.509998  57.509998  56.340000  57.040001  52.639919\n",
      "2020-11-04  57.360001  58.590000  56.139999  56.820000  52.436890\n",
      "2020-11-05  57.110001  58.820000  56.869999  58.279999  53.784271\n",
      "2020-11-06  57.630001  58.849998  57.240002  58.560001  54.042671\n",
      "...               ...        ...        ...        ...        ...\n",
      "2021-10-25  91.669998  91.980003  90.699997  91.300003  86.421295\n",
      "2021-10-26  88.290001  91.190002  87.000000  89.160004  84.395653\n",
      "2021-10-27  89.150002  90.559998  88.690002  89.160004  84.395653\n",
      "2021-10-28  89.360001  89.809998  88.739998  89.190002  84.424049\n",
      "2021-10-29  89.059998  89.760002  88.510002  88.860001  84.111671\n",
      "\n",
      "[251 rows x 5 columns]\n"
     ]
    },
    {
     "name": "stderr",
     "output_type": "stream",
     "text": [
      "\n"
     ]
    }
   ],
   "source": [
    "# Define the stock ticker and date range: Raytheon Technologies Corporation\n",
    "RTX_stock = 'RTX'\n",
    "start_date = '2020-11-01'  # example start date\n",
    "end_date = '2021-10-31'    # example end date\n",
    "\n",
    "# Download the stock data\n",
    "data_RTX = yf.download(RTX_stock, start=start_date, end=end_date)\n",
    "\n",
    "# Print the type of the data\n",
    "print(type(data_RTX))\n",
    "\n",
    "# Print the first few columns of the data\n",
    "print(data_RTX.iloc[:, :5])  # This prints the first three columns of the DataFrame"
   ]
  },
  {
   "cell_type": "code",
   "execution_count": 114,
   "id": "5fb44776",
   "metadata": {},
   "outputs": [
    {
     "name": "stderr",
     "output_type": "stream",
     "text": [
      "[*********************100%%**********************]  1 of 1 completed"
     ]
    },
    {
     "name": "stdout",
     "output_type": "stream",
     "text": [
      "<class 'pandas.core.frame.DataFrame'>\n",
      "                  Open        High         Low       Close   Adj Close\n",
      "Date                                                                  \n",
      "2020-11-02  294.480011  298.980011  292.750000  296.630005  281.278442\n",
      "2020-11-03  299.309998  307.119995  299.309998  304.820007  289.044586\n",
      "2020-11-04  310.000000  324.260010  309.000000  315.640015  299.304596\n",
      "2020-11-05  316.500000  317.279999  306.059998  307.399994  291.491028\n",
      "2020-11-06  305.739990  305.940002  296.630005  301.359985  285.763611\n",
      "...                ...         ...         ...         ...         ...\n",
      "2021-10-25  405.619995  408.029999  403.570007  406.619995  392.581604\n",
      "2021-10-26  394.609985  398.750000  392.679993  396.570007  382.878540\n",
      "2021-10-27  395.160004  396.040009  387.470001  388.149994  374.749298\n",
      "2021-10-28  380.559998  381.350006  354.149994  358.640015  346.258118\n",
      "2021-10-29  352.000000  359.660004  352.000000  357.220001  344.887085\n",
      "\n",
      "[251 rows x 5 columns]\n"
     ]
    },
    {
     "name": "stderr",
     "output_type": "stream",
     "text": [
      "\n"
     ]
    }
   ],
   "source": [
    "# Define the stock ticker and date range: Northrup Grumman Corporation\n",
    "NOC_stock = 'NOC'\n",
    "start_date = '2020-11-01'  # example start date\n",
    "end_date = '2021-10-31'    # example end date\n",
    "\n",
    "# Download the stock data\n",
    "data_NOC = yf.download(NOC_stock, start=start_date, end=end_date)\n",
    "\n",
    "# Print the type of the data\n",
    "print(type(data_NOC))\n",
    "\n",
    "# Print the first few columns of the data\n",
    "print(data_NOC.iloc[:, :5])  # This prints the first three columns of the DataFrame"
   ]
  },
  {
   "cell_type": "markdown",
   "id": "6045156b",
   "metadata": {},
   "source": [
    "## Combined Stocks Dataframe"
   ]
  },
  {
   "cell_type": "code",
   "execution_count": 115,
   "id": "ab75fa83",
   "metadata": {},
   "outputs": [
    {
     "data": {
      "text/html": [
       "<div>\n",
       "<style scoped>\n",
       "    .dataframe tbody tr th:only-of-type {\n",
       "        vertical-align: middle;\n",
       "    }\n",
       "\n",
       "    .dataframe tbody tr th {\n",
       "        vertical-align: top;\n",
       "    }\n",
       "\n",
       "    .dataframe thead th {\n",
       "        text-align: right;\n",
       "    }\n",
       "</style>\n",
       "<table border=\"1\" class=\"dataframe\">\n",
       "  <thead>\n",
       "    <tr style=\"text-align: right;\">\n",
       "      <th></th>\n",
       "      <th>Open</th>\n",
       "      <th>High</th>\n",
       "      <th>Low</th>\n",
       "      <th>Close</th>\n",
       "      <th>Adj Close</th>\n",
       "      <th>Volume</th>\n",
       "      <th>Open</th>\n",
       "      <th>High</th>\n",
       "      <th>Low</th>\n",
       "      <th>Close</th>\n",
       "      <th>...</th>\n",
       "      <th>Low</th>\n",
       "      <th>Close</th>\n",
       "      <th>Adj Close</th>\n",
       "      <th>Volume</th>\n",
       "      <th>Open</th>\n",
       "      <th>High</th>\n",
       "      <th>Low</th>\n",
       "      <th>Close</th>\n",
       "      <th>Adj Close</th>\n",
       "      <th>Volume</th>\n",
       "    </tr>\n",
       "    <tr>\n",
       "      <th>Date</th>\n",
       "      <th></th>\n",
       "      <th></th>\n",
       "      <th></th>\n",
       "      <th></th>\n",
       "      <th></th>\n",
       "      <th></th>\n",
       "      <th></th>\n",
       "      <th></th>\n",
       "      <th></th>\n",
       "      <th></th>\n",
       "      <th></th>\n",
       "      <th></th>\n",
       "      <th></th>\n",
       "      <th></th>\n",
       "      <th></th>\n",
       "      <th></th>\n",
       "      <th></th>\n",
       "      <th></th>\n",
       "      <th></th>\n",
       "      <th></th>\n",
       "      <th></th>\n",
       "    </tr>\n",
       "  </thead>\n",
       "  <tbody>\n",
       "    <tr>\n",
       "      <th>2020-11-02</th>\n",
       "      <td>109.110001</td>\n",
       "      <td>110.680000</td>\n",
       "      <td>107.320000</td>\n",
       "      <td>108.769997</td>\n",
       "      <td>106.562294</td>\n",
       "      <td>122866900</td>\n",
       "      <td>204.289993</td>\n",
       "      <td>205.279999</td>\n",
       "      <td>200.119995</td>\n",
       "      <td>202.330002</td>\n",
       "      <td>...</td>\n",
       "      <td>53.910000</td>\n",
       "      <td>55.750000</td>\n",
       "      <td>51.449436</td>\n",
       "      <td>9750800</td>\n",
       "      <td>294.480011</td>\n",
       "      <td>298.980011</td>\n",
       "      <td>292.750000</td>\n",
       "      <td>296.630005</td>\n",
       "      <td>281.278412</td>\n",
       "      <td>852100</td>\n",
       "    </tr>\n",
       "    <tr>\n",
       "      <th>2020-11-03</th>\n",
       "      <td>109.660004</td>\n",
       "      <td>111.489998</td>\n",
       "      <td>108.730003</td>\n",
       "      <td>110.440002</td>\n",
       "      <td>108.198410</td>\n",
       "      <td>107624400</td>\n",
       "      <td>203.889999</td>\n",
       "      <td>208.119995</td>\n",
       "      <td>203.119995</td>\n",
       "      <td>206.429993</td>\n",
       "      <td>...</td>\n",
       "      <td>56.340000</td>\n",
       "      <td>57.040001</td>\n",
       "      <td>52.639919</td>\n",
       "      <td>7740500</td>\n",
       "      <td>299.309998</td>\n",
       "      <td>307.119995</td>\n",
       "      <td>299.309998</td>\n",
       "      <td>304.820007</td>\n",
       "      <td>289.044525</td>\n",
       "      <td>864900</td>\n",
       "    </tr>\n",
       "    <tr>\n",
       "      <th>2020-11-04</th>\n",
       "      <td>114.139999</td>\n",
       "      <td>115.589996</td>\n",
       "      <td>112.349998</td>\n",
       "      <td>114.949997</td>\n",
       "      <td>112.616867</td>\n",
       "      <td>138235500</td>\n",
       "      <td>214.020004</td>\n",
       "      <td>218.320007</td>\n",
       "      <td>212.419998</td>\n",
       "      <td>216.389999</td>\n",
       "      <td>...</td>\n",
       "      <td>56.139999</td>\n",
       "      <td>56.820000</td>\n",
       "      <td>52.436890</td>\n",
       "      <td>8662000</td>\n",
       "      <td>310.000000</td>\n",
       "      <td>324.260010</td>\n",
       "      <td>309.000000</td>\n",
       "      <td>315.640015</td>\n",
       "      <td>299.304596</td>\n",
       "      <td>1684000</td>\n",
       "    </tr>\n",
       "    <tr>\n",
       "      <th>2020-11-05</th>\n",
       "      <td>117.949997</td>\n",
       "      <td>119.620003</td>\n",
       "      <td>116.870003</td>\n",
       "      <td>119.029999</td>\n",
       "      <td>116.614044</td>\n",
       "      <td>126387100</td>\n",
       "      <td>222.039993</td>\n",
       "      <td>224.119995</td>\n",
       "      <td>221.149994</td>\n",
       "      <td>223.289993</td>\n",
       "      <td>...</td>\n",
       "      <td>56.869999</td>\n",
       "      <td>58.279999</td>\n",
       "      <td>53.784264</td>\n",
       "      <td>7446700</td>\n",
       "      <td>316.500000</td>\n",
       "      <td>317.279999</td>\n",
       "      <td>306.059998</td>\n",
       "      <td>307.399994</td>\n",
       "      <td>291.491058</td>\n",
       "      <td>1410300</td>\n",
       "    </tr>\n",
       "    <tr>\n",
       "      <th>2020-11-06</th>\n",
       "      <td>118.320000</td>\n",
       "      <td>119.199997</td>\n",
       "      <td>116.129997</td>\n",
       "      <td>118.690002</td>\n",
       "      <td>116.481560</td>\n",
       "      <td>114457900</td>\n",
       "      <td>222.259995</td>\n",
       "      <td>224.360001</td>\n",
       "      <td>218.029999</td>\n",
       "      <td>223.720001</td>\n",
       "      <td>...</td>\n",
       "      <td>57.240002</td>\n",
       "      <td>58.560001</td>\n",
       "      <td>54.042667</td>\n",
       "      <td>7849800</td>\n",
       "      <td>305.739990</td>\n",
       "      <td>305.940002</td>\n",
       "      <td>296.630005</td>\n",
       "      <td>301.359985</td>\n",
       "      <td>285.763611</td>\n",
       "      <td>946700</td>\n",
       "    </tr>\n",
       "  </tbody>\n",
       "</table>\n",
       "<p>5 rows × 108 columns</p>\n",
       "</div>"
      ],
      "text/plain": [
       "                  Open        High         Low       Close   Adj Close  \\\n",
       "Date                                                                     \n",
       "2020-11-02  109.110001  110.680000  107.320000  108.769997  106.562294   \n",
       "2020-11-03  109.660004  111.489998  108.730003  110.440002  108.198410   \n",
       "2020-11-04  114.139999  115.589996  112.349998  114.949997  112.616867   \n",
       "2020-11-05  117.949997  119.620003  116.870003  119.029999  116.614044   \n",
       "2020-11-06  118.320000  119.199997  116.129997  118.690002  116.481560   \n",
       "\n",
       "               Volume        Open        High         Low       Close  ...  \\\n",
       "Date                                                                   ...   \n",
       "2020-11-02  122866900  204.289993  205.279999  200.119995  202.330002  ...   \n",
       "2020-11-03  107624400  203.889999  208.119995  203.119995  206.429993  ...   \n",
       "2020-11-04  138235500  214.020004  218.320007  212.419998  216.389999  ...   \n",
       "2020-11-05  126387100  222.039993  224.119995  221.149994  223.289993  ...   \n",
       "2020-11-06  114457900  222.259995  224.360001  218.029999  223.720001  ...   \n",
       "\n",
       "                  Low      Close  Adj Close   Volume        Open        High  \\\n",
       "Date                                                                           \n",
       "2020-11-02  53.910000  55.750000  51.449436  9750800  294.480011  298.980011   \n",
       "2020-11-03  56.340000  57.040001  52.639919  7740500  299.309998  307.119995   \n",
       "2020-11-04  56.139999  56.820000  52.436890  8662000  310.000000  324.260010   \n",
       "2020-11-05  56.869999  58.279999  53.784264  7446700  316.500000  317.279999   \n",
       "2020-11-06  57.240002  58.560001  54.042667  7849800  305.739990  305.940002   \n",
       "\n",
       "                   Low       Close   Adj Close   Volume  \n",
       "Date                                                     \n",
       "2020-11-02  292.750000  296.630005  281.278412   852100  \n",
       "2020-11-03  299.309998  304.820007  289.044525   864900  \n",
       "2020-11-04  309.000000  315.640015  299.304596  1684000  \n",
       "2020-11-05  306.059998  307.399994  291.491058  1410300  \n",
       "2020-11-06  296.630005  301.359985  285.763611   946700  \n",
       "\n",
       "[5 rows x 108 columns]"
      ]
     },
     "execution_count": 115,
     "metadata": {},
     "output_type": "execute_result"
    }
   ],
   "source": [
    "# Combine all stocks into a single Dataframe \n",
    "custom_portfolio_df = pd.concat([data_AAPL,data_MSFT,data_GOOG,data_JNJ,data_PFE,data_UNH,data_JPM,data_BAC,data_V,data_AMZN,data_NKE,data_DIS,data_XOM,data_FSLR,data_NEE,data_LMT,data_RTX,data_NOC], axis=\"columns\", join=\"inner\")\n",
    "custom_portfolio_df.head()"
   ]
  },
  {
   "cell_type": "code",
   "execution_count": 116,
   "id": "d7cf0814",
   "metadata": {},
   "outputs": [
    {
     "data": {
      "text/html": [
       "<div>\n",
       "<style scoped>\n",
       "    .dataframe tbody tr th:only-of-type {\n",
       "        vertical-align: middle;\n",
       "    }\n",
       "\n",
       "    .dataframe tbody tr th {\n",
       "        vertical-align: top;\n",
       "    }\n",
       "\n",
       "    .dataframe thead th {\n",
       "        text-align: right;\n",
       "    }\n",
       "</style>\n",
       "<table border=\"1\" class=\"dataframe\">\n",
       "  <thead>\n",
       "    <tr style=\"text-align: right;\">\n",
       "      <th></th>\n",
       "      <th>AAPL</th>\n",
       "      <th>MSFT</th>\n",
       "      <th>GOOG</th>\n",
       "      <th>JNJ</th>\n",
       "      <th>PFE</th>\n",
       "      <th>UNH</th>\n",
       "      <th>JPM</th>\n",
       "      <th>BAC</th>\n",
       "      <th>V</th>\n",
       "      <th>AMZN</th>\n",
       "      <th>NKE</th>\n",
       "      <th>DIS</th>\n",
       "      <th>XOM</th>\n",
       "      <th>FSLR</th>\n",
       "      <th>NEE</th>\n",
       "      <th>LMT</th>\n",
       "      <th>RTX</th>\n",
       "      <th>NOC</th>\n",
       "    </tr>\n",
       "    <tr>\n",
       "      <th>Date</th>\n",
       "      <th></th>\n",
       "      <th></th>\n",
       "      <th></th>\n",
       "      <th></th>\n",
       "      <th></th>\n",
       "      <th></th>\n",
       "      <th></th>\n",
       "      <th></th>\n",
       "      <th></th>\n",
       "      <th></th>\n",
       "      <th></th>\n",
       "      <th></th>\n",
       "      <th></th>\n",
       "      <th></th>\n",
       "      <th></th>\n",
       "      <th></th>\n",
       "      <th></th>\n",
       "      <th></th>\n",
       "    </tr>\n",
       "  </thead>\n",
       "  <tbody>\n",
       "    <tr>\n",
       "      <th>2020-11-02</th>\n",
       "      <td>108.769997</td>\n",
       "      <td>202.330002</td>\n",
       "      <td>81.301498</td>\n",
       "      <td>138.690002</td>\n",
       "      <td>34.373814</td>\n",
       "      <td>312.100006</td>\n",
       "      <td>100.250000</td>\n",
       "      <td>24.080000</td>\n",
       "      <td>184.740005</td>\n",
       "      <td>150.223999</td>\n",
       "      <td>122.389999</td>\n",
       "      <td>120.129997</td>\n",
       "      <td>33.990002</td>\n",
       "      <td>88.889999</td>\n",
       "      <td>75.129997</td>\n",
       "      <td>352.420013</td>\n",
       "      <td>55.750000</td>\n",
       "      <td>296.630005</td>\n",
       "    </tr>\n",
       "    <tr>\n",
       "      <th>2020-11-03</th>\n",
       "      <td>110.440002</td>\n",
       "      <td>206.429993</td>\n",
       "      <td>82.510498</td>\n",
       "      <td>138.500000</td>\n",
       "      <td>34.335861</td>\n",
       "      <td>321.350006</td>\n",
       "      <td>103.410004</td>\n",
       "      <td>24.690001</td>\n",
       "      <td>188.339996</td>\n",
       "      <td>152.420502</td>\n",
       "      <td>124.589996</td>\n",
       "      <td>124.019997</td>\n",
       "      <td>33.410000</td>\n",
       "      <td>87.239998</td>\n",
       "      <td>76.019997</td>\n",
       "      <td>363.440002</td>\n",
       "      <td>57.040001</td>\n",
       "      <td>304.820007</td>\n",
       "    </tr>\n",
       "    <tr>\n",
       "      <th>2020-11-04</th>\n",
       "      <td>114.949997</td>\n",
       "      <td>216.389999</td>\n",
       "      <td>87.456497</td>\n",
       "      <td>139.399994</td>\n",
       "      <td>35.417458</td>\n",
       "      <td>354.559998</td>\n",
       "      <td>100.250000</td>\n",
       "      <td>23.680000</td>\n",
       "      <td>193.970001</td>\n",
       "      <td>162.057999</td>\n",
       "      <td>127.339996</td>\n",
       "      <td>125.070000</td>\n",
       "      <td>33.230000</td>\n",
       "      <td>79.779999</td>\n",
       "      <td>73.320000</td>\n",
       "      <td>372.160004</td>\n",
       "      <td>56.820000</td>\n",
       "      <td>315.640015</td>\n",
       "    </tr>\n",
       "    <tr>\n",
       "      <th>2020-11-05</th>\n",
       "      <td>119.029999</td>\n",
       "      <td>223.289993</td>\n",
       "      <td>88.168503</td>\n",
       "      <td>139.759995</td>\n",
       "      <td>34.525616</td>\n",
       "      <td>354.399994</td>\n",
       "      <td>104.349998</td>\n",
       "      <td>24.610001</td>\n",
       "      <td>197.639999</td>\n",
       "      <td>166.100006</td>\n",
       "      <td>129.699997</td>\n",
       "      <td>126.959999</td>\n",
       "      <td>33.169998</td>\n",
       "      <td>86.900002</td>\n",
       "      <td>74.750000</td>\n",
       "      <td>364.700012</td>\n",
       "      <td>58.279999</td>\n",
       "      <td>307.399994</td>\n",
       "    </tr>\n",
       "    <tr>\n",
       "      <th>2020-11-06</th>\n",
       "      <td>118.690002</td>\n",
       "      <td>223.720001</td>\n",
       "      <td>88.087502</td>\n",
       "      <td>142.250000</td>\n",
       "      <td>34.535103</td>\n",
       "      <td>347.459991</td>\n",
       "      <td>102.959999</td>\n",
       "      <td>24.309999</td>\n",
       "      <td>198.470001</td>\n",
       "      <td>165.568497</td>\n",
       "      <td>128.899994</td>\n",
       "      <td>127.459999</td>\n",
       "      <td>32.779999</td>\n",
       "      <td>88.269997</td>\n",
       "      <td>75.720001</td>\n",
       "      <td>361.269989</td>\n",
       "      <td>58.560001</td>\n",
       "      <td>301.359985</td>\n",
       "    </tr>\n",
       "    <tr>\n",
       "      <th>...</th>\n",
       "      <td>...</td>\n",
       "      <td>...</td>\n",
       "      <td>...</td>\n",
       "      <td>...</td>\n",
       "      <td>...</td>\n",
       "      <td>...</td>\n",
       "      <td>...</td>\n",
       "      <td>...</td>\n",
       "      <td>...</td>\n",
       "      <td>...</td>\n",
       "      <td>...</td>\n",
       "      <td>...</td>\n",
       "      <td>...</td>\n",
       "      <td>...</td>\n",
       "      <td>...</td>\n",
       "      <td>...</td>\n",
       "      <td>...</td>\n",
       "      <td>...</td>\n",
       "    </tr>\n",
       "    <tr>\n",
       "      <th>2021-10-25</th>\n",
       "      <td>148.639999</td>\n",
       "      <td>308.130005</td>\n",
       "      <td>138.772995</td>\n",
       "      <td>164.080002</td>\n",
       "      <td>43.150002</td>\n",
       "      <td>449.489990</td>\n",
       "      <td>170.940002</td>\n",
       "      <td>47.509998</td>\n",
       "      <td>233.880005</td>\n",
       "      <td>166.018494</td>\n",
       "      <td>164.220001</td>\n",
       "      <td>172.009995</td>\n",
       "      <td>64.349998</td>\n",
       "      <td>109.040001</td>\n",
       "      <td>84.290001</td>\n",
       "      <td>376.329987</td>\n",
       "      <td>91.300003</td>\n",
       "      <td>406.619995</td>\n",
       "    </tr>\n",
       "    <tr>\n",
       "      <th>2021-10-26</th>\n",
       "      <td>149.320007</td>\n",
       "      <td>310.109985</td>\n",
       "      <td>139.671997</td>\n",
       "      <td>165.750000</td>\n",
       "      <td>43.560001</td>\n",
       "      <td>454.640015</td>\n",
       "      <td>171.399994</td>\n",
       "      <td>47.959999</td>\n",
       "      <td>231.820007</td>\n",
       "      <td>168.803497</td>\n",
       "      <td>163.789993</td>\n",
       "      <td>172.039993</td>\n",
       "      <td>65.839996</td>\n",
       "      <td>108.940002</td>\n",
       "      <td>85.470001</td>\n",
       "      <td>331.910004</td>\n",
       "      <td>89.160004</td>\n",
       "      <td>396.570007</td>\n",
       "    </tr>\n",
       "    <tr>\n",
       "      <th>2021-10-27</th>\n",
       "      <td>148.850006</td>\n",
       "      <td>323.170013</td>\n",
       "      <td>146.427505</td>\n",
       "      <td>163.740005</td>\n",
       "      <td>42.970001</td>\n",
       "      <td>453.480011</td>\n",
       "      <td>167.830002</td>\n",
       "      <td>47.040001</td>\n",
       "      <td>215.779999</td>\n",
       "      <td>169.624496</td>\n",
       "      <td>162.350006</td>\n",
       "      <td>169.550003</td>\n",
       "      <td>64.129997</td>\n",
       "      <td>110.230003</td>\n",
       "      <td>85.010002</td>\n",
       "      <td>330.940002</td>\n",
       "      <td>89.160004</td>\n",
       "      <td>388.149994</td>\n",
       "    </tr>\n",
       "    <tr>\n",
       "      <th>2021-10-28</th>\n",
       "      <td>152.570007</td>\n",
       "      <td>324.350006</td>\n",
       "      <td>146.128998</td>\n",
       "      <td>162.850006</td>\n",
       "      <td>43.180000</td>\n",
       "      <td>455.440002</td>\n",
       "      <td>170.360001</td>\n",
       "      <td>47.779999</td>\n",
       "      <td>209.839996</td>\n",
       "      <td>172.328506</td>\n",
       "      <td>164.460007</td>\n",
       "      <td>169.679993</td>\n",
       "      <td>64.309998</td>\n",
       "      <td>117.879997</td>\n",
       "      <td>86.419998</td>\n",
       "      <td>331.390015</td>\n",
       "      <td>89.190002</td>\n",
       "      <td>358.640015</td>\n",
       "    </tr>\n",
       "    <tr>\n",
       "      <th>2021-10-29</th>\n",
       "      <td>149.800003</td>\n",
       "      <td>331.619995</td>\n",
       "      <td>148.270493</td>\n",
       "      <td>162.880005</td>\n",
       "      <td>43.740002</td>\n",
       "      <td>460.470001</td>\n",
       "      <td>169.889999</td>\n",
       "      <td>47.779999</td>\n",
       "      <td>211.770004</td>\n",
       "      <td>168.621506</td>\n",
       "      <td>167.289993</td>\n",
       "      <td>169.070007</td>\n",
       "      <td>64.470001</td>\n",
       "      <td>119.589996</td>\n",
       "      <td>85.330002</td>\n",
       "      <td>332.320007</td>\n",
       "      <td>88.860001</td>\n",
       "      <td>357.220001</td>\n",
       "    </tr>\n",
       "  </tbody>\n",
       "</table>\n",
       "<p>251 rows × 18 columns</p>\n",
       "</div>"
      ],
      "text/plain": [
       "                  AAPL        MSFT        GOOG         JNJ        PFE  \\\n",
       "Date                                                                    \n",
       "2020-11-02  108.769997  202.330002   81.301498  138.690002  34.373814   \n",
       "2020-11-03  110.440002  206.429993   82.510498  138.500000  34.335861   \n",
       "2020-11-04  114.949997  216.389999   87.456497  139.399994  35.417458   \n",
       "2020-11-05  119.029999  223.289993   88.168503  139.759995  34.525616   \n",
       "2020-11-06  118.690002  223.720001   88.087502  142.250000  34.535103   \n",
       "...                ...         ...         ...         ...        ...   \n",
       "2021-10-25  148.639999  308.130005  138.772995  164.080002  43.150002   \n",
       "2021-10-26  149.320007  310.109985  139.671997  165.750000  43.560001   \n",
       "2021-10-27  148.850006  323.170013  146.427505  163.740005  42.970001   \n",
       "2021-10-28  152.570007  324.350006  146.128998  162.850006  43.180000   \n",
       "2021-10-29  149.800003  331.619995  148.270493  162.880005  43.740002   \n",
       "\n",
       "                   UNH         JPM        BAC           V        AMZN  \\\n",
       "Date                                                                    \n",
       "2020-11-02  312.100006  100.250000  24.080000  184.740005  150.223999   \n",
       "2020-11-03  321.350006  103.410004  24.690001  188.339996  152.420502   \n",
       "2020-11-04  354.559998  100.250000  23.680000  193.970001  162.057999   \n",
       "2020-11-05  354.399994  104.349998  24.610001  197.639999  166.100006   \n",
       "2020-11-06  347.459991  102.959999  24.309999  198.470001  165.568497   \n",
       "...                ...         ...        ...         ...         ...   \n",
       "2021-10-25  449.489990  170.940002  47.509998  233.880005  166.018494   \n",
       "2021-10-26  454.640015  171.399994  47.959999  231.820007  168.803497   \n",
       "2021-10-27  453.480011  167.830002  47.040001  215.779999  169.624496   \n",
       "2021-10-28  455.440002  170.360001  47.779999  209.839996  172.328506   \n",
       "2021-10-29  460.470001  169.889999  47.779999  211.770004  168.621506   \n",
       "\n",
       "                   NKE         DIS        XOM        FSLR        NEE  \\\n",
       "Date                                                                   \n",
       "2020-11-02  122.389999  120.129997  33.990002   88.889999  75.129997   \n",
       "2020-11-03  124.589996  124.019997  33.410000   87.239998  76.019997   \n",
       "2020-11-04  127.339996  125.070000  33.230000   79.779999  73.320000   \n",
       "2020-11-05  129.699997  126.959999  33.169998   86.900002  74.750000   \n",
       "2020-11-06  128.899994  127.459999  32.779999   88.269997  75.720001   \n",
       "...                ...         ...        ...         ...        ...   \n",
       "2021-10-25  164.220001  172.009995  64.349998  109.040001  84.290001   \n",
       "2021-10-26  163.789993  172.039993  65.839996  108.940002  85.470001   \n",
       "2021-10-27  162.350006  169.550003  64.129997  110.230003  85.010002   \n",
       "2021-10-28  164.460007  169.679993  64.309998  117.879997  86.419998   \n",
       "2021-10-29  167.289993  169.070007  64.470001  119.589996  85.330002   \n",
       "\n",
       "                   LMT        RTX         NOC  \n",
       "Date                                           \n",
       "2020-11-02  352.420013  55.750000  296.630005  \n",
       "2020-11-03  363.440002  57.040001  304.820007  \n",
       "2020-11-04  372.160004  56.820000  315.640015  \n",
       "2020-11-05  364.700012  58.279999  307.399994  \n",
       "2020-11-06  361.269989  58.560001  301.359985  \n",
       "...                ...        ...         ...  \n",
       "2021-10-25  376.329987  91.300003  406.619995  \n",
       "2021-10-26  331.910004  89.160004  396.570007  \n",
       "2021-10-27  330.940002  89.160004  388.149994  \n",
       "2021-10-28  331.390015  89.190002  358.640015  \n",
       "2021-10-29  332.320007  88.860001  357.220001  \n",
       "\n",
       "[251 rows x 18 columns]"
      ]
     },
     "execution_count": 116,
     "metadata": {},
     "output_type": "execute_result"
    }
   ],
   "source": [
    "small_df=custom_portfolio_df['Close']\n",
    "small_df.columns=['AAPL','MSFT', 'GOOG', 'JNJ','PFE','UNH','JPM','BAC','V','AMZN','NKE','DIS','XOM','FSLR','NEE','LMT','RTX','NOC']\n",
    "small_df"
   ]
  },
  {
   "cell_type": "markdown",
   "id": "b0fc1c0d",
   "metadata": {},
   "source": [
    "### Technology Dataframe"
   ]
  },
  {
   "cell_type": "code",
   "execution_count": 117,
   "id": "830368e1",
   "metadata": {},
   "outputs": [
    {
     "data": {
      "text/html": [
       "<div>\n",
       "<style scoped>\n",
       "    .dataframe tbody tr th:only-of-type {\n",
       "        vertical-align: middle;\n",
       "    }\n",
       "\n",
       "    .dataframe tbody tr th {\n",
       "        vertical-align: top;\n",
       "    }\n",
       "\n",
       "    .dataframe thead th {\n",
       "        text-align: right;\n",
       "    }\n",
       "</style>\n",
       "<table border=\"1\" class=\"dataframe\">\n",
       "  <thead>\n",
       "    <tr style=\"text-align: right;\">\n",
       "      <th></th>\n",
       "      <th>AAPL</th>\n",
       "      <th>MSFT</th>\n",
       "      <th>GOOG</th>\n",
       "    </tr>\n",
       "    <tr>\n",
       "      <th>Date</th>\n",
       "      <th></th>\n",
       "      <th></th>\n",
       "      <th></th>\n",
       "    </tr>\n",
       "  </thead>\n",
       "  <tbody>\n",
       "    <tr>\n",
       "      <th>2020-11-02</th>\n",
       "      <td>108.769997</td>\n",
       "      <td>202.330002</td>\n",
       "      <td>81.301498</td>\n",
       "    </tr>\n",
       "    <tr>\n",
       "      <th>2020-11-03</th>\n",
       "      <td>110.440002</td>\n",
       "      <td>206.429993</td>\n",
       "      <td>82.510498</td>\n",
       "    </tr>\n",
       "    <tr>\n",
       "      <th>2020-11-04</th>\n",
       "      <td>114.949997</td>\n",
       "      <td>216.389999</td>\n",
       "      <td>87.456497</td>\n",
       "    </tr>\n",
       "    <tr>\n",
       "      <th>2020-11-05</th>\n",
       "      <td>119.029999</td>\n",
       "      <td>223.289993</td>\n",
       "      <td>88.168503</td>\n",
       "    </tr>\n",
       "    <tr>\n",
       "      <th>2020-11-06</th>\n",
       "      <td>118.690002</td>\n",
       "      <td>223.720001</td>\n",
       "      <td>88.087502</td>\n",
       "    </tr>\n",
       "    <tr>\n",
       "      <th>...</th>\n",
       "      <td>...</td>\n",
       "      <td>...</td>\n",
       "      <td>...</td>\n",
       "    </tr>\n",
       "    <tr>\n",
       "      <th>2021-10-25</th>\n",
       "      <td>148.639999</td>\n",
       "      <td>308.130005</td>\n",
       "      <td>138.772995</td>\n",
       "    </tr>\n",
       "    <tr>\n",
       "      <th>2021-10-26</th>\n",
       "      <td>149.320007</td>\n",
       "      <td>310.109985</td>\n",
       "      <td>139.671997</td>\n",
       "    </tr>\n",
       "    <tr>\n",
       "      <th>2021-10-27</th>\n",
       "      <td>148.850006</td>\n",
       "      <td>323.170013</td>\n",
       "      <td>146.427505</td>\n",
       "    </tr>\n",
       "    <tr>\n",
       "      <th>2021-10-28</th>\n",
       "      <td>152.570007</td>\n",
       "      <td>324.350006</td>\n",
       "      <td>146.128998</td>\n",
       "    </tr>\n",
       "    <tr>\n",
       "      <th>2021-10-29</th>\n",
       "      <td>149.800003</td>\n",
       "      <td>331.619995</td>\n",
       "      <td>148.270493</td>\n",
       "    </tr>\n",
       "  </tbody>\n",
       "</table>\n",
       "<p>251 rows × 3 columns</p>\n",
       "</div>"
      ],
      "text/plain": [
       "                  AAPL        MSFT        GOOG\n",
       "Date                                          \n",
       "2020-11-02  108.769997  202.330002   81.301498\n",
       "2020-11-03  110.440002  206.429993   82.510498\n",
       "2020-11-04  114.949997  216.389999   87.456497\n",
       "2020-11-05  119.029999  223.289993   88.168503\n",
       "2020-11-06  118.690002  223.720001   88.087502\n",
       "...                ...         ...         ...\n",
       "2021-10-25  148.639999  308.130005  138.772995\n",
       "2021-10-26  149.320007  310.109985  139.671997\n",
       "2021-10-27  148.850006  323.170013  146.427505\n",
       "2021-10-28  152.570007  324.350006  146.128998\n",
       "2021-10-29  149.800003  331.619995  148.270493\n",
       "\n",
       "[251 rows x 3 columns]"
      ]
     },
     "execution_count": 117,
     "metadata": {},
     "output_type": "execute_result"
    }
   ],
   "source": [
    "tech_df=small_df[['AAPL','MSFT','GOOG']]\n",
    "tech_df"
   ]
  },
  {
   "cell_type": "markdown",
   "id": "33f6cff9",
   "metadata": {},
   "source": [
    "### Healthcare Dataframe"
   ]
  },
  {
   "cell_type": "code",
   "execution_count": 118,
   "id": "9acf36f1",
   "metadata": {},
   "outputs": [
    {
     "data": {
      "text/html": [
       "<div>\n",
       "<style scoped>\n",
       "    .dataframe tbody tr th:only-of-type {\n",
       "        vertical-align: middle;\n",
       "    }\n",
       "\n",
       "    .dataframe tbody tr th {\n",
       "        vertical-align: top;\n",
       "    }\n",
       "\n",
       "    .dataframe thead th {\n",
       "        text-align: right;\n",
       "    }\n",
       "</style>\n",
       "<table border=\"1\" class=\"dataframe\">\n",
       "  <thead>\n",
       "    <tr style=\"text-align: right;\">\n",
       "      <th></th>\n",
       "      <th>JNJ</th>\n",
       "      <th>PFE</th>\n",
       "      <th>UNH</th>\n",
       "    </tr>\n",
       "    <tr>\n",
       "      <th>Date</th>\n",
       "      <th></th>\n",
       "      <th></th>\n",
       "      <th></th>\n",
       "    </tr>\n",
       "  </thead>\n",
       "  <tbody>\n",
       "    <tr>\n",
       "      <th>2020-11-02</th>\n",
       "      <td>138.690002</td>\n",
       "      <td>34.373814</td>\n",
       "      <td>312.100006</td>\n",
       "    </tr>\n",
       "    <tr>\n",
       "      <th>2020-11-03</th>\n",
       "      <td>138.500000</td>\n",
       "      <td>34.335861</td>\n",
       "      <td>321.350006</td>\n",
       "    </tr>\n",
       "    <tr>\n",
       "      <th>2020-11-04</th>\n",
       "      <td>139.399994</td>\n",
       "      <td>35.417458</td>\n",
       "      <td>354.559998</td>\n",
       "    </tr>\n",
       "    <tr>\n",
       "      <th>2020-11-05</th>\n",
       "      <td>139.759995</td>\n",
       "      <td>34.525616</td>\n",
       "      <td>354.399994</td>\n",
       "    </tr>\n",
       "    <tr>\n",
       "      <th>2020-11-06</th>\n",
       "      <td>142.250000</td>\n",
       "      <td>34.535103</td>\n",
       "      <td>347.459991</td>\n",
       "    </tr>\n",
       "    <tr>\n",
       "      <th>...</th>\n",
       "      <td>...</td>\n",
       "      <td>...</td>\n",
       "      <td>...</td>\n",
       "    </tr>\n",
       "    <tr>\n",
       "      <th>2021-10-25</th>\n",
       "      <td>164.080002</td>\n",
       "      <td>43.150002</td>\n",
       "      <td>449.489990</td>\n",
       "    </tr>\n",
       "    <tr>\n",
       "      <th>2021-10-26</th>\n",
       "      <td>165.750000</td>\n",
       "      <td>43.560001</td>\n",
       "      <td>454.640015</td>\n",
       "    </tr>\n",
       "    <tr>\n",
       "      <th>2021-10-27</th>\n",
       "      <td>163.740005</td>\n",
       "      <td>42.970001</td>\n",
       "      <td>453.480011</td>\n",
       "    </tr>\n",
       "    <tr>\n",
       "      <th>2021-10-28</th>\n",
       "      <td>162.850006</td>\n",
       "      <td>43.180000</td>\n",
       "      <td>455.440002</td>\n",
       "    </tr>\n",
       "    <tr>\n",
       "      <th>2021-10-29</th>\n",
       "      <td>162.880005</td>\n",
       "      <td>43.740002</td>\n",
       "      <td>460.470001</td>\n",
       "    </tr>\n",
       "  </tbody>\n",
       "</table>\n",
       "<p>251 rows × 3 columns</p>\n",
       "</div>"
      ],
      "text/plain": [
       "                   JNJ        PFE         UNH\n",
       "Date                                         \n",
       "2020-11-02  138.690002  34.373814  312.100006\n",
       "2020-11-03  138.500000  34.335861  321.350006\n",
       "2020-11-04  139.399994  35.417458  354.559998\n",
       "2020-11-05  139.759995  34.525616  354.399994\n",
       "2020-11-06  142.250000  34.535103  347.459991\n",
       "...                ...        ...         ...\n",
       "2021-10-25  164.080002  43.150002  449.489990\n",
       "2021-10-26  165.750000  43.560001  454.640015\n",
       "2021-10-27  163.740005  42.970001  453.480011\n",
       "2021-10-28  162.850006  43.180000  455.440002\n",
       "2021-10-29  162.880005  43.740002  460.470001\n",
       "\n",
       "[251 rows x 3 columns]"
      ]
     },
     "execution_count": 118,
     "metadata": {},
     "output_type": "execute_result"
    }
   ],
   "source": [
    "health_df=small_df[['JNJ','PFE','UNH']]\n",
    "health_df"
   ]
  },
  {
   "cell_type": "markdown",
   "id": "f9df2883",
   "metadata": {},
   "source": [
    "### Financials Dataframe"
   ]
  },
  {
   "cell_type": "code",
   "execution_count": 119,
   "id": "6e6a96b0",
   "metadata": {},
   "outputs": [
    {
     "data": {
      "text/html": [
       "<div>\n",
       "<style scoped>\n",
       "    .dataframe tbody tr th:only-of-type {\n",
       "        vertical-align: middle;\n",
       "    }\n",
       "\n",
       "    .dataframe tbody tr th {\n",
       "        vertical-align: top;\n",
       "    }\n",
       "\n",
       "    .dataframe thead th {\n",
       "        text-align: right;\n",
       "    }\n",
       "</style>\n",
       "<table border=\"1\" class=\"dataframe\">\n",
       "  <thead>\n",
       "    <tr style=\"text-align: right;\">\n",
       "      <th></th>\n",
       "      <th>JPM</th>\n",
       "      <th>BAC</th>\n",
       "      <th>V</th>\n",
       "    </tr>\n",
       "    <tr>\n",
       "      <th>Date</th>\n",
       "      <th></th>\n",
       "      <th></th>\n",
       "      <th></th>\n",
       "    </tr>\n",
       "  </thead>\n",
       "  <tbody>\n",
       "    <tr>\n",
       "      <th>2020-11-02</th>\n",
       "      <td>100.250000</td>\n",
       "      <td>24.080000</td>\n",
       "      <td>184.740005</td>\n",
       "    </tr>\n",
       "    <tr>\n",
       "      <th>2020-11-03</th>\n",
       "      <td>103.410004</td>\n",
       "      <td>24.690001</td>\n",
       "      <td>188.339996</td>\n",
       "    </tr>\n",
       "    <tr>\n",
       "      <th>2020-11-04</th>\n",
       "      <td>100.250000</td>\n",
       "      <td>23.680000</td>\n",
       "      <td>193.970001</td>\n",
       "    </tr>\n",
       "    <tr>\n",
       "      <th>2020-11-05</th>\n",
       "      <td>104.349998</td>\n",
       "      <td>24.610001</td>\n",
       "      <td>197.639999</td>\n",
       "    </tr>\n",
       "    <tr>\n",
       "      <th>2020-11-06</th>\n",
       "      <td>102.959999</td>\n",
       "      <td>24.309999</td>\n",
       "      <td>198.470001</td>\n",
       "    </tr>\n",
       "    <tr>\n",
       "      <th>...</th>\n",
       "      <td>...</td>\n",
       "      <td>...</td>\n",
       "      <td>...</td>\n",
       "    </tr>\n",
       "    <tr>\n",
       "      <th>2021-10-25</th>\n",
       "      <td>170.940002</td>\n",
       "      <td>47.509998</td>\n",
       "      <td>233.880005</td>\n",
       "    </tr>\n",
       "    <tr>\n",
       "      <th>2021-10-26</th>\n",
       "      <td>171.399994</td>\n",
       "      <td>47.959999</td>\n",
       "      <td>231.820007</td>\n",
       "    </tr>\n",
       "    <tr>\n",
       "      <th>2021-10-27</th>\n",
       "      <td>167.830002</td>\n",
       "      <td>47.040001</td>\n",
       "      <td>215.779999</td>\n",
       "    </tr>\n",
       "    <tr>\n",
       "      <th>2021-10-28</th>\n",
       "      <td>170.360001</td>\n",
       "      <td>47.779999</td>\n",
       "      <td>209.839996</td>\n",
       "    </tr>\n",
       "    <tr>\n",
       "      <th>2021-10-29</th>\n",
       "      <td>169.889999</td>\n",
       "      <td>47.779999</td>\n",
       "      <td>211.770004</td>\n",
       "    </tr>\n",
       "  </tbody>\n",
       "</table>\n",
       "<p>251 rows × 3 columns</p>\n",
       "</div>"
      ],
      "text/plain": [
       "                   JPM        BAC           V\n",
       "Date                                         \n",
       "2020-11-02  100.250000  24.080000  184.740005\n",
       "2020-11-03  103.410004  24.690001  188.339996\n",
       "2020-11-04  100.250000  23.680000  193.970001\n",
       "2020-11-05  104.349998  24.610001  197.639999\n",
       "2020-11-06  102.959999  24.309999  198.470001\n",
       "...                ...        ...         ...\n",
       "2021-10-25  170.940002  47.509998  233.880005\n",
       "2021-10-26  171.399994  47.959999  231.820007\n",
       "2021-10-27  167.830002  47.040001  215.779999\n",
       "2021-10-28  170.360001  47.779999  209.839996\n",
       "2021-10-29  169.889999  47.779999  211.770004\n",
       "\n",
       "[251 rows x 3 columns]"
      ]
     },
     "execution_count": 119,
     "metadata": {},
     "output_type": "execute_result"
    }
   ],
   "source": [
    "finance_df=small_df[['JPM','BAC','V']]\n",
    "finance_df"
   ]
  },
  {
   "cell_type": "markdown",
   "id": "bb3bd9c7",
   "metadata": {},
   "source": [
    "### Consumer Discretionary Dataframe"
   ]
  },
  {
   "cell_type": "code",
   "execution_count": 120,
   "id": "aa5e2b55",
   "metadata": {},
   "outputs": [
    {
     "data": {
      "text/html": [
       "<div>\n",
       "<style scoped>\n",
       "    .dataframe tbody tr th:only-of-type {\n",
       "        vertical-align: middle;\n",
       "    }\n",
       "\n",
       "    .dataframe tbody tr th {\n",
       "        vertical-align: top;\n",
       "    }\n",
       "\n",
       "    .dataframe thead th {\n",
       "        text-align: right;\n",
       "    }\n",
       "</style>\n",
       "<table border=\"1\" class=\"dataframe\">\n",
       "  <thead>\n",
       "    <tr style=\"text-align: right;\">\n",
       "      <th></th>\n",
       "      <th>AMZN</th>\n",
       "      <th>NKE</th>\n",
       "      <th>DIS</th>\n",
       "    </tr>\n",
       "    <tr>\n",
       "      <th>Date</th>\n",
       "      <th></th>\n",
       "      <th></th>\n",
       "      <th></th>\n",
       "    </tr>\n",
       "  </thead>\n",
       "  <tbody>\n",
       "    <tr>\n",
       "      <th>2020-11-02</th>\n",
       "      <td>150.223999</td>\n",
       "      <td>122.389999</td>\n",
       "      <td>120.129997</td>\n",
       "    </tr>\n",
       "    <tr>\n",
       "      <th>2020-11-03</th>\n",
       "      <td>152.420502</td>\n",
       "      <td>124.589996</td>\n",
       "      <td>124.019997</td>\n",
       "    </tr>\n",
       "    <tr>\n",
       "      <th>2020-11-04</th>\n",
       "      <td>162.057999</td>\n",
       "      <td>127.339996</td>\n",
       "      <td>125.070000</td>\n",
       "    </tr>\n",
       "    <tr>\n",
       "      <th>2020-11-05</th>\n",
       "      <td>166.100006</td>\n",
       "      <td>129.699997</td>\n",
       "      <td>126.959999</td>\n",
       "    </tr>\n",
       "    <tr>\n",
       "      <th>2020-11-06</th>\n",
       "      <td>165.568497</td>\n",
       "      <td>128.899994</td>\n",
       "      <td>127.459999</td>\n",
       "    </tr>\n",
       "    <tr>\n",
       "      <th>...</th>\n",
       "      <td>...</td>\n",
       "      <td>...</td>\n",
       "      <td>...</td>\n",
       "    </tr>\n",
       "    <tr>\n",
       "      <th>2021-10-25</th>\n",
       "      <td>166.018494</td>\n",
       "      <td>164.220001</td>\n",
       "      <td>172.009995</td>\n",
       "    </tr>\n",
       "    <tr>\n",
       "      <th>2021-10-26</th>\n",
       "      <td>168.803497</td>\n",
       "      <td>163.789993</td>\n",
       "      <td>172.039993</td>\n",
       "    </tr>\n",
       "    <tr>\n",
       "      <th>2021-10-27</th>\n",
       "      <td>169.624496</td>\n",
       "      <td>162.350006</td>\n",
       "      <td>169.550003</td>\n",
       "    </tr>\n",
       "    <tr>\n",
       "      <th>2021-10-28</th>\n",
       "      <td>172.328506</td>\n",
       "      <td>164.460007</td>\n",
       "      <td>169.679993</td>\n",
       "    </tr>\n",
       "    <tr>\n",
       "      <th>2021-10-29</th>\n",
       "      <td>168.621506</td>\n",
       "      <td>167.289993</td>\n",
       "      <td>169.070007</td>\n",
       "    </tr>\n",
       "  </tbody>\n",
       "</table>\n",
       "<p>251 rows × 3 columns</p>\n",
       "</div>"
      ],
      "text/plain": [
       "                  AMZN         NKE         DIS\n",
       "Date                                          \n",
       "2020-11-02  150.223999  122.389999  120.129997\n",
       "2020-11-03  152.420502  124.589996  124.019997\n",
       "2020-11-04  162.057999  127.339996  125.070000\n",
       "2020-11-05  166.100006  129.699997  126.959999\n",
       "2020-11-06  165.568497  128.899994  127.459999\n",
       "...                ...         ...         ...\n",
       "2021-10-25  166.018494  164.220001  172.009995\n",
       "2021-10-26  168.803497  163.789993  172.039993\n",
       "2021-10-27  169.624496  162.350006  169.550003\n",
       "2021-10-28  172.328506  164.460007  169.679993\n",
       "2021-10-29  168.621506  167.289993  169.070007\n",
       "\n",
       "[251 rows x 3 columns]"
      ]
     },
     "execution_count": 120,
     "metadata": {},
     "output_type": "execute_result"
    }
   ],
   "source": [
    "consumer_df=small_df[['AMZN','NKE','DIS']]\n",
    "consumer_df"
   ]
  },
  {
   "cell_type": "markdown",
   "id": "af32c207",
   "metadata": {},
   "source": [
    "### Energy Dataframe "
   ]
  },
  {
   "cell_type": "code",
   "execution_count": 121,
   "id": "b040c8e8",
   "metadata": {},
   "outputs": [
    {
     "data": {
      "text/html": [
       "<div>\n",
       "<style scoped>\n",
       "    .dataframe tbody tr th:only-of-type {\n",
       "        vertical-align: middle;\n",
       "    }\n",
       "\n",
       "    .dataframe tbody tr th {\n",
       "        vertical-align: top;\n",
       "    }\n",
       "\n",
       "    .dataframe thead th {\n",
       "        text-align: right;\n",
       "    }\n",
       "</style>\n",
       "<table border=\"1\" class=\"dataframe\">\n",
       "  <thead>\n",
       "    <tr style=\"text-align: right;\">\n",
       "      <th></th>\n",
       "      <th>XOM</th>\n",
       "      <th>FSLR</th>\n",
       "      <th>NEE</th>\n",
       "    </tr>\n",
       "    <tr>\n",
       "      <th>Date</th>\n",
       "      <th></th>\n",
       "      <th></th>\n",
       "      <th></th>\n",
       "    </tr>\n",
       "  </thead>\n",
       "  <tbody>\n",
       "    <tr>\n",
       "      <th>2020-11-02</th>\n",
       "      <td>33.990002</td>\n",
       "      <td>88.889999</td>\n",
       "      <td>75.129997</td>\n",
       "    </tr>\n",
       "    <tr>\n",
       "      <th>2020-11-03</th>\n",
       "      <td>33.410000</td>\n",
       "      <td>87.239998</td>\n",
       "      <td>76.019997</td>\n",
       "    </tr>\n",
       "    <tr>\n",
       "      <th>2020-11-04</th>\n",
       "      <td>33.230000</td>\n",
       "      <td>79.779999</td>\n",
       "      <td>73.320000</td>\n",
       "    </tr>\n",
       "    <tr>\n",
       "      <th>2020-11-05</th>\n",
       "      <td>33.169998</td>\n",
       "      <td>86.900002</td>\n",
       "      <td>74.750000</td>\n",
       "    </tr>\n",
       "    <tr>\n",
       "      <th>2020-11-06</th>\n",
       "      <td>32.779999</td>\n",
       "      <td>88.269997</td>\n",
       "      <td>75.720001</td>\n",
       "    </tr>\n",
       "    <tr>\n",
       "      <th>...</th>\n",
       "      <td>...</td>\n",
       "      <td>...</td>\n",
       "      <td>...</td>\n",
       "    </tr>\n",
       "    <tr>\n",
       "      <th>2021-10-25</th>\n",
       "      <td>64.349998</td>\n",
       "      <td>109.040001</td>\n",
       "      <td>84.290001</td>\n",
       "    </tr>\n",
       "    <tr>\n",
       "      <th>2021-10-26</th>\n",
       "      <td>65.839996</td>\n",
       "      <td>108.940002</td>\n",
       "      <td>85.470001</td>\n",
       "    </tr>\n",
       "    <tr>\n",
       "      <th>2021-10-27</th>\n",
       "      <td>64.129997</td>\n",
       "      <td>110.230003</td>\n",
       "      <td>85.010002</td>\n",
       "    </tr>\n",
       "    <tr>\n",
       "      <th>2021-10-28</th>\n",
       "      <td>64.309998</td>\n",
       "      <td>117.879997</td>\n",
       "      <td>86.419998</td>\n",
       "    </tr>\n",
       "    <tr>\n",
       "      <th>2021-10-29</th>\n",
       "      <td>64.470001</td>\n",
       "      <td>119.589996</td>\n",
       "      <td>85.330002</td>\n",
       "    </tr>\n",
       "  </tbody>\n",
       "</table>\n",
       "<p>251 rows × 3 columns</p>\n",
       "</div>"
      ],
      "text/plain": [
       "                  XOM        FSLR        NEE\n",
       "Date                                        \n",
       "2020-11-02  33.990002   88.889999  75.129997\n",
       "2020-11-03  33.410000   87.239998  76.019997\n",
       "2020-11-04  33.230000   79.779999  73.320000\n",
       "2020-11-05  33.169998   86.900002  74.750000\n",
       "2020-11-06  32.779999   88.269997  75.720001\n",
       "...               ...         ...        ...\n",
       "2021-10-25  64.349998  109.040001  84.290001\n",
       "2021-10-26  65.839996  108.940002  85.470001\n",
       "2021-10-27  64.129997  110.230003  85.010002\n",
       "2021-10-28  64.309998  117.879997  86.419998\n",
       "2021-10-29  64.470001  119.589996  85.330002\n",
       "\n",
       "[251 rows x 3 columns]"
      ]
     },
     "execution_count": 121,
     "metadata": {},
     "output_type": "execute_result"
    }
   ],
   "source": [
    "energy_df=small_df[['XOM','FSLR','NEE']]\n",
    "energy_df"
   ]
  },
  {
   "cell_type": "markdown",
   "id": "b03a2e73",
   "metadata": {},
   "source": [
    "### Weapons Manufacturing Dataframe "
   ]
  },
  {
   "cell_type": "code",
   "execution_count": 122,
   "id": "38ee2014",
   "metadata": {},
   "outputs": [
    {
     "data": {
      "text/html": [
       "<div>\n",
       "<style scoped>\n",
       "    .dataframe tbody tr th:only-of-type {\n",
       "        vertical-align: middle;\n",
       "    }\n",
       "\n",
       "    .dataframe tbody tr th {\n",
       "        vertical-align: top;\n",
       "    }\n",
       "\n",
       "    .dataframe thead th {\n",
       "        text-align: right;\n",
       "    }\n",
       "</style>\n",
       "<table border=\"1\" class=\"dataframe\">\n",
       "  <thead>\n",
       "    <tr style=\"text-align: right;\">\n",
       "      <th></th>\n",
       "      <th>LMT</th>\n",
       "      <th>RTX</th>\n",
       "      <th>NOC</th>\n",
       "    </tr>\n",
       "    <tr>\n",
       "      <th>Date</th>\n",
       "      <th></th>\n",
       "      <th></th>\n",
       "      <th></th>\n",
       "    </tr>\n",
       "  </thead>\n",
       "  <tbody>\n",
       "    <tr>\n",
       "      <th>2020-11-02</th>\n",
       "      <td>352.420013</td>\n",
       "      <td>55.750000</td>\n",
       "      <td>296.630005</td>\n",
       "    </tr>\n",
       "    <tr>\n",
       "      <th>2020-11-03</th>\n",
       "      <td>363.440002</td>\n",
       "      <td>57.040001</td>\n",
       "      <td>304.820007</td>\n",
       "    </tr>\n",
       "    <tr>\n",
       "      <th>2020-11-04</th>\n",
       "      <td>372.160004</td>\n",
       "      <td>56.820000</td>\n",
       "      <td>315.640015</td>\n",
       "    </tr>\n",
       "    <tr>\n",
       "      <th>2020-11-05</th>\n",
       "      <td>364.700012</td>\n",
       "      <td>58.279999</td>\n",
       "      <td>307.399994</td>\n",
       "    </tr>\n",
       "    <tr>\n",
       "      <th>2020-11-06</th>\n",
       "      <td>361.269989</td>\n",
       "      <td>58.560001</td>\n",
       "      <td>301.359985</td>\n",
       "    </tr>\n",
       "    <tr>\n",
       "      <th>...</th>\n",
       "      <td>...</td>\n",
       "      <td>...</td>\n",
       "      <td>...</td>\n",
       "    </tr>\n",
       "    <tr>\n",
       "      <th>2021-10-25</th>\n",
       "      <td>376.329987</td>\n",
       "      <td>91.300003</td>\n",
       "      <td>406.619995</td>\n",
       "    </tr>\n",
       "    <tr>\n",
       "      <th>2021-10-26</th>\n",
       "      <td>331.910004</td>\n",
       "      <td>89.160004</td>\n",
       "      <td>396.570007</td>\n",
       "    </tr>\n",
       "    <tr>\n",
       "      <th>2021-10-27</th>\n",
       "      <td>330.940002</td>\n",
       "      <td>89.160004</td>\n",
       "      <td>388.149994</td>\n",
       "    </tr>\n",
       "    <tr>\n",
       "      <th>2021-10-28</th>\n",
       "      <td>331.390015</td>\n",
       "      <td>89.190002</td>\n",
       "      <td>358.640015</td>\n",
       "    </tr>\n",
       "    <tr>\n",
       "      <th>2021-10-29</th>\n",
       "      <td>332.320007</td>\n",
       "      <td>88.860001</td>\n",
       "      <td>357.220001</td>\n",
       "    </tr>\n",
       "  </tbody>\n",
       "</table>\n",
       "<p>251 rows × 3 columns</p>\n",
       "</div>"
      ],
      "text/plain": [
       "                   LMT        RTX         NOC\n",
       "Date                                         \n",
       "2020-11-02  352.420013  55.750000  296.630005\n",
       "2020-11-03  363.440002  57.040001  304.820007\n",
       "2020-11-04  372.160004  56.820000  315.640015\n",
       "2020-11-05  364.700012  58.279999  307.399994\n",
       "2020-11-06  361.269989  58.560001  301.359985\n",
       "...                ...        ...         ...\n",
       "2021-10-25  376.329987  91.300003  406.619995\n",
       "2021-10-26  331.910004  89.160004  396.570007\n",
       "2021-10-27  330.940002  89.160004  388.149994\n",
       "2021-10-28  331.390015  89.190002  358.640015\n",
       "2021-10-29  332.320007  88.860001  357.220001\n",
       "\n",
       "[251 rows x 3 columns]"
      ]
     },
     "execution_count": 122,
     "metadata": {},
     "output_type": "execute_result"
    }
   ],
   "source": [
    "weapons_df=small_df[['LMT','RTX','NOC']]\n",
    "weapons_df"
   ]
  },
  {
   "cell_type": "markdown",
   "id": "adddb6d9",
   "metadata": {},
   "source": [
    "# Calculate: Daily Returns and Weighted Returns"
   ]
  },
  {
   "cell_type": "code",
   "execution_count": 123,
   "id": "696e6920",
   "metadata": {},
   "outputs": [
    {
     "name": "stdout",
     "output_type": "stream",
     "text": [
      "                AAPL      MSFT      GOOG       JNJ       PFE       UNH  \\\n",
      "Date                                                                     \n",
      "2020-11-03  0.015354  0.020264  0.014871 -0.001370 -0.001104  0.029638   \n",
      "2020-11-04  0.040837  0.048249  0.059944  0.006498  0.031500  0.103345   \n",
      "2020-11-05  0.035494  0.031887  0.008141  0.002583 -0.025181 -0.000451   \n",
      "2020-11-06 -0.002856  0.001926 -0.000919  0.017816  0.000275 -0.019582   \n",
      "2020-11-09 -0.019968 -0.023824  0.000710  0.026924  0.076923  0.007310   \n",
      "\n",
      "                 JPM       BAC         V      AMZN       NKE       DIS  \\\n",
      "Date                                                                     \n",
      "2020-11-03  0.031521  0.025332  0.019487  0.014622  0.017975  0.032382   \n",
      "2020-11-04 -0.030558 -0.040907  0.029893  0.063230  0.022072  0.008466   \n",
      "2020-11-05  0.040898  0.039274  0.018920  0.024942  0.018533  0.015112   \n",
      "2020-11-06 -0.013321 -0.012190  0.004200 -0.003200 -0.006168  0.003938   \n",
      "2020-11-09  0.135392  0.141917  0.071598 -0.050623  0.000388  0.118704   \n",
      "\n",
      "                 XOM      FSLR       NEE       LMT       RTX       NOC  \n",
      "Date                                                                    \n",
      "2020-11-03 -0.017064 -0.018562  0.011846  0.031269  0.023139  0.027610  \n",
      "2020-11-04 -0.005388 -0.085511 -0.035517  0.023993 -0.003857  0.035496  \n",
      "2020-11-05 -0.001806  0.089245  0.019504 -0.020045  0.025695 -0.026106  \n",
      "2020-11-06 -0.011758  0.015765  0.012977 -0.009405  0.004804 -0.019649  \n",
      "2020-11-09  0.126602 -0.024470 -0.002773  0.007418  0.109802 -0.000265  \n",
      "                Tech    Health   Finance  Consumer    Energy   Weapons\n",
      "Date                                                                  \n",
      "2020-11-03  0.016829  0.009055  0.025447  0.021659 -0.007927  0.027340\n",
      "2020-11-04  0.049676  0.047115 -0.013857  0.031256 -0.042139  0.018544\n",
      "2020-11-05  0.025174 -0.007683  0.033031  0.019529  0.035648 -0.006819\n",
      "2020-11-06 -0.000616 -0.000497 -0.007104 -0.001810  0.005661 -0.008083\n",
      "2020-11-09 -0.014361  0.037053  0.116302  0.022823  0.033119  0.038985\n",
      "...              ...       ...       ...       ...       ...       ...\n",
      "2021-10-25 -0.000867  0.000901  0.001770  0.005088  0.014832 -0.000156\n",
      "2021-10-26  0.005826  0.010379  0.001118  0.004777  0.012079 -0.055397\n",
      "2021-10-27  0.029111 -0.009408 -0.036401 -0.006134 -0.006504 -0.008052\n",
      "2021-10-28  0.008868  0.001258  0.001093  0.009901  0.029598 -0.024777\n",
      "2021-10-29  0.006304  0.008066  0.002146 -0.002633  0.001460 -0.001618\n",
      "\n",
      "[250 rows x 6 columns]\n"
     ]
    }
   ],
   "source": [
    "# Calculate daily returns, drop nas, and display the data \n",
    "# Tech Daily Returns \n",
    "tech_daily = tech_df.pct_change().dropna()\n",
    "tech_daily.head()\n",
    "\n",
    "# Healthcare Daily Returns \n",
    "health_daily = health_df.pct_change().dropna()\n",
    "health_daily.head()\n",
    "\n",
    "# Financials Daily Returns \n",
    "finance_daily = finance_df.pct_change().dropna()\n",
    "finance_daily.head()\n",
    "\n",
    "# Consumer Discretionary Daily Returns \n",
    "consumer_daily = consumer_df.pct_change().dropna()\n",
    "consumer_daily.head()\n",
    "\n",
    "# Energy Daily Returns \n",
    "energy_daily = energy_df.pct_change().dropna()\n",
    "energy_daily.head()\n",
    "\n",
    "# Weapons Manufacturing Daily Returns \n",
    "weapons_daily = weapons_df.pct_change().dropna()\n",
    "weapons_daily.head()\n",
    "\n",
    "combined_daily_returns = pd.concat([\n",
    "    tech_daily.head(),\n",
    "    health_daily.head(),\n",
    "    finance_daily.head(),\n",
    "    consumer_daily.head(),\n",
    "    energy_daily.head(),\n",
    "    weapons_daily.head()\n",
    "], axis=1)\n",
    "\n",
    "# Rename the columns for clarity\n",
    "combined_daily_returns.columns = ['AAPL','MSFT', 'GOOG', 'JNJ','PFE','UNH','JPM','BAC','V','AMZN','NKE','DIS','XOM','FSLR','NEE','LMT','RTX','NOC']\n",
    "\n",
    "# Display the combined DataFrame\n",
    "print(combined_daily_returns.head())\n",
    "\n",
    "# Set weights\n",
    "weights = [1/3, 1/3, 1/3]\n",
    "\n",
    "# Define a dictionary containing the daily returns for each sector\n",
    "daily_returns_dict = {\n",
    "    \"Tech\": tech_daily,\n",
    "    \"Health\": health_daily,\n",
    "    \"Finance\": finance_daily,\n",
    "    \"Consumer\": consumer_daily,\n",
    "    \"Energy\": energy_daily,\n",
    "    \"Weapons\": weapons_daily\n",
    "}\n",
    "\n",
    "# Create an empty dictionary to store the returns for each sector\n",
    "sector_returns = {}\n",
    "\n",
    "# Calculate the returns for each sector and store them in the dictionary\n",
    "for sector, combined_daily_returns in daily_returns_dict.items():\n",
    "    sector_returns[sector] = (weights * combined_daily_returns).sum(axis=1)\n",
    "\n",
    "# Create a DataFrame from the sector_returns dictionary\n",
    "returns_df = pd.DataFrame(sector_returns)\n",
    "\n",
    "# Display the DataFrame\n",
    "print(returns_df)"
   ]
  },
  {
   "cell_type": "markdown",
   "id": "f7aae5ac",
   "metadata": {},
   "source": [
    "# Risk Analysis Performance \n",
    "1. Cumulative Returns\n",
    "2. Annualized Standard Deviation \n",
    "3. Annualized Sharpe Ratios (Reward to Risk)\n",
    "4. Covariance and Variance \n",
    "5. BETA"
   ]
  },
  {
   "cell_type": "markdown",
   "id": "36d08f26",
   "metadata": {},
   "source": [
    "## Cumulative Returns"
   ]
  },
  {
   "cell_type": "code",
   "execution_count": 124,
   "id": "980bb279",
   "metadata": {},
   "outputs": [
    {
     "data": {
      "image/png": "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",
      "text/plain": [
       "<Figure size 1000x600 with 1 Axes>"
      ]
     },
     "metadata": {},
     "output_type": "display_data"
    }
   ],
   "source": [
    "cumulative_returns = (1 + returns_df).cumprod()\n",
    "\n",
    "# Export and save Cumulative Returns dataframe into a csv file \n",
    "cumulative_returns.to_csv('cumulative_returns_data4.csv', index=False)\n",
    "\n",
    "cumulative_returns.plot(figsize=(10, 6))  # Adjust figsize as needed\n",
    "plt.title('Cumulative Returns of Each Industry')\n",
    "plt.xlabel('Date')\n",
    "plt.ylabel('Cumulative Returns')\n",
    "plt.grid(True)\n",
    "plt.legend()\n",
    "plt.show()"
   ]
  },
  {
   "cell_type": "markdown",
   "id": "18352997",
   "metadata": {},
   "source": [
    "## Annualized Standard Deviation"
   ]
  },
  {
   "cell_type": "code",
   "execution_count": 125,
   "id": "4d90ed70",
   "metadata": {},
   "outputs": [
    {
     "name": "stdout",
     "output_type": "stream",
     "text": [
      "Tech        0.012832\n",
      "Health      0.009107\n",
      "Finance     0.014315\n",
      "Consumer    0.011345\n",
      "Energy      0.014393\n",
      "Weapons     0.011433\n",
      "dtype: float64\n"
     ]
    }
   ],
   "source": [
    "# Calculate the daily standard deviation \n",
    "daily_std_dev = np.std(returns_df)\n",
    "print(daily_std_dev)"
   ]
  },
  {
   "cell_type": "code",
   "execution_count": 126,
   "id": "71d4da57",
   "metadata": {},
   "outputs": [
    {
     "name": "stderr",
     "output_type": "stream",
     "text": [
      "No artists with labels found to put in legend.  Note that artists whose label start with an underscore are ignored when legend() is called with no argument.\n"
     ]
    },
    {
     "data": {
      "image/png": "iVBORw0KGgoAAAANSUhEUgAAA1cAAAJcCAYAAAAVcl6HAAAAOXRFWHRTb2Z0d2FyZQBNYXRwbG90bGliIHZlcnNpb24zLjguMiwgaHR0cHM6Ly9tYXRwbG90bGliLm9yZy8g+/7EAAAACXBIWXMAAA9hAAAPYQGoP6dpAABu4UlEQVR4nO3de3zP9f//8ft7s42NHcIOhs2cz8dIchZJOXVAxczhI+W4EJWzkCLRQRJWKUpSfeQc+oTIOadyGBLmsOawxdhevz/89v56t2FvXttrb7tdL5dd8n6+nnu9Hu/3nnu3+/v1fD1fNsMwDAEAAAAA7oqb1QUAAAAAwL2AcAUAAAAAJiBcAQAAAIAJCFcAAAAAYALCFQAAAACYgHAFAAAAACYgXAEAAACACQhXAAAAAGACwhUAAAAAmIBwBeCeNnfuXNlsNh05csTe1qhRIzVq1Chb61i7dq1sNpvWrl2brcfNauHh4eratWu2HKtr164KDw/PlmPdrawYY6NGjZLNZjN1n2a7du2ahgwZomLFisnNzU1t27a1uiQHab+HCxcutLoUuyNHjshms2nu3LlWlwLABIQrABl6//33ZbPZVKdOHatLyXV+++03PfnkkwoLC1PevHkVGhqqhx9+WNOnT3foN378eC1evNiaInOwRo0ayWazyWazyc3NTb6+vipbtqw6d+6slStXWl3eLSUlJWnUqFEuG8Jnz56tN998U08++aRiYmI0cODAm/a98ef0769y5cplY9WZl/ZhzZYtW6wuJdP27t2rUaNGOXzABCDr5LG6AAA507x58xQeHq7Nmzfr4MGDKlWqlNUlmWbFihVWl3BTGzZsUOPGjVW8eHH17NlTwcHB+vPPP/XLL7/onXfeUd++fe19x48fryeffDLHnR3ICYoWLaoJEyZIkhITE3Xw4EEtWrRIn332mZ5++ml99tln8vDwyLLj3+kYS0pK0ujRoyUp3Zmv1157TUOHDr3b0rLUjz/+qNDQUL399tuZ6n/jz+lGfn5+ZpeWa+3du1ejR49Wo0aNXObML+DKCFcA0omNjdWGDRu0aNEi9erVS/PmzdPIkSOtLss0np6eVpdwU6+//rr8/Pz066+/yt/f32Hb6dOnrSkqm1y+fFmenp5yc7v7SRV+fn567rnnHNomTpyofv366f3331d4eLjeeOONuz7OzWTFGMuTJ4/y5MnZ/9s+ffp0unF7Kxn9nGAdwzB0+fJl5cuXz+pSAJfFtEAA6cybN08BAQFq1aqVnnzySc2bNy9dn7TrBN566y3NnDlTJUuWlJeXl+6//379+uuvDn27du2q/Pnz66+//lLbtm2VP39+FS5cWIMGDVJKSoq9382uS8romoRdu3apa9euioiIUN68eRUcHKxu3brp3Llzt31+/74eJjw8/KbTk26s5a+//lK3bt0UFBQkLy8vVaxYUbNnz063/+PHj6tt27by8fFRYGCgBg4cqCtXrty2Lkk6dOiQKlasmOEfqIGBgfZ/22w2JSYmKiYmxl5r2rVPR48e1QsvvKCyZcsqX758KliwoJ566ql004LSpjitX79e0dHRKly4sHx8fNSuXTudOXPGoa9hGBo3bpyKFi0qb29vNW7cWHv27ElXY3x8vAYNGqTKlSsrf/788vX1VcuWLbVz506Hfmk/6/nz5+u1115TaGiovL29deHCBUnS4sWLValSJeXNm1eVKlXSN998k6nX71bc3d01bdo0VahQQe+++67Onz/vsP2zzz5TzZo1lS9fPt13333q2LGj/vzzT/v2Pn36KH/+/EpKSkq3706dOik4ONg+nv89xpKTkzVixAjVrFlTfn5+8vHxUf369bVmzRp7nyNHjqhw4cKSpNGjR9t/rqNGjZKU8TVX165d09ixY+2/f+Hh4XrllVfSjbfw8HA99thj+vnnn1W7dm3lzZtXERER+uSTTzL12iUmJuqll15SsWLF5OXlpbJly+qtt96SYRj22m02m9asWaM9e/Zk+PtzpzI7niUpISFBAwcOVHh4uLy8vFS0aFF16dJFZ8+edeiXmpqq119/XUWLFlXevHnVtGlTHTx48I7qy+z7W1p9Xbt2lZ+fn/z9/RUZGamEhIR0+7zZNXsZXXc4f/581axZUwUKFJCvr68qV66sd955R9L13/GnnnpKktS4ceN0P5e0cbF8+XLVqlVL+fLl04cffqiGDRuqatWqGT7fsmXLqkWLFs69SEAukrM/AgNgiXnz5ql9+/by9PRUp06d9MEHH+jXX3/V/fffn67v559/rosXL6pXr16y2WyaNGmS2rdvr8OHDztMu0pJSVGLFi1Up04dvfXWW1q1apUmT56skiVLqnfv3k7XuHLlSh0+fFhRUVEKDg7Wnj17NHPmTO3Zs0e//PKLUxf+T506VZcuXXJoe/vtt7Vjxw4VLFhQkhQXF6cHHnhANptNffr0UeHChbV06VJ1795dFy5c0IABAyRJ//zzj5o2bapjx46pX79+KlKkiD799FP9+OOPmaolLCxMGzdu1O7du1WpUqWb9vv000/Vo0cP1a5dW//5z38kSSVLlpQk/frrr9qwYYM6duyookWL6siRI/rggw/UqFEj7d27V97e3g776tu3rwICAjRy5EgdOXJEU6dOVZ8+fbRgwQJ7nxEjRmjcuHF69NFH9eijj2rbtm1q3ry5kpOTHfZ1+PBhLV68WE899ZRKlCihuLg4+x9re/fuVZEiRRz6jx07Vp6enho0aJCuXLkiT09PrVixQk888YQqVKigCRMm6Ny5c4qKilLRokUz9Rreiru7uzp16qThw4fr559/VqtWrSRdP2M4fPhwPf300+rRo4fOnDmj6dOnq0GDBtq+fbv8/f3VoUMHvffee1qyZIn9D1bp+lS+77//Xl27dpW7u3uGx71w4YJmzZqlTp06qWfPnrp48aI+/vhjtWjRQps3b1a1atVUuHBhffDBB+rdu7fatWun9u3bS5KqVKly0+fTo0cPxcTE6Mknn9RLL72kTZs2acKECdq3b1+6QHrw4EE9+eST6t69uyIjIzV79mx17dpVNWvWVMWKFW96DMMw1Lp1a61Zs0bdu3dXtWrVtHz5cg0ePFh//fWX3n77bRUuXFiffvqpXn/9dV26dMk+1a98+fK3/HmkpKSkCz6SlC9fPvn4+EjK/Hi+dOmS6tevr3379qlbt26qUaOGzp49q++++07Hjx9XoUKF7PufOHGi3NzcNGjQIJ0/f16TJk3Ss88+q02bNt2y3ls9j9u9vxmGoTZt2ujnn3/W888/r/Lly+ubb75RZGTkHR1Tuv4+2KlTJzVt2tR+Jnbfvn1av369+vfvrwYNGqhfv36aNm2aXnnlFfvP48afy++//65OnTqpV69e6tmzp8qWLav8+fOrZ8+e6d6Hfv31V/3xxx967bXX7rhm4J5nAMANtmzZYkgyVq5caRiGYaSmphpFixY1+vfv79AvNjbWkGQULFjQiI+Pt7d/++23hiTj+++/t7dFRkYakowxY8Y47KN69epGzZo17Y/XrFljSDLWrFmT4bHmzJljb0tKSkpX+xdffGFIMn766Sd725w5cwxJRmxsrL2tYcOGRsOGDW/6Gnz55Zfp6u3evbsREhJinD171qFvx44dDT8/P3s9U6dONSQZX375pb1PYmKiUapUqQyf27+tWLHCcHd3N9zd3Y26desaQ4YMMZYvX24kJyen6+vj42NERkama8/otdm4caMhyfjkk0/sbWmvTbNmzYzU1FR7+8CBAw13d3cjISHBMAzDOH36tOHp6Wm0atXKod8rr7xiSHKo4fLly0ZKSorDsWNjYw0vLy+H1zPtZx0REZGu3mrVqhkhISH246e9LpKMsLCwdM/t3xo2bGhUrFjxptu/+eYbQ5LxzjvvGIZhGEeOHDHc3d2N119/3aHfb7/9ZuTJk8fenpqaaoSGhhpPPPGEQ7+08XLjuPv3GLt27Zpx5coVh+/7+++/jaCgIKNbt272tjNnzhiSjJEjR6are+TIkcaN/9vesWOHIcno0aOHQ79BgwYZkowff/zR3hYWFpauxtOnTxteXl7GSy+9lOHrlGbx4sWGJGPcuHEO7U8++aRhs9mMgwcPOjzvW732N2rYsKEhKcOvXr162ftldjyPGDHCkGQsWrQoXf+0cZs27sqXL+/w83jnnXcMScZvv/12y5rTfmd+/fVXe1tm39/SXsdJkybZ265du2bUr18/3fvbzd6jIiMjHX4H+vfvb/j6+hrXrl27ac1fffXVTd970sbFsmXLHNoTEhKMvHnzGi+//LJDe79+/QwfHx/j0qVLNz0ekNsxLRCAg3nz5ikoKEiNGzeWdH36WYcOHTR//vx0U1wkqUOHDgoICLA/rl+/vqTrZzD+7fnnn3d4XL9+/Qz7ZcaN1wRcvnxZZ8+e1QMPPCBJ2rZt2x3tU7p+8Xe3bt3Upk0b+6ezhmHo66+/1uOPPy7DMHT27Fn7V4sWLXT+/Hn7MX/44QeFhIToySeftO/T29vbfnbpdh5++GFt3LhRrVu31s6dOzVp0iS1aNFCoaGh+u677zK1jxtfm6tXr+rcuXMqVaqU/P39M3xt/vOf/zic6atfv75SUlJ09OhRSdKqVauUnJysvn37OvRLO1t3Iy8vL/s1UykpKTp37pzy58+vsmXLZnjsyMhIh3pPnjypHTt2KDIy0mFRg4cfflgVKlTI1PO/nfz580uSLl68KElatGiRUlNT9fTTTzv8bIODg1W6dGn71D2bzaannnpKP/zwg8OZzgULFig0NFQPPfTQTY/p7u5uvw4rNTVV8fHxunbtmmrVqnXH4/WHH36QJEVHRzu0v/TSS5KkJUuWOLRXqFDB/vspSYULF1bZsmVv+zv4ww8/yN3dXf369Ut3HMMwtHTp0juqX7o+LW3lypXpvm4cW5kdz19//bWqVq2qdu3apTvOv89kR0VFOVwXd6v3rcy63fvbDz/8oDx58jicqXd3d3dYpMZZ/v7+SkxMvKtVMEuUKJFump+fn5/atGmjL774wj71MyUlRQsWLLBPeQaQMcIVALuUlBTNnz9fjRs3VmxsrA4ePKiDBw+qTp06iouL0+rVq9N9T/HixR0epwWtv//+26E9b9689utJbuz7736ZFR8fr/79+ysoKEj58uVT4cKFVaJECUlKdy1NZl24cEHt27dXaGioPvnkE/sfZGfOnFFCQoJmzpypwoULO3xFRUVJ+r/FJo4ePapSpUql+2OubNmyma7j/vvv16JFi/T3339r8+bNGjZsmC5evKgnn3xSe/fuve33//PPPxoxYoT9+phChQqpcOHCSkhIyPC1ud3PMC1klS5d2qFf4cKFHYK1dD04vP322ypdurTDsXft2pXhsdN+ZmludizJudfwVtKCUYECBSRJBw4ckGEYKl26dLqf7759+xwWEunQoYP++ecfe9C9dOmSfvjhBz311FO3nYoaExOjKlWqKG/evCpYsKAKFy6sJUuW3PF4PXr0qNzc3NKt5BkcHCx/f3/7a5nm3z9nKXO/g0ePHlWRIkXsr1eatKll/z6OM3x8fNSsWbN0XzcuxZ7Z8Xzo0KFbTqW9UWbftzIrM+9vR48eVUhIiD3cp7mbcf3CCy+oTJkyatmypYoWLapu3bpp2bJlTu3j37+Dabp06aJjx47pf//7n6TrH7LExcWpc+fOd1wvkBtwzRUAux9//FEnT57U/PnzNX/+/HTb582bp+bNmzu03ewak7RPO2/X70Y3++M0ozNmTz/9tDZs2KDBgwerWrVqyp8/v1JTU/XII48oNTX1tsfKSNeuXXXixAlt3rxZvr6+9va0/T333HM3vT7iVtfF3ClPT0/df//9uv/++1WmTBlFRUXpq6++uu3KjX379tWcOXM0YMAA1a1bV35+frLZbOrYsWOGr01mf4aZMX78eA0fPlzdunXT2LFjdd9998nNzU0DBgzI8NhWrEq2e/duSbKHktTUVNlsNi1dujTD1+LGP4YfeOABhYeH68svv9Qzzzyj77//Xv/88486dOhwy2N+9tln6tq1q9q2bavBgwcrMDBQ7u7umjBhgg4dOnRXzyez1xea+XPOTs6O58ww+7XIzPubM2w2W4a1/Pu9MDAwUDt27NDy5cu1dOlSLV26VHPmzFGXLl0UExOTqWPd7HewRYsWCgoK0meffaYGDRros88+U3BwsJo1a+b8EwJyEcIVALt58+YpMDBQ7733XrptixYt0jfffKMZM2Zk2R/EaZ8e/3v1rH9/Mv73339r9erVGj16tEaMGGFvP3DgwB0fe+LEiVq8eLEWLVqU7gamhQsXVoECBZSSknLbPyzCwsK0e/duGYbh8Efv77//fse1SVKtWrUkXZ82l+Zmf1QvXLhQkZGRmjx5sr3t8uXLGa5KlhlhYWGSrr++ERER9vYzZ86k+6R/4cKFaty4sT7++GOH9oSEBIcFBTJzrH+729dQuv7H6eeffy5vb2/7NL6SJUvKMAyVKFFCZcqUue0+nn76ab3zzju6cOGCFixYoPDwcPuU1JtZuHChIiIitGjRIoef27+DsjMLsYSFhSk1NVUHDhxwWKAgLi5OCQkJ9tfyboWFhWnVqlW6ePGiw9mr/fv327dnpcyO55IlS9qDc04UFham1atX69KlSw6BPaNxHRAQkOEUxYzOEnp6eurxxx/X448/rtTUVL3wwgv68MMPNXz48AzPomeWu7u7nnnmGc2dO1dvvPGGFi9erJ49e5oeJIF7DdMCAUi6PvVm0aJFeuyxx/Tkk0+m++rTp48uXryY6et+7kRYWJjc3d31008/ObS///77Do/T/uf+7092p06dekfHXbVqlV577TW9+uqrGd6Q193dXU888YS+/vrrDP94u3HZ8kcffVQnTpzQwoUL7W1JSUmaOXNmpmpZs2ZNhp9Yp11fc+MUIh8fnwwDk7u7e7p9TJ8+PcMzgJnRrFkzeXh4aPr06Q77zej1zujYX331lf76669MHSskJETVqlVTTEyMw5SvlStXZmpK5K2kpKSoX79+2rdvn/r162c/O9m+fXu5u7tr9OjR6Wo3DCPd8v4dOnTQlStXFBMTo2XLlunpp5++7bEzGrObNm3Sxo0bHfqlrXyXmSD86KOPSkr/c5gyZYok2VdCvFuPPvqoUlJS9O677zq0v/3227LZbGrZsqUpx7mZzI7nJ554Qjt37sxw2f6ccHbu0Ucf1bVr1/TBBx/Y21JSUjR9+vR0fUuWLKn9+/c7vLfs3LlT69evd+j377Hp5uZmP4uethx/2vVRd/LhSufOnfX333+rV69eunTpEvckAzKBM1cAJEnfffedLl68qNatW2e4/YEHHlDhwoU1b968206BulN+fn566qmnNH36dNlsNpUsWVL//e9/090819fXVw0aNNCkSZN09epVhYaGasWKFYqNjb2j43bq1EmFCxdW6dKl9dlnnzlse/jhhxUUFKSJEydqzZo1qlOnjnr27KkKFSooPj5e27Zt06pVqxQfHy9J6tmzp95991116dJFW7duVUhIiD799NN0y5/fTN++fZWUlKR27dqpXLlySk5O1oYNG+xnSNKu8ZKkmjVratWqVZoyZYqKFCmiEiVKqE6dOnrsscf06aefys/PTxUqVNDGjRu1atUq+7Lyzkq7Z8+ECRP02GOP6dFHH9X27du1dOnSdGejHnvsMY0ZM0ZRUVF68MEH9dtvv2nevHkOZ7xuZ8KECWrVqpUeeughdevWTfHx8Zo+fboqVqyYbsn8mzl//rz9Z5mUlKSDBw9q0aJFOnTokDp27KixY8fa+5YsWVLjxo3TsGHDdOTIEbVt21YFChRQbGysvvnmG/3nP//RoEGD7P1r1KihUqVK6dVXX9WVK1cy9fvw2GOPadGiRWrXrp1atWql2NhYzZgxQxUqVHB4Tvny5VOFChW0YMEClSlTRvfdd58qVaqU4bVEVatWVWRkpGbOnKmEhAQ1bNhQmzdvVkxMjNq2bWtflOZuPf7442rcuLFeffVVHTlyRFWrVtWKFSv07bffasCAAfZbANyJG39O/5b2h3xmx/PgwYO1cOFCPfXUU+rWrZtq1qyp+Ph4fffdd5oxY8ZN79uUXR5//HHVq1dPQ4cO1ZEjR1ShQgUtWrQow2vuunXrpilTpqhFixbq3r27Tp8+rRkzZqhixYr2e8FJ15fij4+PV5MmTVS0aFEdPXpU06dPV7Vq1exnM6tVqyZ3d3e98cYbOn/+vLy8vNSkSROH++bdTPXq1VWpUiV99dVXKl++vGrUqGHeCwLcq7JzaUIAOdfjjz9u5M2b10hMTLxpn65duxoeHh7G2bNn7cujv/nmm+n66V9LSUdGRho+Pj7p+v17aWnDuL4U9RNPPGF4e3sbAQEBRq9evYzdu3enW6r4+PHjRrt27Qx/f3/Dz8/PeOqpp4wTJ06kO3ZmlmLXTZaD1r+WL46LizNefPFFo1ixYoaHh4cRHBxsNG3a1Jg5c6bDczh69KjRunVrw9vb2yhUqJDRv39/Y9myZZlain3p0qVGt27djHLlyhn58+c3PD09jVKlShl9+/Y14uLiHPru37/faNCggZEvXz6HJdH//vtvIyoqyihUqJCRP39+o0WLFsb+/fuNsLAwh2XTM1pW2jAyXhI/JSXFGD16tBESEmLky5fPaNSokbF79+50+7x8+bLx0ksv2fvVq1fP2LhxY7rXPO0YX331VYavw9dff22UL1/e8PLyMipUqGAsWrQo3TLUN/PvJb7z589vlC5d2njuueeMFStW3PT7vv76a+Ohhx4yfHx8DB8fH6NcuXLGiy++aPz+++/p+r766quGJKNUqVI3reHG55uammqMHz/eCAsLM7y8vIzq1asb//3vfzN8Ths2bDBq1qxpeHp6OoznjH5frl69aowePdooUaKE4eHhYRQrVswYNmyYcfnyZYd+YWFhRqtWrW5b581cvHjRGDhwoFGkSBHDw8PDKF26tPHmm286LM2ftj8zlmK/8XlmdjwbhmGcO3fO6NOnjxEaGmp4enoaRYsWNSIjI+23ULjZuMvodg8ZudlS7Jl9fzt37pzRuXNnw9fX1/Dz8zM6d+5sbN++PcNjf/bZZ0ZERITh6elpVKtWzVi+fHm68bJw4UKjefPmRmBgoOHp6WkUL17c6NWrl3Hy5EmHfX300UdGRESE4e7u7vC7fbNxcaNJkyYZkozx48ffsh+A62yGkQPOlQMAACDHeeeddzRw4EAdOXIkwxUnATgiXAEAACAdwzBUtWpVFSxY0H6/NwC3xjVXAAAAsEtMTNR3332nNWvW6LffftO3335rdUmAy+DMFQAAAOyOHDmiEiVKyN/fXy+88IJef/11q0sCXAbhCgAAAABMwH2uAAAAAMAEhCsAAAAAMAELWmQgNTVVJ06cUIECBWSz2awuBwAAAIBFDMPQxYsXVaRIEbm53frcFOEqAydOnFCxYsWsLgMAAABADvHnn3+qaNGit+xDuMpAgQIFJF1/AX19fS2uxhpXr17VihUr1Lx5c3l4eFhdDizAGABjAIwBMAbAGJAuXLigYsWK2TPCrRCuMpA2FdDX1zdXhytvb2/5+vrm2l+k3I4xAMYAGANgDIAx8H8yc7kQC1oAAAAAgAkIVwAAAABgAsIVAAAAAJiAa64AAAAA3NNSUlJ09erVDLd5eHjI3d3dlOMQrgAAAADckwzD0KlTp5SQkHDLfv7+/goODr7re9wSrgAAAADck9KCVWBgoLy9vdOFJ8MwlJSUpNOnT0uSQkJC7up4hCsAAAAA95yUlBR7sCpYsOBN++XLl0+SdPr0aQUGBt7VFEEWtAAAAABwz0m7xsrb2/u2fdP63Oy6rMwiXAEAAAC4Z2XmOqq7vdYqDeEKAAAAAExAuAIAAAAAExCuAAAAAMAEhCsAAAAA9yzDMEzpkxmEKwAAAAD3HA8PD0lSUlLSbfum9Un7njvFfa4AAAAA3HPc3d3l7+9vv0Hw7W4i7O/vf1f3uJIIVwAAAADuUcHBwZJkD1g34+/vb+97NwhXAAAAAO5JNptNISEhCgwMvOkNgj08PO76jFUawhUAAACAe5q7u7tpAepWWNACAAAAAEzAmSsAAIAcLHzoEsuO7eVuaFJtqdKo5bqSYrv9N2SRIxNbWXZswBmcuQIAAAAAE3DmCgBysNz+iTWfVgMAXAlnrgAAAADABIQrAAAAADAB4QoAAAAATEC4AgAAAAATEK4AAAAAwASEKwAAAAAwAeEKAAAAAExAuAIAAAAAExCuAAAAAMAEhCsAAAAAMAHhCgAAAABMQLgCAAAAABMQrgAAAADABIQrAAAAADAB4QoAAAAATEC4AgAAAAATEK4AAAAAwASEKwAAAAAwAeEKAAAAAExAuAIAAAAAExCuAAAAAMAEhCsAAAAAMAHhCgAAAABMQLgCAAAAABMQrgAAAADABIQrAAAAADAB4QoAAAAATEC4AgAAAAATEK4AAAAAwASEKwAAAAAwAeEKAAAAAExAuAIAAAAAExCuAAAAAMAEhCsAAAAAMAHhCgAAAABMQLgCAAAAABMQrgAAAADABIQrAAAAADAB4QoAAAAATEC4AgAAAAATEK4AAAAAwASEKwAAAAAwAeEKAAAAAExAuAIAAAAAExCuAAAAAMAEeawuABkLH7rE0uN7uRuaVFuqNGq5rqTYLKnhyMRWlhwXAAAAuBOcuQIAAAAAExCuAAAAAMAEOSJcvffeewoPD1fevHlVp04dbd68+aZ9P/roI9WvX18BAQEKCAhQs2bN0vU3DEMjRoxQSEiI8uXLp2bNmunAgQNZ/TQAAAAA5GKWh6sFCxYoOjpaI0eO1LZt21S1alW1aNFCp0+fzrD/2rVr1alTJ61Zs0YbN25UsWLF1Lx5c/3111/2PpMmTdK0adM0Y8YMbdq0ST4+PmrRooUuX76cXU8LAAAAQC5jebiaMmWKevbsqaioKFWoUEEzZsyQt7e3Zs+enWH/efPm6YUXXlC1atVUrlw5zZo1S6mpqVq9erWk62etpk6dqtdee01t2rRRlSpV9Mknn+jEiRNavHhxNj4zAAAAALmJpasFJicna+vWrRo2bJi9zc3NTc2aNdPGjRsztY+kpCRdvXpV9913nyQpNjZWp06dUrNmzex9/Pz8VKdOHW3cuFEdO3ZMt48rV67oypUr9scXLlyQJF29elVXr169o+d2t7zcDUuOaz++m+HwXytY9drjurTXn5+Dtax8L+B9ALwP5Ay5/X1AYgxaifcB5567zTAMy35bTpw4odDQUG3YsEF169a1tw8ZMkTr1q3Tpk2bbruPF154QcuXL9eePXuUN29ebdiwQfXq1dOJEycUEhJi7/f000/LZrNpwYIF6fYxatQojR49Ol37559/Lm9v7zt8dgAAAABcXVJSkp555hmdP39evr6+t+zr0ve5mjhxoubPn6+1a9cqb968d7yfYcOGKTo62v74woUL9mu5bvcCZpVKo5Zbctw0Xm6GxtZK1fAtbrqSas19rnaPamHJcXHd1atXtXLlSj388MPy8PCwupxcy8r3At4HwPtAzpDb3wck3gusxPvA/81qywxLw1WhQoXk7u6uuLg4h/a4uDgFBwff8nvfeustTZw4UatWrVKVKlXs7WnfFxcX53DmKi4uTtWqVctwX15eXvLy8krX7uHhYdkgsurGvf92JdVmWS259Rc4p7Hy9wA5472A9wHwPmCt3P4+IPFekBPk5vcBZ563pQtaeHp6qmbNmvbFKCTZF6e4cZrgv02aNEljx47VsmXLVKtWLYdtJUqUUHBwsMM+L1y4oE2bNt1ynwAAAABwNyyfFhgdHa3IyEjVqlVLtWvX1tSpU5WYmKioqChJUpcuXRQaGqoJEyZIkt544w2NGDFCn3/+ucLDw3Xq1ClJUv78+ZU/f37ZbDYNGDBA48aNU+nSpVWiRAkNHz5cRYoUUdu2ba16mgAAAADucZaHqw4dOujMmTMaMWKETp06pWrVqmnZsmUKCgqSJB07dkxubv93gu2DDz5QcnKynnzySYf9jBw5UqNGjZJ0fUGMxMRE/ec//1FCQoIeeughLVu27K6uywIAAACAW7E8XElSnz591KdPnwy3rV271uHxkSNHbrs/m82mMWPGaMyYMSZUBwAAAAC3Z/lNhAEAAADgXkC4AgAAAAATEK4AAAAAwASEKwAAAAAwAeEKAAAAAExAuAIAAAAAExCuAAAAAMAEhCsAAAAAMAHhCgAAAABMQLgCAAAAABMQrgAAAADABIQrAAAAADAB4QoAAAAATEC4AgAAAAATEK4AAAAAwASEKwAAAAAwAeEKAAAAAExAuAIAAAAAExCuAAAAAMAEhCsAAAAAMAHhCgAAAABMQLgCAAAAABMQrgAAAADABIQrAAAAADAB4QoAAAAATEC4AgAAAAATEK4AAAAAwASEKwAAAAAwAeEKAAAAAEyQx+oCAAAAANxc+NAllh3by93QpNpSpVHLdSXFZlkdRya2suzYzuDMFQAAAACYgDNXAADkYLn9E2tX+bQaACTOXAEAAACAKQhXAAAAAGACwhUAAAAAmIBwBQAAAAAmIFwBAAAAgAkIVwAAAABgAsIVAAAAAJiAcAUAAAAAJiBcAQAAAIAJ8tzJN61evVqrV6/W6dOnlZqa6rBt9uzZphQGAAAAAK7E6XA1evRojRkzRrVq1VJISIhsNltW1AUAAAAALsXpcDVjxgzNnTtXnTt3zop6AAAAAMAlOX3NVXJysh588MGsqAUAAAAAXJbT4apHjx76/PPPs6IWAAAAAHBZTk8LvHz5smbOnKlVq1apSpUq8vDwcNg+ZcoU04oDAAAAAFfhdLjatWuXqlWrJknavXu3wzYWtwAAAACQWzkdrtasWZMVdQAAAACAS7urmwgfP35cx48fN6sWAAAAAHBZToer1NRUjRkzRn5+fgoLC1NYWJj8/f01duzYdDcUBgAAAIDcwulpga+++qo+/vhjTZw4UfXq1ZMk/fzzzxo1apQuX76s119/3fQiAQAAACCnczpcxcTEaNasWWrdurW9rUqVKgoNDdULL7xAuAIAAACQKzk9LTA+Pl7lypVL116uXDnFx8ebUhQAAAAAuBqnw1XVqlX17rvvpmt/9913VbVqVVOKAgAAAABX4/S0wEmTJqlVq1ZatWqV6tatK0nauHGj/vzzT/3www+mFwgAAAAArsDpM1cNGzbUH3/8oXbt2ikhIUEJCQlq3769fv/9d9WvXz8ragQAAACAHM/pM1eSVKRIERauAAAAAIAbZCpc7dq1S5UqVZKbm5t27dp1y75VqlQxpTAAAAAAcCWZClfVqlXTqVOnFBgYqGrVqslms8kwjHT9bDabUlJSTC8SAAAAAHK6TIWr2NhYFS5c2P5vAAAAAICjTIWrsLAw+7+PHj2qBx98UHnyOH7rtWvXtGHDBoe+AAAAAJBbOL1aYOPGjTO8WfD58+fVuHFjU4oCAAAAAFfjdLgyDEM2my1d+7lz5+Tj42NKUQAAAADgajK9FHv79u0lXV+0omvXrvLy8rJvS0lJ0a5du/Tggw+aXyEAAAAAuIBMhys/Pz9J189cFShQQPny5bNv8/T01AMPPKCePXuaXyEAAAAAuIBMh6s5c+ZIksLDwzVo0CCmAAIAAADADTIdrtKMHDkyK+oAAAAAAJfmdLiSpIULF+rLL7/UsWPHlJyc7LBt27ZtphQGAAAAAK7E6dUCp02bpqioKAUFBWn79u2qXbu2ChYsqMOHD6tly5ZZUSMAAAAA5HhOh6v3339fM2fO1PTp0+Xp6akhQ4Zo5cqV6tevn86fP58VNQIAAABAjud0uDp27Jh9yfV8+fLp4sWLkqTOnTvriy++MLc6AAAAAHARToer4OBgxcfHS5KKFy+uX375RZIUGxsrwzDMrQ4AAAAAXITT4apJkyb67rvvJElRUVEaOHCgHn74YXXo0EHt2rUzvUAAAAAAcAVOrxY4c+ZMpaamSpJefPFFFSxYUBs2bFDr1q3Vq1cv0wsEAAAAAFfgdLhyc3OTm9v/nfDq2LGjOnbsaGpRAAAAAOBqMhWudu3apUqVKsnNzU27du26Zd8qVaqYUhgAAAAAuJJMhatq1arp1KlTCgwMVLVq1WSz2TJcvMJmsyklJcX0IgEAAAAgp8tUuIqNjVXhwoXt/wYAAAAAOMpUuAoLC7P/OygoSHnz5s2yggAAAADAFTm9FHtgYKAiIyO1cuVK+6qBAAAAAJDbOR2uYmJilJSUpDZt2ig0NFQDBgzQli1bsqI2AAAAAHAZToerdu3a6auvvlJcXJzGjx+vvXv36oEHHlCZMmU0ZsyYrKgRAAAAAHI8p8NVmgIFCigqKkorVqzQrl275OPjo9GjR5tZGwAAAAC4jDsOV5cvX9aXX36ptm3bqkaNGoqPj9fgwYPNrA0AAAAAXIbT4Wr58uWKjIxUUFCQevfuraCgIK1YsUJHjx7VxIkTnS7gvffeU3h4uPLmzas6depo8+bNN+27Z88ePfHEEwoPD5fNZtPUqVPT9Rk1apRsNpvDV7ly5ZyuCwAAAACccUfXXP3zzz/65JNPdOrUKX344Ydq0KDBHR18wYIFio6O1siRI7Vt2zZVrVpVLVq00OnTpzPsn5SUpIiICE2cOFHBwcE33W/FihV18uRJ+9fPP/98R/UBAAAAQGZl6j5XN4qLi1OBAgVMOfiUKVPUs2dPRUVFSZJmzJihJUuWaPbs2Ro6dGi6/vfff7/uv/9+Scpwe5o8efLcMnwBAAAAgNmcDlcFChTQoUOHNGfOHB06dEjvvPOOAgMDtXTpUhUvXlwVK1bM1H6Sk5O1detWDRs2zN7m5uamZs2aaePGjc6W5eDAgQMqUqSI8ubNq7p162rChAkqXrz4TftfuXJFV65csT++cOGCJOnq1au6evXqXdVyp7zcDUuOaz++m+HwXytY9drjurTXn5+Dtax8L+B9IGdgDDAGcvsYkBgHjAFrx4Azx7YZhuHUK7Vu3Tq1bNlS9erV008//aR9+/bZp+pt2bJFCxcuzNR+Tpw4odDQUG3YsEF169a1tw8ZMkTr1q3Tpk2bbvn94eHhGjBggAYMGODQvnTpUl26dElly5bVyZMnNXr0aP3111/avXv3Tc+4jRo1KsOVDj///HN5e3tn6vkAAAAAuPckJSXpmWee0fnz5+Xr63vLvk6fuRo6dKjGjRun6Ohoh7DSpEkTvfvuu85Xa7KWLVva/12lShXVqVNHYWFh+vLLL9W9e/cMv2fYsGGKjo62P75w4YKKFSum5s2b3/YFzCqVRi235LhpvNwMja2VquFb3HQl1WZJDbtHtbDkuLju6tWrWrlypR5++GF5eHhYXU6uZeV7Ae8DOQNjgDGQ28eAxDhgDFg7BtJmtWWG0+Hqt99+0+eff56uPTAwUGfPns30fgoVKiR3d3fFxcU5tMfFxZl6vZS/v7/KlCmjgwcP3rSPl5eXvLy80rV7eHhY9kfllRTrBu+NrqTaLKuFP+hzBit/D5Az3gt4H7AWY4AxkNvHgMQ4YAxYOwacObbTqwX6+/vr5MmT6dq3b9+u0NDQTO/H09NTNWvW1OrVq+1tqampWr16tcM0wbt16dIlHTp0SCEhIabtEwAAAAD+zelw1bFjR7388ss6deqUbDabUlNTtX79eg0aNEhdunRxal/R0dH66KOPFBMTo3379ql3795KTEy0rx7YpUsXhwUvkpOTtWPHDu3YsUPJycn666+/tGPHDoezUoMGDdK6det05MgRbdiwQe3atZO7u7s6derk7FMFAAAAgExzelrg+PHj9eKLL6pYsWJKSUlRhQoVlJKSomeeeUavvfaaU/vq0KGDzpw5oxEjRujUqVOqVq2ali1bpqCgIEnSsWPH5Ob2f/nvxIkTql69uv3xW2+9pbfeeksNGzbU2rVrJUnHjx9Xp06ddO7cORUuXFgPPfSQfvnlFxUuXNjZpwoAAAAAmeZ0uPL09NRHH32k4cOHa/fu3bp06ZKqV6+u0qVL31EBffr0UZ8+fTLclhaY0oSHh+t2ixvOnz//juoAAAAAgLvhdLhKU7x48VveOwoAAAAAchOnrrlKTEzUiBEjVKlSJeXPn18FChRQlSpVNGbMGCUlJWVVjQAAAACQ42X6zFVycrIaNmyo3bt3q2XLlnr88cdlGIb27dun119/XUuXLtVPP/2U65fKBAAAAJA7ZTpcffDBBzp+/Lh27typsmXLOmzbv3+/GjVqpBkzZqhv376mFwkAAAAAOV2mw9WiRYs0fPjwdMFKksqVK6dXX31VCxcuJFwBJgkfusTS43u5G5pU+/pd4a26aeCRia0sOS4AAMCdyPQ1V3v37lWjRo1uur1x48bau3evGTUBAAAAgMvJdLhKSEhQwYIFb7q9YMGCOn/+vClFAQAAAICryXS4Sk1Nlbu7+8135OamlJQUU4oCAAAAAFeT6WuuDMNQ06ZNlSdPxt9y7do104oCAAAAAFeT6XA1cuTI2/Z54okn7qoYAAAAAHBVpoYrAAAAAMitMn3NFQAAAADg5ghXAAAAAGACwhUAAAAAmIBwBQAAAAAmIFwBAAAAgAkytVrgtGnTMr3Dfv363XExAAAAAOCqMhWu3n77bYfHZ86cUVJSkvz9/SVJCQkJ8vb2VmBgIOEKAAAAQK6UqWmBsbGx9q/XX39d1apV0759+xQfH6/4+Hjt27dPNWrU0NixY7O6XgAAAADIkZy+5mr48OGaPn26ypYta28rW7as3n77bb322mumFgcAAAAArsLpcHXy5Eldu3YtXXtKSori4uJMKQoAAAAAXI3T4app06bq1auXtm3bZm/bunWrevfurWbNmplaHAAAAAC4CqfD1ezZsxUcHKxatWrJy8tLXl5eql27toKCgjRr1qysqBEAAAAAcrxMrRaYxjAM/fPPP/r66691/Phx7du3T5JUrlw5lSlTJksKBAAAAABX4HS4KlWqlPbs2aPSpUurdOnSWVUXAAAAALgUp6YFurm5qXTp0jp37lxW1QMAAAAALsnpa64mTpyowYMHa/fu3VlRDwAAAAC4JKemBUpSly5dlJSUpKpVq8rT01P58uVz2B4fH29acQAAAADgKpwOV1OnTs2CMgAAAADAtTkdriIjI7OiDgAAAABwaU6HqxtdvnxZycnJDm2+vr53VRAAAAAAuCKnF7RITExUnz59FBgYKB8fHwUEBDh8AQAAAEBu5HS4GjJkiH788Ud98MEH8vLy0qxZszR69GgVKVJEn3zySVbUCAAAAAA5ntPTAr///nt98sknatSokaKiolS/fn2VKlVKYWFhmjdvnp599tmsqBMAAAAAcjSnz1zFx8crIiJC0vXrq9KWXn/ooYf0008/mVsdAAAAALgIp8NVRESEYmNjJUnlypXTl19+Ken6GS1/f39TiwMAAAAAV+F0uIqKitLOnTslSUOHDtV7772nvHnzauDAgRo8eLDpBQIAAACAK3D6mquBAwfa/92sWTPt379fW7duValSpVSlShVTiwMAAAAAV3FX97mSpLCwMIWFhZlRCwAAAAC4rEyFq2nTpmV6h/369bvjYgAAAADAVWUqXL399tsOj8+cOaOkpCT7AhYJCQny9vZWYGAg4QoAAABArpSpBS1iY2PtX6+//rqqVaumffv2KT4+XvHx8dq3b59q1KihsWPHZnW9AAAAAJAjOb1a4PDhwzV9+nSVLVvW3la2bFm9/fbbeu2110wtDgAAAABchdPh6uTJk7p27Vq69pSUFMXFxZlSFAAAAAC4GqfDVdOmTdWrVy9t27bN3rZ161b17t1bzZo1M7U4AAAAAHAVToer2bNnKzg4WLVq1ZKXl5e8vLxUu3ZtBQUFadasWVlRIwAAAADkeE7f56pw4cL64Ycf9Mcff2j//v2SpHLlyqlMmTKmFwcAAAAAruKObyJcpkwZAhUAAAAA/H9Oh6uUlBTNnTtXq1ev1unTp5Wamuqw/ccffzStOAAAAABwFU6Hq/79+2vu3Llq1aqVKlWqJJvNlhV1AQAAAIBLcTpczZ8/X19++aUeffTRrKgHAAAAAFyS06sFenp6qlSpUllRCwAAAAC4LKfD1UsvvaR33nlHhmFkRT0AAAAA4JKcnhb4888/a82aNVq6dKkqVqwoDw8Ph+2LFi0yrTgAAAAAcBVOhyt/f3+1a9cuK2oBAAAAAJfldLiaM2dOVtQBAAAAAC7N6WuuAAAAAADpOX3mSpIWLlyoL7/8UseOHVNycrLDtm3btplSGAAAAAC4EqfPXE2bNk1RUVEKCgrS9u3bVbt2bRUsWFCHDx9Wy5Yts6JGAAAAAMjxnA5X77//vmbOnKnp06fL09NTQ4YM0cqVK9WvXz+dP38+K2oEAAAAgBzP6XB17NgxPfjgg5KkfPny6eLFi5Kkzp0764svvjC3OgAAAABwEU6Hq+DgYMXHx0uSihcvrl9++UWSFBsby42FAQAAAORaToerJk2a6LvvvpMkRUVFaeDAgXr44YfVoUMH7n8FAAAAINdyerXAmTNnKjU1VZL04osvqmDBgtqwYYNat26tXr16mV4gAAAAALgCp8PV8ePHVaxYMfvjjh07qmPHjjIMQ3/++aeKFy9uaoEAAAAA4AqcnhZYokQJnTlzJl17fHy8SpQoYUpRAAAAAOBqnA5XhmHIZrOla7906ZLy5s1rSlEAAAAA4GoyPS0wOjpakmSz2TR8+HB5e3vbt6WkpGjTpk2qVq2a6QUCAAAAgCvIdLjavn27pOtnrn777Td5enrat3l6eqpq1aoaNGiQ+RUCAAAAgAvIdLhas2aNpOvLr7/zzjvy9fXNsqIAAAAAwNU4vVrgnDlzHB4fPXpUiYmJKleunNzcnL6ECwAAAADuCZlOQ7Nnz9aUKVMc2v7zn/8oIiJClStXVqVKlfTnn3+aXiAAAAAAuIJMh6uZM2cqICDA/njZsmWaM2eOPvnkE/3666/y9/fX6NGjs6RIAAAAAMjpMj0t8MCBA6pVq5b98bfffqs2bdro2WeflSSNHz9eUVFR5lcIAAAAAC4g02eu/vnnH4dFLDZs2KAGDRrYH0dEROjUqVPmVgcAAAAALiLT4SosLExbt26VJJ09e1Z79uxRvXr17NtPnTolPz8/8ysEAAAAABeQ6WmBkZGRevHFF7Vnzx79+OOPKleunGrWrGnfvmHDBlWqVClLigQAAACAnC7T4WrIkCFKSkrSokWLFBwcrK+++sph+/r169WpUyfTCwQAAAAAV5DpcOXm5qYxY8ZozJgxGW7/d9gCAAAAgNyEu/4CAAAAgAkIVwAAAABgAsIVAAAAAJiAcAUAAAAAJiBcAQAAAIAJMrVaYHR0dKZ3OGXKlDsuBgAAAABcVabOXG3fvt3h6+OPP9aHH36otWvXau3atZo5c6Y+/vhj7dixw+kC3nvvPYWHhytv3ryqU6eONm/efNO+e/bs0RNPPKHw8HDZbDZNnTr1rvcJAAAAAGbIVLhas2aN/evxxx9Xw4YNdfz4cW3btk3btm3Tn3/+qcaNG6tVq1ZOHXzBggWKjo7WyJEjtW3bNlWtWlUtWrTQ6dOnM+yflJSkiIgITZw4UcHBwabsEwAAAADM4PQ1V5MnT9aECRMUEBBgbwsICNC4ceM0efJkp/Y1ZcoU9ezZU1FRUapQoYJmzJghb29vzZ49O8P+999/v95880117NhRXl5epuwTAAAAAMzgdLi6cOGCzpw5k679zJkzunjxYqb3k5ycrK1bt6pZs2b/V4ybm5o1a6aNGzc6W1aW7RMAAAAAMiNTC1rcqF27doqKitLkyZNVu3ZtSdKmTZs0ePBgtW/fPtP7OXv2rFJSUhQUFOTQHhQUpP379ztb1l3t88qVK7py5Yr98YULFyRJV69e1dWrV++olrvl5W5Yclz78d0Mh/9awarXPqdgDDAGJGvHAWMgZ2AMMAZy+xiQGAeMAWvHgDPHthmG4dQrlZSUpEGDBmn27Nn2A+XJk0fdu3fXm2++KR8fn0zt58SJEwoNDdWGDRtUt25de/uQIUO0bt06bdq06ZbfHx4ergEDBmjAgAF3vc9Ro0Zp9OjR6do///xzeXt7Z+r5AAAAALj3JCUl6ZlnntH58+fl6+t7y75On7ny9vbW+++/rzfffFOHDh2SJJUsWTLToSpNoUKF5O7urri4OIf2uLi4my5WkVX7HDZsmMNy8xcuXFCxYsXUvHnz276AWaXSqOWWHDeNl5uhsbVSNXyLm66k2iypYfeoFpYcN6dgDDAGJGvHAWMgZ2AMMAZy+xiQGAeMAWvHQNqstsxwOlylOXnypE6ePKkGDRooX758MgxDNlvmX3BPT0/VrFlTq1evVtu2bSVJqampWr16tfr06XNHNd3pPr28vDJcIMPDw0MeHh53VMvdupJi3eC90ZVUm2W1WPXa5xSMAcaAlDPGAWPAWowBxkBuHwMS44AxYO0YcObYToerc+fO6emnn9aaNWtks9l04MABRUREqHv37goICHBqxcDo6GhFRkaqVq1aql27tqZOnarExERFRUVJkrp06aLQ0FBNmDBB0vUFK/bu3Wv/919//aUdO3Yof/78KlWqVKb2CQAAAABZwelwNXDgQHl4eOjYsWMqX768vb1Dhw6Kjo52Klx16NBBZ86c0YgRI3Tq1ClVq1ZNy5Ytsy9IcezYMbm5/d+ChidOnFD16tXtj9966y299dZbatiwodauXZupfQIAAABAVnA6XK1YsULLly9X0aJFHdpLly6to0ePOl1Anz59bjplLy0wpQkPD1dm1t+41T4BAAAAICs4fZ+rxMTEDFfQi4+Pv+mNfQEAAADgXud0uKpfv74++eQT+2ObzabU1FRNmjRJjRs3NrU4AAAAAHAVTk8LnDRpkpo2baotW7YoOTlZQ4YM0Z49exQfH6/169dnRY0AAAAAkOM5feaqUqVK+uOPP/TQQw+pTZs2SkxMVPv27bV9+3aVLFkyK2oEAAAAgBzvju5z5efnp1dffdXsWgAAAADAZTl95ioiIkJRUVG6cuWKQ/vZs2cVERFhWmEAAAAA4EqcDldHjhzR+vXrVb9+fZ06dcrenpKSckdLsQMAAADAvcDpcGWz2bRs2TIVLVpUNWvW1K+//poVdQEAAACAS3E6XBmGofz582vRokXq0qWLGjZsqM8++ywragMAAAAAl+H0ghY2m83+7wkTJqhixYrq2bOnOnXqZGphAAAAAOBKnA5XhmE4PH7uuedUsmRJtWvXzrSiAAAAAMDVOB2uUlNT07XVrVtXO3fu1P79+00pCgAAAABczR3d5yojQUFBCgoKMmt3AAAAAOBSMhWuatSoodWrVysgIEDVq1d3uO7q37Zt22ZacQAAAADgKjIVrtq0aSMvLy9JUtu2bbOyHgAAAABwSZkKVyNHjszw3wAAAACA65y+zxUAAAAAIL1MnbkKCAi45XVWN4qPj7+rggAAAADAFWUqXE2dOjWLywAAAAAA15apcBUZGZnVdQAAAACAS7ur+1xdvnxZycnJDm2+vr53VRAAAAAAuCKnF7RITExUnz59FBgYKB8fHwUEBDh8AQAAAEBu5HS4GjJkiH788Ud98MEH8vLy0qxZszR69GgVKVJEn3zySVbUCAAAAAA5ntPTAr///nt98sknatSokaKiolS/fn2VKlVKYWFhmjdvnp599tmsqBMAAAAAcjSnz1zFx8crIiJC0vXrq9KWXn/ooYf0008/mVsdAAAAALgIp8NVRESEYmNjJUnlypXTl19+Ken6GS1/f39TiwMAAAAAV+F0uIqKitLOnTslSUOHDtV7772nvHnzauDAgRo8eLDpBQIAAACAK3D6mquBAwfa/92sWTPt379fW7duValSpVSlShVTiwMAAAAAV3FX97mSpLCwMIWFhZlRCwAAAAC4LKfD1ZgxY265fcSIEXdcDAAAAAC4KqfD1TfffOPw+OrVq4qNjVWePHlUsmRJwhUAAACAXMnpcLV9+/Z0bRcuXFDXrl3Vrl07U4oCAAAAAFfj9GqBGfH19dXo0aM1fPhwM3YHAAAAAC7HlHAlSefPn9f58+fN2h0AAAAAuBSnpwVOmzbN4bFhGDp58qQ+/fRTtWzZ0rTCAAAAAMCVOB2u3n77bYfHbm5uKly4sCIjIzVs2DDTCgMAAAAAV+J0uIqNjc2KOgAAAADApZl2zRUAAAAA5GZOn7lKTEzUxIkTtXr1ap0+fVqpqakO2w8fPmxacQAAAADgKpwOVz169NC6devUuXNnhYSEyGazZUVdAAAAAOBSnA5XS5cu1ZIlS1SvXr2sqAcAAAAAXJLT11wFBATovvvuy4paAAAAAMBlOR2uxo4dqxEjRigpKSkr6gEAAAAAl+T0tMDJkyfr0KFDCgoKUnh4uDw8PBy2b9u2zbTiAAAAAMBVOB2u2rZtmwVlAAAAAIBrczpcjRw5MivqAAAAAACX5nS4SpOcnJzhfa6KFy9+10UBAAAAgKtxOlz98ccf6t69uzZs2ODQbhiGbDabUlJSTCsOAAAAAFyF0+EqKipKefLk0X//+19uIgwAAAAA/5/T4WrHjh3aunWrypUrlxX1AAAAAIBLcvo+VxUqVNDZs2ezohYAAAAAcFlOh6s33nhDQ4YM0dq1a3Xu3DlduHDB4QsAAAAAciOnpwU2a9ZMktS0aVOHdha0AAAAAJCbOR2u1qxZkxV1AAAAAIBLczpcNWzY8Kbbdu/efVfFAAAAAICrcvqaq3+7ePGiZs6cqdq1a6tq1apm1AQAAAAALueOw9VPP/2kyMhIhYSE6K233lKTJk30yy+/mFkbAAAAALgMp6YFnjp1SnPnztXHH3+sCxcu6Omnn9aVK1e0ePFiVahQIatqBAAAAIAcL9Nnrh5//HGVLVtWu3bt0tSpU3XixAlNnz49K2sDAAAAAJeR6TNXS5cuVb9+/dS7d2+VLl06K2sCAAAAAJeT6TNXP//8sy5evKiaNWuqTp06evfdd3X27NmsrA0AAAAAXEamw9UDDzygjz76SCdPnlSvXr00f/58FSlSRKmpqVq5cqUuXryYlXUCAAAAQI7m9GqBPj4+6tatm37++Wf99ttveumllzRx4kQFBgaqdevWWVEjAAAAAOR4d3Wfq7Jly2rSpEk6fvy4vvjiC7NqAgAAAACXc9c3EZYkd3d3tW3bVt99950ZuwMAAAAAl2NKuAIAAACA3I5wBQAAAAAmIFwBAAAAgAkIVwAAAABgAsIVAAAAAJiAcAUAAAAAJiBcAQAAAIAJCFcAAAAAYALCFQAAAACYgHAFAAAAACYgXAEAAACACQhXAAAAAGACwhUAAAAAmIBwBQAAAAAmIFwBAAAAgAkIVwAAAABgAsIVAAAAAJiAcAUAAAAAJiBcAQAAAIAJCFcAAAAAYALCFQAAAACYIEeEq/fee0/h4eHKmzev6tSpo82bN9+y/1dffaVy5copb968qly5sn744QeH7V27dpXNZnP4euSRR7LyKQAAAADI5SwPVwsWLFB0dLRGjhypbdu2qWrVqmrRooVOnz6dYf8NGzaoU6dO6t69u7Zv3662bduqbdu22r17t0O/Rx55RCdPnrR/ffHFF9nxdAAAAADkUpaHqylTpqhnz56KiopShQoVNGPGDHl7e2v27NkZ9n/nnXf0yCOPaPDgwSpfvrzGjh2rGjVq6N1333Xo5+XlpeDgYPtXQEBAdjwdAAAAALlUHisPnpycrK1bt2rYsGH2Njc3NzVr1kwbN27M8Hs2btyo6Ohoh7YWLVpo8eLFDm1r165VYGCgAgIC1KRJE40bN04FCxbMcJ9XrlzRlStX7I8vXLggSbp69aquXr16J0/trnm5G5Yc1358N8Phv1aw6rXPKRgDjAHJ2nHAGMgZGAOMgdw+BiTGAWPA2jHgzLFthmFY9kqdOHFCoaGh2rBhg+rWrWtvHzJkiNatW6dNmzal+x5PT0/FxMSoU6dO9rb3339fo0ePVlxcnCRp/vz58vb2VokSJXTo0CG98soryp8/vzZu3Ch3d/d0+xw1apRGjx6drv3zzz+Xt7e3GU8VAAAAgAtKSkrSM888o/Pnz8vX1/eWfS09c5VVOnbsaP935cqVVaVKFZUsWVJr165V06ZN0/UfNmyYw9mwCxcuqFixYmrevPltX8CsUmnUckuOm8bLzdDYWqkavsVNV1JtltSwe1QLS46bUzAGGAOSteOAMZAzMAYYA7l9DEiMA8aAtWMgbVZbZlgargoVKiR3d3f7Gac0cXFxCg4OzvB7goODneovSRERESpUqJAOHjyYYbjy8vKSl5dXunYPDw95eHhk5qmY7kqKdYP3RldSbZbVYtVrn1MwBhgDUs4YB4wBazEGGAO5fQxIjAPGgLVjwJljW7qghaenp2rWrKnVq1fb21JTU7V69WqHaYI3qlu3rkN/SVq5cuVN+0vS8ePHde7cOYWEhJhTOAAAAAD8i+WrBUZHR+ujjz5STEyM9u3bp969eysxMVFRUVGSpC5dujgseNG/f38tW7ZMkydP1v79+zVq1Cht2bJFffr0kSRdunRJgwcP1i+//KIjR45o9erVatOmjUqVKqUWLXL3KWUAAAAAWcfya646dOigM2fOaMSIETp16pSqVaumZcuWKSgoSJJ07Ngxubn9XwZ88MEH9fnnn+u1117TK6+8otKlS2vx4sWqVKmSJMnd3V27du1STEyMEhISVKRIETVv3lxjx47NcOofAAAAAJjB8nAlSX369LGfefq3tWvXpmt76qmn9NRTT2XYP1++fFq+3NqFAAAAAADkPpZPCwQAAACAewHhCgAAAABMQLgCAAAAABMQrgAAAADABIQrAAAAADAB4QoAAAAATEC4AgAAAAATEK4AAAAAwASEKwAAAAAwAeEKAAAAAExAuAIAAAAAExCuAAAAAMAEhCsAAAAAMAHhCgAAAABMQLgCAAAAABMQrgAAAADABIQrAAAAADAB4QoAAAAATEC4AgAAAAATEK4AAAAAwASEKwAAAAAwAeEKAAAAAExAuAIAAAAAExCuAAAAAMAEhCsAAAAAMAHhCgAAAABMQLgCAAAAABMQrgAAAADABIQrAAAAADAB4QoAAAAATEC4AgAAAAATEK4AAAAAwASEKwAAAAAwAeEKAAAAAExAuAIAAAAAExCuAAAAAMAEhCsAAAAAMAHhCgAAAABMQLgCAAAAABMQrgAAAADABIQrAAAAADAB4QoAAAAATEC4AgAAAAATEK4AAAAAwASEKwAAAAAwAeEKAAAAAExAuAIAAAAAExCuAAAAAMAEhCsAAAAAMAHhCgAAAABMQLgCAAAAABMQrgAAAADABIQrAAAAADAB4QoAAAAATEC4AgAAAAATEK4AAAAAwASEKwAAAAAwAeEKAAAAAExAuAIAAAAAExCuAAAAAMAEhCsAAAAAMAHhCgAAAABMQLgCAAAAABMQrgAAAADABIQrAAAAADAB4QoAAAAATEC4AgAAAAATEK4AAAAAwASEKwAAAAAwAeEKAAAAAExAuAIAAAAAExCuAAAAAMAEhCsAAAAAMAHhCgAAAABMQLgCAAAAABMQrgAAAADABIQrAAAAADAB4QoAAAAATEC4AgAAAAATEK4AAAAAwASEKwAAAAAwAeEKAAAAAExAuAIAAAAAExCuAAAAAMAEhCsAAAAAMEGOCFfvvfeewsPDlTdvXtWpU0ebN2++Zf+vvvpK5cqVU968eVW5cmX98MMPDtsNw9CIESMUEhKifPnyqVmzZjpw4EBWPgUAAAAAuZzl4WrBggWKjo7WyJEjtW3bNlWtWlUtWrTQ6dOnM+y/YcMGderUSd27d9f27dvVtm1btW3bVrt377b3mTRpkqZNm6YZM2Zo06ZN8vHxUYsWLXT58uXseloAAAAAchnLw9WUKVPUs2dPRUVFqUKFCpoxY4a8vb01e/bsDPu/8847euSRRzR48GCVL19eY8eOVY0aNfTuu+9Kun7WaurUqXrttdfUpk0bValSRZ988olOnDihxYsXZ+MzAwAAAJCb5LHy4MnJydq6dauGDRtmb3Nzc1OzZs20cePGDL9n48aNio6Odmhr0aKFPTjFxsbq1KlTatasmX27n5+f6tSpo40bN6pjx47p9nnlyhVduXLF/vj8+fOSpPj4eF29evWOn9/dyHMt0ZLj2o+faigpKVV5rropJdVmSQ3nzp2z5Lg5BWOAMSBZOw4YAzkDY4AxkNvHgMQ4YAxYOwYuXrwo6fpJnNuxNFydPXtWKSkpCgoKcmgPCgrS/v37M/yeU6dOZdj/1KlT9u1pbTfr828TJkzQ6NGj07WXKFEic0/kHvWMxccvNNniAsAYAGMAjAFYPgYkxoHVGAPXXbx4UX5+frfsY2m4yimGDRvmcDYsNTVV8fHxKliwoGw26xK6lS5cuKBixYrpzz//lK+vr9XlwAKMATAGwBgAYwCMgetnrC5evKgiRYrctq+l4apQoUJyd3dXXFycQ3tcXJyCg4Mz/J7g4OBb9k/7b1xcnEJCQhz6VKtWLcN9enl5ycvLy6HN39/fmadyz/L19c21v0i4jjEAxgAYA2AMILePgdudsUpj6YIWnp6eqlmzplavXm1vS01N1erVq1W3bt0Mv6du3boO/SVp5cqV9v4lSpRQcHCwQ58LFy5o06ZNN90nAAAAANwty6cFRkdHKzIyUrVq1VLt2rU1depUJSYmKioqSpLUpUsXhYaGasKECZKk/v37q2HDhpo8ebJatWql+fPna8uWLZo5c6YkyWazacCAARo3bpxKly6tEiVKaPjw4SpSpIjatm1r1dMEAAAAcI+zPFx16NBBZ86c0YgRI3Tq1ClVq1ZNy5Ytsy9IcezYMbm5/d8JtgcffFCff/65XnvtNb3yyisqXbq0Fi9erEqVKtn7DBkyRImJifrPf/6jhIQEPfTQQ1q2bJny5s2b7c/PVXl5eWnkyJHppksi92AMgDEAxgAYA2AMOMdmZGZNQQAAAADALVl+E2EAAAAAuBcQrgAAAADABIQrAAAAADAB4QoAAAAATEC4AgAAAAATEK4gSUpMTNTw4cP14IMPqlSpUoqIiHD4AgDc+65evapu3bopNjbW6lIAWGjbtm367bff7I+//fZbtW3bVq+88oqSk5MtrCznYyl2SJI6deqkdevWqXPnzgoJCZHNZnPY3r9/f4sqA5Ddrl27prVr1+rQoUN65plnVKBAAZ04cUK+vr7Knz+/1eUhi/n5+WnHjh0qUaKE1aXAQomJifLx8bG6DFjk/vvv19ChQ/XEE0/o8OHDqlixotq1a6dff/1VrVq10tSpU60uMcciXEGS5O/vryVLlqhevXpWlwKLHThwQGvWrNHp06eVmprqsG3EiBEWVYXscvToUT3yyCM6duyYrly5oj/++EMRERHq37+/rly5ohkzZlhdIrJYZGSkqlWrpoEDB1pdCiyUP39+Pf300+rWrZseeughq8tBNvPz89O2bdtUsmRJvfHGG/rxxx+1fPlyrV+/Xh07dtSff/5pdYk5Vh6rC0DOEBAQoPvuu8/qMmCxjz76SL1791ahQoUUHBzscAbTZrMRrnKB/v37q1atWtq5c6cKFixob2/Xrp169uxpYWXILqVLl9aYMWO0fv161axZM93Zi379+llUGbLTZ599prlz56pJkyYKDw9Xt27d1KVLFxUpUsTq0pANDMOwf8C6atUqPfbYY5KkYsWK6ezZs1aWluNx5gqSrr+Jfvvtt4qJiZG3t7fV5cAiYWFheuGFF/Tyyy9bXQosUrBgQW3YsEFly5ZVgQIFtHPnTkVEROjIkSOqUKGCkpKSrC4RWexW0wFtNpsOHz6cjdXAamfOnNGnn36quXPnat++fWrRooW6deum1q1bK08ePqO/VzVp0kTFihVTs2bN1L17d+3du1elSpXSunXrFBkZqSNHjlhdYo5FuMrFqlev7nBm4uDBgzIMQ+Hh4fLw8HDou23btuwuDxbw9fXVjh07WMQkFwsICND69etVoUIFh3D1888/64knnlBcXJzVJQKwyPTp0zV48GAlJyerUKFCev755zV06FA+lL0H7dq1S88++6yOHTum6OhojRw5UpLUt29fnTt3Tp9//rnFFeZchKtcbPTo0Znum/ZLhXtb9+7ddf/99+v555+3uhRYpEOHDvLz89PMmTNVoEAB7dq1S4ULF1abNm1UvHhxzZkzx+oSkU2Sk5MVGxurkiVLcoYiF4uLi1NMTIzmzp2ro0ePql27durevbuOHz+uN954Q0WKFNGKFSusLhPZ5PLly3J3d0/3ITz+D+EKyOWmTZtm/3diYqKmTJmiVq1aqXLlyunePLnW4t53/PhxtWjRQoZh6MCBA6pVq5YOHDigQoUK6aefflJgYKDVJSKLJSUlqW/fvoqJiZEk+6Imffv2VWhoqIYOHWpxhcgOixYt0pw5c7R8+XJVqFBBPXr00HPPPSd/f397n0OHDql8+fIszX0PS05OznCBq+LFi1tUUc5HuIIk6ddff1Vqaqrq1Knj0L5p0ya5u7urVq1aFlWGrJbZ5Za51iL3uHbtmhYsWKCdO3fq0qVLqlGjhp599lnly5fP6tKQDfr376/169dr6tSpeuSRR7Rr1y5FRETo22+/1ahRo7R9+3arS0Q28PPzU8eOHdWjRw/df//9Gfb5559/NGnSJGa33IP++OMPde/eXRs2bHBoNwxDNptNKSkpFlWW8xGuIEmqXbu2hgwZoieffNKhfdGiRXrjjTe0adMmiyoDAGSnsLAwLViwQA888IDDdXcHDx5UjRo1dOHCBatLRDZISkriWqpcrF69esqTJ4+GDh2a4f1Pq1atalFlOR+TqCFJ2rt3r2rUqJGuvXr16tq7d68FFcEKY8aM0aBBg9L9D/Wff/7Rm2++yVLsucCECRMUFBSkbt26ObTPnj1bZ86cYSXJXODMmTMZTv9MTExM9wcW7l3Xrl3LMEjbbDZ5eXnJ09PTgqqQXXbs2KGtW7eqXLlyVpfictysLgA5g5eXV4argJ08eZILmXOR0aNH69KlS+nak5KSnFoABa7rww8/zPB/phUrVuQGwrlErVq1tGTJEvvjtEA1a9Ys1a1b16qykM38/f0VEBCQ7svf31/58uVTWFiYRo4cme5aHNwbKlSowP2s7hB/NUOS1Lx5cw0bNkzffvut/Pz8JEkJCQl65ZVX9PDDD1tcHbJL2lzqf9u5cyc3mc4lTp06pZCQkHTthQsX1smTJy2oCNlt/Pjxatmypfbu3atr167pnXfe0d69e7VhwwatW7fO6vKQTebOnatXX31VXbt2Ve3atSVJmzdvVkxMjF577TWdOXNGb731lry8vPTKK69YXC3M9sYbb2jIkCEaP358hgtc+fr6WlRZzke4giTprbfeUoMGDRQWFqbq1atLun5KOCgoSJ9++qnF1SGrBQQEyGazyWazqUyZMg4BKyUlRZcuXWJ59lyiWLFiWr9+fbqFTtavX68iRYpYVBWy00MPPaQdO3Zo4sSJqly5slasWKEaNWpo48aNqly5stXlIZvExMRo8uTJevrpp+1tjz/+uCpXrqwPP/xQq1evVvHixfX6668Tru5BzZo1kyQ1bdrUoZ0FLW6PBS1gl5iYqHnz5mnnzp3Kly+fqlSpok6dOnEvg1wgJiZGhmGoW7dumjp1qv3spSR5enoqPDyc6UC5xKRJkzRp0iS9+eabatKkiSRp9erVGjJkiF566SUNGzbM4goBZId8+fJp165dKl26tEP7gQMHVLVqVSUlJSk2NlYVK1ZUUlKSRVUiq9zuLHXDhg2zqRLXQ7gCYLdu3To9+OCDBOpczDAMDR06VNOmTbPfuyZv3rx6+eWXWdAklzl9+nSG97epUqWKRRUhO5UpU0bt27fXxIkTHdqHDh2qb775Rr///ru2bNmiNm3a6K+//rKoSiDnIVzB7tNPP9WHH36ow4cPa+PGjQoLC9Pbb7+tiIgItWnTxurykEWcWVaZOda5x6VLl7Rv3z7ly5dPpUuXlpeXl9UlIZts3bpVkZGR2rdvn/79JwLTgXKP7777Tk899ZTKlStnv8/Vli1btH//fi1cuFCPPfaYPvjgAx04cEBTpkyxuFpkhYSEBH388cfat2+fpOsLG3Xr1s1hdgvSI1xBkvTBBx9oxIgRGjBggMaNG6c9e/YoIiJCc+fOVUxMjNasWWN1icgibm5ut11emTnWQO5RtWpVlSxZUi+//LKCgoLSvT+EhYVZVBmy25EjR/Thhx/q999/lySVLVtWvXr1Unh4uLWFIctt2bJFLVq0UL58+ewLmvz666/6559/7NdhImOEK0i6vuTm+PHj1bZtW4ebRu7evVuNGjViOc57mDOrfzHH+t6XmJioiRMnavXq1RlOCTt8+LBFlSG7FChQQNu3b1epUqWsLgUWuXr1qh555BHNmDEj3TVXyB3q16+vUqVK6aOPPrLfkufatWvq0aOHDh8+rJ9++sniCnMuVguEJCk2Nta+SuCNvLy8lJiYaEFFyC4EJtyoR48eWrdunTp37qyQkBBuGpsLNW3aVDt37iRc5WIeHh7atWuX1WXAQlu2bHEIVpKUJ08eDRkyRLVq1bKwspyPcAVJUokSJbRjx4500z2WLVum8uXLW1QVrJKUlKRjx47ZFzRIw4Xs976lS5dqyZIlqlevntWlwCKzZs1SZGSkdu/erUqVKqVb4KZ169YWVYbs9Nxzz+njjz9Ot6AFcgdfX18dO3Ys3U3l//zzTxUoUMCiqlwD4SqXGzNmjAYNGqTo6Gi9+OKLunz5sgzD0ObNm/XFF19owoQJmjVrltVlIpucOXNGUVFRWrp0aYbbuebq3hcQEMANo3O5jRs3av369Rm+D3DtZe5x7do1zZ49W6tWrVLNmjXl4+PjsJ1FLO5tHTp0UPfu3fXWW2/pwQcflHT9foeDBw9Wp06dLK4uZ+Oaq1zO3d1dJ0+eVGBgoObNm6dRo0bp0KFDkqQiRYpo9OjR6t69u8VVIrs8++yzOnr0qKZOnapGjRrpm2++UVxcnMaNG6fJkyerVatWVpeILPbZZ5/p22+/VUxMjLy9va0uBxYIDw/XY489puHDhysoKMjqcmCRxo0b33SbzWbTjz/+mI3VILslJydr8ODBmjFjhq5duybp+nTR3r17a+LEiawgewuEq1zOzc1Np06dUmBgoL0tKSlJly5dcmhD7hASEqJvv/1WtWvXlq+vr7Zs2aIyZcrou+++06RJk/Tzzz9bXSKyWPXq1XXo0CEZhqHw8PB0U8K2bdtmUWXILgUKFNCOHTtUsmRJq0sBYLGkpCT7h+4lS5bkQ7dMYFog0l2w7u3tzS9PLpWYmGgP1QEBATpz5ozKlCmjypUr80d1LtG2bVurS4DF2rdvrzVr1hCuIEk6ePCgDh06pAYNGihfvnz2W3Mgd/D29pa/v7/937g9whVUpkyZ275RxsfHZ1M1sFLZsmX1+++/Kzw8XFWrVtWHH36o8PBwzZgxQyEhIVaXh2wwcuRIq0uAxcqUKaNhw4bp559/VuXKldOdvezXr59FlSE7nTt3Tk8//bTWrFkjm82mAwcOKCIiQt27d1dAQIAmT55sdYnIQteuXdPo0aM1bdo0Xbp0SZKUP39+9e3bVyNHjkz3voD/w7TAXM7NzU1Tp0697d22IyMjs6kiWOmzzz7TtWvX1LVrV23dulWPPPKI4uPj5enpqblz56pDhw5Wlwggi5UoUeKm22w2G/c6yyW6dOmi06dPa9asWSpfvrz9/pfLly9XdHS09uzZY3WJyEK9e/fWokWLNGbMGNWtW1fS9cVuRo0apbZt2+qDDz6wuMKci3CVy2V0zRWQJikpSfv371fx4sVVqFAhq8tBNkhJSdHbb7+tL7/8MsPl+DmLDeQOwcHBWr58uapWraoCBQrYw9Xhw4dVpUoV+9kM3Jv8/Pw0f/58tWzZ0qH9hx9+UKdOnXT+/HmLKsv53KwuANZi3jQykpycrN9//12enp6qUaMGwSoXGT16tKZMmaIOHTro/Pnzio6OVvv27eXm5qZRo0ZZXR6AbJKYmJjhNTbx8fGsFJcLeHl5KTw8PF17iRIl5Onpmf0FuRDOXOVynLnCjZKSktS3b1/FxMRIkv744w9FRESob9++Cg0N1dChQy2uEFmtZMmSmjZtmlq1auWwaty0adP0yy+/6PPPP7e6RGSxbt263XL77Nmzs6kSWOnRRx9VzZo1NXbsWBUoUEC7du1SWFiYOnbsqNTUVC1cuNDqEpGFxowZo/3792vOnDn2MH3lyhV1795dpUuX5vrcW2BBi1wuNTXV6hKQgwwbNkw7d+7U2rVr9cgjj9jbmzVrplGjRhGucoFTp06pcuXKkq5fvJw29SPtvke49/39998Oj69evardu3crISFBTZo0sagqZLdJkyapadOm2rJli5KTkzVkyBDt2bNH8fHxWr9+vdXlIYtt375dq1evVtGiRVW1alVJ0s6dO5WcnKymTZuqffv29r6LFi2yqswciXAFwG7x4sVasGCBHnjgAYcpoxUrVrTf5wL3tqJFi+rkyZMqXry4SpYsqRUrVqhGjRr69ddfmQqUS3zzzTfp2lJTU9W7d2+WZ89FKlWqpD/++EPvvvuuChQooEuXLql9+/Z68cUXWT02F/D399cTTzzh0FasWDGLqnEtTAsEYOft7a3du3crIiLC4QLmnTt3qkGDBlzAmgsMHTpUvr6+euWVV7RgwQI999xzCg8P17FjxzRw4EBNnDjR6hJhkd9//12NGjXSyZMnrS4FAHIszlwBsKtVq5aWLFmivn37Svq/BU9mzZplX4oV97Ybw1OHDh1UvHhxbdy4UaVLl9bjjz9uYWWw2qFDh3Tt2jWry0A2SkhI0ObNm3X69Ol0lxF06dLFoqqAnI1wBcBu/Pjxatmypfbu3atr167pnXfe0d69e7VhwwatW7fO6vJggbp16xKsc5no6GiHx4Zh6OTJk1qyZAn3PMxFvv/+ez377LO6dOmSfH19HaaK22w2wlUusHDhwpvelmPbtm0WVZXzMS0QgINDhw5p4sSJ2rlzpy5duqQaNWro5Zdfti9ygHvfgQMHtGbNmgw/rR4xYoRFVSG7NG7c2OGxm5ubChcurCZNmqhbt27Kk4fPZXODMmXK6NFHH9X48eMzXJId97Zp06bp1VdfVdeuXTVz5kxFRUXp0KFD+vXXX/Xiiy/q9ddft7rEHItwBUAXLlzIVD9fX98srgRW++ijj9S7d28VKlRIwcHB6T6t5tNKIHfw8fHRb7/9poiICKtLgQXKlSunkSNHqlOnTg7XYI8YMULx8fF69913rS4xxyJcAZCbm9stbyhtGIZsNptSUlKysSpYISwsTC+88IJefvllq0uBRf755x8ZhmE/W3H06FF98803qlChgpo3b25xdcgu7du3V8eOHfX0009bXQos4O3trX379iksLEyBgYFauXKlqlatqgMHDuiBBx7QuXPnrC4xx+LcPgCtWbPG/m/DMPToo49q1qxZCg0NtbAqWOHvv//WU089ZXUZsFCbNm3Uvn17Pf/880pISFDt2rXl6emps2fPasqUKerdu7fVJSIbtGrVSoMHD9bevXtVuXJleXh4OGxv3bq1RZUhOwQHBys+Pl5hYWEqXry4fvnlF1WtWlWxsbHivMytceYKQDo3TgFA7tK9e3fdf//9ev75560uBRYpVKiQ1q1bp4oVK2rWrFmaPn26tm/frq+//lojRozQvn37rC4R2cDNze2m25jJcO/r0aOHihUrppEjR+q9997T4MGDVa9ePW3ZskXt27fXxx9/bHWJORZnrgAAdqVKldLw4cP1yy+/ZPhpdb9+/SyqDNklKSlJBQoUkCStWLFC7du3l5ubmx544AEdPXrU4uqQXf69mA1yl5kzZ9rHwIsvvqiCBQtqw4YNat26tXr16mVxdTkbZ64ApMOZq9yrRIkSN91ms9l0+PDhbKwGVqhSpYp69Oihdu3aqVKlSlq2bJnq1q2rrVu3qlWrVjp16pTVJSILPfroo/riiy/k5+cn6fq9755//nn5+/tLks6dO6f69etr7969FlYJ5FyEKwDpFChQQLt27brlH9oA7k0LFy7UM888o5SUFDVt2lQrVqyQJE2YMEE//fSTli5danGFyEru7u46efKkAgMDJV1fJXbHjh32D9vi4uJUpEgRpgXmAv/73//04Ycf6tChQ1q4cKFCQ0P16aefqkSJEnrooYesLi/HYlogALVv397h8eXLl/X888/Lx8fHoX3RokXZWRYACzz55JN66KGHdPLkSVWtWtXe3rRpU7Vr187CypAd/v2ZO5/B505ff/21OnfurGeffVbbt2/XlStXJEnnz5/X+PHj9cMPP1hcYc5FuAJgn/6R5rnnnrOoElghOjpaY8eOlY+Pj6Kjo2/Zd8qUKdlUFawUHBys4OBgh7batWtbVA2A7DZu3DjNmDFDXbp00fz58+3t9erV07hx4yysLOcjXAHQnDlzrC4BFtq+fbv279+v6tWra/v27Tftd6t7oeHekZiYqIkTJ2r16tU6ffp0uoUNuO7u3maz2dL9rvO7n/v8/vvvatCgQbp2Pz8/JSQkZH9BLoRwBQC53Jo1a+zXWaTd86xDhw6aNm2agoKCLK4O2a1Hjx5at26dOnfurJCQEP6wzmUMw1DXrl3l5eUlKf008bTpYbi3BQcH6+DBgwoPD3do//nnn1ns6jYIVwCAdNdVLF26VImJiRZVAystXbpUS5YsUb169awuBRaIjIx0eJzRNPEuXbpkVzmwSM+ePdW/f3/Nnj1bNptNJ06c0MaNGzVo0CANHz7c6vJyNMIVACAdLmLPvQICAnTfffdZXQYswjTx3C02NlYlSpTQ0KFDlZqaqqZNmyopKUkNGjSQl5eXBg0apL59+1pdZo5GuAIAcJ0F7MaOHasRI0YoJiZG3t7eVpcDIBuVLFlSYWFhaty4sRo3bqx9+/bp4sWLunTpkipUqKD8+fNbXWKOx32uAAByc3NTy5Yt7ddZfP/992rSpAnL8edC1atX16FDh2QYhsLDw+Xh4eGwfdu2bRZVBiCrrV271v61adMmJScnKyIiQk2aNFGTJk3UqFEjrsW9Dc5cAQAydZ0Fcoe2bdtaXQIAizRq1EiNGjWSdH0xkw0bNtjDVkxMjK5evapy5cppz5491haag3HmCgAAAECGkpOTtX79ei1dulQffvihLl26pJSUFKvLyrEIVwAAIJ2tW7dq3759kqSKFSuqevXqFlcEIDskJyfrl19+0Zo1a+zTA4sVK6YGDRqoQYMGatiwoYoXL251mTkW4QoAANidPn1aHTt21Nq1a+Xv7y9JSkhIUOPGjTV//nwVLlzY2gIBZJkmTZpo06ZNKlGihBo2bKj69eurYcOGCgkJsbo0l+FmdQEAACDn6Nu3ry5evKg9e/YoPj5e8fHx2r17ty5cuKB+/fpZXR6ALPS///1PBQsWVJMmTdS0aVM9/PDDBCsnceYKAADY+fn5adWqVbr//vsd2jdv3qzmzZsrISHBmsIAZLnExET973//09q1a7VmzRrt2LFDZcqUUcOGDdWoUSM1bNiQs9e3QbgCAAB2BQoU0P/+9z9Vq1bNoX379u1q2LChLly4YE1hALLdxYsX9fPPP9uvv9q5c6dKly6t3bt3W11ajsW0QAAAYNekSRP1799fJ06csLf99ddfGjhwoJo2bWphZQCym4+Pj+677z7dd999CggIUJ48eewL3SBjnLkCAAB2f/75p1q3bq09e/aoWLFi9rZKlSrpu+++U9GiRS2uEEBWSU1N1ZYtW+zTAtevX6/ExESFhoaqcePG9q+wsDCrS82xCFcAAMCBYRhatWqV9u/fL0kqX768mjVrZnFVALKar6+vEhMTFRwcbA9SjRo1UsmSJa0uzWUQrgAAgH788Uf16dNHv/zyi3x9fR22nT9/Xg8++KBmzJih+vXrW1QhgKz24YcfqnHjxipTpozVpbgswhUAAFDr1q3VuHFjDRw4MMPt06ZN05o1a/TNN99kc2UA4DpY0AIAAGjnzp165JFHbrq9efPm2rp1azZWBACuh3AFAAAUFxcnDw+Pm27PkyePzpw5k40VAYDrIVwBAACFhobe8t41u3btUkhISDZWBACuh3AFAAD06KOPavjw4bp8+XK6bf/8849Gjhypxx57zILKAMB1sKAFAABQXFycatSoIXd3d/Xp00dly5aVJO3fv1/vvfeeUlJStG3bNgUFBVlcKQDkXIQrAAAgSTp69Kh69+6t5cuXK+3PA5vNphYtWui9995TiRIlLK4QAHI2whUAAHDw999/6+DBgzIMQ6VLl1ZAQIDVJQGASyBcAQAAAIAJWNACAAAAAExAuAIAAAAAExCuAAAAAMAEhCsAQK5js9m0ePFiq8sAANxjCFcAAJfStWtXtW3b1uoy7NauXSubzaaEhASrSwEAWIxwBQBANkhOTra6BABAFiNcAQBcVqNGjdSvXz8NGTJE9913n4KDgzVq1CiHPgcOHFCDBg2UN29eVahQQStXrnTYntGZpx07dshms+nIkSOSrt9c9/HHH1dAQIB8fHxUsWJF/fDDDzpy5IgaN24sSQoICJDNZlPXrl3ttfXp00cDBgxQoUKF1KJFC3Xr1k2PPfaYw/GvXr2qwMBAffzxx6a+NgCA7JfH6gIAALgbMTExio6O1qZNm7Rx40Z17dpV9erV08MPP6zU1FS1b99eQUFB2rRpk86fP68BAwY4fYwXX3xRycnJ+umnn+Tj46O9e/cqf/78KlasmL7++ms98cQT+v333+Xr66t8+fI51Na7d2+tX79eknTu3Dk1aNBAJ0+eVEhIiCTpv//9r5KSktShQwdTXg8AgHUIVwAAl1alShWNHDlSklS6dGm9++67Wr16tR5++GGtWrVK+/fv1/Lly1WkSBFJ0vjx49WyZUunjnHs2DE98cQTqly5siQpIiLCvu2+++6TJAUGBsrf39/h+0qXLq1JkyY5tJUtW1affvqphgwZIkmaM2eOnnrqKeXPn9+pmgAAOQ/TAgEALq1KlSoOj0NCQnT69GlJ0r59+1SsWDF7sJKkunXrOn2Mfv36ady4capXr55GjhypXbt2Zer7atasma6tR48emjNnjiQpLi5OS5cuVbdu3ZyuCQCQ8xCuAAAuzcPDw+GxzWZTampqpr/fze36/woNw7C3Xb161aFPjx49dPjwYXXu3Fm//fabatWqpenTp9923z4+PunaunTposOHD2vjxo367LPPVKJECdWvXz/T9QIAci7CFQDgnlW+fHn9+eefOnnypL3tl19+cehTuHBhSXLos2PHjnT7KlasmJ5//nktWrRIL730kj766CNJkqenpyQpJSUlUzUVLFhQbdu21Zw5czR37lxFRUU59ZwAADkX4QoAcM9q1qyZypQpo8jISO3cuVP/+9//9Oqrrzr0KVWqlIoVK6ZRo0bpwIEDWrJkiSZPnuzQZ8CAAVq+fLliY2O1bds2rVmzRuXLl5ckhYWFyWaz6b///a/OnDmjS5cu3bauHj16KCYmRvv27VNkZKR5TxgAYCnCFQDgnuXm5qZvvvlG//zzj2rXrq0ePXro9ddfd+jj4eGhL774Qvv371eVKlX0xhtvaNy4cQ59UlJS9OKLL6p8+fJ65JFHVKZMGb3//vuSpNDQUI0ePVpDhw5VUFCQ+vTpc9u6mjVrppCQELVo0cLhejAAgGuzGTdOMgcAAFnu0qVLCg0N1Zw5c9S+fXurywEAmISl2AEAyCapqak6e/asJk+eLH9/f7Vu3drqkgAAJiJcAQCQTY4dO6YSJUqoaNGimjt3rvLk4X/DAHAvYVogAAAAAJiABS0AAAAAwASEKwAAAAAwAeEKAAAAAExAuAIAAAAAExCuAAAAAMAEhCsAAAAAMAHhCgAAAABMQLgCAAAAABMQrgAAAADABP8PNaBiIyA1hfgAAAAASUVORK5CYII=",
      "text/plain": [
       "<Figure size 1000x600 with 1 Axes>"
      ]
     },
     "metadata": {},
     "output_type": "display_data"
    }
   ],
   "source": [
    "# Calculate the annualized standard deviation (252 trading days)\n",
    "annualized_std = daily_std_dev * np.sqrt(252)\n",
    "\n",
    "# Plot the Annualized standard deviation\n",
    "annualized_std.plot.bar(figsize=(10, 6))  # Adjust figsize as needed\n",
    "plt.title('Annualized Standard Deviation of Each Industry')\n",
    "plt.xlabel('Industry')\n",
    "plt.ylabel('Annualized Standard Deviation')\n",
    "plt.grid(True)\n",
    "plt.legend()\n",
    "plt.show()"
   ]
  },
  {
   "cell_type": "markdown",
   "id": "77fb2009",
   "metadata": {},
   "source": [
    "# Sharpe Ratios "
   ]
  },
  {
   "cell_type": "code",
<<<<<<< HEAD
   "execution_count": 127,
=======
   "execution_count": 52,
>>>>>>> ea7a963a2c7f22a9d6396b5e0fa4bb5a99e02dee
   "id": "d75dcbe1",
   "metadata": {},
   "outputs": [
    {
     "data": {
      "image/png": "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",
      "text/plain": [
       "<Figure size 1000x600 with 1 Axes>"
      ]
     },
     "metadata": {},
     "output_type": "display_data"
    }
   ],
   "source": [
    "# Annualized Sharpe Ratios \n",
    "sharpe_ratios = (returns_df.mean() * 252) / (returns_df.std() * np.sqrt(252))\n",
    "sharpe_ratios \n",
    "\n",
    "# Visualize the sharpe ratios as a bar plot\n",
    "sharpe_ratios.plot(kind='bar', color='skyblue', figsize=(10, 6))\n",
    "\n",
    "# Customizing the plot\n",
    "plt.title('Sharpe Ratios of Each Industry (Nov 2020 to Oct 2021)')\n",
    "plt.xlabel('Industry')\n",
    "plt.ylabel('Sharpe Ratio')\n",
    "plt.xticks(rotation=45)  # Rotate x-axis labels for better readability\n",
    "plt.grid(axis='y', linestyle='--', alpha=0.7)  # Adding grid lines\n",
    "\n",
    "# Adding data labels\n",
    "for i, val in enumerate(sharpe_ratios.values):\n",
    "    plt.text(i, val, round(val, 2), ha='center', va='bottom')\n",
    "\n",
    "# Adding horizontal line at Sharpe ratio of 0 for reference\n",
    "plt.axhline(y=0, color='gray', linestyle='--', linewidth=0.5)\n",
    "\n",
    "# Show plot\n",
    "plt.tight_layout()  # Adjust layout to prevent clipping of labels\n",
    "plt.show()"
   ]
  },
  {
   "cell_type": "code",
   "execution_count": null,
   "id": "9084086e-8c64-4ac1-88bd-0a089b317671",
   "metadata": {},
   "outputs": [],
   "source": []
  }
 ],
 "metadata": {
  "kernelspec": {
   "display_name": "Python 3 (ipykernel)",
   "language": "python",
   "name": "python3"
  },
  "language_info": {
   "codemirror_mode": {
    "name": "ipython",
    "version": 3
   },
   "file_extension": ".py",
   "mimetype": "text/x-python",
   "name": "python",
   "nbconvert_exporter": "python",
   "pygments_lexer": "ipython3",
   "version": "3.11.7"
  }
 },
 "nbformat": 4,
 "nbformat_minor": 5
}
