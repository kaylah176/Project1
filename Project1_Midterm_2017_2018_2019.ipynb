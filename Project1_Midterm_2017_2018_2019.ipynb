{
 "cells": [
  {
   "cell_type": "markdown",
   "id": "d694eeb0",
   "metadata": {},
   "source": [
    "# Create Custom Portfolio: 12 months Before \n",
    "## Time Period: November 2017 to October 2018\n",
    "In this section, we chose three stocks from the top six invested in industries, calculate the returns, and compare the results to determine which industry performed best\n",
    "\n",
    "1. Choose 3 stocks with at last 1 year's worth of historic prices and create a DataFrame of the closing prices and dates for each stock.\n",
    "2. Calculate the weighted returns for the portfolio assuming an equal number of shares for each stock\n",
    "3. Join your portfolio returns to the DataFrame that contains all of the portfolio returns\n",
    "4. Re-run the performance and risk analysis with your portfolio to see how it compares to the others\n",
    "5. Include correlation analysis to determine which stocks (if any) are correlated"
   ]
  },
  {
   "cell_type": "markdown",
   "id": "c6085b36",
   "metadata": {},
   "source": [
    "## Choose 3-5 custom stocks with at last 1 year's worth of historic prices and create a DataFrame of the closing prices and dates for each stock."
   ]
  },
  {
   "cell_type": "code",
   "execution_count": 21,
   "id": "6a008aa5",
   "metadata": {},
   "outputs": [],
   "source": [
    "import yfinance as yf\n",
    "\n",
    "# Initial imports\n",
    "import pandas as pd\n",
    "import numpy as np\n",
    "import datetime as dt\n",
    "from pathlib import Path\n",
    "import matplotlib.pyplot as plt"
   ]
  },
  {
   "cell_type": "markdown",
   "id": "841014a0",
   "metadata": {},
   "source": [
    "## Technology Sector\n",
    "These are the three stocks we chose within the Technology Industry"
   ]
  },
  {
   "cell_type": "code",
   "execution_count": 22,
   "id": "7b32099f",
   "metadata": {},
   "outputs": [
    {
     "name": "stderr",
     "output_type": "stream",
     "text": [
      "[*********************100%%**********************]  1 of 1 completed\n"
     ]
    }
   ],
   "source": [
    "# Define the stock ticker and date range: Apple Inc. \n",
    "AAPL_stock = 'AAPL'\n",
    "start_date = '2017-11-01'  # example start date\n",
    "end_date = '2018-10-31'    # example end date\n",
    "\n",
    "# Download the stock data\n",
    "data_AAPL = yf.download(AAPL_stock, start=start_date, end=end_date)"
   ]
  },
  {
   "cell_type": "code",
   "execution_count": 23,
   "id": "2eeb51ad",
   "metadata": {},
   "outputs": [
    {
     "name": "stderr",
     "output_type": "stream",
     "text": [
      "[*********************100%%**********************]  1 of 1 completed\n"
     ]
    }
   ],
   "source": [
    "# Define the stock ticker and date range: Microsoft \n",
    "MSFT_stock = 'MSFT'\n",
    "start_date = '2017-11-01'  # example start date\n",
    "end_date = '2018-10-31'    # example end date\n",
    "\n",
    "# Download the stock data\n",
    "data_MSFT = yf.download(MSFT_stock, start=start_date, end=end_date)"
   ]
  },
  {
   "cell_type": "code",
   "execution_count": 24,
   "id": "29505cc9",
   "metadata": {},
   "outputs": [
    {
     "name": "stderr",
     "output_type": "stream",
     "text": [
      "[*********************100%%**********************]  1 of 1 completed\n"
     ]
    }
   ],
   "source": [
    "# Define the stock ticker and date range: Google \n",
    "GOOG_stock = 'GOOG'\n",
    "start_date = '2017-11-01'  # example start date\n",
    "end_date = '2018-10-31'    # example end date\n",
    "\n",
    "# Download the stock data\n",
    "data_GOOG = yf.download(GOOG_stock, start=start_date, end=end_date)"
   ]
  },
  {
   "cell_type": "markdown",
   "id": "d130962b",
   "metadata": {},
   "source": [
    "## Healthcare Sector \n",
    "These are the three stocks we chose in the Healthcare Industry"
   ]
  },
  {
   "cell_type": "code",
   "execution_count": 25,
   "id": "e03ed623",
   "metadata": {},
   "outputs": [
    {
     "name": "stderr",
     "output_type": "stream",
     "text": [
      "[*********************100%%**********************]  1 of 1 completed\n"
     ]
    }
   ],
   "source": [
    "# Define the stock ticker and date range: Johnson and Johnson \n",
    "JNJ_stock = 'JNJ'\n",
    "start_date = '2017-11-01'  # example start date\n",
    "end_date = '2018-10-31'    # example end date\n",
    "\n",
    "# Download the stock data\n",
    "data_JNJ = yf.download(JNJ_stock, start=start_date, end=end_date)"
   ]
  },
  {
   "cell_type": "code",
   "execution_count": 26,
   "id": "aa561407",
   "metadata": {},
   "outputs": [
    {
     "name": "stderr",
     "output_type": "stream",
     "text": [
      "[*********************100%%**********************]  1 of 1 completed\n"
     ]
    }
   ],
   "source": [
    "# Define the stock ticker and date range: Pfizer Inc\n",
    "PFE_stock = 'PFE'\n",
    "start_date = '2017-11-01'  # example start date\n",
    "end_date = '2018-10-31'    # example end date\n",
    "\n",
    "# Download the stock data\n",
    "data_PFE = yf.download(PFE_stock, start=start_date, end=end_date)"
   ]
  },
  {
   "cell_type": "code",
   "execution_count": 27,
   "id": "30dc468e",
   "metadata": {},
   "outputs": [
    {
     "name": "stderr",
     "output_type": "stream",
     "text": [
      "[*********************100%%**********************]  1 of 1 completed\n"
     ]
    }
   ],
   "source": [
    "# Define the stock ticker and date range: United Health Group\n",
    "UNH_stock = 'UNH'\n",
    "start_date = '2017-11-01'  # example start date\n",
    "end_date = '2018-10-31'    # example end date\n",
    "\n",
    "# Download the stock data\n",
    "data_UNH = yf.download(UNH_stock, start=start_date, end=end_date)"
   ]
  },
  {
   "cell_type": "markdown",
   "id": "f8b69275",
   "metadata": {},
   "source": [
    "## Financials Sector \n",
    "These are the three stocks we chose in the Healthcare Industry"
   ]
  },
  {
   "cell_type": "code",
   "execution_count": 28,
   "id": "ef9694ae",
   "metadata": {},
   "outputs": [
    {
     "name": "stderr",
     "output_type": "stream",
     "text": [
      "[*********************100%%**********************]  1 of 1 completed\n"
     ]
    }
   ],
   "source": [
    "# Define the stock ticker and date range: JPMorgan Chase and Co. \n",
    "JPM_stock = 'JPM'\n",
    "start_date = '2017-11-01'  # example start date\n",
    "end_date = '2018-10-31'    # example end date\n",
    "\n",
    "# Download the stock data\n",
    "data_JPM = yf.download(JPM_stock, start=start_date, end=end_date)"
   ]
  },
  {
   "cell_type": "code",
   "execution_count": 29,
   "id": "0b2987e0",
   "metadata": {},
   "outputs": [
    {
     "name": "stderr",
     "output_type": "stream",
     "text": [
      "[*********************100%%**********************]  1 of 1 completed\n"
     ]
    }
   ],
   "source": [
    "# Define the stock ticker and date range: Bank of America \n",
    "BAC_stock = 'BAC'\n",
    "start_date = '2017-11-01'  # example start date\n",
    "end_date = '2018-10-31'    # example end date\n",
    "\n",
    "# Download the stock data\n",
    "data_BAC = yf.download(BAC_stock, start=start_date, end=end_date)"
   ]
  },
  {
   "cell_type": "code",
   "execution_count": 30,
   "id": "5bafc0b5",
   "metadata": {},
   "outputs": [
    {
     "name": "stderr",
     "output_type": "stream",
     "text": [
      "[*********************100%%**********************]  1 of 1 completed\n"
     ]
    }
   ],
   "source": [
    "# Define the stock ticker and date range: Visa\n",
    "V_stock = 'V'\n",
    "start_date = '2017-11-01'  # example start date\n",
    "end_date = '2018-10-31'    # example end date\n",
    "\n",
    "# Download the stock data\n",
    "data_V = yf.download(V_stock, start=start_date, end=end_date)"
   ]
  },
  {
   "cell_type": "markdown",
   "id": "90a42818",
   "metadata": {},
   "source": [
    "## Consumer Discretionary \n",
    "These are the three stocks we chose in the consumer discretionary industry: Amazon, Nike, and Walt Disney Company"
   ]
  },
  {
   "cell_type": "code",
   "execution_count": 31,
   "id": "4e57c73c",
   "metadata": {},
   "outputs": [
    {
     "name": "stderr",
     "output_type": "stream",
     "text": [
      "[*********************100%%**********************]  1 of 1 completed\n"
     ]
    }
   ],
   "source": [
    "# Define the stock ticker and date range: Amazon\n",
    "AMZN_stock = 'AMZN'\n",
    "start_date = '2017-11-01'  # example start date\n",
    "end_date = '2018-10-31'    # example end date\n",
    "\n",
    "# Download the stock data\n",
    "data_AMZN = yf.download(AMZN_stock, start=start_date, end=end_date)"
   ]
  },
  {
   "cell_type": "code",
   "execution_count": 32,
   "id": "026d881d",
   "metadata": {},
   "outputs": [
    {
     "name": "stderr",
     "output_type": "stream",
     "text": [
      "[*********************100%%**********************]  1 of 1 completed\n"
     ]
    }
   ],
   "source": [
    "# Define the stock ticker and date range: Nike\n",
    "NKE_stock = 'NKE'\n",
    "start_date = '2017-11-01'  # example start date\n",
    "end_date = '2018-10-31'    # example end date\n",
    "\n",
    "# Download the stock data\n",
    "data_NKE = yf.download(NKE_stock, start=start_date, end=end_date)"
   ]
  },
  {
   "cell_type": "code",
   "execution_count": 33,
   "id": "617dea59",
   "metadata": {},
   "outputs": [
    {
     "name": "stderr",
     "output_type": "stream",
     "text": [
      "[*********************100%%**********************]  1 of 1 completed\n"
     ]
    }
   ],
   "source": [
    "# Define the stock ticker and date range: Walt Disney Company \n",
    "DIS_stock = 'DIS'\n",
    "start_date = '2021-11-01'  # example start date\n",
    "end_date = '2022-10-31'    # example end date\n",
    "\n",
    "# Download the stock data\n",
    "data_DIS = yf.download(DIS_stock, start=start_date, end=end_date)"
   ]
  },
  {
   "cell_type": "markdown",
   "id": "a82e2c50",
   "metadata": {},
   "source": [
    "## Energy Sector \n",
    "These are the three stocks we chose in the energy industry: Exxon Mobile Incorporation, First Solar Inc. , NextEra Energy Resources "
   ]
  },
  {
   "cell_type": "code",
   "execution_count": 34,
   "id": "e14f99c2",
   "metadata": {},
   "outputs": [
    {
     "name": "stderr",
     "output_type": "stream",
     "text": [
      "[*********************100%%**********************]  1 of 1 completed\n"
     ]
    }
   ],
   "source": [
    "# Define the stock ticker and date range: Exxon Mobile Incorporation\n",
    "XOM_stock = 'XOM'\n",
    "start_date = '2021-11-01'  # example start date\n",
    "end_date = '2022-10-31'    # example end date\n",
    "\n",
    "# Download the stock data\n",
    "data_XOM = yf.download(XOM_stock, start=start_date, end=end_date)"
   ]
  },
  {
   "cell_type": "code",
   "execution_count": 35,
   "id": "a0b40af8",
   "metadata": {},
   "outputs": [
    {
     "name": "stderr",
     "output_type": "stream",
     "text": [
      "[*********************100%%**********************]  1 of 1 completed\n"
     ]
    }
   ],
   "source": [
    "# Define the stock ticker and date range: First Solar Inc. \n",
    "FSLR_stock = 'FSLR'\n",
    "start_date = '2021-11-01'  # example start date\n",
    "end_date = '2022-10-31'    # example end date\n",
    "\n",
    "# Download the stock data\n",
    "data_FSLR = yf.download(FSLR_stock, start=start_date, end=end_date)"
   ]
  },
  {
   "cell_type": "code",
   "execution_count": 36,
   "id": "40b336a2",
   "metadata": {},
   "outputs": [
    {
     "name": "stderr",
     "output_type": "stream",
     "text": [
      "[*********************100%%**********************]  1 of 1 completed\n"
     ]
    }
   ],
   "source": [
    "# Define the stock ticker and date range: NextEra Energy Resources\n",
    "NEE_stock = 'NEE'\n",
    "start_date = '2021-11-01'  # example start date\n",
    "end_date = '2022-10-31'    # example end date\n",
    "\n",
    "# Download the stock data\n",
    "data_NEE = yf.download(NEE_stock, start=start_date, end=end_date)"
   ]
  },
  {
   "cell_type": "markdown",
   "id": "63844053",
   "metadata": {},
   "source": [
    "## Weapons Manufacturing \n",
    "These are the three stocks we chose in the weapons manufacturing instury: Lockheed Martin Corporation, Raytheon Technologies Corporations (RTX), Northrup Grumman Corporation (NOC) "
   ]
  },
  {
   "cell_type": "code",
   "execution_count": 37,
   "id": "17c5a1b1",
   "metadata": {},
   "outputs": [
    {
     "name": "stderr",
     "output_type": "stream",
     "text": [
      "[*********************100%%**********************]  1 of 1 completed\n"
     ]
    }
   ],
   "source": [
    "# Define the stock ticker and date range: Lockheed Martin Corporation\n",
    "LMT_stock = 'LMT'\n",
    "start_date = '2021-11-01'  # example start date\n",
    "end_date = '2022-10-31'    # example end date\n",
    "\n",
    "# Download the stock data\n",
    "data_LMT = yf.download(LMT_stock, start=start_date, end=end_date)"
   ]
  },
  {
   "cell_type": "code",
   "execution_count": 38,
   "id": "11380938",
   "metadata": {},
   "outputs": [
    {
     "name": "stderr",
     "output_type": "stream",
     "text": [
      "[*********************100%%**********************]  1 of 1 completed\n"
     ]
    }
   ],
   "source": [
    "# Define the stock ticker and date range: Raytheon Technologies Corporation\n",
    "RTX_stock = 'RTX'\n",
    "start_date = '2021-11-01'  # example start date\n",
    "end_date = '2022-10-31'    # example end date\n",
    "\n",
    "# Download the stock data\n",
    "data_RTX = yf.download(RTX_stock, start=start_date, end=end_date)"
   ]
  },
  {
   "cell_type": "code",
   "execution_count": 39,
   "id": "7a69afba",
   "metadata": {},
   "outputs": [
    {
     "name": "stderr",
     "output_type": "stream",
     "text": [
      "[*********************100%%**********************]  1 of 1 completed\n"
     ]
    }
   ],
   "source": [
    "# Define the stock ticker and date range: Northrup Grumman Corporation\n",
    "NOC_stock = 'NOC'\n",
    "start_date = '2021-11-01'  # example start date\n",
    "end_date = '2022-10-31'    # example end date\n",
    "\n",
    "# Download the stock data\n",
    "data_NOC = yf.download(NOC_stock, start=start_date, end=end_date)"
   ]
  },
  {
   "cell_type": "markdown",
   "id": "865c2afa",
   "metadata": {},
   "source": [
    "## Combined Stocks Dataframe"
   ]
  },
  {
   "cell_type": "code",
   "execution_count": 40,
   "id": "edb9dfa8",
   "metadata": {},
   "outputs": [
    {
     "data": {
      "text/html": [
       "<div>\n",
       "<style scoped>\n",
       "    .dataframe tbody tr th:only-of-type {\n",
       "        vertical-align: middle;\n",
       "    }\n",
       "\n",
       "    .dataframe tbody tr th {\n",
       "        vertical-align: top;\n",
       "    }\n",
       "\n",
       "    .dataframe thead th {\n",
       "        text-align: right;\n",
       "    }\n",
       "</style>\n",
       "<table border=\"1\" class=\"dataframe\">\n",
       "  <thead>\n",
       "    <tr style=\"text-align: right;\">\n",
       "      <th></th>\n",
       "      <th>Open</th>\n",
       "      <th>High</th>\n",
       "      <th>Low</th>\n",
       "      <th>Close</th>\n",
       "      <th>Adj Close</th>\n",
       "      <th>Volume</th>\n",
       "      <th>Open</th>\n",
       "      <th>High</th>\n",
       "      <th>Low</th>\n",
       "      <th>Close</th>\n",
       "      <th>...</th>\n",
       "      <th>Low</th>\n",
       "      <th>Close</th>\n",
       "      <th>Adj Close</th>\n",
       "      <th>Volume</th>\n",
       "      <th>Open</th>\n",
       "      <th>High</th>\n",
       "      <th>Low</th>\n",
       "      <th>Close</th>\n",
       "      <th>Adj Close</th>\n",
       "      <th>Volume</th>\n",
       "    </tr>\n",
       "    <tr>\n",
       "      <th>Date</th>\n",
       "      <th></th>\n",
       "      <th></th>\n",
       "      <th></th>\n",
       "      <th></th>\n",
       "      <th></th>\n",
       "      <th></th>\n",
       "      <th></th>\n",
       "      <th></th>\n",
       "      <th></th>\n",
       "      <th></th>\n",
       "      <th></th>\n",
       "      <th></th>\n",
       "      <th></th>\n",
       "      <th></th>\n",
       "      <th></th>\n",
       "      <th></th>\n",
       "      <th></th>\n",
       "      <th></th>\n",
       "      <th></th>\n",
       "      <th></th>\n",
       "      <th></th>\n",
       "    </tr>\n",
       "  </thead>\n",
       "  <tbody>\n",
       "  </tbody>\n",
       "</table>\n",
       "<p>0 rows × 108 columns</p>\n",
       "</div>"
      ],
      "text/plain": [
       "Empty DataFrame\n",
       "Columns: [Open, High, Low, Close, Adj Close, Volume, Open, High, Low, Close, Adj Close, Volume, Open, High, Low, Close, Adj Close, Volume, Open, High, Low, Close, Adj Close, Volume, Open, High, Low, Close, Adj Close, Volume, Open, High, Low, Close, Adj Close, Volume, Open, High, Low, Close, Adj Close, Volume, Open, High, Low, Close, Adj Close, Volume, Open, High, Low, Close, Adj Close, Volume, Open, High, Low, Close, Adj Close, Volume, Open, High, Low, Close, Adj Close, Volume, Open, High, Low, Close, Adj Close, Volume, Open, High, Low, Close, Adj Close, Volume, Open, High, Low, Close, Adj Close, Volume, Open, High, Low, Close, Adj Close, Volume, Open, High, Low, Close, Adj Close, Volume, Open, High, Low, Close, ...]\n",
       "Index: []\n",
       "\n",
       "[0 rows x 108 columns]"
      ]
     },
     "execution_count": 40,
     "metadata": {},
     "output_type": "execute_result"
    }
   ],
   "source": [
    "# Combine all stocks into a single Dataframe \n",
    "custom_portfolio_df = pd.concat([data_AAPL,data_MSFT,data_GOOG,data_JNJ,data_PFE,data_UNH,data_JPM,data_BAC,data_V,data_AMZN,data_NKE,data_DIS,data_XOM,data_FSLR,data_NEE,data_LMT,data_RTX,data_NOC], axis=\"columns\", join=\"inner\")\n",
    "custom_portfolio_df.head()"
   ]
  },
  {
   "cell_type": "code",
   "execution_count": 41,
   "id": "5ad1cadd",
   "metadata": {},
   "outputs": [
    {
     "data": {
      "text/html": [
       "<div>\n",
       "<style scoped>\n",
       "    .dataframe tbody tr th:only-of-type {\n",
       "        vertical-align: middle;\n",
       "    }\n",
       "\n",
       "    .dataframe tbody tr th {\n",
       "        vertical-align: top;\n",
       "    }\n",
       "\n",
       "    .dataframe thead th {\n",
       "        text-align: right;\n",
       "    }\n",
       "</style>\n",
       "<table border=\"1\" class=\"dataframe\">\n",
       "  <thead>\n",
       "    <tr style=\"text-align: right;\">\n",
       "      <th></th>\n",
       "      <th>AAPL</th>\n",
       "      <th>MSFT</th>\n",
       "      <th>GOOG</th>\n",
       "      <th>JNJ</th>\n",
       "      <th>PFE</th>\n",
       "      <th>UNH</th>\n",
       "      <th>JPM</th>\n",
       "      <th>BAC</th>\n",
       "      <th>V</th>\n",
       "      <th>AMZN</th>\n",
       "      <th>NKE</th>\n",
       "      <th>DIS</th>\n",
       "      <th>XOM</th>\n",
       "      <th>FSLR</th>\n",
       "      <th>NEE</th>\n",
       "      <th>LMT</th>\n",
       "      <th>RTX</th>\n",
       "      <th>NOC</th>\n",
       "    </tr>\n",
       "    <tr>\n",
       "      <th>Date</th>\n",
       "      <th></th>\n",
       "      <th></th>\n",
       "      <th></th>\n",
       "      <th></th>\n",
       "      <th></th>\n",
       "      <th></th>\n",
       "      <th></th>\n",
       "      <th></th>\n",
       "      <th></th>\n",
       "      <th></th>\n",
       "      <th></th>\n",
       "      <th></th>\n",
       "      <th></th>\n",
       "      <th></th>\n",
       "      <th></th>\n",
       "      <th></th>\n",
       "      <th></th>\n",
       "      <th></th>\n",
       "    </tr>\n",
       "  </thead>\n",
       "  <tbody>\n",
       "  </tbody>\n",
       "</table>\n",
       "</div>"
      ],
      "text/plain": [
       "Empty DataFrame\n",
       "Columns: [AAPL, MSFT, GOOG, JNJ, PFE, UNH, JPM, BAC, V, AMZN, NKE, DIS, XOM, FSLR, NEE, LMT, RTX, NOC]\n",
       "Index: []"
      ]
     },
     "execution_count": 41,
     "metadata": {},
     "output_type": "execute_result"
    }
   ],
   "source": [
    "small_df=custom_portfolio_df['Close']\n",
    "small_df.columns=['AAPL','MSFT', 'GOOG', 'JNJ','PFE','UNH','JPM','BAC','V','AMZN','NKE','DIS','XOM','FSLR','NEE','LMT','RTX','NOC']\n",
    "small_df"
   ]
  },
  {
   "cell_type": "markdown",
   "id": "1fc284ec",
   "metadata": {},
   "source": [
    "### Technology Dataframe"
   ]
  },
  {
   "cell_type": "code",
   "execution_count": 42,
   "id": "113cdc10",
   "metadata": {},
   "outputs": [
    {
     "data": {
      "text/html": [
       "<div>\n",
       "<style scoped>\n",
       "    .dataframe tbody tr th:only-of-type {\n",
       "        vertical-align: middle;\n",
       "    }\n",
       "\n",
       "    .dataframe tbody tr th {\n",
       "        vertical-align: top;\n",
       "    }\n",
       "\n",
       "    .dataframe thead th {\n",
       "        text-align: right;\n",
       "    }\n",
       "</style>\n",
       "<table border=\"1\" class=\"dataframe\">\n",
       "  <thead>\n",
       "    <tr style=\"text-align: right;\">\n",
       "      <th></th>\n",
       "      <th>AAPL</th>\n",
       "      <th>MSFT</th>\n",
       "      <th>GOOG</th>\n",
       "    </tr>\n",
       "    <tr>\n",
       "      <th>Date</th>\n",
       "      <th></th>\n",
       "      <th></th>\n",
       "      <th></th>\n",
       "    </tr>\n",
       "  </thead>\n",
       "  <tbody>\n",
       "  </tbody>\n",
       "</table>\n",
       "</div>"
      ],
      "text/plain": [
       "Empty DataFrame\n",
       "Columns: [AAPL, MSFT, GOOG]\n",
       "Index: []"
      ]
     },
     "execution_count": 42,
     "metadata": {},
     "output_type": "execute_result"
    }
   ],
   "source": [
    "tech_df=small_df[['AAPL','MSFT','GOOG']]\n",
    "tech_df"
   ]
  },
  {
   "cell_type": "markdown",
   "id": "207a644b",
   "metadata": {},
   "source": [
    "### Healthcare Dataframe"
   ]
  },
  {
   "cell_type": "code",
   "execution_count": 43,
   "id": "4d62722b",
   "metadata": {},
   "outputs": [
    {
     "data": {
      "text/html": [
       "<div>\n",
       "<style scoped>\n",
       "    .dataframe tbody tr th:only-of-type {\n",
       "        vertical-align: middle;\n",
       "    }\n",
       "\n",
       "    .dataframe tbody tr th {\n",
       "        vertical-align: top;\n",
       "    }\n",
       "\n",
       "    .dataframe thead th {\n",
       "        text-align: right;\n",
       "    }\n",
       "</style>\n",
       "<table border=\"1\" class=\"dataframe\">\n",
       "  <thead>\n",
       "    <tr style=\"text-align: right;\">\n",
       "      <th></th>\n",
       "      <th>JNJ</th>\n",
       "      <th>PFE</th>\n",
       "      <th>UNH</th>\n",
       "    </tr>\n",
       "    <tr>\n",
       "      <th>Date</th>\n",
       "      <th></th>\n",
       "      <th></th>\n",
       "      <th></th>\n",
       "    </tr>\n",
       "  </thead>\n",
       "  <tbody>\n",
       "  </tbody>\n",
       "</table>\n",
       "</div>"
      ],
      "text/plain": [
       "Empty DataFrame\n",
       "Columns: [JNJ, PFE, UNH]\n",
       "Index: []"
      ]
     },
     "execution_count": 43,
     "metadata": {},
     "output_type": "execute_result"
    }
   ],
   "source": [
    "health_df=small_df[['JNJ','PFE','UNH']]\n",
    "health_df"
   ]
  },
  {
   "cell_type": "markdown",
   "id": "47efb6b4",
   "metadata": {},
   "source": [
    "### Financials Dataframe"
   ]
  },
  {
   "cell_type": "code",
   "execution_count": 44,
   "id": "b573adae",
   "metadata": {},
   "outputs": [
    {
     "data": {
      "text/html": [
       "<div>\n",
       "<style scoped>\n",
       "    .dataframe tbody tr th:only-of-type {\n",
       "        vertical-align: middle;\n",
       "    }\n",
       "\n",
       "    .dataframe tbody tr th {\n",
       "        vertical-align: top;\n",
       "    }\n",
       "\n",
       "    .dataframe thead th {\n",
       "        text-align: right;\n",
       "    }\n",
       "</style>\n",
       "<table border=\"1\" class=\"dataframe\">\n",
       "  <thead>\n",
       "    <tr style=\"text-align: right;\">\n",
       "      <th></th>\n",
       "      <th>JPM</th>\n",
       "      <th>BAC</th>\n",
       "      <th>V</th>\n",
       "    </tr>\n",
       "    <tr>\n",
       "      <th>Date</th>\n",
       "      <th></th>\n",
       "      <th></th>\n",
       "      <th></th>\n",
       "    </tr>\n",
       "  </thead>\n",
       "  <tbody>\n",
       "  </tbody>\n",
       "</table>\n",
       "</div>"
      ],
      "text/plain": [
       "Empty DataFrame\n",
       "Columns: [JPM, BAC, V]\n",
       "Index: []"
      ]
     },
     "execution_count": 44,
     "metadata": {},
     "output_type": "execute_result"
    }
   ],
   "source": [
    "finance_df=small_df[['JPM','BAC','V']]\n",
    "finance_df"
   ]
  },
  {
   "cell_type": "markdown",
   "id": "976f8d9d",
   "metadata": {},
   "source": [
    "### Consumer Discretionary Dataframe"
   ]
  },
  {
   "cell_type": "code",
   "execution_count": 45,
   "id": "fad14ba4",
   "metadata": {},
   "outputs": [
    {
     "data": {
      "text/html": [
       "<div>\n",
       "<style scoped>\n",
       "    .dataframe tbody tr th:only-of-type {\n",
       "        vertical-align: middle;\n",
       "    }\n",
       "\n",
       "    .dataframe tbody tr th {\n",
       "        vertical-align: top;\n",
       "    }\n",
       "\n",
       "    .dataframe thead th {\n",
       "        text-align: right;\n",
       "    }\n",
       "</style>\n",
       "<table border=\"1\" class=\"dataframe\">\n",
       "  <thead>\n",
       "    <tr style=\"text-align: right;\">\n",
       "      <th></th>\n",
       "      <th>AMZN</th>\n",
       "      <th>NKE</th>\n",
       "      <th>DIS</th>\n",
       "    </tr>\n",
       "    <tr>\n",
       "      <th>Date</th>\n",
       "      <th></th>\n",
       "      <th></th>\n",
       "      <th></th>\n",
       "    </tr>\n",
       "  </thead>\n",
       "  <tbody>\n",
       "  </tbody>\n",
       "</table>\n",
       "</div>"
      ],
      "text/plain": [
       "Empty DataFrame\n",
       "Columns: [AMZN, NKE, DIS]\n",
       "Index: []"
      ]
     },
     "execution_count": 45,
     "metadata": {},
     "output_type": "execute_result"
    }
   ],
   "source": [
    "consumer_df=small_df[['AMZN','NKE','DIS']]\n",
    "consumer_df"
   ]
  },
  {
   "cell_type": "markdown",
   "id": "1c98df3c",
   "metadata": {},
   "source": [
    "### Energy Dataframe "
   ]
  },
  {
   "cell_type": "code",
   "execution_count": 46,
   "id": "8a2ccb20",
   "metadata": {},
   "outputs": [
    {
     "data": {
      "text/html": [
       "<div>\n",
       "<style scoped>\n",
       "    .dataframe tbody tr th:only-of-type {\n",
       "        vertical-align: middle;\n",
       "    }\n",
       "\n",
       "    .dataframe tbody tr th {\n",
       "        vertical-align: top;\n",
       "    }\n",
       "\n",
       "    .dataframe thead th {\n",
       "        text-align: right;\n",
       "    }\n",
       "</style>\n",
       "<table border=\"1\" class=\"dataframe\">\n",
       "  <thead>\n",
       "    <tr style=\"text-align: right;\">\n",
       "      <th></th>\n",
       "      <th>XOM</th>\n",
       "      <th>FSLR</th>\n",
       "      <th>NEE</th>\n",
       "    </tr>\n",
       "    <tr>\n",
       "      <th>Date</th>\n",
       "      <th></th>\n",
       "      <th></th>\n",
       "      <th></th>\n",
       "    </tr>\n",
       "  </thead>\n",
       "  <tbody>\n",
       "  </tbody>\n",
       "</table>\n",
       "</div>"
      ],
      "text/plain": [
       "Empty DataFrame\n",
       "Columns: [XOM, FSLR, NEE]\n",
       "Index: []"
      ]
     },
     "execution_count": 46,
     "metadata": {},
     "output_type": "execute_result"
    }
   ],
   "source": [
    "energy_df=small_df[['XOM','FSLR','NEE']]\n",
    "energy_df"
   ]
  },
  {
   "cell_type": "markdown",
   "id": "47726a63",
   "metadata": {},
   "source": [
    "### Weapons Manufacturing Dataframe"
   ]
  },
  {
   "cell_type": "code",
   "execution_count": 47,
   "id": "46d57326",
   "metadata": {},
   "outputs": [
    {
     "data": {
      "text/html": [
       "<div>\n",
       "<style scoped>\n",
       "    .dataframe tbody tr th:only-of-type {\n",
       "        vertical-align: middle;\n",
       "    }\n",
       "\n",
       "    .dataframe tbody tr th {\n",
       "        vertical-align: top;\n",
       "    }\n",
       "\n",
       "    .dataframe thead th {\n",
       "        text-align: right;\n",
       "    }\n",
       "</style>\n",
       "<table border=\"1\" class=\"dataframe\">\n",
       "  <thead>\n",
       "    <tr style=\"text-align: right;\">\n",
       "      <th></th>\n",
       "      <th>LMT</th>\n",
       "      <th>RTX</th>\n",
       "      <th>NOC</th>\n",
       "    </tr>\n",
       "    <tr>\n",
       "      <th>Date</th>\n",
       "      <th></th>\n",
       "      <th></th>\n",
       "      <th></th>\n",
       "    </tr>\n",
       "  </thead>\n",
       "  <tbody>\n",
       "  </tbody>\n",
       "</table>\n",
       "</div>"
      ],
      "text/plain": [
       "Empty DataFrame\n",
       "Columns: [LMT, RTX, NOC]\n",
       "Index: []"
      ]
     },
     "execution_count": 47,
     "metadata": {},
     "output_type": "execute_result"
    }
   ],
   "source": [
    "weapons_df=small_df[['LMT','RTX','NOC']]\n",
    "weapons_df"
   ]
  },
  {
   "cell_type": "markdown",
   "id": "a9e9f3a5",
   "metadata": {},
   "source": [
    "# Calculate: Daily Returns and Weighted Returns"
   ]
  },
  {
   "cell_type": "code",
   "execution_count": 48,
   "id": "13e5d5c4",
   "metadata": {},
   "outputs": [
    {
     "name": "stdout",
     "output_type": "stream",
     "text": [
      "Empty DataFrame\n",
      "Columns: [AAPL, MSFT, GOOG, JNJ, PFE, UNH, JPM, BAC, V, AMZN, NKE, DIS, XOM, FSLR, NEE, LMT, RTX, NOC]\n",
      "Index: []\n",
      "Empty DataFrame\n",
      "Columns: [Tech, Health, Finance, Consumer, Energy, Weapons]\n",
      "Index: []\n"
     ]
    }
   ],
   "source": [
    "# Calculate daily returns, drop nas, and display the data \n",
    "# Tech Daily Returns \n",
    "tech_daily = tech_df.pct_change().dropna()\n",
    "tech_daily.head()\n",
    "\n",
    "# Healthcare Daily Returns \n",
    "health_daily = health_df.pct_change().dropna()\n",
    "health_daily.head()\n",
    "\n",
    "# Financials Daily Returns \n",
    "finance_daily = finance_df.pct_change().dropna()\n",
    "finance_daily.head()\n",
    "\n",
    "# Consumer Discretionary Daily Returns \n",
    "consumer_daily = consumer_df.pct_change().dropna()\n",
    "consumer_daily.head()\n",
    "\n",
    "# Energy Daily Returns \n",
    "energy_daily = energy_df.pct_change().dropna()\n",
    "energy_daily.head()\n",
    "\n",
    "# Weapons Manufacturing Daily Returns \n",
    "weapons_daily = weapons_df.pct_change().dropna()\n",
    "weapons_daily.head()\n",
    "\n",
    "combined_daily_returns = pd.concat([\n",
    "    tech_daily.head(),\n",
    "    health_daily.head(),\n",
    "    finance_daily.head(),\n",
    "    consumer_daily.head(),\n",
    "    energy_daily.head(),\n",
    "    weapons_daily.head()\n",
    "], axis=1)\n",
    "\n",
    "# Rename the columns for clarity\n",
    "combined_daily_returns.columns = ['AAPL','MSFT', 'GOOG', 'JNJ','PFE','UNH','JPM','BAC','V','AMZN','NKE','DIS','XOM','FSLR','NEE','LMT','RTX','NOC']\n",
    "\n",
    "# Display the combined DataFrame\n",
    "print(combined_daily_returns.head())\n",
    "\n",
    "# Set weights\n",
    "weights = [1/3, 1/3, 1/3]\n",
    "\n",
    "# Define a dictionary containing the daily returns for each sector\n",
    "daily_returns_dict = {\n",
    "    \"Tech\": tech_daily,\n",
    "    \"Health\": health_daily,\n",
    "    \"Finance\": finance_daily,\n",
    "    \"Consumer\": consumer_daily,\n",
    "    \"Energy\": energy_daily,\n",
    "    \"Weapons\": weapons_daily\n",
    "}\n",
    "\n",
    "# Create an empty dictionary to store the returns for each sector\n",
    "sector_returns = {}\n",
    "\n",
    "# Calculate the returns for each sector and store them in the dictionary\n",
    "for sector, combined_daily_returns in daily_returns_dict.items():\n",
    "    sector_returns[sector] = (weights * combined_daily_returns).sum(axis=1)\n",
    "\n",
    "# Create a DataFrame from the sector_returns dictionary\n",
    "returns_df = pd.DataFrame(sector_returns)\n",
    "\n",
    "# Display the DataFrame\n",
    "print(returns_df)"
   ]
  },
  {
   "cell_type": "markdown",
   "id": "cca746b4",
   "metadata": {},
   "source": [
    "# Risk Analysis Performance \n",
    "1. Cumulative Returns\n",
    "2. Annualized Standard Deviation \n",
    "3. Annualized Sharpe Ratios (Reward to Risk)\n",
    "4. Covariance and Variance \n",
    "5. BETA"
   ]
  },
  {
   "cell_type": "markdown",
   "id": "ed664118",
   "metadata": {},
   "source": [
    "## Cumulative Returns"
   ]
  },
  {
   "cell_type": "code",
   "execution_count": 49,
   "id": "9a28a027",
   "metadata": {},
   "outputs": [
    {
     "name": "stdout",
     "output_type": "stream",
     "text": [
      "Empty DataFrame\n",
      "Columns: [Tech, Health, Finance, Consumer, Energy, Weapons]\n",
      "Index: []\n"
     ]
    },
    {
     "data": {
      "image/png": "[encoded data removed]",
      "text/plain": [
       "<Figure size 1000x600 with 1 Axes>"
      ]
     },
     "metadata": {},
     "output_type": "display_data"
    }
   ],
   "source": [
    "# Calculate Cumulative Returns \n",
    "cumulative_returns = (1 + returns_df).cumprod()\n",
    "print(cumulative_returns)\n",
    "\n",
    "# Export and save Cumulative Returns dataframe into a csv file \n",
    "cumulative_returns.to_csv('cumulative_returns_data4.csv', index=False)\n",
    "\n",
    "# Plot Cumulative Returns \n",
    "cumulative_returns.plot(figsize=(10, 6))  # Adjust figsize as needed\n",
    "plt.title('Cumulative Returns of Each Industry')\n",
    "plt.xlabel('Date')\n",
    "plt.ylabel('Cumulative Returns')\n",
    "plt.grid(True)\n",
    "plt.legend()\n",
    "plt.show()"
   ]
  },
  {
   "cell_type": "markdown",
   "id": "9be59e2e",
   "metadata": {},
   "source": [
    "## Annualized Standard Deviation "
   ]
  },
  {
   "cell_type": "code",
   "execution_count": 50,
   "id": "def340b9",
   "metadata": {},
   "outputs": [
    {
     "name": "stdout",
     "output_type": "stream",
     "text": [
      "Tech       NaN\n",
      "Health     NaN\n",
      "Finance    NaN\n",
      "Consumer   NaN\n",
      "Energy     NaN\n",
      "Weapons    NaN\n",
      "dtype: float64\n"
     ]
    }
   ],
   "source": [
    "# Calculate the daily standard deviation \n",
    "daily_std_dev = np.std(returns_df)\n",
    "print(daily_std_dev)"
   ]
  },
  {
   "cell_type": "code",
   "execution_count": 51,
   "id": "ec4468c4",
   "metadata": {},
   "outputs": [
    {
     "name": "stderr",
     "output_type": "stream",
     "text": [
      "No artists with labels found to put in legend.  Note that artists whose label start with an underscore are ignored when legend() is called with no argument.\n"
     ]
    },
    {
     "data": {
      "image/png": "[encoded data removed]",
      "text/plain": [
       "<Figure size 1000x600 with 1 Axes>"
      ]
     },
     "metadata": {},
     "output_type": "display_data"
    }
   ],
   "source": [
    "# Calculate the annualized standard deviation (252 trading days)\n",
    "annualized_std = daily_std_dev * np.sqrt(252)\n",
    "\n",
    "# Plot the Annualized standard deviation\n",
    "annualized_std.plot.bar(figsize=(10, 6))  # Adjust figsize as needed\n",
    "plt.title('Annualized Standard Deviation of Each Industry')\n",
    "plt.xlabel('Industry')\n",
    "plt.ylabel('Annualized Standard Deviation')\n",
    "plt.grid(True)\n",
    "plt.legend()\n",
    "plt.show()"
   ]
  },
  {
   "cell_type": "markdown",
   "id": "f75cba56",
   "metadata": {},
   "source": [
    "## Sharpe Ratios"
   ]
  },
  {
   "cell_type": "code",
   "execution_count": 52,
   "id": "f06123ff",
   "metadata": {},
   "outputs": [
    {
     "name": "stderr",
     "output_type": "stream",
     "text": [
      "posx and posy should be finite values\n",
      "posx and posy should be finite values\n",
      "posx and posy should be finite values\n",
      "posx and posy should be finite values\n",
      "posx and posy should be finite values\n",
      "posx and posy should be finite values\n",
      "posx and posy should be finite values\n",
      "posx and posy should be finite values\n",
      "posx and posy should be finite values\n",
      "posx and posy should be finite values\n",
      "posx and posy should be finite values\n",
      "posx and posy should be finite values\n"
     ]
    },
    {
     "data": {
      "image/png": "[encoded data removed]",
      "text/plain": [
       "<Figure size 1000x600 with 1 Axes>"
      ]
     },
     "metadata": {},
     "output_type": "display_data"
    }
   ],
   "source": [
    "# Annualized Sharpe Ratios \n",
    "sharpe_ratios = (returns_df.mean() * 252) / (returns_df.std() * np.sqrt(252))\n",
    "sharpe_ratios \n",
    "\n",
    "# Save the Sharpe Ratios dataset into a exported csv file \n",
    "sharpe_ratios.to_csv('sharperatios2017_2018.csv', index=False)\n",
    "\n",
    "# Visualize the sharpe ratios as a bar plot\n",
    "sharpe_ratios.plot(kind='bar', color='skyblue', figsize=(10, 6))\n",
    "\n",
    "# Customizing the plot\n",
    "plt.title('Sharpe Ratios of Each Industry')\n",
    "plt.xlabel('Industry')\n",
    "plt.ylabel('Sharpe Ratio')\n",
    "plt.xticks(rotation=45)  # Rotate x-axis labels for better readability\n",
    "plt.grid(axis='y', linestyle='--', alpha=0.7)  # Adding grid lines\n",
    "\n",
    "# Adding data labels\n",
    "for i, val in enumerate(sharpe_ratios.values):\n",
    "    plt.text(i, val, round(val, 2), ha='center', va='bottom')\n",
    "\n",
    "# Adding horizontal line at Sharpe ratio of 0 for reference\n",
    "plt.axhline(y=0, color='gray', linestyle='--', linewidth=0.5)\n",
    "\n",
    "# Show plot\n",
    "plt.tight_layout()  # Adjust layout to prevent clipping of labels\n",
    "plt.show()"
   ]
  },
  {
   "cell_type": "markdown",
   "id": "101dc808",
   "metadata": {},
   "source": [
    "# Create Custom Portfolio: 12 months After \n",
    "## Time Period: November 2022 to October 2023\n",
    "In this section, we chose three stocks from the top six invested in industries, calculate the returns, and compare the results to determine which industry performed best\n",
    "\n",
    "1. Choose 3 stocks with at last 1 year's worth of historic prices and create a DataFrame of the closing prices and dates for each stock.\n",
    "2. Calculate the weighted returns for the portfolio assuming an equal number of shares for each stock\n",
    "3. Join your portfolio returns to the DataFrame that contains all of the portfolio returns\n",
    "4. Re-run the performance and risk analysis with your portfolio to see how it compares to the others\n",
    "5. Include correlation analysis to determine which stocks (if any) are correlated"
   ]
  },
  {
   "cell_type": "markdown",
   "id": "5dd4a065",
   "metadata": {},
   "source": [
    "## Choose 3-5 custom stocks with at last 1 year's worth of historic prices and create a DataFrame of the closing prices and dates for each stock."
   ]
  },
  {
   "cell_type": "markdown",
   "id": "ffd08ed1",
   "metadata": {},
   "source": [
    "## Technology Sector\n",
    "These are the three stocks we chose within the Technology Industry"
   ]
  },
  {
   "cell_type": "code",
   "execution_count": 53,
   "id": "c1cb2135",
   "metadata": {},
   "outputs": [
    {
     "name": "stderr",
     "output_type": "stream",
     "text": [
      "[*********************100%%**********************]  1 of 1 completed\n"
     ]
    }
   ],
   "source": [
    "# Define the stock ticker and date range: Apple Inc. \n",
    "AAPL_stock = 'AAPL'\n",
    "start_date = '2018-11-01'  # example start date\n",
    "end_date = '2019-10-31'    # example end date\n",
    "\n",
    "# Download the stock data\n",
    "data_AAPL = yf.download(AAPL_stock, start=start_date, end=end_date)"
   ]
  },
  {
   "cell_type": "code",
   "execution_count": 54,
   "id": "339fc1d9",
   "metadata": {},
   "outputs": [
    {
     "name": "stderr",
     "output_type": "stream",
     "text": [
      "[*********************100%%**********************]  1 of 1 completed\n"
     ]
    }
   ],
   "source": [
    "# Define the stock ticker and date range: Microsoft \n",
    "MSFT_stock = 'MSFT'\n",
    "start_date = '2018-11-01'  # example start date\n",
    "end_date = '2019-10-31'    # example end date\n",
    "\n",
    "# Download the stock data\n",
    "data_MSFT = yf.download(MSFT_stock, start=start_date, end=end_date)"
   ]
  },
  {
   "cell_type": "code",
   "execution_count": 55,
   "id": "030ba095",
   "metadata": {},
   "outputs": [
    {
     "name": "stderr",
     "output_type": "stream",
     "text": [
      "[*********************100%%**********************]  1 of 1 completed\n"
     ]
    }
   ],
   "source": [
    "# Define the stock ticker and date range: Google \n",
    "GOOG_stock = 'GOOG'\n",
    "start_date = '2018-11-01'  # example start date\n",
    "end_date = '2019-10-31'    # example end date\n",
    "\n",
    "# Download the stock data\n",
    "data_GOOG = yf.download(GOOG_stock, start=start_date, end=end_date)"
   ]
  },
  {
   "cell_type": "markdown",
   "id": "9d0cffac",
   "metadata": {},
   "source": [
    "## Healthcare Sector \n",
    "These are the three stocks we chose in the Healthcare Industry"
   ]
  },
  {
   "cell_type": "code",
   "execution_count": 56,
   "id": "fe9106ad",
   "metadata": {},
   "outputs": [
    {
     "name": "stderr",
     "output_type": "stream",
     "text": [
      "[*********************100%%**********************]  1 of 1 completed\n"
     ]
    }
   ],
   "source": [
    "# Define the stock ticker and date range: Johnson and Johnson \n",
    "JNJ_stock = 'JNJ'\n",
    "start_date = '2018-11-01'  # example start date\n",
    "end_date = '2019-10-31'    # example end date\n",
    "\n",
    "# Download the stock data\n",
    "data_JNJ = yf.download(JNJ_stock, start=start_date, end=end_date)"
   ]
  },
  {
   "cell_type": "code",
   "execution_count": 57,
   "id": "fc30c9fc",
   "metadata": {},
   "outputs": [
    {
     "name": "stderr",
     "output_type": "stream",
     "text": [
      "[*********************100%%**********************]  1 of 1 completed\n"
     ]
    }
   ],
   "source": [
    "# Define the stock ticker and date range: Pfizer Inc\n",
    "PFE_stock = 'PFE'\n",
    "start_date = '2018-11-01'  # example start date\n",
    "end_date = '2019-10-31'    # example end date\n",
    "\n",
    "# Download the stock data\n",
    "data_PFE = yf.download(PFE_stock, start=start_date, end=end_date)"
   ]
  },
  {
   "cell_type": "code",
   "execution_count": 58,
   "id": "729df1d3",
   "metadata": {},
   "outputs": [
    {
     "name": "stderr",
     "output_type": "stream",
     "text": [
      "[*********************100%%**********************]  1 of 1 completed\n"
     ]
    }
   ],
   "source": [
    "# Define the stock ticker and date range: United Health Group\n",
    "UNH_stock = 'UNH'\n",
    "start_date = '2018-11-01'  # example start date\n",
    "end_date = '2019-10-31'    # example end date\n",
    "\n",
    "# Download the stock data\n",
    "data_UNH = yf.download(UNH_stock, start=start_date, end=end_date)"
   ]
  },
  {
   "cell_type": "markdown",
   "id": "9e2f32d7",
   "metadata": {},
   "source": [
    "# Financials Sector \n",
    "These are the three stocks we chose in the Healthcare Industry"
   ]
  },
  {
   "cell_type": "code",
   "execution_count": 59,
   "id": "7790e755",
   "metadata": {},
   "outputs": [
    {
     "name": "stderr",
     "output_type": "stream",
     "text": [
      "[*********************100%%**********************]  1 of 1 completed\n"
     ]
    }
   ],
   "source": [
    "# Define the stock ticker and date range: JPMorgan Chase and Co. \n",
    "JPM_stock = 'JPM'\n",
    "start_date = '2018-11-01'  # example start date\n",
    "end_date = '2019-10-31'    # example end date\n",
    "\n",
    "# Download the stock data\n",
    "data_JPM = yf.download(JPM_stock, start=start_date, end=end_date)"
   ]
  },
  {
   "cell_type": "code",
   "execution_count": 60,
   "id": "530a84fc",
   "metadata": {},
   "outputs": [
    {
     "name": "stderr",
     "output_type": "stream",
     "text": [
      "[*********************100%%**********************]  1 of 1 completed\n"
     ]
    }
   ],
   "source": [
    "# Define the stock ticker and date range: Bank of America \n",
    "BAC_stock = 'BAC'\n",
    "start_date = '2018-11-01'  # example start date\n",
    "end_date = '2019-10-31'    # example end date\n",
    "\n",
    "# Download the stock data\n",
    "data_BAC = yf.download(BAC_stock, start=start_date, end=end_date)"
   ]
  },
  {
   "cell_type": "code",
   "execution_count": 61,
   "id": "eecbef7e",
   "metadata": {},
   "outputs": [
    {
     "name": "stderr",
     "output_type": "stream",
     "text": [
      "[*********************100%%**********************]  1 of 1 completed\n"
     ]
    }
   ],
   "source": [
    "# Define the stock ticker and date range: Visa\n",
    "V_stock = 'V'\n",
    "start_date = '2018-11-01'  # example start date\n",
    "end_date = '2019-10-31'    # example end date\n",
    "\n",
    "# Download the stock data\n",
    "data_V = yf.download(V_stock, start=start_date, end=end_date)"
   ]
  },
  {
   "cell_type": "markdown",
   "id": "cf2a3487",
   "metadata": {},
   "source": [
    "## Consumer Discretionary \n",
    "These are the three stocks we chose in the consumer discretionary industry: Amazon, Nike, and Walt Disney Company"
   ]
  },
  {
   "cell_type": "code",
   "execution_count": 62,
   "id": "898cb861",
   "metadata": {},
   "outputs": [
    {
     "name": "stderr",
     "output_type": "stream",
     "text": [
      "[*********************100%%**********************]  1 of 1 completed\n"
     ]
    }
   ],
   "source": [
    "# Define the stock ticker and date range: Amazon\n",
    "AMZN_stock = 'AMZN'\n",
    "start_date = '2018-11-01'  # example start date\n",
    "end_date = '2019-10-31'    # example end date\n",
    "\n",
    "# Download the stock data\n",
    "data_AMZN = yf.download(AMZN_stock, start=start_date, end=end_date)"
   ]
  },
  {
   "cell_type": "code",
   "execution_count": 63,
   "id": "15ccfc36",
   "metadata": {},
   "outputs": [
    {
     "name": "stderr",
     "output_type": "stream",
     "text": [
      "[*********************100%%**********************]  1 of 1 completed\n"
     ]
    }
   ],
   "source": [
    "# Define the stock ticker and date range: Nike\n",
    "NKE_stock = 'NKE'\n",
    "start_date = '2018-11-01'  # example start date\n",
    "end_date = '2019-10-31'    # example end date\n",
    "\n",
    "# Download the stock data\n",
    "data_NKE = yf.download(NKE_stock, start=start_date, end=end_date)"
   ]
  },
  {
   "cell_type": "code",
   "execution_count": 64,
   "id": "4f38dcf7",
   "metadata": {},
   "outputs": [
    {
     "name": "stderr",
     "output_type": "stream",
     "text": [
      "[*********************100%%**********************]  1 of 1 completed\n"
     ]
    }
   ],
   "source": [
    "# Define the stock ticker and date range: Walt Disney Company \n",
    "DIS_stock = 'DIS'\n",
    "start_date = '2018-11-01'  # example start date\n",
    "end_date = '2019-10-31'    # example end date\n",
    "\n",
    "# Download the stock data\n",
    "data_DIS = yf.download(DIS_stock, start=start_date, end=end_date)"
   ]
  },
  {
   "cell_type": "markdown",
   "id": "e62c069d",
   "metadata": {},
   "source": [
    "## Energy Sector \n",
    "These are the three stocks we chose in the energy industry: Exxon Mobile Incorporation, First Solar Inc. , NextEra Energy Resources "
   ]
  },
  {
   "cell_type": "code",
   "execution_count": 65,
   "id": "897e7473",
   "metadata": {},
   "outputs": [
    {
     "name": "stderr",
     "output_type": "stream",
     "text": [
      "[*********************100%%**********************]  1 of 1 completed\n"
     ]
    }
   ],
   "source": [
    "# Define the stock ticker and date range: Exxon Mobile Incorporation\n",
    "XOM_stock = 'XOM'\n",
    "start_date = '2018-11-01'  # example start date\n",
    "end_date = '2019-10-31'    # example end date\n",
    "\n",
    "# Download the stock data\n",
    "data_XOM = yf.download(XOM_stock, start=start_date, end=end_date)"
   ]
  },
  {
   "cell_type": "code",
   "execution_count": 66,
   "id": "6d779524",
   "metadata": {},
   "outputs": [
    {
     "name": "stderr",
     "output_type": "stream",
     "text": [
      "[*********************100%%**********************]  1 of 1 completed\n"
     ]
    }
   ],
   "source": [
    "# Define the stock ticker and date range: First Solar Inc. \n",
    "FSLR_stock = 'FSLR'\n",
    "start_date = '2018-11-01'  # example start date\n",
    "end_date = '2019-10-31'    # example end date\n",
    "\n",
    "# Download the stock data\n",
    "data_FSLR = yf.download(FSLR_stock, start=start_date, end=end_date)"
   ]
  },
  {
   "cell_type": "code",
   "execution_count": 67,
   "id": "787f1f4b",
   "metadata": {},
   "outputs": [
    {
     "name": "stderr",
     "output_type": "stream",
     "text": [
      "[*********************100%%**********************]  1 of 1 completed\n"
     ]
    }
   ],
   "source": [
    "# Define the stock ticker and date range: NextEra Energy Resources\n",
    "NEE_stock = 'NEE'\n",
    "start_date = '2018-11-01'  # example start date\n",
    "end_date = '2019-10-31'    # example end date\n",
    "\n",
    "# Download the stock data\n",
    "data_NEE = yf.download(NEE_stock, start=start_date, end=end_date)"
   ]
  },
  {
   "cell_type": "markdown",
   "id": "5dc220fc",
   "metadata": {},
   "source": [
    "## Weapons Manufacturing \n",
    "These are the three stocks we chose in the weapons manufacturing instury: Lockheed Martin Corporation, Raytheon Technologies Corporations (RTX), Northrup Grumman Corporation (NOC)  "
   ]
  },
  {
   "cell_type": "code",
   "execution_count": 68,
   "id": "1464dad3",
   "metadata": {},
   "outputs": [
    {
     "name": "stderr",
     "output_type": "stream",
     "text": [
      "[*********************100%%**********************]  1 of 1 completed\n"
     ]
    }
   ],
   "source": [
    "# Define the stock ticker and date range: Lockheed Martin Corporation\n",
    "LMT_stock = 'LMT'\n",
    "start_date = '2018-11-01'  # example start date\n",
    "end_date = '2019-10-31'    # example end date\n",
    "\n",
    "# Download the stock data\n",
    "data_LMT = yf.download(LMT_stock, start=start_date, end=end_date)"
   ]
  },
  {
   "cell_type": "code",
   "execution_count": 69,
   "id": "194551fa",
   "metadata": {},
   "outputs": [
    {
     "name": "stderr",
     "output_type": "stream",
     "text": [
      "[*********************100%%**********************]  1 of 1 completed\n"
     ]
    }
   ],
   "source": [
    "# Define the stock ticker and date range: Raytheon Technologies Corporation\n",
    "RTX_stock = 'RTX'\n",
    "start_date = '2018-11-01'  # example start date\n",
    "end_date = '2019-10-31'    # example end date\n",
    "\n",
    "# Download the stock data\n",
    "data_RTX = yf.download(RTX_stock, start=start_date, end=end_date)"
   ]
  },
  {
   "cell_type": "code",
   "execution_count": 70,
   "id": "5fb44776",
   "metadata": {},
   "outputs": [
    {
     "name": "stderr",
     "output_type": "stream",
     "text": [
      "[*********************100%%**********************]  1 of 1 completed\n"
     ]
    }
   ],
   "source": [
    "# Define the stock ticker and date range: Northrup Grumman Corporation\n",
    "NOC_stock = 'NOC'\n",
    "start_date = '2018-11-01'  # example start date\n",
    "end_date = '2019-10-31'    # example end date\n",
    "\n",
    "# Download the stock data\n",
    "data_NOC = yf.download(NOC_stock, start=start_date, end=end_date)"
   ]
  },
  {
   "cell_type": "markdown",
   "id": "6045156b",
   "metadata": {},
   "source": [
    "## Combined Stocks Dataframe"
   ]
  },
  {
   "cell_type": "code",
   "execution_count": 71,
   "id": "ab75fa83",
   "metadata": {},
   "outputs": [
    {
     "data": {
      "text/html": [
       "<div>\n",
       "<style scoped>\n",
       "    .dataframe tbody tr th:only-of-type {\n",
       "        vertical-align: middle;\n",
       "    }\n",
       "\n",
       "    .dataframe tbody tr th {\n",
       "        vertical-align: top;\n",
       "    }\n",
       "\n",
       "    .dataframe thead th {\n",
       "        text-align: right;\n",
       "    }\n",
       "</style>\n",
       "<table border=\"1\" class=\"dataframe\">\n",
       "  <thead>\n",
       "    <tr style=\"text-align: right;\">\n",
       "      <th></th>\n",
       "      <th>Open</th>\n",
       "      <th>High</th>\n",
       "      <th>Low</th>\n",
       "      <th>Close</th>\n",
       "      <th>Adj Close</th>\n",
       "      <th>Volume</th>\n",
       "      <th>Open</th>\n",
       "      <th>High</th>\n",
       "      <th>Low</th>\n",
       "      <th>Close</th>\n",
       "      <th>...</th>\n",
       "      <th>Low</th>\n",
       "      <th>Close</th>\n",
       "      <th>Adj Close</th>\n",
       "      <th>Volume</th>\n",
       "      <th>Open</th>\n",
       "      <th>High</th>\n",
       "      <th>Low</th>\n",
       "      <th>Close</th>\n",
       "      <th>Adj Close</th>\n",
       "      <th>Volume</th>\n",
       "    </tr>\n",
       "    <tr>\n",
       "      <th>Date</th>\n",
       "      <th></th>\n",
       "      <th></th>\n",
       "      <th></th>\n",
       "      <th></th>\n",
       "      <th></th>\n",
       "      <th></th>\n",
       "      <th></th>\n",
       "      <th></th>\n",
       "      <th></th>\n",
       "      <th></th>\n",
       "      <th></th>\n",
       "      <th></th>\n",
       "      <th></th>\n",
       "      <th></th>\n",
       "      <th></th>\n",
       "      <th></th>\n",
       "      <th></th>\n",
       "      <th></th>\n",
       "      <th></th>\n",
       "      <th></th>\n",
       "      <th></th>\n",
       "    </tr>\n",
       "  </thead>\n",
       "  <tbody>\n",
       "    <tr>\n",
       "      <th>2018-11-01</th>\n",
       "      <td>54.762501</td>\n",
       "      <td>55.590000</td>\n",
       "      <td>54.202499</td>\n",
       "      <td>55.555000</td>\n",
       "      <td>53.069176</td>\n",
       "      <td>233292800</td>\n",
       "      <td>107.050003</td>\n",
       "      <td>107.320000</td>\n",
       "      <td>105.529999</td>\n",
       "      <td>105.919998</td>\n",
       "      <td>...</td>\n",
       "      <td>78.709877</td>\n",
       "      <td>80.289490</td>\n",
       "      <td>70.550911</td>\n",
       "      <td>8884576</td>\n",
       "      <td>263.470001</td>\n",
       "      <td>273.649994</td>\n",
       "      <td>263.200012</td>\n",
       "      <td>273.149994</td>\n",
       "      <td>250.744156</td>\n",
       "      <td>1808900</td>\n",
       "    </tr>\n",
       "    <tr>\n",
       "      <th>2018-11-02</th>\n",
       "      <td>52.387501</td>\n",
       "      <td>53.412498</td>\n",
       "      <td>51.357498</td>\n",
       "      <td>51.869999</td>\n",
       "      <td>49.549053</td>\n",
       "      <td>365314800</td>\n",
       "      <td>106.480003</td>\n",
       "      <td>107.320000</td>\n",
       "      <td>104.980003</td>\n",
       "      <td>106.160004</td>\n",
       "      <td>...</td>\n",
       "      <td>79.433609</td>\n",
       "      <td>80.195091</td>\n",
       "      <td>70.467979</td>\n",
       "      <td>9839247</td>\n",
       "      <td>274.529999</td>\n",
       "      <td>277.839996</td>\n",
       "      <td>272.220001</td>\n",
       "      <td>273.799988</td>\n",
       "      <td>251.340897</td>\n",
       "      <td>1835100</td>\n",
       "    </tr>\n",
       "    <tr>\n",
       "      <th>2018-11-05</th>\n",
       "      <td>51.075001</td>\n",
       "      <td>51.097500</td>\n",
       "      <td>49.542500</td>\n",
       "      <td>50.397499</td>\n",
       "      <td>48.142441</td>\n",
       "      <td>264654800</td>\n",
       "      <td>106.370003</td>\n",
       "      <td>107.739998</td>\n",
       "      <td>105.900002</td>\n",
       "      <td>107.510002</td>\n",
       "      <td>...</td>\n",
       "      <td>79.578354</td>\n",
       "      <td>80.081810</td>\n",
       "      <td>70.368423</td>\n",
       "      <td>8702953</td>\n",
       "      <td>275.369995</td>\n",
       "      <td>280.260010</td>\n",
       "      <td>274.730011</td>\n",
       "      <td>279.440002</td>\n",
       "      <td>256.518280</td>\n",
       "      <td>1296400</td>\n",
       "    </tr>\n",
       "    <tr>\n",
       "      <th>2018-11-06</th>\n",
       "      <td>50.480000</td>\n",
       "      <td>51.180000</td>\n",
       "      <td>50.422501</td>\n",
       "      <td>50.942501</td>\n",
       "      <td>48.663063</td>\n",
       "      <td>127531600</td>\n",
       "      <td>107.379997</td>\n",
       "      <td>108.839996</td>\n",
       "      <td>106.279999</td>\n",
       "      <td>107.720001</td>\n",
       "      <td>...</td>\n",
       "      <td>79.710510</td>\n",
       "      <td>80.516045</td>\n",
       "      <td>70.749992</td>\n",
       "      <td>5171083</td>\n",
       "      <td>278.399994</td>\n",
       "      <td>283.200012</td>\n",
       "      <td>278.399994</td>\n",
       "      <td>282.739990</td>\n",
       "      <td>259.547577</td>\n",
       "      <td>1926800</td>\n",
       "    </tr>\n",
       "    <tr>\n",
       "      <th>2018-11-07</th>\n",
       "      <td>51.492500</td>\n",
       "      <td>52.514999</td>\n",
       "      <td>51.032501</td>\n",
       "      <td>52.487499</td>\n",
       "      <td>50.138931</td>\n",
       "      <td>133697600</td>\n",
       "      <td>109.440002</td>\n",
       "      <td>112.239998</td>\n",
       "      <td>109.400002</td>\n",
       "      <td>111.959999</td>\n",
       "      <td>...</td>\n",
       "      <td>80.578979</td>\n",
       "      <td>82.158592</td>\n",
       "      <td>72.193306</td>\n",
       "      <td>8579329</td>\n",
       "      <td>284.000000</td>\n",
       "      <td>285.970001</td>\n",
       "      <td>280.390015</td>\n",
       "      <td>285.910004</td>\n",
       "      <td>262.457550</td>\n",
       "      <td>1527200</td>\n",
       "    </tr>\n",
       "  </tbody>\n",
       "</table>\n",
       "<p>5 rows × 108 columns</p>\n",
       "</div>"
      ],
      "text/plain": [
       "                 Open       High        Low      Close  Adj Close     Volume  \\\n",
       "Date                                                                           \n",
       "2018-11-01  54.762501  55.590000  54.202499  55.555000  53.069176  233292800   \n",
       "2018-11-02  52.387501  53.412498  51.357498  51.869999  49.549053  365314800   \n",
       "2018-11-05  51.075001  51.097500  49.542500  50.397499  48.142441  264654800   \n",
       "2018-11-06  50.480000  51.180000  50.422501  50.942501  48.663063  127531600   \n",
       "2018-11-07  51.492500  52.514999  51.032501  52.487499  50.138931  133697600   \n",
       "\n",
       "                  Open        High         Low       Close  ...        Low  \\\n",
       "Date                                                        ...              \n",
       "2018-11-01  107.050003  107.320000  105.529999  105.919998  ...  78.709877   \n",
       "2018-11-02  106.480003  107.320000  104.980003  106.160004  ...  79.433609   \n",
       "2018-11-05  106.370003  107.739998  105.900002  107.510002  ...  79.578354   \n",
       "2018-11-06  107.379997  108.839996  106.279999  107.720001  ...  79.710510   \n",
       "2018-11-07  109.440002  112.239998  109.400002  111.959999  ...  80.578979   \n",
       "\n",
       "                Close  Adj Close   Volume        Open        High         Low  \\\n",
       "Date                                                                            \n",
       "2018-11-01  80.289490  70.550911  8884576  263.470001  273.649994  263.200012   \n",
       "2018-11-02  80.195091  70.467979  9839247  274.529999  277.839996  272.220001   \n",
       "2018-11-05  80.081810  70.368423  8702953  275.369995  280.260010  274.730011   \n",
       "2018-11-06  80.516045  70.749992  5171083  278.399994  283.200012  278.399994   \n",
       "2018-11-07  82.158592  72.193306  8579329  284.000000  285.970001  280.390015   \n",
       "\n",
       "                 Close   Adj Close   Volume  \n",
       "Date                                         \n",
       "2018-11-01  273.149994  250.744156  1808900  \n",
       "2018-11-02  273.799988  251.340897  1835100  \n",
       "2018-11-05  279.440002  256.518280  1296400  \n",
       "2018-11-06  282.739990  259.547577  1926800  \n",
       "2018-11-07  285.910004  262.457550  1527200  \n",
       "\n",
       "[5 rows x 108 columns]"
      ]
     },
     "execution_count": 71,
     "metadata": {},
     "output_type": "execute_result"
    }
   ],
   "source": [
    "# Combine all stocks into a single Dataframe \n",
    "custom_portfolio_df = pd.concat([data_AAPL,data_MSFT,data_GOOG,data_JNJ,data_PFE,data_UNH,data_JPM,data_BAC,data_V,data_AMZN,data_NKE,data_DIS,data_XOM,data_FSLR,data_NEE,data_LMT,data_RTX,data_NOC], axis=\"columns\", join=\"inner\")\n",
    "custom_portfolio_df.head()"
   ]
  },
  {
   "cell_type": "code",
   "execution_count": 72,
   "id": "d7cf0814",
   "metadata": {},
   "outputs": [
    {
     "data": {
      "text/html": [
       "<div>\n",
       "<style scoped>\n",
       "    .dataframe tbody tr th:only-of-type {\n",
       "        vertical-align: middle;\n",
       "    }\n",
       "\n",
       "    .dataframe tbody tr th {\n",
       "        vertical-align: top;\n",
       "    }\n",
       "\n",
       "    .dataframe thead th {\n",
       "        text-align: right;\n",
       "    }\n",
       "</style>\n",
       "<table border=\"1\" class=\"dataframe\">\n",
       "  <thead>\n",
       "    <tr style=\"text-align: right;\">\n",
       "      <th></th>\n",
       "      <th>AAPL</th>\n",
       "      <th>MSFT</th>\n",
       "      <th>GOOG</th>\n",
       "      <th>JNJ</th>\n",
       "      <th>PFE</th>\n",
       "      <th>UNH</th>\n",
       "      <th>JPM</th>\n",
       "      <th>BAC</th>\n",
       "      <th>V</th>\n",
       "      <th>AMZN</th>\n",
       "      <th>NKE</th>\n",
       "      <th>DIS</th>\n",
       "      <th>XOM</th>\n",
       "      <th>FSLR</th>\n",
       "      <th>NEE</th>\n",
       "      <th>LMT</th>\n",
       "      <th>RTX</th>\n",
       "      <th>NOC</th>\n",
       "    </tr>\n",
       "    <tr>\n",
       "      <th>Date</th>\n",
       "      <th></th>\n",
       "      <th></th>\n",
       "      <th></th>\n",
       "      <th></th>\n",
       "      <th></th>\n",
       "      <th></th>\n",
       "      <th></th>\n",
       "      <th></th>\n",
       "      <th></th>\n",
       "      <th></th>\n",
       "      <th></th>\n",
       "      <th></th>\n",
       "      <th></th>\n",
       "      <th></th>\n",
       "      <th></th>\n",
       "      <th></th>\n",
       "      <th></th>\n",
       "      <th></th>\n",
       "    </tr>\n",
       "  </thead>\n",
       "  <tbody>\n",
       "    <tr>\n",
       "      <th>2018-11-01</th>\n",
       "      <td>55.555000</td>\n",
       "      <td>105.919998</td>\n",
       "      <td>53.500000</td>\n",
       "      <td>140.820007</td>\n",
       "      <td>41.432636</td>\n",
       "      <td>260.929993</td>\n",
       "      <td>108.980003</td>\n",
       "      <td>27.809999</td>\n",
       "      <td>140.830002</td>\n",
       "      <td>83.276497</td>\n",
       "      <td>76.790001</td>\n",
       "      <td>116.099998</td>\n",
       "      <td>80.669998</td>\n",
       "      <td>41.459999</td>\n",
       "      <td>42.617500</td>\n",
       "      <td>299.420013</td>\n",
       "      <td>80.289490</td>\n",
       "      <td>273.149994</td>\n",
       "    </tr>\n",
       "    <tr>\n",
       "      <th>2018-11-02</th>\n",
       "      <td>51.869999</td>\n",
       "      <td>106.160004</td>\n",
       "      <td>52.889500</td>\n",
       "      <td>140.679993</td>\n",
       "      <td>40.730549</td>\n",
       "      <td>261.010010</td>\n",
       "      <td>108.379997</td>\n",
       "      <td>27.889999</td>\n",
       "      <td>139.779999</td>\n",
       "      <td>83.276497</td>\n",
       "      <td>76.580002</td>\n",
       "      <td>115.180000</td>\n",
       "      <td>81.949997</td>\n",
       "      <td>43.000000</td>\n",
       "      <td>42.037498</td>\n",
       "      <td>299.279999</td>\n",
       "      <td>80.195091</td>\n",
       "      <td>273.799988</td>\n",
       "    </tr>\n",
       "    <tr>\n",
       "      <th>2018-11-05</th>\n",
       "      <td>50.397499</td>\n",
       "      <td>107.510002</td>\n",
       "      <td>52.004501</td>\n",
       "      <td>142.199997</td>\n",
       "      <td>41.290321</td>\n",
       "      <td>261.010010</td>\n",
       "      <td>109.089996</td>\n",
       "      <td>28.059999</td>\n",
       "      <td>139.800003</td>\n",
       "      <td>81.389999</td>\n",
       "      <td>77.529999</td>\n",
       "      <td>115.449997</td>\n",
       "      <td>81.639999</td>\n",
       "      <td>43.930000</td>\n",
       "      <td>42.677502</td>\n",
       "      <td>303.209991</td>\n",
       "      <td>80.081810</td>\n",
       "      <td>279.440002</td>\n",
       "    </tr>\n",
       "    <tr>\n",
       "      <th>2018-11-06</th>\n",
       "      <td>50.942501</td>\n",
       "      <td>107.720001</td>\n",
       "      <td>52.790501</td>\n",
       "      <td>142.570007</td>\n",
       "      <td>40.806454</td>\n",
       "      <td>263.540009</td>\n",
       "      <td>109.599998</td>\n",
       "      <td>28.209999</td>\n",
       "      <td>140.789993</td>\n",
       "      <td>82.140503</td>\n",
       "      <td>76.570000</td>\n",
       "      <td>116.709999</td>\n",
       "      <td>81.989998</td>\n",
       "      <td>42.830002</td>\n",
       "      <td>42.865002</td>\n",
       "      <td>306.559998</td>\n",
       "      <td>80.516045</td>\n",
       "      <td>282.739990</td>\n",
       "    </tr>\n",
       "    <tr>\n",
       "      <th>2018-11-07</th>\n",
       "      <td>52.487499</td>\n",
       "      <td>111.959999</td>\n",
       "      <td>54.669498</td>\n",
       "      <td>144.750000</td>\n",
       "      <td>42.125237</td>\n",
       "      <td>274.630005</td>\n",
       "      <td>111.480003</td>\n",
       "      <td>28.540001</td>\n",
       "      <td>144.779999</td>\n",
       "      <td>87.774498</td>\n",
       "      <td>77.970001</td>\n",
       "      <td>117.050003</td>\n",
       "      <td>83.029999</td>\n",
       "      <td>44.169998</td>\n",
       "      <td>43.384998</td>\n",
       "      <td>309.820007</td>\n",
       "      <td>82.158592</td>\n",
       "      <td>285.910004</td>\n",
       "    </tr>\n",
       "    <tr>\n",
       "      <th>...</th>\n",
       "      <td>...</td>\n",
       "      <td>...</td>\n",
       "      <td>...</td>\n",
       "      <td>...</td>\n",
       "      <td>...</td>\n",
       "      <td>...</td>\n",
       "      <td>...</td>\n",
       "      <td>...</td>\n",
       "      <td>...</td>\n",
       "      <td>...</td>\n",
       "      <td>...</td>\n",
       "      <td>...</td>\n",
       "      <td>...</td>\n",
       "      <td>...</td>\n",
       "      <td>...</td>\n",
       "      <td>...</td>\n",
       "      <td>...</td>\n",
       "      <td>...</td>\n",
       "    </tr>\n",
       "    <tr>\n",
       "      <th>2019-10-24</th>\n",
       "      <td>60.895000</td>\n",
       "      <td>139.940002</td>\n",
       "      <td>63.049500</td>\n",
       "      <td>127.500000</td>\n",
       "      <td>34.525616</td>\n",
       "      <td>244.509995</td>\n",
       "      <td>125.029999</td>\n",
       "      <td>31.360001</td>\n",
       "      <td>176.160004</td>\n",
       "      <td>89.039001</td>\n",
       "      <td>91.500000</td>\n",
       "      <td>130.259995</td>\n",
       "      <td>69.089996</td>\n",
       "      <td>55.889999</td>\n",
       "      <td>59.387501</td>\n",
       "      <td>374.739990</td>\n",
       "      <td>90.270607</td>\n",
       "      <td>356.910004</td>\n",
       "    </tr>\n",
       "    <tr>\n",
       "      <th>2019-10-25</th>\n",
       "      <td>61.645000</td>\n",
       "      <td>140.729996</td>\n",
       "      <td>63.256500</td>\n",
       "      <td>128.350006</td>\n",
       "      <td>34.886147</td>\n",
       "      <td>244.910004</td>\n",
       "      <td>126.029999</td>\n",
       "      <td>31.719999</td>\n",
       "      <td>177.850006</td>\n",
       "      <td>88.066498</td>\n",
       "      <td>90.919998</td>\n",
       "      <td>130.899994</td>\n",
       "      <td>69.250000</td>\n",
       "      <td>52.660000</td>\n",
       "      <td>59.220001</td>\n",
       "      <td>370.730011</td>\n",
       "      <td>89.968536</td>\n",
       "      <td>345.000000</td>\n",
       "    </tr>\n",
       "    <tr>\n",
       "      <th>2019-10-28</th>\n",
       "      <td>62.262501</td>\n",
       "      <td>144.190002</td>\n",
       "      <td>64.500000</td>\n",
       "      <td>129.179993</td>\n",
       "      <td>35.370018</td>\n",
       "      <td>247.050003</td>\n",
       "      <td>126.510002</td>\n",
       "      <td>31.840000</td>\n",
       "      <td>179.839996</td>\n",
       "      <td>88.853996</td>\n",
       "      <td>90.849998</td>\n",
       "      <td>130.529999</td>\n",
       "      <td>68.639999</td>\n",
       "      <td>53.240002</td>\n",
       "      <td>58.307499</td>\n",
       "      <td>371.839996</td>\n",
       "      <td>90.018883</td>\n",
       "      <td>346.529999</td>\n",
       "    </tr>\n",
       "    <tr>\n",
       "      <th>2019-10-29</th>\n",
       "      <td>60.822498</td>\n",
       "      <td>142.830002</td>\n",
       "      <td>63.131001</td>\n",
       "      <td>129.119995</td>\n",
       "      <td>36.252373</td>\n",
       "      <td>252.289993</td>\n",
       "      <td>126.430000</td>\n",
       "      <td>32.070000</td>\n",
       "      <td>177.630005</td>\n",
       "      <td>88.135498</td>\n",
       "      <td>89.279999</td>\n",
       "      <td>129.479996</td>\n",
       "      <td>68.440002</td>\n",
       "      <td>53.290001</td>\n",
       "      <td>58.150002</td>\n",
       "      <td>371.100006</td>\n",
       "      <td>89.364380</td>\n",
       "      <td>347.170013</td>\n",
       "    </tr>\n",
       "    <tr>\n",
       "      <th>2019-10-30</th>\n",
       "      <td>60.814999</td>\n",
       "      <td>144.610001</td>\n",
       "      <td>63.064499</td>\n",
       "      <td>132.839996</td>\n",
       "      <td>36.508537</td>\n",
       "      <td>254.800003</td>\n",
       "      <td>125.730003</td>\n",
       "      <td>31.620001</td>\n",
       "      <td>179.250000</td>\n",
       "      <td>88.999496</td>\n",
       "      <td>90.190002</td>\n",
       "      <td>129.600006</td>\n",
       "      <td>67.720001</td>\n",
       "      <td>51.849998</td>\n",
       "      <td>58.865002</td>\n",
       "      <td>378.640015</td>\n",
       "      <td>90.522339</td>\n",
       "      <td>354.079987</td>\n",
       "    </tr>\n",
       "  </tbody>\n",
       "</table>\n",
       "<p>250 rows × 18 columns</p>\n",
       "</div>"
      ],
      "text/plain": [
       "                 AAPL        MSFT       GOOG         JNJ        PFE  \\\n",
       "Date                                                                  \n",
       "2018-11-01  55.555000  105.919998  53.500000  140.820007  41.432636   \n",
       "2018-11-02  51.869999  106.160004  52.889500  140.679993  40.730549   \n",
       "2018-11-05  50.397499  107.510002  52.004501  142.199997  41.290321   \n",
       "2018-11-06  50.942501  107.720001  52.790501  142.570007  40.806454   \n",
       "2018-11-07  52.487499  111.959999  54.669498  144.750000  42.125237   \n",
       "...               ...         ...        ...         ...        ...   \n",
       "2019-10-24  60.895000  139.940002  63.049500  127.500000  34.525616   \n",
       "2019-10-25  61.645000  140.729996  63.256500  128.350006  34.886147   \n",
       "2019-10-28  62.262501  144.190002  64.500000  129.179993  35.370018   \n",
       "2019-10-29  60.822498  142.830002  63.131001  129.119995  36.252373   \n",
       "2019-10-30  60.814999  144.610001  63.064499  132.839996  36.508537   \n",
       "\n",
       "                   UNH         JPM        BAC           V       AMZN  \\\n",
       "Date                                                                   \n",
       "2018-11-01  260.929993  108.980003  27.809999  140.830002  83.276497   \n",
       "2018-11-02  261.010010  108.379997  27.889999  139.779999  83.276497   \n",
       "2018-11-05  261.010010  109.089996  28.059999  139.800003  81.389999   \n",
       "2018-11-06  263.540009  109.599998  28.209999  140.789993  82.140503   \n",
       "2018-11-07  274.630005  111.480003  28.540001  144.779999  87.774498   \n",
       "...                ...         ...        ...         ...        ...   \n",
       "2019-10-24  244.509995  125.029999  31.360001  176.160004  89.039001   \n",
       "2019-10-25  244.910004  126.029999  31.719999  177.850006  88.066498   \n",
       "2019-10-28  247.050003  126.510002  31.840000  179.839996  88.853996   \n",
       "2019-10-29  252.289993  126.430000  32.070000  177.630005  88.135498   \n",
       "2019-10-30  254.800003  125.730003  31.620001  179.250000  88.999496   \n",
       "\n",
       "                  NKE         DIS        XOM       FSLR        NEE  \\\n",
       "Date                                                                 \n",
       "2018-11-01  76.790001  116.099998  80.669998  41.459999  42.617500   \n",
       "2018-11-02  76.580002  115.180000  81.949997  43.000000  42.037498   \n",
       "2018-11-05  77.529999  115.449997  81.639999  43.930000  42.677502   \n",
       "2018-11-06  76.570000  116.709999  81.989998  42.830002  42.865002   \n",
       "2018-11-07  77.970001  117.050003  83.029999  44.169998  43.384998   \n",
       "...               ...         ...        ...        ...        ...   \n",
       "2019-10-24  91.500000  130.259995  69.089996  55.889999  59.387501   \n",
       "2019-10-25  90.919998  130.899994  69.250000  52.660000  59.220001   \n",
       "2019-10-28  90.849998  130.529999  68.639999  53.240002  58.307499   \n",
       "2019-10-29  89.279999  129.479996  68.440002  53.290001  58.150002   \n",
       "2019-10-30  90.190002  129.600006  67.720001  51.849998  58.865002   \n",
       "\n",
       "                   LMT        RTX         NOC  \n",
       "Date                                           \n",
       "2018-11-01  299.420013  80.289490  273.149994  \n",
       "2018-11-02  299.279999  80.195091  273.799988  \n",
       "2018-11-05  303.209991  80.081810  279.440002  \n",
       "2018-11-06  306.559998  80.516045  282.739990  \n",
       "2018-11-07  309.820007  82.158592  285.910004  \n",
       "...                ...        ...         ...  \n",
       "2019-10-24  374.739990  90.270607  356.910004  \n",
       "2019-10-25  370.730011  89.968536  345.000000  \n",
       "2019-10-28  371.839996  90.018883  346.529999  \n",
       "2019-10-29  371.100006  89.364380  347.170013  \n",
       "2019-10-30  378.640015  90.522339  354.079987  \n",
       "\n",
       "[250 rows x 18 columns]"
      ]
     },
     "execution_count": 72,
     "metadata": {},
     "output_type": "execute_result"
    }
   ],
   "source": [
    "small_df=custom_portfolio_df['Close']\n",
    "small_df.columns=['AAPL','MSFT', 'GOOG', 'JNJ','PFE','UNH','JPM','BAC','V','AMZN','NKE','DIS','XOM','FSLR','NEE','LMT','RTX','NOC']\n",
    "small_df"
   ]
  },
  {
   "cell_type": "markdown",
   "id": "b0fc1c0d",
   "metadata": {},
   "source": [
    "### Technology Dataframe"
   ]
  },
  {
   "cell_type": "code",
   "execution_count": 73,
   "id": "830368e1",
   "metadata": {},
   "outputs": [
    {
     "data": {
      "text/html": [
       "<div>\n",
       "<style scoped>\n",
       "    .dataframe tbody tr th:only-of-type {\n",
       "        vertical-align: middle;\n",
       "    }\n",
       "\n",
       "    .dataframe tbody tr th {\n",
       "        vertical-align: top;\n",
       "    }\n",
       "\n",
       "    .dataframe thead th {\n",
       "        text-align: right;\n",
       "    }\n",
       "</style>\n",
       "<table border=\"1\" class=\"dataframe\">\n",
       "  <thead>\n",
       "    <tr style=\"text-align: right;\">\n",
       "      <th></th>\n",
       "      <th>AAPL</th>\n",
       "      <th>MSFT</th>\n",
       "      <th>GOOG</th>\n",
       "    </tr>\n",
       "    <tr>\n",
       "      <th>Date</th>\n",
       "      <th></th>\n",
       "      <th></th>\n",
       "      <th></th>\n",
       "    </tr>\n",
       "  </thead>\n",
       "  <tbody>\n",
       "    <tr>\n",
       "      <th>2018-11-01</th>\n",
       "      <td>55.555000</td>\n",
       "      <td>105.919998</td>\n",
       "      <td>53.500000</td>\n",
       "    </tr>\n",
       "    <tr>\n",
       "      <th>2018-11-02</th>\n",
       "      <td>51.869999</td>\n",
       "      <td>106.160004</td>\n",
       "      <td>52.889500</td>\n",
       "    </tr>\n",
       "    <tr>\n",
       "      <th>2018-11-05</th>\n",
       "      <td>50.397499</td>\n",
       "      <td>107.510002</td>\n",
       "      <td>52.004501</td>\n",
       "    </tr>\n",
       "    <tr>\n",
       "      <th>2018-11-06</th>\n",
       "      <td>50.942501</td>\n",
       "      <td>107.720001</td>\n",
       "      <td>52.790501</td>\n",
       "    </tr>\n",
       "    <tr>\n",
       "      <th>2018-11-07</th>\n",
       "      <td>52.487499</td>\n",
       "      <td>111.959999</td>\n",
       "      <td>54.669498</td>\n",
       "    </tr>\n",
       "    <tr>\n",
       "      <th>...</th>\n",
       "      <td>...</td>\n",
       "      <td>...</td>\n",
       "      <td>...</td>\n",
       "    </tr>\n",
       "    <tr>\n",
       "      <th>2019-10-24</th>\n",
       "      <td>60.895000</td>\n",
       "      <td>139.940002</td>\n",
       "      <td>63.049500</td>\n",
       "    </tr>\n",
       "    <tr>\n",
       "      <th>2019-10-25</th>\n",
       "      <td>61.645000</td>\n",
       "      <td>140.729996</td>\n",
       "      <td>63.256500</td>\n",
       "    </tr>\n",
       "    <tr>\n",
       "      <th>2019-10-28</th>\n",
       "      <td>62.262501</td>\n",
       "      <td>144.190002</td>\n",
       "      <td>64.500000</td>\n",
       "    </tr>\n",
       "    <tr>\n",
       "      <th>2019-10-29</th>\n",
       "      <td>60.822498</td>\n",
       "      <td>142.830002</td>\n",
       "      <td>63.131001</td>\n",
       "    </tr>\n",
       "    <tr>\n",
       "      <th>2019-10-30</th>\n",
       "      <td>60.814999</td>\n",
       "      <td>144.610001</td>\n",
       "      <td>63.064499</td>\n",
       "    </tr>\n",
       "  </tbody>\n",
       "</table>\n",
       "<p>250 rows × 3 columns</p>\n",
       "</div>"
      ],
      "text/plain": [
       "                 AAPL        MSFT       GOOG\n",
       "Date                                        \n",
       "2018-11-01  55.555000  105.919998  53.500000\n",
       "2018-11-02  51.869999  106.160004  52.889500\n",
       "2018-11-05  50.397499  107.510002  52.004501\n",
       "2018-11-06  50.942501  107.720001  52.790501\n",
       "2018-11-07  52.487499  111.959999  54.669498\n",
       "...               ...         ...        ...\n",
       "2019-10-24  60.895000  139.940002  63.049500\n",
       "2019-10-25  61.645000  140.729996  63.256500\n",
       "2019-10-28  62.262501  144.190002  64.500000\n",
       "2019-10-29  60.822498  142.830002  63.131001\n",
       "2019-10-30  60.814999  144.610001  63.064499\n",
       "\n",
       "[250 rows x 3 columns]"
      ]
     },
     "execution_count": 73,
     "metadata": {},
     "output_type": "execute_result"
    }
   ],
   "source": [
    "tech_df=small_df[['AAPL','MSFT','GOOG']]\n",
    "tech_df"
   ]
  },
  {
   "cell_type": "markdown",
   "id": "33f6cff9",
   "metadata": {},
   "source": [
    "### Healthcare Dataframe"
   ]
  },
  {
   "cell_type": "code",
   "execution_count": 74,
   "id": "9acf36f1",
   "metadata": {},
   "outputs": [
    {
     "data": {
      "text/html": [
       "<div>\n",
       "<style scoped>\n",
       "    .dataframe tbody tr th:only-of-type {\n",
       "        vertical-align: middle;\n",
       "    }\n",
       "\n",
       "    .dataframe tbody tr th {\n",
       "        vertical-align: top;\n",
       "    }\n",
       "\n",
       "    .dataframe thead th {\n",
       "        text-align: right;\n",
       "    }\n",
       "</style>\n",
       "<table border=\"1\" class=\"dataframe\">\n",
       "  <thead>\n",
       "    <tr style=\"text-align: right;\">\n",
       "      <th></th>\n",
       "      <th>JNJ</th>\n",
       "      <th>PFE</th>\n",
       "      <th>UNH</th>\n",
       "    </tr>\n",
       "    <tr>\n",
       "      <th>Date</th>\n",
       "      <th></th>\n",
       "      <th></th>\n",
       "      <th></th>\n",
       "    </tr>\n",
       "  </thead>\n",
       "  <tbody>\n",
       "    <tr>\n",
       "      <th>2018-11-01</th>\n",
       "      <td>140.820007</td>\n",
       "      <td>41.432636</td>\n",
       "      <td>260.929993</td>\n",
       "    </tr>\n",
       "    <tr>\n",
       "      <th>2018-11-02</th>\n",
       "      <td>140.679993</td>\n",
       "      <td>40.730549</td>\n",
       "      <td>261.010010</td>\n",
       "    </tr>\n",
       "    <tr>\n",
       "      <th>2018-11-05</th>\n",
       "      <td>142.199997</td>\n",
       "      <td>41.290321</td>\n",
       "      <td>261.010010</td>\n",
       "    </tr>\n",
       "    <tr>\n",
       "      <th>2018-11-06</th>\n",
       "      <td>142.570007</td>\n",
       "      <td>40.806454</td>\n",
       "      <td>263.540009</td>\n",
       "    </tr>\n",
       "    <tr>\n",
       "      <th>2018-11-07</th>\n",
       "      <td>144.750000</td>\n",
       "      <td>42.125237</td>\n",
       "      <td>274.630005</td>\n",
       "    </tr>\n",
       "    <tr>\n",
       "      <th>...</th>\n",
       "      <td>...</td>\n",
       "      <td>...</td>\n",
       "      <td>...</td>\n",
       "    </tr>\n",
       "    <tr>\n",
       "      <th>2019-10-24</th>\n",
       "      <td>127.500000</td>\n",
       "      <td>34.525616</td>\n",
       "      <td>244.509995</td>\n",
       "    </tr>\n",
       "    <tr>\n",
       "      <th>2019-10-25</th>\n",
       "      <td>128.350006</td>\n",
       "      <td>34.886147</td>\n",
       "      <td>244.910004</td>\n",
       "    </tr>\n",
       "    <tr>\n",
       "      <th>2019-10-28</th>\n",
       "      <td>129.179993</td>\n",
       "      <td>35.370018</td>\n",
       "      <td>247.050003</td>\n",
       "    </tr>\n",
       "    <tr>\n",
       "      <th>2019-10-29</th>\n",
       "      <td>129.119995</td>\n",
       "      <td>36.252373</td>\n",
       "      <td>252.289993</td>\n",
       "    </tr>\n",
       "    <tr>\n",
       "      <th>2019-10-30</th>\n",
       "      <td>132.839996</td>\n",
       "      <td>36.508537</td>\n",
       "      <td>254.800003</td>\n",
       "    </tr>\n",
       "  </tbody>\n",
       "</table>\n",
       "<p>250 rows × 3 columns</p>\n",
       "</div>"
      ],
      "text/plain": [
       "                   JNJ        PFE         UNH\n",
       "Date                                         \n",
       "2018-11-01  140.820007  41.432636  260.929993\n",
       "2018-11-02  140.679993  40.730549  261.010010\n",
       "2018-11-05  142.199997  41.290321  261.010010\n",
       "2018-11-06  142.570007  40.806454  263.540009\n",
       "2018-11-07  144.750000  42.125237  274.630005\n",
       "...                ...        ...         ...\n",
       "2019-10-24  127.500000  34.525616  244.509995\n",
       "2019-10-25  128.350006  34.886147  244.910004\n",
       "2019-10-28  129.179993  35.370018  247.050003\n",
       "2019-10-29  129.119995  36.252373  252.289993\n",
       "2019-10-30  132.839996  36.508537  254.800003\n",
       "\n",
       "[250 rows x 3 columns]"
      ]
     },
     "execution_count": 74,
     "metadata": {},
     "output_type": "execute_result"
    }
   ],
   "source": [
    "health_df=small_df[['JNJ','PFE','UNH']]\n",
    "health_df"
   ]
  },
  {
   "cell_type": "markdown",
   "id": "f9df2883",
   "metadata": {},
   "source": [
    "### Financials Dataframe"
   ]
  },
  {
   "cell_type": "code",
   "execution_count": 75,
   "id": "6e6a96b0",
   "metadata": {},
   "outputs": [
    {
     "data": {
      "text/html": [
       "<div>\n",
       "<style scoped>\n",
       "    .dataframe tbody tr th:only-of-type {\n",
       "        vertical-align: middle;\n",
       "    }\n",
       "\n",
       "    .dataframe tbody tr th {\n",
       "        vertical-align: top;\n",
       "    }\n",
       "\n",
       "    .dataframe thead th {\n",
       "        text-align: right;\n",
       "    }\n",
       "</style>\n",
       "<table border=\"1\" class=\"dataframe\">\n",
       "  <thead>\n",
       "    <tr style=\"text-align: right;\">\n",
       "      <th></th>\n",
       "      <th>JPM</th>\n",
       "      <th>BAC</th>\n",
       "      <th>V</th>\n",
       "    </tr>\n",
       "    <tr>\n",
       "      <th>Date</th>\n",
       "      <th></th>\n",
       "      <th></th>\n",
       "      <th></th>\n",
       "    </tr>\n",
       "  </thead>\n",
       "  <tbody>\n",
       "    <tr>\n",
       "      <th>2018-11-01</th>\n",
       "      <td>108.980003</td>\n",
       "      <td>27.809999</td>\n",
       "      <td>140.830002</td>\n",
       "    </tr>\n",
       "    <tr>\n",
       "      <th>2018-11-02</th>\n",
       "      <td>108.379997</td>\n",
       "      <td>27.889999</td>\n",
       "      <td>139.779999</td>\n",
       "    </tr>\n",
       "    <tr>\n",
       "      <th>2018-11-05</th>\n",
       "      <td>109.089996</td>\n",
       "      <td>28.059999</td>\n",
       "      <td>139.800003</td>\n",
       "    </tr>\n",
       "    <tr>\n",
       "      <th>2018-11-06</th>\n",
       "      <td>109.599998</td>\n",
       "      <td>28.209999</td>\n",
       "      <td>140.789993</td>\n",
       "    </tr>\n",
       "    <tr>\n",
       "      <th>2018-11-07</th>\n",
       "      <td>111.480003</td>\n",
       "      <td>28.540001</td>\n",
       "      <td>144.779999</td>\n",
       "    </tr>\n",
       "    <tr>\n",
       "      <th>...</th>\n",
       "      <td>...</td>\n",
       "      <td>...</td>\n",
       "      <td>...</td>\n",
       "    </tr>\n",
       "    <tr>\n",
       "      <th>2019-10-24</th>\n",
       "      <td>125.029999</td>\n",
       "      <td>31.360001</td>\n",
       "      <td>176.160004</td>\n",
       "    </tr>\n",
       "    <tr>\n",
       "      <th>2019-10-25</th>\n",
       "      <td>126.029999</td>\n",
       "      <td>31.719999</td>\n",
       "      <td>177.850006</td>\n",
       "    </tr>\n",
       "    <tr>\n",
       "      <th>2019-10-28</th>\n",
       "      <td>126.510002</td>\n",
       "      <td>31.840000</td>\n",
       "      <td>179.839996</td>\n",
       "    </tr>\n",
       "    <tr>\n",
       "      <th>2019-10-29</th>\n",
       "      <td>126.430000</td>\n",
       "      <td>32.070000</td>\n",
       "      <td>177.630005</td>\n",
       "    </tr>\n",
       "    <tr>\n",
       "      <th>2019-10-30</th>\n",
       "      <td>125.730003</td>\n",
       "      <td>31.620001</td>\n",
       "      <td>179.250000</td>\n",
       "    </tr>\n",
       "  </tbody>\n",
       "</table>\n",
       "<p>250 rows × 3 columns</p>\n",
       "</div>"
      ],
      "text/plain": [
       "                   JPM        BAC           V\n",
       "Date                                         \n",
       "2018-11-01  108.980003  27.809999  140.830002\n",
       "2018-11-02  108.379997  27.889999  139.779999\n",
       "2018-11-05  109.089996  28.059999  139.800003\n",
       "2018-11-06  109.599998  28.209999  140.789993\n",
       "2018-11-07  111.480003  28.540001  144.779999\n",
       "...                ...        ...         ...\n",
       "2019-10-24  125.029999  31.360001  176.160004\n",
       "2019-10-25  126.029999  31.719999  177.850006\n",
       "2019-10-28  126.510002  31.840000  179.839996\n",
       "2019-10-29  126.430000  32.070000  177.630005\n",
       "2019-10-30  125.730003  31.620001  179.250000\n",
       "\n",
       "[250 rows x 3 columns]"
      ]
     },
     "execution_count": 75,
     "metadata": {},
     "output_type": "execute_result"
    }
   ],
   "source": [
    "finance_df=small_df[['JPM','BAC','V']]\n",
    "finance_df"
   ]
  },
  {
   "cell_type": "markdown",
   "id": "bb3bd9c7",
   "metadata": {},
   "source": [
    "### Consumer Discretionary Dataframe"
   ]
  },
  {
   "cell_type": "code",
   "execution_count": 76,
   "id": "aa5e2b55",
   "metadata": {},
   "outputs": [
    {
     "data": {
      "text/html": [
       "<div>\n",
       "<style scoped>\n",
       "    .dataframe tbody tr th:only-of-type {\n",
       "        vertical-align: middle;\n",
       "    }\n",
       "\n",
       "    .dataframe tbody tr th {\n",
       "        vertical-align: top;\n",
       "    }\n",
       "\n",
       "    .dataframe thead th {\n",
       "        text-align: right;\n",
       "    }\n",
       "</style>\n",
       "<table border=\"1\" class=\"dataframe\">\n",
       "  <thead>\n",
       "    <tr style=\"text-align: right;\">\n",
       "      <th></th>\n",
       "      <th>AMZN</th>\n",
       "      <th>NKE</th>\n",
       "      <th>DIS</th>\n",
       "    </tr>\n",
       "    <tr>\n",
       "      <th>Date</th>\n",
       "      <th></th>\n",
       "      <th></th>\n",
       "      <th></th>\n",
       "    </tr>\n",
       "  </thead>\n",
       "  <tbody>\n",
       "    <tr>\n",
       "      <th>2018-11-01</th>\n",
       "      <td>83.276497</td>\n",
       "      <td>76.790001</td>\n",
       "      <td>116.099998</td>\n",
       "    </tr>\n",
       "    <tr>\n",
       "      <th>2018-11-02</th>\n",
       "      <td>83.276497</td>\n",
       "      <td>76.580002</td>\n",
       "      <td>115.180000</td>\n",
       "    </tr>\n",
       "    <tr>\n",
       "      <th>2018-11-05</th>\n",
       "      <td>81.389999</td>\n",
       "      <td>77.529999</td>\n",
       "      <td>115.449997</td>\n",
       "    </tr>\n",
       "    <tr>\n",
       "      <th>2018-11-06</th>\n",
       "      <td>82.140503</td>\n",
       "      <td>76.570000</td>\n",
       "      <td>116.709999</td>\n",
       "    </tr>\n",
       "    <tr>\n",
       "      <th>2018-11-07</th>\n",
       "      <td>87.774498</td>\n",
       "      <td>77.970001</td>\n",
       "      <td>117.050003</td>\n",
       "    </tr>\n",
       "    <tr>\n",
       "      <th>...</th>\n",
       "      <td>...</td>\n",
       "      <td>...</td>\n",
       "      <td>...</td>\n",
       "    </tr>\n",
       "    <tr>\n",
       "      <th>2019-10-24</th>\n",
       "      <td>89.039001</td>\n",
       "      <td>91.500000</td>\n",
       "      <td>130.259995</td>\n",
       "    </tr>\n",
       "    <tr>\n",
       "      <th>2019-10-25</th>\n",
       "      <td>88.066498</td>\n",
       "      <td>90.919998</td>\n",
       "      <td>130.899994</td>\n",
       "    </tr>\n",
       "    <tr>\n",
       "      <th>2019-10-28</th>\n",
       "      <td>88.853996</td>\n",
       "      <td>90.849998</td>\n",
       "      <td>130.529999</td>\n",
       "    </tr>\n",
       "    <tr>\n",
       "      <th>2019-10-29</th>\n",
       "      <td>88.135498</td>\n",
       "      <td>89.279999</td>\n",
       "      <td>129.479996</td>\n",
       "    </tr>\n",
       "    <tr>\n",
       "      <th>2019-10-30</th>\n",
       "      <td>88.999496</td>\n",
       "      <td>90.190002</td>\n",
       "      <td>129.600006</td>\n",
       "    </tr>\n",
       "  </tbody>\n",
       "</table>\n",
       "<p>250 rows × 3 columns</p>\n",
       "</div>"
      ],
      "text/plain": [
       "                 AMZN        NKE         DIS\n",
       "Date                                        \n",
       "2018-11-01  83.276497  76.790001  116.099998\n",
       "2018-11-02  83.276497  76.580002  115.180000\n",
       "2018-11-05  81.389999  77.529999  115.449997\n",
       "2018-11-06  82.140503  76.570000  116.709999\n",
       "2018-11-07  87.774498  77.970001  117.050003\n",
       "...               ...        ...         ...\n",
       "2019-10-24  89.039001  91.500000  130.259995\n",
       "2019-10-25  88.066498  90.919998  130.899994\n",
       "2019-10-28  88.853996  90.849998  130.529999\n",
       "2019-10-29  88.135498  89.279999  129.479996\n",
       "2019-10-30  88.999496  90.190002  129.600006\n",
       "\n",
       "[250 rows x 3 columns]"
      ]
     },
     "execution_count": 76,
     "metadata": {},
     "output_type": "execute_result"
    }
   ],
   "source": [
    "consumer_df=small_df[['AMZN','NKE','DIS']]\n",
    "consumer_df"
   ]
  },
  {
   "cell_type": "markdown",
   "id": "af32c207",
   "metadata": {},
   "source": [
    "### Energy Dataframe "
   ]
  },
  {
   "cell_type": "code",
   "execution_count": 77,
   "id": "b040c8e8",
   "metadata": {},
   "outputs": [
    {
     "data": {
      "text/html": [
       "<div>\n",
       "<style scoped>\n",
       "    .dataframe tbody tr th:only-of-type {\n",
       "        vertical-align: middle;\n",
       "    }\n",
       "\n",
       "    .dataframe tbody tr th {\n",
       "        vertical-align: top;\n",
       "    }\n",
       "\n",
       "    .dataframe thead th {\n",
       "        text-align: right;\n",
       "    }\n",
       "</style>\n",
       "<table border=\"1\" class=\"dataframe\">\n",
       "  <thead>\n",
       "    <tr style=\"text-align: right;\">\n",
       "      <th></th>\n",
       "      <th>XOM</th>\n",
       "      <th>FSLR</th>\n",
       "      <th>NEE</th>\n",
       "    </tr>\n",
       "    <tr>\n",
       "      <th>Date</th>\n",
       "      <th></th>\n",
       "      <th></th>\n",
       "      <th></th>\n",
       "    </tr>\n",
       "  </thead>\n",
       "  <tbody>\n",
       "    <tr>\n",
       "      <th>2018-11-01</th>\n",
       "      <td>80.669998</td>\n",
       "      <td>41.459999</td>\n",
       "      <td>42.617500</td>\n",
       "    </tr>\n",
       "    <tr>\n",
       "      <th>2018-11-02</th>\n",
       "      <td>81.949997</td>\n",
       "      <td>43.000000</td>\n",
       "      <td>42.037498</td>\n",
       "    </tr>\n",
       "    <tr>\n",
       "      <th>2018-11-05</th>\n",
       "      <td>81.639999</td>\n",
       "      <td>43.930000</td>\n",
       "      <td>42.677502</td>\n",
       "    </tr>\n",
       "    <tr>\n",
       "      <th>2018-11-06</th>\n",
       "      <td>81.989998</td>\n",
       "      <td>42.830002</td>\n",
       "      <td>42.865002</td>\n",
       "    </tr>\n",
       "    <tr>\n",
       "      <th>2018-11-07</th>\n",
       "      <td>83.029999</td>\n",
       "      <td>44.169998</td>\n",
       "      <td>43.384998</td>\n",
       "    </tr>\n",
       "    <tr>\n",
       "      <th>...</th>\n",
       "      <td>...</td>\n",
       "      <td>...</td>\n",
       "      <td>...</td>\n",
       "    </tr>\n",
       "    <tr>\n",
       "      <th>2019-10-24</th>\n",
       "      <td>69.089996</td>\n",
       "      <td>55.889999</td>\n",
       "      <td>59.387501</td>\n",
       "    </tr>\n",
       "    <tr>\n",
       "      <th>2019-10-25</th>\n",
       "      <td>69.250000</td>\n",
       "      <td>52.660000</td>\n",
       "      <td>59.220001</td>\n",
       "    </tr>\n",
       "    <tr>\n",
       "      <th>2019-10-28</th>\n",
       "      <td>68.639999</td>\n",
       "      <td>53.240002</td>\n",
       "      <td>58.307499</td>\n",
       "    </tr>\n",
       "    <tr>\n",
       "      <th>2019-10-29</th>\n",
       "      <td>68.440002</td>\n",
       "      <td>53.290001</td>\n",
       "      <td>58.150002</td>\n",
       "    </tr>\n",
       "    <tr>\n",
       "      <th>2019-10-30</th>\n",
       "      <td>67.720001</td>\n",
       "      <td>51.849998</td>\n",
       "      <td>58.865002</td>\n",
       "    </tr>\n",
       "  </tbody>\n",
       "</table>\n",
       "<p>250 rows × 3 columns</p>\n",
       "</div>"
      ],
      "text/plain": [
       "                  XOM       FSLR        NEE\n",
       "Date                                       \n",
       "2018-11-01  80.669998  41.459999  42.617500\n",
       "2018-11-02  81.949997  43.000000  42.037498\n",
       "2018-11-05  81.639999  43.930000  42.677502\n",
       "2018-11-06  81.989998  42.830002  42.865002\n",
       "2018-11-07  83.029999  44.169998  43.384998\n",
       "...               ...        ...        ...\n",
       "2019-10-24  69.089996  55.889999  59.387501\n",
       "2019-10-25  69.250000  52.660000  59.220001\n",
       "2019-10-28  68.639999  53.240002  58.307499\n",
       "2019-10-29  68.440002  53.290001  58.150002\n",
       "2019-10-30  67.720001  51.849998  58.865002\n",
       "\n",
       "[250 rows x 3 columns]"
      ]
     },
     "execution_count": 77,
     "metadata": {},
     "output_type": "execute_result"
    }
   ],
   "source": [
    "energy_df=small_df[['XOM','FSLR','NEE']]\n",
    "energy_df"
   ]
  },
  {
   "cell_type": "markdown",
   "id": "b03a2e73",
   "metadata": {},
   "source": [
    "### Weapons Manufacturing Dataframe "
   ]
  },
  {
   "cell_type": "code",
   "execution_count": 78,
   "id": "38ee2014",
   "metadata": {},
   "outputs": [
    {
     "data": {
      "text/html": [
       "<div>\n",
       "<style scoped>\n",
       "    .dataframe tbody tr th:only-of-type {\n",
       "        vertical-align: middle;\n",
       "    }\n",
       "\n",
       "    .dataframe tbody tr th {\n",
       "        vertical-align: top;\n",
       "    }\n",
       "\n",
       "    .dataframe thead th {\n",
       "        text-align: right;\n",
       "    }\n",
       "</style>\n",
       "<table border=\"1\" class=\"dataframe\">\n",
       "  <thead>\n",
       "    <tr style=\"text-align: right;\">\n",
       "      <th></th>\n",
       "      <th>LMT</th>\n",
       "      <th>RTX</th>\n",
       "      <th>NOC</th>\n",
       "    </tr>\n",
       "    <tr>\n",
       "      <th>Date</th>\n",
       "      <th></th>\n",
       "      <th></th>\n",
       "      <th></th>\n",
       "    </tr>\n",
       "  </thead>\n",
       "  <tbody>\n",
       "    <tr>\n",
       "      <th>2018-11-01</th>\n",
       "      <td>299.420013</td>\n",
       "      <td>80.289490</td>\n",
       "      <td>273.149994</td>\n",
       "    </tr>\n",
       "    <tr>\n",
       "      <th>2018-11-02</th>\n",
       "      <td>299.279999</td>\n",
       "      <td>80.195091</td>\n",
       "      <td>273.799988</td>\n",
       "    </tr>\n",
       "    <tr>\n",
       "      <th>2018-11-05</th>\n",
       "      <td>303.209991</td>\n",
       "      <td>80.081810</td>\n",
       "      <td>279.440002</td>\n",
       "    </tr>\n",
       "    <tr>\n",
       "      <th>2018-11-06</th>\n",
       "      <td>306.559998</td>\n",
       "      <td>80.516045</td>\n",
       "      <td>282.739990</td>\n",
       "    </tr>\n",
       "    <tr>\n",
       "      <th>2018-11-07</th>\n",
       "      <td>309.820007</td>\n",
       "      <td>82.158592</td>\n",
       "      <td>285.910004</td>\n",
       "    </tr>\n",
       "    <tr>\n",
       "      <th>...</th>\n",
       "      <td>...</td>\n",
       "      <td>...</td>\n",
       "      <td>...</td>\n",
       "    </tr>\n",
       "    <tr>\n",
       "      <th>2019-10-24</th>\n",
       "      <td>374.739990</td>\n",
       "      <td>90.270607</td>\n",
       "      <td>356.910004</td>\n",
       "    </tr>\n",
       "    <tr>\n",
       "      <th>2019-10-25</th>\n",
       "      <td>370.730011</td>\n",
       "      <td>89.968536</td>\n",
       "      <td>345.000000</td>\n",
       "    </tr>\n",
       "    <tr>\n",
       "      <th>2019-10-28</th>\n",
       "      <td>371.839996</td>\n",
       "      <td>90.018883</td>\n",
       "      <td>346.529999</td>\n",
       "    </tr>\n",
       "    <tr>\n",
       "      <th>2019-10-29</th>\n",
       "      <td>371.100006</td>\n",
       "      <td>89.364380</td>\n",
       "      <td>347.170013</td>\n",
       "    </tr>\n",
       "    <tr>\n",
       "      <th>2019-10-30</th>\n",
       "      <td>378.640015</td>\n",
       "      <td>90.522339</td>\n",
       "      <td>354.079987</td>\n",
       "    </tr>\n",
       "  </tbody>\n",
       "</table>\n",
       "<p>250 rows × 3 columns</p>\n",
       "</div>"
      ],
      "text/plain": [
       "                   LMT        RTX         NOC\n",
       "Date                                         \n",
       "2018-11-01  299.420013  80.289490  273.149994\n",
       "2018-11-02  299.279999  80.195091  273.799988\n",
       "2018-11-05  303.209991  80.081810  279.440002\n",
       "2018-11-06  306.559998  80.516045  282.739990\n",
       "2018-11-07  309.820007  82.158592  285.910004\n",
       "...                ...        ...         ...\n",
       "2019-10-24  374.739990  90.270607  356.910004\n",
       "2019-10-25  370.730011  89.968536  345.000000\n",
       "2019-10-28  371.839996  90.018883  346.529999\n",
       "2019-10-29  371.100006  89.364380  347.170013\n",
       "2019-10-30  378.640015  90.522339  354.079987\n",
       "\n",
       "[250 rows x 3 columns]"
      ]
     },
     "execution_count": 78,
     "metadata": {},
     "output_type": "execute_result"
    }
   ],
   "source": [
    "weapons_df=small_df[['LMT','RTX','NOC']]\n",
    "weapons_df"
   ]
  },
  {
   "cell_type": "markdown",
   "id": "adddb6d9",
   "metadata": {},
   "source": [
    "# Calculate: Daily Returns and Weighted Returns"
   ]
  },
  {
   "cell_type": "code",
   "execution_count": 79,
   "id": "696e6920",
   "metadata": {},
   "outputs": [
    {
     "name": "stdout",
     "output_type": "stream",
     "text": [
      "                AAPL      MSFT      GOOG       JNJ       PFE       UNH  \\\n",
      "Date                                                                     \n",
      "2018-11-02 -0.066331  0.002266 -0.011411 -0.000994 -0.016945  0.000307   \n",
      "2018-11-05 -0.028388  0.012717 -0.016733  0.010805  0.013743  0.000000   \n",
      "2018-11-06  0.010814  0.001953  0.015114  0.002602 -0.011719  0.009693   \n",
      "2018-11-07  0.030328  0.039361  0.035593  0.015291  0.032318  0.042081   \n",
      "2018-11-08 -0.006954 -0.001876 -0.010051  0.003800 -0.012387  0.007355   \n",
      "\n",
      "                 JPM       BAC         V      AMZN       NKE       DIS  \\\n",
      "Date                                                                     \n",
      "2018-11-02 -0.005506  0.002877 -0.007456  0.000000 -0.002735 -0.007924   \n",
      "2018-11-05  0.006551  0.006095  0.000143 -0.022653  0.012405  0.002344   \n",
      "2018-11-06  0.004675  0.005346  0.007081  0.009221 -0.012382  0.010914   \n",
      "2018-11-07  0.017153  0.011698  0.028340  0.068590  0.018284  0.002913   \n",
      "2018-11-08  0.008073  0.011563  0.003108 -0.000330 -0.002437 -0.008971   \n",
      "\n",
      "                 XOM      FSLR       NEE       LMT       RTX       NOC  \n",
      "Date                                                                    \n",
      "2018-11-02  0.015867  0.037144 -0.013609 -0.000468 -0.001176  0.002380  \n",
      "2018-11-05 -0.003783  0.021628  0.015225  0.013131 -0.001413  0.020599  \n",
      "2018-11-06  0.004287 -0.025040  0.004393  0.011048  0.005422  0.011809  \n",
      "2018-11-07  0.012684  0.031286  0.012131  0.010634  0.020400  0.011212  \n",
      "2018-11-08 -0.015898 -0.033960  0.002420 -0.004067  0.006051 -0.006576  \n",
      "                Tech    Health   Finance  Consumer    Energy   Weapons\n",
      "Date                                                                  \n",
      "2018-11-02 -0.025159 -0.005878 -0.003362 -0.003553  0.013134  0.000245\n",
      "2018-11-05 -0.010802  0.008183  0.004263 -0.002635  0.011023  0.010773\n",
      "2018-11-06  0.009294  0.000192  0.005701  0.002584 -0.005453  0.009427\n",
      "2018-11-07  0.035094  0.029897  0.019064  0.029929  0.018701  0.014082\n",
      "2018-11-08 -0.006294 -0.000411  0.007581 -0.003913 -0.015812 -0.001530\n",
      "...              ...       ...       ...       ...       ...       ...\n",
      "2019-10-24  0.007599 -0.014029  0.008541 -0.001652  0.002713  0.013386\n",
      "2019-10-25  0.007082  0.006248  0.009690 -0.004116 -0.019432 -0.015806\n",
      "2019-10-28  0.018087  0.009692  0.006260  0.001782 -0.004401  0.002663\n",
      "2019-10-29 -0.017928  0.015231 -0.001899 -0.011137 -0.001559 -0.002471\n",
      "2019-10-30  0.003762  0.015275 -0.003483  0.006974 -0.008415  0.017726\n",
      "\n",
      "[249 rows x 6 columns]\n"
     ]
    }
   ],
   "source": [
    "# Calculate daily returns, drop nas, and display the data \n",
    "# Tech Daily Returns \n",
    "tech_daily = tech_df.pct_change().dropna()\n",
    "tech_daily.head()\n",
    "\n",
    "# Healthcare Daily Returns \n",
    "health_daily = health_df.pct_change().dropna()\n",
    "health_daily.head()\n",
    "\n",
    "# Financials Daily Returns \n",
    "finance_daily = finance_df.pct_change().dropna()\n",
    "finance_daily.head()\n",
    "\n",
    "# Consumer Discretionary Daily Returns \n",
    "consumer_daily = consumer_df.pct_change().dropna()\n",
    "consumer_daily.head()\n",
    "\n",
    "# Energy Daily Returns \n",
    "energy_daily = energy_df.pct_change().dropna()\n",
    "energy_daily.head()\n",
    "\n",
    "# Weapons Manufacturing Daily Returns \n",
    "weapons_daily = weapons_df.pct_change().dropna()\n",
    "weapons_daily.head()\n",
    "\n",
    "combined_daily_returns = pd.concat([\n",
    "    tech_daily.head(),\n",
    "    health_daily.head(),\n",
    "    finance_daily.head(),\n",
    "    consumer_daily.head(),\n",
    "    energy_daily.head(),\n",
    "    weapons_daily.head()\n",
    "], axis=1)\n",
    "\n",
    "# Rename the columns for clarity\n",
    "combined_daily_returns.columns = ['AAPL','MSFT', 'GOOG', 'JNJ','PFE','UNH','JPM','BAC','V','AMZN','NKE','DIS','XOM','FSLR','NEE','LMT','RTX','NOC']\n",
    "\n",
    "# Display the combined DataFrame\n",
    "print(combined_daily_returns.head())\n",
    "\n",
    "# Set weights\n",
    "weights = [1/3, 1/3, 1/3]\n",
    "\n",
    "# Define a dictionary containing the daily returns for each sector\n",
    "daily_returns_dict = {\n",
    "    \"Tech\": tech_daily,\n",
    "    \"Health\": health_daily,\n",
    "    \"Finance\": finance_daily,\n",
    "    \"Consumer\": consumer_daily,\n",
    "    \"Energy\": energy_daily,\n",
    "    \"Weapons\": weapons_daily\n",
    "}\n",
    "\n",
    "# Create an empty dictionary to store the returns for each sector\n",
    "sector_returns = {}\n",
    "\n",
    "# Calculate the returns for each sector and store them in the dictionary\n",
    "for sector, combined_daily_returns in daily_returns_dict.items():\n",
    "    sector_returns[sector] = (weights * combined_daily_returns).sum(axis=1)\n",
    "\n",
    "# Create a DataFrame from the sector_returns dictionary\n",
    "returns_df = pd.DataFrame(sector_returns)\n",
    "\n",
    "# Display the DataFrame\n",
    "print(returns_df)"
   ]
  },
  {
   "cell_type": "markdown",
   "id": "f7aae5ac",
   "metadata": {},
   "source": [
    "# Risk Analysis Performance \n",
    "1. Cumulative Returns\n",
    "2. Annualized Standard Deviation \n",
    "3. Annualized Sharpe Ratios (Reward to Risk)\n",
    "4. Covariance and Variance \n",
    "5. BETA"
   ]
  },
  {
   "cell_type": "markdown",
   "id": "36d08f26",
   "metadata": {},
   "source": [
    "## Cumulative Returns"
   ]
  },
  {
   "cell_type": "code",
   "execution_count": 80,
   "id": "980bb279",
   "metadata": {},
   "outputs": [
    {
     "data": {
      "image/png": "[encoded data removed]",
      "text/plain": [
       "<Figure size 1000x600 with 1 Axes>"
      ]
     },
     "metadata": {},
     "output_type": "display_data"
    }
   ],
   "source": [
    "cumulative_returns = (1 + returns_df).cumprod()\n",
    "\n",
    "# Export and save Cumulative Returns dataframe into a csv file \n",
    "cumulative_returns.to_csv('cumulative_returns_data4.csv', index=False)\n",
    "\n",
    "cumulative_returns.plot(figsize=(10, 6))  # Adjust figsize as needed\n",
    "plt.title('Cumulative Returns of Each Industry')\n",
    "plt.xlabel('Date')\n",
    "plt.ylabel('Cumulative Returns')\n",
    "plt.grid(True)\n",
    "plt.legend()\n",
    "plt.show()"
   ]
  },
  {
   "cell_type": "markdown",
   "id": "18352997",
   "metadata": {},
   "source": [
    "## Annualized Standard Deviation"
   ]
  },
  {
   "cell_type": "code",
   "execution_count": 81,
   "id": "4d90ed70",
   "metadata": {},
   "outputs": [
    {
     "name": "stdout",
     "output_type": "stream",
     "text": [
      "Tech        0.015412\n",
      "Health      0.010629\n",
      "Finance     0.012623\n",
      "Consumer    0.013235\n",
      "Energy      0.011051\n",
      "Weapons     0.012586\n",
      "dtype: float64\n"
     ]
    }
   ],
   "source": [
    "# Calculate the daily standard deviation \n",
    "daily_std_dev = np.std(returns_df)\n",
    "print(daily_std_dev)"
   ]
  },
  {
   "cell_type": "code",
   "execution_count": 82,
   "id": "71d4da57",
   "metadata": {},
   "outputs": [
    {
     "name": "stderr",
     "output_type": "stream",
     "text": [
      "No artists with labels found to put in legend.  Note that artists whose label start with an underscore are ignored when legend() is called with no argument.\n"
     ]
    },
    {
     "data": {
      "image/png": "[encoded data removed]",
      "text/plain": [
       "<Figure size 1000x600 with 1 Axes>"
      ]
     },
     "metadata": {},
     "output_type": "display_data"
    }
   ],
   "source": [
    "# Calculate the annualized standard deviation (252 trading days)\n",
    "annualized_std = daily_std_dev * np.sqrt(252)\n",
    "\n",
    "# Plot the Annualized standard deviation\n",
    "annualized_std.plot.bar(figsize=(10, 6))  # Adjust figsize as needed\n",
    "plt.title('Annualized Standard Deviation of Each Industry')\n",
    "plt.xlabel('Industry')\n",
    "plt.ylabel('Annualized Standard Deviation')\n",
    "plt.grid(True)\n",
    "plt.legend()\n",
    "plt.show()"
   ]
  },
  {
   "cell_type": "markdown",
   "id": "77fb2009",
   "metadata": {},
   "source": [
    "# Sharpe Ratios "
   ]
  },
  {
   "cell_type": "code",
   "execution_count": 83,
   "id": "d75dcbe1",
   "metadata": {},
   "outputs": [
    {
     "data": {
      "image/png": "[encoded data removed]",
      "text/plain": [
       "<Figure size 1000x600 with 1 Axes>"
      ]
     },
     "metadata": {},
     "output_type": "display_data"
    }
   ],
   "source": [
    "# Annualized Sharpe Ratios \n",
    "sharpe_ratios = (returns_df.mean() * 252) / (returns_df.std() * np.sqrt(252))\n",
    "sharpe_ratios \n",
    "\n",
    "# Visualize the sharpe ratios as a bar plot\n",
    "sharpe_ratios.plot(kind='bar', color='skyblue', figsize=(10, 6))\n",
    "\n",
    "# Customizing the plot\n",
    "plt.title('Sharpe Ratios of Each Industry (Nov 2022 to Oct 2023)')\n",
    "plt.xlabel('Industry')\n",
    "plt.ylabel('Sharpe Ratio')\n",
    "plt.xticks(rotation=45)  # Rotate x-axis labels for better readability\n",
    "plt.grid(axis='y', linestyle='--', alpha=0.7)  # Adding grid lines\n",
    "\n",
    "# Adding data labels\n",
    "for i, val in enumerate(sharpe_ratios.values):\n",
    "    plt.text(i, val, round(val, 2), ha='center', va='bottom')\n",
    "\n",
    "# Adding horizontal line at Sharpe ratio of 0 for reference\n",
    "plt.axhline(y=0, color='gray', linestyle='--', linewidth=0.5)\n",
    "\n",
    "# Show plot\n",
    "plt.tight_layout()  # Adjust layout to prevent clipping of labels\n",
    "plt.show()"
   ]
  },
  {
   "cell_type": "code",
   "execution_count": null,
   "id": "db236f25",
   "metadata": {},
   "outputs": [],
   "source": []
  }
 ],
 "metadata": {
  "kernelspec": {
   "display_name": "Python 3 (ipykernel)",
   "language": "python",
   "name": "python3"
  },
  "language_info": {
   "codemirror_mode": {
    "name": "ipython",
    "version": 3
   },
   "file_extension": ".py",
   "mimetype": "text/x-python",
   "name": "python",
   "nbconvert_exporter": "python",
   "pygments_lexer": "ipython3",
   "version": "3.9.18"
  }
 },
 "nbformat": 4,
 "nbformat_minor": 5
}
