{
 "cells": [
  {
   "cell_type": "markdown",
   "id": "d694eeb0",
   "metadata": {},
   "source": [
    "# Create Custom Portfolio \n",
    "In this section, we chose three stocks from the top six invested in industries, calculate the returns, and compare the results to determine which industry performed best\n",
    "\n",
    "1. Choose 3 stocks with at last 1 year's worth of historic prices and create a DataFrame of the closing prices and dates for each stock.\n",
    "2. Calculate the weighted returns for the portfolio assuming an equal number of shares for each stock\n",
    "3. Join your portfolio returns to the DataFrame that contains all of the portfolio returns\n",
    "4. Re-run the performance and risk analysis with your portfolio to see how it compares to the others\n",
    "5. Include correlation analysis to determine which stocks (if any) are correlated"
   ]
  },
  {
   "cell_type": "markdown",
   "id": "c6085b36",
   "metadata": {},
   "source": [
    "## Choose 3-5 custom stocks with at last 1 year's worth of historic prices and create a DataFrame of the closing prices and dates for each stock."
   ]
  },
  {
   "cell_type": "code",
   "execution_count": 29,
   "id": "6a008aa5",
   "metadata": {},
   "outputs": [],
   "source": [
    "import yfinance as yf\n",
    "\n",
    "# Initial imports\n",
    "import pandas as pd\n",
    "import numpy as np\n",
    "import datetime as dt\n",
    "from pathlib import Path"
   ]
  },
  {
   "cell_type": "markdown",
   "id": "841014a0",
   "metadata": {},
   "source": [
    "## Technology Sector\n",
    "These are the three stocks we chose within the Technology Industry"
   ]
  },
  {
   "cell_type": "code",
   "execution_count": 6,
   "id": "7b32099f",
   "metadata": {},
   "outputs": [
    {
     "name": "stderr",
     "output_type": "stream",
     "text": [
      "[*********************100%%**********************]  1 of 1 completed"
     ]
    },
    {
     "name": "stdout",
     "output_type": "stream",
     "text": [
      "<class 'pandas.core.frame.DataFrame'>\n",
      "                  Open        High         Low       Close   Adj Close\n",
      "Date                                                                  \n",
      "2023-01-03  130.279999  130.899994  124.169998  125.070000  124.374802\n",
      "2023-01-04  126.889999  128.660004  125.080002  126.360001  125.657639\n",
      "2023-01-05  127.129997  127.769997  124.760002  125.019997  124.325089\n",
      "2023-01-06  126.010002  130.289993  124.889999  129.619995  128.899521\n",
      "2023-01-09  130.470001  133.410004  129.889999  130.149994  129.426559\n",
      "...                ...         ...         ...         ...         ...\n",
      "2023-12-22  195.179993  195.410004  192.970001  193.600006  193.600006\n",
      "2023-12-26  193.610001  193.889999  192.830002  193.050003  193.050003\n",
      "2023-12-27  192.490005  193.500000  191.089996  193.149994  193.149994\n",
      "2023-12-28  194.139999  194.660004  193.169998  193.580002  193.580002\n",
      "2023-12-29  193.899994  194.399994  191.729996  192.529999  192.529999\n",
      "\n",
      "[250 rows x 5 columns]\n"
     ]
    },
    {
     "name": "stderr",
     "output_type": "stream",
     "text": [
      "\n"
     ]
    }
   ],
   "source": [
    "# Define the stock ticker and date range: Apple Inc. \n",
    "AAPL_stock = 'AAPL'\n",
    "start_date = '2023-01-01'  # example start date\n",
    "end_date = '2023-12-31'    # example end date\n",
    "\n",
    "# Download the stock data\n",
    "data_AAPL = yf.download(AAPL_stock, start=start_date, end=end_date)\n",
    "\n",
    "# Print the type of the data\n",
    "print(type(data_AAPL))\n",
    "\n",
    "# Print the first few columns of the data\n",
    "print(data_AAPL.iloc[:, :5])  # This prints the first three columns of the DataFrame"
   ]
  },
  {
   "cell_type": "code",
   "execution_count": 7,
   "id": "2eeb51ad",
   "metadata": {},
   "outputs": [
    {
     "name": "stderr",
     "output_type": "stream",
     "text": [
      "[*********************100%%**********************]  1 of 1 completed"
     ]
    },
    {
     "name": "stdout",
     "output_type": "stream",
     "text": [
      "<class 'pandas.core.frame.DataFrame'>\n",
      "                  Open        High         Low       Close   Adj Close\n",
      "Date                                                                  \n",
      "2023-01-03  243.080002  245.750000  237.399994  239.580002  237.474335\n",
      "2023-01-04  232.279999  232.869995  225.960007  229.100006  227.086456\n",
      "2023-01-05  227.199997  227.550003  221.759995  222.309998  220.356110\n",
      "2023-01-06  223.000000  225.759995  219.350006  224.929993  222.953094\n",
      "2023-01-09  226.449997  231.240005  226.410004  227.119995  225.123840\n",
      "...                ...         ...         ...         ...         ...\n",
      "2023-12-22  373.679993  375.179993  372.709991  374.579987  374.579987\n",
      "2023-12-26  375.000000  376.940002  373.500000  374.660004  374.660004\n",
      "2023-12-27  373.690002  375.059998  372.809998  374.070007  374.070007\n",
      "2023-12-28  375.369995  376.459991  374.160004  375.279999  375.279999\n",
      "2023-12-29  376.000000  377.160004  373.480011  376.040009  376.040009\n",
      "\n",
      "[250 rows x 5 columns]\n"
     ]
    },
    {
     "name": "stderr",
     "output_type": "stream",
     "text": [
      "\n"
     ]
    }
   ],
   "source": [
    "# Define the stock ticker and date range: Microsoft \n",
    "MSFT_stock = 'MSFT'\n",
    "start_date = '2023-01-01'  # example start date\n",
    "end_date = '2023-12-31'    # example end date\n",
    "\n",
    "# Download the stock data\n",
    "data_MSFT = yf.download(MSFT_stock, start=start_date, end=end_date)\n",
    "\n",
    "# Print the type of the data\n",
    "print(type(data_MSFT))\n",
    "\n",
    "# Print the first few columns of the data\n",
    "print(data_MSFT.iloc[:, :5])  # This prints the first three columns of the DataFrame"
   ]
  },
  {
   "cell_type": "code",
   "execution_count": 8,
   "id": "29505cc9",
   "metadata": {},
   "outputs": [
    {
     "name": "stderr",
     "output_type": "stream",
     "text": [
      "[*********************100%%**********************]  1 of 1 completed"
     ]
    },
    {
     "name": "stdout",
     "output_type": "stream",
     "text": [
      "<class 'pandas.core.frame.DataFrame'>\n",
      "                  Open        High         Low       Close   Adj Close\n",
      "Date                                                                  \n",
      "2023-01-03   89.830002   91.550003   89.019997   89.699997   89.699997\n",
      "2023-01-04   91.010002   91.239998   87.800003   88.709999   88.709999\n",
      "2023-01-05   88.070000   88.209999   86.559998   86.769997   86.769997\n",
      "2023-01-06   87.360001   88.470001   85.570000   88.160004   88.160004\n",
      "2023-01-09   89.195000   90.830002   88.580002   88.800003   88.800003\n",
      "...                ...         ...         ...         ...         ...\n",
      "2023-12-22  142.130005  143.250000  142.054993  142.720001  142.720001\n",
      "2023-12-26  142.979996  143.945007  142.500000  142.820007  142.820007\n",
      "2023-12-27  142.830002  143.320007  141.050995  141.440002  141.440002\n",
      "2023-12-28  141.850006  142.270004  140.828003  141.279999  141.279999\n",
      "2023-12-29  140.679993  141.434998  139.899994  140.929993  140.929993\n",
      "\n",
      "[250 rows x 5 columns]\n"
     ]
    },
    {
     "name": "stderr",
     "output_type": "stream",
     "text": [
      "\n"
     ]
    }
   ],
   "source": [
    "# Define the stock ticker and date range: Google \n",
    "GOOG_stock = 'GOOG'\n",
    "start_date = '2023-01-01'  # example start date\n",
    "end_date = '2023-12-31'    # example end date\n",
    "\n",
    "# Download the stock data\n",
    "data_GOOG = yf.download(GOOG_stock, start=start_date, end=end_date)\n",
    "\n",
    "# Print the type of the data\n",
    "print(type(data_GOOG))\n",
    "\n",
    "# Print the first few columns of the data\n",
    "print(data_GOOG.iloc[:, :5])  # This prints the first three columns of the DataFrame"
   ]
  },
  {
   "cell_type": "markdown",
   "id": "d130962b",
   "metadata": {},
   "source": [
    "## Healthcare Sector \n",
    "These are the three stocks we chose in the Healthcare Industry"
   ]
  },
  {
   "cell_type": "code",
   "execution_count": 9,
   "id": "e03ed623",
   "metadata": {},
   "outputs": [
    {
     "name": "stderr",
     "output_type": "stream",
     "text": [
      "[*********************100%%**********************]  1 of 1 completed"
     ]
    },
    {
     "name": "stdout",
     "output_type": "stream",
     "text": [
      "<class 'pandas.core.frame.DataFrame'>\n",
      "                  Open        High         Low       Close   Adj Close\n",
      "Date                                                                  \n",
      "2023-01-03  176.160004  178.380005  176.009995  178.190002  172.942062\n",
      "2023-01-04  178.889999  180.190002  178.479996  180.130005  174.824936\n",
      "2023-01-05  179.020004  179.990005  178.410004  178.800003  173.534088\n",
      "2023-01-06  180.130005  180.929993  179.389999  180.250000  174.941391\n",
      "2023-01-09  179.300003  179.759995  175.179993  175.580002  170.408920\n",
      "...                ...         ...         ...         ...         ...\n",
      "2023-12-22  155.250000  156.529999  155.020004  155.460007  155.460007\n",
      "2023-12-26  155.000000  156.350006  154.850006  156.139999  156.139999\n",
      "2023-12-27  155.500000  156.520004  155.419998  156.350006  156.350006\n",
      "2023-12-28  156.000000  157.240005  155.990005  156.580002  156.580002\n",
      "2023-12-29  156.509995  156.899994  155.979996  156.740005  156.740005\n",
      "\n",
      "[250 rows x 5 columns]\n"
     ]
    },
    {
     "name": "stderr",
     "output_type": "stream",
     "text": [
      "\n"
     ]
    }
   ],
   "source": [
    "# Define the stock ticker and date range: Johnson and Johnson \n",
    "JNJ_stock = 'JNJ'\n",
    "start_date = '2023-01-01'  # example start date\n",
    "end_date = '2023-12-31'    # example end date\n",
    "\n",
    "# Download the stock data\n",
    "data_JNJ = yf.download(JNJ_stock, start=start_date, end=end_date)\n",
    "\n",
    "# Print the type of the data\n",
    "print(type(data_JNJ))\n",
    "\n",
    "# Print the first few columns of the data\n",
    "print(data_JNJ.iloc[:, :5])  # This prints the first three columns of the DataFrame"
   ]
  },
  {
   "cell_type": "code",
   "execution_count": 10,
   "id": "aa561407",
   "metadata": {},
   "outputs": [
    {
     "name": "stderr",
     "output_type": "stream",
     "text": [
      "[*********************100%%**********************]  1 of 1 completed"
     ]
    },
    {
     "name": "stdout",
     "output_type": "stream",
     "text": [
      "<class 'pandas.core.frame.DataFrame'>\n",
      "                 Open       High        Low      Close  Adj Close\n",
      "Date                                                             \n",
      "2023-01-03  51.009998  51.330002  50.820000  51.259998  48.308193\n",
      "2023-01-04  50.290001  50.630001  49.520000  50.130001  47.243267\n",
      "2023-01-05  49.730000  49.990002  48.919998  49.660000  46.800327\n",
      "2023-01-06  49.980000  51.599998  49.560001  50.919998  47.987770\n",
      "2023-01-09  50.049999  50.259998  48.310001  48.389999  45.603462\n",
      "...               ...        ...        ...        ...        ...\n",
      "2023-12-22  28.440001  28.790001  28.180000  28.400000  27.978962\n",
      "2023-12-26  28.430000  28.530001  28.250000  28.410000  27.988813\n",
      "2023-12-27  28.469999  28.730000  28.309999  28.610001  28.185850\n",
      "2023-12-28  28.610001  29.030001  28.580000  28.790001  28.363180\n",
      "2023-12-29  28.780001  28.870001  28.540001  28.790001  28.363180\n",
      "\n",
      "[250 rows x 5 columns]\n"
     ]
    },
    {
     "name": "stderr",
     "output_type": "stream",
     "text": [
      "\n"
     ]
    }
   ],
   "source": [
    "# Define the stock ticker and date range: Pfizer Inc\n",
    "PFE_stock = 'PFE'\n",
    "start_date = '2023-01-01'  # example start date\n",
    "end_date = '2023-12-31'    # example end date\n",
    "\n",
    "# Download the stock data\n",
    "data_PFE = yf.download(PFE_stock, start=start_date, end=end_date)\n",
    "\n",
    "# Print the type of the data\n",
    "print(type(data_PFE))\n",
    "\n",
    "# Print the first few columns of the data\n",
    "print(data_PFE.iloc[:, :5])  # This prints the first three columns of the DataFrame"
   ]
  },
  {
   "cell_type": "code",
   "execution_count": 11,
   "id": "30dc468e",
   "metadata": {},
   "outputs": [
    {
     "name": "stderr",
     "output_type": "stream",
     "text": [
      "[*********************100%%**********************]  1 of 1 completed"
     ]
    },
    {
     "name": "stdout",
     "output_type": "stream",
     "text": [
      "<class 'pandas.core.frame.DataFrame'>\n",
      "                  Open        High         Low       Close   Adj Close\n",
      "Date                                                                  \n",
      "2023-01-03  525.130005  525.630005  512.159973  518.640015  510.947601\n",
      "2023-01-04  518.640015  518.640015  500.600006  504.500000  497.017303\n",
      "2023-01-05  501.010010  502.089996  488.500000  489.959991  482.692932\n",
      "2023-01-06  491.589996  492.869995  487.540009  490.000000  482.732361\n",
      "2023-01-09  492.410004  499.989990  488.540009  490.059998  482.791443\n",
      "...                ...         ...         ...         ...         ...\n",
      "2023-12-22  519.880005  523.010010  518.020020  520.309998  520.309998\n",
      "2023-12-26  519.880005  521.479980  517.969971  520.030029  520.030029\n",
      "2023-12-27  519.750000  523.159973  519.359985  522.789978  522.789978\n",
      "2023-12-28  523.469971  527.869995  522.940002  524.900024  524.900024\n",
      "2023-12-29  525.979980  528.239990  523.919983  526.469971  526.469971\n",
      "\n",
      "[250 rows x 5 columns]\n"
     ]
    },
    {
     "name": "stderr",
     "output_type": "stream",
     "text": [
      "\n"
     ]
    }
   ],
   "source": [
    "# Define the stock ticker and date range: United Health Group\n",
    "UNH_stock = 'UNH'\n",
    "start_date = '2023-01-01'  # example start date\n",
    "end_date = '2023-12-31'    # example end date\n",
    "\n",
    "# Download the stock data\n",
    "data_UNH = yf.download(UNH_stock, start=start_date, end=end_date)\n",
    "\n",
    "# Print the type of the data\n",
    "print(type(data_UNH))\n",
    "\n",
    "# Print the first few columns of the data\n",
    "print(data_UNH.iloc[:, :5])  # This prints the first three columns of the DataFrame"
   ]
  },
  {
   "cell_type": "markdown",
   "id": "f8b69275",
   "metadata": {},
   "source": [
    "## Financials Sector \n",
    "These are the three stocks we chose in the Healthcare Industry"
   ]
  },
  {
   "cell_type": "code",
   "execution_count": 12,
   "id": "ef9694ae",
   "metadata": {},
   "outputs": [
    {
     "name": "stderr",
     "output_type": "stream",
     "text": [
      "[*********************100%%**********************]  1 of 1 completed"
     ]
    },
    {
     "name": "stdout",
     "output_type": "stream",
     "text": [
      "<class 'pandas.core.frame.DataFrame'>\n",
      "                  Open        High         Low       Close   Adj Close\n",
      "Date                                                                  \n",
      "2023-01-03  135.240005  136.740005  133.889999  135.119995  130.404755\n",
      "2023-01-04  135.990005  137.679993  135.570007  136.380005  131.620789\n",
      "2023-01-05  135.660004  135.710007  133.699997  135.350006  131.591629\n",
      "2023-01-06  136.130005  138.380005  134.490005  137.940002  134.109711\n",
      "2023-01-09  138.600006  138.880005  136.880005  137.369995  133.555527\n",
      "...                ...         ...         ...         ...         ...\n",
      "2023-12-22  167.500000  168.229996  167.229996  167.399994  166.374069\n",
      "2023-12-26  167.460007  168.770004  167.179993  168.389999  167.358017\n",
      "2023-12-27  167.839996  169.470001  167.580002  169.399994  168.361816\n",
      "2023-12-28  169.350006  170.660004  169.000000  170.300003  169.256317\n",
      "2023-12-29  170.000000  170.690002  169.630005  170.100006  169.057541\n",
      "\n",
      "[250 rows x 5 columns]\n"
     ]
    },
    {
     "name": "stderr",
     "output_type": "stream",
     "text": [
      "\n"
     ]
    }
   ],
   "source": [
    "# Define the stock ticker and date range: JPMorgan Chase and Co. \n",
    "JPM_stock = 'JPM'\n",
    "start_date = '2023-01-01'  # example start date\n",
    "end_date = '2023-12-31'    # example end date\n",
    "\n",
    "# Download the stock data\n",
    "data_JPM = yf.download(JPM_stock, start=start_date, end=end_date)\n",
    "\n",
    "# Print the type of the data\n",
    "print(type(data_JPM))\n",
    "\n",
    "# Print the first few columns of the data\n",
    "print(data_JPM.iloc[:, :5])  # This prints the first three columns of the DataFrame"
   ]
  },
  {
   "cell_type": "code",
   "execution_count": 13,
   "id": "0b2987e0",
   "metadata": {},
   "outputs": [
    {
     "name": "stderr",
     "output_type": "stream",
     "text": [
      "[*********************100%%**********************]  1 of 1 completed"
     ]
    },
    {
     "name": "stdout",
     "output_type": "stream",
     "text": [
      "<class 'pandas.core.frame.DataFrame'>\n",
      "                 Open       High        Low      Close  Adj Close\n",
      "Date                                                             \n",
      "2023-01-03  33.230000  34.090000  33.209999  33.509998  32.498131\n",
      "2023-01-04  33.900002  34.820000  33.830002  34.139999  33.109104\n",
      "2023-01-05  33.919998  34.139999  33.580002  34.070000  33.041218\n",
      "2023-01-06  34.090000  34.580002  33.540001  34.410000  33.370953\n",
      "2023-01-09  34.750000  34.759998  33.709999  33.889999  32.866653\n",
      "...               ...        ...        ...        ...        ...\n",
      "2023-12-22  33.209999  33.669998  33.200001  33.430000  33.430000\n",
      "2023-12-26  33.450001  33.959999  33.369999  33.860001  33.860001\n",
      "2023-12-27  33.799999  33.950001  33.660000  33.840000  33.840000\n",
      "2023-12-28  33.820000  33.970001  33.770000  33.880001  33.880001\n",
      "2023-12-29  33.939999  33.990002  33.549999  33.669998  33.669998\n",
      "\n",
      "[250 rows x 5 columns]\n"
     ]
    },
    {
     "name": "stderr",
     "output_type": "stream",
     "text": [
      "\n"
     ]
    }
   ],
   "source": [
    "# Define the stock ticker and date range: Bank of America \n",
    "BAC_stock = 'BAC'\n",
    "start_date = '2023-01-01'  # example start date\n",
    "end_date = '2023-12-31'    # example end date\n",
    "\n",
    "# Download the stock data\n",
    "data_BAC = yf.download(BAC_stock, start=start_date, end=end_date)\n",
    "\n",
    "# Print the type of the data\n",
    "print(type(data_BAC))\n",
    "\n",
    "# Print the first few columns of the data\n",
    "print(data_BAC.iloc[:, :5])  # This prints the first three columns of the DataFrame"
   ]
  },
  {
   "cell_type": "code",
   "execution_count": 14,
   "id": "5bafc0b5",
   "metadata": {},
   "outputs": [
    {
     "name": "stderr",
     "output_type": "stream",
     "text": [
      "[*********************100%%**********************]  1 of 1 completed"
     ]
    },
    {
     "name": "stdout",
     "output_type": "stream",
     "text": [
      "<class 'pandas.core.frame.DataFrame'>\n",
      "                  Open        High         Low       Close   Adj Close\n",
      "Date                                                                  \n",
      "2023-01-03  209.279999  212.330002  206.160004  207.389999  205.756073\n",
      "2023-01-04  209.619995  213.199997  209.619995  212.610001  210.934937\n",
      "2023-01-05  213.800003  214.160004  210.460007  211.110001  209.446777\n",
      "2023-01-06  214.000000  218.139999  213.089996  217.750000  216.034454\n",
      "2023-01-09  219.070007  222.210007  218.350006  218.600006  216.877747\n",
      "...                ...         ...         ...         ...         ...\n",
      "2023-12-22  260.000000  261.209991  258.220001  258.429993  258.429993\n",
      "2023-12-26  258.529999  259.739990  258.529999  259.160004  259.160004\n",
      "2023-12-27  259.250000  259.769989  258.309998  258.929993  258.929993\n",
      "2023-12-28  258.540009  260.970001  258.540009  260.399994  260.399994\n",
      "2023-12-29  260.570007  261.459991  259.670013  260.350006  260.350006\n",
      "\n",
      "[250 rows x 5 columns]\n"
     ]
    },
    {
     "name": "stderr",
     "output_type": "stream",
     "text": [
      "\n"
     ]
    }
   ],
   "source": [
    "# Define the stock ticker and date range: Visa\n",
    "V_stock = 'V'\n",
    "start_date = '2023-01-01'  # example start date\n",
    "end_date = '2023-12-31'    # example end date\n",
    "\n",
    "# Download the stock data\n",
    "data_V = yf.download(V_stock, start=start_date, end=end_date)\n",
    "\n",
    "# Print the type of the data\n",
    "print(type(data_V))\n",
    "\n",
    "# Print the first few columns of the data\n",
    "print(data_V.iloc[:, :5])  # This prints the first three columns of the DataFrame"
   ]
  },
  {
   "cell_type": "markdown",
   "id": "90a42818",
   "metadata": {},
   "source": [
    "## Consumer Discretionary \n",
    "These are the three stocks we chose in the consumer discretionary industry: Amazon, Nike, and Walt Disney Company"
   ]
  },
  {
   "cell_type": "code",
   "execution_count": 15,
   "id": "4e57c73c",
   "metadata": {},
   "outputs": [
    {
     "name": "stderr",
     "output_type": "stream",
     "text": [
      "[*********************100%%**********************]  1 of 1 completed"
     ]
    },
    {
     "name": "stdout",
     "output_type": "stream",
     "text": [
      "<class 'pandas.core.frame.DataFrame'>\n",
      "                  Open        High         Low       Close   Adj Close\n",
      "Date                                                                  \n",
      "2023-01-03   85.459999   86.959999   84.209999   85.820000   85.820000\n",
      "2023-01-04   86.550003   86.980003   83.360001   85.139999   85.139999\n",
      "2023-01-05   85.330002   85.419998   83.070000   83.120003   83.120003\n",
      "2023-01-06   83.029999   86.400002   81.430000   86.080002   86.080002\n",
      "2023-01-09   87.459999   89.480003   87.080002   87.360001   87.360001\n",
      "...                ...         ...         ...         ...         ...\n",
      "2023-12-22  153.770004  154.350006  152.710007  153.419998  153.419998\n",
      "2023-12-26  153.559998  153.979996  153.029999  153.410004  153.410004\n",
      "2023-12-27  153.559998  154.779999  153.119995  153.339996  153.339996\n",
      "2023-12-28  153.720001  154.080002  152.949997  153.380005  153.380005\n",
      "2023-12-29  153.100006  153.889999  151.029999  151.940002  151.940002\n",
      "\n",
      "[250 rows x 5 columns]\n"
     ]
    },
    {
     "name": "stderr",
     "output_type": "stream",
     "text": [
      "\n"
     ]
    }
   ],
   "source": [
    "# Define the stock ticker and date range: Amazon\n",
    "AMZN_stock = 'AMZN'\n",
    "start_date = '2023-01-01'  # example start date\n",
    "end_date = '2023-12-31'    # example end date\n",
    "\n",
    "# Download the stock data\n",
    "data_AMZN = yf.download(AMZN_stock, start=start_date, end=end_date)\n",
    "\n",
    "# Print the type of the data\n",
    "print(type(data_AMZN))\n",
    "\n",
    "# Print the first few columns of the data\n",
    "print(data_AMZN.iloc[:, :5])  # This prints the first three columns of the DataFrame"
   ]
  },
  {
   "cell_type": "code",
   "execution_count": 16,
   "id": "026d881d",
   "metadata": {},
   "outputs": [
    {
     "name": "stderr",
     "output_type": "stream",
     "text": [
      "[*********************100%%**********************]  1 of 1 completed"
     ]
    },
    {
     "name": "stdout",
     "output_type": "stream",
     "text": [
      "<class 'pandas.core.frame.DataFrame'>\n",
      "                  Open        High         Low       Close   Adj Close\n",
      "Date                                                                  \n",
      "2023-01-03  118.550003  119.489998  117.440002  118.750000  117.234634\n",
      "2023-01-04  119.959999  122.230003  119.529999  121.209999  119.663239\n",
      "2023-01-05  120.279999  122.339996  120.080002  120.620003  119.080772\n",
      "2023-01-06  122.000000  125.360001  121.769997  124.529999  122.940872\n",
      "2023-01-09  125.000000  126.610001  124.550003  124.849998  123.256798\n",
      "...                ...         ...         ...         ...         ...\n",
      "2023-12-22  108.260002  110.800003  107.449997  108.040001  108.040001\n",
      "2023-12-26  108.300003  108.690002  107.480003  108.019997  108.019997\n",
      "2023-12-27  108.339996  108.589996  106.849998  107.129997  107.129997\n",
      "2023-12-28  107.209999  109.400002  106.809998  108.820000  108.820000\n",
      "2023-12-29  108.959999  109.959999  108.089996  108.570000  108.570000\n",
      "\n",
      "[250 rows x 5 columns]\n"
     ]
    },
    {
     "name": "stderr",
     "output_type": "stream",
     "text": [
      "\n"
     ]
    }
   ],
   "source": [
    "# Define the stock ticker and date range: Nike\n",
    "NKE_stock = 'NKE'\n",
    "start_date = '2023-01-01'  # example start date\n",
    "end_date = '2023-12-31'    # example end date\n",
    "\n",
    "# Download the stock data\n",
    "data_NKE = yf.download(NKE_stock, start=start_date, end=end_date)\n",
    "\n",
    "# Print the type of the data\n",
    "print(type(data_NKE))\n",
    "\n",
    "# Print the first few columns of the data\n",
    "print(data_NKE.iloc[:, :5])  # This prints the first three columns of the DataFrame"
   ]
  },
  {
   "cell_type": "code",
   "execution_count": 17,
   "id": "617dea59",
   "metadata": {},
   "outputs": [
    {
     "name": "stderr",
     "output_type": "stream",
     "text": [
      "[*********************100%%**********************]  1 of 1 completed"
     ]
    },
    {
     "name": "stdout",
     "output_type": "stream",
     "text": [
      "<class 'pandas.core.frame.DataFrame'>\n",
      "                 Open       High        Low      Close  Adj Close\n",
      "Date                                                             \n",
      "2023-01-03  88.980003  89.970001  87.830002  88.970001  88.680984\n",
      "2023-01-04  90.000000  92.750000  89.360001  91.980003  91.681206\n",
      "2023-01-05  91.660004  92.480003  90.510002  91.919998  91.621391\n",
      "2023-01-06  92.660004  94.690002  91.320000  93.919998  93.614899\n",
      "2023-01-09  94.430000  95.699997  93.449997  94.769997  94.462135\n",
      "...               ...        ...        ...        ...        ...\n",
      "2023-12-22  91.620003  92.239998  90.750000  91.019997  91.019997\n",
      "2023-12-26  90.839996  91.269997  90.599998  90.949997  90.949997\n",
      "2023-12-27  90.910004  90.940002  90.040001  90.379997  90.379997\n",
      "2023-12-28  90.089996  90.980003  89.970001  90.400002  90.400002\n",
      "2023-12-29  90.120003  90.599998  89.860001  90.290001  90.290001\n",
      "\n",
      "[250 rows x 5 columns]\n"
     ]
    },
    {
     "name": "stderr",
     "output_type": "stream",
     "text": [
      "\n"
     ]
    }
   ],
   "source": [
    "# Define the stock ticker and date range: Walt Disney Company \n",
    "DIS_stock = 'DIS'\n",
    "start_date = '2023-01-01'  # example start date\n",
    "end_date = '2023-12-31'    # example end date\n",
    "\n",
    "# Download the stock data\n",
    "data_DIS = yf.download(DIS_stock, start=start_date, end=end_date)\n",
    "\n",
    "# Print the type of the data\n",
    "print(type(data_DIS))\n",
    "\n",
    "# Print the first few columns of the data\n",
    "print(data_DIS.iloc[:, :5])  # This prints the first three columns of the DataFrame"
   ]
  },
  {
   "cell_type": "markdown",
   "id": "a82e2c50",
   "metadata": {},
   "source": [
    "## Energy Sector \n",
    "These are the three stocks we chose in the energy industry: Exxon Mobile Incorporation, First Solar Inc. , NextEra Energy Resources "
   ]
  },
  {
   "cell_type": "code",
   "execution_count": 19,
   "id": "e14f99c2",
   "metadata": {},
   "outputs": [
    {
     "name": "stderr",
     "output_type": "stream",
     "text": [
      "[*********************100%%**********************]  1 of 1 completed"
     ]
    },
    {
     "name": "stdout",
     "output_type": "stream",
     "text": [
      "<class 'pandas.core.frame.DataFrame'>\n",
      "                  Open        High         Low       Close   Adj Close\n",
      "Date                                                                  \n",
      "2023-01-03  109.779999  110.019997  105.489998  106.510002  102.993591\n",
      "2023-01-04  104.800003  107.160004  104.760002  106.820000  103.293350\n",
      "2023-01-05  106.339996  109.949997  106.309998  109.209999  105.604446\n",
      "2023-01-06  110.080002  111.989998  109.669998  110.529999  106.880859\n",
      "2023-01-09  111.639999  111.639999  107.809998  108.470001  104.888870\n",
      "...                ...         ...         ...         ...         ...\n",
      "2023-12-22  102.309998  102.940002  101.820000  101.910004  101.910004\n",
      "2023-12-26  102.739998  103.029999  102.120003  102.139999  102.139999\n",
      "2023-12-27  102.040001  102.550003  101.339996  101.660004  101.660004\n",
      "2023-12-28  101.389999  101.610001  100.129997  100.190002  100.190002\n",
      "2023-12-29  100.370003  100.589996   99.620003   99.980003   99.980003\n",
      "\n",
      "[250 rows x 5 columns]\n"
     ]
    },
    {
     "name": "stderr",
     "output_type": "stream",
     "text": [
      "\n"
     ]
    }
   ],
   "source": [
    "# Define the stock ticker and date range: Exxon Mobile Incorporation\n",
    "XOM_stock = 'XOM'\n",
    "start_date = '2023-01-01'  # example start date\n",
    "end_date = '2023-12-31'    # example end date\n",
    "\n",
    "# Download the stock data\n",
    "data_XOM = yf.download(XOM_stock, start=start_date, end=end_date)\n",
    "\n",
    "# Print the type of the data\n",
    "print(type(data_XOM))\n",
    "\n",
    "# Print the first few columns of the data\n",
    "print(data_XOM.iloc[:, :5])  # This prints the first three columns of the DataFrame"
   ]
  },
  {
   "cell_type": "code",
   "execution_count": 21,
   "id": "a0b40af8",
   "metadata": {},
   "outputs": [
    {
     "name": "stderr",
     "output_type": "stream",
     "text": [
      "[*********************100%%**********************]  1 of 1 completed"
     ]
    },
    {
     "name": "stdout",
     "output_type": "stream",
     "text": [
      "<class 'pandas.core.frame.DataFrame'>\n",
      "                  Open        High         Low       Close   Adj Close\n",
      "Date                                                                  \n",
      "2023-01-03  151.009995  152.449997  144.729996  145.940002  145.940002\n",
      "2023-01-04  146.649994  147.809998  145.000000  146.779999  146.779999\n",
      "2023-01-05  145.600006  147.020004  141.809998  145.460007  145.460007\n",
      "2023-01-06  148.199997  157.160004  147.500000  156.800003  156.800003\n",
      "2023-01-09  157.550003  162.350006  155.139999  159.169998  159.169998\n",
      "...                ...         ...         ...         ...         ...\n",
      "2023-12-22  171.229996  172.059998  169.160004  170.389999  170.389999\n",
      "2023-12-26  170.809998  173.750000  170.550003  171.940002  171.940002\n",
      "2023-12-27  173.199997  174.889999  170.940002  172.440002  172.440002\n",
      "2023-12-28  172.529999  176.080002  171.229996  173.220001  173.220001\n",
      "2023-12-29  173.449997  173.949997  171.100006  172.279999  172.279999\n",
      "\n",
      "[250 rows x 5 columns]\n"
     ]
    },
    {
     "name": "stderr",
     "output_type": "stream",
     "text": [
      "\n"
     ]
    }
   ],
   "source": [
    "# Define the stock ticker and date range: First Solar Inc. \n",
    "FSLR_stock = 'FSLR'\n",
    "start_date = '2023-01-01'  # example start date\n",
    "end_date = '2023-12-31'    # example end date\n",
    "\n",
    "# Download the stock data\n",
    "data_FSLR = yf.download(FSLR_stock, start=start_date, end=end_date)\n",
    "\n",
    "# Print the type of the data\n",
    "print(type(data_FSLR))\n",
    "\n",
    "# Print the first few columns of the data\n",
    "print(data_FSLR.iloc[:, :5])  # This prints the first three columns of the DataFrame"
   ]
  },
  {
   "cell_type": "code",
   "execution_count": 22,
   "id": "40b336a2",
   "metadata": {},
   "outputs": [
    {
     "name": "stderr",
     "output_type": "stream",
     "text": [
      "[*********************100%%**********************]  1 of 1 completed"
     ]
    },
    {
     "name": "stdout",
     "output_type": "stream",
     "text": [
      "<class 'pandas.core.frame.DataFrame'>\n",
      "                 Open       High        Low      Close  Adj Close\n",
      "Date                                                             \n",
      "2023-01-03  84.370003  84.900002  82.540001  83.830002  81.527992\n",
      "2023-01-04  84.360001  85.459999  83.830002  84.489998  82.169868\n",
      "2023-01-05  83.610001  84.010002  82.139999  82.629997  80.360947\n",
      "2023-01-06  83.559998  84.370003  82.820000  83.650002  81.352936\n",
      "2023-01-09  83.639999  84.930000  83.489998  84.070000  81.761398\n",
      "...               ...        ...        ...        ...        ...\n",
      "2023-12-22  59.959999  60.869999  59.669998  59.750000  59.750000\n",
      "2023-12-26  59.680000  60.560001  59.619999  60.209999  60.209999\n",
      "2023-12-27  59.910000  60.669998  59.650002  60.580002  60.580002\n",
      "2023-12-28  60.119999  61.099998  60.119999  61.020000  61.020000\n",
      "2023-12-29  60.799999  61.060001  60.270000  60.740002  60.740002\n",
      "\n",
      "[250 rows x 5 columns]\n"
     ]
    },
    {
     "name": "stderr",
     "output_type": "stream",
     "text": [
      "\n"
     ]
    }
   ],
   "source": [
    "# Define the stock ticker and date range: NextEra Energy Resources\n",
    "NEE_stock = 'NEE'\n",
    "start_date = '2023-01-01'  # example start date\n",
    "end_date = '2023-12-31'    # example end date\n",
    "\n",
    "# Download the stock data\n",
    "data_NEE = yf.download(NEE_stock, start=start_date, end=end_date)\n",
    "\n",
    "# Print the type of the data\n",
    "print(type(data_NEE))\n",
    "\n",
    "# Print the first few columns of the data\n",
    "print(data_NEE.iloc[:, :5])  # This prints the first three columns of the DataFrame"
   ]
  },
  {
   "cell_type": "markdown",
   "id": "63844053",
   "metadata": {},
   "source": [
    "## Weapons Manufacturing \n",
    "These are the three stocks we chose in the weapons manufacturing instury: Lockheed Martin Corporation, Raytheon Technologies Corporations (RTX), Northrup Grumman Corporation (NOC) "
   ]
  },
  {
   "cell_type": "code",
   "execution_count": 23,
   "id": "17c5a1b1",
   "metadata": {},
   "outputs": [
    {
     "name": "stderr",
     "output_type": "stream",
     "text": [
      "[*********************100%%**********************]  1 of 1 completed"
     ]
    },
    {
     "name": "stdout",
     "output_type": "stream",
     "text": [
      "<class 'pandas.core.frame.DataFrame'>\n",
      "                  Open        High         Low       Close   Adj Close\n",
      "Date                                                                  \n",
      "2023-01-03  483.390015  484.250000  474.010010  477.529999  464.924225\n",
      "2023-01-04  473.250000  479.700012  469.299988  476.500000  463.921387\n",
      "2023-01-05  475.690002  478.140015  469.899994  477.070007  464.476379\n",
      "2023-01-06  480.000000  488.000000  465.769989  473.239990  460.747437\n",
      "2023-01-09  467.790009  470.790009  455.299988  458.989990  446.873657\n",
      "...                ...         ...         ...         ...         ...\n",
      "2023-12-22  450.000000  451.739990  448.109985  448.220001  448.220001\n",
      "2023-12-26  448.149994  451.440002  447.820007  450.179993  450.179993\n",
      "2023-12-27  448.549988  451.019989  448.410004  448.970001  448.970001\n",
      "2023-12-28  448.970001  451.829987  448.459991  451.230011  451.230011\n",
      "2023-12-29  452.000000  453.500000  451.149994  453.239990  453.239990\n",
      "\n",
      "[250 rows x 5 columns]\n"
     ]
    },
    {
     "name": "stderr",
     "output_type": "stream",
     "text": [
      "\n"
     ]
    }
   ],
   "source": [
    "# Define the stock ticker and date range: Lockheed Martin Corporation\n",
    "LMT_stock = 'LMT'\n",
    "start_date = '2023-01-01'  # example start date\n",
    "end_date = '2023-12-31'    # example end date\n",
    "\n",
    "# Download the stock data\n",
    "data_LMT = yf.download(LMT_stock, start=start_date, end=end_date)\n",
    "\n",
    "# Print the type of the data\n",
    "print(type(data_LMT))\n",
    "\n",
    "# Print the first few columns of the data\n",
    "print(data_LMT.iloc[:, :5])  # This prints the first three columns of the DataFrame"
   ]
  },
  {
   "cell_type": "code",
   "execution_count": 26,
   "id": "11380938",
   "metadata": {},
   "outputs": [
    {
     "name": "stderr",
     "output_type": "stream",
     "text": [
      "[*********************100%%**********************]  1 of 1 completed"
     ]
    },
    {
     "name": "stdout",
     "output_type": "stream",
     "text": [
      "<class 'pandas.core.frame.DataFrame'>\n",
      "                  Open        High         Low       Close  Adj Close\n",
      "Date                                                                 \n",
      "2023-01-03  100.989998  101.230003  100.099998  100.809998  98.231209\n",
      "2023-01-04  100.510002  102.099998  100.410004  100.839996  98.260445\n",
      "2023-01-05  100.269997  101.459999   99.660004  100.879997  98.299416\n",
      "2023-01-06  101.900002  103.949997  101.300003  102.459999  99.839005\n",
      "2023-01-09  102.730003  102.779999   98.779999   99.599998  97.052162\n",
      "...                ...         ...         ...         ...        ...\n",
      "2023-12-22   82.089996   83.860001   82.040001   83.230003  83.230003\n",
      "2023-12-26   83.150002   84.300003   83.080002   84.050003  84.050003\n",
      "2023-12-27   83.900002   84.470001   83.699997   84.169998  84.169998\n",
      "2023-12-28   84.169998   84.610001   84.089996   84.169998  84.169998\n",
      "2023-12-29   84.209999   84.410004   83.779999   84.139999  84.139999\n",
      "\n",
      "[250 rows x 5 columns]\n"
     ]
    },
    {
     "name": "stderr",
     "output_type": "stream",
     "text": [
      "\n"
     ]
    }
   ],
   "source": [
    "# Define the stock ticker and date range: Raytheon Technologies Corporation\n",
    "RTX_stock = 'RTX'\n",
    "start_date = '2023-01-01'  # example start date\n",
    "end_date = '2023-12-31'    # example end date\n",
    "\n",
    "# Download the stock data\n",
    "data_RTX = yf.download(RTX_stock, start=start_date, end=end_date)\n",
    "\n",
    "# Print the type of the data\n",
    "print(type(data_RTX))\n",
    "\n",
    "# Print the first few columns of the data\n",
    "print(data_RTX.iloc[:, :5])  # This prints the first three columns of the DataFrame"
   ]
  },
  {
   "cell_type": "code",
   "execution_count": 27,
   "id": "7a69afba",
   "metadata": {},
   "outputs": [
    {
     "name": "stderr",
     "output_type": "stream",
     "text": [
      "[*********************100%%**********************]  1 of 1 completed"
     ]
    },
    {
     "name": "stdout",
     "output_type": "stream",
     "text": [
      "<class 'pandas.core.frame.DataFrame'>\n",
      "                  Open        High         Low       Close   Adj Close\n",
      "Date                                                                  \n",
      "2023-01-03  544.919983  547.799988  537.900024  540.330017  531.608521\n",
      "2023-01-04  535.869995  540.349976  522.369995  526.450012  517.952515\n",
      "2023-01-05  526.530029  533.710022  522.940002  528.520020  519.989136\n",
      "2023-01-06  529.809998  540.849976  505.049988  521.419983  513.003662\n",
      "2023-01-09  518.030029  518.030029  488.119995  495.410004  487.413574\n",
      "...                ...         ...         ...         ...         ...\n",
      "2023-12-22  461.450012  465.429993  461.450012  463.130005  463.130005\n",
      "2023-12-26  462.559998  465.760010  462.399994  464.500000  464.500000\n",
      "2023-12-27  462.899994  465.850006  462.600006  464.220001  464.220001\n",
      "2023-12-28  463.399994  467.410004  463.200012  465.679993  465.679993\n",
      "2023-12-29  466.209991  468.929993  465.019989  468.140015  468.140015\n",
      "\n",
      "[250 rows x 5 columns]\n"
     ]
    },
    {
     "name": "stderr",
     "output_type": "stream",
     "text": [
      "\n"
     ]
    }
   ],
   "source": [
    "# Define the stock ticker and date range: Northrup Grumman Corporation\n",
    "NOC_stock = 'NOC'\n",
    "start_date = '2023-01-01'  # example start date\n",
    "end_date = '2023-12-31'    # example end date\n",
    "\n",
    "# Download the stock data\n",
    "data_NOC = yf.download(NOC_stock, start=start_date, end=end_date)\n",
    "\n",
    "# Print the type of the data\n",
    "print(type(data_NOC))\n",
    "\n",
    "# Print the first few columns of the data\n",
    "print(data_NOC.iloc[:, :5])  # This prints the first three columns of the DataFrame"
   ]
  },
  {
   "cell_type": "markdown",
   "id": "865c2afa",
   "metadata": {},
   "source": [
    "## Combined Stocks Dataframe"
   ]
  },
  {
   "cell_type": "code",
   "execution_count": 33,
   "id": "edb9dfa8",
   "metadata": {},
   "outputs": [
    {
     "data": {
      "text/html": [
       "<div>\n",
       "<style scoped>\n",
       "    .dataframe tbody tr th:only-of-type {\n",
       "        vertical-align: middle;\n",
       "    }\n",
       "\n",
       "    .dataframe tbody tr th {\n",
       "        vertical-align: top;\n",
       "    }\n",
       "\n",
       "    .dataframe thead th {\n",
       "        text-align: right;\n",
       "    }\n",
       "</style>\n",
       "<table border=\"1\" class=\"dataframe\">\n",
       "  <thead>\n",
       "    <tr style=\"text-align: right;\">\n",
       "      <th></th>\n",
       "      <th>Open</th>\n",
       "      <th>High</th>\n",
       "      <th>Low</th>\n",
       "      <th>Close</th>\n",
       "      <th>Adj Close</th>\n",
       "      <th>Volume</th>\n",
       "      <th>Open</th>\n",
       "      <th>High</th>\n",
       "      <th>Low</th>\n",
       "      <th>Close</th>\n",
       "      <th>...</th>\n",
       "      <th>Low</th>\n",
       "      <th>Close</th>\n",
       "      <th>Adj Close</th>\n",
       "      <th>Volume</th>\n",
       "      <th>Open</th>\n",
       "      <th>High</th>\n",
       "      <th>Low</th>\n",
       "      <th>Close</th>\n",
       "      <th>Adj Close</th>\n",
       "      <th>Volume</th>\n",
       "    </tr>\n",
       "    <tr>\n",
       "      <th>Date</th>\n",
       "      <th></th>\n",
       "      <th></th>\n",
       "      <th></th>\n",
       "      <th></th>\n",
       "      <th></th>\n",
       "      <th></th>\n",
       "      <th></th>\n",
       "      <th></th>\n",
       "      <th></th>\n",
       "      <th></th>\n",
       "      <th></th>\n",
       "      <th></th>\n",
       "      <th></th>\n",
       "      <th></th>\n",
       "      <th></th>\n",
       "      <th></th>\n",
       "      <th></th>\n",
       "      <th></th>\n",
       "      <th></th>\n",
       "      <th></th>\n",
       "      <th></th>\n",
       "    </tr>\n",
       "  </thead>\n",
       "  <tbody>\n",
       "    <tr>\n",
       "      <th>2023-01-03</th>\n",
       "      <td>130.279999</td>\n",
       "      <td>130.899994</td>\n",
       "      <td>124.169998</td>\n",
       "      <td>125.070000</td>\n",
       "      <td>124.374802</td>\n",
       "      <td>112117500</td>\n",
       "      <td>89.830002</td>\n",
       "      <td>91.550003</td>\n",
       "      <td>89.019997</td>\n",
       "      <td>89.699997</td>\n",
       "      <td>...</td>\n",
       "      <td>100.099998</td>\n",
       "      <td>100.809998</td>\n",
       "      <td>98.231209</td>\n",
       "      <td>3532300</td>\n",
       "      <td>544.919983</td>\n",
       "      <td>547.799988</td>\n",
       "      <td>537.900024</td>\n",
       "      <td>540.330017</td>\n",
       "      <td>531.608521</td>\n",
       "      <td>615200</td>\n",
       "    </tr>\n",
       "    <tr>\n",
       "      <th>2023-01-04</th>\n",
       "      <td>126.889999</td>\n",
       "      <td>128.660004</td>\n",
       "      <td>125.080002</td>\n",
       "      <td>126.360001</td>\n",
       "      <td>125.657639</td>\n",
       "      <td>89113600</td>\n",
       "      <td>91.010002</td>\n",
       "      <td>91.239998</td>\n",
       "      <td>87.800003</td>\n",
       "      <td>88.709999</td>\n",
       "      <td>...</td>\n",
       "      <td>100.410004</td>\n",
       "      <td>100.839996</td>\n",
       "      <td>98.260445</td>\n",
       "      <td>5635100</td>\n",
       "      <td>535.869995</td>\n",
       "      <td>540.349976</td>\n",
       "      <td>522.369995</td>\n",
       "      <td>526.450012</td>\n",
       "      <td>517.952515</td>\n",
       "      <td>939800</td>\n",
       "    </tr>\n",
       "    <tr>\n",
       "      <th>2023-01-05</th>\n",
       "      <td>127.129997</td>\n",
       "      <td>127.769997</td>\n",
       "      <td>124.760002</td>\n",
       "      <td>125.019997</td>\n",
       "      <td>124.325089</td>\n",
       "      <td>80962700</td>\n",
       "      <td>88.070000</td>\n",
       "      <td>88.209999</td>\n",
       "      <td>86.559998</td>\n",
       "      <td>86.769997</td>\n",
       "      <td>...</td>\n",
       "      <td>99.660004</td>\n",
       "      <td>100.879997</td>\n",
       "      <td>98.299416</td>\n",
       "      <td>4967200</td>\n",
       "      <td>526.530029</td>\n",
       "      <td>533.710022</td>\n",
       "      <td>522.940002</td>\n",
       "      <td>528.520020</td>\n",
       "      <td>519.989136</td>\n",
       "      <td>766600</td>\n",
       "    </tr>\n",
       "    <tr>\n",
       "      <th>2023-01-06</th>\n",
       "      <td>126.010002</td>\n",
       "      <td>130.289993</td>\n",
       "      <td>124.889999</td>\n",
       "      <td>129.619995</td>\n",
       "      <td>128.899521</td>\n",
       "      <td>87754700</td>\n",
       "      <td>87.360001</td>\n",
       "      <td>88.470001</td>\n",
       "      <td>85.570000</td>\n",
       "      <td>88.160004</td>\n",
       "      <td>...</td>\n",
       "      <td>101.300003</td>\n",
       "      <td>102.459999</td>\n",
       "      <td>99.839005</td>\n",
       "      <td>6411700</td>\n",
       "      <td>529.809998</td>\n",
       "      <td>540.849976</td>\n",
       "      <td>505.049988</td>\n",
       "      <td>521.419983</td>\n",
       "      <td>513.003662</td>\n",
       "      <td>1084600</td>\n",
       "    </tr>\n",
       "    <tr>\n",
       "      <th>2023-01-09</th>\n",
       "      <td>130.470001</td>\n",
       "      <td>133.410004</td>\n",
       "      <td>129.889999</td>\n",
       "      <td>130.149994</td>\n",
       "      <td>129.426559</td>\n",
       "      <td>70790800</td>\n",
       "      <td>89.195000</td>\n",
       "      <td>90.830002</td>\n",
       "      <td>88.580002</td>\n",
       "      <td>88.800003</td>\n",
       "      <td>...</td>\n",
       "      <td>98.779999</td>\n",
       "      <td>99.599998</td>\n",
       "      <td>97.052162</td>\n",
       "      <td>6377300</td>\n",
       "      <td>518.030029</td>\n",
       "      <td>518.030029</td>\n",
       "      <td>488.119995</td>\n",
       "      <td>495.410004</td>\n",
       "      <td>487.413574</td>\n",
       "      <td>1853000</td>\n",
       "    </tr>\n",
       "  </tbody>\n",
       "</table>\n",
       "<p>5 rows × 102 columns</p>\n",
       "</div>"
      ],
      "text/plain": [
       "                  Open        High         Low       Close   Adj Close  \\\n",
       "Date                                                                     \n",
       "2023-01-03  130.279999  130.899994  124.169998  125.070000  124.374802   \n",
       "2023-01-04  126.889999  128.660004  125.080002  126.360001  125.657639   \n",
       "2023-01-05  127.129997  127.769997  124.760002  125.019997  124.325089   \n",
       "2023-01-06  126.010002  130.289993  124.889999  129.619995  128.899521   \n",
       "2023-01-09  130.470001  133.410004  129.889999  130.149994  129.426559   \n",
       "\n",
       "               Volume       Open       High        Low      Close  ...  \\\n",
       "Date                                                               ...   \n",
       "2023-01-03  112117500  89.830002  91.550003  89.019997  89.699997  ...   \n",
       "2023-01-04   89113600  91.010002  91.239998  87.800003  88.709999  ...   \n",
       "2023-01-05   80962700  88.070000  88.209999  86.559998  86.769997  ...   \n",
       "2023-01-06   87754700  87.360001  88.470001  85.570000  88.160004  ...   \n",
       "2023-01-09   70790800  89.195000  90.830002  88.580002  88.800003  ...   \n",
       "\n",
       "                   Low       Close  Adj Close   Volume        Open  \\\n",
       "Date                                                                 \n",
       "2023-01-03  100.099998  100.809998  98.231209  3532300  544.919983   \n",
       "2023-01-04  100.410004  100.839996  98.260445  5635100  535.869995   \n",
       "2023-01-05   99.660004  100.879997  98.299416  4967200  526.530029   \n",
       "2023-01-06  101.300003  102.459999  99.839005  6411700  529.809998   \n",
       "2023-01-09   98.779999   99.599998  97.052162  6377300  518.030029   \n",
       "\n",
       "                  High         Low       Close   Adj Close   Volume  \n",
       "Date                                                                 \n",
       "2023-01-03  547.799988  537.900024  540.330017  531.608521   615200  \n",
       "2023-01-04  540.349976  522.369995  526.450012  517.952515   939800  \n",
       "2023-01-05  533.710022  522.940002  528.520020  519.989136   766600  \n",
       "2023-01-06  540.849976  505.049988  521.419983  513.003662  1084600  \n",
       "2023-01-09  518.030029  488.119995  495.410004  487.413574  1853000  \n",
       "\n",
       "[5 rows x 102 columns]"
      ]
     },
     "execution_count": 33,
     "metadata": {},
     "output_type": "execute_result"
    }
   ],
   "source": [
    "# Combine all stocks into a single Dataframe \n",
    "custom_portfolio_df = pd.concat([data_AAPL,data_GOOG,data_JNJ,data_PFE,data_UNH,data_JPM,data_BAC,data_V,data_AMZN,data_NKE,data_DIS,data_XOM,data_FSLR,data_NEE,data_LMT,data_RTX,data_NOC], axis=\"columns\", join=\"inner\")\n",
    "custom_portfolio_df.head()"
   ]
  },
  {
   "cell_type": "code",
   "execution_count": null,
   "id": "5ad1cadd",
   "metadata": {},
   "outputs": [],
   "source": []
  }
 ],
 "metadata": {
  "kernelspec": {
   "display_name": "Python 3 (ipykernel)",
   "language": "python",
   "name": "python3"
  },
  "language_info": {
   "codemirror_mode": {
    "name": "ipython",
    "version": 3
   },
   "file_extension": ".py",
   "mimetype": "text/x-python",
   "name": "python",
   "nbconvert_exporter": "python",
   "pygments_lexer": "ipython3",
   "version": "3.9.18"
  }
 },
 "nbformat": 4,
 "nbformat_minor": 5
}
